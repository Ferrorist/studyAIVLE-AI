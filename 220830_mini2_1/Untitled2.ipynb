{
 "cells": [
  {
   "cell_type": "code",
   "execution_count": 1,
   "id": "2fe60150",
   "metadata": {},
   "outputs": [],
   "source": [
    "#라이브러리 불러오기\n",
    "import numpy as np\n",
    "import pandas as pd\n",
    "import matplotlib.pyplot as plt\n",
    "import seaborn as sns\n",
    "import scipy.stats as spst\n",
    "import statsmodels.api as sm\n",
    "\n",
    "import warnings\n",
    "warnings.filterwarnings(action='ignore')\n",
    "\n",
    "from sklearn.model_selection import train_test_split\n",
    "from sklearn.preprocessing import * # scaler\n",
    "\n",
    "from sklearn.linear_model import LinearRegression\n",
    "from sklearn.neighbors import KNeighborsRegressor\n",
    "from sklearn.linear_model import LogisticRegression\n",
    "from sklearn.tree import DecisionTreeClassifier, plot_tree\n",
    "from sklearn.neighbors import KNeighborsClassifier\n",
    "from sklearn.svm import SVC\n",
    "from sklearn.metrics import * \n",
    "from sklearn.model_selection import RandomizedSearchCV, GridSearchCV\n",
    "from sklearn.tree import plot_tree\n",
    "from sklearn.ensemble import RandomForestClassifier\n",
    "from xgboost import XGBClassifier, plot_tree\n",
    "\n",
    "import joblib"
   ]
  },
  {
   "cell_type": "code",
   "execution_count": 7,
   "id": "f3e1d2a7",
   "metadata": {},
   "outputs": [],
   "source": [
    "def make_result(model, data, name):\n",
    "    pred = model.predict(data)\n",
    "    pred_df = pd.DataFrame(pred).replace({0:-1}, inplace=True)\n",
    "    print(pred)\n",
    "    result = pd.DataFrame({'id' : range(2441), 'expected': list(pred)})\n",
    "    result.to_csv(name, index=False)"
   ]
  },
  {
   "cell_type": "code",
   "execution_count": 3,
   "id": "f8455f5c",
   "metadata": {},
   "outputs": [],
   "source": [
    "data = pd.read_csv('test_dataset_v01.csv')"
   ]
  },
  {
   "cell_type": "code",
   "execution_count": 8,
   "id": "7b7870f4",
   "metadata": {},
   "outputs": [],
   "source": [
    "# 결측치 처리 2가지\n",
    "data2 = data.interpolate(method='linear')\n",
    "data3 = data.fillna(data.median())"
   ]
  },
  {
   "cell_type": "code",
   "execution_count": 20,
   "id": "72063b53",
   "metadata": {},
   "outputs": [],
   "source": [
    "model = joblib.load('./XGB_model.pkl') # (x, 13)\n",
    "model2 = joblib.load('./XGB_model2.pkl') # (x, 21)\n",
    "model3 = joblib.load('./RF_model.pkl') # (x, 7)\n",
    "model4 = joblib.load('./XGB_model3.pkl') # (x, 7)"
   ]
  },
  {
   "cell_type": "code",
   "execution_count": 30,
   "id": "5f846dad",
   "metadata": {},
   "outputs": [],
   "source": [
    "col = ['Unnamed: 0',\n",
    "    'url_len',\n",
    " 'url_query_len',\n",
    " 'url_num_query_para',\n",
    "'url_chinese_present',\n",
    "       'url_port',\n",
    "       \"html_num_tags('applet')\",\n",
    " 'url_entropy',\n",
    " \"html_num_tags('iframe')\",\n",
    " \"html_num_tags('head')\",\n",
    " \"html_num_tags('body')\"] # 해당 col 제거 (x, 13)\n",
    "\n",
    "col2 = ['Unnamed: 0', 'url_chinese_present',  \"html_num_tags('applet')\"] # 해당 col 제거 (x, 21)\n",
    "col3 = ['url_hostname_len','url_path_len','url_query_len',\n",
    "        \"html_num_tags('a')\",\"html_num_tags('body')\",\"html_num_tags('form')\",'url_num_underscores']\n",
    "# 해당 col만 사용. (x, 7)\n",
    "col4 = ['Unnamed: 0',\n",
    "    'url_len',\n",
    " 'url_query_len',\n",
    " 'url_num_query_para',\n",
    " 'url_entropy',\n",
    " \"html_num_tags('iframe')\",\n",
    " \"html_num_tags('head')\",\n",
    " \"html_num_tags('body')\",\n",
    "\"html_num_tags('applet')\",\n",
    "'url_chinese_present',\n",
    "       ]\n"
   ]
  },
  {
   "cell_type": "code",
   "execution_count": 36,
   "id": "a34925a8",
   "metadata": {},
   "outputs": [],
   "source": [
    "test1 = data3.drop(col, axis=1)\n",
    "test2 = data3.drop(col2, axis=1)\n",
    "test3 = data3.loc[:, col3]\n",
    "test4 = data3.drop(col4, axis=1)\n",
    "test4_2 = data2.drop(col4, axis=1)"
   ]
  },
  {
   "cell_type": "code",
   "execution_count": 32,
   "id": "79f2003e",
   "metadata": {},
   "outputs": [
    {
     "data": {
      "text/html": [
       "<div>\n",
       "<style scoped>\n",
       "    .dataframe tbody tr th:only-of-type {\n",
       "        vertical-align: middle;\n",
       "    }\n",
       "\n",
       "    .dataframe tbody tr th {\n",
       "        vertical-align: top;\n",
       "    }\n",
       "\n",
       "    .dataframe thead th {\n",
       "        text-align: right;\n",
       "    }\n",
       "</style>\n",
       "<table border=\"1\" class=\"dataframe\">\n",
       "  <thead>\n",
       "    <tr style=\"text-align: right;\">\n",
       "      <th></th>\n",
       "      <th>url_num_hyphens_dom</th>\n",
       "      <th>url_path_len</th>\n",
       "      <th>url_domain_len</th>\n",
       "      <th>url_hostname_len</th>\n",
       "      <th>url_num_dots</th>\n",
       "      <th>url_num_underscores</th>\n",
       "      <th>url_ip_present</th>\n",
       "      <th>url_port</th>\n",
       "      <th>html_num_tags('script')</th>\n",
       "      <th>html_num_tags('embed')</th>\n",
       "      <th>html_num_tags('object')</th>\n",
       "      <th>html_num_tags('div')</th>\n",
       "      <th>html_num_tags('form')</th>\n",
       "      <th>html_num_tags('a')</th>\n",
       "    </tr>\n",
       "  </thead>\n",
       "  <tbody>\n",
       "    <tr>\n",
       "      <th>0</th>\n",
       "      <td>0</td>\n",
       "      <td>80.0</td>\n",
       "      <td>17.0</td>\n",
       "      <td>17.0</td>\n",
       "      <td>4</td>\n",
       "      <td>0</td>\n",
       "      <td>0</td>\n",
       "      <td>0</td>\n",
       "      <td>5.0</td>\n",
       "      <td>0</td>\n",
       "      <td>0</td>\n",
       "      <td>12</td>\n",
       "      <td>1.0</td>\n",
       "      <td>3.0</td>\n",
       "    </tr>\n",
       "    <tr>\n",
       "      <th>1</th>\n",
       "      <td>0</td>\n",
       "      <td>22.0</td>\n",
       "      <td>15.0</td>\n",
       "      <td>15.0</td>\n",
       "      <td>3</td>\n",
       "      <td>1</td>\n",
       "      <td>0</td>\n",
       "      <td>0</td>\n",
       "      <td>4.0</td>\n",
       "      <td>0</td>\n",
       "      <td>0</td>\n",
       "      <td>158</td>\n",
       "      <td>1.0</td>\n",
       "      <td>15.5</td>\n",
       "    </tr>\n",
       "    <tr>\n",
       "      <th>2</th>\n",
       "      <td>0</td>\n",
       "      <td>12.0</td>\n",
       "      <td>20.0</td>\n",
       "      <td>20.0</td>\n",
       "      <td>3</td>\n",
       "      <td>3</td>\n",
       "      <td>0</td>\n",
       "      <td>0</td>\n",
       "      <td>6.0</td>\n",
       "      <td>3</td>\n",
       "      <td>3</td>\n",
       "      <td>34</td>\n",
       "      <td>0.0</td>\n",
       "      <td>136.0</td>\n",
       "    </tr>\n",
       "    <tr>\n",
       "      <th>3</th>\n",
       "      <td>0</td>\n",
       "      <td>14.0</td>\n",
       "      <td>26.0</td>\n",
       "      <td>26.0</td>\n",
       "      <td>2</td>\n",
       "      <td>0</td>\n",
       "      <td>0</td>\n",
       "      <td>0</td>\n",
       "      <td>4.0</td>\n",
       "      <td>0</td>\n",
       "      <td>0</td>\n",
       "      <td>29</td>\n",
       "      <td>1.0</td>\n",
       "      <td>2.0</td>\n",
       "    </tr>\n",
       "    <tr>\n",
       "      <th>4</th>\n",
       "      <td>2</td>\n",
       "      <td>12.0</td>\n",
       "      <td>26.0</td>\n",
       "      <td>26.0</td>\n",
       "      <td>2</td>\n",
       "      <td>0</td>\n",
       "      <td>0</td>\n",
       "      <td>0</td>\n",
       "      <td>4.0</td>\n",
       "      <td>0</td>\n",
       "      <td>0</td>\n",
       "      <td>41</td>\n",
       "      <td>1.0</td>\n",
       "      <td>15.5</td>\n",
       "    </tr>\n",
       "  </tbody>\n",
       "</table>\n",
       "</div>"
      ],
      "text/plain": [
       "   url_num_hyphens_dom  url_path_len  url_domain_len  url_hostname_len  \\\n",
       "0                    0          80.0            17.0              17.0   \n",
       "1                    0          22.0            15.0              15.0   \n",
       "2                    0          12.0            20.0              20.0   \n",
       "3                    0          14.0            26.0              26.0   \n",
       "4                    2          12.0            26.0              26.0   \n",
       "\n",
       "   url_num_dots  url_num_underscores  url_ip_present  url_port  \\\n",
       "0             4                    0               0         0   \n",
       "1             3                    1               0         0   \n",
       "2             3                    3               0         0   \n",
       "3             2                    0               0         0   \n",
       "4             2                    0               0         0   \n",
       "\n",
       "   html_num_tags('script')  html_num_tags('embed')  html_num_tags('object')  \\\n",
       "0                      5.0                       0                        0   \n",
       "1                      4.0                       0                        0   \n",
       "2                      6.0                       3                        3   \n",
       "3                      4.0                       0                        0   \n",
       "4                      4.0                       0                        0   \n",
       "\n",
       "   html_num_tags('div')  html_num_tags('form')  html_num_tags('a')  \n",
       "0                    12                    1.0                 3.0  \n",
       "1                   158                    1.0                15.5  \n",
       "2                    34                    0.0               136.0  \n",
       "3                    29                    1.0                 2.0  \n",
       "4                    41                    1.0                15.5  "
      ]
     },
     "execution_count": 32,
     "metadata": {},
     "output_type": "execute_result"
    }
   ],
   "source": [
    "test4.head()"
   ]
  },
  {
   "cell_type": "code",
   "execution_count": 33,
   "id": "565d955c",
   "metadata": {},
   "outputs": [
    {
     "data": {
      "text/plain": [
       "(2441, 14)"
      ]
     },
     "execution_count": 33,
     "metadata": {},
     "output_type": "execute_result"
    }
   ],
   "source": [
    "test4.shape"
   ]
  },
  {
   "cell_type": "code",
   "execution_count": 34,
   "id": "42bfcf91",
   "metadata": {},
   "outputs": [],
   "source": [
    "model5_1 = joblib.load('./XGB_model4_1.pkl')\n",
    "model5_2 = joblib.load('./XGB_model4_2.pkl')"
   ]
  },
  {
   "cell_type": "code",
   "execution_count": 35,
   "id": "c170dbfc",
   "metadata": {},
   "outputs": [
    {
     "name": "stdout",
     "output_type": "stream",
     "text": [
      "[ 1 -1  1 ... -1 -1 -1]\n",
      "[ 1 -1  1 ... -1 -1 -1]\n"
     ]
    }
   ],
   "source": [
    "make_result(model5_1, test4, 'result_51.csv')\n",
    "make_result(model5_2, test4, 'result_52.csv')"
   ]
  },
  {
   "cell_type": "code",
   "execution_count": 37,
   "id": "226743b5",
   "metadata": {},
   "outputs": [
    {
     "name": "stdout",
     "output_type": "stream",
     "text": [
      "[ 1  1  1 ... -1 -1 -1]\n",
      "[ 1  1  1 ... -1 -1 -1]\n"
     ]
    }
   ],
   "source": [
    "make_result(model5_1, test4_2, 'result_51_2.csv')\n",
    "make_result(model5_2, test4_2, 'result_52_2.csv')"
   ]
  }
 ],
 "metadata": {
  "kernelspec": {
   "display_name": "Python 3 (ipykernel)",
   "language": "python",
   "name": "python3"
  },
  "language_info": {
   "codemirror_mode": {
    "name": "ipython",
    "version": 3
   },
   "file_extension": ".py",
   "mimetype": "text/x-python",
   "name": "python",
   "nbconvert_exporter": "python",
   "pygments_lexer": "ipython3",
   "version": "3.9.12"
  }
 },
 "nbformat": 4,
 "nbformat_minor": 5
}
