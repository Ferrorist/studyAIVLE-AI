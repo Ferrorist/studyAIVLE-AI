{
 "cells": [
  {
   "cell_type": "markdown",
   "metadata": {},
   "source": [
    "## <b> [3단계] AI 모델링\n",
    "---\n",
    "\n",
    "## 1, 2 단계에서 진행하신 내용을 아래에 그대로 진행해주세요.\n",
    "\n",
    "---"
   ]
  },
  {
   "cell_type": "markdown",
   "metadata": {},
   "source": [
    "# <b>Step 0. 라이브러리 import 및 데이터 불러오기\n",
    "### **가. 라이브러리 import**"
   ]
  },
  {
   "cell_type": "code",
   "execution_count": 155,
   "metadata": {},
   "outputs": [],
   "source": [
    "#Tensorflow 설치하기\n",
    "# %pip install tensorflow"
   ]
  },
  {
   "cell_type": "markdown",
   "metadata": {},
   "source": [
    "* 데이터 프레임 관련 라이브러리"
   ]
  },
  {
   "cell_type": "code",
   "execution_count": 156,
   "metadata": {},
   "outputs": [],
   "source": [
    "#라이브러리 불러오기\n",
    "import numpy as np\n",
    "import pandas as pd\n",
    "import matplotlib.pyplot as plt\n",
    "import seaborn as sns\n",
    "import scipy.stats as spst\n",
    "import statsmodels.api as sm\n",
    "\n",
    "import warnings\n",
    "warnings.filterwarnings(action='ignore')\n",
    "\n",
    "from sklearn.model_selection import train_test_split\n",
    "from sklearn.preprocessing import * # scaler\n",
    "import joblib"
   ]
  },
  {
   "cell_type": "markdown",
   "metadata": {},
   "source": [
    "### **나.  학습데이터 불러오기**"
   ]
  },
  {
   "cell_type": "code",
   "execution_count": 157,
   "metadata": {},
   "outputs": [],
   "source": [
    "from sklearn.linear_model import LinearRegression\n",
    "from sklearn.neighbors import KNeighborsRegressor\n",
    "from sklearn.linear_model import LogisticRegression\n",
    "from sklearn.tree import DecisionTreeClassifier, plot_tree\n",
    "from sklearn.neighbors import KNeighborsClassifier\n",
    "from sklearn.svm import SVC\n",
    "from sklearn.metrics import * \n",
    "from sklearn.model_selection import RandomizedSearchCV, GridSearchCV\n",
    "from sklearn.tree import plot_tree\n",
    "from sklearn.ensemble import RandomForestClassifier\n",
    "from xgboost import XGBClassifier, plot_tree"
   ]
  },
  {
   "cell_type": "code",
   "execution_count": 158,
   "metadata": {},
   "outputs": [],
   "source": [
    "def plot_feature_importance(importance, names):\n",
    "    feature_importance = np.array(importance)\n",
    "    feature_names = np.array(names)\n",
    "\n",
    "    data={'feature_names':feature_names,'feature_importance':feature_importance}\n",
    "    fi_df = pd.DataFrame(data)\n",
    "\n",
    "    fi_df.sort_values(by=['feature_importance'], ascending=False,inplace=True)\n",
    "    fi_df.reset_index(drop=True, inplace = True)\n",
    "\n",
    "    plt.figure(figsize=(10,8))\n",
    "    sns.barplot(x='feature_importance', y='feature_names', data = fi_df)\n",
    "\n",
    "    plt.xlabel('FEATURE IMPORTANCE')\n",
    "    plt.ylabel('FEATURE NAMES')\n",
    "    plt.grid()\n",
    "\n",
    "    return fi_df"
   ]
  },
  {
   "cell_type": "code",
   "execution_count": 159,
   "metadata": {},
   "outputs": [],
   "source": [
    "data = pd.read_csv('before_my_dataset.csv')"
   ]
  },
  {
   "cell_type": "code",
   "execution_count": 160,
   "metadata": {},
   "outputs": [],
   "source": [
    "data.drop('Unnamed: 0', axis=1, inplace=True)"
   ]
  },
  {
   "cell_type": "code",
   "execution_count": 161,
   "metadata": {},
   "outputs": [
    {
     "data": {
      "text/html": [
       "<div>\n",
       "<style scoped>\n",
       "    .dataframe tbody tr th:only-of-type {\n",
       "        vertical-align: middle;\n",
       "    }\n",
       "\n",
       "    .dataframe tbody tr th {\n",
       "        vertical-align: top;\n",
       "    }\n",
       "\n",
       "    .dataframe thead th {\n",
       "        text-align: right;\n",
       "    }\n",
       "</style>\n",
       "<table border=\"1\" class=\"dataframe\">\n",
       "  <thead>\n",
       "    <tr style=\"text-align: right;\">\n",
       "      <th></th>\n",
       "      <th>url_len</th>\n",
       "      <th>url_num_hyphens_dom</th>\n",
       "      <th>url_path_len</th>\n",
       "      <th>url_domain_len</th>\n",
       "      <th>url_hostname_len</th>\n",
       "      <th>url_num_dots</th>\n",
       "      <th>url_num_underscores</th>\n",
       "      <th>url_query_len</th>\n",
       "      <th>url_num_query_para</th>\n",
       "      <th>url_ip_present</th>\n",
       "      <th>...</th>\n",
       "      <th>html_num_tags('iframe')</th>\n",
       "      <th>html_num_tags('script')</th>\n",
       "      <th>html_num_tags('embed')</th>\n",
       "      <th>html_num_tags('object')</th>\n",
       "      <th>html_num_tags('div')</th>\n",
       "      <th>html_num_tags('head')</th>\n",
       "      <th>html_num_tags('body')</th>\n",
       "      <th>html_num_tags('form')</th>\n",
       "      <th>html_num_tags('a')</th>\n",
       "      <th>Result_v1</th>\n",
       "    </tr>\n",
       "  </thead>\n",
       "  <tbody>\n",
       "    <tr>\n",
       "      <th>0</th>\n",
       "      <td>23.0</td>\n",
       "      <td>0.0</td>\n",
       "      <td>8.0</td>\n",
       "      <td>15.0</td>\n",
       "      <td>15.0</td>\n",
       "      <td>2.0</td>\n",
       "      <td>0.0</td>\n",
       "      <td>0.0</td>\n",
       "      <td>0.0</td>\n",
       "      <td>0.0</td>\n",
       "      <td>...</td>\n",
       "      <td>0.0</td>\n",
       "      <td>7.0</td>\n",
       "      <td>0.0</td>\n",
       "      <td>0.0</td>\n",
       "      <td>0.0</td>\n",
       "      <td>1.0</td>\n",
       "      <td>1.0</td>\n",
       "      <td>0.0</td>\n",
       "      <td>0.0</td>\n",
       "      <td>-1</td>\n",
       "    </tr>\n",
       "    <tr>\n",
       "      <th>1</th>\n",
       "      <td>75.0</td>\n",
       "      <td>0.0</td>\n",
       "      <td>58.0</td>\n",
       "      <td>17.0</td>\n",
       "      <td>17.0</td>\n",
       "      <td>6.0</td>\n",
       "      <td>0.0</td>\n",
       "      <td>0.0</td>\n",
       "      <td>0.0</td>\n",
       "      <td>0.0</td>\n",
       "      <td>...</td>\n",
       "      <td>0.0</td>\n",
       "      <td>18.0</td>\n",
       "      <td>0.0</td>\n",
       "      <td>0.0</td>\n",
       "      <td>20.0</td>\n",
       "      <td>1.0</td>\n",
       "      <td>1.0</td>\n",
       "      <td>0.0</td>\n",
       "      <td>21.0</td>\n",
       "      <td>1</td>\n",
       "    </tr>\n",
       "    <tr>\n",
       "      <th>2</th>\n",
       "      <td>20.0</td>\n",
       "      <td>0.0</td>\n",
       "      <td>4.0</td>\n",
       "      <td>16.0</td>\n",
       "      <td>16.0</td>\n",
       "      <td>2.0</td>\n",
       "      <td>0.0</td>\n",
       "      <td>0.0</td>\n",
       "      <td>0.0</td>\n",
       "      <td>0.0</td>\n",
       "      <td>...</td>\n",
       "      <td>1.0</td>\n",
       "      <td>33.0</td>\n",
       "      <td>0.0</td>\n",
       "      <td>0.0</td>\n",
       "      <td>101.0</td>\n",
       "      <td>1.0</td>\n",
       "      <td>1.0</td>\n",
       "      <td>3.0</td>\n",
       "      <td>70.0</td>\n",
       "      <td>1</td>\n",
       "    </tr>\n",
       "    <tr>\n",
       "      <th>3</th>\n",
       "      <td>27.0</td>\n",
       "      <td>0.0</td>\n",
       "      <td>13.0</td>\n",
       "      <td>14.0</td>\n",
       "      <td>14.0</td>\n",
       "      <td>3.0</td>\n",
       "      <td>0.0</td>\n",
       "      <td>0.0</td>\n",
       "      <td>0.0</td>\n",
       "      <td>0.0</td>\n",
       "      <td>...</td>\n",
       "      <td>0.0</td>\n",
       "      <td>15.0</td>\n",
       "      <td>0.0</td>\n",
       "      <td>0.0</td>\n",
       "      <td>151.0</td>\n",
       "      <td>1.0</td>\n",
       "      <td>1.0</td>\n",
       "      <td>1.0</td>\n",
       "      <td>55.0</td>\n",
       "      <td>1</td>\n",
       "    </tr>\n",
       "    <tr>\n",
       "      <th>4</th>\n",
       "      <td>39.0</td>\n",
       "      <td>2.0</td>\n",
       "      <td>12.0</td>\n",
       "      <td>27.0</td>\n",
       "      <td>27.0</td>\n",
       "      <td>2.0</td>\n",
       "      <td>0.0</td>\n",
       "      <td>0.0</td>\n",
       "      <td>0.0</td>\n",
       "      <td>0.0</td>\n",
       "      <td>...</td>\n",
       "      <td>0.0</td>\n",
       "      <td>10.0</td>\n",
       "      <td>0.0</td>\n",
       "      <td>0.0</td>\n",
       "      <td>332.0</td>\n",
       "      <td>1.0</td>\n",
       "      <td>1.0</td>\n",
       "      <td>0.0</td>\n",
       "      <td>321.0</td>\n",
       "      <td>1</td>\n",
       "    </tr>\n",
       "  </tbody>\n",
       "</table>\n",
       "<p>5 rows × 22 columns</p>\n",
       "</div>"
      ],
      "text/plain": [
       "   url_len  url_num_hyphens_dom  url_path_len  url_domain_len  \\\n",
       "0     23.0                  0.0           8.0            15.0   \n",
       "1     75.0                  0.0          58.0            17.0   \n",
       "2     20.0                  0.0           4.0            16.0   \n",
       "3     27.0                  0.0          13.0            14.0   \n",
       "4     39.0                  2.0          12.0            27.0   \n",
       "\n",
       "   url_hostname_len  url_num_dots  url_num_underscores  url_query_len  \\\n",
       "0              15.0           2.0                  0.0            0.0   \n",
       "1              17.0           6.0                  0.0            0.0   \n",
       "2              16.0           2.0                  0.0            0.0   \n",
       "3              14.0           3.0                  0.0            0.0   \n",
       "4              27.0           2.0                  0.0            0.0   \n",
       "\n",
       "   url_num_query_para  url_ip_present  ...  html_num_tags('iframe')  \\\n",
       "0                 0.0             0.0  ...                      0.0   \n",
       "1                 0.0             0.0  ...                      0.0   \n",
       "2                 0.0             0.0  ...                      1.0   \n",
       "3                 0.0             0.0  ...                      0.0   \n",
       "4                 0.0             0.0  ...                      0.0   \n",
       "\n",
       "   html_num_tags('script')  html_num_tags('embed')  html_num_tags('object')  \\\n",
       "0                      7.0                     0.0                      0.0   \n",
       "1                     18.0                     0.0                      0.0   \n",
       "2                     33.0                     0.0                      0.0   \n",
       "3                     15.0                     0.0                      0.0   \n",
       "4                     10.0                     0.0                      0.0   \n",
       "\n",
       "   html_num_tags('div')  html_num_tags('head')  html_num_tags('body')  \\\n",
       "0                   0.0                    1.0                    1.0   \n",
       "1                  20.0                    1.0                    1.0   \n",
       "2                 101.0                    1.0                    1.0   \n",
       "3                 151.0                    1.0                    1.0   \n",
       "4                 332.0                    1.0                    1.0   \n",
       "\n",
       "   html_num_tags('form')  html_num_tags('a')  Result_v1  \n",
       "0                    0.0                 0.0         -1  \n",
       "1                    0.0                21.0          1  \n",
       "2                    3.0                70.0          1  \n",
       "3                    1.0                55.0          1  \n",
       "4                    0.0               321.0          1  \n",
       "\n",
       "[5 rows x 22 columns]"
      ]
     },
     "execution_count": 161,
     "metadata": {},
     "output_type": "execute_result"
    }
   ],
   "source": [
    "data.head()"
   ]
  },
  {
   "cell_type": "code",
   "execution_count": 162,
   "metadata": {},
   "outputs": [
    {
     "data": {
      "text/plain": [
       "(3231, 22)"
      ]
     },
     "execution_count": 162,
     "metadata": {},
     "output_type": "execute_result"
    }
   ],
   "source": [
    "data.shape"
   ]
  },
  {
   "cell_type": "markdown",
   "metadata": {},
   "source": [
    "### **다.  데이터 전처리**"
   ]
  },
  {
   "cell_type": "code",
   "execution_count": 163,
   "metadata": {},
   "outputs": [],
   "source": [
    "target = 'Result_v1'\n",
    "x = data.drop(target, axis=1)\n",
    "y = data.loc[:, target]"
   ]
  },
  {
   "cell_type": "markdown",
   "metadata": {},
   "source": [
    "### **라. train_test_split을 이용하여 train/test  데이터 분리**\n",
    "\n"
   ]
  },
  {
   "cell_type": "code",
   "execution_count": 164,
   "metadata": {},
   "outputs": [],
   "source": [
    "x_train, x_val, y_train, y_val = train_test_split(x, y, test_size=.25)"
   ]
  },
  {
   "cell_type": "code",
   "execution_count": 165,
   "metadata": {},
   "outputs": [],
   "source": [
    "# train_test_split 사용"
   ]
  },
  {
   "cell_type": "code",
   "execution_count": 166,
   "metadata": {},
   "outputs": [],
   "source": [
    "Scaler = MinMaxScaler()\n",
    "x_train_s = Scaler.fit_transform(x_train)\n",
    "x_val_s = Scaler.transform(x_val)"
   ]
  },
  {
   "cell_type": "code",
   "execution_count": 167,
   "metadata": {
    "scrolled": true
   },
   "outputs": [
    {
     "data": {
      "text/html": [
       "<div>\n",
       "<style scoped>\n",
       "    .dataframe tbody tr th:only-of-type {\n",
       "        vertical-align: middle;\n",
       "    }\n",
       "\n",
       "    .dataframe tbody tr th {\n",
       "        vertical-align: top;\n",
       "    }\n",
       "\n",
       "    .dataframe thead th {\n",
       "        text-align: right;\n",
       "    }\n",
       "</style>\n",
       "<table border=\"1\" class=\"dataframe\">\n",
       "  <thead>\n",
       "    <tr style=\"text-align: right;\">\n",
       "      <th></th>\n",
       "      <th>url_len</th>\n",
       "      <th>url_num_hyphens_dom</th>\n",
       "      <th>url_path_len</th>\n",
       "      <th>url_domain_len</th>\n",
       "      <th>url_hostname_len</th>\n",
       "      <th>url_num_dots</th>\n",
       "      <th>url_num_underscores</th>\n",
       "      <th>url_query_len</th>\n",
       "      <th>url_num_query_para</th>\n",
       "      <th>url_ip_present</th>\n",
       "      <th>...</th>\n",
       "      <th>url_port</th>\n",
       "      <th>html_num_tags('iframe')</th>\n",
       "      <th>html_num_tags('script')</th>\n",
       "      <th>html_num_tags('embed')</th>\n",
       "      <th>html_num_tags('object')</th>\n",
       "      <th>html_num_tags('div')</th>\n",
       "      <th>html_num_tags('head')</th>\n",
       "      <th>html_num_tags('body')</th>\n",
       "      <th>html_num_tags('form')</th>\n",
       "      <th>html_num_tags('a')</th>\n",
       "    </tr>\n",
       "  </thead>\n",
       "  <tbody>\n",
       "    <tr>\n",
       "      <th>2179</th>\n",
       "      <td>80.0</td>\n",
       "      <td>0.0</td>\n",
       "      <td>64.0</td>\n",
       "      <td>16.0</td>\n",
       "      <td>16.0</td>\n",
       "      <td>4.0</td>\n",
       "      <td>3.0</td>\n",
       "      <td>0.0</td>\n",
       "      <td>0.0</td>\n",
       "      <td>0.0</td>\n",
       "      <td>...</td>\n",
       "      <td>0.0</td>\n",
       "      <td>0.0</td>\n",
       "      <td>0.0</td>\n",
       "      <td>0.0</td>\n",
       "      <td>0.0</td>\n",
       "      <td>4.0</td>\n",
       "      <td>1.0</td>\n",
       "      <td>1.0</td>\n",
       "      <td>0.0</td>\n",
       "      <td>3.0</td>\n",
       "    </tr>\n",
       "    <tr>\n",
       "      <th>114</th>\n",
       "      <td>19.0</td>\n",
       "      <td>0.0</td>\n",
       "      <td>0.0</td>\n",
       "      <td>19.0</td>\n",
       "      <td>19.0</td>\n",
       "      <td>2.0</td>\n",
       "      <td>0.0</td>\n",
       "      <td>0.0</td>\n",
       "      <td>0.0</td>\n",
       "      <td>0.0</td>\n",
       "      <td>...</td>\n",
       "      <td>0.0</td>\n",
       "      <td>0.0</td>\n",
       "      <td>4.0</td>\n",
       "      <td>0.0</td>\n",
       "      <td>0.0</td>\n",
       "      <td>183.0</td>\n",
       "      <td>1.0</td>\n",
       "      <td>1.0</td>\n",
       "      <td>1.0</td>\n",
       "      <td>564.0</td>\n",
       "    </tr>\n",
       "    <tr>\n",
       "      <th>1020</th>\n",
       "      <td>429.0</td>\n",
       "      <td>0.0</td>\n",
       "      <td>418.0</td>\n",
       "      <td>11.0</td>\n",
       "      <td>11.0</td>\n",
       "      <td>8.0</td>\n",
       "      <td>3.0</td>\n",
       "      <td>0.0</td>\n",
       "      <td>0.0</td>\n",
       "      <td>0.0</td>\n",
       "      <td>...</td>\n",
       "      <td>0.0</td>\n",
       "      <td>0.0</td>\n",
       "      <td>1.0</td>\n",
       "      <td>0.0</td>\n",
       "      <td>0.0</td>\n",
       "      <td>0.0</td>\n",
       "      <td>1.0</td>\n",
       "      <td>1.0</td>\n",
       "      <td>0.0</td>\n",
       "      <td>0.0</td>\n",
       "    </tr>\n",
       "    <tr>\n",
       "      <th>601</th>\n",
       "      <td>62.0</td>\n",
       "      <td>2.0</td>\n",
       "      <td>20.0</td>\n",
       "      <td>42.0</td>\n",
       "      <td>42.0</td>\n",
       "      <td>2.0</td>\n",
       "      <td>1.0</td>\n",
       "      <td>0.0</td>\n",
       "      <td>0.0</td>\n",
       "      <td>0.0</td>\n",
       "      <td>...</td>\n",
       "      <td>0.0</td>\n",
       "      <td>1.0</td>\n",
       "      <td>3.0</td>\n",
       "      <td>0.0</td>\n",
       "      <td>0.0</td>\n",
       "      <td>5.0</td>\n",
       "      <td>1.0</td>\n",
       "      <td>1.0</td>\n",
       "      <td>0.0</td>\n",
       "      <td>0.0</td>\n",
       "    </tr>\n",
       "    <tr>\n",
       "      <th>2890</th>\n",
       "      <td>17.0</td>\n",
       "      <td>0.0</td>\n",
       "      <td>0.0</td>\n",
       "      <td>17.0</td>\n",
       "      <td>17.0</td>\n",
       "      <td>2.0</td>\n",
       "      <td>0.0</td>\n",
       "      <td>0.0</td>\n",
       "      <td>0.0</td>\n",
       "      <td>0.0</td>\n",
       "      <td>...</td>\n",
       "      <td>0.0</td>\n",
       "      <td>0.0</td>\n",
       "      <td>0.0</td>\n",
       "      <td>0.0</td>\n",
       "      <td>0.0</td>\n",
       "      <td>2.0</td>\n",
       "      <td>1.0</td>\n",
       "      <td>1.0</td>\n",
       "      <td>0.0</td>\n",
       "      <td>0.0</td>\n",
       "    </tr>\n",
       "  </tbody>\n",
       "</table>\n",
       "<p>5 rows × 21 columns</p>\n",
       "</div>"
      ],
      "text/plain": [
       "      url_len  url_num_hyphens_dom  url_path_len  url_domain_len  \\\n",
       "2179     80.0                  0.0          64.0            16.0   \n",
       "114      19.0                  0.0           0.0            19.0   \n",
       "1020    429.0                  0.0         418.0            11.0   \n",
       "601      62.0                  2.0          20.0            42.0   \n",
       "2890     17.0                  0.0           0.0            17.0   \n",
       "\n",
       "      url_hostname_len  url_num_dots  url_num_underscores  url_query_len  \\\n",
       "2179              16.0           4.0                  3.0            0.0   \n",
       "114               19.0           2.0                  0.0            0.0   \n",
       "1020              11.0           8.0                  3.0            0.0   \n",
       "601               42.0           2.0                  1.0            0.0   \n",
       "2890              17.0           2.0                  0.0            0.0   \n",
       "\n",
       "      url_num_query_para  url_ip_present  ...  url_port  \\\n",
       "2179                 0.0             0.0  ...       0.0   \n",
       "114                  0.0             0.0  ...       0.0   \n",
       "1020                 0.0             0.0  ...       0.0   \n",
       "601                  0.0             0.0  ...       0.0   \n",
       "2890                 0.0             0.0  ...       0.0   \n",
       "\n",
       "      html_num_tags('iframe')  html_num_tags('script')  \\\n",
       "2179                      0.0                      0.0   \n",
       "114                       0.0                      4.0   \n",
       "1020                      0.0                      1.0   \n",
       "601                       1.0                      3.0   \n",
       "2890                      0.0                      0.0   \n",
       "\n",
       "      html_num_tags('embed')  html_num_tags('object')  html_num_tags('div')  \\\n",
       "2179                     0.0                      0.0                   4.0   \n",
       "114                      0.0                      0.0                 183.0   \n",
       "1020                     0.0                      0.0                   0.0   \n",
       "601                      0.0                      0.0                   5.0   \n",
       "2890                     0.0                      0.0                   2.0   \n",
       "\n",
       "      html_num_tags('head')  html_num_tags('body')  html_num_tags('form')  \\\n",
       "2179                    1.0                    1.0                    0.0   \n",
       "114                     1.0                    1.0                    1.0   \n",
       "1020                    1.0                    1.0                    0.0   \n",
       "601                     1.0                    1.0                    0.0   \n",
       "2890                    1.0                    1.0                    0.0   \n",
       "\n",
       "      html_num_tags('a')  \n",
       "2179                 3.0  \n",
       "114                564.0  \n",
       "1020                 0.0  \n",
       "601                  0.0  \n",
       "2890                 0.0  \n",
       "\n",
       "[5 rows x 21 columns]"
      ]
     },
     "execution_count": 167,
     "metadata": {},
     "output_type": "execute_result"
    }
   ],
   "source": [
    "x_train.head()"
   ]
  },
  {
   "cell_type": "code",
   "execution_count": 168,
   "metadata": {},
   "outputs": [
    {
     "data": {
      "text/plain": [
       "(2423, 21)"
      ]
     },
     "execution_count": 168,
     "metadata": {},
     "output_type": "execute_result"
    }
   ],
   "source": [
    "x_train.shape"
   ]
  },
  {
   "cell_type": "markdown",
   "metadata": {},
   "source": [
    "### **마. Confusion Matrix 함수 정의**\n"
   ]
  },
  {
   "cell_type": "markdown",
   "metadata": {},
   "source": [
    "#### Confusion Matrix란 Training 을 통한 Prediction 성능을 측정하기 위해 예측 value와 실제 value를 비교하기 위한 표입니다.\n",
    "#### 아래 함수는 이번 과제에서 confusion matrix 결과를 보기 쉽게 표현한 것으로 사용 예를 참고하여 모델 결과 확인에 사용하시기 바랍니다.\n",
    "\n"
   ]
  },
  {
   "cell_type": "markdown",
   "metadata": {},
   "source": [
    "**<span style=\"color:green\">[참고링크] 공식 Document**</span>\n",
    " \n",
    "* confusion matrix(https://scikit-learn.org/stable/modules/generated/sklearn.metrics.confusion_matrix.html)"
   ]
  },
  {
   "cell_type": "code",
   "execution_count": 169,
   "metadata": {},
   "outputs": [],
   "source": [
    "from sklearn.metrics import classification_report as creport\n",
    "from sklearn.metrics import confusion_matrix, accuracy_score, precision_score, recall_score"
   ]
  },
  {
   "cell_type": "code",
   "execution_count": 170,
   "metadata": {},
   "outputs": [],
   "source": [
    "def plot_confusion_matrix(ax, matrix, labels = ['malicious','benign'], title='Confusion matrix', fontsize=9):\n",
    "    ax.set_xticks([x for x in range(len(labels))])\n",
    "    ax.set_yticks([y for y in range(len(labels))])\n",
    "\n",
    "    # Place labels on minor ticks\n",
    "    ax.set_xticks([x + 0.5 for x in range(len(labels))], minor=True)\n",
    "    ax.set_xticklabels(labels, rotation='90', fontsize=fontsize, minor=True)\n",
    "    ax.set_yticks([y + 0.5 for y in range(len(labels))], minor=True)\n",
    "    ax.set_yticklabels(labels[::-1], fontsize=fontsize, minor=True)\n",
    "\n",
    "    # Hide major tick labels\n",
    "    ax.tick_params(which='major', labelbottom='off', labelleft='off')\n",
    "\n",
    "    # Finally, hide minor tick marks\n",
    "    ax.tick_params(which='minor', width=0)\n",
    "\n",
    "    # Plot heat map\n",
    "    proportions = [1. * row / sum(row) for row in matrix]\n",
    "    ax.pcolor(np.array(proportions[::-1]), cmap=plt.cm.Blues)\n",
    "\n",
    "    # Plot counts as text\n",
    "    for row in range(len(matrix)):\n",
    "        for col in range(len(matrix[row])):\n",
    "            confusion = matrix[::-1][row][col]\n",
    "            if confusion != 0:\n",
    "                ax.text(col + 0.5, row + 0.5, int(confusion),\n",
    "                        fontsize=fontsize,\n",
    "                        horizontalalignment='center',\n",
    "                        verticalalignment='center')\n",
    "\n",
    "    # Add finishing touches\n",
    "    ax.grid(True, linestyle=':')\n",
    "    ax.set_title(title, fontsize=fontsize)\n",
    "    ax.set_xlabel('prediction', fontsize=fontsize)\n",
    "    ax.set_ylabel('actual', fontsize=fontsize)\n",
    "\n",
    "    plt.show()"
   ]
  },
  {
   "cell_type": "markdown",
   "metadata": {},
   "source": [
    "### <span style=\"color:blue\">[예시] Confusion Matrix 사용 방법<span>"
   ]
  },
  {
   "cell_type": "markdown",
   "metadata": {},
   "source": [
    "- 샘플\n",
    "#### > confusion = confusion_matrix(test_y, dt_pred)\n",
    "#### > fig, ax = plt.subplots(figsize=(10,3))\n",
    "#### > plot_confusion_matrix(ax, confusion, fontsize=30)\n"
   ]
  },
  {
   "attachments": {
    "2d1c1b93-2db6-45e4-91b4-cee7ea6ef268.png": {
     "image/png": "[encoded data removed]"
    }
   },
   "cell_type": "markdown",
   "metadata": {},
   "source": [
    "![confusion_matrix.png](attachment:2d1c1b93-2db6-45e4-91b4-cee7ea6ef268.png)"
   ]
  },
  {
   "cell_type": "markdown",
   "metadata": {},
   "source": [
    "---"
   ]
  },
  {
   "cell_type": "code",
   "execution_count": 171,
   "metadata": {},
   "outputs": [],
   "source": [
    "# 아래 함수는 로지스틱 회귀를 위한 전진선택법 함수 입니다.\n",
    "import statsmodels.api as sm\n",
    "\n",
    "def forward_stepwise_logistic(x_train, y_train):\n",
    "\n",
    "    # 변수목록, 선택된 변수 목록, 단계별 모델과 AIC 저장소 정의\n",
    "    features = list(x_train)\n",
    "    selected = []\n",
    "    step_df = pd.DataFrame({ 'step':[], 'feature':[],'aic':[]})\n",
    "\n",
    "    # \n",
    "    for s in range(0, len(features)) :\n",
    "        result =  { 'step':[], 'feature':[],'aic':[]}\n",
    "\n",
    "        # 변수 목록에서 변수 한개씩 뽑아서 모델에 추가\n",
    "        for f in features :\n",
    "            vars = selected + [f]\n",
    "            x_tr = x_train[vars]\n",
    "            model = sm.Logit(y_train, x_tr).fit()\n",
    "            result['step'].append(s+1)\n",
    "            result['feature'].append(vars)\n",
    "            result['aic'].append(model.aic)\n",
    "        \n",
    "        # 모델별 aic 집계\n",
    "        temp = pd.DataFrame(result).sort_values('aic').reset_index(drop = True)\n",
    "\n",
    "        # 만약 이전 aic보다 새로운 aic 가 크다면 멈추기\n",
    "        if step_df['aic'].min() < temp['aic'].min() :\n",
    "            break\n",
    "        step_df = pd.concat([step_df, temp], axis = 0).reset_index(drop = True)\n",
    "\n",
    "        # 선택된 변수 제거\n",
    "        v = temp.loc[0,'feature'][s]\n",
    "        features.remove(v)\n",
    "\n",
    "        selected.append(v)\n",
    "    \n",
    "    # 선택된 변수와 step_df 결과 반환\n",
    "    return selected, step_df"
   ]
  },
  {
   "cell_type": "markdown",
   "metadata": {},
   "source": [
    "## <b> Q. AI 분류 모델 만들기\n",
    "\n",
    "* 전처리한 데이터셋을 활용해 악성사이트 여부를 판별하는 AI 분류 모델을 <font color=\"red\">최소 3개 이상 </font>만들어보세요."
   ]
  },
  {
   "cell_type": "code",
   "execution_count": 172,
   "metadata": {},
   "outputs": [],
   "source": [
    "# 1. import\n",
    "\n"
   ]
  },
  {
   "cell_type": "code",
   "execution_count": 173,
   "metadata": {},
   "outputs": [],
   "source": [
    "# 2.선언 \n",
    "model1 = LogisticRegression()"
   ]
  },
  {
   "cell_type": "code",
   "execution_count": 174,
   "metadata": {},
   "outputs": [],
   "source": [
    "params2 = {'max_depth' : range(3,6), 'min_samples_leaf' : range(1, 101, 10)}\n",
    "model2 = GridSearchCV(RandomForestClassifier(), params2, cv=10)"
   ]
  },
  {
   "cell_type": "code",
   "execution_count": 175,
   "metadata": {
    "scrolled": false
   },
   "outputs": [
    {
     "data": {
      "image/png": "[encoded data removed]",
      "text/plain": [
       "<Figure size 864x576 with 1 Axes>"
      ]
     },
     "metadata": {
      "needs_background": "light"
     },
     "output_type": "display_data"
    }
   ],
   "source": [
    "result_train = [] # train set을 가지고 예측한 결과\n",
    "result_val = [] # val set을 가지고 예측한 결과\n",
    "depth = list(range(1,11))\n",
    "\n",
    "for d in depth :\n",
    "    model3 = DecisionTreeClassifier(max_depth = d)\n",
    "    model3.fit(x_train, y_train)\n",
    "    pred_tr, pred_val = model3.predict(x_train), model3.predict(x_val)\n",
    "    result_train.append(accuracy_score(y_train, pred_tr))\n",
    "    result_val.append(accuracy_score(y_val, pred_val))\n",
    "    \n",
    "plt.figure(figsize = (12,8))\n",
    "plt.plot(depth, result_train, label = 'train_acc', marker = 'o')\n",
    "plt.plot(depth, result_val, label = 'val_acc', marker = 'o')\n",
    "\n",
    "plt.xlabel('Complexity')\n",
    "plt.ylabel('Accuracy')\n",
    "plt.legend()\n",
    "plt.grid()\n",
    "plt.show()"
   ]
  },
  {
   "cell_type": "code",
   "execution_count": 176,
   "metadata": {},
   "outputs": [
    {
     "data": {
      "image/png": "[encoded data removed]",
      "text/plain": [
       "<Figure size 864x576 with 1 Axes>"
      ]
     },
     "metadata": {
      "needs_background": "light"
     },
     "output_type": "display_data"
    }
   ],
   "source": [
    "rs_train = []\n",
    "rs_val = []\n",
    "depth = list(range(1,51))\n",
    "\n",
    "for d in depth :\n",
    "    model = KNeighborsClassifier(n_neighbors=d)\n",
    "    model.fit(x_train_s, y_train)\n",
    "    pred_tr, pred_val = model.predict(x_train_s), model.predict(x_val_s)\n",
    "    rs_train.append(accuracy_score(y_train, pred_tr))\n",
    "    rs_val.append(accuracy_score(y_val, pred_val))\n",
    "    \n",
    "plt.figure(figsize = (12,8))\n",
    "plt.plot(depth, rs_train, label = 'train_acc', marker = 'o')\n",
    "plt.plot(depth, rs_val, label = 'val_acc', marker = 'o')\n",
    "\n",
    "plt.xlabel('Complexity')\n",
    "plt.ylabel('Accuracy')\n",
    "plt.legend()\n",
    "plt.grid()\n",
    "plt.show()"
   ]
  },
  {
   "cell_type": "code",
   "execution_count": 177,
   "metadata": {},
   "outputs": [
    {
     "data": {
      "image/png": "[encoded data removed]",
      "text/plain": [
       "<Figure size 864x576 with 1 Axes>"
      ]
     },
     "metadata": {
      "needs_background": "light"
     },
     "output_type": "display_data"
    }
   ],
   "source": [
    "rs_train = []\n",
    "rs_val = []\n",
    "depth = list(range(15,40))\n",
    "y_train.replace({-1:0}, inplace=True)\n",
    "y_val.replace({-1:0}, inplace=True)\n",
    "for d in depth :\n",
    "    model = XGBClassifier(n_estimators = d)\n",
    "    model.fit(x_train, y_train)\n",
    "    pred_tr, pred_val = model.predict(x_train), model.predict(x_val)\n",
    "    rs_train.append(accuracy_score(y_train, pred_tr))\n",
    "    rs_val.append(accuracy_score(y_val, pred_val))\n",
    "    \n",
    "plt.figure(figsize = (12,8))\n",
    "plt.plot(depth, rs_train, label = 'train_acc', marker = 'o')\n",
    "plt.plot(depth, rs_val, label = 'val_acc', marker = 'o')\n",
    "\n",
    "plt.xlabel('Complexity')\n",
    "plt.ylabel('Accuracy')\n",
    "plt.legend()\n",
    "plt.grid()\n",
    "plt.show()\n",
    "\n",
    "y_train.replace({0:-1}, inplace=True)\n",
    "y_val.replace({0:-1}, inplace=True)"
   ]
  },
  {
   "cell_type": "code",
   "execution_count": 178,
   "metadata": {},
   "outputs": [],
   "source": [
    "params3 = {'n_neighbors' : range(17,25)}\n",
    "model3 = GridSearchCV(KNeighborsClassifier(),params3, cv=10)"
   ]
  },
  {
   "cell_type": "code",
   "execution_count": 179,
   "metadata": {},
   "outputs": [],
   "source": [
    "params4 = {'n_estimators' : range(16, 31)}\n",
    "model4 = GridSearchCV(XGBClassifier(), params4, cv=10)"
   ]
  },
  {
   "cell_type": "code",
   "execution_count": 180,
   "metadata": {},
   "outputs": [],
   "source": [
    "params5 = {'max_depth' : range(3, 8)}\n",
    "model5 = GridSearchCV(DecisionTreeClassifier(), params5, cv=10)"
   ]
  },
  {
   "cell_type": "code",
   "execution_count": 181,
   "metadata": {},
   "outputs": [],
   "source": [
    "model4_1 = XGBClassifier(n_estimators = 29)\n",
    "y_train.replace({-1:0}, inplace=True)\n",
    "model4_1.fit(x_train, y_train)\n",
    "pred4_1 = model4_1.predict(x_val)\n",
    "y_train.replace({0:-1}, inplace=True)"
   ]
  },
  {
   "cell_type": "code",
   "execution_count": 182,
   "metadata": {},
   "outputs": [
    {
     "data": {
      "text/plain": [
       "LogisticRegression()"
      ]
     },
     "execution_count": 182,
     "metadata": {},
     "output_type": "execute_result"
    }
   ],
   "source": [
    "# 3. fit(), 학습\n",
    "model1.fit(x_train, y_train)"
   ]
  },
  {
   "cell_type": "code",
   "execution_count": 183,
   "metadata": {
    "scrolled": true
   },
   "outputs": [
    {
     "data": {
      "text/plain": [
       "GridSearchCV(cv=10, estimator=RandomForestClassifier(),\n",
       "             param_grid={'max_depth': range(3, 6),\n",
       "                         'min_samples_leaf': range(1, 121, 5)})"
      ]
     },
     "execution_count": 183,
     "metadata": {},
     "output_type": "execute_result"
    }
   ],
   "source": [
    "# 3. fit(), 학습\n",
    "model2.fit(x_train, y_train)"
   ]
  },
  {
   "cell_type": "code",
   "execution_count": 184,
   "metadata": {},
   "outputs": [
    {
     "data": {
      "text/plain": [
       "GridSearchCV(cv=10, estimator=KNeighborsClassifier(),\n",
       "             param_grid={'n_neighbors': range(17, 25)})"
      ]
     },
     "execution_count": 184,
     "metadata": {},
     "output_type": "execute_result"
    }
   ],
   "source": [
    "model3.fit(x_train_s, y_train)"
   ]
  },
  {
   "cell_type": "code",
   "execution_count": 185,
   "metadata": {},
   "outputs": [],
   "source": [
    "y_train.replace({-1:0}, inplace=True)\n",
    "model4.fit(x_train, y_train)\n",
    "y_train.replace({0:-1}, inplace=True)"
   ]
  },
  {
   "cell_type": "code",
   "execution_count": 186,
   "metadata": {},
   "outputs": [
    {
     "data": {
      "text/plain": [
       "GridSearchCV(cv=10, estimator=DecisionTreeClassifier(),\n",
       "             param_grid={'max_depth': range(3, 8)})"
      ]
     },
     "execution_count": 186,
     "metadata": {},
     "output_type": "execute_result"
    }
   ],
   "source": [
    "model5.fit(x_train, y_train)"
   ]
  },
  {
   "cell_type": "code",
   "execution_count": 187,
   "metadata": {
    "scrolled": true
   },
   "outputs": [
    {
     "name": "stdout",
     "output_type": "stream",
     "text": [
      "{'max_depth': 5, 'min_samples_leaf': 1}\n",
      "0.9248937183280619\n"
     ]
    }
   ],
   "source": [
    "print(model2.best_params_)\n",
    "print(model2.best_score_)"
   ]
  },
  {
   "cell_type": "code",
   "execution_count": 188,
   "metadata": {},
   "outputs": [
    {
     "name": "stdout",
     "output_type": "stream",
     "text": [
      "{'n_neighbors': 17}\n",
      "0.8374043464952556\n"
     ]
    }
   ],
   "source": [
    "print(model3.best_params_)\n",
    "print(model3.best_score_)"
   ]
  },
  {
   "cell_type": "code",
   "execution_count": 189,
   "metadata": {
    "scrolled": true
   },
   "outputs": [
    {
     "name": "stdout",
     "output_type": "stream",
     "text": [
      "{'n_estimators': 30}\n",
      "0.9533653028602522\n"
     ]
    }
   ],
   "source": [
    "print(model4.best_params_)\n",
    "print(model4.best_score_)"
   ]
  },
  {
   "cell_type": "code",
   "execution_count": 190,
   "metadata": {},
   "outputs": [
    {
     "name": "stdout",
     "output_type": "stream",
     "text": [
      "{'max_depth': 7}\n",
      "0.9220062578648438\n"
     ]
    }
   ],
   "source": [
    "print(model5.best_params_)\n",
    "print(model5.best_score_)"
   ]
  },
  {
   "cell_type": "code",
   "execution_count": 191,
   "metadata": {},
   "outputs": [],
   "source": [
    "# 4. predict(), 예측\n",
    "pred1 = model1.predict(x_val)"
   ]
  },
  {
   "cell_type": "code",
   "execution_count": 192,
   "metadata": {},
   "outputs": [],
   "source": [
    "pred2 = model2.predict(x_val)"
   ]
  },
  {
   "cell_type": "code",
   "execution_count": 193,
   "metadata": {},
   "outputs": [],
   "source": [
    "pred3 = model3.predict(x_val_s)"
   ]
  },
  {
   "cell_type": "code",
   "execution_count": 194,
   "metadata": {},
   "outputs": [],
   "source": [
    "pred4 = model4.predict(x_val)"
   ]
  },
  {
   "cell_type": "code",
   "execution_count": 195,
   "metadata": {},
   "outputs": [],
   "source": [
    "pred5 = model5.predict(x_val)"
   ]
  },
  {
   "cell_type": "code",
   "execution_count": 196,
   "metadata": {},
   "outputs": [
    {
     "name": "stdout",
     "output_type": "stream",
     "text": [
      "0.844059405940594\n",
      "0.9170792079207921\n",
      "0.8292079207920792\n",
      "0.9467821782178217\n",
      "0.943069306930693\n",
      "0.9096534653465347\n"
     ]
    }
   ],
   "source": [
    "# train 및 val 데이터 정확도 확인 \n",
    "print(accuracy_score(y_val,pred1))\n",
    "print(accuracy_score(y_val,pred2))\n",
    "print(accuracy_score(y_val,pred3))\n",
    "y_val.replace({-1:0}, inplace=True)\n",
    "print(accuracy_score(y_val,pred4))\n",
    "print(accuracy_score(y_val,pred4_1))\n",
    "y_val.replace({0:-1}, inplace=True)\n",
    "print(accuracy_score(y_val,pred5))"
   ]
  },
  {
   "cell_type": "code",
   "execution_count": 197,
   "metadata": {},
   "outputs": [
    {
     "name": "stdout",
     "output_type": "stream",
     "text": [
      "[[322  70]\n",
      " [ 56 360]]\n",
      "              precision    recall  f1-score   support\n",
      "\n",
      "          -1       0.85      0.82      0.84       392\n",
      "           1       0.84      0.87      0.85       416\n",
      "\n",
      "    accuracy                           0.84       808\n",
      "   macro avg       0.84      0.84      0.84       808\n",
      "weighted avg       0.84      0.84      0.84       808\n",
      "\n",
      "[[352  40]\n",
      " [ 27 389]]\n",
      "              precision    recall  f1-score   support\n",
      "\n",
      "          -1       0.93      0.90      0.91       392\n",
      "           1       0.91      0.94      0.92       416\n",
      "\n",
      "    accuracy                           0.92       808\n",
      "   macro avg       0.92      0.92      0.92       808\n",
      "weighted avg       0.92      0.92      0.92       808\n",
      "\n",
      "[[310  82]\n",
      " [ 56 360]]\n",
      "              precision    recall  f1-score   support\n",
      "\n",
      "          -1       0.85      0.79      0.82       392\n",
      "           1       0.81      0.87      0.84       416\n",
      "\n",
      "    accuracy                           0.83       808\n",
      "   macro avg       0.83      0.83      0.83       808\n",
      "weighted avg       0.83      0.83      0.83       808\n",
      "\n",
      "[[369  23]\n",
      " [ 20 396]]\n",
      "              precision    recall  f1-score   support\n",
      "\n",
      "           0       0.95      0.94      0.94       392\n",
      "           1       0.95      0.95      0.95       416\n",
      "\n",
      "    accuracy                           0.95       808\n",
      "   macro avg       0.95      0.95      0.95       808\n",
      "weighted avg       0.95      0.95      0.95       808\n",
      "\n",
      "[[367  25]\n",
      " [ 21 395]]\n",
      "              precision    recall  f1-score   support\n",
      "\n",
      "           0       0.95      0.94      0.94       392\n",
      "           1       0.94      0.95      0.94       416\n",
      "\n",
      "    accuracy                           0.94       808\n",
      "   macro avg       0.94      0.94      0.94       808\n",
      "weighted avg       0.94      0.94      0.94       808\n",
      "\n",
      "[[350  42]\n",
      " [ 31 385]]\n",
      "              precision    recall  f1-score   support\n",
      "\n",
      "          -1       0.92      0.89      0.91       392\n",
      "           1       0.90      0.93      0.91       416\n",
      "\n",
      "    accuracy                           0.91       808\n",
      "   macro avg       0.91      0.91      0.91       808\n",
      "weighted avg       0.91      0.91      0.91       808\n",
      "\n"
     ]
    }
   ],
   "source": [
    "# Test 데이터 결과 Confusion Matrix 확인\n",
    "print(confusion_matrix(y_val, pred1))\n",
    "print(classification_report(y_val, pred1))\n",
    "print(confusion_matrix(y_val, pred2))\n",
    "print(classification_report(y_val, pred2))\n",
    "print(confusion_matrix(y_val, pred3))\n",
    "print(classification_report(y_val, pred3))\n",
    "y_val.replace({-1:0}, inplace=True)\n",
    "print(confusion_matrix(y_val, pred4))\n",
    "print(classification_report(y_val, pred4))\n",
    "print(confusion_matrix(y_val, pred4_1))\n",
    "print(classification_report(y_val, pred4_1))\n",
    "y_val.replace({0:-1}, inplace=True)\n",
    "print(confusion_matrix(y_val, pred5))\n",
    "print(classification_report(y_val, pred5))"
   ]
  },
  {
   "cell_type": "code",
   "execution_count": 198,
   "metadata": {},
   "outputs": [
    {
     "data": {
      "image/png": "[encoded data removed]",
      "text/plain": [
       "<Figure size 720x576 with 1 Axes>"
      ]
     },
     "metadata": {
      "needs_background": "light"
     },
     "output_type": "display_data"
    }
   ],
   "source": [
    "# Feature(특징)별 가중치 확인\n",
    "result = plot_feature_importance(model4_1.feature_importances_, x_train.columns)\n"
   ]
  },
  {
   "cell_type": "code",
   "execution_count": 199,
   "metadata": {},
   "outputs": [],
   "source": [
    "col = ['url_hostname_len','url_path_len','url_query_len',\"html_num_tags('a')\",\"html_num_tags('body')\",\"html_num_tags('form')\",'url_num_underscores']\n",
    "x1 = x.loc[:, col]"
   ]
  },
  {
   "cell_type": "code",
   "execution_count": 200,
   "metadata": {},
   "outputs": [
    {
     "data": {
      "text/html": [
       "<div>\n",
       "<style scoped>\n",
       "    .dataframe tbody tr th:only-of-type {\n",
       "        vertical-align: middle;\n",
       "    }\n",
       "\n",
       "    .dataframe tbody tr th {\n",
       "        vertical-align: top;\n",
       "    }\n",
       "\n",
       "    .dataframe thead th {\n",
       "        text-align: right;\n",
       "    }\n",
       "</style>\n",
       "<table border=\"1\" class=\"dataframe\">\n",
       "  <thead>\n",
       "    <tr style=\"text-align: right;\">\n",
       "      <th></th>\n",
       "      <th>url_hostname_len</th>\n",
       "      <th>url_path_len</th>\n",
       "      <th>url_query_len</th>\n",
       "      <th>html_num_tags('a')</th>\n",
       "      <th>html_num_tags('body')</th>\n",
       "      <th>html_num_tags('form')</th>\n",
       "      <th>url_num_underscores</th>\n",
       "    </tr>\n",
       "  </thead>\n",
       "  <tbody>\n",
       "    <tr>\n",
       "      <th>0</th>\n",
       "      <td>15.0</td>\n",
       "      <td>8.0</td>\n",
       "      <td>0.0</td>\n",
       "      <td>0.0</td>\n",
       "      <td>1.0</td>\n",
       "      <td>0.0</td>\n",
       "      <td>0.0</td>\n",
       "    </tr>\n",
       "    <tr>\n",
       "      <th>1</th>\n",
       "      <td>17.0</td>\n",
       "      <td>58.0</td>\n",
       "      <td>0.0</td>\n",
       "      <td>21.0</td>\n",
       "      <td>1.0</td>\n",
       "      <td>0.0</td>\n",
       "      <td>0.0</td>\n",
       "    </tr>\n",
       "    <tr>\n",
       "      <th>2</th>\n",
       "      <td>16.0</td>\n",
       "      <td>4.0</td>\n",
       "      <td>0.0</td>\n",
       "      <td>70.0</td>\n",
       "      <td>1.0</td>\n",
       "      <td>3.0</td>\n",
       "      <td>0.0</td>\n",
       "    </tr>\n",
       "    <tr>\n",
       "      <th>3</th>\n",
       "      <td>14.0</td>\n",
       "      <td>13.0</td>\n",
       "      <td>0.0</td>\n",
       "      <td>55.0</td>\n",
       "      <td>1.0</td>\n",
       "      <td>1.0</td>\n",
       "      <td>0.0</td>\n",
       "    </tr>\n",
       "    <tr>\n",
       "      <th>4</th>\n",
       "      <td>27.0</td>\n",
       "      <td>12.0</td>\n",
       "      <td>0.0</td>\n",
       "      <td>321.0</td>\n",
       "      <td>1.0</td>\n",
       "      <td>0.0</td>\n",
       "      <td>0.0</td>\n",
       "    </tr>\n",
       "  </tbody>\n",
       "</table>\n",
       "</div>"
      ],
      "text/plain": [
       "   url_hostname_len  url_path_len  url_query_len  html_num_tags('a')  \\\n",
       "0              15.0           8.0            0.0                 0.0   \n",
       "1              17.0          58.0            0.0                21.0   \n",
       "2              16.0           4.0            0.0                70.0   \n",
       "3              14.0          13.0            0.0                55.0   \n",
       "4              27.0          12.0            0.0               321.0   \n",
       "\n",
       "   html_num_tags('body')  html_num_tags('form')  url_num_underscores  \n",
       "0                    1.0                    0.0                  0.0  \n",
       "1                    1.0                    0.0                  0.0  \n",
       "2                    1.0                    3.0                  0.0  \n",
       "3                    1.0                    1.0                  0.0  \n",
       "4                    1.0                    0.0                  0.0  "
      ]
     },
     "execution_count": 200,
     "metadata": {},
     "output_type": "execute_result"
    }
   ],
   "source": [
    "x1.head()"
   ]
  },
  {
   "cell_type": "code",
   "execution_count": 201,
   "metadata": {},
   "outputs": [],
   "source": [
    "x_train1, x_val1, y_train, y_val = train_test_split(x1, y, test_size=.25)"
   ]
  },
  {
   "cell_type": "code",
   "execution_count": 202,
   "metadata": {},
   "outputs": [],
   "source": [
    "Scaler = MinMaxScaler()\n",
    "x_train_s1 = Scaler.fit_transform(x_train1)\n",
    "x_val_s1 = Scaler.transform(x_val1)"
   ]
  },
  {
   "cell_type": "code",
   "execution_count": 219,
   "metadata": {},
   "outputs": [
    {
     "data": {
      "image/png": "[encoded data removed]",
      "text/plain": [
       "<Figure size 864x576 with 1 Axes>"
      ]
     },
     "metadata": {
      "needs_background": "light"
     },
     "output_type": "display_data"
    }
   ],
   "source": [
    "result_train = [] # train set을 가지고 예측한 결과\n",
    "result_val = [] # val set을 가지고 예측한 결과\n",
    "depth = list(range(1,21))\n",
    "\n",
    "for d in depth :\n",
    "    model = DecisionTreeClassifier(max_depth = d)\n",
    "    model.fit(x_train1, y_train)\n",
    "    pred_tr, pred_val = model.predict(x_train1), model.predict(x_val1)\n",
    "    result_train.append(accuracy_score(y_train, pred_tr))\n",
    "    result_val.append(accuracy_score(y_val, pred_val))\n",
    "    \n",
    "plt.figure(figsize = (12,8))\n",
    "plt.plot(depth, result_train, label = 'train_acc', marker = 'o')\n",
    "plt.plot(depth, result_val, label = 'val_acc', marker = 'o')\n",
    "\n",
    "plt.title('DecisionTreeClassifier')\n",
    "plt.xlabel('Complexity')\n",
    "plt.ylabel('Accuracy')\n",
    "plt.legend()\n",
    "plt.grid()\n",
    "plt.show()\n",
    "# 5~11"
   ]
  },
  {
   "cell_type": "code",
   "execution_count": 220,
   "metadata": {},
   "outputs": [
    {
     "data": {
      "image/png": "[encoded data removed]",
      "text/plain": [
       "<Figure size 864x576 with 1 Axes>"
      ]
     },
     "metadata": {
      "needs_background": "light"
     },
     "output_type": "display_data"
    }
   ],
   "source": [
    "rs_train = []\n",
    "rs_val = []\n",
    "depth = list(range(1,51))\n",
    "\n",
    "for d in depth :\n",
    "    model = KNeighborsClassifier(n_neighbors=d)\n",
    "    model.fit(x_train_s1, y_train)\n",
    "    pred_tr, pred_val = model.predict(x_train_s1), model.predict(x_val_s1)\n",
    "    rs_train.append(accuracy_score(y_train, pred_tr))\n",
    "    rs_val.append(accuracy_score(y_val, pred_val))\n",
    "    \n",
    "plt.figure(figsize = (12,8))\n",
    "plt.plot(depth, rs_train, label = 'train_acc', marker = 'o')\n",
    "plt.plot(depth, rs_val, label = 'val_acc', marker = 'o')\n",
    "\n",
    "plt.title('KNeighborsClassifier')\n",
    "plt.xlabel('Complexity')\n",
    "plt.ylabel('Accuracy')\n",
    "plt.legend()\n",
    "plt.grid()\n",
    "plt.show()\n",
    "#15~35"
   ]
  },
  {
   "cell_type": "code",
   "execution_count": 221,
   "metadata": {
    "scrolled": true
   },
   "outputs": [
    {
     "data": {
      "image/png": "[encoded data removed]",
      "text/plain": [
       "<Figure size 864x576 with 1 Axes>"
      ]
     },
     "metadata": {
      "needs_background": "light"
     },
     "output_type": "display_data"
    }
   ],
   "source": [
    "rs_train = []\n",
    "rs_val = []\n",
    "depth = list(range(1,51))\n",
    "y_train.replace({-1:0}, inplace=True)\n",
    "y_val.replace({-1:0}, inplace=True)\n",
    "for d in depth :\n",
    "    model = XGBClassifier(n_estimators = d)\n",
    "    model.fit(x_train1, y_train)\n",
    "    pred_tr, pred_val = model.predict(x_train1), model.predict(x_val1)\n",
    "    rs_train.append(accuracy_score(y_train, pred_tr))\n",
    "    rs_val.append(accuracy_score(y_val, pred_val))\n",
    "    \n",
    "plt.figure(figsize = (12,8))\n",
    "plt.plot(depth, rs_train, label = 'train_acc', marker = 'o')\n",
    "plt.plot(depth, rs_val, label = 'val_acc', marker = 'o')\n",
    "\n",
    "plt.title('XGBClassifier')\n",
    "plt.xlabel('Complexity')\n",
    "plt.ylabel('Accuracy')\n",
    "plt.legend()\n",
    "plt.grid()\n",
    "plt.show()\n",
    "\n",
    "y_train.replace({0:-1}, inplace=True)\n",
    "y_val.replace({0:-1}, inplace=True)\n",
    "#8~16"
   ]
  },
  {
   "cell_type": "code",
   "execution_count": 222,
   "metadata": {},
   "outputs": [
    {
     "data": {
      "image/png": "[encoded data removed]",
      "text/plain": [
       "<Figure size 864x576 with 1 Axes>"
      ]
     },
     "metadata": {
      "needs_background": "light"
     },
     "output_type": "display_data"
    }
   ],
   "source": [
    "result_train = [] # train set을 가지고 예측한 결과\n",
    "result_val = [] # val set을 가지고 예측한 결과\n",
    "depth = list(range(1,21))\n",
    "\n",
    "for d in depth :\n",
    "    model = RandomForestClassifier(max_depth = d)\n",
    "    model.fit(x_train1, y_train)\n",
    "    pred_tr, pred_val = model.predict(x_train1), model.predict(x_val1)\n",
    "    result_train.append(accuracy_score(y_train, pred_tr))\n",
    "    result_val.append(accuracy_score(y_val, pred_val))\n",
    "    \n",
    "plt.figure(figsize = (12,8))\n",
    "plt.plot(depth, result_train, label = 'train_acc', marker = 'o')\n",
    "plt.plot(depth, result_val, label = 'val_acc', marker = 'o')\n",
    "\n",
    "plt.title('RandomForestClassifier')\n",
    "plt.xlabel('Complexity')\n",
    "plt.ylabel('Accuracy')\n",
    "plt.legend()\n",
    "plt.grid()\n",
    "plt.show()\n",
    "# 5~11"
   ]
  },
  {
   "cell_type": "code",
   "execution_count": 223,
   "metadata": {},
   "outputs": [],
   "source": [
    "# 2.선언 \n",
    "model1_1 = LogisticRegression()\n",
    "model1_1.fit(x_train1, y_train)\n",
    "pred1_1 = model1_1.predict(x_val1)"
   ]
  },
  {
   "cell_type": "code",
   "execution_count": 224,
   "metadata": {},
   "outputs": [],
   "source": [
    "params2_1 = {'max_depth' : range(3,10)}\n",
    "model2_1 = GridSearchCV(RandomForestClassifier(), params2_1, cv=10)\n",
    "model2_1.fit(x_train1, y_train)\n",
    "pred2_1 = model2_1.predict(x_val1)"
   ]
  },
  {
   "cell_type": "code",
   "execution_count": 225,
   "metadata": {},
   "outputs": [],
   "source": [
    "params3_1 = {'n_neighbors' : range(15,36)}\n",
    "model3_1 = GridSearchCV(KNeighborsClassifier(),params3_1, cv=10)\n",
    "model3_1.fit(x_train_s1, y_train)\n",
    "pred3_1 = model3_1.predict(x_val1)"
   ]
  },
  {
   "cell_type": "code",
   "execution_count": 226,
   "metadata": {},
   "outputs": [],
   "source": [
    "params4_1 = {'max_depth' : range(5,12)}\n",
    "model4_1 = GridSearchCV(DecisionTreeClassifier(),params4_1, cv=10)\n",
    "model4_1.fit(x_train1, y_train)\n",
    "pred4_1 = model4_1.predict(x_val1)"
   ]
  },
  {
   "cell_type": "code",
   "execution_count": 227,
   "metadata": {},
   "outputs": [],
   "source": [
    "params5_2 = {'n_estimators' : range(8, 17)}\n",
    "model5_2 = GridSearchCV(XGBClassifier(), params5_2, cv=10)\n",
    "y_train.replace({-1:0}, inplace=True)\n",
    "model5_2.fit(x_train1, y_train)\n",
    "pred5_2 = model5_2.predict(x_val1)\n",
    "y_train.replace({0:-1}, inplace=True)"
   ]
  },
  {
   "cell_type": "code",
   "execution_count": 228,
   "metadata": {},
   "outputs": [
    {
     "name": "stdout",
     "output_type": "stream",
     "text": [
      "{'max_depth': 9}\n",
      "0.9290140461857634\n",
      "{'n_neighbors': 23}\n",
      "0.8151022004557358\n",
      "{'max_depth': 10}\n",
      "0.9199316396286094\n",
      "{'n_estimators': 16}\n",
      "0.9219960548243378\n"
     ]
    }
   ],
   "source": [
    "print(model2_1.best_params_)\n",
    "print(model2_1.best_score_)\n",
    "print(model3_1.best_params_)\n",
    "print(model3_1.best_score_)\n",
    "print(model4_1.best_params_)\n",
    "print(model4_1.best_score_)\n",
    "print(model5_2.best_params_)\n",
    "print(model5_2.best_score_)"
   ]
  },
  {
   "cell_type": "code",
   "execution_count": 229,
   "metadata": {},
   "outputs": [
    {
     "name": "stdout",
     "output_type": "stream",
     "text": [
      "0.8155940594059405\n",
      "0.9257425742574258\n",
      "0.6794554455445545\n",
      "0.9146039603960396\n",
      "0.9183168316831684\n"
     ]
    }
   ],
   "source": [
    "# train 및 val 데이터 정확도 확인 \n",
    "print(accuracy_score(y_val,pred1_1)) # 로지스틱\n",
    "print(accuracy_score(y_val,pred2_1)) # RandomForest\n",
    "print(accuracy_score(y_val,pred3_1)) # KNN\n",
    "print(accuracy_score(y_val,pred4_1)) # DecisionTree\n",
    "y_val.replace({-1:0}, inplace=True)\n",
    "print(accuracy_score(y_val,pred5_2)) # XGB\n",
    "y_val.replace({0:-1}, inplace=True)"
   ]
  },
  {
   "cell_type": "code",
   "execution_count": 213,
   "metadata": {},
   "outputs": [],
   "source": [
    "#joblib.dump(model4, './XGB_model.pkl')"
   ]
  },
  {
   "cell_type": "code",
   "execution_count": 217,
   "metadata": {
    "scrolled": true
   },
   "outputs": [
    {
     "data": {
      "text/plain": [
       "['./RF_model.pkl']"
      ]
     },
     "execution_count": 217,
     "metadata": {},
     "output_type": "execute_result"
    }
   ],
   "source": [
    "joblib.dump(model2_1, './RF_model.pkl')"
   ]
  },
  {
   "cell_type": "code",
   "execution_count": 215,
   "metadata": {},
   "outputs": [],
   "source": [
    "#joblib.dump(model4_1, './XGB_model2.pkl')"
   ]
  },
  {
   "cell_type": "code",
   "execution_count": 218,
   "metadata": {},
   "outputs": [
    {
     "data": {
      "text/plain": [
       "['./XGB_model3.pkl']"
      ]
     },
     "execution_count": 218,
     "metadata": {},
     "output_type": "execute_result"
    }
   ],
   "source": [
    "joblib.dump(model5_2, './XGB_model3.pkl')"
   ]
  }
 ],
 "metadata": {
  "kernelspec": {
   "display_name": "Python 3 (ipykernel)",
   "language": "python",
   "name": "python3"
  },
  "language_info": {
   "codemirror_mode": {
    "name": "ipython",
    "version": 3
   },
   "file_extension": ".py",
   "mimetype": "text/x-python",
   "name": "python",
   "nbconvert_exporter": "python",
   "pygments_lexer": "ipython3",
   "version": "3.9.12"
  },
  "vscode": {
   "interpreter": {
    "hash": "f08154012ddadd8e950e6e9e035c7a7b32c136e7647e9b7c77e02eb723a8bedb"
   }
  }
 },
 "nbformat": 4,
 "nbformat_minor": 4
}
