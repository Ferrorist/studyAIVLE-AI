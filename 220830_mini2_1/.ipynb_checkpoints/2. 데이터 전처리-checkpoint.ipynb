{
 "cells": [
  {
   "cell_type": "markdown",
   "metadata": {},
   "source": [
    "## [미니프로젝트] 악성사이트 탐지 머신러닝 모델 개발\n",
    "\n",
    "## <b>[2단계] 데이터 분석 및 전처리\n",
    "\n",
    "## ▣ 데이터 소개\n",
    "* 학습 데이터셋 : train_dataset.csv\n",
    "<br>\n",
    "\n",
    "## ▣ 학습 데이터셋의 변수 소개\n",
    "\n",
    "* url_len : URL 길이\n",
    "* url_num_hypens_dom : URL내 '-'(하이픈) 개수\n",
    "* url_path_len : URL의 경로 길이\n",
    "* url_domain_len : URL의 도메인 길이\n",
    "* url_host_name : URL의 hostname 길이\n",
    "* url_num_dots : URL내 '.'(닷) 개수\n",
    "* url_num_underscores : URL내 '_'(언더바) 개수\n",
    "* url_query_len : URL쿼리 길이\n",
    "* url_num_query_para : URL쿼리의 파라미터 개수\n",
    "* url_ip_present : URL내 IP표시 여부\n",
    "* url_entropy : URL 복잡도\n",
    "* url_chinese_present : URL내 중국어 표기 여부\n",
    "* url_port : URL내 포트 표기 여부\n",
    "* html_num_tags('iframe') : HTML내 'iframe' 태그 개수\n",
    "* html_num_tags('script') : HTML내 'script' 태그 개수\n",
    "* html_num_tags('embed') : HTML내 'embed' 태그 개수\n",
    "* html_num_tags('object') : HTML내 'object' 태그 개수\n",
    "* html_num_tags('div') : HTML내 'div' 태그 개수\n",
    "* html_num_tags('head') : HTML내 'head' 태그 개수\n",
    "* html_num_tags('body') : HTML내 'body' 태그 개수\n",
    "* html_num_tags('form') : HTML내 'form' 태그 개수\n",
    "* html_num_tags('a') : HTML내 'a' 태그 개수\n",
    "* html_num_tags('applet') : HTML내 'applet' 태그 개수\n",
    "* Result_v1 : 악성사이트 여부 컬럼 ( 'malicious'는 악성사이트, 'benign'은 정상사이트 )\n",
    "\n",
    "<br>\n",
    "\n",
    "---\n",
    "\n",
    "### **[프로세스]**\n",
    "0. 라이브러리 import 및 데이터 불러오기\n",
    "1. 데이터 분석하기\n",
    "2. 데이터 전처리하기\n",
    "\n",
    "\n",
    "---"
   ]
  },
  {
   "cell_type": "code",
   "execution_count": null,
   "metadata": {},
   "outputs": [],
   "source": []
  },
  {
   "cell_type": "markdown",
   "metadata": {},
   "source": [
    "# <b>Step 0. 라이브러리 import 및 데이터 불러오기\n",
    "### **가. 라이브러리 import**"
   ]
  },
  {
   "cell_type": "code",
   "execution_count": 60,
   "metadata": {},
   "outputs": [],
   "source": [
    "import numpy as np\n",
    "import pandas as pd\n",
    "import matplotlib.pyplot as plt\n",
    "import seaborn as sns\n",
    "import statsmodels.api as sm\n",
    "\n",
    "import warnings\n",
    "warnings.filterwarnings(action='ignore')"
   ]
  },
  {
   "cell_type": "markdown",
   "metadata": {},
   "source": [
    "### **나.  학습데이터 불러오기**"
   ]
  },
  {
   "cell_type": "code",
   "execution_count": 53,
   "metadata": {},
   "outputs": [],
   "source": [
    "data = pd.read_csv('train_dataset.csv')"
   ]
  },
  {
   "cell_type": "code",
   "execution_count": 3,
   "metadata": {
    "scrolled": true
   },
   "outputs": [
    {
     "data": {
      "text/html": [
       "<div>\n",
       "<style scoped>\n",
       "    .dataframe tbody tr th:only-of-type {\n",
       "        vertical-align: middle;\n",
       "    }\n",
       "\n",
       "    .dataframe tbody tr th {\n",
       "        vertical-align: top;\n",
       "    }\n",
       "\n",
       "    .dataframe thead th {\n",
       "        text-align: right;\n",
       "    }\n",
       "</style>\n",
       "<table border=\"1\" class=\"dataframe\">\n",
       "  <thead>\n",
       "    <tr style=\"text-align: right;\">\n",
       "      <th></th>\n",
       "      <th>Unnamed: 0</th>\n",
       "      <th>url_len</th>\n",
       "      <th>url_num_hyphens_dom</th>\n",
       "      <th>url_path_len</th>\n",
       "      <th>url_domain_len</th>\n",
       "      <th>url_hostname_len</th>\n",
       "      <th>url_num_dots</th>\n",
       "      <th>url_num_underscores</th>\n",
       "      <th>url_query_len</th>\n",
       "      <th>url_num_query_para</th>\n",
       "      <th>...</th>\n",
       "      <th>html_num_tags('script')</th>\n",
       "      <th>html_num_tags('embed')</th>\n",
       "      <th>html_num_tags('object')</th>\n",
       "      <th>html_num_tags('div')</th>\n",
       "      <th>html_num_tags('head')</th>\n",
       "      <th>html_num_tags('body')</th>\n",
       "      <th>html_num_tags('form')</th>\n",
       "      <th>html_num_tags('a')</th>\n",
       "      <th>html_num_tags('applet')</th>\n",
       "      <th>Result_v1</th>\n",
       "    </tr>\n",
       "  </thead>\n",
       "  <tbody>\n",
       "    <tr>\n",
       "      <th>0</th>\n",
       "      <td>0</td>\n",
       "      <td>23.0</td>\n",
       "      <td>0.0</td>\n",
       "      <td>8.0</td>\n",
       "      <td>15.0</td>\n",
       "      <td>15.0</td>\n",
       "      <td>2.0</td>\n",
       "      <td>0.0</td>\n",
       "      <td>0.0</td>\n",
       "      <td>0.0</td>\n",
       "      <td>...</td>\n",
       "      <td>7.0</td>\n",
       "      <td>0.0</td>\n",
       "      <td>0.0</td>\n",
       "      <td>0.0</td>\n",
       "      <td>1.0</td>\n",
       "      <td>1.0</td>\n",
       "      <td>0.0</td>\n",
       "      <td>0.0</td>\n",
       "      <td>0.0</td>\n",
       "      <td>malicious</td>\n",
       "    </tr>\n",
       "    <tr>\n",
       "      <th>1</th>\n",
       "      <td>1</td>\n",
       "      <td>75.0</td>\n",
       "      <td>0.0</td>\n",
       "      <td>58.0</td>\n",
       "      <td>17.0</td>\n",
       "      <td>17.0</td>\n",
       "      <td>6.0</td>\n",
       "      <td>0.0</td>\n",
       "      <td>0.0</td>\n",
       "      <td>0.0</td>\n",
       "      <td>...</td>\n",
       "      <td>18.0</td>\n",
       "      <td>0.0</td>\n",
       "      <td>0.0</td>\n",
       "      <td>20.0</td>\n",
       "      <td>1.0</td>\n",
       "      <td>1.0</td>\n",
       "      <td>0.0</td>\n",
       "      <td>21.0</td>\n",
       "      <td>0.0</td>\n",
       "      <td>benign</td>\n",
       "    </tr>\n",
       "    <tr>\n",
       "      <th>2</th>\n",
       "      <td>2</td>\n",
       "      <td>20.0</td>\n",
       "      <td>0.0</td>\n",
       "      <td>4.0</td>\n",
       "      <td>16.0</td>\n",
       "      <td>16.0</td>\n",
       "      <td>2.0</td>\n",
       "      <td>0.0</td>\n",
       "      <td>0.0</td>\n",
       "      <td>0.0</td>\n",
       "      <td>...</td>\n",
       "      <td>33.0</td>\n",
       "      <td>0.0</td>\n",
       "      <td>0.0</td>\n",
       "      <td>101.0</td>\n",
       "      <td>1.0</td>\n",
       "      <td>1.0</td>\n",
       "      <td>3.0</td>\n",
       "      <td>70.0</td>\n",
       "      <td>0.0</td>\n",
       "      <td>benign</td>\n",
       "    </tr>\n",
       "    <tr>\n",
       "      <th>3</th>\n",
       "      <td>3</td>\n",
       "      <td>27.0</td>\n",
       "      <td>0.0</td>\n",
       "      <td>13.0</td>\n",
       "      <td>14.0</td>\n",
       "      <td>14.0</td>\n",
       "      <td>3.0</td>\n",
       "      <td>0.0</td>\n",
       "      <td>0.0</td>\n",
       "      <td>0.0</td>\n",
       "      <td>...</td>\n",
       "      <td>15.0</td>\n",
       "      <td>0.0</td>\n",
       "      <td>0.0</td>\n",
       "      <td>151.0</td>\n",
       "      <td>1.0</td>\n",
       "      <td>1.0</td>\n",
       "      <td>1.0</td>\n",
       "      <td>55.0</td>\n",
       "      <td>0.0</td>\n",
       "      <td>benign</td>\n",
       "    </tr>\n",
       "    <tr>\n",
       "      <th>4</th>\n",
       "      <td>4</td>\n",
       "      <td>39.0</td>\n",
       "      <td>2.0</td>\n",
       "      <td>12.0</td>\n",
       "      <td>27.0</td>\n",
       "      <td>27.0</td>\n",
       "      <td>2.0</td>\n",
       "      <td>0.0</td>\n",
       "      <td>0.0</td>\n",
       "      <td>0.0</td>\n",
       "      <td>...</td>\n",
       "      <td>10.0</td>\n",
       "      <td>0.0</td>\n",
       "      <td>0.0</td>\n",
       "      <td>332.0</td>\n",
       "      <td>1.0</td>\n",
       "      <td>1.0</td>\n",
       "      <td>0.0</td>\n",
       "      <td>321.0</td>\n",
       "      <td>0.0</td>\n",
       "      <td>benign</td>\n",
       "    </tr>\n",
       "  </tbody>\n",
       "</table>\n",
       "<p>5 rows × 25 columns</p>\n",
       "</div>"
      ],
      "text/plain": [
       "   Unnamed: 0  url_len  url_num_hyphens_dom  url_path_len  url_domain_len  \\\n",
       "0           0     23.0                  0.0           8.0            15.0   \n",
       "1           1     75.0                  0.0          58.0            17.0   \n",
       "2           2     20.0                  0.0           4.0            16.0   \n",
       "3           3     27.0                  0.0          13.0            14.0   \n",
       "4           4     39.0                  2.0          12.0            27.0   \n",
       "\n",
       "   url_hostname_len  url_num_dots  url_num_underscores  url_query_len  \\\n",
       "0              15.0           2.0                  0.0            0.0   \n",
       "1              17.0           6.0                  0.0            0.0   \n",
       "2              16.0           2.0                  0.0            0.0   \n",
       "3              14.0           3.0                  0.0            0.0   \n",
       "4              27.0           2.0                  0.0            0.0   \n",
       "\n",
       "   url_num_query_para  ...  html_num_tags('script')  html_num_tags('embed')  \\\n",
       "0                 0.0  ...                      7.0                     0.0   \n",
       "1                 0.0  ...                     18.0                     0.0   \n",
       "2                 0.0  ...                     33.0                     0.0   \n",
       "3                 0.0  ...                     15.0                     0.0   \n",
       "4                 0.0  ...                     10.0                     0.0   \n",
       "\n",
       "   html_num_tags('object')  html_num_tags('div')  html_num_tags('head')  \\\n",
       "0                      0.0                   0.0                    1.0   \n",
       "1                      0.0                  20.0                    1.0   \n",
       "2                      0.0                 101.0                    1.0   \n",
       "3                      0.0                 151.0                    1.0   \n",
       "4                      0.0                 332.0                    1.0   \n",
       "\n",
       "   html_num_tags('body')  html_num_tags('form')  html_num_tags('a')  \\\n",
       "0                    1.0                    0.0                 0.0   \n",
       "1                    1.0                    0.0                21.0   \n",
       "2                    1.0                    3.0                70.0   \n",
       "3                    1.0                    1.0                55.0   \n",
       "4                    1.0                    0.0               321.0   \n",
       "\n",
       "   html_num_tags('applet')  Result_v1  \n",
       "0                      0.0  malicious  \n",
       "1                      0.0     benign  \n",
       "2                      0.0     benign  \n",
       "3                      0.0     benign  \n",
       "4                      0.0     benign  \n",
       "\n",
       "[5 rows x 25 columns]"
      ]
     },
     "execution_count": 3,
     "metadata": {},
     "output_type": "execute_result"
    }
   ],
   "source": [
    "data.head()"
   ]
  },
  {
   "cell_type": "code",
   "execution_count": 54,
   "metadata": {},
   "outputs": [],
   "source": [
    "data.drop('Unnamed: 0', axis=1, inplace=True)"
   ]
  },
  {
   "cell_type": "markdown",
   "metadata": {},
   "source": [
    "# <b>Step 1. 데이터 분석하기\n",
    "---"
   ]
  },
  {
   "cell_type": "markdown",
   "metadata": {},
   "source": [
    "단변량 분석은 데이터분석의 매우 기초적인 분석기법으로, 독립적인 개별 변수가 가지고있는 특성들을 이해하는 과정입니다.\n",
    "\n",
    "## <b>Q1. 데이터 단변량 분석하기\n",
    "\n",
    "<span style=\"color: green\"> 개별 변수에 대해 아래 사항들을 분석해보세요. </span>\n",
    "\n",
    "1. 변수가 내포하고 있는 의미\n",
    "2. 변수가 수치형인지, 범주형인지\n",
    "3. 결측치 존재 여부 및 조치 방안\n",
    "4. 기초 통계량 확인\n",
    "5. 데이터 분포 확인\n",
    "6. 위 정보로부터 파악한 내용 정리\n",
    "7. 추가 분석사항 도출"
   ]
  },
  {
   "cell_type": "markdown",
   "metadata": {},
   "source": [
    "## 결측치 존재 여부 및 조치 방안"
   ]
  },
  {
   "cell_type": "code",
   "execution_count": 143,
   "metadata": {
    "scrolled": true
   },
   "outputs": [
    {
     "data": {
      "text/plain": [
       "url_len                    0\n",
       "url_num_hyphens_dom        0\n",
       "url_path_len               1\n",
       "url_domain_len             1\n",
       "url_hostname_len           0\n",
       "url_num_dots               0\n",
       "url_num_underscores        0\n",
       "url_query_len              0\n",
       "url_num_query_para         0\n",
       "url_ip_present             0\n",
       "url_entropy                0\n",
       "url_chinese_present        0\n",
       "url_port                   0\n",
       "html_num_tags('iframe')    0\n",
       "html_num_tags('script')    0\n",
       "html_num_tags('embed')     0\n",
       "html_num_tags('object')    0\n",
       "html_num_tags('div')       0\n",
       "html_num_tags('head')      0\n",
       "html_num_tags('body')      0\n",
       "html_num_tags('form')      0\n",
       "html_num_tags('a')         0\n",
       "html_num_tags('applet')    0\n",
       "Result_v1                  0\n",
       "dtype: int64"
      ]
     },
     "execution_count": 143,
     "metadata": {},
     "output_type": "execute_result"
    }
   ],
   "source": [
    "data.isna().sum()"
   ]
  },
  {
   "cell_type": "code",
   "execution_count": 5,
   "metadata": {
    "scrolled": true
   },
   "outputs": [
    {
     "data": {
      "text/html": [
       "<div>\n",
       "<style scoped>\n",
       "    .dataframe tbody tr th:only-of-type {\n",
       "        vertical-align: middle;\n",
       "    }\n",
       "\n",
       "    .dataframe tbody tr th {\n",
       "        vertical-align: top;\n",
       "    }\n",
       "\n",
       "    .dataframe thead th {\n",
       "        text-align: right;\n",
       "    }\n",
       "</style>\n",
       "<table border=\"1\" class=\"dataframe\">\n",
       "  <thead>\n",
       "    <tr style=\"text-align: right;\">\n",
       "      <th></th>\n",
       "      <th>url_len</th>\n",
       "      <th>url_num_hyphens_dom</th>\n",
       "      <th>url_path_len</th>\n",
       "      <th>url_domain_len</th>\n",
       "      <th>url_hostname_len</th>\n",
       "      <th>url_num_dots</th>\n",
       "      <th>url_num_underscores</th>\n",
       "      <th>url_query_len</th>\n",
       "      <th>url_num_query_para</th>\n",
       "      <th>url_ip_present</th>\n",
       "      <th>...</th>\n",
       "      <th>html_num_tags('script')</th>\n",
       "      <th>html_num_tags('embed')</th>\n",
       "      <th>html_num_tags('object')</th>\n",
       "      <th>html_num_tags('div')</th>\n",
       "      <th>html_num_tags('head')</th>\n",
       "      <th>html_num_tags('body')</th>\n",
       "      <th>html_num_tags('form')</th>\n",
       "      <th>html_num_tags('a')</th>\n",
       "      <th>html_num_tags('applet')</th>\n",
       "      <th>Result_v1</th>\n",
       "    </tr>\n",
       "  </thead>\n",
       "  <tbody>\n",
       "    <tr>\n",
       "      <th>1084</th>\n",
       "      <td>37.0</td>\n",
       "      <td>2.0</td>\n",
       "      <td>0.0</td>\n",
       "      <td>NaN</td>\n",
       "      <td>37.0</td>\n",
       "      <td>2.0</td>\n",
       "      <td>0.0</td>\n",
       "      <td>0.0</td>\n",
       "      <td>0.0</td>\n",
       "      <td>0.0</td>\n",
       "      <td>...</td>\n",
       "      <td>8.0</td>\n",
       "      <td>0.0</td>\n",
       "      <td>0.0</td>\n",
       "      <td>211.0</td>\n",
       "      <td>1.0</td>\n",
       "      <td>1.0</td>\n",
       "      <td>2.0</td>\n",
       "      <td>122.0</td>\n",
       "      <td>0.0</td>\n",
       "      <td>benign</td>\n",
       "    </tr>\n",
       "  </tbody>\n",
       "</table>\n",
       "<p>1 rows × 24 columns</p>\n",
       "</div>"
      ],
      "text/plain": [
       "      url_len  url_num_hyphens_dom  url_path_len  url_domain_len  \\\n",
       "1084     37.0                  2.0           0.0             NaN   \n",
       "\n",
       "      url_hostname_len  url_num_dots  url_num_underscores  url_query_len  \\\n",
       "1084              37.0           2.0                  0.0            0.0   \n",
       "\n",
       "      url_num_query_para  url_ip_present  ...  html_num_tags('script')  \\\n",
       "1084                 0.0             0.0  ...                      8.0   \n",
       "\n",
       "      html_num_tags('embed')  html_num_tags('object')  html_num_tags('div')  \\\n",
       "1084                     0.0                      0.0                 211.0   \n",
       "\n",
       "      html_num_tags('head')  html_num_tags('body')  html_num_tags('form')  \\\n",
       "1084                    1.0                    1.0                    2.0   \n",
       "\n",
       "      html_num_tags('a')  html_num_tags('applet')  Result_v1  \n",
       "1084               122.0                      0.0     benign  \n",
       "\n",
       "[1 rows x 24 columns]"
      ]
     },
     "execution_count": 5,
     "metadata": {},
     "output_type": "execute_result"
    }
   ],
   "source": [
    "data.loc[data['url_domain_len'].isnull()]"
   ]
  },
  {
   "cell_type": "code",
   "execution_count": 6,
   "metadata": {
    "scrolled": false
   },
   "outputs": [
    {
     "data": {
      "text/html": [
       "<div>\n",
       "<style scoped>\n",
       "    .dataframe tbody tr th:only-of-type {\n",
       "        vertical-align: middle;\n",
       "    }\n",
       "\n",
       "    .dataframe tbody tr th {\n",
       "        vertical-align: top;\n",
       "    }\n",
       "\n",
       "    .dataframe thead th {\n",
       "        text-align: right;\n",
       "    }\n",
       "</style>\n",
       "<table border=\"1\" class=\"dataframe\">\n",
       "  <thead>\n",
       "    <tr style=\"text-align: right;\">\n",
       "      <th></th>\n",
       "      <th>url_len</th>\n",
       "      <th>url_num_hyphens_dom</th>\n",
       "      <th>url_path_len</th>\n",
       "      <th>url_domain_len</th>\n",
       "      <th>url_hostname_len</th>\n",
       "      <th>url_num_dots</th>\n",
       "      <th>url_num_underscores</th>\n",
       "      <th>url_query_len</th>\n",
       "      <th>url_num_query_para</th>\n",
       "      <th>url_ip_present</th>\n",
       "      <th>...</th>\n",
       "      <th>html_num_tags('script')</th>\n",
       "      <th>html_num_tags('embed')</th>\n",
       "      <th>html_num_tags('object')</th>\n",
       "      <th>html_num_tags('div')</th>\n",
       "      <th>html_num_tags('head')</th>\n",
       "      <th>html_num_tags('body')</th>\n",
       "      <th>html_num_tags('form')</th>\n",
       "      <th>html_num_tags('a')</th>\n",
       "      <th>html_num_tags('applet')</th>\n",
       "      <th>Result_v1</th>\n",
       "    </tr>\n",
       "  </thead>\n",
       "  <tbody>\n",
       "    <tr>\n",
       "      <th>1628</th>\n",
       "      <td>24.0</td>\n",
       "      <td>0.0</td>\n",
       "      <td>NaN</td>\n",
       "      <td>14.0</td>\n",
       "      <td>14.0</td>\n",
       "      <td>4.0</td>\n",
       "      <td>0.0</td>\n",
       "      <td>0.0</td>\n",
       "      <td>0.0</td>\n",
       "      <td>1.0</td>\n",
       "      <td>...</td>\n",
       "      <td>3.0</td>\n",
       "      <td>0.0</td>\n",
       "      <td>0.0</td>\n",
       "      <td>0.0</td>\n",
       "      <td>1.0</td>\n",
       "      <td>1.0</td>\n",
       "      <td>0.0</td>\n",
       "      <td>0.0</td>\n",
       "      <td>0.0</td>\n",
       "      <td>benign</td>\n",
       "    </tr>\n",
       "  </tbody>\n",
       "</table>\n",
       "<p>1 rows × 24 columns</p>\n",
       "</div>"
      ],
      "text/plain": [
       "      url_len  url_num_hyphens_dom  url_path_len  url_domain_len  \\\n",
       "1628     24.0                  0.0           NaN            14.0   \n",
       "\n",
       "      url_hostname_len  url_num_dots  url_num_underscores  url_query_len  \\\n",
       "1628              14.0           4.0                  0.0            0.0   \n",
       "\n",
       "      url_num_query_para  url_ip_present  ...  html_num_tags('script')  \\\n",
       "1628                 0.0             1.0  ...                      3.0   \n",
       "\n",
       "      html_num_tags('embed')  html_num_tags('object')  html_num_tags('div')  \\\n",
       "1628                     0.0                      0.0                   0.0   \n",
       "\n",
       "      html_num_tags('head')  html_num_tags('body')  html_num_tags('form')  \\\n",
       "1628                    1.0                    1.0                    0.0   \n",
       "\n",
       "      html_num_tags('a')  html_num_tags('applet')  Result_v1  \n",
       "1628                 0.0                      0.0     benign  \n",
       "\n",
       "[1 rows x 24 columns]"
      ]
     },
     "execution_count": 6,
     "metadata": {},
     "output_type": "execute_result"
    }
   ],
   "source": [
    "data.loc[data['url_path_len'].isnull()]"
   ]
  },
  {
   "cell_type": "code",
   "execution_count": 55,
   "metadata": {},
   "outputs": [],
   "source": [
    "data = data.dropna(axis=0) # 결측치 데이터 행 2개 확인. 제거."
   ]
  },
  {
   "cell_type": "code",
   "execution_count": 147,
   "metadata": {
    "scrolled": true
   },
   "outputs": [
    {
     "data": {
      "text/plain": [
       "url_len                    0\n",
       "url_num_hyphens_dom        0\n",
       "url_path_len               0\n",
       "url_domain_len             0\n",
       "url_hostname_len           0\n",
       "url_num_dots               0\n",
       "url_num_underscores        0\n",
       "url_query_len              0\n",
       "url_num_query_para         0\n",
       "url_ip_present             0\n",
       "url_entropy                0\n",
       "url_chinese_present        0\n",
       "url_port                   0\n",
       "html_num_tags('iframe')    0\n",
       "html_num_tags('script')    0\n",
       "html_num_tags('embed')     0\n",
       "html_num_tags('object')    0\n",
       "html_num_tags('div')       0\n",
       "html_num_tags('head')      0\n",
       "html_num_tags('body')      0\n",
       "html_num_tags('form')      0\n",
       "html_num_tags('a')         0\n",
       "html_num_tags('applet')    0\n",
       "Result_v1                  0\n",
       "dtype: int64"
      ]
     },
     "execution_count": 147,
     "metadata": {},
     "output_type": "execute_result"
    }
   ],
   "source": [
    "data.isna().sum()"
   ]
  },
  {
   "cell_type": "markdown",
   "metadata": {},
   "source": [
    "## 범주형 데이터라 생각되는 열 데이터 확인"
   ]
  },
  {
   "cell_type": "code",
   "execution_count": 148,
   "metadata": {},
   "outputs": [
    {
     "data": {
      "text/plain": [
       "0.0    3654\n",
       "1.0       8\n",
       "Name: url_port, dtype: int64"
      ]
     },
     "execution_count": 148,
     "metadata": {},
     "output_type": "execute_result"
    }
   ],
   "source": [
    "# url_ip_present : URL내 IP표시 여부 -> 범주 0,1 ( 참이 1, 거짓이 0 )\n",
    "# url_entropy : URL 복잡도 -> 범주가 아니네...\n",
    "# url_chinese_present : URL내 중국어 표기 여부 -> 범주 그러나 모두 0 -> 삭제 필요.\n",
    "# url_port : URL내 포트 표기 여부 -> 범주 0,1 1이 8개임.\n",
    "data['url_port'].value_counts()"
   ]
  },
  {
   "cell_type": "code",
   "execution_count": 56,
   "metadata": {},
   "outputs": [],
   "source": [
    "data.drop('url_chinese_present', axis=1, inplace=True) # url_chinese_present 데이터 모두 0라서 삭제."
   ]
  },
  {
   "cell_type": "code",
   "execution_count": 12,
   "metadata": {},
   "outputs": [],
   "source": [
    "pd.set_option('display.max_columns', None)"
   ]
  },
  {
   "cell_type": "code",
   "execution_count": 57,
   "metadata": {},
   "outputs": [],
   "source": [
    "data.drop(\"html_num_tags('applet')\", axis=1, inplace=True) # html_num_tags('applet') 데이터 모두 0라서 삭제."
   ]
  },
  {
   "cell_type": "code",
   "execution_count": 13,
   "metadata": {},
   "outputs": [
    {
     "data": {
      "text/html": [
       "<div>\n",
       "<style scoped>\n",
       "    .dataframe tbody tr th:only-of-type {\n",
       "        vertical-align: middle;\n",
       "    }\n",
       "\n",
       "    .dataframe tbody tr th {\n",
       "        vertical-align: top;\n",
       "    }\n",
       "\n",
       "    .dataframe thead th {\n",
       "        text-align: right;\n",
       "    }\n",
       "</style>\n",
       "<table border=\"1\" class=\"dataframe\">\n",
       "  <thead>\n",
       "    <tr style=\"text-align: right;\">\n",
       "      <th></th>\n",
       "      <th>url_len</th>\n",
       "      <th>url_num_hyphens_dom</th>\n",
       "      <th>url_path_len</th>\n",
       "      <th>url_domain_len</th>\n",
       "      <th>url_hostname_len</th>\n",
       "      <th>url_num_dots</th>\n",
       "      <th>url_num_underscores</th>\n",
       "      <th>url_query_len</th>\n",
       "      <th>url_num_query_para</th>\n",
       "      <th>url_ip_present</th>\n",
       "      <th>url_entropy</th>\n",
       "      <th>url_port</th>\n",
       "      <th>html_num_tags('iframe')</th>\n",
       "      <th>html_num_tags('script')</th>\n",
       "      <th>html_num_tags('embed')</th>\n",
       "      <th>html_num_tags('object')</th>\n",
       "      <th>html_num_tags('div')</th>\n",
       "      <th>html_num_tags('head')</th>\n",
       "      <th>html_num_tags('body')</th>\n",
       "      <th>html_num_tags('form')</th>\n",
       "      <th>html_num_tags('a')</th>\n",
       "    </tr>\n",
       "  </thead>\n",
       "  <tbody>\n",
       "    <tr>\n",
       "      <th>count</th>\n",
       "      <td>3662.000000</td>\n",
       "      <td>3662.000000</td>\n",
       "      <td>3662.000000</td>\n",
       "      <td>3662.000000</td>\n",
       "      <td>3662.000000</td>\n",
       "      <td>3662.000000</td>\n",
       "      <td>3662.000000</td>\n",
       "      <td>3662.000000</td>\n",
       "      <td>3662.000000</td>\n",
       "      <td>3662.000000</td>\n",
       "      <td>3662.000000</td>\n",
       "      <td>3662.000000</td>\n",
       "      <td>3662.000000</td>\n",
       "      <td>3662.000000</td>\n",
       "      <td>3662.000000</td>\n",
       "      <td>3662.000000</td>\n",
       "      <td>3662.000000</td>\n",
       "      <td>3662.000000</td>\n",
       "      <td>3662.000000</td>\n",
       "      <td>3662.000000</td>\n",
       "      <td>3662.000000</td>\n",
       "    </tr>\n",
       "    <tr>\n",
       "      <th>mean</th>\n",
       "      <td>54.572365</td>\n",
       "      <td>0.412616</td>\n",
       "      <td>29.373839</td>\n",
       "      <td>20.385035</td>\n",
       "      <td>20.327690</td>\n",
       "      <td>2.516658</td>\n",
       "      <td>0.272802</td>\n",
       "      <td>4.710268</td>\n",
       "      <td>0.104315</td>\n",
       "      <td>0.060623</td>\n",
       "      <td>4.228548</td>\n",
       "      <td>0.002185</td>\n",
       "      <td>0.220918</td>\n",
       "      <td>8.787275</td>\n",
       "      <td>0.018023</td>\n",
       "      <td>0.028946</td>\n",
       "      <td>70.824959</td>\n",
       "      <td>0.998088</td>\n",
       "      <td>1.016658</td>\n",
       "      <td>1.028946</td>\n",
       "      <td>66.185691</td>\n",
       "    </tr>\n",
       "    <tr>\n",
       "      <th>std</th>\n",
       "      <td>82.513738</td>\n",
       "      <td>0.846855</td>\n",
       "      <td>78.604482</td>\n",
       "      <td>9.597743</td>\n",
       "      <td>9.626212</td>\n",
       "      <td>1.534319</td>\n",
       "      <td>1.124881</td>\n",
       "      <td>25.324960</td>\n",
       "      <td>0.574461</td>\n",
       "      <td>0.238669</td>\n",
       "      <td>0.393160</td>\n",
       "      <td>0.046695</td>\n",
       "      <td>0.898613</td>\n",
       "      <td>12.650442</td>\n",
       "      <td>0.144847</td>\n",
       "      <td>0.237746</td>\n",
       "      <td>365.683940</td>\n",
       "      <td>0.145013</td>\n",
       "      <td>0.225392</td>\n",
       "      <td>1.564155</td>\n",
       "      <td>342.742054</td>\n",
       "    </tr>\n",
       "    <tr>\n",
       "      <th>min</th>\n",
       "      <td>6.000000</td>\n",
       "      <td>0.000000</td>\n",
       "      <td>0.000000</td>\n",
       "      <td>4.000000</td>\n",
       "      <td>4.000000</td>\n",
       "      <td>1.000000</td>\n",
       "      <td>0.000000</td>\n",
       "      <td>0.000000</td>\n",
       "      <td>0.000000</td>\n",
       "      <td>0.000000</td>\n",
       "      <td>2.737839</td>\n",
       "      <td>0.000000</td>\n",
       "      <td>0.000000</td>\n",
       "      <td>0.000000</td>\n",
       "      <td>0.000000</td>\n",
       "      <td>0.000000</td>\n",
       "      <td>0.000000</td>\n",
       "      <td>0.000000</td>\n",
       "      <td>0.000000</td>\n",
       "      <td>0.000000</td>\n",
       "      <td>0.000000</td>\n",
       "    </tr>\n",
       "    <tr>\n",
       "      <th>25%</th>\n",
       "      <td>24.000000</td>\n",
       "      <td>0.000000</td>\n",
       "      <td>1.000000</td>\n",
       "      <td>14.000000</td>\n",
       "      <td>14.000000</td>\n",
       "      <td>2.000000</td>\n",
       "      <td>0.000000</td>\n",
       "      <td>0.000000</td>\n",
       "      <td>0.000000</td>\n",
       "      <td>0.000000</td>\n",
       "      <td>3.983196</td>\n",
       "      <td>0.000000</td>\n",
       "      <td>0.000000</td>\n",
       "      <td>2.000000</td>\n",
       "      <td>0.000000</td>\n",
       "      <td>0.000000</td>\n",
       "      <td>6.000000</td>\n",
       "      <td>1.000000</td>\n",
       "      <td>1.000000</td>\n",
       "      <td>0.000000</td>\n",
       "      <td>2.000000</td>\n",
       "    </tr>\n",
       "    <tr>\n",
       "      <th>50%</th>\n",
       "      <td>36.000000</td>\n",
       "      <td>0.000000</td>\n",
       "      <td>13.000000</td>\n",
       "      <td>17.000000</td>\n",
       "      <td>17.000000</td>\n",
       "      <td>2.000000</td>\n",
       "      <td>0.000000</td>\n",
       "      <td>0.000000</td>\n",
       "      <td>0.000000</td>\n",
       "      <td>0.000000</td>\n",
       "      <td>4.189561</td>\n",
       "      <td>0.000000</td>\n",
       "      <td>0.000000</td>\n",
       "      <td>4.000000</td>\n",
       "      <td>0.000000</td>\n",
       "      <td>0.000000</td>\n",
       "      <td>33.000000</td>\n",
       "      <td>1.000000</td>\n",
       "      <td>1.000000</td>\n",
       "      <td>1.000000</td>\n",
       "      <td>16.000000</td>\n",
       "    </tr>\n",
       "    <tr>\n",
       "      <th>75%</th>\n",
       "      <td>55.000000</td>\n",
       "      <td>1.000000</td>\n",
       "      <td>31.000000</td>\n",
       "      <td>24.000000</td>\n",
       "      <td>24.000000</td>\n",
       "      <td>3.000000</td>\n",
       "      <td>0.000000</td>\n",
       "      <td>0.000000</td>\n",
       "      <td>0.000000</td>\n",
       "      <td>0.000000</td>\n",
       "      <td>4.459800</td>\n",
       "      <td>0.000000</td>\n",
       "      <td>0.000000</td>\n",
       "      <td>12.000000</td>\n",
       "      <td>0.000000</td>\n",
       "      <td>0.000000</td>\n",
       "      <td>62.000000</td>\n",
       "      <td>1.000000</td>\n",
       "      <td>1.000000</td>\n",
       "      <td>1.000000</td>\n",
       "      <td>52.000000</td>\n",
       "    </tr>\n",
       "    <tr>\n",
       "      <th>max</th>\n",
       "      <td>1837.000000</td>\n",
       "      <td>14.000000</td>\n",
       "      <td>1816.000000</td>\n",
       "      <td>109.000000</td>\n",
       "      <td>109.000000</td>\n",
       "      <td>32.000000</td>\n",
       "      <td>18.000000</td>\n",
       "      <td>429.000000</td>\n",
       "      <td>9.000000</td>\n",
       "      <td>1.000000</td>\n",
       "      <td>5.821782</td>\n",
       "      <td>1.000000</td>\n",
       "      <td>26.000000</td>\n",
       "      <td>267.000000</td>\n",
       "      <td>3.000000</td>\n",
       "      <td>8.000000</td>\n",
       "      <td>19941.000000</td>\n",
       "      <td>3.000000</td>\n",
       "      <td>3.000000</td>\n",
       "      <td>57.000000</td>\n",
       "      <td>13451.000000</td>\n",
       "    </tr>\n",
       "  </tbody>\n",
       "</table>\n",
       "</div>"
      ],
      "text/plain": [
       "           url_len  url_num_hyphens_dom  url_path_len  url_domain_len  \\\n",
       "count  3662.000000          3662.000000   3662.000000     3662.000000   \n",
       "mean     54.572365             0.412616     29.373839       20.385035   \n",
       "std      82.513738             0.846855     78.604482        9.597743   \n",
       "min       6.000000             0.000000      0.000000        4.000000   \n",
       "25%      24.000000             0.000000      1.000000       14.000000   \n",
       "50%      36.000000             0.000000     13.000000       17.000000   \n",
       "75%      55.000000             1.000000     31.000000       24.000000   \n",
       "max    1837.000000            14.000000   1816.000000      109.000000   \n",
       "\n",
       "       url_hostname_len  url_num_dots  url_num_underscores  url_query_len  \\\n",
       "count       3662.000000   3662.000000          3662.000000    3662.000000   \n",
       "mean          20.327690      2.516658             0.272802       4.710268   \n",
       "std            9.626212      1.534319             1.124881      25.324960   \n",
       "min            4.000000      1.000000             0.000000       0.000000   \n",
       "25%           14.000000      2.000000             0.000000       0.000000   \n",
       "50%           17.000000      2.000000             0.000000       0.000000   \n",
       "75%           24.000000      3.000000             0.000000       0.000000   \n",
       "max          109.000000     32.000000            18.000000     429.000000   \n",
       "\n",
       "       url_num_query_para  url_ip_present  url_entropy     url_port  \\\n",
       "count         3662.000000     3662.000000  3662.000000  3662.000000   \n",
       "mean             0.104315        0.060623     4.228548     0.002185   \n",
       "std              0.574461        0.238669     0.393160     0.046695   \n",
       "min              0.000000        0.000000     2.737839     0.000000   \n",
       "25%              0.000000        0.000000     3.983196     0.000000   \n",
       "50%              0.000000        0.000000     4.189561     0.000000   \n",
       "75%              0.000000        0.000000     4.459800     0.000000   \n",
       "max              9.000000        1.000000     5.821782     1.000000   \n",
       "\n",
       "       html_num_tags('iframe')  html_num_tags('script')  \\\n",
       "count              3662.000000              3662.000000   \n",
       "mean                  0.220918                 8.787275   \n",
       "std                   0.898613                12.650442   \n",
       "min                   0.000000                 0.000000   \n",
       "25%                   0.000000                 2.000000   \n",
       "50%                   0.000000                 4.000000   \n",
       "75%                   0.000000                12.000000   \n",
       "max                  26.000000               267.000000   \n",
       "\n",
       "       html_num_tags('embed')  html_num_tags('object')  html_num_tags('div')  \\\n",
       "count             3662.000000              3662.000000           3662.000000   \n",
       "mean                 0.018023                 0.028946             70.824959   \n",
       "std                  0.144847                 0.237746            365.683940   \n",
       "min                  0.000000                 0.000000              0.000000   \n",
       "25%                  0.000000                 0.000000              6.000000   \n",
       "50%                  0.000000                 0.000000             33.000000   \n",
       "75%                  0.000000                 0.000000             62.000000   \n",
       "max                  3.000000                 8.000000          19941.000000   \n",
       "\n",
       "       html_num_tags('head')  html_num_tags('body')  html_num_tags('form')  \\\n",
       "count            3662.000000            3662.000000            3662.000000   \n",
       "mean                0.998088               1.016658               1.028946   \n",
       "std                 0.145013               0.225392               1.564155   \n",
       "min                 0.000000               0.000000               0.000000   \n",
       "25%                 1.000000               1.000000               0.000000   \n",
       "50%                 1.000000               1.000000               1.000000   \n",
       "75%                 1.000000               1.000000               1.000000   \n",
       "max                 3.000000               3.000000              57.000000   \n",
       "\n",
       "       html_num_tags('a')  \n",
       "count         3662.000000  \n",
       "mean            66.185691  \n",
       "std            342.742054  \n",
       "min              0.000000  \n",
       "25%              2.000000  \n",
       "50%             16.000000  \n",
       "75%             52.000000  \n",
       "max          13451.000000  "
      ]
     },
     "execution_count": 13,
     "metadata": {},
     "output_type": "execute_result"
    }
   ],
   "source": [
    "data.describe()"
   ]
  },
  {
   "cell_type": "markdown",
   "metadata": {},
   "source": []
  },
  {
   "cell_type": "code",
   "execution_count": null,
   "metadata": {},
   "outputs": [],
   "source": [
    "## 변수 단변량 확인"
   ]
  },
  {
   "cell_type": "code",
   "execution_count": 14,
   "metadata": {},
   "outputs": [
    {
     "data": {
      "image/png": "[encoded data removed]",
      "text/plain": [
       "<Figure size 432x288 with 1 Axes>"
      ]
     },
     "metadata": {
      "needs_background": "light"
     },
     "output_type": "display_data"
    }
   ],
   "source": [
    "sns.boxplot(data['url_entropy'])\n",
    "plt.show()"
   ]
  },
  {
   "cell_type": "code",
   "execution_count": 49,
   "metadata": {},
   "outputs": [
    {
     "data": {
      "text/plain": [
       "(54, 22)"
      ]
     },
     "execution_count": 49,
     "metadata": {},
     "output_type": "execute_result"
    }
   ],
   "source": [
    "data.loc[data['url_entropy'] > (4.459800 + (4.459800-3.983196)*1.5)].shape # IQR*1.5 + 75%값보다 큰 값의 개수 확인"
   ]
  },
  {
   "cell_type": "code",
   "execution_count": 50,
   "metadata": {},
   "outputs": [
    {
     "data": {
      "text/plain": [
       "(324, 22)"
      ]
     },
     "execution_count": 50,
     "metadata": {},
     "output_type": "execute_result"
    }
   ],
   "source": [
    "data.loc[data['url_entropy'] < (4.459800 - (4.459800-3.983196)*1.5)].shape # 25%값 - IQR*1.5보다 작은 값의 개수 확인"
   ]
  },
  {
   "cell_type": "code",
   "execution_count": 28,
   "metadata": {},
   "outputs": [
    {
     "data": {
      "text/plain": [
       "count    3662.000000\n",
       "mean       29.373839\n",
       "std        78.604482\n",
       "min         0.000000\n",
       "25%         1.000000\n",
       "50%        13.000000\n",
       "75%        31.000000\n",
       "max      1816.000000\n",
       "Name: url_path_len, dtype: float64"
      ]
     },
     "execution_count": 28,
     "metadata": {},
     "output_type": "execute_result"
    }
   ],
   "source": [
    "data['url_path_len'].describe()"
   ]
  },
  {
   "cell_type": "code",
   "execution_count": 31,
   "metadata": {},
   "outputs": [],
   "source": [
    "def getIQR(data, columns):\n",
    "    min = np.percentile(data[columns], 25)\n",
    "    max = np.percentile(data[columns], 75)\n",
    "    return (max-min)"
   ]
  },
  {
   "cell_type": "code",
   "execution_count": 41,
   "metadata": {},
   "outputs": [
    {
     "data": {
      "text/plain": [
       "(236, 22)"
      ]
     },
     "execution_count": 41,
     "metadata": {},
     "output_type": "execute_result"
    }
   ],
   "source": [
    "a = getIQR(data, 'url_path_len')*1.8+np.percentile(data['url_path_len'], 75)\n",
    "data.loc[data['url_path_len'] > a].shape"
   ]
  },
  {
   "cell_type": "code",
   "execution_count": 27,
   "metadata": {},
   "outputs": [
    {
     "data": {
      "image/png": "[encoded data removed]",
      "text/plain": [
       "<Figure size 432x288 with 1 Axes>"
      ]
     },
     "metadata": {
      "needs_background": "light"
     },
     "output_type": "display_data"
    }
   ],
   "source": [
    "sns.boxplot(data['url_path_len'])\n",
    "plt.show()"
   ]
  },
  {
   "cell_type": "code",
   "execution_count": 35,
   "metadata": {},
   "outputs": [
    {
     "data": {
      "text/plain": [
       "count    3662.000000\n",
       "mean        1.028946\n",
       "std         1.564155\n",
       "min         0.000000\n",
       "25%         0.000000\n",
       "50%         1.000000\n",
       "75%         1.000000\n",
       "max        57.000000\n",
       "Name: html_num_tags('form'), dtype: float64"
      ]
     },
     "execution_count": 35,
     "metadata": {},
     "output_type": "execute_result"
    }
   ],
   "source": [
    "data[\"html_num_tags('form')\"].describe()"
   ]
  },
  {
   "cell_type": "code",
   "execution_count": 36,
   "metadata": {},
   "outputs": [
    {
     "data": {
      "text/plain": [
       "(250, 22)"
      ]
     },
     "execution_count": 36,
     "metadata": {},
     "output_type": "execute_result"
    }
   ],
   "source": [
    "a = getIQR(data, \"html_num_tags('form')\")*1.5+np.percentile(data[\"html_num_tags('form')\"], 75)\n",
    "data.loc[data[\"html_num_tags('form')\"] > a].shape"
   ]
  },
  {
   "cell_type": "code",
   "execution_count": 40,
   "metadata": {},
   "outputs": [
    {
     "data": {
      "image/png": "[encoded data removed]",
      "text/plain": [
       "<Figure size 432x288 with 1 Axes>"
      ]
     },
     "metadata": {
      "needs_background": "light"
     },
     "output_type": "display_data"
    }
   ],
   "source": [
    "sns.boxplot(data[\"html_num_tags('form')\"])\n",
    "plt.show()"
   ]
  },
  {
   "cell_type": "code",
   "execution_count": 39,
   "metadata": {},
   "outputs": [
    {
     "data": {
      "text/plain": [
       "0.0      3434\n",
       "41.0       50\n",
       "157.0      21\n",
       "5.0        12\n",
       "11.0        8\n",
       "         ... \n",
       "271.0       1\n",
       "312.0       1\n",
       "42.0        1\n",
       "71.0        1\n",
       "43.0        1\n",
       "Name: url_query_len, Length: 78, dtype: int64"
      ]
     },
     "execution_count": 39,
     "metadata": {},
     "output_type": "execute_result"
    }
   ],
   "source": [
    "data['url_query_len'].value_counts()"
   ]
  },
  {
   "cell_type": "markdown",
   "metadata": {},
   "source": [
    "## <b>Q2. 데이터 이변량 분석하기\n",
    "\n",
    "* 자료의 종류에 맞게 X --> Y 에 대해서 그래프(시각화)와 가설검정(수치화)를 수행하고 결과를 평가합니다.\n",
    "* 가설검정시 다음의 항목을 참조하여 수행합니다.\n",
    "    * 적절한 유의수준\n",
    "    * 숫자 --> 숫자 : 상관분석\n",
    "    * 범주 --> 범주 : 카이제곱검정\n",
    "    * 범주 --> 숫자 : t검정, 분산분석\n",
    "    * 숫자 --> 범주 : 로지스틱 회귀모형을 통해, 회귀계수의 P.value로 검정을 수행합니다."
   ]
  },
  {
   "cell_type": "code",
   "execution_count": 58,
   "metadata": {},
   "outputs": [],
   "source": [
    "data2 = data.replace({'malicious' : 0, 'benign' : 1})"
   ]
  },
  {
   "cell_type": "markdown",
   "metadata": {},
   "source": [
    "1. URL 복잡도(url_entropy)와 악성사이트(Result_v1)는 관계가 있는가?"
   ]
  },
  {
   "cell_type": "code",
   "execution_count": 59,
   "metadata": {},
   "outputs": [
    {
     "data": {
      "image/png": "[encoded data removed]",
      "text/plain": [
       "<Figure size 432x288 with 1 Axes>"
      ]
     },
     "metadata": {
      "needs_background": "light"
     },
     "output_type": "display_data"
    }
   ],
   "source": [
    "sns.kdeplot(x='url_entropy', data = data2, hue ='Result_v1')\n",
    "plt.show()"
   ]
  },
  {
   "cell_type": "code",
   "execution_count": 62,
   "metadata": {},
   "outputs": [
    {
     "name": "stdout",
     "output_type": "stream",
     "text": [
      "Optimization terminated successfully.\n",
      "         Current function value: 0.693146\n",
      "         Iterations 2\n",
      "url_entropy    0.915585\n",
      "dtype: float64\n"
     ]
    }
   ],
   "source": [
    "model = sm.Logit(data2['Result_v1'], data2['url_entropy'])\n",
    "result = model.fit()\n",
    "print(result.pvalues)"
   ]
  },
  {
   "cell_type": "markdown",
   "metadata": {},
   "source": [
    "2. URL 경로 길이(url_path_len)와 악성사이트(Result_v1)는 관계가 있는가?"
   ]
  },
  {
   "cell_type": "code",
   "execution_count": 63,
   "metadata": {},
   "outputs": [
    {
     "data": {
      "image/png": "[encoded data removed]",
      "text/plain": [
       "<Figure size 432x288 with 1 Axes>"
      ]
     },
     "metadata": {
      "needs_background": "light"
     },
     "output_type": "display_data"
    }
   ],
   "source": [
    "sns.kdeplot(x='url_path_len', data = data2, hue ='Result_v1')\n",
    "plt.show()"
   ]
  },
  {
   "cell_type": "code",
   "execution_count": 64,
   "metadata": {},
   "outputs": [
    {
     "name": "stdout",
     "output_type": "stream",
     "text": [
      "Optimization terminated successfully.\n",
      "         Current function value: 0.686528\n",
      "         Iterations 5\n",
      "url_path_len    4.907666e-09\n",
      "dtype: float64\n"
     ]
    }
   ],
   "source": [
    "model = sm.Logit(data2['Result_v1'], data2['url_path_len'])\n",
    "result = model.fit()\n",
    "print(result.pvalues)"
   ]
  },
  {
   "cell_type": "markdown",
   "metadata": {},
   "source": [
    "3. form의 개수(html_num_tags('form'))와 악성사이트(Result_v1)는 관계가 있는가?"
   ]
  },
  {
   "cell_type": "code",
   "execution_count": 65,
   "metadata": {},
   "outputs": [
    {
     "data": {
      "image/png": "[encoded data removed]",
      "text/plain": [
       "<Figure size 432x288 with 1 Axes>"
      ]
     },
     "metadata": {
      "needs_background": "light"
     },
     "output_type": "display_data"
    }
   ],
   "source": [
    "sns.kdeplot(x=\"html_num_tags('form')\", data=data2, hue='Result_v1')\n",
    "plt.show()"
   ]
  },
  {
   "cell_type": "code",
   "execution_count": 68,
   "metadata": {},
   "outputs": [
    {
     "name": "stdout",
     "output_type": "stream",
     "text": [
      "Optimization terminated successfully.\n",
      "         Current function value: 0.687675\n",
      "         Iterations 5\n",
      "html_num_tags('form')    2.788460e-09\n",
      "dtype: float64\n"
     ]
    }
   ],
   "source": [
    "model = sm.Logit(data2['Result_v1'], data2[\"html_num_tags('form')\"])\n",
    "result = model.fit()\n",
    "print(result.pvalues)"
   ]
  },
  {
   "cell_type": "markdown",
   "metadata": {},
   "source": [
    "# <b>Step 2. 데이터 전처리\n",
    "---"
   ]
  },
  {
   "cell_type": "markdown",
   "metadata": {},
   "source": [
    "## <b>Q3. 중복 데이터 제거\n",
    "### 우리가 접속하는 대부분의 웹사이트는 정상 사이트입니다.\n",
    "### 또한, 특정 몇 개 사이트(ex. google, instagram, facebook 등)에 접속 빈도가 높습니다.\n",
    "### 편중된 데이터는 모델 학습에 안 좋은 영향을 주기 때문에 중복 데이터 제거를 통해 해결합니다.\n",
    "### 이 과정은 데이터 전처리 시 반드시 해야 하는 과정은 아니며, 프로젝트/데이터 성격에 맞게 결정하시면 됩니다."
   ]
  },
  {
   "cell_type": "markdown",
   "metadata": {},
   "source": [
    "### <span style=\"color:darkred\">[문제1] df info()를 통해 데이터를 확인하고 중복된 데이터는 삭제해주세요. 삭제 후 info()를 통해 이전 데이터와 비교해 보세요.<span>"
   ]
  },
  {
   "cell_type": "code",
   "execution_count": 53,
   "metadata": {},
   "outputs": [
    {
     "name": "stdout",
     "output_type": "stream",
     "text": [
      "<class 'pandas.core.frame.DataFrame'>\n",
      "Int64Index: 3662 entries, 0 to 3663\n",
      "Data columns (total 23 columns):\n",
      " #   Column                   Non-Null Count  Dtype  \n",
      "---  ------                   --------------  -----  \n",
      " 0   Unnamed: 0               3662 non-null   int64  \n",
      " 1   url_len                  3662 non-null   float64\n",
      " 2   url_num_hyphens_dom      3662 non-null   float64\n",
      " 3   url_path_len             3662 non-null   float64\n",
      " 4   url_domain_len           3662 non-null   float64\n",
      " 5   url_hostname_len         3662 non-null   float64\n",
      " 6   url_num_dots             3662 non-null   float64\n",
      " 7   url_num_underscores      3662 non-null   float64\n",
      " 8   url_query_len            3662 non-null   float64\n",
      " 9   url_num_query_para       3662 non-null   float64\n",
      " 10  url_ip_present           3662 non-null   float64\n",
      " 11  url_entropy              3662 non-null   float64\n",
      " 12  url_port                 3662 non-null   float64\n",
      " 13  html_num_tags('iframe')  3662 non-null   float64\n",
      " 14  html_num_tags('script')  3662 non-null   float64\n",
      " 15  html_num_tags('embed')   3662 non-null   float64\n",
      " 16  html_num_tags('object')  3662 non-null   float64\n",
      " 17  html_num_tags('div')     3662 non-null   float64\n",
      " 18  html_num_tags('head')    3662 non-null   float64\n",
      " 19  html_num_tags('body')    3662 non-null   float64\n",
      " 20  html_num_tags('form')    3662 non-null   float64\n",
      " 21  html_num_tags('a')       3662 non-null   float64\n",
      " 22  Result_v1                3662 non-null   object \n",
      "dtypes: float64(21), int64(1), object(1)\n",
      "memory usage: 686.6+ KB\n"
     ]
    }
   ],
   "source": [
    "# 데이터 프레임의 info를 확인합니다.\n",
    "data.info()"
   ]
  },
  {
   "cell_type": "code",
   "execution_count": 122,
   "metadata": {},
   "outputs": [],
   "source": [
    "columns = ['url_len','url_path_len','url_domain_len', 'url_hostname_len', 'url_num_dots','url_query_len','url_entropy']"
   ]
  },
  {
   "cell_type": "code",
   "execution_count": 123,
   "metadata": {},
   "outputs": [
    {
     "data": {
      "text/html": [
       "<div>\n",
       "<style scoped>\n",
       "    .dataframe tbody tr th:only-of-type {\n",
       "        vertical-align: middle;\n",
       "    }\n",
       "\n",
       "    .dataframe tbody tr th {\n",
       "        vertical-align: top;\n",
       "    }\n",
       "\n",
       "    .dataframe thead th {\n",
       "        text-align: right;\n",
       "    }\n",
       "</style>\n",
       "<table border=\"1\" class=\"dataframe\">\n",
       "  <thead>\n",
       "    <tr style=\"text-align: right;\">\n",
       "      <th></th>\n",
       "      <th>Unnamed: 0</th>\n",
       "      <th>url_len</th>\n",
       "      <th>url_num_hyphens_dom</th>\n",
       "      <th>url_path_len</th>\n",
       "      <th>url_domain_len</th>\n",
       "      <th>url_hostname_len</th>\n",
       "      <th>url_num_dots</th>\n",
       "      <th>url_num_underscores</th>\n",
       "      <th>url_query_len</th>\n",
       "      <th>url_num_query_para</th>\n",
       "      <th>url_ip_present</th>\n",
       "      <th>url_entropy</th>\n",
       "      <th>url_port</th>\n",
       "      <th>html_num_tags('iframe')</th>\n",
       "      <th>html_num_tags('script')</th>\n",
       "      <th>html_num_tags('embed')</th>\n",
       "      <th>html_num_tags('object')</th>\n",
       "      <th>html_num_tags('div')</th>\n",
       "      <th>html_num_tags('head')</th>\n",
       "      <th>html_num_tags('body')</th>\n",
       "      <th>html_num_tags('form')</th>\n",
       "      <th>html_num_tags('a')</th>\n",
       "      <th>Result_v1</th>\n",
       "    </tr>\n",
       "  </thead>\n",
       "  <tbody>\n",
       "    <tr>\n",
       "      <th>48</th>\n",
       "      <td>48</td>\n",
       "      <td>17.0</td>\n",
       "      <td>0.0</td>\n",
       "      <td>0.0</td>\n",
       "      <td>17.0</td>\n",
       "      <td>17.0</td>\n",
       "      <td>2.0</td>\n",
       "      <td>0.0</td>\n",
       "      <td>0.0</td>\n",
       "      <td>0.0</td>\n",
       "      <td>0.0</td>\n",
       "      <td>4.084963</td>\n",
       "      <td>0.0</td>\n",
       "      <td>1.0</td>\n",
       "      <td>6.0</td>\n",
       "      <td>0.0</td>\n",
       "      <td>0.0</td>\n",
       "      <td>249.0</td>\n",
       "      <td>1.0</td>\n",
       "      <td>1.0</td>\n",
       "      <td>3.0</td>\n",
       "      <td>162.0</td>\n",
       "      <td>benign</td>\n",
       "    </tr>\n",
       "    <tr>\n",
       "      <th>79</th>\n",
       "      <td>79</td>\n",
       "      <td>17.0</td>\n",
       "      <td>0.0</td>\n",
       "      <td>0.0</td>\n",
       "      <td>17.0</td>\n",
       "      <td>17.0</td>\n",
       "      <td>2.0</td>\n",
       "      <td>0.0</td>\n",
       "      <td>0.0</td>\n",
       "      <td>0.0</td>\n",
       "      <td>0.0</td>\n",
       "      <td>3.970176</td>\n",
       "      <td>0.0</td>\n",
       "      <td>0.0</td>\n",
       "      <td>12.0</td>\n",
       "      <td>0.0</td>\n",
       "      <td>0.0</td>\n",
       "      <td>118.0</td>\n",
       "      <td>1.0</td>\n",
       "      <td>1.0</td>\n",
       "      <td>1.0</td>\n",
       "      <td>34.0</td>\n",
       "      <td>benign</td>\n",
       "    </tr>\n",
       "    <tr>\n",
       "      <th>114</th>\n",
       "      <td>114</td>\n",
       "      <td>19.0</td>\n",
       "      <td>0.0</td>\n",
       "      <td>0.0</td>\n",
       "      <td>19.0</td>\n",
       "      <td>19.0</td>\n",
       "      <td>2.0</td>\n",
       "      <td>0.0</td>\n",
       "      <td>0.0</td>\n",
       "      <td>0.0</td>\n",
       "      <td>0.0</td>\n",
       "      <td>4.056021</td>\n",
       "      <td>0.0</td>\n",
       "      <td>0.0</td>\n",
       "      <td>4.0</td>\n",
       "      <td>0.0</td>\n",
       "      <td>0.0</td>\n",
       "      <td>183.0</td>\n",
       "      <td>1.0</td>\n",
       "      <td>1.0</td>\n",
       "      <td>1.0</td>\n",
       "      <td>564.0</td>\n",
       "      <td>benign</td>\n",
       "    </tr>\n",
       "    <tr>\n",
       "      <th>126</th>\n",
       "      <td>126</td>\n",
       "      <td>14.0</td>\n",
       "      <td>0.0</td>\n",
       "      <td>8.0</td>\n",
       "      <td>6.0</td>\n",
       "      <td>6.0</td>\n",
       "      <td>1.0</td>\n",
       "      <td>0.0</td>\n",
       "      <td>0.0</td>\n",
       "      <td>0.0</td>\n",
       "      <td>0.0</td>\n",
       "      <td>4.027169</td>\n",
       "      <td>0.0</td>\n",
       "      <td>0.0</td>\n",
       "      <td>3.0</td>\n",
       "      <td>0.0</td>\n",
       "      <td>0.0</td>\n",
       "      <td>8.0</td>\n",
       "      <td>1.0</td>\n",
       "      <td>1.0</td>\n",
       "      <td>0.0</td>\n",
       "      <td>5.0</td>\n",
       "      <td>malicious</td>\n",
       "    </tr>\n",
       "    <tr>\n",
       "      <th>169</th>\n",
       "      <td>169</td>\n",
       "      <td>13.0</td>\n",
       "      <td>0.0</td>\n",
       "      <td>0.0</td>\n",
       "      <td>13.0</td>\n",
       "      <td>13.0</td>\n",
       "      <td>2.0</td>\n",
       "      <td>0.0</td>\n",
       "      <td>0.0</td>\n",
       "      <td>0.0</td>\n",
       "      <td>0.0</td>\n",
       "      <td>3.684184</td>\n",
       "      <td>0.0</td>\n",
       "      <td>0.0</td>\n",
       "      <td>18.0</td>\n",
       "      <td>0.0</td>\n",
       "      <td>0.0</td>\n",
       "      <td>219.0</td>\n",
       "      <td>1.0</td>\n",
       "      <td>1.0</td>\n",
       "      <td>1.0</td>\n",
       "      <td>344.0</td>\n",
       "      <td>benign</td>\n",
       "    </tr>\n",
       "    <tr>\n",
       "      <th>...</th>\n",
       "      <td>...</td>\n",
       "      <td>...</td>\n",
       "      <td>...</td>\n",
       "      <td>...</td>\n",
       "      <td>...</td>\n",
       "      <td>...</td>\n",
       "      <td>...</td>\n",
       "      <td>...</td>\n",
       "      <td>...</td>\n",
       "      <td>...</td>\n",
       "      <td>...</td>\n",
       "      <td>...</td>\n",
       "      <td>...</td>\n",
       "      <td>...</td>\n",
       "      <td>...</td>\n",
       "      <td>...</td>\n",
       "      <td>...</td>\n",
       "      <td>...</td>\n",
       "      <td>...</td>\n",
       "      <td>...</td>\n",
       "      <td>...</td>\n",
       "      <td>...</td>\n",
       "      <td>...</td>\n",
       "    </tr>\n",
       "    <tr>\n",
       "      <th>3646</th>\n",
       "      <td>3646</td>\n",
       "      <td>14.0</td>\n",
       "      <td>0.0</td>\n",
       "      <td>0.0</td>\n",
       "      <td>14.0</td>\n",
       "      <td>14.0</td>\n",
       "      <td>2.0</td>\n",
       "      <td>0.0</td>\n",
       "      <td>0.0</td>\n",
       "      <td>0.0</td>\n",
       "      <td>0.0</td>\n",
       "      <td>3.689704</td>\n",
       "      <td>0.0</td>\n",
       "      <td>0.0</td>\n",
       "      <td>5.0</td>\n",
       "      <td>0.0</td>\n",
       "      <td>0.0</td>\n",
       "      <td>183.0</td>\n",
       "      <td>1.0</td>\n",
       "      <td>1.0</td>\n",
       "      <td>1.0</td>\n",
       "      <td>560.0</td>\n",
       "      <td>benign</td>\n",
       "    </tr>\n",
       "    <tr>\n",
       "      <th>3650</th>\n",
       "      <td>3650</td>\n",
       "      <td>35.0</td>\n",
       "      <td>0.0</td>\n",
       "      <td>21.0</td>\n",
       "      <td>14.0</td>\n",
       "      <td>14.0</td>\n",
       "      <td>3.0</td>\n",
       "      <td>1.0</td>\n",
       "      <td>0.0</td>\n",
       "      <td>0.0</td>\n",
       "      <td>0.0</td>\n",
       "      <td>4.156219</td>\n",
       "      <td>0.0</td>\n",
       "      <td>0.0</td>\n",
       "      <td>0.0</td>\n",
       "      <td>0.0</td>\n",
       "      <td>0.0</td>\n",
       "      <td>1.0</td>\n",
       "      <td>1.0</td>\n",
       "      <td>1.0</td>\n",
       "      <td>0.0</td>\n",
       "      <td>0.0</td>\n",
       "      <td>benign</td>\n",
       "    </tr>\n",
       "    <tr>\n",
       "      <th>3658</th>\n",
       "      <td>3658</td>\n",
       "      <td>14.0</td>\n",
       "      <td>0.0</td>\n",
       "      <td>0.0</td>\n",
       "      <td>14.0</td>\n",
       "      <td>14.0</td>\n",
       "      <td>3.0</td>\n",
       "      <td>0.0</td>\n",
       "      <td>0.0</td>\n",
       "      <td>0.0</td>\n",
       "      <td>1.0</td>\n",
       "      <td>3.499228</td>\n",
       "      <td>0.0</td>\n",
       "      <td>0.0</td>\n",
       "      <td>0.0</td>\n",
       "      <td>0.0</td>\n",
       "      <td>0.0</td>\n",
       "      <td>2.0</td>\n",
       "      <td>1.0</td>\n",
       "      <td>1.0</td>\n",
       "      <td>0.0</td>\n",
       "      <td>1.0</td>\n",
       "      <td>benign</td>\n",
       "    </tr>\n",
       "    <tr>\n",
       "      <th>3661</th>\n",
       "      <td>3661</td>\n",
       "      <td>90.0</td>\n",
       "      <td>1.0</td>\n",
       "      <td>64.0</td>\n",
       "      <td>26.0</td>\n",
       "      <td>26.0</td>\n",
       "      <td>4.0</td>\n",
       "      <td>0.0</td>\n",
       "      <td>0.0</td>\n",
       "      <td>0.0</td>\n",
       "      <td>0.0</td>\n",
       "      <td>4.693343</td>\n",
       "      <td>0.0</td>\n",
       "      <td>0.0</td>\n",
       "      <td>13.0</td>\n",
       "      <td>0.0</td>\n",
       "      <td>0.0</td>\n",
       "      <td>75.0</td>\n",
       "      <td>1.0</td>\n",
       "      <td>1.0</td>\n",
       "      <td>2.0</td>\n",
       "      <td>103.0</td>\n",
       "      <td>malicious</td>\n",
       "    </tr>\n",
       "    <tr>\n",
       "      <th>3662</th>\n",
       "      <td>3662</td>\n",
       "      <td>46.0</td>\n",
       "      <td>0.0</td>\n",
       "      <td>33.0</td>\n",
       "      <td>13.0</td>\n",
       "      <td>13.0</td>\n",
       "      <td>3.0</td>\n",
       "      <td>0.0</td>\n",
       "      <td>0.0</td>\n",
       "      <td>0.0</td>\n",
       "      <td>0.0</td>\n",
       "      <td>4.604166</td>\n",
       "      <td>0.0</td>\n",
       "      <td>0.0</td>\n",
       "      <td>0.0</td>\n",
       "      <td>0.0</td>\n",
       "      <td>0.0</td>\n",
       "      <td>4.0</td>\n",
       "      <td>1.0</td>\n",
       "      <td>1.0</td>\n",
       "      <td>0.0</td>\n",
       "      <td>3.0</td>\n",
       "      <td>benign</td>\n",
       "    </tr>\n",
       "  </tbody>\n",
       "</table>\n",
       "<p>625 rows × 23 columns</p>\n",
       "</div>"
      ],
      "text/plain": [
       "      Unnamed: 0  url_len  url_num_hyphens_dom  url_path_len  url_domain_len  \\\n",
       "48            48     17.0                  0.0           0.0            17.0   \n",
       "79            79     17.0                  0.0           0.0            17.0   \n",
       "114          114     19.0                  0.0           0.0            19.0   \n",
       "126          126     14.0                  0.0           8.0             6.0   \n",
       "169          169     13.0                  0.0           0.0            13.0   \n",
       "...          ...      ...                  ...           ...             ...   \n",
       "3646        3646     14.0                  0.0           0.0            14.0   \n",
       "3650        3650     35.0                  0.0          21.0            14.0   \n",
       "3658        3658     14.0                  0.0           0.0            14.0   \n",
       "3661        3661     90.0                  1.0          64.0            26.0   \n",
       "3662        3662     46.0                  0.0          33.0            13.0   \n",
       "\n",
       "      url_hostname_len  url_num_dots  url_num_underscores  url_query_len  \\\n",
       "48                17.0           2.0                  0.0            0.0   \n",
       "79                17.0           2.0                  0.0            0.0   \n",
       "114               19.0           2.0                  0.0            0.0   \n",
       "126                6.0           1.0                  0.0            0.0   \n",
       "169               13.0           2.0                  0.0            0.0   \n",
       "...                ...           ...                  ...            ...   \n",
       "3646              14.0           2.0                  0.0            0.0   \n",
       "3650              14.0           3.0                  1.0            0.0   \n",
       "3658              14.0           3.0                  0.0            0.0   \n",
       "3661              26.0           4.0                  0.0            0.0   \n",
       "3662              13.0           3.0                  0.0            0.0   \n",
       "\n",
       "      url_num_query_para  url_ip_present  url_entropy  url_port  \\\n",
       "48                   0.0             0.0     4.084963       0.0   \n",
       "79                   0.0             0.0     3.970176       0.0   \n",
       "114                  0.0             0.0     4.056021       0.0   \n",
       "126                  0.0             0.0     4.027169       0.0   \n",
       "169                  0.0             0.0     3.684184       0.0   \n",
       "...                  ...             ...          ...       ...   \n",
       "3646                 0.0             0.0     3.689704       0.0   \n",
       "3650                 0.0             0.0     4.156219       0.0   \n",
       "3658                 0.0             1.0     3.499228       0.0   \n",
       "3661                 0.0             0.0     4.693343       0.0   \n",
       "3662                 0.0             0.0     4.604166       0.0   \n",
       "\n",
       "      html_num_tags('iframe')  html_num_tags('script')  \\\n",
       "48                        1.0                      6.0   \n",
       "79                        0.0                     12.0   \n",
       "114                       0.0                      4.0   \n",
       "126                       0.0                      3.0   \n",
       "169                       0.0                     18.0   \n",
       "...                       ...                      ...   \n",
       "3646                      0.0                      5.0   \n",
       "3650                      0.0                      0.0   \n",
       "3658                      0.0                      0.0   \n",
       "3661                      0.0                     13.0   \n",
       "3662                      0.0                      0.0   \n",
       "\n",
       "      html_num_tags('embed')  html_num_tags('object')  html_num_tags('div')  \\\n",
       "48                       0.0                      0.0                 249.0   \n",
       "79                       0.0                      0.0                 118.0   \n",
       "114                      0.0                      0.0                 183.0   \n",
       "126                      0.0                      0.0                   8.0   \n",
       "169                      0.0                      0.0                 219.0   \n",
       "...                      ...                      ...                   ...   \n",
       "3646                     0.0                      0.0                 183.0   \n",
       "3650                     0.0                      0.0                   1.0   \n",
       "3658                     0.0                      0.0                   2.0   \n",
       "3661                     0.0                      0.0                  75.0   \n",
       "3662                     0.0                      0.0                   4.0   \n",
       "\n",
       "      html_num_tags('head')  html_num_tags('body')  html_num_tags('form')  \\\n",
       "48                      1.0                    1.0                    3.0   \n",
       "79                      1.0                    1.0                    1.0   \n",
       "114                     1.0                    1.0                    1.0   \n",
       "126                     1.0                    1.0                    0.0   \n",
       "169                     1.0                    1.0                    1.0   \n",
       "...                     ...                    ...                    ...   \n",
       "3646                    1.0                    1.0                    1.0   \n",
       "3650                    1.0                    1.0                    0.0   \n",
       "3658                    1.0                    1.0                    0.0   \n",
       "3661                    1.0                    1.0                    2.0   \n",
       "3662                    1.0                    1.0                    0.0   \n",
       "\n",
       "      html_num_tags('a')  Result_v1  \n",
       "48                 162.0     benign  \n",
       "79                  34.0     benign  \n",
       "114                564.0     benign  \n",
       "126                  5.0  malicious  \n",
       "169                344.0     benign  \n",
       "...                  ...        ...  \n",
       "3646               560.0     benign  \n",
       "3650                 0.0     benign  \n",
       "3658                 1.0     benign  \n",
       "3661               103.0  malicious  \n",
       "3662                 3.0     benign  \n",
       "\n",
       "[625 rows x 23 columns]"
      ]
     },
     "execution_count": 123,
     "metadata": {},
     "output_type": "execute_result"
    }
   ],
   "source": [
    "data.loc[data.duplicated(columns, keep='first')]"
   ]
  },
  {
   "cell_type": "code",
   "execution_count": 125,
   "metadata": {},
   "outputs": [],
   "source": [
    "#  columns의 열 데이터들이 중복되지 않은 값을 따로 가지고 온다.\n",
    "data2 = data.loc[data.duplicated(columns, keep='first')==False]"
   ]
  },
  {
   "cell_type": "code",
   "execution_count": 126,
   "metadata": {},
   "outputs": [
    {
     "name": "stdout",
     "output_type": "stream",
     "text": [
      "<class 'pandas.core.frame.DataFrame'>\n",
      "Int64Index: 3037 entries, 0 to 3663\n",
      "Data columns (total 23 columns):\n",
      " #   Column                   Non-Null Count  Dtype  \n",
      "---  ------                   --------------  -----  \n",
      " 0   Unnamed: 0               3037 non-null   int64  \n",
      " 1   url_len                  3037 non-null   float64\n",
      " 2   url_num_hyphens_dom      3037 non-null   float64\n",
      " 3   url_path_len             3037 non-null   float64\n",
      " 4   url_domain_len           3037 non-null   float64\n",
      " 5   url_hostname_len         3037 non-null   float64\n",
      " 6   url_num_dots             3037 non-null   float64\n",
      " 7   url_num_underscores      3037 non-null   float64\n",
      " 8   url_query_len            3037 non-null   float64\n",
      " 9   url_num_query_para       3037 non-null   float64\n",
      " 10  url_ip_present           3037 non-null   float64\n",
      " 11  url_entropy              3037 non-null   float64\n",
      " 12  url_port                 3037 non-null   float64\n",
      " 13  html_num_tags('iframe')  3037 non-null   float64\n",
      " 14  html_num_tags('script')  3037 non-null   float64\n",
      " 15  html_num_tags('embed')   3037 non-null   float64\n",
      " 16  html_num_tags('object')  3037 non-null   float64\n",
      " 17  html_num_tags('div')     3037 non-null   float64\n",
      " 18  html_num_tags('head')    3037 non-null   float64\n",
      " 19  html_num_tags('body')    3037 non-null   float64\n",
      " 20  html_num_tags('form')    3037 non-null   float64\n",
      " 21  html_num_tags('a')       3037 non-null   float64\n",
      " 22  Result_v1                3037 non-null   object \n",
      "dtypes: float64(21), int64(1), object(1)\n",
      "memory usage: 569.4+ KB\n"
     ]
    }
   ],
   "source": [
    "# 데이터 프레임의 info를 확인합니다.\n",
    "data2.info()"
   ]
  },
  {
   "cell_type": "code",
   "execution_count": 127,
   "metadata": {
    "scrolled": true
   },
   "outputs": [
    {
     "data": {
      "text/plain": [
       "array([0., 1.])"
      ]
     },
     "execution_count": 127,
     "metadata": {},
     "output_type": "execute_result"
    }
   ],
   "source": [
    "data2[\"url_ip_present\"].unique()"
   ]
  },
  {
   "cell_type": "code",
   "execution_count": 128,
   "metadata": {},
   "outputs": [
    {
     "data": {
      "text/plain": [
       "array(['malicious', 'benign'], dtype=object)"
      ]
     },
     "execution_count": 128,
     "metadata": {},
     "output_type": "execute_result"
    }
   ],
   "source": [
    "data2[\"Result_v1\"].unique()"
   ]
  },
  {
   "cell_type": "code",
   "execution_count": 129,
   "metadata": {},
   "outputs": [],
   "source": [
    "data2.drop('Unnamed: 0', axis=1, inplace = True)"
   ]
  },
  {
   "cell_type": "markdown",
   "metadata": {},
   "source": [
    "---"
   ]
  },
  {
   "cell_type": "markdown",
   "metadata": {},
   "source": [
    "## <b>Q4. 텍스트와 범주형 특성 처리\n",
    "\n",
    "### 기계가 데이터를 인식할 수 있도록 텍스트 데이터를 수치형 데이터로 변경합니다.\n",
    " - replace() 함수를 이용한 텍스트와 범주형 특성 처리"
   ]
  },
  {
   "cell_type": "markdown",
   "metadata": {},
   "source": [
    "**<span style=\"color:green\">[참고링크] 공식 Document**</span>\n",
    "\n",
    "* replace(https://pandas.pydata.org/pandas-docs/stable/reference/api/pandas.DataFrame.replace.html)\n",
    "* unique(https://pandas.pydata.org/pandas-docs/stable/reference/api/pandas.unique.html)"
   ]
  },
  {
   "cell_type": "markdown",
   "metadata": {},
   "source": [
    "### <span style=\"color:blue\">[예시] df_ex 데이터 프레임에서 replace 함수를 활용 'CA'는'California'로 'NY'는 'NewYork'으로 변경합니다.<span>"
   ]
  },
  {
   "cell_type": "code",
   "execution_count": 1,
   "metadata": {},
   "outputs": [
    {
     "name": "stdout",
     "output_type": "stream",
     "text": [
      "      name  age state  point\n",
      "0    Alice   24    NY     64\n",
      "1      Bob   42    CA     24\n",
      "2  Charlie   18    CA     70\n",
      "3     Dave   68    TX     70\n",
      "4    Ellen   24    CA     88\n",
      "5    Frank   30    NY     57\n"
     ]
    }
   ],
   "source": [
    "import pandas as pd\n",
    "\n",
    "df_ex = pd.DataFrame({'name': ['Alice','Bob','Charlie','Dave','Ellen','Frank'],\n",
    "                   'age': [24,42,18,68,24,30],\n",
    "                   'state': ['NY','CA','CA','TX','CA','NY'],\n",
    "                   'point': [64,24,70,70,88,57]}\n",
    "                  )\n",
    "\n",
    "print(df_ex)"
   ]
  },
  {
   "cell_type": "code",
   "execution_count": null,
   "metadata": {},
   "outputs": [],
   "source": []
  },
  {
   "cell_type": "markdown",
   "metadata": {},
   "source": [
    "### <span style=\"color:darkred\">[문제2] replace() 함수를 활용 'benign'은 1로 'malicious'은 -1로 변경해주세요. 삭제 후 df['Result_v1'] 전후 데이터를 비교해 보세요.<span>"
   ]
  },
  {
   "cell_type": "code",
   "execution_count": 130,
   "metadata": {},
   "outputs": [
    {
     "data": {
      "text/plain": [
       "array(['malicious', 'benign'], dtype=object)"
      ]
     },
     "execution_count": 130,
     "metadata": {},
     "output_type": "execute_result"
    }
   ],
   "source": [
    "# 텍스트 데이터를 수치형 데이터로 변경 전 unique() 함수를 통해 유일한 값 확인\n",
    "data2['Result_v1'].unique()"
   ]
  },
  {
   "cell_type": "code",
   "execution_count": 131,
   "metadata": {},
   "outputs": [],
   "source": [
    "# replace() 함수를 사용 텍스트 데이터를 수치형 데이터로 변경합니다.\n",
    "data2.replace({'malicious' : -1, 'benign' : 1}, inplace = True)\n",
    "\n"
   ]
  },
  {
   "cell_type": "code",
   "execution_count": 132,
   "metadata": {},
   "outputs": [
    {
     "data": {
      "text/plain": [
       "array([-1,  1], dtype=int64)"
      ]
     },
     "execution_count": 132,
     "metadata": {},
     "output_type": "execute_result"
    }
   ],
   "source": [
    "# 텍스트 데이터를 수치형 데이터로 후 unique() 함수를 통해 유일한 값 확인\n",
    "data2['Result_v1'].unique()\n",
    "# -1은 악성사이트, 1은 정상사이트\n",
    "\n"
   ]
  },
  {
   "cell_type": "markdown",
   "metadata": {},
   "source": [
    "---"
   ]
  },
  {
   "cell_type": "markdown",
   "metadata": {},
   "source": [
    "## <b>Q5. 결측치 처리\n",
    "\n",
    "### 데이터 수집 과정에서 발생한 오류 등으로 인해 결측치가 포함된 경우가 많습니다.\n",
    "### 모델링 전에 결측치를 확인하고 이를 정제하는 과정은 필요합니다."
   ]
  },
  {
   "cell_type": "markdown",
   "metadata": {},
   "source": [
    "### <span style=\"color:darkred\">[문제3] 결측치의 존재를 확인하고 결측치가 포함된 데이터를 처리해보세요.<span>"
   ]
  },
  {
   "cell_type": "code",
   "execution_count": 1,
   "metadata": {},
   "outputs": [],
   "source": [
    "# 결축치의 존재를 확인합니다.\n",
    "\n"
   ]
  },
  {
   "cell_type": "code",
   "execution_count": 2,
   "metadata": {},
   "outputs": [],
   "source": [
    "# 결측치를 적절히 처리해줍니다.\n",
    "\n",
    "\n"
   ]
  },
  {
   "cell_type": "code",
   "execution_count": 2,
   "metadata": {},
   "outputs": [],
   "source": [
    "# 결축치의 존재를 확인합니다.\n",
    "\n"
   ]
  },
  {
   "cell_type": "markdown",
   "metadata": {},
   "source": [
    "---"
   ]
  },
  {
   "cell_type": "markdown",
   "metadata": {},
   "source": [
    "## <b>Q6. 데이터 탐색을 통해 새로운 변수 추가 혹은 불필요한 변수 제거\n",
    "\n",
    "### AI모델의 성능 향상을 위해 기존의 변수를 조합해 새로운 변수를 만들어 내기도 하고\n",
    "### 데이터 분석을 통해 필요없는 변수는 삭제하는 과정이 필요 합니다."
   ]
  },
  {
   "cell_type": "markdown",
   "metadata": {},
   "source": [
    "### <span style=\"color:darkred\">[문제4] 상관관계 함수 및 데이터 시각화 등을 활용하며 데이터셋을 분석하고 컬럼을 추가/삭제 해보세요.<span>"
   ]
  },
  {
   "cell_type": "code",
   "execution_count": 134,
   "metadata": {
    "scrolled": false
   },
   "outputs": [
    {
     "data": {
      "text/plain": [
       "url_len                    0.027958\n",
       "url_num_hyphens_dom       -0.348151\n",
       "url_path_len               0.135069\n",
       "url_domain_len            -0.376841\n",
       "url_hostname_len          -0.380923\n",
       "url_num_dots               0.058800\n",
       "url_num_underscores        0.149882\n",
       "url_query_len             -0.187176\n",
       "url_num_query_para        -0.182041\n",
       "url_ip_present             0.078058\n",
       "url_entropy               -0.131018\n",
       "url_port                   0.009044\n",
       "html_num_tags('iframe')    0.033275\n",
       "html_num_tags('script')    0.197897\n",
       "html_num_tags('embed')     0.116030\n",
       "html_num_tags('object')    0.107640\n",
       "html_num_tags('div')       0.058089\n",
       "html_num_tags('head')     -0.002431\n",
       "html_num_tags('body')     -0.102555\n",
       "html_num_tags('form')     -0.118540\n",
       "html_num_tags('a')         0.108863\n",
       "Result_v1                  1.000000\n",
       "Name: Result_v1, dtype: float64"
      ]
     },
     "execution_count": 134,
     "metadata": {},
     "output_type": "execute_result"
    }
   ],
   "source": [
    "data2.corr()['Result_v1']"
   ]
  },
  {
   "cell_type": "code",
   "execution_count": 135,
   "metadata": {},
   "outputs": [],
   "source": [
    "# Result_v1과 상관계수의 절대값이 0.1 미만인 값들을 columns에 넣음.\n",
    "columns = ['url_len','url_num_dots','url_ip_present',\"html_num_tags('iframe')\",'url_port',\"html_num_tags('head')\",\"html_num_tags('div')\"]\n",
    "data3 = data2.drop(columns, axis=1)"
   ]
  },
  {
   "cell_type": "code",
   "execution_count": 160,
   "metadata": {},
   "outputs": [],
   "source": [
    "data3.to_csv('My_dataset.csv')"
   ]
  },
  {
   "cell_type": "markdown",
   "metadata": {},
   "source": [
    "---"
   ]
  },
  {
   "cell_type": "markdown",
   "metadata": {},
   "source": [
    "## <b>Q7. train_test_split을 이용하여, train_x, test_x, train_y, test_y로 데이터 분리\n",
    "\n",
    "### 모델을 학습하는 데에는 Train 데이터만 사용해야 합니다.\n",
    "### 학습에 사용하지 않은 데이터를 통해 모델을 평가해야 합니다.\n",
    "### 그러기 위해 Train / Test 데이터로 분리합니다.\n"
   ]
  },
  {
   "cell_type": "markdown",
   "metadata": {},
   "source": [
    "**<span style=\"color:green\">[참고링크] 공식 Document**</span>\n",
    "\n",
    "* train_test_split(https://scikit-learn.org/stable/modules/generated/sklearn.model_selection.train_test_split.html)"
   ]
  },
  {
   "cell_type": "markdown",
   "metadata": {},
   "source": [
    "### <span style=\"color:darkred\">[문제5] train_test_split 함수를 사용하여 train 데이터와 test 데이터를 분리하고 각각의 shape를 확인하세요<span>"
   ]
  },
  {
   "cell_type": "code",
   "execution_count": null,
   "metadata": {},
   "outputs": [],
   "source": []
  }
 ],
 "metadata": {
  "kernelspec": {
   "display_name": "Python 3 (ipykernel)",
   "language": "python",
   "name": "python3"
  },
  "language_info": {
   "codemirror_mode": {
    "name": "ipython",
    "version": 3
   },
   "file_extension": ".py",
   "mimetype": "text/x-python",
   "name": "python",
   "nbconvert_exporter": "python",
   "pygments_lexer": "ipython3",
   "version": "3.9.12"
  },
  "vscode": {
   "interpreter": {
    "hash": "f08154012ddadd8e950e6e9e035c7a7b32c136e7647e9b7c77e02eb723a8bedb"
   }
  }
 },
 "nbformat": 4,
 "nbformat_minor": 4
}
