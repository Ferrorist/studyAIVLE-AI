{
 "cells": [
  {
   "cell_type": "markdown",
   "id": "1b1a8cfc",
   "metadata": {},
   "source": [
    "## test data 데이터 처리하기\n",
    "- 단, rows는 제거하지 않는 방법으로 처리하여야 한다."
   ]
  },
  {
   "cell_type": "code",
   "execution_count": 1,
   "id": "4d833bd4",
   "metadata": {},
   "outputs": [],
   "source": [
    "#라이브러리 불러오기\n",
    "import numpy as np\n",
    "import pandas as pd\n",
    "import matplotlib.pyplot as plt\n",
    "import seaborn as sns\n",
    "import scipy.stats as spst\n",
    "import statsmodels.api as sm\n",
    "\n",
    "import warnings\n",
    "warnings.filterwarnings(action='ignore')\n",
    "\n",
    "from sklearn.model_selection import train_test_split\n",
    "from sklearn.preprocessing import * # scaler"
   ]
  },
  {
   "cell_type": "code",
   "execution_count": 2,
   "id": "4b556de8",
   "metadata": {},
   "outputs": [],
   "source": [
    "from sklearn.linear_model import LinearRegression\n",
    "from sklearn.neighbors import KNeighborsRegressor\n",
    "from sklearn.linear_model import LogisticRegression\n",
    "from sklearn.tree import DecisionTreeClassifier, plot_tree\n",
    "from sklearn.neighbors import KNeighborsClassifier\n",
    "from sklearn.svm import SVC\n",
    "from sklearn.metrics import * \n",
    "from sklearn.model_selection import RandomizedSearchCV, GridSearchCV\n",
    "from sklearn.tree import plot_tree\n",
    "from sklearn.ensemble import RandomForestClassifier\n",
    "from xgboost import XGBClassifier, plot_tree"
   ]
  },
  {
   "cell_type": "code",
   "execution_count": 27,
   "id": "acee3669",
   "metadata": {},
   "outputs": [],
   "source": [
    "import joblib"
   ]
  },
  {
   "cell_type": "code",
   "execution_count": 98,
   "id": "f3152cb7",
   "metadata": {},
   "outputs": [],
   "source": [
    "data = pd.read_csv('test_dataset_v01.csv')"
   ]
  },
  {
   "cell_type": "markdown",
   "id": "b0af8f2e",
   "metadata": {},
   "source": [
    "### 결측치 조치"
   ]
  },
  {
   "cell_type": "code",
   "execution_count": 154,
   "id": "75032d70",
   "metadata": {},
   "outputs": [],
   "source": [
    "#data2 = data.interpolate(method='spline', order=2) # 음수 데이터 발생"
   ]
  },
  {
   "cell_type": "code",
   "execution_count": 153,
   "id": "edba655c",
   "metadata": {},
   "outputs": [],
   "source": [
    "#data3 = data.interpolate(method='polynomial', order=2) # 음수 데이터 발생"
   ]
  },
  {
   "cell_type": "code",
   "execution_count": 133,
   "id": "b9006dd5",
   "metadata": {},
   "outputs": [],
   "source": [
    "data2 = data.interpolate(method='linear')"
   ]
  },
  {
   "cell_type": "code",
   "execution_count": 102,
   "id": "19c16b22",
   "metadata": {},
   "outputs": [],
   "source": [
    "data3 = data.fillna(data.median())"
   ]
  },
  {
   "cell_type": "code",
   "execution_count": 135,
   "id": "5adb1441",
   "metadata": {},
   "outputs": [
    {
     "data": {
      "text/plain": [
       "Unnamed: 0                 0\n",
       "url_len                    0\n",
       "url_num_hyphens_dom        0\n",
       "url_path_len               0\n",
       "url_domain_len             0\n",
       "url_hostname_len           0\n",
       "url_num_dots               0\n",
       "url_num_underscores        0\n",
       "url_query_len              0\n",
       "url_num_query_para         0\n",
       "url_ip_present             0\n",
       "url_entropy                0\n",
       "url_chinese_present        0\n",
       "url_port                   0\n",
       "html_num_tags('iframe')    0\n",
       "html_num_tags('script')    0\n",
       "html_num_tags('embed')     0\n",
       "html_num_tags('object')    0\n",
       "html_num_tags('div')       0\n",
       "html_num_tags('head')      0\n",
       "html_num_tags('body')      0\n",
       "html_num_tags('form')      0\n",
       "html_num_tags('a')         0\n",
       "html_num_tags('applet')    0\n",
       "dtype: int64"
      ]
     },
     "execution_count": 135,
     "metadata": {},
     "output_type": "execute_result"
    }
   ],
   "source": [
    "data3.isna().sum()"
   ]
  },
  {
   "cell_type": "code",
   "execution_count": 28,
   "id": "23772fd5",
   "metadata": {},
   "outputs": [],
   "source": [
    "model = joblib.load('./XGB_model.pkl')"
   ]
  },
  {
   "cell_type": "code",
   "execution_count": 65,
   "id": "dcfb9cd1",
   "metadata": {},
   "outputs": [],
   "source": [
    "model2 = joblib.load('./XGB_model2.pkl')"
   ]
  },
  {
   "cell_type": "code",
   "execution_count": 155,
   "id": "eb8c023c",
   "metadata": {},
   "outputs": [],
   "source": [
    "col = ['Unnamed: 0',\n",
    "    'url_len',\n",
    " 'url_query_len',\n",
    " 'url_num_query_para',\n",
    "'url_chinese_present',\n",
    "       'url_port',\n",
    "       \"html_num_tags('applet')\",\n",
    " 'url_entropy',\n",
    " \"html_num_tags('iframe')\",\n",
    " \"html_num_tags('head')\",\n",
    " \"html_num_tags('body')\"]\n",
    "\n",
    "col2 = ['Unnamed: 0', 'url_chinese_present',  \"html_num_tags('applet')\"]\n",
    "col3 = ['url_hostname_len','url_path_len','url_query_len',\n",
    "        \"html_num_tags('a')\",\"html_num_tags('body')\",\"html_num_tags('form')\",'url_num_underscores']"
   ]
  },
  {
   "cell_type": "code",
   "execution_count": 108,
   "id": "a2a56bdb",
   "metadata": {},
   "outputs": [],
   "source": [
    "test_data1 = data2.drop(col2, axis=1) # (2441, 21)"
   ]
  },
  {
   "cell_type": "code",
   "execution_count": 150,
   "id": "32666df5",
   "metadata": {},
   "outputs": [],
   "source": [
    "test_data1_1 = data2.drop(col2, axis=1) # (2441, 21)"
   ]
  },
  {
   "cell_type": "code",
   "execution_count": 151,
   "id": "7c290d15",
   "metadata": {},
   "outputs": [
    {
     "data": {
      "text/plain": [
       "url_len                    0\n",
       "url_num_hyphens_dom        0\n",
       "url_path_len               0\n",
       "url_domain_len             0\n",
       "url_hostname_len           0\n",
       "url_num_dots               0\n",
       "url_num_underscores        0\n",
       "url_query_len              0\n",
       "url_num_query_para         0\n",
       "url_ip_present             0\n",
       "url_entropy                0\n",
       "url_port                   0\n",
       "html_num_tags('iframe')    0\n",
       "html_num_tags('script')    0\n",
       "html_num_tags('embed')     0\n",
       "html_num_tags('object')    0\n",
       "html_num_tags('div')       0\n",
       "html_num_tags('head')      0\n",
       "html_num_tags('body')      0\n",
       "html_num_tags('form')      0\n",
       "html_num_tags('a')         0\n",
       "dtype: int64"
      ]
     },
     "execution_count": 151,
     "metadata": {},
     "output_type": "execute_result"
    }
   ],
   "source": [
    "test_data1_1.isna().sum()"
   ]
  },
  {
   "cell_type": "code",
   "execution_count": 140,
   "id": "90bb86df",
   "metadata": {},
   "outputs": [],
   "source": [
    "test_data2 = data2.drop(col, axis=1) # (2441, 13)"
   ]
  },
  {
   "cell_type": "code",
   "execution_count": 143,
   "id": "1ad831e5",
   "metadata": {},
   "outputs": [],
   "source": [
    "test_RF1 = data2.loc[:, col3]\n",
    "test_RF2 = data3.loc[:, col3]"
   ]
  },
  {
   "cell_type": "code",
   "execution_count": null,
   "id": "997a7247",
   "metadata": {},
   "outputs": [],
   "source": [
    "test_XGB3_1 = data2.loc[:, col3"
   ]
  },
  {
   "cell_type": "code",
   "execution_count": 145,
   "id": "a3ea45e2",
   "metadata": {},
   "outputs": [
    {
     "data": {
      "text/plain": [
       "url_hostname_len         0\n",
       "url_path_len             0\n",
       "url_query_len            0\n",
       "html_num_tags('a')       0\n",
       "html_num_tags('body')    0\n",
       "html_num_tags('form')    0\n",
       "url_num_underscores      0\n",
       "dtype: int64"
      ]
     },
     "execution_count": 145,
     "metadata": {},
     "output_type": "execute_result"
    }
   ],
   "source": [
    "test_RF2.isna().sum()"
   ]
  },
  {
   "cell_type": "code",
   "execution_count": 141,
   "id": "ceaf20d4",
   "metadata": {},
   "outputs": [
    {
     "data": {
      "text/plain": [
       "url_num_hyphens_dom        0\n",
       "url_path_len               0\n",
       "url_domain_len             0\n",
       "url_hostname_len           0\n",
       "url_num_dots               0\n",
       "url_num_underscores        0\n",
       "url_ip_present             0\n",
       "html_num_tags('script')    0\n",
       "html_num_tags('embed')     0\n",
       "html_num_tags('object')    0\n",
       "html_num_tags('div')       0\n",
       "html_num_tags('form')      0\n",
       "html_num_tags('a')         0\n",
       "dtype: int64"
      ]
     },
     "execution_count": 141,
     "metadata": {},
     "output_type": "execute_result"
    }
   ],
   "source": [
    "test_data2.isna().sum()"
   ]
  },
  {
   "cell_type": "code",
   "execution_count": 118,
   "id": "c1285e5c",
   "metadata": {},
   "outputs": [],
   "source": [
    "test_data3 = data4.drop(col, axis=1) # (2441, 13)"
   ]
  },
  {
   "cell_type": "code",
   "execution_count": 120,
   "id": "3765de2a",
   "metadata": {},
   "outputs": [],
   "source": [
    "test_data5 = data3.drop(col2, axis=1) # medivan (2441, 21)"
   ]
  },
  {
   "cell_type": "code",
   "execution_count": 119,
   "id": "f3e9b596",
   "metadata": {},
   "outputs": [
    {
     "data": {
      "text/plain": [
       "(2441, 13)"
      ]
     },
     "execution_count": 119,
     "metadata": {},
     "output_type": "execute_result"
    }
   ],
   "source": [
    "test_data3.shape"
   ]
  },
  {
   "cell_type": "code",
   "execution_count": 37,
   "id": "5304f860",
   "metadata": {},
   "outputs": [
    {
     "data": {
      "text/plain": [
       "(2441, 13)"
      ]
     },
     "execution_count": 37,
     "metadata": {},
     "output_type": "execute_result"
    }
   ],
   "source": [
    "test_data.shape"
   ]
  },
  {
   "cell_type": "code",
   "execution_count": 62,
   "id": "2c1b0d88",
   "metadata": {},
   "outputs": [
    {
     "data": {
      "text/plain": [
       "(2441, 21)"
      ]
     },
     "execution_count": 62,
     "metadata": {},
     "output_type": "execute_result"
    }
   ],
   "source": [
    "test_data1.shape"
   ]
  },
  {
   "cell_type": "code",
   "execution_count": 38,
   "id": "79570c89",
   "metadata": {},
   "outputs": [
    {
     "data": {
      "text/html": [
       "<div>\n",
       "<style scoped>\n",
       "    .dataframe tbody tr th:only-of-type {\n",
       "        vertical-align: middle;\n",
       "    }\n",
       "\n",
       "    .dataframe tbody tr th {\n",
       "        vertical-align: top;\n",
       "    }\n",
       "\n",
       "    .dataframe thead th {\n",
       "        text-align: right;\n",
       "    }\n",
       "</style>\n",
       "<table border=\"1\" class=\"dataframe\">\n",
       "  <thead>\n",
       "    <tr style=\"text-align: right;\">\n",
       "      <th></th>\n",
       "      <th>url_num_hyphens_dom</th>\n",
       "      <th>url_path_len</th>\n",
       "      <th>url_domain_len</th>\n",
       "      <th>url_hostname_len</th>\n",
       "      <th>url_num_dots</th>\n",
       "      <th>url_num_underscores</th>\n",
       "      <th>url_ip_present</th>\n",
       "      <th>html_num_tags('script')</th>\n",
       "      <th>html_num_tags('embed')</th>\n",
       "      <th>html_num_tags('object')</th>\n",
       "      <th>html_num_tags('div')</th>\n",
       "      <th>html_num_tags('form')</th>\n",
       "      <th>html_num_tags('a')</th>\n",
       "    </tr>\n",
       "  </thead>\n",
       "  <tbody>\n",
       "    <tr>\n",
       "      <th>0</th>\n",
       "      <td>0</td>\n",
       "      <td>80.0</td>\n",
       "      <td>17.0</td>\n",
       "      <td>17.0</td>\n",
       "      <td>4</td>\n",
       "      <td>0</td>\n",
       "      <td>0</td>\n",
       "      <td>5.00</td>\n",
       "      <td>0</td>\n",
       "      <td>0</td>\n",
       "      <td>12</td>\n",
       "      <td>1.0</td>\n",
       "      <td>3.0</td>\n",
       "    </tr>\n",
       "    <tr>\n",
       "      <th>1</th>\n",
       "      <td>0</td>\n",
       "      <td>22.0</td>\n",
       "      <td>15.0</td>\n",
       "      <td>15.0</td>\n",
       "      <td>3</td>\n",
       "      <td>1</td>\n",
       "      <td>0</td>\n",
       "      <td>5.50</td>\n",
       "      <td>0</td>\n",
       "      <td>0</td>\n",
       "      <td>158</td>\n",
       "      <td>0.5</td>\n",
       "      <td>69.5</td>\n",
       "    </tr>\n",
       "    <tr>\n",
       "      <th>2</th>\n",
       "      <td>0</td>\n",
       "      <td>18.0</td>\n",
       "      <td>20.0</td>\n",
       "      <td>20.0</td>\n",
       "      <td>3</td>\n",
       "      <td>3</td>\n",
       "      <td>0</td>\n",
       "      <td>6.00</td>\n",
       "      <td>3</td>\n",
       "      <td>3</td>\n",
       "      <td>34</td>\n",
       "      <td>0.0</td>\n",
       "      <td>136.0</td>\n",
       "    </tr>\n",
       "    <tr>\n",
       "      <th>3</th>\n",
       "      <td>0</td>\n",
       "      <td>14.0</td>\n",
       "      <td>26.0</td>\n",
       "      <td>26.0</td>\n",
       "      <td>2</td>\n",
       "      <td>0</td>\n",
       "      <td>0</td>\n",
       "      <td>4.75</td>\n",
       "      <td>0</td>\n",
       "      <td>0</td>\n",
       "      <td>29</td>\n",
       "      <td>1.0</td>\n",
       "      <td>2.0</td>\n",
       "    </tr>\n",
       "    <tr>\n",
       "      <th>4</th>\n",
       "      <td>2</td>\n",
       "      <td>7.5</td>\n",
       "      <td>26.0</td>\n",
       "      <td>26.0</td>\n",
       "      <td>2</td>\n",
       "      <td>0</td>\n",
       "      <td>0</td>\n",
       "      <td>3.50</td>\n",
       "      <td>0</td>\n",
       "      <td>0</td>\n",
       "      <td>41</td>\n",
       "      <td>1.0</td>\n",
       "      <td>10.0</td>\n",
       "    </tr>\n",
       "  </tbody>\n",
       "</table>\n",
       "</div>"
      ],
      "text/plain": [
       "   url_num_hyphens_dom  url_path_len  url_domain_len  url_hostname_len  \\\n",
       "0                    0          80.0            17.0              17.0   \n",
       "1                    0          22.0            15.0              15.0   \n",
       "2                    0          18.0            20.0              20.0   \n",
       "3                    0          14.0            26.0              26.0   \n",
       "4                    2           7.5            26.0              26.0   \n",
       "\n",
       "   url_num_dots  url_num_underscores  url_ip_present  html_num_tags('script')  \\\n",
       "0             4                    0               0                     5.00   \n",
       "1             3                    1               0                     5.50   \n",
       "2             3                    3               0                     6.00   \n",
       "3             2                    0               0                     4.75   \n",
       "4             2                    0               0                     3.50   \n",
       "\n",
       "   html_num_tags('embed')  html_num_tags('object')  html_num_tags('div')  \\\n",
       "0                       0                        0                    12   \n",
       "1                       0                        0                   158   \n",
       "2                       3                        3                    34   \n",
       "3                       0                        0                    29   \n",
       "4                       0                        0                    41   \n",
       "\n",
       "   html_num_tags('form')  html_num_tags('a')  \n",
       "0                    1.0                 3.0  \n",
       "1                    0.5                69.5  \n",
       "2                    0.0               136.0  \n",
       "3                    1.0                 2.0  \n",
       "4                    1.0                10.0  "
      ]
     },
     "execution_count": 38,
     "metadata": {},
     "output_type": "execute_result"
    }
   ],
   "source": [
    "test_data.head()"
   ]
  },
  {
   "cell_type": "code",
   "execution_count": 39,
   "id": "8187400b",
   "metadata": {},
   "outputs": [],
   "source": [
    "pred = model.predict(test_data)"
   ]
  },
  {
   "cell_type": "code",
   "execution_count": 42,
   "id": "7b309eb7",
   "metadata": {},
   "outputs": [],
   "source": [
    "pred_df = pd.DataFrame(pred)"
   ]
  },
  {
   "cell_type": "code",
   "execution_count": 43,
   "id": "bf58dc93",
   "metadata": {},
   "outputs": [],
   "source": [
    "pred_df.replace({0:-1}, inplace=True)"
   ]
  },
  {
   "cell_type": "code",
   "execution_count": 44,
   "id": "e44e794d",
   "metadata": {},
   "outputs": [
    {
     "data": {
      "text/plain": [
       "RangeIndex(start=0, stop=2441, step=1)"
      ]
     },
     "execution_count": 44,
     "metadata": {},
     "output_type": "execute_result"
    }
   ],
   "source": [
    "pred_df.index"
   ]
  },
  {
   "cell_type": "code",
   "execution_count": 46,
   "id": "3f615dd0",
   "metadata": {},
   "outputs": [],
   "source": [
    "result = pd.DataFrame({'id' : range(2441), 'expected': list(pred)})"
   ]
  },
  {
   "cell_type": "code",
   "execution_count": 106,
   "id": "a7694358",
   "metadata": {},
   "outputs": [],
   "source": [
    "pred1_1 = model.predict(test_data1)\n",
    "pred1_1 = pd.DataFrame(pred1_1).replace({0:-1}, inplace=True)\n",
    "result = pd.DataFrame({'id' : range(2441), 'expected': list(pred)})\n",
    "result.to_csv('result_v1_1.csv', index=False)"
   ]
  },
  {
   "cell_type": "code",
   "execution_count": 136,
   "id": "cc809670",
   "metadata": {},
   "outputs": [],
   "source": [
    "def make_result(model, data, name):\n",
    "    pred = model.predict(data)\n",
    "    pred_df = pd.DataFrame(pred).replace({0:-1}, inplace=True)\n",
    "    print(pred)\n",
    "    result = pd.DataFrame({'id' : range(2441), 'expected': list(pred)})\n",
    "    result.to_csv(name, index=False)"
   ]
  },
  {
   "cell_type": "code",
   "execution_count": 47,
   "id": "42d719af",
   "metadata": {},
   "outputs": [
    {
     "data": {
      "text/plain": [
       "id          0\n",
       "expected    0\n",
       "dtype: int64"
      ]
     },
     "execution_count": 47,
     "metadata": {},
     "output_type": "execute_result"
    }
   ],
   "source": [
    "result.isna().sum()"
   ]
  },
  {
   "cell_type": "code",
   "execution_count": 48,
   "id": "5523f348",
   "metadata": {},
   "outputs": [
    {
     "data": {
      "text/html": [
       "<div>\n",
       "<style scoped>\n",
       "    .dataframe tbody tr th:only-of-type {\n",
       "        vertical-align: middle;\n",
       "    }\n",
       "\n",
       "    .dataframe tbody tr th {\n",
       "        vertical-align: top;\n",
       "    }\n",
       "\n",
       "    .dataframe thead th {\n",
       "        text-align: right;\n",
       "    }\n",
       "</style>\n",
       "<table border=\"1\" class=\"dataframe\">\n",
       "  <thead>\n",
       "    <tr style=\"text-align: right;\">\n",
       "      <th></th>\n",
       "      <th>id</th>\n",
       "      <th>expected</th>\n",
       "    </tr>\n",
       "  </thead>\n",
       "  <tbody>\n",
       "    <tr>\n",
       "      <th>0</th>\n",
       "      <td>0</td>\n",
       "      <td>-1</td>\n",
       "    </tr>\n",
       "    <tr>\n",
       "      <th>1</th>\n",
       "      <td>1</td>\n",
       "      <td>1</td>\n",
       "    </tr>\n",
       "    <tr>\n",
       "      <th>2</th>\n",
       "      <td>2</td>\n",
       "      <td>1</td>\n",
       "    </tr>\n",
       "    <tr>\n",
       "      <th>3</th>\n",
       "      <td>3</td>\n",
       "      <td>-1</td>\n",
       "    </tr>\n",
       "    <tr>\n",
       "      <th>4</th>\n",
       "      <td>4</td>\n",
       "      <td>-1</td>\n",
       "    </tr>\n",
       "  </tbody>\n",
       "</table>\n",
       "</div>"
      ],
      "text/plain": [
       "   id  expected\n",
       "0   0        -1\n",
       "1   1         1\n",
       "2   2         1\n",
       "3   3        -1\n",
       "4   4        -1"
      ]
     },
     "execution_count": 48,
     "metadata": {},
     "output_type": "execute_result"
    }
   ],
   "source": [
    "result.head()"
   ]
  },
  {
   "cell_type": "code",
   "execution_count": 49,
   "id": "3723c947",
   "metadata": {},
   "outputs": [
    {
     "data": {
      "text/plain": [
       "<bound method NDFrame.tail of         id  expected\n",
       "0        0        -1\n",
       "1        1         1\n",
       "2        2         1\n",
       "3        3        -1\n",
       "4        4        -1\n",
       "...    ...       ...\n",
       "2436  2436         1\n",
       "2437  2437        -1\n",
       "2438  2438        -1\n",
       "2439  2439        -1\n",
       "2440  2440        -1\n",
       "\n",
       "[2441 rows x 2 columns]>"
      ]
     },
     "execution_count": 49,
     "metadata": {},
     "output_type": "execute_result"
    }
   ],
   "source": [
    "result.tail"
   ]
  },
  {
   "cell_type": "code",
   "execution_count": 55,
   "id": "0610da34",
   "metadata": {},
   "outputs": [],
   "source": [
    "result.to_csv('result_v1.csv')"
   ]
  },
  {
   "cell_type": "code",
   "execution_count": 58,
   "id": "004522d0",
   "metadata": {},
   "outputs": [],
   "source": [
    "r_result = pd.read_csv('result_v1.csv')"
   ]
  },
  {
   "cell_type": "code",
   "execution_count": 59,
   "id": "d0bbc5fa",
   "metadata": {},
   "outputs": [
    {
     "data": {
      "text/html": [
       "<div>\n",
       "<style scoped>\n",
       "    .dataframe tbody tr th:only-of-type {\n",
       "        vertical-align: middle;\n",
       "    }\n",
       "\n",
       "    .dataframe tbody tr th {\n",
       "        vertical-align: top;\n",
       "    }\n",
       "\n",
       "    .dataframe thead th {\n",
       "        text-align: right;\n",
       "    }\n",
       "</style>\n",
       "<table border=\"1\" class=\"dataframe\">\n",
       "  <thead>\n",
       "    <tr style=\"text-align: right;\">\n",
       "      <th></th>\n",
       "      <th>id</th>\n",
       "      <th>expected</th>\n",
       "    </tr>\n",
       "  </thead>\n",
       "  <tbody>\n",
       "    <tr>\n",
       "      <th>0</th>\n",
       "      <td>0</td>\n",
       "      <td>-1</td>\n",
       "    </tr>\n",
       "    <tr>\n",
       "      <th>1</th>\n",
       "      <td>1</td>\n",
       "      <td>1</td>\n",
       "    </tr>\n",
       "    <tr>\n",
       "      <th>2</th>\n",
       "      <td>2</td>\n",
       "      <td>1</td>\n",
       "    </tr>\n",
       "    <tr>\n",
       "      <th>3</th>\n",
       "      <td>3</td>\n",
       "      <td>-1</td>\n",
       "    </tr>\n",
       "    <tr>\n",
       "      <th>4</th>\n",
       "      <td>4</td>\n",
       "      <td>-1</td>\n",
       "    </tr>\n",
       "  </tbody>\n",
       "</table>\n",
       "</div>"
      ],
      "text/plain": [
       "   id  expected\n",
       "0   0        -1\n",
       "1   1         1\n",
       "2   2         1\n",
       "3   3        -1\n",
       "4   4        -1"
      ]
     },
     "execution_count": 59,
     "metadata": {},
     "output_type": "execute_result"
    }
   ],
   "source": [
    "r_result.head()"
   ]
  },
  {
   "cell_type": "code",
   "execution_count": 125,
   "id": "50a2de0f",
   "metadata": {},
   "outputs": [],
   "source": [
    "pred2 = model2.predict(test_data5)"
   ]
  },
  {
   "cell_type": "code",
   "execution_count": 137,
   "id": "153bd527",
   "metadata": {},
   "outputs": [
    {
     "name": "stdout",
     "output_type": "stream",
     "text": [
      "[-1 -1  1 ... -1 -1  1]\n"
     ]
    }
   ],
   "source": [
    "make_result(model2, test_data5, 'result_v2_1.csv')"
   ]
  },
  {
   "cell_type": "code",
   "execution_count": 126,
   "id": "7013c2f9",
   "metadata": {},
   "outputs": [
    {
     "data": {
      "text/plain": [
       "array([0, 0, 1, ..., 0, 0, 1])"
      ]
     },
     "execution_count": 126,
     "metadata": {},
     "output_type": "execute_result"
    }
   ],
   "source": [
    "pred2"
   ]
  },
  {
   "cell_type": "code",
   "execution_count": 127,
   "id": "5c55fca8",
   "metadata": {},
   "outputs": [
    {
     "data": {
      "text/plain": [
       "array([-1, -1,  1, ..., -1, -1,  1])"
      ]
     },
     "execution_count": 127,
     "metadata": {},
     "output_type": "execute_result"
    }
   ],
   "source": [
    "pred_df2 = pd.DataFrame(pred2).replace({0:-1}, inplace=True)\n",
    "pred2"
   ]
  },
  {
   "cell_type": "code",
   "execution_count": 129,
   "id": "384f0284",
   "metadata": {},
   "outputs": [],
   "source": [
    "result2 = pd.DataFrame({'id' : range(2441), 'expected': list(pred2)})\n",
    "result2.to_csv('result_v2.csv', index=False)"
   ]
  },
  {
   "cell_type": "code",
   "execution_count": 138,
   "id": "46da099d",
   "metadata": {},
   "outputs": [],
   "source": [
    "model3 = joblib.load('./RF_model.pkl')\n",
    "test_data2 = data.loc[:, col3]"
   ]
  },
  {
   "cell_type": "code",
   "execution_count": 146,
   "id": "9b2c663f",
   "metadata": {},
   "outputs": [
    {
     "name": "stdout",
     "output_type": "stream",
     "text": [
      "[-1  1  1 ...  1 -1 -1]\n",
      "[-1 -1  1 ... -1 -1 -1]\n"
     ]
    }
   ],
   "source": [
    "make_result(model3, test_RF1, 'result_RF_v1.csv')\n",
    "make_result(model3, test_RF2, 'result_RF_v2.csv')"
   ]
  },
  {
   "cell_type": "code",
   "execution_count": 95,
   "id": "c34d5178",
   "metadata": {},
   "outputs": [],
   "source": [
    "result3 = pd.DataFrame({'id' : range(2441), 'expected': list(pred3)})\n",
    "result3.to_csv('result_v3.csv', index=False)"
   ]
  },
  {
   "cell_type": "code",
   "execution_count": 96,
   "id": "a40d3fea",
   "metadata": {},
   "outputs": [
    {
     "data": {
      "text/html": [
       "<div>\n",
       "<style scoped>\n",
       "    .dataframe tbody tr th:only-of-type {\n",
       "        vertical-align: middle;\n",
       "    }\n",
       "\n",
       "    .dataframe tbody tr th {\n",
       "        vertical-align: top;\n",
       "    }\n",
       "\n",
       "    .dataframe thead th {\n",
       "        text-align: right;\n",
       "    }\n",
       "</style>\n",
       "<table border=\"1\" class=\"dataframe\">\n",
       "  <thead>\n",
       "    <tr style=\"text-align: right;\">\n",
       "      <th></th>\n",
       "      <th>url_hostname_len</th>\n",
       "      <th>url_path_len</th>\n",
       "      <th>url_query_len</th>\n",
       "      <th>html_num_tags('a')</th>\n",
       "      <th>html_num_tags('body')</th>\n",
       "      <th>html_num_tags('form')</th>\n",
       "      <th>url_num_underscores</th>\n",
       "    </tr>\n",
       "  </thead>\n",
       "  <tbody>\n",
       "    <tr>\n",
       "      <th>0</th>\n",
       "      <td>17.0</td>\n",
       "      <td>80.0</td>\n",
       "      <td>0</td>\n",
       "      <td>3.0</td>\n",
       "      <td>1</td>\n",
       "      <td>1.0</td>\n",
       "      <td>0</td>\n",
       "    </tr>\n",
       "    <tr>\n",
       "      <th>1</th>\n",
       "      <td>15.0</td>\n",
       "      <td>22.0</td>\n",
       "      <td>0</td>\n",
       "      <td>69.5</td>\n",
       "      <td>1</td>\n",
       "      <td>0.5</td>\n",
       "      <td>1</td>\n",
       "    </tr>\n",
       "    <tr>\n",
       "      <th>2</th>\n",
       "      <td>20.0</td>\n",
       "      <td>18.0</td>\n",
       "      <td>0</td>\n",
       "      <td>136.0</td>\n",
       "      <td>1</td>\n",
       "      <td>0.0</td>\n",
       "      <td>3</td>\n",
       "    </tr>\n",
       "    <tr>\n",
       "      <th>3</th>\n",
       "      <td>26.0</td>\n",
       "      <td>14.0</td>\n",
       "      <td>0</td>\n",
       "      <td>2.0</td>\n",
       "      <td>1</td>\n",
       "      <td>1.0</td>\n",
       "      <td>0</td>\n",
       "    </tr>\n",
       "    <tr>\n",
       "      <th>4</th>\n",
       "      <td>26.0</td>\n",
       "      <td>7.5</td>\n",
       "      <td>0</td>\n",
       "      <td>10.0</td>\n",
       "      <td>1</td>\n",
       "      <td>1.0</td>\n",
       "      <td>0</td>\n",
       "    </tr>\n",
       "  </tbody>\n",
       "</table>\n",
       "</div>"
      ],
      "text/plain": [
       "   url_hostname_len  url_path_len  url_query_len  html_num_tags('a')  \\\n",
       "0              17.0          80.0              0                 3.0   \n",
       "1              15.0          22.0              0                69.5   \n",
       "2              20.0          18.0              0               136.0   \n",
       "3              26.0          14.0              0                 2.0   \n",
       "4              26.0           7.5              0                10.0   \n",
       "\n",
       "   html_num_tags('body')  html_num_tags('form')  url_num_underscores  \n",
       "0                      1                    1.0                    0  \n",
       "1                      1                    0.5                    1  \n",
       "2                      1                    0.0                    3  \n",
       "3                      1                    1.0                    0  \n",
       "4                      1                    1.0                    0  "
      ]
     },
     "execution_count": 96,
     "metadata": {},
     "output_type": "execute_result"
    }
   ],
   "source": [
    "test_data2.head()"
   ]
  },
  {
   "cell_type": "code",
   "execution_count": 147,
   "id": "e78bbfcd",
   "metadata": {},
   "outputs": [],
   "source": [
    "model4 = joblib.load('./XGB_model3.pkl')"
   ]
  },
  {
   "cell_type": "code",
   "execution_count": 149,
   "id": "29c0c200",
   "metadata": {
    "scrolled": true
   },
   "outputs": [
    {
     "name": "stdout",
     "output_type": "stream",
     "text": [
      "[ 1  1  1 ...  1 -1 -1]\n",
      "[ 1 -1  1 ... -1  1 -1]\n"
     ]
    }
   ],
   "source": [
    "make_result(model4, test_RF1, 'result_v4_1.csv')\n",
    "make_result(model4, test_RF2, 'result_v4_2.csv')"
   ]
  },
  {
   "cell_type": "code",
   "execution_count": 152,
   "id": "08d7d36a",
   "metadata": {},
   "outputs": [
    {
     "name": "stdout",
     "output_type": "stream",
     "text": [
      "[-1 -1  1 ...  1 -1  1]\n"
     ]
    }
   ],
   "source": [
    "make_result(model2, test_data1_1, 'result_v5_1.csv')"
   ]
  }
 ],
 "metadata": {
  "kernelspec": {
   "display_name": "Python 3 (ipykernel)",
   "language": "python",
   "name": "python3"
  },
  "language_info": {
   "codemirror_mode": {
    "name": "ipython",
    "version": 3
   },
   "file_extension": ".py",
   "mimetype": "text/x-python",
   "name": "python",
   "nbconvert_exporter": "python",
   "pygments_lexer": "ipython3",
   "version": "3.9.12"
  }
 },
 "nbformat": 4,
 "nbformat_minor": 5
}
