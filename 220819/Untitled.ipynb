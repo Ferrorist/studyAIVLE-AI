{
 "cells": [
  {
   "cell_type": "markdown",
   "id": "11f50112-461b-4a19-a88c-b6df6ac499fe",
   "metadata": {},
   "source": [
    "## ▣ 데이터 소개\n",
    "[기본 데이터]\n",
    "* 학습데이터 : traindata.csv\n",
    "\n",
    "## ▣ 데이터셋의 변수 소개\n",
    "* date : 날짜\n",
    "* hour : 시간\n",
    "* temperature : 온도\n",
    "* precipitation : 강우 여부, 비가 오지 않았으면 0, 비가 오면 1\n",
    "* windspeed : 풍속(평균)\n",
    "* humidity : 습도\n",
    "* visibility : 시정(視程), 시계(視界)(특정 기상 상태에 따른 가시성을 의미)\n",
    "* ozone : 오존 수치\n",
    "* PM10 : 미세먼지 수치(머리카락 굵기의 1/5에서 1/7 크기의 미세먼지)\n",
    "* PM2.5 : 초미세먼지 수치(머리카락 굵기의 1/20에서 1/30 크기의 미세먼지)\n",
    "* count : 시간에 따른 따릉이 대여 수"
   ]
  },
  {
   "cell_type": "code",
   "execution_count": 2,
   "id": "e04df761-cf71-4ec9-9a9b-aee787c5a168",
   "metadata": {},
   "outputs": [],
   "source": [
    "#EDA에 사용할 라이브러리를 import 하세요\n",
    "import pandas as pd\n",
    "import numpy as np\n",
    "import matplotlib.pyplot as plt\n",
    "import seaborn as sns\n",
    "import scipy.stats as spst"
   ]
  },
  {
   "cell_type": "code",
   "execution_count": 3,
   "id": "0ecfa8dd-e116-4d36-b707-62ae81f0cfa5",
   "metadata": {},
   "outputs": [],
   "source": [
    "#이번 프로젝트에서 분석할 데이터를 불러오세요\n",
    "data = pd.read_csv('traindata.csv')\n",
    "bike = pd.read_csv('traindata.csv')"
   ]
  },
  {
   "cell_type": "code",
   "execution_count": 4,
   "id": "370a0f91-2f67-47b1-ba51-d6a533929274",
   "metadata": {},
   "outputs": [
    {
     "ename": "NameError",
     "evalue": "name 'target' is not defined",
     "output_type": "error",
     "traceback": [
      "\u001b[1;31m---------------------------------------------------------------------------\u001b[0m",
      "\u001b[1;31mNameError\u001b[0m                                 Traceback (most recent call last)",
      "Input \u001b[1;32mIn [4]\u001b[0m, in \u001b[0;36m<cell line: 8>\u001b[1;34m()\u001b[0m\n\u001b[0;32m      4\u001b[0m data[\u001b[38;5;124m'\u001b[39m\u001b[38;5;124mdcom_index\u001b[39m\u001b[38;5;124m'\u001b[39m]\u001b[38;5;241m=\u001b[39m pd\u001b[38;5;241m.\u001b[39mcut(data[\u001b[38;5;124m'\u001b[39m\u001b[38;5;124mdiscomfort\u001b[39m\u001b[38;5;124m'\u001b[39m], bins\u001b[38;5;241m=\u001b[39m[\u001b[38;5;241m0\u001b[39m, \u001b[38;5;241m68\u001b[39m, \u001b[38;5;241m75\u001b[39m, \u001b[38;5;241m80\u001b[39m, \u001b[38;5;241m100\u001b[39m], labels\u001b[38;5;241m=\u001b[39m[\u001b[38;5;124m'\u001b[39m\u001b[38;5;124m0\u001b[39m\u001b[38;5;124m'\u001b[39m, \u001b[38;5;124m'\u001b[39m\u001b[38;5;124m1\u001b[39m\u001b[38;5;124m'\u001b[39m, \u001b[38;5;124m'\u001b[39m\u001b[38;5;124m2\u001b[39m\u001b[38;5;124m'\u001b[39m, \u001b[38;5;124m'\u001b[39m\u001b[38;5;124m3\u001b[39m\u001b[38;5;124m'\u001b[39m])\n\u001b[0;32m      6\u001b[0m feature\u001b[38;5;241m=\u001b[39m\u001b[38;5;124m'\u001b[39m\u001b[38;5;124mdcom_index\u001b[39m\u001b[38;5;124m'\u001b[39m \u001b[38;5;66;03m#불쾌지수\u001b[39;00m\n\u001b[1;32m----> 8\u001b[0m sobad\u001b[38;5;241m=\u001b[39m data\u001b[38;5;241m.\u001b[39mloc[data[feature]\u001b[38;5;241m==\u001b[39m\u001b[38;5;124m'\u001b[39m\u001b[38;5;124m3\u001b[39m\u001b[38;5;124m'\u001b[39m, \u001b[43mtarget\u001b[49m]\n\u001b[0;32m      9\u001b[0m bad\u001b[38;5;241m=\u001b[39m data\u001b[38;5;241m.\u001b[39mloc[data[feature]\u001b[38;5;241m==\u001b[39m\u001b[38;5;124m'\u001b[39m\u001b[38;5;124m2\u001b[39m\u001b[38;5;124m'\u001b[39m, target]\n\u001b[0;32m     10\u001b[0m normal\u001b[38;5;241m=\u001b[39m data\u001b[38;5;241m.\u001b[39mloc[data[feature]\u001b[38;5;241m==\u001b[39m\u001b[38;5;124m'\u001b[39m\u001b[38;5;124m1\u001b[39m\u001b[38;5;124m'\u001b[39m, target]\n",
      "\u001b[1;31mNameError\u001b[0m: name 'target' is not defined"
     ]
    }
   ],
   "source": [
    "temp=data['temperature']\n",
    "humi=data['humidity']\n",
    "data['discomfort']=temp*0.81 + 0.01*humi*(temp*0.99 - 14.3) + 46.3 # 불쾌지수 계산식\n",
    "data['dcom_index']= pd.cut(data['discomfort'], bins=[0, 68, 75, 80, 100], labels=['0', '1', '2', '3'])\n",
    "\n",
    "feature='dcom_index' #불쾌지수\n",
    "\n",
    "sobad= data.loc[data[feature]=='3', target]\n",
    "bad= data.loc[data[feature]=='2', target]\n",
    "normal= data.loc[data[feature]=='1', target]\n",
    "good= data.loc[data[feature]=='0', target]\n",
    "display(spst.f_oneway(good, normal, bad, sobad))\n",
    "\n",
    "sns.barplot(x=feature, y=target, data=data)\n",
    "plt.grid()\n",
    "plt.show()"
   ]
  },
  {
   "cell_type": "code",
   "execution_count": null,
   "id": "be9a4f71-a896-44e7-a0ee-555d23c63a10",
   "metadata": {},
   "outputs": [],
   "source": [
    "bike['미세먼지']= pd.cut(bike['PM10'], bins=[0, 30, 80, 150, 830], labels=[int(0), int(1), int(2), int(3)])\n",
    "bike['초미세먼지']= pd.cut(bike['PM2.5'], bins=[0, 15, 35, 75, 150], labels=[int(0), int(1), int(2), int(3)])\n",
    "bike['오존']= pd.cut(bike['ozone'], bins=[0, 0.03, 0.09, 0.15, 0.3], labels=[int(0), int(1), int(2), int(3)])\n",
    "\n",
    "bike['미세먼지']=bike['미세먼지'].astype(int)\n",
    "bike['초미세먼지']=bike['초미세먼지'].astype(int)\n",
    "bike['오존']=bike['오존'].astype(int)\n",
    "\n",
    "bike['airQ']= (bike['미세먼지'] + bike['초미세먼지'] + bike['오존'])\n",
    "bike\n"
   ]
  },
  {
   "cell_type": "code",
   "execution_count": null,
   "id": "106e0b68-badd-4ad8-aa72-29475b8c02e7",
   "metadata": {},
   "outputs": [],
   "source": [
    "data['date'] = pd.to_datetime(data['date']) # datetime 자료형으로 변환\n",
    "data['weekday'] = data['date'].dt.weekday # 0 : 월요일 ~ 6 : 일요일\n",
    "data = data.astype({'date':'str'})"
   ]
  },
  {
   "cell_type": "code",
   "execution_count": null,
   "id": "bd5d6944-50c0-4af9-abab-f5ff7ea54694",
   "metadata": {
    "jupyter": {
     "source_hidden": true
    },
    "tags": []
   },
   "outputs": [],
   "source": [
    "data.info()"
   ]
  },
  {
   "cell_type": "code",
   "execution_count": null,
   "id": "09e44268-6bbe-4bc2-8791-e77209e2b901",
   "metadata": {},
   "outputs": [],
   "source": [
    "data2 = data.interpolate()"
   ]
  },
  {
   "cell_type": "markdown",
   "id": "e8961dcd-ac5b-4b43-8146-9c52cc0c1666",
   "metadata": {},
   "source": [
    "### 가설 1 : 1시간전 강우 여부와 따릉이간에는 연관성이 없다.\n",
    "> 대립가설 : 1시간전 강우 여부와 따릉이 대여량 간에는 연관성이 있다."
   ]
  },
  {
   "cell_type": "code",
   "execution_count": null,
   "id": "754ade7a-f6f3-4e46-ba08-874ac52e9cd6",
   "metadata": {},
   "outputs": [],
   "source": [
    "target = 'count'"
   ]
  },
  {
   "cell_type": "code",
   "execution_count": null,
   "id": "123fe391-388e-4655-98d7-7d8d924f4fd7",
   "metadata": {},
   "outputs": [],
   "source": [
    "feature = 'precipitation'"
   ]
  },
  {
   "cell_type": "code",
   "execution_count": null,
   "id": "6fe109c2-b1ce-454d-a3b7-41a38a0aed16",
   "metadata": {},
   "outputs": [],
   "source": [
    "temp = data[feature].value_counts()\n",
    "print(temp)\n",
    "s0 = data.loc[data[feature] == 0, 'count']\n",
    "s1 = data.loc[data[feature] == 1, 'count']\n",
    "sns.barplot(x=feature, y =target, data=data)\n",
    "spst.ttest_ind(s0, s1)"
   ]
  },
  {
   "cell_type": "markdown",
   "id": "b9012ec5-db67-4fc7-90fe-2d3b94d70139",
   "metadata": {},
   "source": [
    "### 가설 2 : 습도와 따릉이 대여 수는 서로 연관이 있다.\n",
    "> 대립가설 : 습도와 따릉이 대여 수는 서로 관련이 없다."
   ]
  },
  {
   "cell_type": "code",
   "execution_count": null,
   "id": "5c821f65-be62-4f88-b982-12d13b0a2893",
   "metadata": {},
   "outputs": [],
   "source": [
    "feature='humidity'"
   ]
  },
  {
   "cell_type": "code",
   "execution_count": null,
   "id": "6943f819-cd60-4dec-bc17-5df11a7c0077",
   "metadata": {},
   "outputs": [],
   "source": [
    "plt.figure(figsize=(10,8))\n",
    "plt.scatter(data[feature],data[target])\n",
    "plt.grid()\n",
    "plt.show()"
   ]
  },
  {
   "cell_type": "code",
   "execution_count": null,
   "id": "1092f9e5-299d-4a9e-96f2-84e67432784b",
   "metadata": {},
   "outputs": [],
   "source": [
    "spst.pearsonr(data[feature], data[target])"
   ]
  },
  {
   "cell_type": "markdown",
   "id": "15ff2de1-5c41-4fda-9b71-c5727cf4ba84",
   "metadata": {},
   "source": [
    "> 습도와 따릉이 대여 수는 중간 정도의 음의 상관관계를 지닌다. -> 서로 연관이 있다."
   ]
  },
  {
   "cell_type": "markdown",
   "id": "dd3b231c-8e27-47c9-9665-2c2adbb81b9b",
   "metadata": {},
   "source": [
    "### 가설 3 : 시정 거리와 따릉이 대여 수는 서로 관계가 있다.\n",
    "> 대립가설 : 시정 거리와 따릉이 대여 수는 연관성이 없다."
   ]
  },
  {
   "cell_type": "code",
   "execution_count": null,
   "id": "5a61e079-ff84-4f3d-bfc1-2d2c76582f95",
   "metadata": {},
   "outputs": [],
   "source": [
    "feature = 'visibility'"
   ]
  },
  {
   "cell_type": "code",
   "execution_count": null,
   "id": "b8ac8102-d37c-49dc-ab8c-84535c178dd9",
   "metadata": {},
   "outputs": [],
   "source": [
    "plt.figure(figsize=(10,8))\n",
    "plt.scatter(data[feature],data[target])\n",
    "plt.grid()\n",
    "plt.show()"
   ]
  },
  {
   "cell_type": "code",
   "execution_count": null,
   "id": "643fc16a-c792-48e6-a318-ef1d523c224d",
   "metadata": {},
   "outputs": [],
   "source": [
    "spst.pearsonr(data[feature], data[target])"
   ]
  },
  {
   "cell_type": "markdown",
   "id": "aff4cd76-fd9d-4b2f-94a9-200bbf915abe",
   "metadata": {},
   "source": [
    "> 시정 거리와 따릉이 대여 수는 어느 정도 연관이 있다."
   ]
  },
  {
   "cell_type": "markdown",
   "id": "46238f38-50a4-46df-8ae9-98d8f581b3b3",
   "metadata": {},
   "source": [
    "### 가설 4 : 미세먼지(PM10, PM2.5)와 따릉이 대여 수는 서로 관계가 있다.\n",
    "> 대립가설 : 미세먼지와 따릉이 대여 수는 연관성이 없다."
   ]
  },
  {
   "cell_type": "code",
   "execution_count": null,
   "id": "fba95bd4-6d7d-4131-a0de-9d8cafe55b04",
   "metadata": {},
   "outputs": [],
   "source": [
    "data.isna().sum()"
   ]
  },
  {
   "cell_type": "code",
   "execution_count": null,
   "id": "25d89e47-21df-4e67-87fa-706be33c9055",
   "metadata": {
    "tags": []
   },
   "outputs": [],
   "source": [
    "pd.set_option('display.max_rows', None)\n",
    "data.loc[data['PM10'].isnull()].head(102) # 2021-10-07, 2021-10-08이 거의 대부분 nan"
   ]
  },
  {
   "cell_type": "markdown",
   "id": "203459d4-4307-4406-8576-22850ce806e2",
   "metadata": {},
   "source": [
    "> PM10과 PM2.5는 결측치가 있어서 언제 nan값이 있었는지 탐색."
   ]
  },
  {
   "cell_type": "code",
   "execution_count": null,
   "id": "9006bed5-7cbb-41ae-b520-2b8e29dbd208",
   "metadata": {},
   "outputs": [],
   "source": [
    "data2 = data.copy()\n",
    "de1 = data[data['date'] == '2021-10-07'].index\n",
    "de2 = data[data['date'] == '2021-10-08'].index\n",
    "data2.drop(de1, axis=0, inplace=True)\n",
    "data2.drop(de2, axis=0, inplace=True)\n",
    "data2 = data2.interpolate()"
   ]
  },
  {
   "cell_type": "code",
   "execution_count": null,
   "id": "6f29e8ae-c8ea-49d0-8c59-5332a9bdc0a2",
   "metadata": {},
   "outputs": [],
   "source": [
    "data = pd.read_csv('traindata.csv')\n",
    "de1 = data[data['date'] == '2021-10-07'].index\n",
    "de2 = data[data['date'] == '2021-10-08'].index # 하루에 절반이 결측치 였던 날 제거\n",
    "data.drop(de1, axis=0, inplace=True)\n",
    "data.drop(de2, axis=0, inplace=True)\n",
    "data = data.interpolate() # 이외의 결측치 처리\n",
    "feature = ['PM10', 'PM2.5']\n",
    "target = 'count'\n",
    "plt.figure(figsize=(14,12))\n",
    "for i in range(2):\n",
    "    plt.scatter(data[feature[i]],data[target])\n",
    "    plt.grid()\n",
    "    plt.show()\n",
    "    print(spst.pearsonr(data[feature[i]], data[target]))"
   ]
  },
  {
   "cell_type": "markdown",
   "id": "28a980a9-d5d7-428d-b800-a53e1cf291c0",
   "metadata": {
    "tags": []
   },
   "source": [
    "> 2021-10-07, 2021-10-08 이 하루에 절반 이상을 nan으로 지니고 있어 삭제. 나머지 날은 interpolate를 하여도 무방하다고 판단하여 진행."
   ]
  },
  {
   "cell_type": "code",
   "execution_count": null,
   "id": "9c162fb9-5e76-4778-8412-efb27f7f8664",
   "metadata": {},
   "outputs": [],
   "source": [
    "data2 = data2.interpolate()"
   ]
  },
  {
   "cell_type": "code",
   "execution_count": null,
   "id": "5db64b16-1bcd-4904-8921-0157f9386faf",
   "metadata": {},
   "outputs": [],
   "source": [
    "data2.isna().sum()"
   ]
  },
  {
   "cell_type": "code",
   "execution_count": null,
   "id": "24dc3b93-f0e3-47a6-8a74-3e1597b64b46",
   "metadata": {},
   "outputs": [],
   "source": [
    "# PM10 일 경우를 먼저 확인.\n",
    "feature = ['PM10', 'PM2.5']"
   ]
  },
  {
   "cell_type": "code",
   "execution_count": null,
   "id": "23fd834b-0fab-4eaf-9a82-c4289b95cb34",
   "metadata": {},
   "outputs": [],
   "source": [
    "plt.figure(figsize=(10,8))\n",
    "for i in range(2):\n",
    "    plt.scatter(data2[feature[i]],data2[target])\n",
    "    plt.grid()\n",
    "    plt.show()\n",
    "    print(spst.pearsonr(data2[feature[i]], data2[target]))"
   ]
  },
  {
   "cell_type": "markdown",
   "id": "04a69a20-82cf-46e1-8c9f-335069da3cc2",
   "metadata": {},
   "source": [
    "> 미세먼지 PM10, PM2.5 일 때 모두 따릉이 대여 수에 영향을 준다.\n",
    "> 하지만 상관계수를 보았을 때 그 영향은 거의 없는 정도로 확인된다."
   ]
  },
  {
   "cell_type": "markdown",
   "id": "7bd61a12-059a-4c4d-b634-fe87bfe25790",
   "metadata": {},
   "source": [
    "### 가설 5 : 풍속과 따릉이 대여 수는 서로 관계가 있다.\n",
    "> 대립가설 : 풍속은 따릉이 대여 수와 서로 관계가 없다."
   ]
  },
  {
   "cell_type": "code",
   "execution_count": null,
   "id": "b0c8a5af-5015-43c3-8c75-df9fefdf46ca",
   "metadata": {},
   "outputs": [],
   "source": [
    "feature = 'windspeed'\n",
    "target = 'count'"
   ]
  },
  {
   "cell_type": "code",
   "execution_count": null,
   "id": "3c52eda4-d9b4-4231-ab33-3994177fb344",
   "metadata": {},
   "outputs": [],
   "source": [
    "data[feature].isna().sum()"
   ]
  },
  {
   "cell_type": "code",
   "execution_count": null,
   "id": "09c75f6f-bf02-4008-9209-3106d5602daf",
   "metadata": {},
   "outputs": [],
   "source": [
    "plt.figure(figsize=(10,10))\n",
    "plt.scatter(data[feature], data[target])\n",
    "plt.show()"
   ]
  },
  {
   "cell_type": "code",
   "execution_count": null,
   "id": "7db2a9af-6105-4854-b98b-01f1fe453d44",
   "metadata": {},
   "outputs": [],
   "source": [
    "spst.pearsonr(data2[feature], data2[target])"
   ]
  },
  {
   "cell_type": "markdown",
   "id": "4710ee90-7a6d-4a42-9d85-80f3c4adeab2",
   "metadata": {},
   "source": [
    "> 풍속과 따릉이 대여 수와는 약한 상관 관계가 있다. 대립가설을 채택한다."
   ]
  },
  {
   "cell_type": "markdown",
   "id": "79d3cb38-0508-4a1d-a6a3-555ff5b6db75",
   "metadata": {},
   "source": [
    "### 가설 ? : 주말 여부와 따릉이 대여 수는 서로 관계가 있다.\n",
    "> 대립가설 : 주말은 따릉이 대여 수와 서로 관계가 없다."
   ]
  },
  {
   "cell_type": "code",
   "execution_count": null,
   "id": "c691211f-568b-42e8-bbed-5f09abe75893",
   "metadata": {},
   "outputs": [],
   "source": [
    "data['is_weekend'] = np.where(data['weekday'] > 4, 1, 0) # 주말이면 1, 평일이면 0 으로 범주화"
   ]
  },
  {
   "cell_type": "code",
   "execution_count": null,
   "id": "7629f3fe-397d-4a12-9f7d-24043e854249",
   "metadata": {},
   "outputs": [],
   "source": [
    "feature = 'is_weekend'"
   ]
  },
  {
   "cell_type": "code",
   "execution_count": null,
   "id": "73a079a0-6469-45f8-b339-4b8569b97ada",
   "metadata": {},
   "outputs": [],
   "source": [
    "sns.countplot(data[feature])\n",
    "plt.show()"
   ]
  },
  {
   "cell_type": "code",
   "execution_count": null,
   "id": "d95bda9a-7c17-4e31-8e89-a7baee757e5b",
   "metadata": {},
   "outputs": [],
   "source": [
    "weekend0 = data.loc[data[feature] == 0, 'count']\n",
    "weekend0.describe()"
   ]
  },
  {
   "cell_type": "code",
   "execution_count": null,
   "id": "bd8ffbfc-55ad-4305-ab98-b58ca6afb123",
   "metadata": {},
   "outputs": [],
   "source": [
    "weekend1 = data.loc[data[feature] == 1, 'count']\n",
    "weekend1.describe()"
   ]
  },
  {
   "cell_type": "code",
   "execution_count": null,
   "id": "923b0563-c32f-4718-b316-d21fed6a5129",
   "metadata": {},
   "outputs": [],
   "source": [
    "temp = data[feature].value_counts()\n",
    "print(temp)\n",
    "s0 = data.loc[data[feature] == 0, 'count'] # 평일 데이터\n",
    "s1 = data.loc[data[feature] == 1, 'count'] # 주말 데이터"
   ]
  },
  {
   "cell_type": "code",
   "execution_count": null,
   "id": "15fea98b-9a0e-43c4-b64a-096b9d98bffc",
   "metadata": {},
   "outputs": [],
   "source": [
    "sns.barplot(x=feature, y =target, data=data)"
   ]
  },
  {
   "cell_type": "code",
   "execution_count": null,
   "id": "732aa7cf-0e7f-4469-9c71-be700840333b",
   "metadata": {},
   "outputs": [],
   "source": [
    "data.boxplot(target, feature)\n",
    "plt.show()"
   ]
  },
  {
   "cell_type": "code",
   "execution_count": null,
   "id": "714c3f96-f821-450c-b8c7-6187e2ecc2e9",
   "metadata": {},
   "outputs": [],
   "source": [
    "data['date'] = pd.to_datetime(data['date']) # datetime 자료형으로 변환\n",
    "data['weekday'] = data['date'].dt.weekday # 0 : 월요일 ~ 6 : 일요일\n",
    "data['is_weekend'] = np.where(data['weekday'] > 4, 1, 0) # 주말이면 1, 평일이면 0 으로 범주화\n",
    "feature = 'is_weekend'\n",
    "\n",
    "sns.countplot(data[feature])\n",
    "plt.show()\n",
    "\n",
    "s0 = data.loc[data[feature] == 0, 'count'] # 평일 데이터\n",
    "s1 = data.loc[data[feature] == 1, 'count'] # 주말 데이터\n",
    "sns.barplot(x=feature, y =target, data=data)\n",
    "data.boxplot(target, feature)\n",
    "plt.show()\n",
    "\n",
    "spst.ttest_ind(s0, s1)"
   ]
  },
  {
   "cell_type": "code",
   "execution_count": null,
   "id": "404678af-4e94-4633-a4ca-299e78de2d57",
   "metadata": {},
   "outputs": [],
   "source": []
  },
  {
   "cell_type": "code",
   "execution_count": null,
   "id": "5aa57396-51ac-42a9-8934-60281ca59848",
   "metadata": {},
   "outputs": [],
   "source": [
    "data.corr()"
   ]
  },
  {
   "cell_type": "code",
   "execution_count": null,
   "id": "58b54a5b-7d07-4c71-9c00-33cc15a8dbb2",
   "metadata": {},
   "outputs": [],
   "source": [
    "plt.figure(figsize = (8, 8))\n",
    "sns.heatmap(data.corr(), annot = True, fmt = '.3f', cmap = 'RdBu_r',  vmin = -1, vmax = 1) # cmap = color map\n",
    "plt.show()"
   ]
  },
  {
   "cell_type": "code",
   "execution_count": null,
   "id": "1ffbcc6c-bfdd-4fcf-b17a-ada63481ff78",
   "metadata": {},
   "outputs": [],
   "source": [
    "plt.figure(figsize = (8, 8))\n",
    "sns.heatmap(data2.corr(), annot = True, fmt = '.3f', cmap = 'RdBu_r',  vmin = -1, vmax = 1) # cmap = color map\n",
    "plt.show()"
   ]
  }
 ],
 "metadata": {
  "kernelspec": {
   "display_name": "Python 3 (ipykernel)",
   "language": "python",
   "name": "python3"
  },
  "language_info": {
   "codemirror_mode": {
    "name": "ipython",
    "version": 3
   },
   "file_extension": ".py",
   "mimetype": "text/x-python",
   "name": "python",
   "nbconvert_exporter": "python",
   "pygments_lexer": "ipython3",
   "version": "3.9.12"
  }
 },
 "nbformat": 4,
 "nbformat_minor": 5
}
