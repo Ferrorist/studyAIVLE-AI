{
 "cells": [
  {
   "cell_type": "code",
   "execution_count": 1,
   "id": "cea766ce-5f95-4195-a4b8-45540ceb2ebc",
   "metadata": {},
   "outputs": [],
   "source": [
    "#EDA에 사용할 라이브러리를 import 하세요\n",
    "import pandas as pd\n",
    "import numpy as np\n",
    "import matplotlib.pyplot as plt\n",
    "import seaborn as sns\n",
    "import scipy.stats as spst"
   ]
  },
  {
   "cell_type": "code",
   "execution_count": 2,
   "id": "9e251aba-5d8f-4e51-91c0-112bd865a95b",
   "metadata": {},
   "outputs": [],
   "source": [
    "data = pd.read_csv('traindata.csv')"
   ]
  },
  {
   "cell_type": "code",
   "execution_count": null,
   "id": "3854663b-823b-425c-8cb9-fe0ade558045",
   "metadata": {},
   "outputs": [],
   "source": []
  },
  {
   "cell_type": "code",
   "execution_count": 7,
   "id": "2b321aa1-9728-4477-a866-62e68b159337",
   "metadata": {},
   "outputs": [
    {
     "data": {
      "text/plain": [
       "F_onewayResult(statistic=76.18729763354631, pvalue=2.4702320364374126e-48)"
      ]
     },
     "metadata": {},
     "output_type": "display_data"
    },
    {
     "data": {
      "image/png": "[encoded data removed]",
      "text/plain": [
       "<Figure size 432x288 with 1 Axes>"
      ]
     },
     "metadata": {
      "needs_background": "light"
     },
     "output_type": "display_data"
    }
   ],
   "source": [
    "temp=data['temperature']\n",
    "humi=data['humidity']\n",
    "data['discomfort']=temp*0.81 + 0.01*humi*(temp*0.99 - 14.3) + 46.3 # 불쾌지수 계산식\n",
    "data['dcom_index']= pd.cut(data['discomfort'], bins=[0, 68, 75, 80, 100], labels=['0', '1', '2', '3'])\n",
    "\n",
    "feature='dcom_index' #불쾌지수\n",
    "\n",
    "sobad= data.loc[data[feature]=='3', target]\n",
    "bad= data.loc[data[feature]=='2', target]\n",
    "normal= data.loc[data[feature]=='1', target]\n",
    "good= data.loc[data[feature]=='0', target]\n",
    "display(spst.f_oneway(good, normal, bad, sobad))\n",
    "\n",
    "sns.barplot(x=feature, y=target, data=data)\n",
    "plt.grid()\n",
    "plt.show()"
   ]
  },
  {
   "cell_type": "code",
   "execution_count": null,
   "id": "cc3cbd49-f9cc-4a5e-991c-fd03f70a717f",
   "metadata": {},
   "outputs": [],
   "source": []
  },
  {
   "cell_type": "code",
   "execution_count": null,
   "id": "3875f856-e0bd-47fb-bb2a-ecc5b66e86cd",
   "metadata": {},
   "outputs": [],
   "source": []
  },
  {
   "cell_type": "code",
   "execution_count": null,
   "id": "eb719250-f7bd-46af-a538-cc8cd1fcbd69",
   "metadata": {},
   "outputs": [],
   "source": []
  },
  {
   "cell_type": "code",
   "execution_count": null,
   "id": "29ba9d37-d800-4bf9-b19e-2a6a4440afe4",
   "metadata": {},
   "outputs": [],
   "source": []
  },
  {
   "cell_type": "code",
   "execution_count": 5,
   "id": "c24fcbb8-1512-4853-a9f6-d6a4d23166ef",
   "metadata": {},
   "outputs": [
    {
     "data": {
      "image/png": "[encoded data removed]",
      "text/plain": [
       "<Figure size 432x288 with 1 Axes>"
      ]
     },
     "metadata": {
      "needs_background": "light"
     },
     "output_type": "display_data"
    },
    {
     "data": {
      "image/png": "[encoded data removed]",
      "text/plain": [
       "<Figure size 432x288 with 1 Axes>"
      ]
     },
     "metadata": {
      "needs_background": "light"
     },
     "output_type": "display_data"
    },
    {
     "data": {
      "text/plain": [
       "Ttest_indResult(statistic=3.8974110319479296, pvalue=9.831763048935543e-05)"
      ]
     },
     "execution_count": 5,
     "metadata": {},
     "output_type": "execute_result"
    }
   ],
   "source": [
    "data['date'] = pd.to_datetime(data['date']) # datetime 자료형으로 변환\n",
    "data['weekday'] = data['date'].dt.weekday # 0 : 월요일 ~ 6 : 일요일\n",
    "data['is_weekend'] = np.where(data['weekday'] > 4, 1, 0) # 주말이면 1, 평일이면 0 으로 범주화\n",
    "feature = 'is_weekend'\n",
    "target = 'count'\n",
    "\n",
    "s0 = data.loc[data[feature] == 0, 'count'] # 평일 데이터\n",
    "s1 = data.loc[data[feature] == 1, 'count'] # 주말 데이터\n",
    "sns.barplot(x=feature, y =target, data=data)\n",
    "data.boxplot(target, feature)\n",
    "plt.show()\n",
    "\n",
    "spst.ttest_ind(s0, s1)"
   ]
  }
 ],
 "metadata": {
  "kernelspec": {
   "display_name": "Python 3 (ipykernel)",
   "language": "python",
   "name": "python3"
  },
  "language_info": {
   "codemirror_mode": {
    "name": "ipython",
    "version": 3
   },
   "file_extension": ".py",
   "mimetype": "text/x-python",
   "name": "python",
   "nbconvert_exporter": "python",
   "pygments_lexer": "ipython3",
   "version": "3.9.12"
  }
 },
 "nbformat": 4,
 "nbformat_minor": 5
}
