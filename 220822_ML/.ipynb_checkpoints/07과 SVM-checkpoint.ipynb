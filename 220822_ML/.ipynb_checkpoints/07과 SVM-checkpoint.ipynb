{
 "cells": [
  {
   "cell_type": "markdown",
   "metadata": {
    "id": "cVB9pY-v8uv5"
   },
   "source": [
    "# SVM"
   ]
  },
  {
   "cell_type": "markdown",
   "metadata": {
    "id": "L1c-Rruk9OJo"
   },
   "source": [
    "## 1.SVM 개념이해"
   ]
  },
  {
   "cell_type": "markdown",
   "metadata": {
    "id": "7ezLcZBo9XnF"
   },
   "source": [
    "### (1) import"
   ]
  },
  {
   "cell_type": "code",
   "execution_count": 1,
   "metadata": {
    "id": "9elklNcrbuXA"
   },
   "outputs": [],
   "source": [
    "#라이브러리들을 불러오자.\n",
    "import numpy as np\n",
    "import pandas as pd\n",
    "import matplotlib.pyplot as plt\n",
    "import seaborn as sns\n",
    "\n",
    "from sklearn.model_selection import train_test_split\n",
    "from sklearn.datasets import make_moons, make_classification\n",
    "\n",
    "from sklearn.svm import SVC\n",
    "\n",
    "import warnings    # 경고메시지 제외\n",
    "warnings.filterwarnings(action='ignore')"
   ]
  },
  {
   "cell_type": "markdown",
   "metadata": {
    "id": "pDdZmq-29aKD"
   },
   "source": [
    "### (2) 함수 생성"
   ]
  },
  {
   "cell_type": "markdown",
   "metadata": {
    "id": "n352m5Fg9dgZ"
   },
   "source": [
    "* svm 모델을 시각화 하는 함수를 생성해 봅시다."
   ]
  },
  {
   "cell_type": "code",
   "execution_count": null,
   "metadata": {
    "id": "jLEp7g_GeEtF"
   },
   "outputs": [],
   "source": [
    "def svm_visualize(x, y, model, title = \"\") :\n",
    "\n",
    "    xx, yy = np.meshgrid(np.linspace(x[:,0].min(), x[:,0].max(), 50), \n",
    "                         np.linspace(x[:,1].min(), x[:,1].max(), 50)) # mesh grid\n",
    "\n",
    "    # 메쉬 그리드값에 대해 모델 부터 거리 값 만들기.\n",
    "    Z = model.decision_function(np.c_[xx.ravel(), yy.ravel()])\n",
    "    Z = Z.reshape(xx.shape)\n",
    "\n",
    "    # 그래프 그리기\n",
    "    plt.figure(figsize=(6, 6))\n",
    "    # 데이터 산점도\n",
    "    sns.scatterplot(x=x[:,0], y=x[:,1], hue=y)\n",
    "    # levels= 0 모델 ,  -1, 1 은 마진 경계\n",
    "    plt.contour(xx, yy, Z, levels=[-1, 0, 1], colors = 'gray',linestyles  = ['--','-','--'])\n",
    "    plt.title(title)\n",
    "    plt.axis(\"tight\")\n",
    "    plt.show()"
   ]
  },
  {
   "cell_type": "markdown",
   "metadata": {
    "id": "Q7WlXaSl9h0g"
   },
   "source": [
    "### (3) 샘플데이터 생성"
   ]
  },
  {
   "cell_type": "code",
   "execution_count": null,
   "metadata": {
    "id": "YaYkGT5sihjc"
   },
   "outputs": [],
   "source": [
    "seed = 8\n",
    "\n",
    "x, y = make_classification(n_samples=100,\n",
    "                        n_features=2, \n",
    "                        n_redundant=0, \n",
    "                        weights = [0.5, 0.5],  # class 0과 1의 비율 조정 ==> class imbalance 상황만들기\n",
    "                        n_clusters_per_class=1, \n",
    "                        random_state=seed)\n",
    "sns.scatterplot(x[:,0], x[:,1], hue = y)\n",
    "plt.show()"
   ]
  },
  {
   "cell_type": "markdown",
   "metadata": {
    "id": "3nFDgYyv9xsT"
   },
   "source": [
    "### (4) SVM 모델 생성 및 시각화"
   ]
  },
  {
   "cell_type": "code",
   "execution_count": null,
   "metadata": {
    "id": "qXQ1puwjjB6v"
   },
   "outputs": [],
   "source": [
    "model = SVC(kernel = 'linear', C = 10)\n",
    "model.fit(x,y)\n",
    "svm_visualize(x, y, model)"
   ]
  },
  {
   "cell_type": "markdown",
   "metadata": {
    "id": "Yg3nFDp4x5wS"
   },
   "source": [
    "### (5) 결정 경계와 마진"
   ]
  },
  {
   "cell_type": "markdown",
   "metadata": {
    "id": "lVp3x_eH-ItZ"
   },
   "source": [
    "* 새로운 샘플 데이터를 다시 생성해 봅시다."
   ]
  },
  {
   "cell_type": "code",
   "execution_count": null,
   "metadata": {
    "id": "INv9Bo_X8JJU"
   },
   "outputs": [],
   "source": [
    "seed = 34\n",
    "x, y = make_classification(n_features=2, n_redundant=0, weights = [0.5, 0.5],\n",
    "                        n_clusters_per_class=1, random_state=seed)"
   ]
  },
  {
   "cell_type": "markdown",
   "metadata": {
    "id": "eD4CoOMw-UeH"
   },
   "source": [
    "* cost 값을 0.1, ~ 20 사이의 숫자로 변경하며 cost에 따른 모델을 살펴 봅시다."
   ]
  },
  {
   "cell_type": "code",
   "execution_count": null,
   "metadata": {
    "id": "Y-fD1MO-8NE6"
   },
   "outputs": [],
   "source": [
    "cost = 40\n",
    "model = SVC(kernel = 'linear', C = cost)\n",
    "model.fit(x,y)\n",
    "svm_visualize(x, y, model, cost)"
   ]
  },
  {
   "cell_type": "markdown",
   "metadata": {
    "id": "Hum_n8DkdzNC"
   },
   "source": [
    "### (6) 선형경계로 분류할 수 없는 데이터셋"
   ]
  },
  {
   "cell_type": "markdown",
   "metadata": {
    "id": "0OUGqGdP-dfb"
   },
   "source": [
    "* 데이터를 생성하고 시각화 해 봅시다."
   ]
  },
  {
   "cell_type": "code",
   "execution_count": null,
   "metadata": {
    "id": "6IP5Z8Zad4bn"
   },
   "outputs": [],
   "source": [
    "x, y = make_moons(n_samples = 200, noise = .13, random_state = 10)\n",
    "\n",
    "plt.figure(figsize = (6,6))\n",
    "sns.scatterplot(x[:,0], x[:,1], hue = y)\n",
    "plt.show()"
   ]
  },
  {
   "cell_type": "markdown",
   "metadata": {
    "id": "jWb1ZdHl_EFb"
   },
   "source": [
    "* 선형경계로 분류"
   ]
  },
  {
   "cell_type": "code",
   "execution_count": null,
   "metadata": {
    "id": "Y31-qjEpfDiC"
   },
   "outputs": [],
   "source": [
    "model = SVC(kernel = 'linear')\n",
    "model.fit(x,y)\n",
    "svm_visualize(x, y, model)"
   ]
  },
  {
   "cell_type": "markdown",
   "metadata": {
    "id": "l3CBToe6XThV"
   },
   "source": [
    "* 커널 트릭 사용 : rbf"
   ]
  },
  {
   "cell_type": "code",
   "execution_count": null,
   "metadata": {
    "id": "G2DQ7iblfune"
   },
   "outputs": [],
   "source": [
    "model = SVC(kernel = 'rbf', C = 1)\n",
    "model.fit(x,y)\n",
    "svm_visualize(x, y, model)"
   ]
  },
  {
   "cell_type": "markdown",
   "metadata": {
    "id": "XhyeI57jBM66"
   },
   "source": [
    "### (7) 하이퍼파라미터"
   ]
  },
  {
   "cell_type": "markdown",
   "metadata": {
    "id": "3HbmixxpBLHR"
   },
   "source": [
    "* Cost : \n",
    "    * 오류를 허용하지 않으려는 비용(노력!)\n",
    "    * 값이 클수록 오류를 허용하지 않기 위한 경계를 만들려고 함.\n",
    "* gamma : \n",
    "    * 결정경계의 곡률\n",
    "    * 값이 클수록 곡률반경이 작아짐."
   ]
  },
  {
   "cell_type": "markdown",
   "metadata": {
    "id": "ZtnmsHDX_Ow_"
   },
   "source": [
    "* Cost에 따라 결정 경계가 어떻게 달라지는지 살펴 봅시다."
   ]
  },
  {
   "cell_type": "code",
   "execution_count": null,
   "metadata": {
    "id": "PqAhuZQN8MCd"
   },
   "outputs": [],
   "source": [
    "for cost in [0.1, .5, 2, 20] : \n",
    "    model = SVC(kernel = 'rbf', C = cost)\n",
    "    model.fit(x,y)\n",
    "    svm_visualize(x, y, model, cost)"
   ]
  },
  {
   "cell_type": "markdown",
   "metadata": {
    "id": "bm20pz8X_W1p"
   },
   "source": [
    "* gamma에 따라 결정 경계가 어떻게 달라지는지 살펴 봅시다."
   ]
  },
  {
   "cell_type": "code",
   "execution_count": null,
   "metadata": {
    "id": "MxXGb1t3fCOQ"
   },
   "outputs": [],
   "source": [
    "for g in [.5, 1, 5, 10] : \n",
    "    model = SVC(kernel = 'rbf', C = 2, gamma =  g)\n",
    "    model.fit(x,y)\n",
    "    svm_visualize(x, y, model, g)"
   ]
  },
  {
   "cell_type": "markdown",
   "metadata": {
    "id": "wW0d0eGmCYJM"
   },
   "source": [
    "## 2.데이터 준비"
   ]
  },
  {
   "cell_type": "markdown",
   "metadata": {
    "id": "LBOR4ttK_6JA"
   },
   "source": [
    "* 변수설명\n",
    "    * COLLEGE : 대학 졸업여부\n",
    "    * INCOME : 연수입\n",
    "    * OVERAGE : 월평균 초과사용 시간(분)\n",
    "    * LEFTOVER : 월평균 잔여시간비율(%)\n",
    "    * HOUSE : 집값\n",
    "    * HANDSET_PRICE : 스마트폰 가격\n",
    "    * OVER_15MINS_CALLS_PER_MONTH : 월평균 장기통화(15분이상) 횟수\n",
    "    * AVERAGE_CALL_DURATION : 평균 통화 시간\n",
    "    * REPORTED_SATISFACTION : 만족도 설문조사 결과\n",
    "    * REPORTED_USAGE_LEVEL : 사용도 자가진단 결과\n",
    "    * CONSIDERING_CHANGE_OF_PLAN : 향후 변경계획 설문조사 결과\n",
    "    * CHURN : 이탈(번호이동) 여부 (Target 변수)\n"
   ]
  },
  {
   "cell_type": "code",
   "execution_count": null,
   "metadata": {
    "id": "pl1Ar13F_6JB"
   },
   "outputs": [],
   "source": [
    "# 데이터를 불러옵시다.\n",
    "path = 'https://raw.githubusercontent.com/DA4BAM/dataset/master/mobile_cust_churn.csv'\n",
    "data = pd.read_csv(path)\n",
    "data = data.sample(5000, random_state = 2022)"
   ]
  },
  {
   "cell_type": "markdown",
   "metadata": {
    "id": "y9Q6jR6OZjUk"
   },
   "source": [
    "### (1) 데이터 정리"
   ]
  },
  {
   "cell_type": "code",
   "execution_count": null,
   "metadata": {
    "id": "Dhi6-3jgrEgQ"
   },
   "outputs": [],
   "source": [
    "drop_cols = ['id']\n",
    "data.drop(drop_cols, axis = 1, inplace = True )"
   ]
  },
  {
   "cell_type": "markdown",
   "metadata": {
    "id": "WpJEGpUuuVWm"
   },
   "source": [
    "### (2) 데이터분할1 : x, y 나누기"
   ]
  },
  {
   "cell_type": "code",
   "execution_count": null,
   "metadata": {
    "id": "3u8-Ovu4ADVn"
   },
   "outputs": [],
   "source": [
    "target = 'CHURN'\n",
    "x = data.drop(target, axis = 1)\n",
    "y = data.loc[:, target]"
   ]
  },
  {
   "cell_type": "markdown",
   "metadata": {
    "id": "mp_5volyuaA1"
   },
   "source": [
    "### (3) NA 조치"
   ]
  },
  {
   "cell_type": "markdown",
   "metadata": {
    "id": "nOF9fSLQugGf"
   },
   "source": [
    "### (4) 가변수화"
   ]
  },
  {
   "cell_type": "code",
   "execution_count": null,
   "metadata": {
    "id": "CZgBC2QSoKc8"
   },
   "outputs": [],
   "source": [
    "dumm_cols = ['REPORTED_SATISFACTION','REPORTED_USAGE_LEVEL','CONSIDERING_CHANGE_OF_PLAN']\n",
    "x = pd.get_dummies(x, columns = dumm_cols, drop_first = True)"
   ]
  },
  {
   "cell_type": "markdown",
   "metadata": {
    "id": "VBwpOKgkf5Am"
   },
   "source": [
    "### (5) 데이터분할2 : train : validation 나누기"
   ]
  },
  {
   "cell_type": "code",
   "execution_count": null,
   "metadata": {
    "id": "1iHmTnHCgBw5"
   },
   "outputs": [],
   "source": [
    "x_train, x_val, y_train, y_val = train_test_split(x, y, test_size = .3, random_state = 2022)"
   ]
  },
  {
   "cell_type": "markdown",
   "metadata": {
    "id": "59bBv0a8heYh"
   },
   "source": [
    "### (6) Scaling"
   ]
  },
  {
   "cell_type": "code",
   "execution_count": null,
   "metadata": {
    "id": "vA28buJg9GpV"
   },
   "outputs": [],
   "source": [
    "from sklearn.preprocessing import MinMaxScaler\n",
    "\n",
    "scaler = MinMaxScaler()\n",
    "x_train = scaler.fit_transform(x_train)\n",
    "x_val = scaler.transform(x_val)"
   ]
  },
  {
   "cell_type": "markdown",
   "metadata": {
    "id": "Db2kkXxgf25E"
   },
   "source": [
    "## 3.모델링"
   ]
  },
  {
   "cell_type": "markdown",
   "metadata": {
    "id": "UbnrNvPXf25E"
   },
   "source": [
    "### (1) 필요한 함수 불러오기\n",
    "\n",
    "* SVM\n",
    "    * SVC : 분류\n",
    "    * SVR : 회귀"
   ]
  },
  {
   "cell_type": "code",
   "execution_count": null,
   "metadata": {
    "id": "X2_UhsQ0f25E"
   },
   "outputs": [],
   "source": [
    "# 모델링을 위해\n",
    "from sklearn.svm import SVC\n",
    "\n",
    "# 평가를 위해.\n",
    "from sklearn.metrics import *"
   ]
  },
  {
   "cell_type": "markdown",
   "metadata": {
    "id": "rgC0-b0Ef25F"
   },
   "source": [
    "### (2) 선언"
   ]
  },
  {
   "cell_type": "code",
   "execution_count": null,
   "metadata": {
    "id": "sy7KaM9Qf25F"
   },
   "outputs": [],
   "source": [
    "model = SVC()"
   ]
  },
  {
   "cell_type": "markdown",
   "metadata": {
    "id": "e4trwN6Cf25F"
   },
   "source": [
    "### (3) 모델링(학습)"
   ]
  },
  {
   "cell_type": "code",
   "execution_count": null,
   "metadata": {
    "id": "oB44wfFTf25F"
   },
   "outputs": [],
   "source": [
    "model.fit(x_train, y_train)"
   ]
  },
  {
   "cell_type": "markdown",
   "metadata": {
    "id": "GAepDcwgf25F"
   },
   "source": [
    "### (4) 검증 : 예측"
   ]
  },
  {
   "cell_type": "code",
   "execution_count": null,
   "metadata": {
    "id": "SVXiJYWSf25F"
   },
   "outputs": [],
   "source": [
    "pred = model.predict(x_val)"
   ]
  },
  {
   "cell_type": "markdown",
   "metadata": {
    "id": "bEk9nMg5f25F"
   },
   "source": [
    "### (5) 검증 : 평가"
   ]
  },
  {
   "cell_type": "markdown",
   "metadata": {
    "id": "ga5zxW1X1zev"
   },
   "source": [
    "* confusion matrix"
   ]
  },
  {
   "cell_type": "code",
   "execution_count": null,
   "metadata": {
    "id": "Tok6xpctGxfH"
   },
   "outputs": [],
   "source": [
    "confusion_matrix(y_val, pred)"
   ]
  },
  {
   "cell_type": "markdown",
   "metadata": {
    "id": "UMa5QvhL12qm"
   },
   "source": [
    "* classification report"
   ]
  },
  {
   "cell_type": "code",
   "execution_count": null,
   "metadata": {
    "id": "KtAKy708Gxbs"
   },
   "outputs": [],
   "source": [
    "print(classification_report(y_val, pred))"
   ]
  },
  {
   "cell_type": "markdown",
   "metadata": {
    "id": "WcHHjJ-_5XOw"
   },
   "source": [
    "## 4.실습 : C와 gamma를 조절하며 모델링 하기"
   ]
  },
  {
   "cell_type": "code",
   "execution_count": null,
   "metadata": {
    "id": "-D4BHUiV9qH5"
   },
   "outputs": [],
   "source": []
  },
  {
   "cell_type": "code",
   "execution_count": null,
   "metadata": {
    "id": "5nJB2VrnRZXD"
   },
   "outputs": [],
   "source": []
  },
  {
   "cell_type": "code",
   "execution_count": null,
   "metadata": {
    "id": "uQtT46MA7H7s"
   },
   "outputs": [],
   "source": []
  },
  {
   "cell_type": "code",
   "execution_count": null,
   "metadata": {
    "id": "fRryyvwh9qEv"
   },
   "outputs": [],
   "source": []
  }
 ],
 "metadata": {
  "colab": {
   "authorship_tag": "ABX9TyMvzcF6nksW5IHK+b1NFVJh",
   "collapsed_sections": [],
   "name": "07과 SVM.ipynb",
   "provenance": [],
   "toc_visible": true
  },
  "kernelspec": {
   "display_name": "Python 3 (ipykernel)",
   "language": "python",
   "name": "python3"
  },
  "language_info": {
   "codemirror_mode": {
    "name": "ipython",
    "version": 3
   },
   "file_extension": ".py",
   "mimetype": "text/x-python",
   "name": "python",
   "nbconvert_exporter": "python",
   "pygments_lexer": "ipython3",
   "version": "3.9.12"
  }
 },
 "nbformat": 4,
 "nbformat_minor": 1
}
