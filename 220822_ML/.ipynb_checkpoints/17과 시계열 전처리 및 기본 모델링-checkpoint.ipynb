{
 "cells": [
  {
   "cell_type": "markdown",
   "id": "60779a9b",
   "metadata": {
    "id": "60779a9b"
   },
   "source": [
    " # 시계열 전처리 및 기본 모델링\n"
   ]
  },
  {
   "cell_type": "markdown",
   "id": "Or5xdnmzfzQu",
   "metadata": {
    "id": "Or5xdnmzfzQu"
   },
   "source": [
    "# 1.환경준비"
   ]
  },
  {
   "cell_type": "markdown",
   "id": "4GlLGDhIqh8Y",
   "metadata": {
    "id": "4GlLGDhIqh8Y"
   },
   "source": [
    "## (1) 라이브러리 로딩"
   ]
  },
  {
   "cell_type": "code",
   "execution_count": null,
   "id": "0ff8f366",
   "metadata": {
    "id": "0ff8f366"
   },
   "outputs": [],
   "source": [
    "import pandas as pd\n",
    "import numpy as np\n",
    "import matplotlib.pyplot as plt\n",
    "import seaborn as sns\n",
    "\n",
    "import scipy.stats as spst\n",
    "import statsmodels.api as sm\n",
    "from statsmodels.graphics.tsaplots import plot_acf, plot_pacf\n",
    "\n",
    "from sklearn.metrics import *\n",
    "\n",
    "import warnings\n",
    "from statsmodels.tools.sm_exceptions import ConvergenceWarning\n",
    "warnings.filterwarnings(action='ignore')\n",
    "warnings.simplefilter('ignore', ConvergenceWarning)"
   ]
  },
  {
   "cell_type": "markdown",
   "id": "NJ_16kUxqlFH",
   "metadata": {
    "id": "NJ_16kUxqlFH"
   },
   "source": [
    "## (2) 데이터 불러오기"
   ]
  },
  {
   "cell_type": "code",
   "execution_count": null,
   "id": "3GgFpOB4zQ7h",
   "metadata": {
    "id": "3GgFpOB4zQ7h"
   },
   "outputs": [],
   "source": [
    "path = 'https://raw.githubusercontent.com/DA4BAM/dataset/master/retail_demand2.csv'\n",
    "data = pd.read_csv(path, usecols = ['date', 'sales'])\n",
    "data = data.loc[data['date']<= '2014-10-31'].reset_index(drop = True)\n",
    "data['date'] = pd.to_datetime(data['date'])\n",
    "data['weekday'] = data['date'].dt.day_name().str.slice(0,3)\n",
    "data.head()"
   ]
  },
  {
   "cell_type": "markdown",
   "id": "cG5cky5FS7jp",
   "metadata": {
    "id": "cG5cky5FS7jp"
   },
   "source": [
    "* 변수 설명\n",
    "\n",
    "    * date : 날짜\n",
    "    * sales : 판매량\n",
    "    * weekday : 요일"
   ]
  },
  {
   "cell_type": "code",
   "execution_count": null,
   "id": "jhYBDhh8HVev",
   "metadata": {
    "id": "jhYBDhh8HVev"
   },
   "outputs": [],
   "source": [
    "plt.figure(figsize = (20,8))\n",
    "plt.plot(data['sales'])\n",
    "plt.grid()\n",
    "plt.show()"
   ]
  },
  {
   "cell_type": "code",
   "execution_count": null,
   "id": "u9nk0CmMTsB_",
   "metadata": {
    "id": "u9nk0CmMTsB_"
   },
   "outputs": [],
   "source": [
    "temp = data[-100:]\n",
    "plt.figure(figsize = (20,8))\n",
    "plt.plot(temp['sales'], marker ='o')\n",
    "plt.grid()\n",
    "plt.show()"
   ]
  },
  {
   "cell_type": "markdown",
   "id": "y1fbICOYqolg",
   "metadata": {
    "id": "y1fbICOYqolg"
   },
   "source": [
    "# 2.기본 전처리"
   ]
  },
  {
   "cell_type": "markdown",
   "id": "57hByVZOf4CQ",
   "metadata": {
    "id": "57hByVZOf4CQ"
   },
   "source": [
    "## (1) y 만들기"
   ]
  },
  {
   "cell_type": "markdown",
   "id": "bq7gmu2mjLN5",
   "metadata": {
    "id": "bq7gmu2mjLN5"
   },
   "source": [
    "* 사전 관찰(look-ahead) : 미래의 어떤 사실을 안다는 뜻\n",
    "* 사전 관찰 문제 : \n",
    "    * 데이터를 통해 실제로 알아야 하는 시점보다 더 일찍 미래에 대한 사실을 알게 되는 문제.  \n",
    "    * 사전관찰 문제가 있는 채로 모델링을 하게 되면, 놀라운 성능의 모델이 만들어짐. --> 그러나 실제로는 불가능한 상황."
   ]
  },
  {
   "cell_type": "markdown",
   "id": "1ExaFU9mpJUK",
   "metadata": {
    "id": "1ExaFU9mpJUK"
   },
   "source": [
    "* 그래서 y를 만들때 사전관찰문제가 발생되지 않도록 해야 함.\n",
    "    * 예제는 1일 후의 수요량을 예측하려고 합니다."
   ]
  },
  {
   "cell_type": "markdown",
   "id": "zgR1K-7XtA9D",
   "metadata": {
    "id": "zgR1K-7XtA9D"
   },
   "source": [
    "* 1일 후 수요량을 예측하려면, y를 어떻게 만들어야 할까요?"
   ]
  },
  {
   "cell_type": "code",
   "execution_count": null,
   "id": "NdFFrAUAtIYy",
   "metadata": {
    "id": "NdFFrAUAtIYy"
   },
   "outputs": [],
   "source": [
    "data['y'] = data['sales'].shift(-1)\n",
    "display(data.head())\n",
    "display(data.tail())"
   ]
  },
  {
   "cell_type": "code",
   "execution_count": null,
   "id": "JNx0QukL6aNM",
   "metadata": {
    "id": "JNx0QukL6aNM"
   },
   "outputs": [],
   "source": [
    "# 제일 마지막 행은 삭제\n",
    "data.dropna(axis = 0, inplace = True)\n",
    "data.tail()"
   ]
  },
  {
   "cell_type": "markdown",
   "id": "-Y_Rlh4XZ2qU",
   "metadata": {
    "id": "-Y_Rlh4XZ2qU"
   },
   "source": [
    "## (2) 가변수화"
   ]
  },
  {
   "cell_type": "code",
   "execution_count": null,
   "id": "hV2Eb7XlZ48E",
   "metadata": {
    "id": "hV2Eb7XlZ48E"
   },
   "outputs": [],
   "source": [
    "data = pd.get_dummies(data, columns = ['weekday'], drop_first=False)"
   ]
  },
  {
   "cell_type": "markdown",
   "id": "YdzJ8Feyv2o6",
   "metadata": {
    "id": "YdzJ8Feyv2o6"
   },
   "source": [
    "## (2) 데이터 분할"
   ]
  },
  {
   "cell_type": "markdown",
   "id": "zdJUKZoew91D",
   "metadata": {
    "id": "zdJUKZoew91D"
   },
   "source": [
    "### 1) x, y 나누기"
   ]
  },
  {
   "cell_type": "code",
   "execution_count": null,
   "id": "62z8Rvi8v0wy",
   "metadata": {
    "id": "62z8Rvi8v0wy"
   },
   "outputs": [],
   "source": [
    "target = 'y'\n",
    "\n",
    "x = data.drop([target, 'date'], axis = 1) #제거할 때, date도 제거\n",
    "y = data.loc[:, target]"
   ]
  },
  {
   "cell_type": "markdown",
   "id": "eoDNCcUkAMLc",
   "metadata": {
    "id": "eoDNCcUkAMLc"
   },
   "source": [
    "### 2) train, val 분할\n",
    "* 1회 분할 : train_test_split( x, y, test_size= , shuffle = False) \n",
    "    * test_size : 소수 - 비율, 자연수 - 갯수\n",
    "    * shuffle = False : 섞지 말고 데이터 끝에서 test_size 만큼 자르기\n",
    "* k-fold cross validation for Time Seires : TimeSeriesSplit"
   ]
  },
  {
   "cell_type": "code",
   "execution_count": null,
   "id": "v9qVosp1AwlO",
   "metadata": {
    "id": "v9qVosp1AwlO"
   },
   "outputs": [],
   "source": [
    "# 여기서는 1회 분할로 진행합니다.\n",
    "from sklearn.model_selection import train_test_split\n",
    "x_train, x_val, y_train, y_val = train_test_split(x, y, test_size = 30, shuffle = False)"
   ]
  },
  {
   "cell_type": "markdown",
   "id": "dfPS8IOb6D9j",
   "metadata": {
    "id": "dfPS8IOb6D9j"
   },
   "source": [
    "# 3.시계열모델링① : ML 기반 모델링"
   ]
  },
  {
   "cell_type": "code",
   "execution_count": null,
   "id": "SSLMwocO1vdf",
   "metadata": {
    "id": "SSLMwocO1vdf"
   },
   "outputs": [],
   "source": [
    "from sklearn.linear_model import LinearRegression\n",
    "from sklearn.metrics import * "
   ]
  },
  {
   "cell_type": "markdown",
   "id": "9erVmb1cP4rr",
   "metadata": {
    "id": "9erVmb1cP4rr"
   },
   "source": [
    "## (1) 모델링"
   ]
  },
  {
   "cell_type": "code",
   "execution_count": null,
   "id": "353O6fVzBYVZ",
   "metadata": {
    "id": "353O6fVzBYVZ"
   },
   "outputs": [],
   "source": []
  },
  {
   "cell_type": "markdown",
   "id": "c9tSdcSlNeha",
   "metadata": {
    "id": "c9tSdcSlNeha"
   },
   "source": [
    "## (2) 검증"
   ]
  },
  {
   "cell_type": "code",
   "execution_count": null,
   "id": "VNK9bfw5ZemM",
   "metadata": {
    "id": "VNK9bfw5ZemM"
   },
   "outputs": [],
   "source": [
    "p1 = \n",
    "\n",
    "print('RMSE : ', mean_squared_error(y_val, p1, squared = False))\n",
    "print('MAE  : ', mean_absolute_error(y_val, p1))\n",
    "print('MAPE : ', mean_absolute_percentage_error(y_val, p1))"
   ]
  },
  {
   "cell_type": "markdown",
   "id": "Y5ZAzt06CiP2",
   "metadata": {
    "id": "Y5ZAzt06CiP2"
   },
   "source": [
    "## (3) 결과 시각화"
   ]
  },
  {
   "cell_type": "markdown",
   "id": "bCgrtlQuOii6",
   "metadata": {
    "id": "bCgrtlQuOii6"
   },
   "source": [
    "* pred를 시리즈로 바꾸고, 인덱스 맞추기"
   ]
  },
  {
   "cell_type": "code",
   "execution_count": null,
   "id": "WYexwSsXOKLV",
   "metadata": {
    "id": "WYexwSsXOKLV"
   },
   "outputs": [],
   "source": [
    "p1 = pd.Series(p1, index = y_val.index)\n",
    "p1"
   ]
  },
  {
   "cell_type": "markdown",
   "id": "l9aeGjO0OmgR",
   "metadata": {
    "id": "l9aeGjO0OmgR"
   },
   "source": [
    "* y_train, y_val(전체), pred 한꺼번에 시각화 "
   ]
  },
  {
   "cell_type": "code",
   "execution_count": null,
   "id": "eBcPyZ7TNiBX",
   "metadata": {
    "id": "eBcPyZ7TNiBX"
   },
   "outputs": [],
   "source": [
    "plt.figure(figsize = (20,8))\n",
    "plt.plot(y_train, label = 'train')\n",
    "plt.plot(y_val, label = 'val')\n",
    "plt.plot(p1, label = 'pred')\n",
    "\n",
    "plt.legend()\n",
    "plt.grid()\n",
    "plt.show()"
   ]
  },
  {
   "cell_type": "code",
   "execution_count": null,
   "id": "pYmV5rjfOvJm",
   "metadata": {
    "id": "pYmV5rjfOvJm"
   },
   "outputs": [],
   "source": [
    "plt.figure(figsize = (20,8))\n",
    "plt.plot(y_val, label = 'val')\n",
    "plt.plot(p1, label = 'pred')\n",
    "\n",
    "plt.legend()\n",
    "plt.grid()\n",
    "plt.show()"
   ]
  },
  {
   "cell_type": "markdown",
   "id": "7vOqaj0zCqQx",
   "metadata": {
    "id": "7vOqaj0zCqQx"
   },
   "source": [
    "# 4.시계열모델링② : 전통적 시계열 모델링"
   ]
  },
  {
   "cell_type": "markdown",
   "id": "G-WHK755CqQz",
   "metadata": {
    "id": "G-WHK755CqQz"
   },
   "source": [
    "## (1) 모델링"
   ]
  },
  {
   "cell_type": "code",
   "execution_count": null,
   "id": "J_zpbO57CqQ0",
   "metadata": {
    "id": "J_zpbO57CqQ0"
   },
   "outputs": [],
   "source": [
    "m2 = sm.tsa.SARIMAX(y_train, order=(4,1,4)).fit()"
   ]
  },
  {
   "cell_type": "markdown",
   "id": "D8KTb-WmCqQ0",
   "metadata": {
    "id": "D8KTb-WmCqQ0"
   },
   "source": [
    "## (2) 검증"
   ]
  },
  {
   "cell_type": "code",
   "execution_count": null,
   "id": "ADBYL3r8CqQ0",
   "metadata": {
    "id": "ADBYL3r8CqQ0"
   },
   "outputs": [],
   "source": [
    "p2 = m2.forecast(30)\n",
    "\n",
    "print('RMSE : ', mean_squared_error(y_val, p2, squared = False))\n",
    "print('MAE  : ', mean_absolute_error(y_val, p2))\n",
    "print('MAPE : ', mean_absolute_percentage_error(y_val, p2))"
   ]
  },
  {
   "cell_type": "markdown",
   "id": "D9w1GBBVCqQ1",
   "metadata": {
    "id": "D9w1GBBVCqQ1"
   },
   "source": [
    "## (3) 결과 시각화"
   ]
  },
  {
   "cell_type": "markdown",
   "id": "hvqJpFWSCqQ1",
   "metadata": {
    "id": "hvqJpFWSCqQ1"
   },
   "source": [
    "* pred를 시리즈로 바꾸고, 인덱스 맞추기"
   ]
  },
  {
   "cell_type": "code",
   "execution_count": null,
   "id": "FvcjcjYGCqQ2",
   "metadata": {
    "id": "FvcjcjYGCqQ2"
   },
   "outputs": [],
   "source": [
    "p2 = pd.Series(p2, index = y_val.index)"
   ]
  },
  {
   "cell_type": "markdown",
   "id": "hFj17HzeCqQ2",
   "metadata": {
    "id": "hFj17HzeCqQ2"
   },
   "source": [
    "* y_train, y_val(전체), pred 한꺼번에 시각화 "
   ]
  },
  {
   "cell_type": "code",
   "execution_count": null,
   "id": "5uTWsgetCqQ2",
   "metadata": {
    "id": "5uTWsgetCqQ2"
   },
   "outputs": [],
   "source": [
    "plt.figure(figsize = (20,8))\n",
    "plt.plot(y_train, label = 'train')\n",
    "plt.plot(y_val, label = 'val')\n",
    "plt.plot(p2, label = 'pred')\n",
    "\n",
    "plt.legend()\n",
    "plt.grid()\n",
    "plt.show()"
   ]
  },
  {
   "cell_type": "code",
   "execution_count": null,
   "id": "1JvWg-qcCqQ3",
   "metadata": {
    "id": "1JvWg-qcCqQ3"
   },
   "outputs": [],
   "source": [
    "plt.figure(figsize = (20,8))\n",
    "plt.plot(y_val, label = 'val')\n",
    "plt.plot(p2, label = 'pred')\n",
    "\n",
    "plt.legend()\n",
    "plt.grid()\n",
    "plt.show()"
   ]
  },
  {
   "cell_type": "markdown",
   "id": "A2GWpdAtzgZJ",
   "metadata": {
    "id": "A2GWpdAtzgZJ"
   },
   "source": [
    "# 5.평가 : 잔차분석\n",
    "\n",
    "* 잔차에 대한 우리의 기대 : 화이트 노이즈\n",
    "    * 자기상관성 없음 : ACF, PACF 그래프\n",
    "    * 정규분포 : Shapiro-Wilk 검정\n",
    "    * 평균과 분산이 일정(Stationary) : ADF 검정\n",
    "* 만약 화이트 노이즈가 아니라면...\n",
    "    * 더 찾아내야 할 패턴이 있다는 의미."
   ]
  },
  {
   "cell_type": "markdown",
   "id": "5EzJvVc3-MOy",
   "metadata": {
    "id": "5EzJvVc3-MOy"
   },
   "source": [
    "## (1) ACF, PACF\n",
    "\n",
    "* 정상 데이터 및 자기상관관계가 없는 데이터라면\n",
    "* ACF, PACF 그래프에서\n",
    "    * 첫번째 lag 에서부터 하늘색 범위 안에 값이 위치해야 하고\n",
    "    * 값의 등락에 대한 어떠한 패턴도 보이지 않아야 합니다.\n",
    "* 그러나 실제 데이터에서는 그런 결과를 보기 쉽지 않습니다."
   ]
  },
  {
   "cell_type": "code",
   "execution_count": null,
   "id": "7bvykqnw-LwH",
   "metadata": {
    "id": "7bvykqnw-LwH"
   },
   "outputs": [],
   "source": [
    "from statsmodels.graphics.tsaplots import plot_acf, plot_pacf"
   ]
  },
  {
   "cell_type": "code",
   "execution_count": null,
   "id": "Jjxua_bYBYaB",
   "metadata": {
    "id": "Jjxua_bYBYaB"
   },
   "outputs": [],
   "source": [
    "residuals = m2.resid"
   ]
  },
  {
   "cell_type": "markdown",
   "id": "218uxRHcs2b8",
   "metadata": {
    "id": "218uxRHcs2b8"
   },
   "source": [
    "### 1) ACF(자기 상관함수) "
   ]
  },
  {
   "cell_type": "code",
   "execution_count": null,
   "id": "fl8nNNPH-P-2",
   "metadata": {
    "id": "fl8nNNPH-P-2"
   },
   "outputs": [],
   "source": [
    "plot_acf(residuals, lags = 20)\n",
    "plt.show()"
   ]
  },
  {
   "cell_type": "code",
   "execution_count": null,
   "id": "BCpVqhmiEs6H",
   "metadata": {
    "id": "BCpVqhmiEs6H"
   },
   "outputs": [],
   "source": [
    "res_df = pd.DataFrame({'residuals':residuals})\n",
    "\n",
    "for i in range(1,21) :\n",
    "    var = 'lag' + str(i)\n",
    "    res_df[var] = res_df['residuals'].shift(i)"
   ]
  },
  {
   "cell_type": "code",
   "execution_count": null,
   "id": "na68rX-FKuYI",
   "metadata": {
    "id": "na68rX-FKuYI"
   },
   "outputs": [],
   "source": [
    "res_df.head(20)"
   ]
  },
  {
   "cell_type": "code",
   "execution_count": null,
   "id": "Th7ZmokmFqUb",
   "metadata": {
    "id": "Th7ZmokmFqUb"
   },
   "outputs": [],
   "source": [
    "res_df.corr()"
   ]
  },
  {
   "cell_type": "markdown",
   "id": "qOZypndDs9Yo",
   "metadata": {
    "id": "qOZypndDs9Yo"
   },
   "source": [
    "### 2) PACF"
   ]
  },
  {
   "cell_type": "code",
   "execution_count": null,
   "id": "dBIoUSwis9MI",
   "metadata": {
    "id": "dBIoUSwis9MI"
   },
   "outputs": [],
   "source": [
    "plot_pacf(residuals, lags = 20)\n",
    "plt.show()"
   ]
  },
  {
   "cell_type": "code",
   "execution_count": null,
   "id": "Hr3OWnBUAyYA",
   "metadata": {
    "id": "Hr3OWnBUAyYA"
   },
   "outputs": [],
   "source": [
    "lags = 20\n",
    "\n",
    "fig,ax = plt.subplots(1,2, figsize = (15,5))\n",
    "plot_acf(residuals, lags = lags, ax = ax[0])\n",
    "plot_pacf(residuals, lags = lags, ax = ax[1])\n",
    "plt.show()"
   ]
  },
  {
   "cell_type": "markdown",
   "id": "Wy4deB6j6pzh",
   "metadata": {
    "id": "Wy4deB6j6pzh"
   },
   "source": [
    "## (2) 검정\n",
    "검정 도구를 적용하여 의사결정하는 용도로만 사용합니다."
   ]
  },
  {
   "cell_type": "code",
   "execution_count": null,
   "id": "f89fwqvW7NAP",
   "metadata": {
    "id": "f89fwqvW7NAP"
   },
   "outputs": [],
   "source": [
    "import scipy.stats as spst\n",
    "import statsmodels.api as sm"
   ]
  },
  {
   "cell_type": "markdown",
   "id": "kMfGQvox65H6",
   "metadata": {
    "id": "kMfGQvox65H6"
   },
   "source": [
    "### 1) 정규성 검정 : Shapiro-Wilk 검정\n",
    "\n",
    "* 귀무가설 : **정규 분포이다.** (p-value > 0.05)\n",
    "* 대립가설 : 정규분포가 아니다."
   ]
  },
  {
   "cell_type": "code",
   "execution_count": null,
   "id": "ZAd8ooBxzlic",
   "metadata": {
    "id": "ZAd8ooBxzlic"
   },
   "outputs": [],
   "source": [
    "spst.shapiro(residuals)[1]"
   ]
  },
  {
   "cell_type": "markdown",
   "id": "pJkXVRNU8Y7U",
   "metadata": {
    "id": "pJkXVRNU8Y7U"
   },
   "source": [
    "### 2) 정상성 검정 : ADF 검정\n",
    "\n",
    "* 귀무가설 : 비정상(Non-Stationary) 데이터이다.\n",
    "* 대립가설 : **정상(Stationary) 데이터**이다.(P-value <= 0.05)"
   ]
  },
  {
   "cell_type": "code",
   "execution_count": null,
   "id": "o1slWXD99nzw",
   "metadata": {
    "id": "o1slWXD99nzw"
   },
   "outputs": [],
   "source": [
    "# ADF 테스트\n",
    "sm.tsa.stattools.adfuller(residuals)[1]"
   ]
  },
  {
   "cell_type": "markdown",
   "id": "XNwWXiDaBKw6",
   "metadata": {
    "id": "XNwWXiDaBKw6"
   },
   "source": [
    "# 6.함수로 만들기"
   ]
  },
  {
   "cell_type": "markdown",
   "id": "W_JbQAisG6VG",
   "metadata": {
    "id": "W_JbQAisG6VG"
   },
   "source": [
    "## (1) 결과 시각화"
   ]
  },
  {
   "cell_type": "code",
   "execution_count": null,
   "id": "GjSJI5QgG5On",
   "metadata": {
    "id": "GjSJI5QgG5On"
   },
   "outputs": [],
   "source": [
    "def plot_model_result(y_train, y_val, pred) :\n",
    "    pred = pd.Series(pred, index = y_val.index)\n",
    "\n",
    "    # 전체 시각화\n",
    "    plt.figure(figsize = (20,12))\n",
    "    plt.subplot(2,1,1)\n",
    "    plt.plot(y_train, label = 'train')\n",
    "    plt.plot(y_val, label = 'val')\n",
    "    plt.plot(pred, label = 'pred')\n",
    "    plt.legend()\n",
    "    plt.grid()\n",
    "\n",
    "    plt.subplot(2,1,2)\n",
    "    plt.plot(y_val, label = 'val')\n",
    "    plt.plot(pred, label = 'pred')\n",
    "    plt.legend()\n",
    "    plt.grid()\n",
    "\n",
    "    plt.show()"
   ]
  },
  {
   "cell_type": "code",
   "execution_count": null,
   "id": "A7ZMNkMZHe7X",
   "metadata": {
    "id": "A7ZMNkMZHe7X"
   },
   "outputs": [],
   "source": [
    "plot_model_result(y_train, y_val, p2)"
   ]
  },
  {
   "cell_type": "markdown",
   "id": "cLJmjwApHs20",
   "metadata": {
    "id": "cLJmjwApHs20"
   },
   "source": [
    "## (2) 잔차분석"
   ]
  },
  {
   "cell_type": "code",
   "execution_count": null,
   "id": "L3lAzwPJBNGk",
   "metadata": {
    "id": "L3lAzwPJBNGk"
   },
   "outputs": [],
   "source": [
    "def residual_diag(residuals, lags = 30) :\n",
    "    print('* 정규성 검정(> 0.05) : ', round(spst.shapiro(residuals)[1],5))\n",
    "    print('* 정상성 검정(< 0.05) : ', round(sm.tsa.stattools.adfuller(residuals)[1],5))\n",
    "    print('* 자기상관성 확인(ACF, PACF)')\n",
    "    fig,ax = plt.subplots(1,2, figsize = (15,5))\n",
    "    plot_acf(residuals, lags = lags, ax = ax[0])\n",
    "    plot_pacf(residuals, lags = lags, ax = ax[1])\n",
    "    plt.show()"
   ]
  },
  {
   "cell_type": "code",
   "execution_count": null,
   "id": "ldyfYMB7BNc4",
   "metadata": {
    "id": "ldyfYMB7BNc4"
   },
   "outputs": [],
   "source": [
    "residual_diag(residuals, lags = 30)"
   ]
  },
  {
   "cell_type": "code",
   "execution_count": null,
   "id": "qsNkx6AABmVB",
   "metadata": {
    "id": "qsNkx6AABmVB"
   },
   "outputs": [],
   "source": []
  }
 ],
 "metadata": {
  "colab": {
   "collapsed_sections": [],
   "name": "17과 시계열 전처리 및 기본 모델링.ipynb",
   "provenance": [],
   "toc_visible": true
  },
  "kernelspec": {
   "display_name": "Python 3 (ipykernel)",
   "language": "python",
   "name": "python3"
  },
  "language_info": {
   "codemirror_mode": {
    "name": "ipython",
    "version": 3
   },
   "file_extension": ".py",
   "mimetype": "text/x-python",
   "name": "python",
   "nbconvert_exporter": "python",
   "pygments_lexer": "ipython3",
   "version": "3.9.12"
  }
 },
 "nbformat": 4,
 "nbformat_minor": 5
}
