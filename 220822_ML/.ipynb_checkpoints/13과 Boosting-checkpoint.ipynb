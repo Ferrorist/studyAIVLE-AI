{
 "cells": [
  {
   "cell_type": "markdown",
   "metadata": {
    "id": "AVG5bLhFJe6a"
   },
   "source": [
    "# Ensemble : Boosting"
   ]
  },
  {
   "cell_type": "markdown",
   "metadata": {
    "id": "O1uL0UIEzBPw"
   },
   "source": [
    "## 1.환경준비"
   ]
  },
  {
   "cell_type": "markdown",
   "metadata": {
    "id": "vNt997De17qz"
   },
   "source": [
    "### (1) import"
   ]
  },
  {
   "cell_type": "code",
   "execution_count": null,
   "metadata": {
    "id": "GugpCLBiVHzd"
   },
   "outputs": [],
   "source": [
    "#라이브러리들을 불러오자.\n",
    "import numpy as np\n",
    "import pandas as pd\n",
    "import matplotlib.pyplot as plt\n",
    "import seaborn as sns\n",
    "\n",
    "# 전처리\n",
    "from sklearn.model_selection import train_test_split\n",
    "from sklearn.preprocessing import MinMaxScaler\n",
    "\n",
    "# 모델링\n",
    "from xgboost import XGBClassifier, plot_tree\n",
    "from sklearn.metrics import * \n",
    "from sklearn.model_selection import RandomizedSearchCV, GridSearchCV\n",
    "\n",
    "import warnings    # 경고메시지 제외\n",
    "warnings.filterwarnings(action='ignore')"
   ]
  },
  {
   "cell_type": "markdown",
   "metadata": {
    "id": "CG-FeAY4f25C"
   },
   "source": [
    "### (2) 데이터 준비"
   ]
  },
  {
   "cell_type": "markdown",
   "metadata": {
    "id": "LGBEnPENs4Fs"
   },
   "source": [
    "* 변수설명\n",
    "    * COLLEGE : 대학 졸업여부\n",
    "    * INCOME : 연수입\n",
    "    * OVERAGE : 월평균 초과사용 시간(분)\n",
    "    * LEFTOVER : 월평균 잔여시간비율(%)\n",
    "    * HOUSE : 집값\n",
    "    * HANDSET_PRICE : 스마트폰 가격\n",
    "    * OVER_15MINS_CALLS_PER_MONTH : 월평균 장기통화(15분이상) 횟수\n",
    "    * AVERAGE_CALL_DURATION : 평균 통화 시간\n",
    "    * REPORTED_SATISFACTION : 만족도 설문조사 결과\n",
    "    * REPORTED_USAGE_LEVEL : 사용도 자가진단 결과\n",
    "    * CONSIDERING_CHANGE_OF_PLAN : 향후 변경계획 설문조사 결과\n",
    "    * CHURN : 이탈(번호이동) 여부 (1-이탈, 0-잔류, Target 변수)\n"
   ]
  },
  {
   "cell_type": "code",
   "execution_count": null,
   "metadata": {
    "id": "8omLhiDis4Fs"
   },
   "outputs": [],
   "source": [
    "# 데이터를 불러옵시다.\n",
    "path = 'https://raw.githubusercontent.com/DA4BAM/dataset/master/mobile_cust_churn.csv'\n",
    "data = pd.read_csv(path)\n",
    "data = data.sample(5000, random_state = 2022)\n",
    "data['CHURN'] = data['CHURN'].map({'LEAVE':1, 'STAY':0})\n",
    "data.head()"
   ]
  },
  {
   "cell_type": "markdown",
   "metadata": {
    "id": "wW0d0eGmCYJM"
   },
   "source": [
    "## 2.데이터 준비"
   ]
  },
  {
   "cell_type": "markdown",
   "metadata": {
    "id": "y9Q6jR6OZjUk"
   },
   "source": [
    "### (1) 데이터 정리"
   ]
  },
  {
   "cell_type": "code",
   "execution_count": null,
   "metadata": {
    "id": "Dhi6-3jgrEgQ"
   },
   "outputs": [],
   "source": [
    "drop_cols = ['id']\n",
    "data.drop(drop_cols, axis = 1, inplace = True )"
   ]
  },
  {
   "cell_type": "markdown",
   "metadata": {
    "id": "WpJEGpUuuVWm"
   },
   "source": [
    "### (2) 데이터분할1 : x, y 나누기"
   ]
  },
  {
   "cell_type": "code",
   "execution_count": null,
   "metadata": {
    "id": "3u8-Ovu4ADVn"
   },
   "outputs": [],
   "source": [
    "target = 'CHURN'\n",
    "x = data.drop(target, axis = 1)\n",
    "y = data.loc[:, target]"
   ]
  },
  {
   "cell_type": "markdown",
   "metadata": {
    "id": "mp_5volyuaA1"
   },
   "source": [
    "### (3) NA 조치"
   ]
  },
  {
   "cell_type": "markdown",
   "metadata": {
    "id": "nOF9fSLQugGf"
   },
   "source": [
    "### (4) 가변수화"
   ]
  },
  {
   "cell_type": "code",
   "execution_count": null,
   "metadata": {
    "id": "CZgBC2QSoKc8"
   },
   "outputs": [],
   "source": [
    "dumm_cols = ['REPORTED_SATISFACTION','REPORTED_USAGE_LEVEL','CONSIDERING_CHANGE_OF_PLAN']\n",
    "x = pd.get_dummies(x, columns = dumm_cols, drop_first = True)"
   ]
  },
  {
   "cell_type": "markdown",
   "metadata": {
    "id": "Mlz_XI5zAkke"
   },
   "source": [
    "### (5) 데이터분할2 : train : validation"
   ]
  },
  {
   "cell_type": "code",
   "execution_count": null,
   "metadata": {
    "id": "nRNx35wRGULl"
   },
   "outputs": [],
   "source": [
    "x_train, x_val, y_train, y_val = train_test_split(x, y, test_size=.3, random_state = 2022)"
   ]
  },
  {
   "cell_type": "markdown",
   "metadata": {
    "id": "3Kx80jnsFmlT"
   },
   "source": [
    "## 3.모델링 : XGB"
   ]
  },
  {
   "cell_type": "code",
   "execution_count": null,
   "metadata": {
    "id": "H0ddP6SlqRHv"
   },
   "outputs": [],
   "source": [
    "# 모델 선언\n",
    "model = XGBClassifier(n_estimators = 5)"
   ]
  },
  {
   "cell_type": "code",
   "execution_count": null,
   "metadata": {
    "id": "ZTVihfwNqRHx"
   },
   "outputs": [],
   "source": [
    "# 학습\n",
    "model.fit(x_train, y_train)"
   ]
  },
  {
   "cell_type": "code",
   "execution_count": null,
   "metadata": {
    "id": "aFIZR3G2lHNx"
   },
   "outputs": [],
   "source": [
    "# 예측\n",
    "pred = model.predict(x_val)"
   ]
  },
  {
   "cell_type": "code",
   "execution_count": null,
   "metadata": {
    "id": "lrMz1G6AlHb3"
   },
   "outputs": [],
   "source": [
    "# 평가\n",
    "print(classification_report(y_val, pred))"
   ]
  },
  {
   "cell_type": "markdown",
   "metadata": {
    "id": "zu1pOdOH4_N-"
   },
   "source": [
    "## 4.시각화와 변수중요도"
   ]
  },
  {
   "cell_type": "markdown",
   "metadata": {
    "id": "l7HDjalZvn5V"
   },
   "source": [
    "### (1) 모델 시각화"
   ]
  },
  {
   "cell_type": "markdown",
   "metadata": {
    "id": "nz-1iGV67dzE"
   },
   "source": [
    "xgboost 자체 plot_tree 함수를 제공합니다. \n",
    "\n",
    "* plot_tree(model, num_trees = 0)\n",
    "    * num_trees : 전체 트리 5개짜리 모델이므로 각각 0~4까지 인덱스로 조회해 볼 수 있다."
   ]
  },
  {
   "cell_type": "code",
   "execution_count": null,
   "metadata": {
    "id": "2RoftKD_5pRk"
   },
   "outputs": [],
   "source": [
    "plt.rcParams['figure.figsize'] = 20,20\n",
    "plot_tree(model, num_trees = 0)\n",
    "plt.show()"
   ]
  },
  {
   "cell_type": "code",
   "execution_count": null,
   "metadata": {
    "id": "upFBgSGe6yXW"
   },
   "outputs": [],
   "source": [
    "plot_tree(model, num_trees = 4)\n",
    "plt.show()"
   ]
  },
  {
   "cell_type": "markdown",
   "metadata": {
    "id": "1A3IrSloyvMc"
   },
   "source": [
    "### (2) 변수 중요도"
   ]
  },
  {
   "cell_type": "code",
   "execution_count": null,
   "metadata": {
    "id": "yMzgMkHix8hH"
   },
   "outputs": [],
   "source": [
    "# 변수 중요도\n",
    "print(x_train.columns)\n",
    "print(model.feature_importances_)"
   ]
  },
  {
   "cell_type": "markdown",
   "metadata": {
    "id": "sWJZioD01kne"
   },
   "source": [
    "* 변수중요도 그래프 그리기 함수 만들기"
   ]
  },
  {
   "cell_type": "code",
   "execution_count": null,
   "metadata": {
    "id": "U2yhFi1Z1mx5"
   },
   "outputs": [],
   "source": [
    "def plot_feature_importance(importance, names):\n",
    "    feature_importance = np.array(importance)\n",
    "    feature_names = np.array(names)\n",
    "\n",
    "    data={'feature_names':feature_names,'feature_importance':feature_importance}\n",
    "    fi_df = pd.DataFrame(data)\n",
    "\n",
    "    fi_df.sort_values(by=['feature_importance'], ascending=False,inplace=True)\n",
    "    fi_df.reset_index(drop=True, inplace = True)\n",
    "\n",
    "    plt.figure(figsize=(10,8))\n",
    "    sns.barplot(x='feature_importance', y='feature_names', data = fi_df)\n",
    "\n",
    "    plt.xlabel('FEATURE IMPORTANCE')\n",
    "    plt.ylabel('FEATURE NAMES')\n",
    "    plt.grid()\n",
    "\n",
    "    return fi_df"
   ]
  },
  {
   "cell_type": "code",
   "execution_count": null,
   "metadata": {
    "id": "zp9JdYhF16Kl"
   },
   "outputs": [],
   "source": [
    "result = plot_feature_importance(model.feature_importances_, x_train.columns)"
   ]
  },
  {
   "cell_type": "markdown",
   "metadata": {
    "id": "EgcYAbrjvCUk"
   },
   "source": [
    "## 5.실습 : 튜닝\n",
    "* xgboost에 대해 grid search로 튜닝을 수행해 봅시다.\n",
    "    * cv = 5\n",
    "    * grid 파라미터\n",
    "        - max_depth : 3~8 사이에서 3개 선택\n",
    "        - n_estimators : 50~150 사이에서 3개 선택\n",
    "        - learning_rate :0.01~ 0.2 사이에서 3개 선택"
   ]
  },
  {
   "cell_type": "code",
   "execution_count": null,
   "metadata": {
    "id": "1CSX_Q8uvCUr"
   },
   "outputs": [],
   "source": []
  },
  {
   "cell_type": "code",
   "execution_count": null,
   "metadata": {
    "id": "CWbDfExZvCUu"
   },
   "outputs": [],
   "source": []
  },
  {
   "cell_type": "code",
   "execution_count": null,
   "metadata": {
    "id": "8yuKS1f1vCUx"
   },
   "outputs": [],
   "source": []
  },
  {
   "cell_type": "code",
   "execution_count": null,
   "metadata": {
    "id": "vRCDwYfZvCUz"
   },
   "outputs": [],
   "source": []
  },
  {
   "cell_type": "markdown",
   "metadata": {
    "id": "R3ZTBxVSwoUi"
   },
   "source": [
    "* 변수 중요도"
   ]
  },
  {
   "cell_type": "code",
   "execution_count": null,
   "metadata": {
    "id": "tMYmU7e19Hbk"
   },
   "outputs": [],
   "source": []
  },
  {
   "cell_type": "code",
   "execution_count": null,
   "metadata": {
    "id": "7FJabQm59HYK"
   },
   "outputs": [],
   "source": []
  },
  {
   "cell_type": "markdown",
   "metadata": {
    "id": "VOMTE18I8LQY"
   },
   "source": [
    "## 6.하이퍼파라미터 변화에 따른 성능 추세"
   ]
  },
  {
   "cell_type": "markdown",
   "metadata": {
    "id": "gIgKcpBO8SQv"
   },
   "source": [
    "### (1) n_estimators\n",
    "* 1~150까지 증가시켜가며 성능 추세 살펴보기"
   ]
  },
  {
   "cell_type": "code",
   "execution_count": null,
   "metadata": {
    "id": "sZQeZJvS8LQY"
   },
   "outputs": [],
   "source": [
    "grid_param = {'n_estimators':range(1,200,2)}\n",
    "model = XGBClassifier()\n",
    "model_gs = GridSearchCV(model, grid_param, cv = 5)\n",
    "model_gs.fit(x_train, y_train)"
   ]
  },
  {
   "cell_type": "code",
   "execution_count": null,
   "metadata": {
    "id": "yG1EUlw-8LQY"
   },
   "outputs": [],
   "source": [
    "result = pd.DataFrame(model_gs.cv_results_)"
   ]
  },
  {
   "cell_type": "code",
   "execution_count": null,
   "metadata": {
    "id": "bgOxV2yw2JTp"
   },
   "outputs": [],
   "source": [
    "# 이 중에서 하이퍼파라미터 값에 따른 성능을 별도로 저장합시다.\n",
    "temp = result.loc[:, ['param_n_estimators','mean_test_score']]\n",
    "temp.head()"
   ]
  },
  {
   "cell_type": "code",
   "execution_count": null,
   "metadata": {
    "id": "7il4vqA62y14"
   },
   "outputs": [],
   "source": [
    "# 이를 차트로 그려봅시다.\n",
    "plt.figure(figsize = (8,6))\n",
    "sns.lineplot(x = 'param_n_estimators', y = 'mean_test_score', data = temp )\n",
    "plt.grid()\n",
    "plt.show()"
   ]
  },
  {
   "cell_type": "markdown",
   "metadata": {
    "id": "tdb2ypMDDmS8"
   },
   "source": [
    "### (2) learning rate\n",
    "* 0.01 ~ 1까지 증가시켜가며 성능 추세 살펴보기"
   ]
  },
  {
   "cell_type": "code",
   "execution_count": null,
   "metadata": {
    "id": "9vIZMQc6DmTB"
   },
   "outputs": [],
   "source": [
    "grid_param = {'learning_rate':np.linspace(0.01,1,100)}\n",
    "model = XGBClassifier()\n",
    "model_gs = GridSearchCV(model, grid_param, cv = 5)\n",
    "model_gs.fit(x_train, y_train)"
   ]
  },
  {
   "cell_type": "code",
   "execution_count": null,
   "metadata": {
    "id": "BQZpwAb9DmTB"
   },
   "outputs": [],
   "source": [
    "result = pd.DataFrame(model_gs.cv_results_)"
   ]
  },
  {
   "cell_type": "code",
   "execution_count": null,
   "metadata": {
    "id": "MWVMgKqXDmTB"
   },
   "outputs": [],
   "source": [
    "# 이 중에서 하이퍼파라미터 값에 따른 성능을 별도로 저장합시다.\n",
    "temp = result.loc[:, ['param_learning_rate','mean_test_score']]\n",
    "temp.head()"
   ]
  },
  {
   "cell_type": "code",
   "execution_count": null,
   "metadata": {
    "id": "8LMI4u78DmTC"
   },
   "outputs": [],
   "source": [
    "# 이를 차트로 그려봅시다.\n",
    "plt.figure(figsize = (8,6))\n",
    "sns.lineplot(x = 'param_learning_rate', y = 'mean_test_score', data = temp )\n",
    "plt.grid()\n",
    "plt.show()"
   ]
  },
  {
   "cell_type": "markdown",
   "metadata": {
    "id": "7B37qVVJGTQl"
   },
   "source": [
    "### (3) n_estimators + learning rate\n",
    "* 이번에는 두 하이퍼파라미터를 동시에 조절하며 추세를 살펴보겠습니다.\n",
    "* n_estimators : 30, 50, 100, 150\n",
    "* learning_rate : 0.05 ~ 0.3까지 0.01씩 증가"
   ]
  },
  {
   "cell_type": "code",
   "execution_count": null,
   "metadata": {
    "id": "Nfig1QIQGTQl"
   },
   "outputs": [],
   "source": [
    "grid_param = {'learning_rate':np.linspace(0.01,0.5,30),\n",
    "              'n_estimators':[30,50,100,150]}\n",
    "model = XGBClassifier()\n",
    "model_gs = GridSearchCV(model, grid_param, cv = 5)\n",
    "model_gs.fit(x_train, y_train)"
   ]
  },
  {
   "cell_type": "code",
   "execution_count": null,
   "metadata": {
    "id": "KrVt1bdJGTQm"
   },
   "outputs": [],
   "source": [
    "result = pd.DataFrame(model_gs.cv_results_)"
   ]
  },
  {
   "cell_type": "code",
   "execution_count": null,
   "metadata": {
    "id": "mb6jqqUOGTQm"
   },
   "outputs": [],
   "source": [
    "# 이 중에서 하이퍼파라미터 값에 따른 성능을 별도로 저장합시다.\n",
    "temp = result.loc[:, ['param_n_estimators', 'param_learning_rate','mean_test_score']]\n",
    "temp.head()"
   ]
  },
  {
   "cell_type": "code",
   "execution_count": null,
   "metadata": {
    "id": "E08tZO78GTQm"
   },
   "outputs": [],
   "source": [
    "# 이를 차트로 그려봅시다.\n",
    "plt.figure(figsize = (8,6))\n",
    "sns.lineplot(x = 'param_learning_rate', y = 'mean_test_score', data = temp, hue = 'param_n_estimators')\n",
    "plt.grid()\n",
    "plt.show()"
   ]
  }
 ],
 "metadata": {
  "colab": {
   "collapsed_sections": [],
   "name": "13과 Boosting.ipynb",
   "provenance": [],
   "toc_visible": true
  },
  "kernelspec": {
   "display_name": "Python 3 (ipykernel)",
   "language": "python",
   "name": "python3"
  },
  "language_info": {
   "codemirror_mode": {
    "name": "ipython",
    "version": 3
   },
   "file_extension": ".py",
   "mimetype": "text/x-python",
   "name": "python",
   "nbconvert_exporter": "python",
   "pygments_lexer": "ipython3",
   "version": "3.9.12"
  }
 },
 "nbformat": 4,
 "nbformat_minor": 1
}
