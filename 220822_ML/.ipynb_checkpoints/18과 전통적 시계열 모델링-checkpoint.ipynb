{
 "cells": [
  {
   "cell_type": "markdown",
   "id": "60779a9b",
   "metadata": {
    "id": "60779a9b"
   },
   "source": [
    " # 전통적 시계열 모델링"
   ]
  },
  {
   "cell_type": "markdown",
   "id": "Or5xdnmzfzQu",
   "metadata": {
    "id": "Or5xdnmzfzQu"
   },
   "source": [
    "# 1.환경준비"
   ]
  },
  {
   "cell_type": "markdown",
   "id": "4GlLGDhIqh8Y",
   "metadata": {
    "id": "4GlLGDhIqh8Y"
   },
   "source": [
    "## (1) 라이브러리 로딩"
   ]
  },
  {
   "cell_type": "code",
   "execution_count": 1,
   "id": "0ff8f366",
   "metadata": {
    "id": "0ff8f366"
   },
   "outputs": [],
   "source": [
    "import pandas as pd\n",
    "import numpy as np\n",
    "import matplotlib.pyplot as plt\n",
    "import seaborn as sns\n",
    "\n",
    "import scipy.stats as spst\n",
    "import statsmodels.api as sm\n",
    "from statsmodels.graphics.tsaplots import plot_acf, plot_pacf\n",
    "\n",
    "from sklearn.metrics import *\n",
    "from sklearn.model_selection import train_test_split\n",
    "\n",
    "import warnings\n",
    "from statsmodels.tools.sm_exceptions import ConvergenceWarning\n",
    "warnings.filterwarnings(action='ignore')\n",
    "warnings.simplefilter('ignore', ConvergenceWarning)"
   ]
  },
  {
   "cell_type": "markdown",
   "id": "DEoiMH2cIfcE",
   "metadata": {
    "id": "DEoiMH2cIfcE"
   },
   "source": [
    "## (2) 함수 생성 "
   ]
  },
  {
   "cell_type": "markdown",
   "id": "LCDr4hlJH0Sb",
   "metadata": {
    "id": "LCDr4hlJH0Sb"
   },
   "source": [
    "* 결과 시각화"
   ]
  },
  {
   "cell_type": "code",
   "execution_count": 2,
   "id": "ASqlPmNkH0DK",
   "metadata": {
    "id": "ASqlPmNkH0DK"
   },
   "outputs": [],
   "source": [
    "def plot_model_result(y_train, y_val, pred) :\n",
    "    pred = pd.Series(pred, index = y_val.index)\n",
    "\n",
    "    # 전체 시각화\n",
    "    plt.figure(figsize = (20,12))\n",
    "    plt.subplot(2,1,1)\n",
    "    plt.plot(y_train, label = 'train')\n",
    "    plt.plot(y_val, label = 'val')\n",
    "    plt.plot(pred, label = 'pred')\n",
    "    plt.legend()\n",
    "    plt.grid()\n",
    "\n",
    "    plt.subplot(2,1,2)\n",
    "    plt.plot(y_val, label = 'val')\n",
    "    plt.plot(pred, label = 'pred')\n",
    "    plt.legend()\n",
    "    plt.grid()\n",
    "\n",
    "    plt.show()"
   ]
  },
  {
   "cell_type": "markdown",
   "id": "wz964deeIlvQ",
   "metadata": {
    "id": "wz964deeIlvQ"
   },
   "source": [
    "* 잔차분석"
   ]
  },
  {
   "cell_type": "code",
   "execution_count": null,
   "id": "idEWM3VAIiCV",
   "metadata": {
    "id": "idEWM3VAIiCV"
   },
   "outputs": [],
   "source": [
    "def residual_diag(residuals, lags = 30) :\n",
    "    print('* 정규성 검정(> 0.05) : ', round(spst.shapiro(residuals)[1],5))\n",
    "    print('* 정상성 검정(< 0.05) : ', round(sm.tsa.stattools.adfuller(residuals)[1],5))\n",
    "    print('* 자기상관성 확인(ACF, PACF)')\n",
    "    fig,ax = plt.subplots(1,2, figsize = (15,5))\n",
    "    plot_acf(residuals, lags = lags, ax = ax[0])\n",
    "    plot_pacf(residuals, lags = lags, ax = ax[1])\n",
    "    plt.show()"
   ]
  },
  {
   "cell_type": "markdown",
   "id": "NJ_16kUxqlFH",
   "metadata": {
    "id": "NJ_16kUxqlFH"
   },
   "source": [
    "## (3) 데이터 불러오기"
   ]
  },
  {
   "cell_type": "code",
   "execution_count": null,
   "id": "3GgFpOB4zQ7h",
   "metadata": {
    "id": "3GgFpOB4zQ7h"
   },
   "outputs": [],
   "source": [
    "path = 'https://raw.githubusercontent.com/DA4BAM/dataset/master/retail_demand2.csv'\n",
    "data = pd.read_csv(path, usecols = ['date', 'sales'])\n",
    "data = data.loc[data['date']<= '2014-10-31'].reset_index(drop = True)\n",
    "data['date'] = pd.to_datetime(data['date'])\n",
    "data['weekday'] = data['date'].dt.day_name().str.slice(0,3)\n",
    "data.head()"
   ]
  },
  {
   "cell_type": "markdown",
   "id": "9aVIoOVcDtfb",
   "metadata": {
    "id": "9aVIoOVcDtfb"
   },
   "source": [
    "* 변수 설명\n",
    "\n",
    "    * date : 날짜\n",
    "    * sales : 판매량\n",
    "    * weekday : 요일"
   ]
  },
  {
   "cell_type": "code",
   "execution_count": null,
   "id": "Wj9rHKC7Dtfb",
   "metadata": {
    "id": "Wj9rHKC7Dtfb"
   },
   "outputs": [],
   "source": [
    "plt.figure(figsize = (20,8))\n",
    "plt.plot(data['sales'])\n",
    "plt.grid()\n",
    "plt.show()"
   ]
  },
  {
   "cell_type": "code",
   "execution_count": null,
   "id": "2LEfS-4NDtfc",
   "metadata": {
    "id": "2LEfS-4NDtfc"
   },
   "outputs": [],
   "source": [
    "temp = data[-100:]\n",
    "plt.figure(figsize = (20,8))\n",
    "plt.plot(temp['sales'], marker ='o')\n",
    "plt.grid()\n",
    "plt.show()"
   ]
  },
  {
   "cell_type": "markdown",
   "id": "y1fbICOYqolg",
   "metadata": {
    "id": "y1fbICOYqolg"
   },
   "source": [
    "# 2.기본 전처리"
   ]
  },
  {
   "cell_type": "markdown",
   "id": "f_AUNPH9Dtfc",
   "metadata": {
    "id": "f_AUNPH9Dtfc"
   },
   "source": [
    "## (1) y 만들기"
   ]
  },
  {
   "cell_type": "markdown",
   "id": "bq7gmu2mjLN5",
   "metadata": {
    "id": "bq7gmu2mjLN5"
   },
   "source": [
    "* 사전 관찰(look-ahead) : 미래의 어떤 사실을 안다는 뜻\n",
    "* 사전 관찰 문제 : \n",
    "    * 데이터를 통해 실제로 알아야 하는 시점보다 더 일찍 미래에 대한 사실을 알게 되는 문제.  \n",
    "    * 사전관찰 문제가 있는 채로 모델링을 하게 되면, 놀라운 성능의 모델이 만들어짐. --> 그러나 실제로는 불가능한 상황."
   ]
  },
  {
   "cell_type": "markdown",
   "id": "1ExaFU9mpJUK",
   "metadata": {
    "id": "1ExaFU9mpJUK"
   },
   "source": [
    "* 그래서 y를 만들때 사전관찰문제가 발생되지 않도록 해야 함.\n",
    "    * 예제는 1일 후의 수요량을 예측하려고 합니다."
   ]
  },
  {
   "cell_type": "markdown",
   "id": "zgR1K-7XtA9D",
   "metadata": {
    "id": "zgR1K-7XtA9D"
   },
   "source": [
    "* 1일 후 수요량을 예측하려면, y를 어떻게 만들어야 할까요?"
   ]
  },
  {
   "cell_type": "code",
   "execution_count": null,
   "id": "NdFFrAUAtIYy",
   "metadata": {
    "id": "NdFFrAUAtIYy"
   },
   "outputs": [],
   "source": [
    "data['y'] = data['sales'].shift(-1)\n",
    "display(data.head())\n",
    "display(data.tail())"
   ]
  },
  {
   "cell_type": "code",
   "execution_count": null,
   "id": "Uy62tWAPDtfe",
   "metadata": {
    "id": "Uy62tWAPDtfe"
   },
   "outputs": [],
   "source": [
    "# 제일 마지막 행은 삭제\n",
    "data.dropna(axis = 0, inplace = True)\n",
    "data.tail()"
   ]
  },
  {
   "cell_type": "markdown",
   "id": "YdzJ8Feyv2o6",
   "metadata": {
    "id": "YdzJ8Feyv2o6"
   },
   "source": [
    "## (2) 데이터 분할"
   ]
  },
  {
   "cell_type": "markdown",
   "id": "zdJUKZoew91D",
   "metadata": {
    "id": "zdJUKZoew91D"
   },
   "source": [
    "### 1) x, y 나누기"
   ]
  },
  {
   "cell_type": "code",
   "execution_count": null,
   "id": "62z8Rvi8v0wy",
   "metadata": {
    "id": "62z8Rvi8v0wy"
   },
   "outputs": [],
   "source": [
    "target = 'y'\n",
    "\n",
    "x = data.drop([target, 'date'], axis = 1) #제거할 때, date도 제거\n",
    "y = data.loc[:, target]"
   ]
  },
  {
   "cell_type": "markdown",
   "id": "eoDNCcUkAMLc",
   "metadata": {
    "id": "eoDNCcUkAMLc"
   },
   "source": [
    "### 2) train, val 분할\n",
    "* 1회 분할 : train_test_split( x, y, test_size= , shuffle = False) \n",
    "    * test_size : 소수 - 비율, 자연수 - 갯수\n",
    "    * shuffle = False : 섞지 말고 데이터 끝에서 test_size 만큼 자르기\n",
    "* k-fold cross validation for Time Seires : TimeSeriesSplit"
   ]
  },
  {
   "cell_type": "code",
   "execution_count": null,
   "id": "v9qVosp1AwlO",
   "metadata": {
    "id": "v9qVosp1AwlO"
   },
   "outputs": [],
   "source": [
    "# 여기서는 1회 분할로 진행합니다.\n",
    "x_train, x_val, y_train, y_val = train_test_split(x, y, test_size = 30, shuffle = False)"
   ]
  },
  {
   "cell_type": "markdown",
   "id": "31UjxDapIFw4",
   "metadata": {
    "id": "31UjxDapIFw4"
   },
   "source": [
    "# 3.모델링1 : ARIMA"
   ]
  },
  {
   "cell_type": "markdown",
   "id": "k-bOrYkYHcDa",
   "metadata": {
    "id": "k-bOrYkYHcDa"
   },
   "source": [
    "## (1) y 값 살펴보기"
   ]
  },
  {
   "cell_type": "code",
   "execution_count": null,
   "id": "MFey7u8oERsa",
   "metadata": {
    "id": "MFey7u8oERsa"
   },
   "outputs": [],
   "source": [
    "residual_diag(y_train, lags = 30)"
   ]
  },
  {
   "cell_type": "markdown",
   "id": "xTfAfACiDrkF",
   "metadata": {
    "id": "xTfAfACiDrkF"
   },
   "source": [
    "## (2) 모델링 : 초기모델"
   ]
  },
  {
   "cell_type": "markdown",
   "id": "7i_FzBgkD0TA",
   "metadata": {
    "id": "7i_FzBgkD0TA"
   },
   "source": [
    "* p, d, q 값을 어떻게 정해야 할까요?\n",
    "* AR의 p 차수와 MA q 차수 모두 값이 필요해 보입니다. 일단 1, 1을 지정합시다."
   ]
  },
  {
   "cell_type": "markdown",
   "id": "yViklUjXbhdN",
   "metadata": {
    "id": "yViklUjXbhdN"
   },
   "source": [
    "### 1) 학습"
   ]
  },
  {
   "cell_type": "markdown",
   "id": "jqCqY1IrEbOo",
   "metadata": {
    "id": "jqCqY1IrEbOo"
   },
   "source": [
    "* sm.tsa.SARIMAX(train, order=(p,d,q)).fit()\n",
    "    * 모델 선언시 train이 포함\n",
    "    * .fit()으로 학습."
   ]
  },
  {
   "cell_type": "code",
   "execution_count": null,
   "id": "dMJkUvYZc2i7",
   "metadata": {
    "id": "dMJkUvYZc2i7"
   },
   "outputs": [],
   "source": [
    "# ARIMA 모델링\n",
    "m1_1 = sm.tsa.SARIMAX(y_train, order=(1,0,1)).fit()\n",
    "m1_2 = sm.tsa.SARIMAX(y_train, order=(1,1,1)).fit()"
   ]
  },
  {
   "cell_type": "markdown",
   "id": "ZosuIjIQG534",
   "metadata": {
    "id": "ZosuIjIQG534"
   },
   "source": [
    "### 2) 평가"
   ]
  },
  {
   "cell_type": "markdown",
   "id": "zdkJ_HM2bqCm",
   "metadata": {
    "id": "zdkJ_HM2bqCm"
   },
   "source": [
    "#### ① 잔차진단"
   ]
  },
  {
   "cell_type": "markdown",
   "id": "qt0VcRFaHRa9",
   "metadata": {
    "id": "qt0VcRFaHRa9"
   },
   "source": [
    "* 모델.resid : 잔차를 뽑을 수 있습니다.\n",
    "* 위에서 만든 함수 residual_diag 를 사용하여 잔차진단을 해 봅시다."
   ]
  },
  {
   "cell_type": "code",
   "execution_count": null,
   "id": "AfRwoV4ZFbd0",
   "metadata": {
    "id": "AfRwoV4ZFbd0"
   },
   "outputs": [],
   "source": [
    "residuals = m1_1.resid\n",
    "residual_diag(residuals)"
   ]
  },
  {
   "cell_type": "code",
   "execution_count": null,
   "id": "nymDqFsYPZ6b",
   "metadata": {
    "id": "nymDqFsYPZ6b"
   },
   "outputs": [],
   "source": [
    "residuals = m1_2.resid\n",
    "residual_diag(residuals)"
   ]
  },
  {
   "cell_type": "markdown",
   "id": "WMadFywAHNdj",
   "metadata": {
    "id": "WMadFywAHNdj"
   },
   "source": [
    "#### ② AIC\n",
    "* 선형 모델에서의 적합도와, feature가 과도하게 늘어나는 것을 방지하도록 설계된 통계량이 AIC 입니다.\n",
    "* 값이 작을 수록 좋은 모델\n",
    "* 공식 : 𝐴𝐼𝐶=−2 ln⁡(𝐿)+2𝑘 ➡ - 모델의 적합도 + 변수의 갯수\n",
    "* SARIMAX 모델.aic로 쉽게 통계량을 구할 수 있습니다."
   ]
  },
  {
   "cell_type": "code",
   "execution_count": null,
   "id": "0cMCOj7lzZtn",
   "metadata": {
    "id": "0cMCOj7lzZtn"
   },
   "outputs": [],
   "source": [
    "print('model1 AIC :', m1_1.aic)\n",
    "print('model2 AIC :', m1_2.aic)"
   ]
  },
  {
   "cell_type": "markdown",
   "id": "dk1sJTpGVGJi",
   "metadata": {
    "id": "dk1sJTpGVGJi"
   },
   "source": [
    "#### ③ Validation\n",
    "\n",
    "시계열 데이터로 실제값과 예측값에 대해 비교하여 그래프를 그려봅시다."
   ]
  },
  {
   "cell_type": "code",
   "execution_count": null,
   "id": "HHTM7AoxI_dW",
   "metadata": {
    "id": "HHTM7AoxI_dW"
   },
   "outputs": [],
   "source": [
    "pred = m1_1.forecast(30)\n",
    "print('MAE :', mean_absolute_error(y_val, pred))\n",
    "print('MAPE:', mean_absolute_percentage_error(y_val, pred))"
   ]
  },
  {
   "cell_type": "code",
   "execution_count": null,
   "id": "rb2X5yFNVbvs",
   "metadata": {
    "id": "rb2X5yFNVbvs"
   },
   "outputs": [],
   "source": [
    "pred = m1_2.forecast(30)\n",
    "print('MAE :', mean_absolute_error(y_val, pred))\n",
    "print('MAPE:', mean_absolute_percentage_error(y_val, pred))"
   ]
  },
  {
   "cell_type": "markdown",
   "id": "4HytYGzsF2bv",
   "metadata": {
    "id": "4HytYGzsF2bv"
   },
   "source": [
    "* 결과 시각화"
   ]
  },
  {
   "cell_type": "code",
   "execution_count": null,
   "id": "FvcjcjYGCqQ2",
   "metadata": {
    "id": "FvcjcjYGCqQ2"
   },
   "outputs": [],
   "source": [
    "plot_model_result(y_train, y_val, pred)"
   ]
  },
  {
   "cell_type": "markdown",
   "id": "f0ML9nggRF3g",
   "metadata": {
    "id": "f0ML9nggRF3g"
   },
   "source": [
    "## (3) 하이퍼파라미터 튜닝\n",
    "\n",
    "실제로 p, d, q를 찾는 과정은 마치 Grid Search 처럼 값을 조금씩 조정해가며  최적의 모델을 찾아가는 과정과 유사합니다.\n"
   ]
  },
  {
   "cell_type": "markdown",
   "id": "LhjxJIbNcvo7",
   "metadata": {
    "id": "LhjxJIbNcvo7"
   },
   "source": [
    "### 1) 학습"
   ]
  },
  {
   "cell_type": "code",
   "execution_count": null,
   "id": "eyPtTKySWHc2",
   "metadata": {
    "id": "eyPtTKySWHc2"
   },
   "outputs": [],
   "source": [
    "from itertools import product"
   ]
  },
  {
   "cell_type": "markdown",
   "id": "x4wHHu36flvb",
   "metadata": {
    "id": "x4wHHu36flvb"
   },
   "source": [
    "* 값의 범위 지정"
   ]
  },
  {
   "cell_type": "code",
   "execution_count": null,
   "id": "nLAqcBeAfjyZ",
   "metadata": {
    "id": "nLAqcBeAfjyZ"
   },
   "outputs": [],
   "source": [
    "# product 함수를 이용하여 값의 조합을 구성\n",
    "p = [1,2,3,4]\n",
    "q = [1,2,3,4]\n",
    "d = [1]\n",
    "iter = list(product(p,d,q))\n",
    "iter"
   ]
  },
  {
   "cell_type": "markdown",
   "id": "Oee8tSXlGR0W",
   "metadata": {
    "id": "Oee8tSXlGR0W"
   },
   "source": [
    "* 튜닝"
   ]
  },
  {
   "cell_type": "code",
   "execution_count": null,
   "id": "pe1nrIogV1gT",
   "metadata": {
    "id": "pe1nrIogV1gT"
   },
   "outputs": [],
   "source": [
    "# \n",
    "mae, aic = [],[]\n",
    "for i in iter :\n",
    "    model_fit = sm.tsa.SARIMAX(y_train, order=(i[0],i[1],i[2])).fit()\n",
    "    pred = model_fit.forecast(30)\n",
    "    mae.append( mean_absolute_error(y_val, pred))\n",
    "    aic.append(model_fit.aic)\n",
    "    print(i)"
   ]
  },
  {
   "cell_type": "code",
   "execution_count": null,
   "id": "M-80RhcsXXH5",
   "metadata": {
    "id": "M-80RhcsXXH5"
   },
   "outputs": [],
   "source": [
    "result = pd.DataFrame({'params(p,d,q)' : iter, 'mae' : mae, 'aic':aic})\n",
    "\n",
    "display(result.loc[result['mae'] == result.mae.min()])\n",
    "display(result.loc[result['aic'] == result.aic.min()])"
   ]
  },
  {
   "cell_type": "code",
   "execution_count": null,
   "id": "NbirVBirY60s",
   "metadata": {
    "id": "NbirVBirY60s"
   },
   "outputs": [],
   "source": [
    "m1_3 = sm.tsa.SARIMAX(y_train, order=(4,1,4)).fit()"
   ]
  },
  {
   "cell_type": "markdown",
   "id": "OXTvBEzBcodF",
   "metadata": {
    "id": "OXTvBEzBcodF"
   },
   "source": [
    "### 2) 평가"
   ]
  },
  {
   "cell_type": "markdown",
   "id": "aoze7fTkcodF",
   "metadata": {
    "id": "aoze7fTkcodF"
   },
   "source": [
    "#### ① 잔차진단"
   ]
  },
  {
   "cell_type": "markdown",
   "id": "pKtQRf4AcodG",
   "metadata": {
    "id": "pKtQRf4AcodG"
   },
   "source": [
    "* residual_diag"
   ]
  },
  {
   "cell_type": "code",
   "execution_count": null,
   "id": "zdOGVjQ6codG",
   "metadata": {
    "id": "zdOGVjQ6codG"
   },
   "outputs": [],
   "source": [
    "residuals = m1_3.resid\n",
    "residual_diag(residuals)"
   ]
  },
  {
   "cell_type": "markdown",
   "id": "ZpyxIVPZcodG",
   "metadata": {
    "id": "ZpyxIVPZcodG"
   },
   "source": [
    "#### ② AIC\n",
    "* 선형 모델에서의 적합도와, feature가 과도하게 늘어나는 것을 방지하도록 설계된 통계량이 AIC 입니다.\n",
    "* 값이 작을 수록 좋은 모델\n",
    "* 공식 : 𝐴𝐼𝐶=−2 ln⁡(𝐿)+2𝑘 ➡ - 모델의 적합도 + 변수의 갯수"
   ]
  },
  {
   "cell_type": "code",
   "execution_count": null,
   "id": "KO8bBT0LcodG",
   "metadata": {
    "id": "KO8bBT0LcodG"
   },
   "outputs": [],
   "source": [
    "print('model2 AIC :', m1_3.aic)"
   ]
  },
  {
   "cell_type": "markdown",
   "id": "OYv6fGjXcodG",
   "metadata": {
    "id": "OYv6fGjXcodG"
   },
   "source": [
    "#### ③ Validation"
   ]
  },
  {
   "cell_type": "code",
   "execution_count": null,
   "id": "FC_NpB4ncodG",
   "metadata": {
    "id": "FC_NpB4ncodG"
   },
   "outputs": [],
   "source": [
    "pred = m1_3.forecast(30)\n",
    "print('MAE :', mean_absolute_error(y_val, pred))\n",
    "print('MAPE:', mean_absolute_percentage_error(y_val, pred))"
   ]
  },
  {
   "cell_type": "markdown",
   "id": "v0vyvBrjJh86",
   "metadata": {
    "id": "v0vyvBrjJh86"
   },
   "source": [
    "* 결과 시각화"
   ]
  },
  {
   "cell_type": "code",
   "execution_count": null,
   "id": "nHdCg8z_Jh87",
   "metadata": {
    "id": "nHdCg8z_Jh87"
   },
   "outputs": [],
   "source": [
    "plot_model_result(y_train, y_val, pred)"
   ]
  },
  {
   "cell_type": "markdown",
   "id": "dB_MISZcyG9t",
   "metadata": {
    "id": "dB_MISZcyG9t"
   },
   "source": [
    "# 4.모델링2 : SARIMA"
   ]
  },
  {
   "cell_type": "markdown",
   "id": "7nOKgeTKyG97",
   "metadata": {
    "id": "7nOKgeTKyG97"
   },
   "source": [
    "## (1) 모델링 : 초기모델"
   ]
  },
  {
   "cell_type": "markdown",
   "id": "dIiyeJ4ZsVAz",
   "metadata": {
    "id": "dIiyeJ4ZsVAz"
   },
   "source": [
    "### 1) 학습"
   ]
  },
  {
   "cell_type": "code",
   "execution_count": null,
   "id": "atvFdMA7yG98",
   "metadata": {
    "id": "atvFdMA7yG98"
   },
   "outputs": [],
   "source": [
    "# SARIMA 모델링\n",
    "m2_1 = sm.tsa.SARIMAX(y_train, order=(4,1,4), seasonal_order=(1,1,1,7)).fit()"
   ]
  },
  {
   "cell_type": "markdown",
   "id": "4WFysD3Ssfo6",
   "metadata": {
    "id": "4WFysD3Ssfo6"
   },
   "source": [
    "### 2) 평가"
   ]
  },
  {
   "cell_type": "markdown",
   "id": "W4HJdxtYsfo7",
   "metadata": {
    "id": "W4HJdxtYsfo7"
   },
   "source": [
    "#### ① 잔차진단"
   ]
  },
  {
   "cell_type": "code",
   "execution_count": null,
   "id": "WgJhUM-ZstR3",
   "metadata": {
    "id": "WgJhUM-ZstR3"
   },
   "outputs": [],
   "source": [
    "residuals = m2_1.resid\n",
    "residual_diag(residuals)"
   ]
  },
  {
   "cell_type": "markdown",
   "id": "Snt5ttXSsmgj",
   "metadata": {
    "id": "Snt5ttXSsmgj"
   },
   "source": [
    "#### ② AIC"
   ]
  },
  {
   "cell_type": "code",
   "execution_count": null,
   "id": "mf_abb1DZEcH",
   "metadata": {
    "id": "mf_abb1DZEcH"
   },
   "outputs": [],
   "source": [
    "print('model2_0 AIC :', m2_1.aic)"
   ]
  },
  {
   "cell_type": "markdown",
   "id": "zcTP7kv5szcL",
   "metadata": {
    "id": "zcTP7kv5szcL"
   },
   "source": [
    "#### ③ Validation"
   ]
  },
  {
   "cell_type": "code",
   "execution_count": null,
   "id": "YX67dFFgJ7i9",
   "metadata": {
    "id": "YX67dFFgJ7i9"
   },
   "outputs": [],
   "source": [
    "pred = m2_1.forecast(30)\n",
    "print('MAE :', mean_absolute_error(y_val, pred))\n",
    "print('MAPE:', mean_absolute_percentage_error(y_val, pred))"
   ]
  },
  {
   "cell_type": "markdown",
   "id": "_uoOqvamJ7i9",
   "metadata": {
    "id": "_uoOqvamJ7i9"
   },
   "source": [
    "* 결과 시각화"
   ]
  },
  {
   "cell_type": "code",
   "execution_count": null,
   "id": "zk-84JEhJ7i9",
   "metadata": {
    "id": "zk-84JEhJ7i9"
   },
   "outputs": [],
   "source": [
    "plot_model_result(y_train, y_val, pred)"
   ]
  },
  {
   "cell_type": "markdown",
   "id": "U4OnDFjDfdwi",
   "metadata": {
    "id": "U4OnDFjDfdwi"
   },
   "source": [
    "## (2) 하이퍼파라미터 튜닝\n",
    "2~4분 걸립니다. 돌려 놓고 쉬는시간 갖겠습니다."
   ]
  },
  {
   "cell_type": "markdown",
   "id": "Hz_5yJZqs-vS",
   "metadata": {
    "id": "Hz_5yJZqs-vS"
   },
   "source": [
    "### 1) 학습"
   ]
  },
  {
   "cell_type": "code",
   "execution_count": null,
   "id": "514AB6lkdWwD",
   "metadata": {
    "id": "514AB6lkdWwD"
   },
   "outputs": [],
   "source": [
    "P = [1,2,3]\n",
    "Q = [1,2,3]\n",
    "D = [1]\n",
    "mae, aic = [],[]\n",
    "iter = list(product(P,D,Q))\n",
    "\n",
    "for i in iter :\n",
    "    model_fit = sm.tsa.SARIMAX(y_train, order=(4,1,4), seasonal_order=(i[0],i[1],i[2],7)).fit()\n",
    "    pred = model_fit.forecast(30)\n",
    "    mae.append( mean_absolute_error(y_val, pred))\n",
    "    aic.append(model_fit.aic)\n",
    "    print(i)"
   ]
  },
  {
   "cell_type": "code",
   "execution_count": null,
   "id": "un_kaR6Rz44l",
   "metadata": {
    "id": "un_kaR6Rz44l"
   },
   "outputs": [],
   "source": [
    "result = pd.DataFrame({'params(P,D,Q)' : iter, 'mae' : mae, 'aic':aic})\n",
    "\n",
    "result"
   ]
  },
  {
   "cell_type": "code",
   "execution_count": null,
   "id": "c1DXhBfAc1vB",
   "metadata": {
    "id": "c1DXhBfAc1vB"
   },
   "outputs": [],
   "source": [
    "display(result.loc[result['mae'] == result.mae.min()])\n",
    "display(result.loc[result['aic'] == result.aic.min()])"
   ]
  },
  {
   "cell_type": "code",
   "execution_count": null,
   "id": "LUypV4gcdWwD",
   "metadata": {
    "id": "LUypV4gcdWwD"
   },
   "outputs": [],
   "source": [
    "# MAE와 AIC 가 제일 낮은 값들로 모델을 각각 생성해 봅시다.\n",
    "m2_2 = sm.tsa.SARIMAX(y_train, order=(4,1,4), seasonal_order=(  ,  ,  , 7)).fit()\n",
    "m2_3 = sm.tsa.SARIMAX(y_train, order=(4,1,4), seasonal_order=(  ,  ,  , 7)).fit()"
   ]
  },
  {
   "cell_type": "markdown",
   "id": "v8lrXdbgtGLN",
   "metadata": {
    "id": "v8lrXdbgtGLN"
   },
   "source": [
    "### 2) 평가"
   ]
  },
  {
   "cell_type": "markdown",
   "id": "gSY0Jr1YtGLO",
   "metadata": {
    "id": "gSY0Jr1YtGLO"
   },
   "source": [
    "#### ① 잔차진단"
   ]
  },
  {
   "cell_type": "markdown",
   "id": "8swkbd9utGLP",
   "metadata": {
    "id": "8swkbd9utGLP"
   },
   "source": [
    "* residual_diag"
   ]
  },
  {
   "cell_type": "code",
   "execution_count": null,
   "id": "nO_JR67qtGLP",
   "metadata": {
    "id": "nO_JR67qtGLP"
   },
   "outputs": [],
   "source": [
    "residuals = m2_2.resid\n",
    "residual_diag(residuals)"
   ]
  },
  {
   "cell_type": "code",
   "execution_count": null,
   "id": "8xQraFty4C_F",
   "metadata": {
    "id": "8xQraFty4C_F"
   },
   "outputs": [],
   "source": [
    "residuals = m2_3.resid\n",
    "residual_diag(residuals)"
   ]
  },
  {
   "cell_type": "markdown",
   "id": "RVsRHKuBtGLP",
   "metadata": {
    "id": "RVsRHKuBtGLP"
   },
   "source": [
    "#### ② AIC\n",
    "* 선형 모델에서의 적합도와, feature가 과도하게 늘어나는 것을 방지하도록 설계된 통계량이 AIC 입니다.\n",
    "* 값이 작을 수록 좋은 모델\n",
    "* 공식 : 𝐴𝐼𝐶=−2 ln⁡(𝐿)+2𝑘 ➡ - 모델의 적합도 + 변수의 갯수"
   ]
  },
  {
   "cell_type": "code",
   "execution_count": null,
   "id": "dcM56T-ktGLQ",
   "metadata": {
    "id": "dcM56T-ktGLQ"
   },
   "outputs": [],
   "source": [
    "print('model2_2 AIC :', m2_2.aic)\n",
    "print('model2_3 AIC :', m2_3.aic)"
   ]
  },
  {
   "cell_type": "markdown",
   "id": "uSSQextStGLQ",
   "metadata": {
    "id": "uSSQextStGLQ"
   },
   "source": [
    "#### ③ Validation"
   ]
  },
  {
   "cell_type": "code",
   "execution_count": null,
   "id": "Qzwjsq0_TP_E",
   "metadata": {
    "id": "Qzwjsq0_TP_E"
   },
   "outputs": [],
   "source": [
    "pred = m2_3.forecast(30)\n",
    "print('MAE :', mean_absolute_error(y_val, pred))\n",
    "print('MAPE:', mean_absolute_percentage_error(y_val, pred))"
   ]
  },
  {
   "cell_type": "markdown",
   "id": "dFJUHcpaTP_E",
   "metadata": {
    "id": "dFJUHcpaTP_E"
   },
   "source": [
    "* 결과 시각화"
   ]
  },
  {
   "cell_type": "code",
   "execution_count": null,
   "id": "0aPYMxNOTP_E",
   "metadata": {
    "id": "0aPYMxNOTP_E"
   },
   "outputs": [],
   "source": [
    "plot_model_result(y_train, y_val, pred)"
   ]
  },
  {
   "cell_type": "markdown",
   "id": "6E569Ba4yK9a",
   "metadata": {
    "id": "6E569Ba4yK9a"
   },
   "source": [
    "# 5.모델링3 : SARIMAX"
   ]
  },
  {
   "cell_type": "markdown",
   "id": "-PjK5PhkTrex",
   "metadata": {
    "id": "-PjK5PhkTrex"
   },
   "source": [
    "## (1) 전처리"
   ]
  },
  {
   "cell_type": "code",
   "execution_count": null,
   "id": "fOBoXWn9TtNJ",
   "metadata": {
    "id": "fOBoXWn9TtNJ"
   },
   "outputs": [],
   "source": [
    "# 가변수화\n",
    "x2 = pd.get_dummies(x, columns = ['weekday'], drop_first=False)\n",
    "\n",
    "# feature engineering\n",
    "x2['sales_lag7'] = x2['sales'].shift(6)\n",
    "x2.head(10)\n"
   ]
  },
  {
   "cell_type": "code",
   "execution_count": null,
   "id": "TbiduHL2Ut4k",
   "metadata": {
    "id": "TbiduHL2Ut4k"
   },
   "outputs": [],
   "source": [
    "x3, y3 = x2[6:].copy(), y[6:].copy()\n",
    "\n",
    "x3.reset_index(drop = True, inplace = True)\n",
    "y3.reset_index(drop = True, inplace = True)\n",
    "x3.head()"
   ]
  },
  {
   "cell_type": "code",
   "execution_count": null,
   "id": "_qekAaP5Uasw",
   "metadata": {
    "id": "_qekAaP5Uasw"
   },
   "outputs": [],
   "source": [
    "x_train, x_val, y_train, y_val = train_test_split(x3, y3, test_size = 30, shuffle = False)"
   ]
  },
  {
   "cell_type": "markdown",
   "id": "GNghLpmSyK9b",
   "metadata": {
    "id": "GNghLpmSyK9b"
   },
   "source": [
    "## (1) 모델링"
   ]
  },
  {
   "cell_type": "markdown",
   "id": "gY9u6Ught9-J",
   "metadata": {
    "id": "gY9u6Ught9-J"
   },
   "source": [
    "### 1) 학습\n",
    "* 학습할 때 **exog=x_train** 옵션이 포함되어야 함."
   ]
  },
  {
   "cell_type": "code",
   "execution_count": null,
   "id": "DMv486sryK9b",
   "metadata": {
    "id": "DMv486sryK9b"
   },
   "outputs": [],
   "source": [
    "m3_1 = sm.tsa.SARIMAX(y_train, order=(4,1,4), seasonal_order=(1,1,1,7), exog=x_train).fit()"
   ]
  },
  {
   "cell_type": "markdown",
   "id": "Eofgkr-YuVRA",
   "metadata": {
    "id": "Eofgkr-YuVRA"
   },
   "source": [
    "### 2) 평가"
   ]
  },
  {
   "cell_type": "markdown",
   "id": "eFNqfYgKuVRB",
   "metadata": {
    "id": "eFNqfYgKuVRB"
   },
   "source": [
    "#### ① 잔차진단"
   ]
  },
  {
   "cell_type": "markdown",
   "id": "rrnRQInouVRB",
   "metadata": {
    "id": "rrnRQInouVRB"
   },
   "source": [
    "* residual_diag"
   ]
  },
  {
   "cell_type": "code",
   "execution_count": null,
   "id": "c_tUMV2TuVRB",
   "metadata": {
    "id": "c_tUMV2TuVRB"
   },
   "outputs": [],
   "source": [
    "residuals = m3_1.resid\n",
    "residual_diag(residuals)"
   ]
  },
  {
   "cell_type": "markdown",
   "id": "6mzg32dZuVRC",
   "metadata": {
    "id": "6mzg32dZuVRC"
   },
   "source": [
    "#### ② AIC"
   ]
  },
  {
   "cell_type": "code",
   "execution_count": null,
   "id": "qFz8gIXUuVRC",
   "metadata": {
    "id": "qFz8gIXUuVRC"
   },
   "outputs": [],
   "source": [
    "print('m3_1 AIC :', m3_1.aic)"
   ]
  },
  {
   "cell_type": "markdown",
   "id": "Rw-ivfZ-uVRC",
   "metadata": {
    "id": "Rw-ivfZ-uVRC"
   },
   "source": [
    "#### ③ Validation\n",
    "SARIMAX 모델을 생성하고, 예측할 때는 **exog=x_val** 옵션이 들어가야 함."
   ]
  },
  {
   "cell_type": "code",
   "execution_count": null,
   "id": "1_T-yDnjuVRC",
   "metadata": {
    "id": "1_T-yDnjuVRC"
   },
   "outputs": [],
   "source": [
    "pred = m3_1.forecast(30,  exog=x_val)\n",
    "print('MAE :', mean_absolute_error(y_val, pred))\n",
    "print('MAPE:', mean_absolute_percentage_error(y_val, pred))"
   ]
  },
  {
   "cell_type": "markdown",
   "id": "Bj_fe7u_VhZL",
   "metadata": {
    "id": "Bj_fe7u_VhZL"
   },
   "source": [
    "* 결과 시각화"
   ]
  },
  {
   "cell_type": "code",
   "execution_count": null,
   "id": "mgpMSGmZVhZM",
   "metadata": {
    "id": "mgpMSGmZVhZM"
   },
   "outputs": [],
   "source": [
    "plot_model_result(y_train, y_val, pred)"
   ]
  }
 ],
 "metadata": {
  "colab": {
   "collapsed_sections": [
    "zdJUKZoew91D"
   ],
   "name": "18과 전통적 시계열 모델링.ipynb",
   "provenance": [],
   "toc_visible": true
  },
  "kernelspec": {
   "display_name": "Python 3 (ipykernel)",
   "language": "python",
   "name": "python3"
  },
  "language_info": {
   "codemirror_mode": {
    "name": "ipython",
    "version": 3
   },
   "file_extension": ".py",
   "mimetype": "text/x-python",
   "name": "python",
   "nbconvert_exporter": "python",
   "pygments_lexer": "ipython3",
   "version": "3.9.12"
  }
 },
 "nbformat": 4,
 "nbformat_minor": 5
}
