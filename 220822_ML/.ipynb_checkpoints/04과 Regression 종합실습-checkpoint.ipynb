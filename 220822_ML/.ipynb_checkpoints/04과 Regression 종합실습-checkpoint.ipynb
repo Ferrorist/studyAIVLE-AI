{
 "cells": [
  {
   "cell_type": "markdown",
   "metadata": {
    "id": "cVB9pY-v8uv5"
   },
   "source": [
    "# Regression 종합실습 : Car seat sales\n",
    "유아용 카시트 매출액을 예측해 봅시다."
   ]
  },
  {
   "cell_type": "markdown",
   "metadata": {
    "id": "QB2bBgnB8NM7"
   },
   "source": [
    "* 카시트에 대해서 지역 매장 별 매출액을 예측하고자 합니다."
   ]
  },
  {
   "cell_type": "markdown",
   "metadata": {
    "id": "7usNzsAVsGbi"
   },
   "source": [
    "![](https://cdn.images.express.co.uk/img/dynamic/24/590x/child-car-seat-986556.jpg?r=1532946857754)"
   ]
  },
  {
   "cell_type": "markdown",
   "metadata": {
    "id": "jnCv9u_Wy9e1"
   },
   "source": [
    "## 1.환경준비"
   ]
  },
  {
   "cell_type": "markdown",
   "metadata": {
    "id": "O1uL0UIEzBPw"
   },
   "source": [
    "### (1) Import"
   ]
  },
  {
   "cell_type": "code",
   "execution_count": 1,
   "metadata": {
    "id": "GVvCef6A8uv6"
   },
   "outputs": [],
   "source": [
    "#라이브러리들을 불러오자.\n",
    "import numpy as np\n",
    "import pandas as pd\n",
    "import matplotlib.pyplot as plt\n",
    "\n",
    "from sklearn.model_selection import train_test_split\n",
    "\n",
    "import warnings    # 경고메시지 제외\n",
    "warnings.filterwarnings(action='ignore')"
   ]
  },
  {
   "cell_type": "markdown",
   "metadata": {
    "id": "VHy5s1OOzItm"
   },
   "source": [
    "### (2) Data Loading"
   ]
  },
  {
   "cell_type": "code",
   "execution_count": 2,
   "metadata": {
    "id": "3GgFpOB4zQ7h"
   },
   "outputs": [],
   "source": [
    "data_path = 'https://raw.githubusercontent.com/DA4BAM/dataset/master/Carseats.csv'\n",
    "data = pd.read_csv(data_path)"
   ]
  },
  {
   "cell_type": "markdown",
   "metadata": {
    "id": "xMx9y0a0MBZ2"
   },
   "source": [
    "**변수설명**\n",
    "> * Sales - 각 지역 판매량(단위 : 1000개) <== Target\n",
    "* CompPrice - 각 지역 경쟁사 가격\n",
    "* Income - 각 지역 평균 소득수준(단위 : 1000달러)\n",
    "* Advertising - 각 지역, 회사의 광고 예산(단위 : 1000달러)\n",
    "* Population - 지역 인구수(단위 : 1000명)\n",
    "* Price - 자사 지역별 판매가격\n",
    "* ShelveLoc - 진열상태\n",
    "* Age - 지역 인구의 평균 연령\n",
    "* Education - 각 지역 교육수준 레벨\n",
    "* Urban - 매장 도시 지역 여부\n",
    "* US - 매장이 미국에 있는지 여부"
   ]
  },
  {
   "cell_type": "markdown",
   "metadata": {
    "id": "ZJOddHq2zfcU"
   },
   "source": [
    "## 2.데이터 이해"
   ]
  },
  {
   "cell_type": "markdown",
   "metadata": {
    "id": "Vqr7zY5r8uwC"
   },
   "source": [
    "* 둘러보기"
   ]
  },
  {
   "cell_type": "code",
   "execution_count": null,
   "metadata": {
    "id": "E64acu1xPqLU"
   },
   "outputs": [],
   "source": [
    "data.head()"
   ]
  },
  {
   "cell_type": "markdown",
   "metadata": {
    "id": "wW0d0eGmCYJM"
   },
   "source": [
    "## 3.데이터 준비"
   ]
  },
  {
   "cell_type": "markdown",
   "metadata": {
    "id": "y9Q6jR6OZjUk"
   },
   "source": [
    "### (1) 데이터 정리"
   ]
  },
  {
   "cell_type": "markdown",
   "metadata": {
    "id": "WpJEGpUuuVWm"
   },
   "source": [
    "### (2) 데이터분할1 : x, y 나누기"
   ]
  },
  {
   "cell_type": "code",
   "execution_count": null,
   "metadata": {
    "id": "N-4Msv8VsQ3R"
   },
   "outputs": [],
   "source": []
  },
  {
   "cell_type": "markdown",
   "metadata": {
    "id": "mp_5volyuaA1"
   },
   "source": [
    "### (3) NA 조치"
   ]
  },
  {
   "cell_type": "markdown",
   "metadata": {
    "id": "nOF9fSLQugGf"
   },
   "source": [
    "### (4) 가변수화"
   ]
  },
  {
   "cell_type": "code",
   "execution_count": null,
   "metadata": {
    "id": "CZgBC2QSoKc8"
   },
   "outputs": [],
   "source": []
  },
  {
   "cell_type": "markdown",
   "metadata": {
    "id": "VBwpOKgkf5Am"
   },
   "source": [
    "### (5) 데이터분할2 : train : validation 나누기"
   ]
  },
  {
   "cell_type": "code",
   "execution_count": null,
   "metadata": {
    "id": "1iHmTnHCgBw5"
   },
   "outputs": [],
   "source": []
  },
  {
   "cell_type": "markdown",
   "metadata": {
    "id": "59bBv0a8heYh"
   },
   "source": [
    "### (6) Scaling\n",
    "KNN 알고리즘을 적용하기 위해서는 스케일링을 해야 합니다."
   ]
  },
  {
   "cell_type": "code",
   "execution_count": null,
   "metadata": {
    "id": "RuDcjwhwSo5y"
   },
   "outputs": [],
   "source": []
  },
  {
   "cell_type": "markdown",
   "metadata": {
    "id": "BYr1vtpd8uw4"
   },
   "source": [
    "## 4.모델링 : 선형회귀\n",
    "\n",
    "* 변수를 조절하며 최소 2개 이상의 모델을 생성하고 예측하고 평가해 봅시다."
   ]
  },
  {
   "cell_type": "code",
   "execution_count": null,
   "metadata": {
    "id": "xUOc59LAxzsg"
   },
   "outputs": [],
   "source": []
  },
  {
   "cell_type": "markdown",
   "metadata": {
    "id": "3j0e0Ob5xEiE"
   },
   "source": [
    "* 모델1"
   ]
  },
  {
   "cell_type": "code",
   "execution_count": null,
   "metadata": {
    "id": "MULDXKsLUEXB"
   },
   "outputs": [],
   "source": []
  },
  {
   "cell_type": "code",
   "execution_count": null,
   "metadata": {
    "id": "1EmPtOkQUEWE"
   },
   "outputs": [],
   "source": []
  },
  {
   "cell_type": "markdown",
   "metadata": {
    "id": "ULNsiVUzyQkM"
   },
   "source": [
    "* 모델2"
   ]
  },
  {
   "cell_type": "code",
   "execution_count": null,
   "metadata": {
    "id": "Dmi0ACVTyQkN"
   },
   "outputs": [],
   "source": []
  },
  {
   "cell_type": "code",
   "execution_count": null,
   "metadata": {
    "id": "AAt9EslX5L9E"
   },
   "outputs": [],
   "source": []
  },
  {
   "cell_type": "markdown",
   "metadata": {
    "id": "LaZoO6TuoZ_U"
   },
   "source": [
    "## 5.모델링 : KNN\n",
    "\n",
    "* 하이퍼파라미터를 조절하며 모델을 최소 3가지 이상 생성하시오."
   ]
  },
  {
   "cell_type": "markdown",
   "metadata": {
    "id": "fbgtJTZdoZ_c"
   },
   "source": [
    "* 모델3"
   ]
  },
  {
   "cell_type": "code",
   "execution_count": null,
   "metadata": {
    "id": "IKx6tsNToZ_c"
   },
   "outputs": [],
   "source": []
  },
  {
   "cell_type": "markdown",
   "metadata": {
    "id": "QzpEvFJ_oZ_d"
   },
   "source": [
    "* 모델4"
   ]
  },
  {
   "cell_type": "code",
   "execution_count": null,
   "metadata": {
    "id": "TL0rUqdxoZ_d"
   },
   "outputs": [],
   "source": []
  },
  {
   "cell_type": "markdown",
   "metadata": {
    "id": "_F0myWK9Ttkl"
   },
   "source": [
    "* 모델5"
   ]
  },
  {
   "cell_type": "code",
   "execution_count": null,
   "metadata": {
    "id": "ITLSy_VIpzyZ"
   },
   "outputs": [],
   "source": []
  },
  {
   "cell_type": "markdown",
   "metadata": {
    "id": "kF7l1ytHpOwc"
   },
   "source": [
    "## 6.성능비교"
   ]
  },
  {
   "cell_type": "code",
   "execution_count": null,
   "metadata": {
    "id": "kSHKaXKVpQCh"
   },
   "outputs": [],
   "source": []
  },
  {
   "cell_type": "code",
   "execution_count": null,
   "metadata": {
    "id": "TqJCSGkqp7X7"
   },
   "outputs": [],
   "source": []
  }
 ],
 "metadata": {
  "colab": {
   "collapsed_sections": [],
   "name": "04과 Regression 종합실습.ipynb",
   "provenance": []
  },
  "kernelspec": {
   "display_name": "Python 3 (ipykernel)",
   "language": "python",
   "name": "python3"
  },
  "language_info": {
   "codemirror_mode": {
    "name": "ipython",
    "version": 3
   },
   "file_extension": ".py",
   "mimetype": "text/x-python",
   "name": "python",
   "nbconvert_exporter": "python",
   "pygments_lexer": "ipython3",
   "version": "3.9.12"
  }
 },
 "nbformat": 4,
 "nbformat_minor": 1
}
