{
 "cells": [
  {
   "cell_type": "markdown",
   "metadata": {
    "id": "ZeGcse75IrRt"
   },
   "source": [
    "# 비지도 학습 소개"
   ]
  },
  {
   "cell_type": "markdown",
   "metadata": {
    "id": "TuGNmMQBWx2A"
   },
   "source": [
    "# 1.환경준비"
   ]
  },
  {
   "cell_type": "markdown",
   "metadata": {
    "id": "2UdlBud8W4iV"
   },
   "source": [
    "## (1) 라이브러리 로딩"
   ]
  },
  {
   "cell_type": "code",
   "execution_count": 1,
   "metadata": {
    "id": "De_a-_h1kKDh"
   },
   "outputs": [],
   "source": [
    "import pandas as pd\n",
    "import numpy as np\n",
    "from matplotlib import pyplot as plt\n",
    "import seaborn as sns\n",
    "\n",
    "from sklearn.datasets import make_blobs, make_moons\n",
    "from sklearn.neighbors import NearestNeighbors\n",
    "from sklearn.cluster import KMeans, DBSCAN"
   ]
  },
  {
   "cell_type": "markdown",
   "metadata": {
    "id": "DU3lYPFkLTvk"
   },
   "source": [
    "## (2) Sample Data 1"
   ]
  },
  {
   "cell_type": "code",
   "execution_count": 2,
   "metadata": {
    "id": "iX9gPTfqGvPa"
   },
   "outputs": [
    {
     "data": {
      "image/png": "[encoded data removed]",
      "text/plain": [
       "<Figure size 864x576 with 1 Axes>"
      ]
     },
     "metadata": {
      "needs_background": "light"
     },
     "output_type": "display_data"
    }
   ],
   "source": [
    "# 데이터 1\n",
    "x, y = make_blobs(n_samples=300, centers=4, cluster_std=0.60, random_state=0)\n",
    "x = pd.DataFrame(x, columns = ['x1', 'x2'])\n",
    "y = pd.Series(y, name = 'shape')\n",
    "\n",
    "plt.figure(figsize = (12,8))\n",
    "plt.scatter(x['x1'], x['x2'])\n",
    "plt.show()"
   ]
  },
  {
   "cell_type": "markdown",
   "metadata": {
    "id": "uzLekw6NkEaw"
   },
   "source": [
    "# 2.k-means"
   ]
  },
  {
   "cell_type": "markdown",
   "metadata": {
    "id": "f2z7O9I6XoNN"
   },
   "source": [
    "### (1) k means 모델 만들기"
   ]
  },
  {
   "cell_type": "code",
   "execution_count": null,
   "metadata": {
    "id": "eHHr1ajsG7Kp"
   },
   "outputs": [],
   "source": [
    "# k means 모델 만들고 예측하기\n",
    "model = KMeans(n_clusters= 2, algorithm='auto')\n",
    "model.fit(x)\n",
    "pred = model.predict(x)"
   ]
  },
  {
   "cell_type": "code",
   "execution_count": null,
   "metadata": {
    "id": "bkQ0984rHo25"
   },
   "outputs": [],
   "source": [
    "# feature + pred + y 붙여 놓고 비교해 봅시다.\n",
    "pred = pd.DataFrame(pred, columns = ['predicted'])\n",
    "result = pd.concat([x, pred, y], axis = 1)\n",
    "result.head()"
   ]
  },
  {
   "cell_type": "code",
   "execution_count": null,
   "metadata": {
    "id": "QjELfZkqG65p"
   },
   "outputs": [],
   "source": [
    "# 결과를 시각화하여 살펴봅시다.\n",
    "\n",
    "# k means 모델로 부터 클러스터의 평균 값들을 가져올 수 있습니다.\n",
    "centers = pd.DataFrame(model.cluster_centers_, columns=['x1','x2'])\n",
    "\n",
    "# scatter plot\n",
    "plt.figure(figsize = (12,8))\n",
    "plt.scatter(result['x1'],result['x2'],c=result['predicted'],alpha=0.5)\n",
    "plt.scatter(centers['x1'], centers['x2'], s=50,marker='D',c='r')\n",
    "plt.show()\n"
   ]
  },
  {
   "cell_type": "markdown",
   "metadata": {
    "id": "zeeZRl4rZi7V"
   },
   "source": [
    "* k 값에 따라 모델을 생성하고 그래프 그리기 함수"
   ]
  },
  {
   "cell_type": "code",
   "execution_count": null,
   "metadata": {
    "id": "gon-XxoIZniY"
   },
   "outputs": [],
   "source": [
    "def k_means_plot(x, y, k) : \n",
    "    model = KMeans(n_clusters= k, algorithm='auto')\n",
    "    model.fit(x)\n",
    "    pred = model.predict(x)\n",
    "\n",
    "    pred = pd.DataFrame(pred, columns = ['predicted'])\n",
    "    result = pd.concat([x, pred, y], axis = 1)\n",
    "\n",
    "    # k means 모델로 부터 클러스터의 평균 값들을 가져올 수 있습니다.\n",
    "    centers = pd.DataFrame(model.cluster_centers_, columns=['x1','x2'])\n",
    "\n",
    "    # scatter plot\n",
    "    plt.figure(figsize = (12,8))\n",
    "    plt.scatter(result['x1'],result['x2'],c=result['predicted'],alpha=0.5)\n",
    "    plt.scatter(centers['x1'], centers['x2'], s=50,marker='D',c='r')\n",
    "    plt.show()"
   ]
  },
  {
   "cell_type": "markdown",
   "metadata": {
    "id": "Uc2ctHR7X2JW"
   },
   "source": [
    "## (2) 적절한 K 값 찾기"
   ]
  },
  {
   "cell_type": "markdown",
   "metadata": {
    "id": "gc0V5-eUX7AO"
   },
   "source": [
    "### 1) k 값을 조절하며 결과를 살펴 봅시다."
   ]
  },
  {
   "cell_type": "code",
   "execution_count": null,
   "metadata": {
    "id": "XtVsl-50MAuQ"
   },
   "outputs": [],
   "source": [
    "# k 값을 1~8까지 조절해 봅시다.\n",
    "k_means_plot(x, y, k = 1)"
   ]
  },
  {
   "cell_type": "markdown",
   "metadata": {
    "id": "IQFzV45wYEBg"
   },
   "source": [
    "### 2) Inertia 값으로 적정 K 값 찾기"
   ]
  },
  {
   "cell_type": "markdown",
   "metadata": {
    "id": "eu9f8TiLML9u"
   },
   "source": [
    "* 눈으로 먼저 보니까 몇개로 군집화 할지 보이지만, 실전에서는 거의 보고 판단할 수 없을 것입니다.\n",
    "* 그러면 군집의 개수를 어떻게 고를 수 있을까요?"
   ]
  },
  {
   "cell_type": "code",
   "execution_count": null,
   "metadata": {
    "id": "NyEIopn6Yho5"
   },
   "outputs": [],
   "source": [
    "# k means 모델을 생성하게 되면 inertia 값을 확인할 수 있습니다.\n",
    "model.inertia_"
   ]
  },
  {
   "cell_type": "code",
   "execution_count": null,
   "metadata": {
    "id": "_5Ltx-FiIi1J"
   },
   "outputs": [],
   "source": [
    "# k의 갯수에 따라 각 점과의 거리를 계산하여 적정한 k를 찾아 봅시다.\n",
    "kvalues = range(1,10)\n",
    "inertias = []\n",
    "\n",
    "for k in kvalues:\n",
    "    model = KMeans(n_clusters=k)\n",
    "    model.fit(x)\n",
    "    inertias.append(model.inertia_)"
   ]
  },
  {
   "cell_type": "code",
   "execution_count": null,
   "metadata": {
    "id": "_zuFkA8eYWs1"
   },
   "outputs": [],
   "source": [
    "# Plot k vs inertias\n",
    "plt.figure(figsize = (12,8))\n",
    "plt.plot(kvalues, inertias, '-o')\n",
    "plt.xlabel('number of clusters, k')\n",
    "plt.ylabel('inertia')\n",
    "plt.grid()\n",
    "plt.show()"
   ]
  },
  {
   "cell_type": "markdown",
   "metadata": {
    "id": "tvP28pepZVKl"
   },
   "source": [
    "* 위 결과로 부터 적절한 k 값을 정해 봅시다."
   ]
  },
  {
   "cell_type": "code",
   "execution_count": null,
   "metadata": {
    "id": "hzwka-BHWQBE"
   },
   "outputs": [],
   "source": []
  },
  {
   "cell_type": "markdown",
   "metadata": {
    "id": "G-9bi8lIXcGG"
   },
   "source": [
    "## (3) K-means 한계"
   ]
  },
  {
   "cell_type": "markdown",
   "metadata": {
    "id": "bEL3oC6nW9oY"
   },
   "source": [
    "### 1) Sample Data 2"
   ]
  },
  {
   "cell_type": "code",
   "execution_count": null,
   "metadata": {
    "id": "vFHUc3_xW98g"
   },
   "outputs": [],
   "source": [
    "x, y = make_moons(n_samples = 300, noise = .08, random_state=2)\n",
    "x = pd.DataFrame(x, columns = ['x1', 'x2'])\n",
    "y = pd.Series(y, name = 'shape')\n",
    "\n",
    "plt.figure(figsize = (12,8))\n",
    "plt.scatter(x['x1'], x['x2'])\n",
    "plt.show()"
   ]
  },
  {
   "cell_type": "markdown",
   "metadata": {
    "id": "fSPDc-UUbbS7"
   },
   "source": [
    "### 2) k means 모델 만들기\n",
    "* k 두개?"
   ]
  },
  {
   "cell_type": "code",
   "execution_count": null,
   "metadata": {
    "id": "lMXXnSGlbmTG"
   },
   "outputs": [],
   "source": [
    "k_means_plot(x, y, k = 2)"
   ]
  },
  {
   "cell_type": "markdown",
   "metadata": {
    "id": "DRHYSQkubqlq"
   },
   "source": [
    "### 3) inertia를 이용하여 k값 찾기"
   ]
  },
  {
   "cell_type": "code",
   "execution_count": null,
   "metadata": {
    "id": "r6v80EtAbw6q"
   },
   "outputs": [],
   "source": [
    "# k의 갯수에 따라 각 점과의 거리를 계산하여 적정한 k를 찾아 봅시다.\n",
    "kvalues = range(1,15)\n",
    "inertias = []\n",
    "\n",
    "for k in kvalues:\n",
    "    model = KMeans(n_clusters=k)\n",
    "    model.fit(x)\n",
    "    inertias.append(model.inertia_)"
   ]
  },
  {
   "cell_type": "code",
   "execution_count": null,
   "metadata": {
    "id": "stzM5lfjbw6q"
   },
   "outputs": [],
   "source": [
    "# Plot k vs inertias\n",
    "plt.figure(figsize = (12,8))\n",
    "plt.plot(kvalues, inertias, '-o')\n",
    "plt.xlabel('number of clusters, k')\n",
    "plt.ylabel('inertia')\n",
    "plt.grid()\n",
    "plt.show()"
   ]
  },
  {
   "cell_type": "code",
   "execution_count": null,
   "metadata": {
    "id": "PYLfBy5obvFm"
   },
   "outputs": [],
   "source": [
    "# 적절한 k값으로 모델을 생성해 봅시다.\n",
    "k_means_plot(x, y, k = 6)"
   ]
  },
  {
   "cell_type": "markdown",
   "metadata": {
    "id": "EV0IHuRAcJsJ"
   },
   "source": [
    "* 우리가 기대하는 바대로 모델이 생성되지 않았습니다.\n",
    "* k means는 볼록한 덩어리 cluster 구분에서는 괜찮지만, 위와 같은 구조는 사용하기 곤란합니다."
   ]
  },
  {
   "cell_type": "markdown",
   "metadata": {
    "id": "eLu7QpG0IyQe"
   },
   "source": [
    "# 3.DBSCAN"
   ]
  },
  {
   "cell_type": "markdown",
   "metadata": {
    "id": "9yS1viDijHV9"
   },
   "source": [
    "## (1) dbscan 모델 만들기"
   ]
  },
  {
   "cell_type": "code",
   "execution_count": null,
   "metadata": {
    "id": "F-26Y1W5Ix4w"
   },
   "outputs": [],
   "source": [
    "# DBSCAN 모델을 만들어 봅시다.\n",
    "model = DBSCAN(eps=0.1, min_samples=3)\n",
    "model.fit(x)"
   ]
  },
  {
   "cell_type": "code",
   "execution_count": null,
   "metadata": {
    "id": "qORZbjmeJPIn"
   },
   "outputs": [],
   "source": [
    "# fitting한 후에 모델의 labels_ 값이 찾아낸 군집 종류입니다.\n",
    "clusters = model.labels_"
   ]
  },
  {
   "cell_type": "code",
   "execution_count": null,
   "metadata": {
    "id": "5Nnpblu9Kvpg"
   },
   "outputs": [],
   "source": [
    "# 군집 번호 중 -1은 이상치를 의미합니다.(어느 군집에도 포함 안되는 값들!)\n",
    "clusters"
   ]
  },
  {
   "cell_type": "code",
   "execution_count": null,
   "metadata": {
    "id": "1S9hwUSdJa6t"
   },
   "outputs": [],
   "source": [
    "plt.figure(figsize = (12,8))\n",
    "plt.scatter(x['x1'], x['x2'], c=clusters, alpha=0.5)\n",
    "plt.show()"
   ]
  },
  {
   "cell_type": "markdown",
   "metadata": {
    "id": "6w65qHvujQiI"
   },
   "source": [
    "* eps를 적용하며 모델 생성하고 그래프 그리기"
   ]
  },
  {
   "cell_type": "code",
   "execution_count": null,
   "metadata": {
    "id": "PEV0pU9UjVPR"
   },
   "outputs": [],
   "source": [
    "def dbscan_plot(x, y, eps) :\n",
    "    model = DBSCAN(eps=eps, min_samples=3)\n",
    "    model.fit(x)\n",
    "    clusters = model.labels_\n",
    "    plt.figure(figsize = (12,8))\n",
    "    plt.scatter(x['x1'], x['x2'], c=clusters, alpha=0.5)\n",
    "    plt.show()"
   ]
  },
  {
   "cell_type": "markdown",
   "metadata": {
    "id": "m5C200XRa6oh"
   },
   "source": [
    "## (2) 적절한 eps 값 찾기 \n",
    "* 역시 눈으로 보면서 찾는 것은 실전에서는 거의 불가능합니다.\n",
    "* DBSCAN에도 적절한 값을 찾는 방법이 있습니다."
   ]
  },
  {
   "cell_type": "code",
   "execution_count": null,
   "metadata": {
    "id": "0n7rmVcbJnkL"
   },
   "outputs": [],
   "source": [
    "# 각점과 근처 5개 점과의 평균 거리\n",
    "knnDist = NearestNeighbors().fit(x)\n",
    "distances, _ = knnDist.kneighbors(x)\n",
    "dist = np.mean(distances[:,1:], axis = 1)\n",
    "dist = np.sort(dist)\n",
    "\n",
    "plt.figure(figsize = (12,8))\n",
    "plt.plot(dist)\n",
    "plt.grid()\n",
    "plt.show()"
   ]
  },
  {
   "cell_type": "code",
   "execution_count": null,
   "metadata": {
    "id": "PRKgJyKKIxu4"
   },
   "outputs": [],
   "source": [
    "# 찾아낸 eps 값을 대입시켜 봅시다.\n",
    "\n",
    "epsilon = 0.125\n",
    "dbscan_plot(x,y, eps = epsilon)"
   ]
  },
  {
   "cell_type": "markdown",
   "metadata": {
    "id": "8a-hNiWZb5wu"
   },
   "source": [
    "# 4.이동통신 고객 분석\n",
    "\n",
    "* 실전에서는 scatter를 그려보면서 할 수 없습니다.\n",
    "* K means와 DBSCAN 등을 이용하여 고객을 구분해 봅시다.\n",
    "* (추가) 고객이 어떻게 구분되는지 추가분석을 시도해 봅시다."
   ]
  },
  {
   "cell_type": "markdown",
   "metadata": {
    "id": "p7yEsDjAai1Y"
   },
   "source": [
    "## (1) 환경 준비와 데이터 로딩"
   ]
  },
  {
   "cell_type": "code",
   "execution_count": null,
   "metadata": {
    "id": "0wzhP3IXYnVQ"
   },
   "outputs": [],
   "source": [
    "import pandas as pd\n",
    "import numpy as np\n",
    "import matplotlib.pyplot as plt\n",
    "import seaborn as sns\n",
    "from sklearn.model_selection import train_test_split\n",
    "from sklearn.preprocessing import MinMaxScaler\n",
    "from sklearn.cluster import KMeans\n"
   ]
  },
  {
   "cell_type": "code",
   "execution_count": null,
   "metadata": {
    "id": "m-egsbiQa3a5"
   },
   "outputs": [],
   "source": [
    "# mobile data\n",
    "data_path = \"https://raw.githubusercontent.com/DA4BAM/dataset/master/mobile_churn_simple.csv\"\n",
    "mobile = pd.read_csv(data_path)\n",
    "\n",
    "mobile.loc[mobile['CHURN'] == 'LEAVE', 'CHURN'] = 1\n",
    "mobile.loc[mobile['CHURN'] == 'STAY', 'CHURN'] = 0"
   ]
  },
  {
   "cell_type": "code",
   "execution_count": null,
   "metadata": {
    "id": "dfmr4YDxlEjd"
   },
   "outputs": [],
   "source": [
    "# 무작위로 1000개 샘플링\n",
    "mobile_s = mobile.sample(1000, random_state=2021)"
   ]
  },
  {
   "cell_type": "code",
   "execution_count": null,
   "metadata": {
    "id": "URy-MBsHlBJD"
   },
   "outputs": [],
   "source": [
    "mobile_x = mobile_s.drop(['CHURN'],axis = 1)\n",
    "mobile_y = mobile_s.loc[:, \"CHURN\"]\n",
    "col_x = list(mobile_x)"
   ]
  },
  {
   "cell_type": "code",
   "execution_count": null,
   "metadata": {
    "id": "cTWK1fjW7FZI"
   },
   "outputs": [],
   "source": [
    "minmax = MinMaxScaler()\n",
    "mobile_x = minmax.fit_transform(mobile_x)\n",
    "mobile_x = pd.DataFrame(mobile_x, columns = col_x)\n",
    "mobile_x.head()"
   ]
  },
  {
   "cell_type": "markdown",
   "metadata": {
    "id": "YejXrH5leqXH"
   },
   "source": [
    "## (2) k값 찾기"
   ]
  },
  {
   "cell_type": "code",
   "execution_count": null,
   "metadata": {
    "id": "YBKL0uAJpGoJ"
   },
   "outputs": [],
   "source": [
    "ks = range(1,50)\n",
    "inertias = []\n",
    "\n",
    "for k in ks:\n",
    "    model = KMeans(n_clusters=k)\n",
    "    model.fit(mobile_x)\n",
    "    inertias.append(model.inertia_)"
   ]
  },
  {
   "cell_type": "code",
   "execution_count": null,
   "metadata": {
    "id": "CiwFRt0-qr3j"
   },
   "outputs": [],
   "source": [
    "plt.figure(figsize=(20,8))\n",
    "# Plot ks vs inertias\n",
    "plt.plot(ks, inertias, '-o')\n",
    "plt.xlabel('number of clusters, k')\n",
    "plt.ylabel('inertia')\n",
    "plt.xticks(ks)\n",
    "plt.show()\n"
   ]
  },
  {
   "cell_type": "markdown",
   "metadata": {
    "id": "wbPKY202ev_y"
   },
   "source": [
    "## (2) 모델링"
   ]
  },
  {
   "cell_type": "code",
   "execution_count": null,
   "metadata": {
    "id": "N70mFbDIHE6o"
   },
   "outputs": [],
   "source": [
    "model = KMeans(n_clusters=5)\n",
    "model.fit(mobile_x)\n",
    "pred = model.predict(mobile_x)\n",
    "pred = pd.DataFrame(pred, columns = ['predict'])"
   ]
  },
  {
   "cell_type": "markdown",
   "metadata": {
    "id": "_RdG4OQwexyi"
   },
   "source": [
    "## (3) 결과 살펴보기"
   ]
  },
  {
   "cell_type": "code",
   "execution_count": null,
   "metadata": {
    "id": "zTJ6YXkem5O1"
   },
   "outputs": [],
   "source": [
    "mobile_y.reset_index(inplace=True, drop=True)\n",
    "result = pd.concat([mobile_x, mobile_y, pred], axis =1)"
   ]
  },
  {
   "cell_type": "code",
   "execution_count": null,
   "metadata": {
    "id": "UWQU7irveGhP"
   },
   "outputs": [],
   "source": [
    "result.head()"
   ]
  },
  {
   "cell_type": "code",
   "execution_count": null,
   "metadata": {
    "id": "iKOQYMA_mXxm"
   },
   "outputs": [],
   "source": [
    "result.CHURN = result.CHURN.astype('int')"
   ]
  },
  {
   "cell_type": "markdown",
   "metadata": {
    "id": "nU3F4uBOVysy"
   },
   "source": [
    "* 클러스터 별 고객이탈율"
   ]
  },
  {
   "cell_type": "code",
   "execution_count": null,
   "metadata": {
    "id": "hBaXuuDPmYzc"
   },
   "outputs": [],
   "source": [
    "result.groupby('predict')['CHURN'].mean()"
   ]
  },
  {
   "cell_type": "code",
   "execution_count": null,
   "metadata": {
    "id": "8dDn4peZoG_2"
   },
   "outputs": [],
   "source": [
    "# 전체 평균\n",
    "result['CHURN'].value_counts() / result.shape[0]"
   ]
  },
  {
   "cell_type": "code",
   "execution_count": null,
   "metadata": {
    "id": "qZWbgMIGWBP6"
   },
   "outputs": [],
   "source": []
  }
 ],
 "metadata": {
  "colab": {
   "authorship_tag": "ABX9TyO0WRYCmD0hGSFzO7MfcGcr",
   "collapsed_sections": [],
   "name": "15과 비지도 학습 소개.ipynb",
   "provenance": [],
   "toc_visible": true
  },
  "kernelspec": {
   "display_name": "Python 3 (ipykernel)",
   "language": "python",
   "name": "python3"
  },
  "language_info": {
   "codemirror_mode": {
    "name": "ipython",
    "version": 3
   },
   "file_extension": ".py",
   "mimetype": "text/x-python",
   "name": "python",
   "nbconvert_exporter": "python",
   "pygments_lexer": "ipython3",
   "version": "3.9.12"
  }
 },
 "nbformat": 4,
 "nbformat_minor": 1
}
