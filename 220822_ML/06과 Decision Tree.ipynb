{
 "cells": [
  {
   "cell_type": "markdown",
   "metadata": {
    "id": "cVB9pY-v8uv5"
   },
   "source": [
    "# Decision Tree\n"
   ]
  },
  {
   "cell_type": "markdown",
   "metadata": {
    "id": "O1uL0UIEzBPw"
   },
   "source": [
    "## 1.환경준비"
   ]
  },
  {
   "cell_type": "markdown",
   "metadata": {
    "id": "vNt997De17qz"
   },
   "source": [
    "### (1) import"
   ]
  },
  {
   "cell_type": "code",
   "execution_count": 2,
   "metadata": {
    "id": "GugpCLBiVHzd"
   },
   "outputs": [],
   "source": [
    "#라이브러리들을 불러오자.\n",
    "import numpy as np\n",
    "import pandas as pd\n",
    "import matplotlib.pyplot as plt\n",
    "import seaborn as sns\n",
    "\n",
    "from sklearn.model_selection import train_test_split\n",
    "\n",
    "import warnings    # 경고메시지 제외\n",
    "warnings.filterwarnings(action='ignore')"
   ]
  },
  {
   "cell_type": "markdown",
   "metadata": {
    "id": "CG-FeAY4f25C"
   },
   "source": [
    "### (2) 데이터 준비"
   ]
  },
  {
   "cell_type": "code",
   "execution_count": 3,
   "metadata": {
    "id": "4OOz28CX5k2a"
   },
   "outputs": [
    {
     "data": {
      "text/html": [
       "<div>\n",
       "<style scoped>\n",
       "    .dataframe tbody tr th:only-of-type {\n",
       "        vertical-align: middle;\n",
       "    }\n",
       "\n",
       "    .dataframe tbody tr th {\n",
       "        vertical-align: top;\n",
       "    }\n",
       "\n",
       "    .dataframe thead th {\n",
       "        text-align: right;\n",
       "    }\n",
       "</style>\n",
       "<table border=\"1\" class=\"dataframe\">\n",
       "  <thead>\n",
       "    <tr style=\"text-align: right;\">\n",
       "      <th></th>\n",
       "      <th>Attrition</th>\n",
       "      <th>Age</th>\n",
       "      <th>DistanceFromHome</th>\n",
       "      <th>EmployeeNumber</th>\n",
       "      <th>Gender</th>\n",
       "      <th>JobSatisfaction</th>\n",
       "      <th>MaritalStatus</th>\n",
       "      <th>MonthlyIncome</th>\n",
       "      <th>OverTime</th>\n",
       "      <th>PercentSalaryHike</th>\n",
       "      <th>TotalWorkingYears</th>\n",
       "    </tr>\n",
       "  </thead>\n",
       "  <tbody>\n",
       "    <tr>\n",
       "      <th>0</th>\n",
       "      <td>0</td>\n",
       "      <td>33</td>\n",
       "      <td>7</td>\n",
       "      <td>817</td>\n",
       "      <td>Male</td>\n",
       "      <td>3</td>\n",
       "      <td>Married</td>\n",
       "      <td>11691</td>\n",
       "      <td>No</td>\n",
       "      <td>11</td>\n",
       "      <td>14</td>\n",
       "    </tr>\n",
       "    <tr>\n",
       "      <th>1</th>\n",
       "      <td>0</td>\n",
       "      <td>35</td>\n",
       "      <td>18</td>\n",
       "      <td>1412</td>\n",
       "      <td>Male</td>\n",
       "      <td>4</td>\n",
       "      <td>Single</td>\n",
       "      <td>9362</td>\n",
       "      <td>No</td>\n",
       "      <td>11</td>\n",
       "      <td>10</td>\n",
       "    </tr>\n",
       "    <tr>\n",
       "      <th>2</th>\n",
       "      <td>0</td>\n",
       "      <td>42</td>\n",
       "      <td>6</td>\n",
       "      <td>1911</td>\n",
       "      <td>Male</td>\n",
       "      <td>1</td>\n",
       "      <td>Married</td>\n",
       "      <td>13348</td>\n",
       "      <td>No</td>\n",
       "      <td>13</td>\n",
       "      <td>18</td>\n",
       "    </tr>\n",
       "    <tr>\n",
       "      <th>3</th>\n",
       "      <td>0</td>\n",
       "      <td>46</td>\n",
       "      <td>2</td>\n",
       "      <td>1204</td>\n",
       "      <td>Female</td>\n",
       "      <td>1</td>\n",
       "      <td>Married</td>\n",
       "      <td>17048</td>\n",
       "      <td>No</td>\n",
       "      <td>23</td>\n",
       "      <td>28</td>\n",
       "    </tr>\n",
       "    <tr>\n",
       "      <th>4</th>\n",
       "      <td>1</td>\n",
       "      <td>22</td>\n",
       "      <td>4</td>\n",
       "      <td>593</td>\n",
       "      <td>Male</td>\n",
       "      <td>3</td>\n",
       "      <td>Single</td>\n",
       "      <td>3894</td>\n",
       "      <td>No</td>\n",
       "      <td>16</td>\n",
       "      <td>4</td>\n",
       "    </tr>\n",
       "  </tbody>\n",
       "</table>\n",
       "</div>"
      ],
      "text/plain": [
       "   Attrition  Age  DistanceFromHome  EmployeeNumber  Gender  JobSatisfaction  \\\n",
       "0          0   33                 7             817    Male                3   \n",
       "1          0   35                18            1412    Male                4   \n",
       "2          0   42                 6            1911    Male                1   \n",
       "3          0   46                 2            1204  Female                1   \n",
       "4          1   22                 4             593    Male                3   \n",
       "\n",
       "  MaritalStatus  MonthlyIncome OverTime  PercentSalaryHike  TotalWorkingYears  \n",
       "0       Married          11691       No                 11                 14  \n",
       "1        Single           9362       No                 11                 10  \n",
       "2       Married          13348       No                 13                 18  \n",
       "3       Married          17048       No                 23                 28  \n",
       "4        Single           3894       No                 16                  4  "
      ]
     },
     "execution_count": 3,
     "metadata": {},
     "output_type": "execute_result"
    }
   ],
   "source": [
    "path = \"https://raw.githubusercontent.com/DA4BAM/dataset/master/Attrition_simple2.CSV\"\n",
    "data = pd.read_csv(path)\n",
    "data.head()"
   ]
  },
  {
   "cell_type": "markdown",
   "metadata": {
    "id": "wfEyBSf-e08G"
   },
   "source": [
    "|\t구분\t|\t변수 명\t|\t내용\t|\ttype\t|\t비고\t|\n",
    "|\t----\t|\t----\t|\t----\t|\t----\t|\t----\t|\n",
    "|\t**Target**\t|\t**Attrition**\t|\t이직여부\t|\t범주\t| 1- 이직, 0- 잔류\t\t|\n",
    "|\tfeature\t|\tAge\t|\t나이\t|\t숫자\t|\t\t|\n",
    "|\tfeature\t|\tBusinessTravel\t|\t출장빈도\t|\t범주\t|Travel_Rarely, Travel_Frequently, Non-Travel\t\t|\n",
    "|\tfeature\t|\tDepartment\t|\t부서\t|\t범주\t|Research & Development, Sales, Human Resources\t|\n",
    "|\tfeature\t|\tDistanceFromHome\t|\t집-직장 거리\t|\t숫자\t|\t마일\t|\n",
    "|\tfeature\t|\tEmployeeNumber\t|\t사번\t|\t??\t|\t\t|\n",
    "|\tfeature\t|\tGender\t|\t성별\t|\t범주\t| Male, Female\t\t|\n",
    "|\tfeature\t|\tJobSatisfaction\t|\t직무 만족도\t|\t범주\t|\t1 Low, 2 Medium, 3 High, 4 Very High\t|\n",
    "|\tfeature\t|\tMaritalStatus\t|\t결혼상태\t|\t범주\t| Single, Married, Divorced\t\t|\n",
    "|\tfeature\t|\tMonthlyIncome\t|\t월급\t|\t숫자\t| 달러\t|\n",
    "|\tfeature\t|\tOverTime\t|\t야근여부\t|\t범주\t|\tYes, No\t|\n",
    "|\tfeature\t|\tPercentSalaryHike\t|\t전년대비 급여인상율\t|\t숫자\t|\t%\t|\n",
    "|\tfeature\t|\tRelationshipSatisfaction\t|\t관계만족도\t|\t범주\t| 1 Low, 2 Medium, 3 High, 4 Very High|\n",
    "|\tfeature\t|\tStockOptionLevel\t|\t스톡옵션레벨\t|\t범주\t| 0 : 없음, 1~3 (클수록 스톡옵션을 많이 받음|\n",
    "|\tfeature\t|\tTotalWorkingYears\t|\t총 경력 연수\t|\t숫자\t|\t\t|\n",
    "|\tfeature\t|\tWorkLifeBalance\t|\t워라밸\t|\t범주\t| 1 Low, 2 Medium, 3 High, 4 Very High"
   ]
  },
  {
   "cell_type": "markdown",
   "metadata": {
    "id": "wW0d0eGmCYJM"
   },
   "source": [
    "## 2.데이터 준비"
   ]
  },
  {
   "cell_type": "markdown",
   "metadata": {
    "id": "y9Q6jR6OZjUk"
   },
   "source": [
    "### (1) 데이터 정리"
   ]
  },
  {
   "cell_type": "code",
   "execution_count": 4,
   "metadata": {
    "id": "Dhi6-3jgrEgQ"
   },
   "outputs": [],
   "source": [
    "data.drop('EmployeeNumber', axis = 1, inplace = True)"
   ]
  },
  {
   "cell_type": "markdown",
   "metadata": {
    "id": "WpJEGpUuuVWm"
   },
   "source": [
    "### (2) 데이터분할1 : x, y 나누기"
   ]
  },
  {
   "cell_type": "code",
   "execution_count": 5,
   "metadata": {
    "id": "N-4Msv8VsQ3R"
   },
   "outputs": [],
   "source": [
    "# x와 y 분리\n",
    "target = 'Attrition'\n",
    "x = data.drop(target, axis = 1)\n",
    "y = data.loc[:, target]"
   ]
  },
  {
   "cell_type": "markdown",
   "metadata": {
    "id": "mp_5volyuaA1"
   },
   "source": [
    "### (3) NA 조치"
   ]
  },
  {
   "cell_type": "markdown",
   "metadata": {
    "id": "nOF9fSLQugGf"
   },
   "source": [
    "### (4) 가변수화"
   ]
  },
  {
   "cell_type": "code",
   "execution_count": 6,
   "metadata": {
    "id": "CZgBC2QSoKc8"
   },
   "outputs": [],
   "source": [
    "cat_cols = ['Gender','JobSatisfaction','MaritalStatus','OverTime']\n",
    "x = pd.get_dummies(x, columns = cat_cols, drop_first = True)"
   ]
  },
  {
   "cell_type": "markdown",
   "metadata": {
    "id": "VBwpOKgkf5Am"
   },
   "source": [
    "### (5) 데이터분할2 : train : validation 나누기"
   ]
  },
  {
   "cell_type": "code",
   "execution_count": 7,
   "metadata": {
    "id": "1iHmTnHCgBw5"
   },
   "outputs": [],
   "source": [
    "x_train, x_val, y_train, y_val = train_test_split(x, y, test_size = .3, random_state = 2022)"
   ]
  },
  {
   "cell_type": "markdown",
   "metadata": {
    "id": "59bBv0a8heYh"
   },
   "source": [
    "### (6) Scaling"
   ]
  },
  {
   "cell_type": "markdown",
   "metadata": {
    "id": "Db2kkXxgf25E"
   },
   "source": [
    "## 3.모델링"
   ]
  },
  {
   "cell_type": "markdown",
   "metadata": {
    "id": "UbnrNvPXf25E"
   },
   "source": [
    "### (1) 필요한 함수 불러오기\n",
    "\n",
    "* DecisionTree\n",
    "    * DecisionTreeClassifier : 분류\n",
    "    * DecisionTreeRegressor : 회귀"
   ]
  },
  {
   "cell_type": "code",
   "execution_count": 8,
   "metadata": {
    "id": "X2_UhsQ0f25E"
   },
   "outputs": [],
   "source": [
    "# 모델링을 위해\n",
    "from sklearn.tree import DecisionTreeClassifier, plot_tree\n",
    "\n",
    "# 평가를 위해.\n",
    "from sklearn.metrics import *"
   ]
  },
  {
   "cell_type": "markdown",
   "metadata": {
    "id": "rgC0-b0Ef25F"
   },
   "source": [
    "### (2) 선언"
   ]
  },
  {
   "cell_type": "code",
   "execution_count": 9,
   "metadata": {
    "id": "sy7KaM9Qf25F"
   },
   "outputs": [],
   "source": [
    "model = DecisionTreeClassifier() # Default로 만들면 가장 복잡한 Tree가 된다."
   ]
  },
  {
   "cell_type": "markdown",
   "metadata": {
    "id": "e4trwN6Cf25F"
   },
   "source": [
    "### (3) 모델링(학습)"
   ]
  },
  {
   "cell_type": "code",
   "execution_count": 10,
   "metadata": {
    "id": "oB44wfFTf25F"
   },
   "outputs": [
    {
     "data": {
      "text/plain": [
       "DecisionTreeClassifier()"
      ]
     },
     "execution_count": 10,
     "metadata": {},
     "output_type": "execute_result"
    }
   ],
   "source": [
    "model.fit(x_train, y_train)"
   ]
  },
  {
   "cell_type": "markdown",
   "metadata": {
    "id": "GAepDcwgf25F"
   },
   "source": [
    "### (4) 검증 : 예측"
   ]
  },
  {
   "cell_type": "code",
   "execution_count": 11,
   "metadata": {
    "id": "SVXiJYWSf25F"
   },
   "outputs": [],
   "source": [
    "tree_pred = model.predict(x_val)"
   ]
  },
  {
   "cell_type": "markdown",
   "metadata": {
    "id": "bEk9nMg5f25F"
   },
   "source": [
    "### (5) 검증 : 평가"
   ]
  },
  {
   "cell_type": "markdown",
   "metadata": {
    "id": "ga5zxW1X1zev"
   },
   "source": [
    "* confusion matrix"
   ]
  },
  {
   "cell_type": "code",
   "execution_count": 12,
   "metadata": {
    "id": "Tok6xpctGxfH"
   },
   "outputs": [
    {
     "data": {
      "text/plain": [
       "array([[256,  44],\n",
       "       [ 37,  22]], dtype=int64)"
      ]
     },
     "execution_count": 12,
     "metadata": {},
     "output_type": "execute_result"
    }
   ],
   "source": [
    "confusion_matrix(y_val, tree_pred)"
   ]
  },
  {
   "cell_type": "markdown",
   "metadata": {
    "id": "UMa5QvhL12qm"
   },
   "source": [
    "* classification report"
   ]
  },
  {
   "cell_type": "code",
   "execution_count": 13,
   "metadata": {
    "id": "KtAKy708Gxbs"
   },
   "outputs": [
    {
     "name": "stdout",
     "output_type": "stream",
     "text": [
      "              precision    recall  f1-score   support\n",
      "\n",
      "           0       0.87      0.85      0.86       300\n",
      "           1       0.33      0.37      0.35        59\n",
      "\n",
      "    accuracy                           0.77       359\n",
      "   macro avg       0.60      0.61      0.61       359\n",
      "weighted avg       0.78      0.77      0.78       359\n",
      "\n"
     ]
    }
   ],
   "source": [
    "print(classification_report(y_val, tree_pred))"
   ]
  },
  {
   "cell_type": "markdown",
   "metadata": {
    "id": "dPODQ7HBgpU8"
   },
   "source": [
    "## 4.Hyper Parameter\n",
    "\n",
    "https://scikit-learn.org/stable/modules/generated/sklearn.tree.DecisionTreeClassifier.html"
   ]
  },
  {
   "cell_type": "markdown",
   "metadata": {
    "id": "QuXpKpZug8av"
   },
   "source": [
    "* max_depth : 트리의 깊이(크기를 결정)\n",
    "* min_samples_leaf : leaf 노드의 최소 데이터 건수\n",
    "    * leaf 노드는 y를 예측하는데 사용되는데, 데이터가 적으면 예측 결과에 대해 신뢰도가 떨어질 수 있다.\n"
   ]
  },
  {
   "cell_type": "markdown",
   "metadata": {
    "id": "qtASj0e93zIY"
   },
   "source": [
    "### (1) max_depth"
   ]
  },
  {
   "cell_type": "code",
   "execution_count": 14,
   "metadata": {
    "id": "uBb1JWqTXdiP"
   },
   "outputs": [
    {
     "name": "stdout",
     "output_type": "stream",
     "text": [
      "              precision    recall  f1-score   support\n",
      "\n",
      "           0       0.87      0.93      0.90       300\n",
      "           1       0.47      0.31      0.37        59\n",
      "\n",
      "    accuracy                           0.83       359\n",
      "   macro avg       0.67      0.62      0.64       359\n",
      "weighted avg       0.81      0.83      0.81       359\n",
      "\n"
     ]
    }
   ],
   "source": [
    "# max_depth = 2\n",
    "model1 = DecisionTreeClassifier(max_depth = 2)\n",
    "model1.fit(x_train, y_train)\n",
    "pred1 = model1.predict(x_val)\n",
    "print(classification_report(y_val, pred1))"
   ]
  },
  {
   "cell_type": "code",
   "execution_count": 15,
   "metadata": {
    "id": "M265ZFijYZle"
   },
   "outputs": [
    {
     "name": "stdout",
     "output_type": "stream",
     "text": [
      "              precision    recall  f1-score   support\n",
      "\n",
      "           0       0.87      0.93      0.90       300\n",
      "           1       0.44      0.27      0.34        59\n",
      "\n",
      "    accuracy                           0.82       359\n",
      "   macro avg       0.66      0.60      0.62       359\n",
      "weighted avg       0.80      0.82      0.81       359\n",
      "\n"
     ]
    }
   ],
   "source": [
    "# max_depth = 5\n",
    "model2 = DecisionTreeClassifier(max_depth = 5)\n",
    "model2.fit(x_train, y_train)\n",
    "pred2 = model2.predict(x_val)\n",
    "print(classification_report(y_val, pred2))"
   ]
  },
  {
   "cell_type": "markdown",
   "metadata": {
    "id": "ynqHRmFB32MM"
   },
   "source": [
    "### (2) min_samples_leaf : 값이 작을수록 더 큰 트리를 만든다."
   ]
  },
  {
   "cell_type": "code",
   "execution_count": 16,
   "metadata": {
    "id": "F-xNQUOm32MM"
   },
   "outputs": [
    {
     "name": "stdout",
     "output_type": "stream",
     "text": [
      "              precision    recall  f1-score   support\n",
      "\n",
      "           0       0.86      0.96      0.91       300\n",
      "           1       0.52      0.22      0.31        59\n",
      "\n",
      "    accuracy                           0.84       359\n",
      "   macro avg       0.69      0.59      0.61       359\n",
      "weighted avg       0.81      0.84      0.81       359\n",
      "\n"
     ]
    }
   ],
   "source": [
    "# min_samples_leaf = 30\n",
    "model3 = DecisionTreeClassifier(min_samples_leaf = 30)\n",
    "model3.fit(x_train, y_train)\n",
    "pred3 = model3.predict(x_val)\n",
    "print(classification_report(y_val, pred3))"
   ]
  },
  {
   "cell_type": "code",
   "execution_count": 17,
   "metadata": {
    "id": "-FxyOyaX32MM"
   },
   "outputs": [
    {
     "name": "stdout",
     "output_type": "stream",
     "text": [
      "              precision    recall  f1-score   support\n",
      "\n",
      "           0       0.87      0.93      0.90       300\n",
      "           1       0.47      0.31      0.37        59\n",
      "\n",
      "    accuracy                           0.83       359\n",
      "   macro avg       0.67      0.62      0.64       359\n",
      "weighted avg       0.81      0.83      0.81       359\n",
      "\n"
     ]
    }
   ],
   "source": [
    "# min_samples_leaf = 60\n",
    "model4 = DecisionTreeClassifier(min_samples_leaf = 60)\n",
    "model4.fit(x_train, y_train)\n",
    "pred4 = model4.predict(x_val)\n",
    "print(classification_report(y_val, pred4))"
   ]
  },
  {
   "cell_type": "markdown",
   "metadata": {
    "id": "EcooiW9MozGD"
   },
   "source": [
    "## 5.Decision Tree 내부 들여다 보기"
   ]
  },
  {
   "cell_type": "markdown",
   "metadata": {
    "id": "-DP66slJya5t"
   },
   "source": [
    "### (1) 모델 시각화"
   ]
  },
  {
   "cell_type": "markdown",
   "metadata": {
    "id": "WcUIIQd6Meqf"
   },
   "source": [
    "https://scikit-learn.org/stable/modules/generated/sklearn.tree.plot_tree.html"
   ]
  },
  {
   "cell_type": "code",
   "execution_count": 18,
   "metadata": {
    "id": "g9KN_xP9S1yr"
   },
   "outputs": [
    {
     "data": {
      "text/plain": [
       "751    0\n",
       "34     0\n",
       "503    0\n",
       "741    0\n",
       "10     0\n",
       "Name: Attrition, dtype: int64"
      ]
     },
     "execution_count": 18,
     "metadata": {},
     "output_type": "execute_result"
    }
   ],
   "source": [
    "y_train.head()"
   ]
  },
  {
   "cell_type": "code",
   "execution_count": 19,
   "metadata": {
    "id": "tj-pooFzx8jk"
   },
   "outputs": [
    {
     "data": {
      "image/png": "[encoded data removed]",
      "text/plain": [
       "<Figure size 432x288 with 1 Axes>"
      ]
     },
     "metadata": {
      "needs_background": "light"
     },
     "output_type": "display_data"
    }
   ],
   "source": [
    "# 시각화\n",
    "from sklearn.tree import plot_tree\n",
    "\n",
    "# Decision Tree는 모델을 시각화 할 수 있습니다.\n",
    "plot_tree(model,                                    #만든 모델 이름\n",
    "               feature_names = list(x_train),     #Feature 이름, list(x_train)\n",
    "               class_names = ['Stay', 'Leave'],      #Target(Class) 이름 \n",
    "               filled = True);"
   ]
  },
  {
   "cell_type": "markdown",
   "metadata": {
    "id": "KPo0yfUk1_bE"
   },
   "source": [
    "#### 1) max_depth = 2"
   ]
  },
  {
   "cell_type": "code",
   "execution_count": 23,
   "metadata": {},
   "outputs": [
    {
     "data": {
      "text/html": [
       "<div>\n",
       "<style scoped>\n",
       "    .dataframe tbody tr th:only-of-type {\n",
       "        vertical-align: middle;\n",
       "    }\n",
       "\n",
       "    .dataframe tbody tr th {\n",
       "        vertical-align: top;\n",
       "    }\n",
       "\n",
       "    .dataframe thead th {\n",
       "        text-align: right;\n",
       "    }\n",
       "</style>\n",
       "<table border=\"1\" class=\"dataframe\">\n",
       "  <thead>\n",
       "    <tr style=\"text-align: right;\">\n",
       "      <th></th>\n",
       "      <th>Age</th>\n",
       "      <th>DistanceFromHome</th>\n",
       "      <th>MonthlyIncome</th>\n",
       "      <th>PercentSalaryHike</th>\n",
       "      <th>TotalWorkingYears</th>\n",
       "      <th>Gender_Male</th>\n",
       "      <th>JobSatisfaction_2</th>\n",
       "      <th>JobSatisfaction_3</th>\n",
       "      <th>JobSatisfaction_4</th>\n",
       "      <th>MaritalStatus_Married</th>\n",
       "      <th>MaritalStatus_Single</th>\n",
       "      <th>OverTime_Yes</th>\n",
       "    </tr>\n",
       "  </thead>\n",
       "  <tbody>\n",
       "    <tr>\n",
       "      <th>count</th>\n",
       "      <td>837.000000</td>\n",
       "      <td>837.000000</td>\n",
       "      <td>837.000000</td>\n",
       "      <td>837.000000</td>\n",
       "      <td>837.000000</td>\n",
       "      <td>837.000000</td>\n",
       "      <td>837.000000</td>\n",
       "      <td>837.000000</td>\n",
       "      <td>837.000000</td>\n",
       "      <td>837.000000</td>\n",
       "      <td>837.000000</td>\n",
       "      <td>837.000000</td>\n",
       "    </tr>\n",
       "    <tr>\n",
       "      <th>mean</th>\n",
       "      <td>36.876941</td>\n",
       "      <td>9.179211</td>\n",
       "      <td>6469.223417</td>\n",
       "      <td>15.256870</td>\n",
       "      <td>11.232975</td>\n",
       "      <td>0.614098</td>\n",
       "      <td>0.181601</td>\n",
       "      <td>0.274791</td>\n",
       "      <td>0.318996</td>\n",
       "      <td>0.476703</td>\n",
       "      <td>0.304659</td>\n",
       "      <td>0.296296</td>\n",
       "    </tr>\n",
       "    <tr>\n",
       "      <th>std</th>\n",
       "      <td>8.969667</td>\n",
       "      <td>8.154542</td>\n",
       "      <td>4603.025911</td>\n",
       "      <td>3.612474</td>\n",
       "      <td>7.673010</td>\n",
       "      <td>0.487099</td>\n",
       "      <td>0.385746</td>\n",
       "      <td>0.446676</td>\n",
       "      <td>0.466366</td>\n",
       "      <td>0.499756</td>\n",
       "      <td>0.460538</td>\n",
       "      <td>0.456896</td>\n",
       "    </tr>\n",
       "    <tr>\n",
       "      <th>min</th>\n",
       "      <td>18.000000</td>\n",
       "      <td>1.000000</td>\n",
       "      <td>1009.000000</td>\n",
       "      <td>11.000000</td>\n",
       "      <td>0.000000</td>\n",
       "      <td>0.000000</td>\n",
       "      <td>0.000000</td>\n",
       "      <td>0.000000</td>\n",
       "      <td>0.000000</td>\n",
       "      <td>0.000000</td>\n",
       "      <td>0.000000</td>\n",
       "      <td>0.000000</td>\n",
       "    </tr>\n",
       "    <tr>\n",
       "      <th>25%</th>\n",
       "      <td>30.000000</td>\n",
       "      <td>2.000000</td>\n",
       "      <td>2950.000000</td>\n",
       "      <td>12.000000</td>\n",
       "      <td>6.000000</td>\n",
       "      <td>0.000000</td>\n",
       "      <td>0.000000</td>\n",
       "      <td>0.000000</td>\n",
       "      <td>0.000000</td>\n",
       "      <td>0.000000</td>\n",
       "      <td>0.000000</td>\n",
       "      <td>0.000000</td>\n",
       "    </tr>\n",
       "    <tr>\n",
       "      <th>50%</th>\n",
       "      <td>35.000000</td>\n",
       "      <td>7.000000</td>\n",
       "      <td>4998.000000</td>\n",
       "      <td>14.000000</td>\n",
       "      <td>10.000000</td>\n",
       "      <td>1.000000</td>\n",
       "      <td>0.000000</td>\n",
       "      <td>0.000000</td>\n",
       "      <td>0.000000</td>\n",
       "      <td>0.000000</td>\n",
       "      <td>0.000000</td>\n",
       "      <td>0.000000</td>\n",
       "    </tr>\n",
       "    <tr>\n",
       "      <th>75%</th>\n",
       "      <td>43.000000</td>\n",
       "      <td>14.000000</td>\n",
       "      <td>8381.000000</td>\n",
       "      <td>18.000000</td>\n",
       "      <td>15.000000</td>\n",
       "      <td>1.000000</td>\n",
       "      <td>0.000000</td>\n",
       "      <td>1.000000</td>\n",
       "      <td>1.000000</td>\n",
       "      <td>1.000000</td>\n",
       "      <td>1.000000</td>\n",
       "      <td>1.000000</td>\n",
       "    </tr>\n",
       "    <tr>\n",
       "      <th>max</th>\n",
       "      <td>60.000000</td>\n",
       "      <td>29.000000</td>\n",
       "      <td>19999.000000</td>\n",
       "      <td>25.000000</td>\n",
       "      <td>37.000000</td>\n",
       "      <td>1.000000</td>\n",
       "      <td>1.000000</td>\n",
       "      <td>1.000000</td>\n",
       "      <td>1.000000</td>\n",
       "      <td>1.000000</td>\n",
       "      <td>1.000000</td>\n",
       "      <td>1.000000</td>\n",
       "    </tr>\n",
       "  </tbody>\n",
       "</table>\n",
       "</div>"
      ],
      "text/plain": [
       "              Age  DistanceFromHome  MonthlyIncome  PercentSalaryHike  \\\n",
       "count  837.000000        837.000000     837.000000         837.000000   \n",
       "mean    36.876941          9.179211    6469.223417          15.256870   \n",
       "std      8.969667          8.154542    4603.025911           3.612474   \n",
       "min     18.000000          1.000000    1009.000000          11.000000   \n",
       "25%     30.000000          2.000000    2950.000000          12.000000   \n",
       "50%     35.000000          7.000000    4998.000000          14.000000   \n",
       "75%     43.000000         14.000000    8381.000000          18.000000   \n",
       "max     60.000000         29.000000   19999.000000          25.000000   \n",
       "\n",
       "       TotalWorkingYears  Gender_Male  JobSatisfaction_2  JobSatisfaction_3  \\\n",
       "count         837.000000   837.000000         837.000000         837.000000   \n",
       "mean           11.232975     0.614098           0.181601           0.274791   \n",
       "std             7.673010     0.487099           0.385746           0.446676   \n",
       "min             0.000000     0.000000           0.000000           0.000000   \n",
       "25%             6.000000     0.000000           0.000000           0.000000   \n",
       "50%            10.000000     1.000000           0.000000           0.000000   \n",
       "75%            15.000000     1.000000           0.000000           1.000000   \n",
       "max            37.000000     1.000000           1.000000           1.000000   \n",
       "\n",
       "       JobSatisfaction_4  MaritalStatus_Married  MaritalStatus_Single  \\\n",
       "count         837.000000             837.000000            837.000000   \n",
       "mean            0.318996               0.476703              0.304659   \n",
       "std             0.466366               0.499756              0.460538   \n",
       "min             0.000000               0.000000              0.000000   \n",
       "25%             0.000000               0.000000              0.000000   \n",
       "50%             0.000000               0.000000              0.000000   \n",
       "75%             1.000000               1.000000              1.000000   \n",
       "max             1.000000               1.000000              1.000000   \n",
       "\n",
       "       OverTime_Yes  \n",
       "count    837.000000  \n",
       "mean       0.296296  \n",
       "std        0.456896  \n",
       "min        0.000000  \n",
       "25%        0.000000  \n",
       "50%        0.000000  \n",
       "75%        1.000000  \n",
       "max        1.000000  "
      ]
     },
     "execution_count": 23,
     "metadata": {},
     "output_type": "execute_result"
    }
   ],
   "source": [
    "x_train.describe()"
   ]
  },
  {
   "cell_type": "code",
   "execution_count": 27,
   "metadata": {},
   "outputs": [
    {
     "data": {
      "text/plain": [
       "589"
      ]
     },
     "execution_count": 27,
     "metadata": {},
     "output_type": "execute_result"
    }
   ],
   "source": [
    "x_train.loc[x_train['OverTime_Yes'] <= 0.5]['OverTime_Yes'].count()"
   ]
  },
  {
   "cell_type": "code",
   "execution_count": 25,
   "metadata": {
    "id": "bLeqAZ8DLsqu"
   },
   "outputs": [
    {
     "data": {
      "image/png": "[encoded data removed]",
      "text/plain": [
       "<Figure size 1440x720 with 1 Axes>"
      ]
     },
     "metadata": {
      "needs_background": "light"
     },
     "output_type": "display_data"
    }
   ],
   "source": [
    "plt.figure(figsize = (20,10)) # 그림 사이즈 조절\n",
    "plot_tree(model1, feature_names = list(x_train), \n",
    "               class_names= ['Stay', 'Leave'], filled = True, fontsize = 15);"
   ]
  },
  {
   "cell_type": "markdown",
   "metadata": {
    "id": "7sa1X79947sF"
   },
   "source": [
    "#### 2) max_depth = 5"
   ]
  },
  {
   "cell_type": "code",
   "execution_count": null,
   "metadata": {
    "id": "Rjqaxezz47sF"
   },
   "outputs": [],
   "source": [
    "plt.figure(figsize = (30,10)) # 그림 사이즈 조절\n",
    "plot_tree(model2, feature_names = list(x_train), \n",
    "               class_names= ['Stay', 'Leave'], filled = True, fontsize = 8);"
   ]
  },
  {
   "cell_type": "markdown",
   "metadata": {
    "id": "Y3YXg6Cd5HuH"
   },
   "source": [
    "#### 3) min_samples_leaf = 30"
   ]
  },
  {
   "cell_type": "code",
   "execution_count": null,
   "metadata": {
    "id": "lIUKvlCI5HuN"
   },
   "outputs": [],
   "source": [
    "plt.figure(figsize = (30,15)) # 그림 사이즈 조절\n",
    "plot_tree(model3, feature_names = list(x_train), \n",
    "               class_names= ['Stay', 'Leave'], filled = True, fontsize = 8);"
   ]
  },
  {
   "cell_type": "markdown",
   "metadata": {
    "id": "Z5hAmoNV5IDB"
   },
   "source": [
    "#### 4) min_samples_leaf = 60"
   ]
  },
  {
   "cell_type": "code",
   "execution_count": null,
   "metadata": {
    "id": "1mcl75vw5IDB"
   },
   "outputs": [],
   "source": [
    "plt.figure(figsize = (20,10)) # 그림 사이즈 조절\n",
    "plot_tree(model4, feature_names = list(x_train), \n",
    "               class_names= ['Stay', 'Leave'], filled = True, fontsize = 10);"
   ]
  },
  {
   "cell_type": "markdown",
   "metadata": {
    "id": "_GR-ztzAzYIH"
   },
   "source": [
    "### (2) 변수 중요도"
   ]
  },
  {
   "cell_type": "code",
   "execution_count": null,
   "metadata": {
    "id": "yMzgMkHix8hH"
   },
   "outputs": [],
   "source": [
    "# 변수 중요도\n",
    "print(list(x_train))\n",
    "print(model.feature_importances_)"
   ]
  },
  {
   "cell_type": "markdown",
   "metadata": {
    "id": "sWJZioD01kne"
   },
   "source": [
    "* 변수중요도 그래프 그리기 함수 만들기"
   ]
  },
  {
   "cell_type": "code",
   "execution_count": null,
   "metadata": {
    "id": "U2yhFi1Z1mx5"
   },
   "outputs": [],
   "source": [
    "def plot_feature_importance(importance, names):\n",
    "    feature_importance = np.array(importance)\n",
    "    feature_names = np.array(names)\n",
    "\n",
    "    data={'feature_names':feature_names,'feature_importance':feature_importance}\n",
    "    fi_df = pd.DataFrame(data)\n",
    "\n",
    "    fi_df.sort_values(by=['feature_importance'], ascending=False,inplace=True)\n",
    "    fi_df.reset_index(drop=True, inplace = True)\n",
    "\n",
    "    plt.figure(figsize=(10,8))\n",
    "    sns.barplot(x='feature_importance', y='feature_names', data = fi_df)\n",
    "\n",
    "    plt.xlabel('FEATURE IMPORTANCE')\n",
    "    plt.ylabel('FEATURE NAMES')\n",
    "    plt.grid()\n",
    "\n",
    "    return fi_df"
   ]
  },
  {
   "cell_type": "code",
   "execution_count": null,
   "metadata": {
    "id": "zp9JdYhF16Kl"
   },
   "outputs": [],
   "source": [
    "result = plot_feature_importance(model.feature_importances_, list(x_train))"
   ]
  },
  {
   "cell_type": "code",
   "execution_count": null,
   "metadata": {},
   "outputs": [],
   "source": [
    "# MonthlyIncome이 제일 중요한데 왜 OverTime으로부터 분류를 시작한 것인가?\n",
    "# 부모의 불순도를 가장 떨어뜨려주는 항목이 OverTime이었다."
   ]
  },
  {
   "cell_type": "code",
   "execution_count": null,
   "metadata": {
    "id": "Lm0-qRW0WhbX"
   },
   "outputs": [],
   "source": [
    "result"
   ]
  },
  {
   "cell_type": "markdown",
   "metadata": {
    "id": "skZV3J255lE_"
   },
   "source": [
    "* 1~10까지 depth를 늘려가면서 성능측정(f1)"
   ]
  },
  {
   "cell_type": "code",
   "execution_count": null,
   "metadata": {
    "id": "gA98Mvkqx8eU"
   },
   "outputs": [],
   "source": [
    "depth = range(1,11)\n",
    "f1 = []\n",
    "for d in depth :\n",
    "    m = DecisionTreeClassifier(max_depth = d)\n",
    "    m.fit(x_train, y_train)\n",
    "    p = m.predict(x_val)\n",
    "    f1.append( f1_score(y_val, p) )"
   ]
  },
  {
   "cell_type": "code",
   "execution_count": null,
   "metadata": {
    "id": "hTiu8FA2x8Xv"
   },
   "outputs": [],
   "source": [
    "plt.plot(depth, f1, marker = 's')\n",
    "plt.grid()\n",
    "plt.show()"
   ]
  },
  {
   "cell_type": "markdown",
   "metadata": {
    "id": "2f1AGCei6SBz"
   },
   "source": [
    "실전에서는 방금 수행한 작업으로 for loop로 이용하기 보다는 Grid Search, Random Search 방식의 튜닝을 수행하게 됩니다."
   ]
  },
  {
   "cell_type": "markdown",
   "metadata": {
    "id": "WcHHjJ-_5XOw"
   },
   "source": [
    "## 6.실습 : 이동통신 가입 고객 이탈 예측"
   ]
  },
  {
   "cell_type": "markdown",
   "metadata": {
    "id": "vTzM1Phs5-3R"
   },
   "source": [
    "* 여러분은 OO 통신회사 데이터분석가 입니다.\n",
    "* 회사는 약정기간이 끝난 고객이 번호이동(이탈)해 가는 문제를 해결하고자 합니다.\n",
    "* 그래서 여러분에게, 어떤 고객이 번호이동(이탈)해 가는지 예측 모델링을 의뢰하였습니다."
   ]
  },
  {
   "cell_type": "markdown",
   "metadata": {
    "id": "Oqg3_WnI5-3R"
   },
   "source": [
    "![](https://d18lkz4dllo6v2.cloudfront.net/cumulus_uploads/entry/23964/mobile%20phones.png)"
   ]
  },
  {
   "cell_type": "markdown",
   "metadata": {
    "id": "bEOu0NRY5-3R"
   },
   "source": [
    "* 변수설명\n",
    "    * COLLEGE : 대학 졸업여부\n",
    "    * INCOME : 연수입\n",
    "    * OVERAGE : 월평균 초과사용 시간(분)\n",
    "    * LEFTOVER : 월평균 잔여시간비율(%)\n",
    "    * HOUSE : 집값\n",
    "    * HANDSET_PRICE : 스마트폰 가격\n",
    "    * OVER_15MINS_CALLS_PER_MONTH : 월평균 장기통화(15분이상) 횟수\n",
    "    * AVERAGE_CALL_DURATION : 평균 통화 시간\n",
    "    * REPORTED_SATISFACTION : 만족도 설문조사 결과\n",
    "    * REPORTED_USAGE_LEVEL : 사용도 자가진단 결과\n",
    "    * CONSIDERING_CHANGE_OF_PLAN : 향후 변경계획 설문조사 결과\n",
    "    * CHURN : 이탈(번호이동) 여부 (Target 변수)\n"
   ]
  },
  {
   "cell_type": "markdown",
   "metadata": {
    "id": "gdYEzuNg51hS"
   },
   "source": [
    "### (1) 데이터 전처리"
   ]
  },
  {
   "cell_type": "code",
   "execution_count": null,
   "metadata": {
    "id": "BJjKVG-If830"
   },
   "outputs": [],
   "source": [
    "# 데이터를 불러옵시다.\n",
    "path = 'https://raw.githubusercontent.com/DA4BAM/dataset/master/mobile_cust_churn.csv'\n",
    "data = pd.read_csv(path)"
   ]
  },
  {
   "cell_type": "code",
   "execution_count": null,
   "metadata": {
    "id": "QoS658DO5dJy"
   },
   "outputs": [],
   "source": [
    "data.head()"
   ]
  },
  {
   "cell_type": "markdown",
   "metadata": {
    "id": "e38GImUp5-3S"
   },
   "source": [
    "* 변수정리 : 불필요한 변수를 정리합시다.\n",
    "    * 식별자 : 일련번호, 주민번호, 전화번호, 고객ID, 사번 \n",
    "    * 시계열 데이터 중 : 어떤 기간동안 거의 변화가 없는 값.(변동이 거의 없는) 값.\n"
   ]
  },
  {
   "cell_type": "code",
   "execution_count": null,
   "metadata": {
    "id": "xZRqibUK5-3S"
   },
   "outputs": [],
   "source": [
    "drop_cols = ['id']\n",
    "data.drop(drop_cols, axis = 1, inplace = True )"
   ]
  },
  {
   "cell_type": "markdown",
   "metadata": {
    "id": "0fNXkJgN57-D"
   },
   "source": [
    "* x, y 분할"
   ]
  },
  {
   "cell_type": "code",
   "execution_count": null,
   "metadata": {
    "id": "11ncHrdD5-3T"
   },
   "outputs": [],
   "source": [
    "target = 'CHURN'\n",
    "x = data.drop(target, axis = 1)\n",
    "y = data.loc[:, target]"
   ]
  },
  {
   "cell_type": "markdown",
   "metadata": {
    "id": "B2SsxX4lOwLR"
   },
   "source": [
    "* 가변수화 "
   ]
  },
  {
   "cell_type": "code",
   "execution_count": null,
   "metadata": {
    "id": "-oRRFERIOxJQ"
   },
   "outputs": [],
   "source": [
    "dumm_cols = ['REPORTED_SATISFACTION','REPORTED_USAGE_LEVEL','CONSIDERING_CHANGE_OF_PLAN']\n",
    "x = pd.get_dummies(x, columns = dumm_cols, drop_first = True)"
   ]
  },
  {
   "cell_type": "markdown",
   "metadata": {
    "id": "Nv_HqBIK5-3T"
   },
   "source": [
    "* train, val 분할"
   ]
  },
  {
   "cell_type": "code",
   "execution_count": null,
   "metadata": {
    "id": "xMwh7-fz5-3T"
   },
   "outputs": [],
   "source": [
    "x_train, x_val, y_train, y_val = train_test_split(x,y,test_size = 0.3)"
   ]
  },
  {
   "cell_type": "markdown",
   "metadata": {
    "id": "dW1VNR1QQgnG"
   },
   "source": [
    "### (2) 모델링\n",
    "* max_depth를 1~10 사이에서 조정하며 모델을 생성하고 성능을 비교해 봅시다.\n",
    "* min_samples_leaf 를 20 ~ 300 사이에서 조정하며 모델을 생성하고 성능을 비교해 봅시다."
   ]
  },
  {
   "cell_type": "code",
   "execution_count": null,
   "metadata": {
    "id": "-D4BHUiV9qH5"
   },
   "outputs": [],
   "source": [
    "model1 = DecisionTreeClassifier(max_depth = 6)\n",
    "model1.fit(x_train, y_train)\n",
    "pred1 = model1.predict(x_val)"
   ]
  },
  {
   "cell_type": "code",
   "execution_count": null,
   "metadata": {
    "id": "uQtT46MA7H7s"
   },
   "outputs": [],
   "source": [
    "model2 = DecisionTreeClassifier(min_samples_leaf = 70)\n",
    "model2.fit(x_train, y_train)\n",
    "pred2 = model2.predict(x_val)"
   ]
  },
  {
   "cell_type": "code",
   "execution_count": null,
   "metadata": {
    "id": "fRryyvwh9qEv"
   },
   "outputs": [],
   "source": [
    "model3 = DecisionTreeClassifier(min_samples_leaf = 100)\n",
    "model3.fit(x_train, y_train)\n",
    "pred3 = model3.predict(x_val)"
   ]
  },
  {
   "cell_type": "code",
   "execution_count": null,
   "metadata": {},
   "outputs": [],
   "source": [
    "model4 = DecisionTreeClassifier(min_samples_leaf = 250)\n",
    "model4.fit(x_train, y_train)\n",
    "pred4 = model4.predict(x_val)"
   ]
  },
  {
   "cell_type": "markdown",
   "metadata": {
    "id": "8Uxkk65p6gsm"
   },
   "source": [
    "### (3) 최적의 모델에 대해 시각화 및 변수 중요도를 살펴 봅시다.\n"
   ]
  },
  {
   "cell_type": "code",
   "execution_count": null,
   "metadata": {
    "id": "lAAi64a36gst"
   },
   "outputs": [],
   "source": [
    "print(classification_report(y_val, pred1))\n",
    "plt.figure(figsize = (20,10)) # 그림 사이즈 조절\n",
    "plot_tree(model1, feature_names = list(x_train), \n",
    "               class_names= ['STAY', 'LEAVE'], filled = True, fontsize = 15)\n",
    "plt.show()"
   ]
  },
  {
   "cell_type": "code",
   "execution_count": null,
   "metadata": {},
   "outputs": [],
   "source": [
    "print(classification_report(y_val, pred2))\n",
    "plt.figure(figsize = (20,10)) # 그림 사이즈 조절\n",
    "plot_tree(model2, feature_names = list(x_train), \n",
    "               class_names= ['STAY', 'LEAVE'], filled = True, fontsize = 15)\n",
    "plt.show()"
   ]
  },
  {
   "cell_type": "code",
   "execution_count": null,
   "metadata": {
    "id": "1F67v4vd8pj-"
   },
   "outputs": [],
   "source": [
    "print(classification_report(y_val, pred3))\n",
    "plt.figure(figsize = (20,10)) # 그림 사이즈 조절\n",
    "plot_tree(model3, feature_names = list(x_train), \n",
    "               class_names= ['STAY', 'LEAVE'], filled = True, fontsize = 15)\n",
    "plt.show()"
   ]
  },
  {
   "cell_type": "code",
   "execution_count": null,
   "metadata": {
    "id": "FPk-3-Wh8uR6"
   },
   "outputs": [],
   "source": [
    "print(classification_report(y_val, pred4))\n",
    "plt.figure(figsize = (20,10)) # 그림 사이즈 조절\n",
    "plot_tree(model4, feature_names = list(x_train), \n",
    "               class_names= ['STAY', 'LEAVE'], filled = True, fontsize = 15)\n",
    "plt.show()"
   ]
  },
  {
   "cell_type": "code",
   "execution_count": null,
   "metadata": {
    "id": "-ATqq0cY8zzi"
   },
   "outputs": [],
   "source": []
  }
 ],
 "metadata": {
  "colab": {
   "collapsed_sections": [],
   "name": "06과 Decision Tree.ipynb",
   "provenance": [],
   "toc_visible": true
  },
  "kernelspec": {
   "display_name": "Python 3 (ipykernel)",
   "language": "python",
   "name": "python3"
  },
  "language_info": {
   "codemirror_mode": {
    "name": "ipython",
    "version": 3
   },
   "file_extension": ".py",
   "mimetype": "text/x-python",
   "name": "python",
   "nbconvert_exporter": "python",
   "pygments_lexer": "ipython3",
   "version": "3.9.12"
  }
 },
 "nbformat": 4,
 "nbformat_minor": 4
}
