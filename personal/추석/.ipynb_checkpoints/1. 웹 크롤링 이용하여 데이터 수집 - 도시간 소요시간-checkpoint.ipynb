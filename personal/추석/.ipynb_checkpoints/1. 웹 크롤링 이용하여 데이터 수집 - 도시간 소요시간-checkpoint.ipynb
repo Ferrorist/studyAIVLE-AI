{
 "cells": [
  {
   "cell_type": "markdown",
   "id": "e7d61cd5",
   "metadata": {},
   "source": [
    "Selenium을 이용하여 시각화 자료를 크롤링하려고 한다."
   ]
  },
  {
   "cell_type": "code",
   "execution_count": 1,
   "id": "0bb269fc",
   "metadata": {},
   "outputs": [],
   "source": [
    "import numpy as np\n",
    "import pandas as pd\n",
    "from datetime import datetime\n",
    "from selenium import webdriver\n",
    "from selenium.webdriver.common.by import By\n",
    "from selenium.webdriver.support.ui import Select\n",
    "import time"
   ]
  },
  {
   "cell_type": "code",
   "execution_count": 4,
   "id": "96a9ee62",
   "metadata": {},
   "outputs": [],
   "source": [
    "empty_data = pd.DataFrame({'date' : [], 'weekday' : [], 'collect_hour' : [], 'traffic' : [], 'traffic_time' : [], 'departure_nm': [], 'arrival_nm' : [], 'diff' : [], 'Is_holiday' : [], 'holidays' : []})"
   ]
  },
  {
   "cell_type": "code",
   "execution_count": 5,
   "id": "81fe5033",
   "metadata": {},
   "outputs": [],
   "source": [
    "def makeDf(DATA, str_date, day_year, holidays):\n",
    "    # DATA : 크롤링으로 가지고 온 데이터 문자열들을 미리 나눈 list\n",
    "    # str_date : 해당 데이터의 날짜. YYYYMMDD 형식의 문자열을 받음.\n",
    "    # day_year : 해당 년도의 추석 당일 날짜. YYYYMMDD 형식의 문자열을 받음.\n",
    "    # holidays : 추석 연휴 list\n",
    "    data = empty_data.copy()\n",
    "    date = datetime.strptime(str_date, '%Y%m%d').date()\n",
    "    weekday = date.weekday()\n",
    "    for dataset in DATA:\n",
    "        # 해당 데이터의 날짜 먼저 삽입.\n",
    "        keys = ['date', 'weekday']\n",
    "        values = [date, weekday]\n",
    "        \n",
    "        data_list = dataset.split(',') # DATA의 각 문자열을 split\n",
    "        \n",
    "        for kv in data_list:\n",
    "            pair = kv.split(':')\n",
    "            keys.append(pair[0].replace('\"', ''))\n",
    "            values.append(pair[1].replace('\"', ''))\n",
    "\n",
    "        keys[2], keys[3] = keys[3], keys[2] # hour와 traffic 위치 swap\n",
    "        values[2], values[3] = values[3], values[2] # hour와 traffic 위치 swap\n",
    "        values[4] = float(values[4]) # index=4 --> traffic_time (시간단위) --> 데이터를 float으로 변환.\n",
    "        \n",
    "        keys.append('diff')\n",
    "        diff_days = (date - (datetime.strptime(day_year, '%Y%m%d').date())).days\n",
    "        values.append(diff_days) # 추석 당일날과의 차이\n",
    "        \n",
    "        keys.append('Is_holiday')\n",
    "        Is_holiday = 1 if holidays.count(str_date) > 0 else 0\n",
    "        values.append(Is_holiday) # 추석 연휴 날이면 1, 그렇지 않으면 0\n",
    "        \n",
    "        keys.append('holidays')\n",
    "        values.append(len(holidays)) # 해당 연도의 추석 연휴 day 수\n",
    "        \n",
    "        my_dict = dict(zip(keys, values))\n",
    "        df = pd.DataFrame(my_dict, index = [0])\n",
    "        data = pd.concat([data, df], axis=0)\n",
    "        \n",
    "    data = data.loc[data['arrival_nm'] == '부산'] # 부산이 목적지인 데이터셋만 원하므로 loc.\n",
    "    data.sort_values(by='collect_hour', ascending=True, inplace=True) # 시간 기준으로 sorting\n",
    "    data.reset_index(drop=True, inplace=True) # index를 reset.\n",
    "    data['traffic_time_1'] = data['traffic_time'].shift(-1) # 1시간 뒤의 traffic_time 생성.\n",
    "    return data"
   ]
  },
  {
   "cell_type": "code",
   "execution_count": 6,
   "id": "5be41a50",
   "metadata": {},
   "outputs": [],
   "source": [
    "def makeDataFrame(date_year, day_year, holidays):\n",
    "    # date_year : 추출할 데이터의 날짜 리스트. YYYYMMDD 형식의 문자열을 받음.\n",
    "    # day_year : 해당 년도의 추석 당일 날짜. YYYYMMDD 형식의 문자열을 받음.\n",
    "    # holidays : 추석 연휴 list\n",
    "    DF = pd.DataFrame()\n",
    "    for date in date_year:\n",
    "        print(date)\n",
    "        element = driver.find_element(By.CSS_SELECTOR, '#date')\n",
    "        driver.execute_script(f'arguments[0].setAttribute(\"value\", {date})', element)\n",
    "        driver.find_element(By.XPATH, '//*[@id=\"btn_Search\"]/a').click()\n",
    "        time.sleep(5)\n",
    "        script = driver.find_element(By.XPATH, '/html/head/script[26]')\n",
    "        data_text = script.get_attribute('innerHTML')[80:-38]\n",
    "        datas = data_text.split('},{')\n",
    "        datas[0] = datas[0].replace('{', '')\n",
    "        datas[-1] = datas[-1].replace('}', '')\n",
    "        if len(datas) > 30:\n",
    "            df = makeDf(datas, date, day_year, holidays)\n",
    "            DF = pd.concat([DF, df], axis=0)\n",
    "    return DF"
   ]
  },
  {
   "cell_type": "code",
   "execution_count": 15,
   "id": "7c3fcc93",
   "metadata": {},
   "outputs": [],
   "source": [
    "url = 'http://data.ex.co.kr/visual/analysis'"
   ]
  },
  {
   "cell_type": "code",
   "execution_count": 57,
   "id": "45e2d61e",
   "metadata": {},
   "outputs": [],
   "source": [
    "date_2018 = ['20180915','20180916','20180917','20180918','20180919','20180920','20180921','20180922', '20180923', '20180924', '20180925', '20180926'] # 추출할 데이터의 날짜 리스트.\n",
    "holidays_2018 = ['20180922', '20180923', '20180924', '20180925', '20180926'] # 추석 연휴 list\n",
    "day_2018 = '20180924' # 해당 년도의 추석 당일 날짜.\n",
    "date_2019 = ['20190905','20190906','20190907','20190908','20190909','20190910','20190911','20190912', '20190913', '20190914', '20190915']\n",
    "holidays_2019 = ['20190912', '20190913', '20190914', '20190915']\n",
    "day_2019 = '20190913'\n",
    "date_2020 = ['20200923','20200924','20200925','20200926','20200927','20200928','20200929','20200930', '20201001', '20201002', '20201003', '20201004']\n",
    "holidays_2020 = ['20200930', '20201001', '20201002', '20201003', '20201004']\n",
    "day_2020 = '20201001'\n",
    "date_2021 = ['20210911','20210912','20210913','20210914','20210915','20210916','20210917','20210918', '20210919', '20210920', '20210921', '20210922']\n",
    "holidays_2021 = ['20210918', '20210919', '20210920', '20210921', '20210922']\n",
    "day_2021 = '20210921'"
   ]
  },
  {
   "cell_type": "code",
   "execution_count": 79,
   "id": "56f8ec25",
   "metadata": {},
   "outputs": [],
   "source": [
    "date_2022 = ['20220902','20220903','20220904','20220905','20220906','20220907','20220908','20220909','20220910','20220911','20220912']\n",
    "holidays_2022 = ['20220909','20220910','20220911','20220912']\n",
    "day_2022 = '20220910'"
   ]
  },
  {
   "cell_type": "code",
   "execution_count": null,
   "id": "a2d41110",
   "metadata": {},
   "outputs": [],
   "source": [
    "Lunar_2018 = ['20180208','20180209','20180210','20180211','20180212','20180213','20180214','20180215','20180216','20180217','20180218'] # 추출할 데이터의 날짜 리스트.\n",
    "Lolidays_2018 = ['20180215','20180216','20180217','20180218'] # 설날 연휴 list\n",
    "Lday_2018 = '20180216' # 해당 년도의 설날 당일 날짜.\n",
    "Lunar_2019 = ['20190202','20190203','20190204', '20190205', '20190206']\n",
    "Lolidays_2019 = ['20190202','20190203','20190204', '20190205', '20190206']\n",
    "Lday_2019 = '20190205'\n",
    "Lunar_2020 = ['20200117','20200118','20200119','20200120','20200121','20200122','20200123','20200124', '20200125', '20200126']\n",
    "Lolidays_2020 = ['20200124', '20200125', '20200126']\n",
    "Lday_2020 = '20200125'\n",
    "Lunar_2021 = ['20210204','20210205','20210206','20210207','20210208','20210209','20210210','20210211', '20210212', '20210213', '20210214']\n",
    "Lolidays_2021 = ['20210211', '20210212', '20210213', '20210214']\n",
    "Lday_2021 = '20210212'\n",
    "Lunar_2022 = ['20220122','20220123','20220124','20220125','20220126','20220127','20220128','20220129','20220130','20220131','20220201','20220202']\n",
    "Lolidays_2022 = ['20220129','20220130','20220131','20220201','20220202']\n",
    "Lday_2022 = '20220201'"
   ]
  },
  {
   "cell_type": "code",
   "execution_count": 20,
   "id": "69473ed6",
   "metadata": {},
   "outputs": [],
   "source": [
    "driver = webdriver.Chrome()\n",
    "driver.get(url)"
   ]
  },
  {
   "cell_type": "code",
   "execution_count": null,
   "id": "7420024f",
   "metadata": {},
   "outputs": [],
   "source": [
    "data_18 = makeDataFrame(date_2018, day_2018, holidays_2018)\n",
    "data_19 = makeDataFrame(date_2019, day_2019, holidays_2019)\n",
    "data_20 = makeDataFrame(date_2020, day_2020, holidays_2020)\n",
    "data_21 = makeDataFrame(date_2021, day_2021, holidays_2021)\n",
    "data_22 = makeDataFrame(date_2022, day_2022, holidays_2022)"
   ]
  },
  {
   "cell_type": "code",
   "execution_count": 71,
   "id": "315ec7ab",
   "metadata": {},
   "outputs": [],
   "source": [
    "data_18.fillna(method='ffill', inplace=True)\n",
    "data_19.fillna(method='ffill', inplace=True)\n",
    "data_20.fillna(method='ffill', inplace=True)\n",
    "data_21.fillna(method='ffill', inplace=True)\n",
    "data_22.fillna(method='ffill', inplace=True)"
   ]
  },
  {
   "cell_type": "code",
   "execution_count": null,
   "id": "636016b0",
   "metadata": {},
   "outputs": [],
   "source": [
    "Ldate_18 = makeDataFrame(Lunar_2018, Lday_2018, Lolidays_2018)\n",
    "Ldate_19 = makeDataFrame(Lunar_2019, Lday_2019, Lolidays_2019)\n",
    "Ldate_20 = makeDataFrame(Lunar_2020, Lday_2020, Lolidays_2020)\n",
    "Ldate_21 = makeDataFrame(Lunar_2021, Lday_2021, Lolidays_2021)\n",
    "Ldate_22 = makeDataFrame(Lunar_2022, Lday_2022, Lolidays_2022)"
   ]
  },
  {
   "cell_type": "code",
   "execution_count": 91,
   "id": "d2240819",
   "metadata": {},
   "outputs": [],
   "source": [
    "data = pd.concat([data_18, data_19, data_20, data_21, data_22], axis=0)"
   ]
  },
  {
   "cell_type": "code",
   "execution_count": 92,
   "id": "ddff235e",
   "metadata": {
    "scrolled": true
   },
   "outputs": [
    {
     "data": {
      "text/plain": [
       "(888, 10)"
      ]
     },
     "execution_count": 92,
     "metadata": {},
     "output_type": "execute_result"
    }
   ],
   "source": [
    "data.shape"
   ]
  },
  {
   "cell_type": "code",
   "execution_count": 94,
   "id": "8f66c6d4",
   "metadata": {
    "scrolled": true
   },
   "outputs": [
    {
     "data": {
      "text/html": [
       "<div>\n",
       "<style scoped>\n",
       "    .dataframe tbody tr th:only-of-type {\n",
       "        vertical-align: middle;\n",
       "    }\n",
       "\n",
       "    .dataframe tbody tr th {\n",
       "        vertical-align: top;\n",
       "    }\n",
       "\n",
       "    .dataframe thead th {\n",
       "        text-align: right;\n",
       "    }\n",
       "</style>\n",
       "<table border=\"1\" class=\"dataframe\">\n",
       "  <thead>\n",
       "    <tr style=\"text-align: right;\">\n",
       "      <th></th>\n",
       "      <th>date</th>\n",
       "      <th>collect_hour</th>\n",
       "      <th>traffic</th>\n",
       "      <th>traffic_time</th>\n",
       "      <th>diff</th>\n",
       "      <th>Is_holiday</th>\n",
       "      <th>holidays</th>\n",
       "      <th>traffic_time_1</th>\n",
       "    </tr>\n",
       "  </thead>\n",
       "  <tbody>\n",
       "    <tr>\n",
       "      <th>0</th>\n",
       "      <td>2018-09-15</td>\n",
       "      <td>01</td>\n",
       "      <td>1</td>\n",
       "      <td>4.4</td>\n",
       "      <td>-9.0</td>\n",
       "      <td>0.0</td>\n",
       "      <td>5.0</td>\n",
       "      <td>4.4</td>\n",
       "    </tr>\n",
       "    <tr>\n",
       "      <th>1</th>\n",
       "      <td>2018-09-15</td>\n",
       "      <td>02</td>\n",
       "      <td>0</td>\n",
       "      <td>4.4</td>\n",
       "      <td>-9.0</td>\n",
       "      <td>0.0</td>\n",
       "      <td>5.0</td>\n",
       "      <td>4.4</td>\n",
       "    </tr>\n",
       "    <tr>\n",
       "      <th>2</th>\n",
       "      <td>2018-09-15</td>\n",
       "      <td>03</td>\n",
       "      <td>2</td>\n",
       "      <td>4.4</td>\n",
       "      <td>-9.0</td>\n",
       "      <td>0.0</td>\n",
       "      <td>5.0</td>\n",
       "      <td>4.4</td>\n",
       "    </tr>\n",
       "    <tr>\n",
       "      <th>3</th>\n",
       "      <td>2018-09-15</td>\n",
       "      <td>04</td>\n",
       "      <td>0</td>\n",
       "      <td>4.4</td>\n",
       "      <td>-9.0</td>\n",
       "      <td>0.0</td>\n",
       "      <td>5.0</td>\n",
       "      <td>4.4</td>\n",
       "    </tr>\n",
       "    <tr>\n",
       "      <th>4</th>\n",
       "      <td>2018-09-15</td>\n",
       "      <td>05</td>\n",
       "      <td>1</td>\n",
       "      <td>4.4</td>\n",
       "      <td>-9.0</td>\n",
       "      <td>0.0</td>\n",
       "      <td>5.0</td>\n",
       "      <td>4.9</td>\n",
       "    </tr>\n",
       "  </tbody>\n",
       "</table>\n",
       "</div>"
      ],
      "text/plain": [
       "         date collect_hour traffic  traffic_time  diff  Is_holiday  holidays  \\\n",
       "0  2018-09-15           01       1           4.4  -9.0         0.0       5.0   \n",
       "1  2018-09-15           02       0           4.4  -9.0         0.0       5.0   \n",
       "2  2018-09-15           03       2           4.4  -9.0         0.0       5.0   \n",
       "3  2018-09-15           04       0           4.4  -9.0         0.0       5.0   \n",
       "4  2018-09-15           05       1           4.4  -9.0         0.0       5.0   \n",
       "\n",
       "   traffic_time_1  \n",
       "0             4.4  \n",
       "1             4.4  \n",
       "2             4.4  \n",
       "3             4.4  \n",
       "4             4.9  "
      ]
     },
     "execution_count": 94,
     "metadata": {},
     "output_type": "execute_result"
    }
   ],
   "source": [
    "drop_cols = ['departure_nm', 'arrival_nm']\n",
    "data2 = data.drop(columns = drop_cols, axis=1)"
   ]
  },
  {
   "cell_type": "code",
   "execution_count": 98,
   "id": "60522eec",
   "metadata": {},
   "outputs": [],
   "source": [
    "data2 = data2.astype({'collect_hour' : 'int',\n",
    "                     'traffic' : 'int',\n",
    "                     'diff' : 'int',\n",
    "                     'Is_holiday' : 'int',\n",
    "                     'holidays' : 'int'})"
   ]
  },
  {
   "cell_type": "code",
   "execution_count": 101,
   "id": "acdfeddc",
   "metadata": {},
   "outputs": [],
   "source": [
    "data2.to_csv('highway.csv', index=False)"
   ]
  },
  {
   "cell_type": "code",
   "execution_count": 102,
   "id": "4c89b81c",
   "metadata": {},
   "outputs": [],
   "source": [
    "driver.quit()"
   ]
  }
 ],
 "metadata": {
  "kernelspec": {
   "display_name": "Python 3 (ipykernel)",
   "language": "python",
   "name": "python3"
  },
  "language_info": {
   "codemirror_mode": {
    "name": "ipython",
    "version": 3
   },
   "file_extension": ".py",
   "mimetype": "text/x-python",
   "name": "python",
   "nbconvert_exporter": "python",
   "pygments_lexer": "ipython3",
   "version": "3.9.12"
  }
 },
 "nbformat": 4,
 "nbformat_minor": 5
}
