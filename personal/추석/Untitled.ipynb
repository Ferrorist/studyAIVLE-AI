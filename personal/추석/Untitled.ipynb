{
 "cells": [
  {
   "cell_type": "code",
   "execution_count": 2,
   "id": "edb4769a-b7b8-4bd7-8f99-dde417157054",
   "metadata": {},
   "outputs": [],
   "source": [
    "import numpy as np\n",
    "import pandas as pd\n",
    "import requests, json"
   ]
  },
  {
   "cell_type": "code",
   "execution_count": 3,
   "id": "dbb9bc9a-48a1-4605-bf1d-2feac832d86f",
   "metadata": {},
   "outputs": [],
   "source": [
    "primary = 'http://data.ex.co.kr/openapi/specialAnal/intercityLeadTime'\n",
    "key = 6792223997\n",
    "save_type = 'json' # json or xml"
   ]
  },
  {
   "cell_type": "code",
   "execution_count": 4,
   "id": "1e5e77ab-ad8b-406e-aaa0-f9762ad09882",
   "metadata": {
    "tags": []
   },
   "outputs": [],
   "source": [
    "def makeUrl(iYear, StCode, EdCode):\n",
    "    global primary\n",
    "    global key, save_type\n",
    "    if (isinstance(StCode, str) and len(StCode) != 0) \\\n",
    "    or (isinstance(StCode, int) and StCode != 0):\n",
    "        iStUnitCode = f'&iStUnitCode={StCode}' \n",
    "    else:\n",
    "        iStUnitCode = ''\n",
    "        \n",
    "    if (isinstance(EdCode, str) and len(EdCode) != 0) \\\n",
    "    or (isinstance(EdCode, int) and EdCode != 0):\n",
    "        iEdUnitCode = f'&iEdUnitCode={EdCode}'\n",
    "    else:\n",
    "        iEdUnitCode = ''\n",
    "    url = f'{primary}?key={key}&type={save_type}&iYear={iYear}{iStUnitCode}{iEdUnitCode}&numOfRows=10&PageNo=1'\n",
    "    response = requests.get(url).json()\n",
    "    rows = response['count']\n",
    "    url = f'{primary}?key={key}&type={save_type}&iYear={iYear}{iStUnitCode}{iEdUnitCode}&numOfRows={rows}&PageNo=1'\n",
    "    return url"
   ]
  },
  {
   "cell_type": "code",
   "execution_count": 5,
   "id": "241cdff3-af31-4a04-9258-069820f02e6b",
   "metadata": {},
   "outputs": [],
   "source": [
    "StCode = 101 # 출발 서울. (출발영업소코드)\n",
    "EdCode = 140 # 도착 부산. (도착영업소코드)\n",
    "rows = 10\n",
    "pageNo = 1"
   ]
  },
  {
   "cell_type": "code",
   "execution_count": 6,
   "id": "c975d517-8bcd-42b0-931a-0013974de564",
   "metadata": {
    "scrolled": true
   },
   "outputs": [],
   "source": [
    "urls = []\n",
    "iYear = list(range(2020,2022))\n",
    "for year in iYear:\n",
    "    url = makeUrl(year, StCode, EdCode)\n",
    "    urls.append(url)"
   ]
  },
  {
   "cell_type": "code",
   "execution_count": 7,
   "id": "3f1213a4-65e1-4fe4-9d52-35d0b94eba9c",
   "metadata": {
    "scrolled": true
   },
   "outputs": [
    {
     "data": {
      "text/plain": [
       "['http://data.ex.co.kr/openapi/specialAnal/intercityLeadTime?key=6792223997&type=json&iYear=2020&iStUnitCode=101&iEdUnitCode=140&numOfRows=418&PageNo=1',\n",
       " 'http://data.ex.co.kr/openapi/specialAnal/intercityLeadTime?key=6792223997&type=json&iYear=2021&iStUnitCode=101&iEdUnitCode=140&numOfRows=414&PageNo=1']"
      ]
     },
     "execution_count": 7,
     "metadata": {},
     "output_type": "execute_result"
    }
   ],
   "source": [
    "urls"
   ]
  },
  {
   "cell_type": "code",
   "execution_count": 13,
   "id": "0429e2d9",
   "metadata": {},
   "outputs": [],
   "source": [
    "response = requests.get(urls[1]).json()\n",
    "data = pd.DataFrame(response['intercityLeadTimeLists'])"
   ]
  },
  {
   "cell_type": "code",
   "execution_count": 9,
   "id": "8435612c",
   "metadata": {
    "scrolled": false
   },
   "outputs": [
    {
     "data": {
      "text/html": [
       "<div>\n",
       "<style scoped>\n",
       "    .dataframe tbody tr th:only-of-type {\n",
       "        vertical-align: middle;\n",
       "    }\n",
       "\n",
       "    .dataframe tbody tr th {\n",
       "        vertical-align: top;\n",
       "    }\n",
       "\n",
       "    .dataframe thead th {\n",
       "        text-align: right;\n",
       "    }\n",
       "</style>\n",
       "<table border=\"1\" class=\"dataframe\">\n",
       "  <thead>\n",
       "    <tr style=\"text-align: right;\">\n",
       "      <th></th>\n",
       "      <th>stdHour</th>\n",
       "      <th>iYear</th>\n",
       "      <th>iStUnitCode</th>\n",
       "      <th>iEdUnitCode</th>\n",
       "      <th>stdYear</th>\n",
       "      <th>sphlDfttNm</th>\n",
       "      <th>sphlDfttCode</th>\n",
       "      <th>sphlDfttScopTypeNm</th>\n",
       "      <th>sphlDfttScopTypeCode</th>\n",
       "      <th>stUnitNm</th>\n",
       "      <th>stUnitCode</th>\n",
       "      <th>edUnitNm</th>\n",
       "      <th>edUnitCode</th>\n",
       "      <th>dirNm</th>\n",
       "      <th>dirCode</th>\n",
       "      <th>trtm</th>\n",
       "      <th>message</th>\n",
       "      <th>code</th>\n",
       "    </tr>\n",
       "  </thead>\n",
       "  <tbody>\n",
       "    <tr>\n",
       "      <th>0</th>\n",
       "      <td>00</td>\n",
       "      <td>None</td>\n",
       "      <td>None</td>\n",
       "      <td>None</td>\n",
       "      <td>2020</td>\n",
       "      <td>연말연시</td>\n",
       "      <td>1</td>\n",
       "      <td>D</td>\n",
       "      <td>4</td>\n",
       "      <td>서울</td>\n",
       "      <td>101</td>\n",
       "      <td>부산</td>\n",
       "      <td>140</td>\n",
       "      <td>귀성방향</td>\n",
       "      <td>1</td>\n",
       "      <td>270.116000000000000000000000</td>\n",
       "      <td>None</td>\n",
       "      <td>None</td>\n",
       "    </tr>\n",
       "    <tr>\n",
       "      <th>1</th>\n",
       "      <td>01</td>\n",
       "      <td>None</td>\n",
       "      <td>None</td>\n",
       "      <td>None</td>\n",
       "      <td>2020</td>\n",
       "      <td>연말연시</td>\n",
       "      <td>1</td>\n",
       "      <td>D</td>\n",
       "      <td>4</td>\n",
       "      <td>서울</td>\n",
       "      <td>101</td>\n",
       "      <td>부산</td>\n",
       "      <td>140</td>\n",
       "      <td>귀성방향</td>\n",
       "      <td>1</td>\n",
       "      <td>288.816000000000000000000000</td>\n",
       "      <td>None</td>\n",
       "      <td>None</td>\n",
       "    </tr>\n",
       "    <tr>\n",
       "      <th>2</th>\n",
       "      <td>02</td>\n",
       "      <td>None</td>\n",
       "      <td>None</td>\n",
       "      <td>None</td>\n",
       "      <td>2020</td>\n",
       "      <td>연말연시</td>\n",
       "      <td>1</td>\n",
       "      <td>D</td>\n",
       "      <td>4</td>\n",
       "      <td>서울</td>\n",
       "      <td>101</td>\n",
       "      <td>부산</td>\n",
       "      <td>140</td>\n",
       "      <td>귀성방향</td>\n",
       "      <td>1</td>\n",
       "      <td>303.716500000000000000000000</td>\n",
       "      <td>None</td>\n",
       "      <td>None</td>\n",
       "    </tr>\n",
       "    <tr>\n",
       "      <th>3</th>\n",
       "      <td>03</td>\n",
       "      <td>None</td>\n",
       "      <td>None</td>\n",
       "      <td>None</td>\n",
       "      <td>2020</td>\n",
       "      <td>연말연시</td>\n",
       "      <td>1</td>\n",
       "      <td>D</td>\n",
       "      <td>4</td>\n",
       "      <td>서울</td>\n",
       "      <td>101</td>\n",
       "      <td>부산</td>\n",
       "      <td>140</td>\n",
       "      <td>귀성방향</td>\n",
       "      <td>1</td>\n",
       "      <td>316.116500000000000000000000</td>\n",
       "      <td>None</td>\n",
       "      <td>None</td>\n",
       "    </tr>\n",
       "    <tr>\n",
       "      <th>4</th>\n",
       "      <td>04</td>\n",
       "      <td>None</td>\n",
       "      <td>None</td>\n",
       "      <td>None</td>\n",
       "      <td>2020</td>\n",
       "      <td>연말연시</td>\n",
       "      <td>1</td>\n",
       "      <td>D</td>\n",
       "      <td>4</td>\n",
       "      <td>서울</td>\n",
       "      <td>101</td>\n",
       "      <td>부산</td>\n",
       "      <td>140</td>\n",
       "      <td>귀성방향</td>\n",
       "      <td>1</td>\n",
       "      <td>346.966000000000000000000000</td>\n",
       "      <td>None</td>\n",
       "      <td>None</td>\n",
       "    </tr>\n",
       "  </tbody>\n",
       "</table>\n",
       "</div>"
      ],
      "text/plain": [
       "  stdHour iYear iStUnitCode iEdUnitCode stdYear sphlDfttNm sphlDfttCode  \\\n",
       "0      00  None        None        None    2020       연말연시            1   \n",
       "1      01  None        None        None    2020       연말연시            1   \n",
       "2      02  None        None        None    2020       연말연시            1   \n",
       "3      03  None        None        None    2020       연말연시            1   \n",
       "4      04  None        None        None    2020       연말연시            1   \n",
       "\n",
       "  sphlDfttScopTypeNm sphlDfttScopTypeCode stUnitNm stUnitCode edUnitNm  \\\n",
       "0                  D                    4       서울       101        부산   \n",
       "1                  D                    4       서울       101        부산   \n",
       "2                  D                    4       서울       101        부산   \n",
       "3                  D                    4       서울       101        부산   \n",
       "4                  D                    4       서울       101        부산   \n",
       "\n",
       "  edUnitCode dirNm dirCode                          trtm message  code  \n",
       "0       140   귀성방향       1  270.116000000000000000000000    None  None  \n",
       "1       140   귀성방향       1  288.816000000000000000000000    None  None  \n",
       "2       140   귀성방향       1  303.716500000000000000000000    None  None  \n",
       "3       140   귀성방향       1  316.116500000000000000000000    None  None  \n",
       "4       140   귀성방향       1  346.966000000000000000000000    None  None  "
      ]
     },
     "execution_count": 9,
     "metadata": {},
     "output_type": "execute_result"
    }
   ],
   "source": [
    "data.head()\n",
    "# stdHour : 기준시\n",
    "# sphlDfttNm : 특수일구분명\n",
    "# sphlDfttCode : 특수일구분코드\n",
    "# sphlDfttScopTypeNm : 특수일 전후 특송기간범위 구분명\n",
    "# sphlDfttScopTypeCode : 특수일 전후 특송기간범위 구분코드\n",
    "# dirNm : 방향명\n",
    "# trtm : 통행시간(분)"
   ]
  },
  {
   "cell_type": "code",
   "execution_count": 17,
   "id": "9bd12902",
   "metadata": {},
   "outputs": [
    {
     "data": {
      "text/plain": [
       "array(['연말연시', '설날'], dtype=object)"
      ]
     },
     "execution_count": 17,
     "metadata": {},
     "output_type": "execute_result"
    }
   ],
   "source": [
    "data['sphlDfttNm'].unique()"
   ]
  }
 ],
 "metadata": {
  "kernelspec": {
   "display_name": "Python 3 (ipykernel)",
   "language": "python",
   "name": "python3"
  },
  "language_info": {
   "codemirror_mode": {
    "name": "ipython",
    "version": 3
   },
   "file_extension": ".py",
   "mimetype": "text/x-python",
   "name": "python",
   "nbconvert_exporter": "python",
   "pygments_lexer": "ipython3",
   "version": "3.9.12"
  }
 },
 "nbformat": 4,
 "nbformat_minor": 5
}
