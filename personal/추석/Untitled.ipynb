{
 "cells": [
  {
   "cell_type": "code",
   "execution_count": 1,
   "id": "edb4769a-b7b8-4bd7-8f99-dde417157054",
   "metadata": {},
   "outputs": [],
   "source": [
    "import numpy as np\n",
    "import pandas as pd\n",
    "import requests"
   ]
  },
  {
   "cell_type": "code",
   "execution_count": 6,
   "id": "dbb9bc9a-48a1-4605-bf1d-2feac832d86f",
   "metadata": {},
   "outputs": [],
   "source": [
    "primary = 'http://data.ex.co.kr/openapi/specialAnal/intercityLeadTime'\n",
    "key = 6792223997\n",
    "save_type = 'json'"
   ]
  },
  {
   "cell_type": "code",
   "execution_count": 18,
   "id": "1e5e77ab-ad8b-406e-aaa0-f9762ad09882",
   "metadata": {
    "tags": []
   },
   "outputs": [],
   "source": [
    "def makeUrl(iYear, StCode, EdCode):\n",
    "    global primary\n",
    "    global key, save_type\n",
    "    global rows, pageNo\n",
    "    if len(StCode) != 0 or StCode != 0:\n",
    "        iStUnitCode = f'&iStUnitCode={StCode}'\n",
    "    else:\n",
    "        iStUnitCode = ''\n",
    "    if len(EdCode) != 0 or EdCode != 0:\n",
    "        iEdUnitCode = f'&iEdUnitCode={EdCode}'\n",
    "    else:\n",
    "        iEdUnitCode = ''\n",
    "    print(iStUnitCode, iEdUnitCode)\n",
    "#     url = f'{primary}?key={key}&type={save_type}&iYear={iYear}' \n",
    "#     + f'{iStUnitCode}' + f'{iEdUnitCode}'\n",
    "#     + f'&numOfRows={rows}&PageNo={pageNo}'\n",
    "    url = f'{primary}?key={key}&type={save_type}&iYear={iYear}{iStUnitCode}{iEdUnitCode}&numOfRows={rows}&PageNo={pageNo}' \n",
    "    return url"
   ]
  },
  {
   "cell_type": "code",
   "execution_count": 7,
   "id": "241cdff3-af31-4a04-9258-069820f02e6b",
   "metadata": {},
   "outputs": [],
   "source": [
    "StCode = ''\n",
    "EdCode = ''\n",
    "rows = 10\n",
    "pageNo = 1"
   ]
  },
  {
   "cell_type": "code",
   "execution_count": 17,
   "id": "c975d517-8bcd-42b0-931a-0013974de564",
   "metadata": {},
   "outputs": [
    {
     "name": "stdout",
     "output_type": "stream",
     "text": [
      "&iStUnitCode= &iEdUnitCode=\n",
      "&iStUnitCode= &iEdUnitCode=\n",
      "&iStUnitCode= &iEdUnitCode=\n",
      "&iStUnitCode= &iEdUnitCode=\n",
      "&iStUnitCode= &iEdUnitCode=\n",
      "&iStUnitCode= &iEdUnitCode=\n",
      "&iStUnitCode= &iEdUnitCode=\n"
     ]
    }
   ],
   "source": [
    "urls = []\n",
    "iYear = list(range(2015,2022))\n",
    "for year in iYear:\n",
    "    url = makeUrl(year, StCode, EdCode)\n",
    "    urls.append(url)"
   ]
  },
  {
   "cell_type": "code",
   "execution_count": 13,
   "id": "3f1213a4-65e1-4fe4-9d52-35d0b94eba9c",
   "metadata": {},
   "outputs": [
    {
     "name": "stdout",
     "output_type": "stream",
     "text": [
      "['http://data.ex.co.kr/openapi/specialAnal/intercityLeadTime?key=6792223997&type=json&iYear=2015&iStUnitCode=&iEdUnitCode=&numOfRows=10&PageNo=1', 'http://data.ex.co.kr/openapi/specialAnal/intercityLeadTime?key=6792223997&type=json&iYear=2016&iStUnitCode=&iEdUnitCode=&numOfRows=10&PageNo=1', 'http://data.ex.co.kr/openapi/specialAnal/intercityLeadTime?key=6792223997&type=json&iYear=2017&iStUnitCode=&iEdUnitCode=&numOfRows=10&PageNo=1', 'http://data.ex.co.kr/openapi/specialAnal/intercityLeadTime?key=6792223997&type=json&iYear=2018&iStUnitCode=&iEdUnitCode=&numOfRows=10&PageNo=1', 'http://data.ex.co.kr/openapi/specialAnal/intercityLeadTime?key=6792223997&type=json&iYear=2019&iStUnitCode=&iEdUnitCode=&numOfRows=10&PageNo=1', 'http://data.ex.co.kr/openapi/specialAnal/intercityLeadTime?key=6792223997&type=json&iYear=2020&iStUnitCode=&iEdUnitCode=&numOfRows=10&PageNo=1', 'http://data.ex.co.kr/openapi/specialAnal/intercityLeadTime?key=6792223997&type=json&iYear=2021&iStUnitCode=&iEdUnitCode=&numOfRows=10&PageNo=1']\n"
     ]
    }
   ],
   "source": [
    "print(urls)"
   ]
  }
 ],
 "metadata": {
  "kernelspec": {
   "display_name": "Python 3",
   "language": "python",
   "name": "python3"
  },
  "language_info": {
   "codemirror_mode": {
    "name": "ipython",
    "version": 3
   },
   "file_extension": ".py",
   "mimetype": "text/x-python",
   "name": "python",
   "nbconvert_exporter": "python",
   "pygments_lexer": "ipython3",
   "version": "3.8.8"
  }
 },
 "nbformat": 4,
 "nbformat_minor": 5
}
