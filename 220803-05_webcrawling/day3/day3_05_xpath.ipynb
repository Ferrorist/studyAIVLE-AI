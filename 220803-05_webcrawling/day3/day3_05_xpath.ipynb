{
 "cells": [
  {
   "cell_type": "markdown",
   "id": "34c8aa62-254d-4ca8-ac84-dc7e86770945",
   "metadata": {
    "tags": []
   },
   "source": [
    "### xpath\n",
    "- html element 선택하는 방법\n",
    "- scrapy 에서 기본적으로 사용하는 selector\n",
    "- scrapy : 파이썬 코드로 웹페이지의 데이터르 수집하는 프레임워크"
   ]
  },
  {
   "cell_type": "code",
   "execution_count": null,
   "id": "c9ae72a5-7cee-4135-b6e6-ecdae42b29f7",
   "metadata": {},
   "outputs": [],
   "source": [
    "# !pip install scrapy"
   ]
  },
  {
   "cell_type": "code",
   "execution_count": 2,
   "id": "d45f6fb5-9aeb-4cc7-840a-b4e80780dcb8",
   "metadata": {},
   "outputs": [],
   "source": [
    "import scrapy, requests\n",
    "from scrapy.http import TextResponse"
   ]
  },
  {
   "cell_type": "code",
   "execution_count": null,
   "id": "868f17f7-20be-4924-8757-098d1ca25864",
   "metadata": {},
   "outputs": [],
   "source": [
    "# 네이버 연관검색어 수집"
   ]
  },
  {
   "cell_type": "code",
   "execution_count": 3,
   "id": "b04a57be-55e5-4c53-9383-ee3dc229c356",
   "metadata": {},
   "outputs": [
    {
     "data": {
      "text/plain": [
       "'https://search.naver.com/search.naver?query=kt'"
      ]
     },
     "execution_count": 3,
     "metadata": {},
     "output_type": "execute_result"
    }
   ],
   "source": [
    "query = 'kt'\n",
    "url = f'https://search.naver.com/search.naver?query={query}'\n",
    "url"
   ]
  },
  {
   "cell_type": "code",
   "execution_count": 6,
   "id": "eef0fb23-31a7-4537-a539-7527e92282d3",
   "metadata": {},
   "outputs": [],
   "source": [
    "response = requests.get(url)\n",
    "dom = TextResponse(response.url, body=response.text, encoding='utf-8')"
   ]
  },
  {
   "cell_type": "code",
   "execution_count": null,
   "id": "e4657203-da2d-4e45-98b8-97f8838aee56",
   "metadata": {},
   "outputs": [],
   "source": [
    "# xpath syntax\n",
    "# //*[@id=\"nx_footer_related_keywords\"]/div/div[2]/ul/li[1]/a/div\n",
    "# // : 최상위 element. document에서 가장 위에 있는 element\n",
    "# * : 모든 하위 엘리먼트 : css selector(.wrap p) ' '와 같음.\n",
    "# [@id=\"nx_footer_related_keywords\"] : 속성값으로 element 선택.\n",
    "# / : 한 단계 하위 엘리먼트 : css selector(.wrap > p) 에서 >와 같음.\n",
    "# [n] : n번째 element"
   ]
  },
  {
   "cell_type": "code",
   "execution_count": 8,
   "id": "198584bc-3692-48d6-badf-ecaf7a90dc35",
   "metadata": {},
   "outputs": [
    {
     "data": {
      "text/plain": [
       "[<Selector xpath='//*[@id=\"nx_footer_related_keywords\"]/div/div[2]/ul/li[1]/a/div' data='<div class=\"tit\">삼성전자</div> </a> </li...'>]"
      ]
     },
     "execution_count": 8,
     "metadata": {},
     "output_type": "execute_result"
    }
   ],
   "source": [
    "dom.xpath('//*[@id=\"nx_footer_related_keywords\"]/div/div[2]/ul/li[1]/a/div')"
   ]
  },
  {
   "cell_type": "code",
   "execution_count": 9,
   "id": "d56371a8-f626-4f5a-9658-efda9f676472",
   "metadata": {},
   "outputs": [
    {
     "data": {
      "text/plain": [
       "[<Selector xpath='//*[@id=\"nx_footer_related_keywords\"]/div/div[2]/ul/li/a/div' data='<div class=\"tit\">삼성전자</div> </a> </li...'>,\n",
       " <Selector xpath='//*[@id=\"nx_footer_related_keywords\"]/div/div[2]/ul/li/a/div' data='<div class=\"tit\">kt 고객센터</div> </a> <...'>,\n",
       " <Selector xpath='//*[@id=\"nx_footer_related_keywords\"]/div/div[2]/ul/li/a/div' data='<div class=\"tit\">kt 인터넷</div> </a> </...'>,\n",
       " <Selector xpath='//*[@id=\"nx_footer_related_keywords\"]/div/div[2]/ul/li/a/div' data='<div class=\"tit\">ky</div> </a> </li> ...'>,\n",
       " <Selector xpath='//*[@id=\"nx_footer_related_keywords\"]/div/div[2]/ul/li/a/div' data='<div class=\"tit\">환율</div> </a> </li> ...'>,\n",
       " <Selector xpath='//*[@id=\"nx_footer_related_keywords\"]/div/div[2]/ul/li/a/div' data='<div class=\"tit\">kt 대리점</div> </a> </...'>,\n",
       " <Selector xpath='//*[@id=\"nx_footer_related_keywords\"]/div/div[2]/ul/li/a/div' data='<div class=\"tit\">kr</div> </a> </li> ...'>,\n",
       " <Selector xpath='//*[@id=\"nx_footer_related_keywords\"]/div/div[2]/ul/li/a/div' data='<div class=\"tit\">날씨</div> </a> </li> ...'>,\n",
       " <Selector xpath='//*[@id=\"nx_footer_related_keywords\"]/div/div[2]/ul/li/a/div' data='<div class=\"tit\">SKT</div> </a> </li>...'>,\n",
       " <Selector xpath='//*[@id=\"nx_footer_related_keywords\"]/div/div[2]/ul/li/a/div' data='<div class=\"tit\">kt 고객센터 전화번호</div> <...'>]"
      ]
     },
     "execution_count": 9,
     "metadata": {},
     "output_type": "execute_result"
    }
   ],
   "source": [
    "dom.xpath('//*[@id=\"nx_footer_related_keywords\"]/div/div[2]/ul/li/a/div') # li[1] → li 으로 변경. 모든 li를 탐색."
   ]
  },
  {
   "cell_type": "code",
   "execution_count": 10,
   "id": "2f8f8a24-3af4-4a0f-b1a5-01d45fdeefb7",
   "metadata": {},
   "outputs": [
    {
     "data": {
      "text/plain": [
       "[<Selector xpath='//*[@id=\"nx_footer_related_keywords\"]/div/div[2]/ul/li/a/div/text()' data='삼성전자'>,\n",
       " <Selector xpath='//*[@id=\"nx_footer_related_keywords\"]/div/div[2]/ul/li/a/div/text()' data='kt 고객센터'>,\n",
       " <Selector xpath='//*[@id=\"nx_footer_related_keywords\"]/div/div[2]/ul/li/a/div/text()' data='kt 인터넷'>,\n",
       " <Selector xpath='//*[@id=\"nx_footer_related_keywords\"]/div/div[2]/ul/li/a/div/text()' data='ky'>,\n",
       " <Selector xpath='//*[@id=\"nx_footer_related_keywords\"]/div/div[2]/ul/li/a/div/text()' data='환율'>,\n",
       " <Selector xpath='//*[@id=\"nx_footer_related_keywords\"]/div/div[2]/ul/li/a/div/text()' data='kt 대리점'>,\n",
       " <Selector xpath='//*[@id=\"nx_footer_related_keywords\"]/div/div[2]/ul/li/a/div/text()' data='kr'>,\n",
       " <Selector xpath='//*[@id=\"nx_footer_related_keywords\"]/div/div[2]/ul/li/a/div/text()' data='날씨'>,\n",
       " <Selector xpath='//*[@id=\"nx_footer_related_keywords\"]/div/div[2]/ul/li/a/div/text()' data='SKT'>,\n",
       " <Selector xpath='//*[@id=\"nx_footer_related_keywords\"]/div/div[2]/ul/li/a/div/text()' data='kt 고객센터 전화번호'>]"
      ]
     },
     "execution_count": 10,
     "metadata": {},
     "output_type": "execute_result"
    }
   ],
   "source": [
    "# text 수집.\n",
    "dom.xpath('//*[@id=\"nx_footer_related_keywords\"]/div/div[2]/ul/li/a/div/text()')"
   ]
  },
  {
   "cell_type": "code",
   "execution_count": 11,
   "id": "4c077a85-5a37-4dd7-ae46-69a4829f16d9",
   "metadata": {},
   "outputs": [
    {
     "data": {
      "text/plain": [
       "['삼성전자',\n",
       " 'kt 고객센터',\n",
       " 'kt 인터넷',\n",
       " 'ky',\n",
       " '환율',\n",
       " 'kt 대리점',\n",
       " 'kr',\n",
       " '날씨',\n",
       " 'SKT',\n",
       " 'kt 고객센터 전화번호']"
      ]
     },
     "execution_count": 11,
     "metadata": {},
     "output_type": "execute_result"
    }
   ],
   "source": [
    "dom.xpath('//*[@id=\"nx_footer_related_keywords\"]/div/div[2]/ul/li/a/div/text()').extract()"
   ]
  },
  {
   "cell_type": "code",
   "execution_count": 12,
   "id": "d2f28279-5596-4b51-a113-63ec4d397440",
   "metadata": {},
   "outputs": [],
   "source": [
    "# selenium에서의 xpath는 for을 사용해서 데이터를 수집하여야 한다."
   ]
  },
  {
   "cell_type": "code",
   "execution_count": null,
   "id": "4592dfc1-9ee7-4ea5-9985-237007842b89",
   "metadata": {},
   "outputs": [],
   "source": []
  },
  {
   "cell_type": "code",
   "execution_count": null,
   "id": "fa333b21-904f-4d9f-934a-62641b39a0a5",
   "metadata": {},
   "outputs": [],
   "source": []
  },
  {
   "cell_type": "code",
   "execution_count": null,
   "id": "f3fc5051-105f-41d4-af68-e8281501035e",
   "metadata": {},
   "outputs": [],
   "source": []
  },
  {
   "cell_type": "code",
   "execution_count": null,
   "id": "d18e1360-3847-4be7-93eb-62729a16c856",
   "metadata": {},
   "outputs": [],
   "source": []
  },
  {
   "cell_type": "code",
   "execution_count": null,
   "id": "ef5b57fe-4117-42f2-82e4-e424e5608232",
   "metadata": {},
   "outputs": [],
   "source": []
  },
  {
   "cell_type": "code",
   "execution_count": null,
   "id": "0179e1ad-05fa-4b9a-b08f-d447affdbc28",
   "metadata": {},
   "outputs": [],
   "source": []
  },
  {
   "cell_type": "code",
   "execution_count": null,
   "id": "543155f5-c158-4529-9535-0d2f6cde93d0",
   "metadata": {},
   "outputs": [],
   "source": []
  },
  {
   "cell_type": "code",
   "execution_count": null,
   "id": "c51747a9-dfdd-493b-82a6-d7b7f2d0481a",
   "metadata": {},
   "outputs": [],
   "source": []
  },
  {
   "cell_type": "code",
   "execution_count": null,
   "id": "312aac93-e896-434a-9274-84daa0103232",
   "metadata": {},
   "outputs": [],
   "source": []
  },
  {
   "cell_type": "code",
   "execution_count": null,
   "id": "dbcf179d-03f2-4a46-8af8-706c04f7b39f",
   "metadata": {},
   "outputs": [],
   "source": []
  },
  {
   "cell_type": "code",
   "execution_count": null,
   "id": "79fcd8ae-7bef-43d4-b55e-05864d2c8ecc",
   "metadata": {},
   "outputs": [],
   "source": []
  },
  {
   "cell_type": "code",
   "execution_count": null,
   "id": "7b2fde84-8e3e-46ac-bcfe-6b3d1f836d5f",
   "metadata": {},
   "outputs": [],
   "source": []
  }
 ],
 "metadata": {
  "kernelspec": {
   "display_name": "Python 3 (ipykernel)",
   "language": "python",
   "name": "python3"
  },
  "language_info": {
   "codemirror_mode": {
    "name": "ipython",
    "version": 3
   },
   "file_extension": ".py",
   "mimetype": "text/x-python",
   "name": "python",
   "nbconvert_exporter": "python",
   "pygments_lexer": "ipython3",
   "version": "3.9.12"
  }
 },
 "nbformat": 4,
 "nbformat_minor": 5
}
