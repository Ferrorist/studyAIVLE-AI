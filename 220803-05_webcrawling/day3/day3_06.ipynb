{
 "cells": [
  {
   "cell_type": "code",
   "execution_count": 2,
   "id": "139d118c-a4d0-4354-889b-9cca2c85a8c2",
   "metadata": {},
   "outputs": [],
   "source": [
    "# yield\n",
    "# iterable : 순서가 있는 데이터 집합 : list, tuple\n",
    "# iterator : next 함수를 실행하여 값을 발생시키는 값 생성기\n",
    "# generator : iterator 간단하게 구현한 문법"
   ]
  },
  {
   "cell_type": "code",
   "execution_count": 3,
   "id": "42a466f2-c6e0-4056-9aed-0f72d9778701",
   "metadata": {},
   "outputs": [],
   "source": [
    "# iterator 만들기\n",
    "iterator = iter([1,2,3])"
   ]
  },
  {
   "cell_type": "code",
   "execution_count": 4,
   "id": "2f7e1ee1-2ba6-45d7-8ba5-be78077e427c",
   "metadata": {},
   "outputs": [
    {
     "data": {
      "text/plain": [
       "list_iterator"
      ]
     },
     "execution_count": 4,
     "metadata": {},
     "output_type": "execute_result"
    }
   ],
   "source": [
    "type(iterator)"
   ]
  },
  {
   "cell_type": "code",
   "execution_count": 5,
   "id": "322065ab-98bc-46af-9b8f-98a866e5a291",
   "metadata": {},
   "outputs": [
    {
     "data": {
      "text/plain": [
       "1"
      ]
     },
     "execution_count": 5,
     "metadata": {},
     "output_type": "execute_result"
    }
   ],
   "source": [
    "next(iterator)"
   ]
  },
  {
   "cell_type": "code",
   "execution_count": null,
   "id": "024bf6be-c983-46b8-a166-9c38feb9b6fc",
   "metadata": {},
   "outputs": [],
   "source": [
    "# 클래스로 iterator 만들기 : 피보나치 수열"
   ]
  },
  {
   "cell_type": "code",
   "execution_count": 9,
   "id": "574b6c99-e641-45d6-9b74-af399f5ea1e1",
   "metadata": {},
   "outputs": [],
   "source": [
    "class Fib:\n",
    "    def __init__(self):\n",
    "        self.prev = 0\n",
    "        self.curr = 1\n",
    "    def __iter__(self):\n",
    "        return self\n",
    "    def __next__(self):\n",
    "        value = self.curr\n",
    "        self.curr += self.prev\n",
    "        self.prev = value\n",
    "        return value"
   ]
  },
  {
   "cell_type": "code",
   "execution_count": 22,
   "id": "aff36ba4-33ce-44bb-97df-3129321924af",
   "metadata": {},
   "outputs": [
    {
     "data": {
      "text/plain": [
       "__main__.Fib"
      ]
     },
     "execution_count": 22,
     "metadata": {},
     "output_type": "execute_result"
    }
   ],
   "source": [
    "fib = Fib()\n",
    "type(fib)"
   ]
  },
  {
   "cell_type": "code",
   "execution_count": 19,
   "id": "2c419645-7525-44f9-b925-ca480dcea4f9",
   "metadata": {},
   "outputs": [],
   "source": [
    "# yield : 일반 함수를 제너레이터로 만들어주는 명령어\n",
    "# next 함수를 실행해서 yield를 만나면 코드 실행 중단"
   ]
  },
  {
   "cell_type": "code",
   "execution_count": 20,
   "id": "1321458e-bd5d-471a-af76-fe3336acbf7f",
   "metadata": {},
   "outputs": [],
   "source": [
    "def fib():\n",
    "    prev, curr = 0, 1\n",
    "    while True:\n",
    "        yield curr # curr를 return 하고 코드 실행 중단\n",
    "        prev, curr = curr, prev + curr"
   ]
  },
  {
   "cell_type": "code",
   "execution_count": 14,
   "id": "f302cf66-31f4-42d9-98f0-6bd2118267b7",
   "metadata": {},
   "outputs": [
    {
     "data": {
      "text/plain": [
       "generator"
      ]
     },
     "execution_count": 14,
     "metadata": {},
     "output_type": "execute_result"
    }
   ],
   "source": [
    "f = fib()\n",
    "type(f)"
   ]
  },
  {
   "cell_type": "code",
   "execution_count": 23,
   "id": "740b8993-adc5-4f71-8235-0fcfa2c237f9",
   "metadata": {},
   "outputs": [
    {
     "data": {
      "text/plain": [
       "(1, 1)"
      ]
     },
     "execution_count": 23,
     "metadata": {},
     "output_type": "execute_result"
    }
   ],
   "source": [
    "next(fib), next(f)"
   ]
  },
  {
   "cell_type": "code",
   "execution_count": null,
   "id": "affb8a6f-12f5-4494-a421-68ae0d036811",
   "metadata": {},
   "outputs": [],
   "source": [
    "# yield : 함수를 호출할 때 마다 return을 여러 번 하는 방법"
   ]
  },
  {
   "cell_type": "code",
   "execution_count": 24,
   "id": "16e24178-671d-40a9-bf4d-7b771c6f2111",
   "metadata": {},
   "outputs": [],
   "source": [
    "def gen():\n",
    "    yield 1\n",
    "    yield 2\n",
    "    yield 3\n",
    "    \n",
    "g = gen()"
   ]
  },
  {
   "cell_type": "code",
   "execution_count": 25,
   "id": "148ea171-b7d4-45ae-99d1-d912d591a2b4",
   "metadata": {},
   "outputs": [
    {
     "data": {
      "text/plain": [
       "1"
      ]
     },
     "execution_count": 25,
     "metadata": {},
     "output_type": "execute_result"
    }
   ],
   "source": [
    "next(g)"
   ]
  },
  {
   "cell_type": "code",
   "execution_count": null,
   "id": "aaba3c07-7032-4393-91a4-c5d4c8fcadd3",
   "metadata": {},
   "outputs": [],
   "source": []
  },
  {
   "cell_type": "code",
   "execution_count": null,
   "id": "8a08df6f-19a0-4e54-b787-b59989a446a1",
   "metadata": {},
   "outputs": [],
   "source": []
  },
  {
   "cell_type": "code",
   "execution_count": null,
   "id": "d55039fc-c691-4847-91b8-04684551ba7b",
   "metadata": {},
   "outputs": [],
   "source": []
  }
 ],
 "metadata": {
  "kernelspec": {
   "display_name": "Python 3 (ipykernel)",
   "language": "python",
   "name": "python3"
  },
  "language_info": {
   "codemirror_mode": {
    "name": "ipython",
    "version": 3
   },
   "file_extension": ".py",
   "mimetype": "text/x-python",
   "name": "python",
   "nbconvert_exporter": "python",
   "pygments_lexer": "ipython3",
   "version": "3.9.12"
  }
 },
 "nbformat": 4,
 "nbformat_minor": 5
}
