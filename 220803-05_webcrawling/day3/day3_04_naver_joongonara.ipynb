{
 "cells": [
  {
   "cell_type": "markdown",
   "id": "c6d62199-e403-4cd5-a189-21a0616754a6",
   "metadata": {},
   "source": [
    "#### 네이버 중고나라 게시글 데이터 수집\n",
    "- selenium에서 iframe에 있는 데이터 수집\n",
    "- https://cafe.naver.com/joonggonara.cafe"
   ]
  },
  {
   "cell_type": "code",
   "execution_count": 1,
   "id": "aaa7b464-51c8-4935-b84c-679c24856b58",
   "metadata": {},
   "outputs": [],
   "source": [
    "from selenium import webdriver\n",
    "from selenium.webdriver.common.by import By"
   ]
  },
  {
   "cell_type": "code",
   "execution_count": 2,
   "id": "5df9ae98-53c2-4157-9be0-358d8bc2e84f",
   "metadata": {},
   "outputs": [],
   "source": [
    "url = 'https://cafe.naver.com/joonggonara.cafe'"
   ]
  },
  {
   "cell_type": "code",
   "execution_count": 3,
   "id": "a6d5ce88-fdef-44a1-9884-d5af465d7208",
   "metadata": {},
   "outputs": [],
   "source": [
    "# 1. 웹 브라우저 열기 및 페이지 이동\n",
    "driver = webdriver.Chrome()\n",
    "driver.get(url)"
   ]
  },
  {
   "cell_type": "code",
   "execution_count": 4,
   "id": "a7696705-d796-4e0b-b28a-5eb470208421",
   "metadata": {},
   "outputs": [],
   "source": [
    "import time\n",
    "time.sleep(3) # 3초 동안 sleep"
   ]
  },
  {
   "cell_type": "code",
   "execution_count": 5,
   "id": "3b448ee0-26cd-4d14-acaa-9638e8f37cfd",
   "metadata": {},
   "outputs": [],
   "source": [
    "# 2. 검색창에 \"맥북\"을 입력하고 검색 버튼을 클릭\n",
    "keyword = \"맥북\"\n",
    "driver.find_element(By.CSS_SELECTOR, \"#topLayerQueryInput\").send_keys(keyword) # id topLayerQueryInput에 keyword를 입력.\n",
    "# 렌더링 중에 실행이 되면 오류가 발생할 수가 있어 sleep을 사용.\n",
    "driver.execute_script(\"searchBoard();\") # 자바스크립트 searchBoard()를 실행.\n",
    "# 버튼을 클릭하게 하는 것보다 자바스크립트를 실행하는 것이 더 빠르다."
   ]
  },
  {
   "cell_type": "code",
   "execution_count": 6,
   "id": "d27824db-1aad-4e00-99a2-e9145d8df1e6",
   "metadata": {},
   "outputs": [],
   "source": [
    "# 3. 게시글 목록 데이터 수집 : iframe이 있는 경우."
   ]
  },
  {
   "cell_type": "code",
   "execution_count": 7,
   "id": "94ed8b1b-1fd2-45d3-b0e3-12149b0190a7",
   "metadata": {},
   "outputs": [
    {
     "data": {
      "text/plain": [
       "0"
      ]
     },
     "execution_count": 7,
     "metadata": {},
     "output_type": "execute_result"
    }
   ],
   "source": [
    "selector = \".article-board > table > tbody > tr\"\n",
    "elements = driver.find_elements(By.CSS_SELECTOR, selector)\n",
    "len(elements) # 값 0으로 출력. \n",
    "# 현재 driver에서는 iframe 안의 데이터를 접근할 수 없다."
   ]
  },
  {
   "cell_type": "code",
   "execution_count": 8,
   "id": "c6cb6f88-6df6-4a29-9d45-2e2f8fe77235",
   "metadata": {},
   "outputs": [
    {
     "data": {
      "text/plain": [
       "<selenium.webdriver.remote.webelement.WebElement (session=\"525b954da948823c3cf0ea1bcfb5d7f1\", element=\"d0b36f98-13fe-495f-8463-eb51dbad783b\")>"
      ]
     },
     "execution_count": 8,
     "metadata": {},
     "output_type": "execute_result"
    }
   ],
   "source": [
    "iframe = driver.find_element(By.CSS_SELECTOR, \"#cafe_main\")\n",
    "iframe"
   ]
  },
  {
   "cell_type": "code",
   "execution_count": 9,
   "id": "d7adeae8-b76f-42fa-bdea-70d453a9dc4a",
   "metadata": {},
   "outputs": [],
   "source": [
    "driver.switch_to.frame(iframe) # iframe으로 driver 이동"
   ]
  },
  {
   "cell_type": "code",
   "execution_count": 10,
   "id": "c62b989c-34ee-416a-bfb1-6c049994594a",
   "metadata": {},
   "outputs": [
    {
     "data": {
      "text/plain": [
       "15"
      ]
     },
     "execution_count": 10,
     "metadata": {},
     "output_type": "execute_result"
    }
   ],
   "source": [
    "selector = \".article-board > table > tbody > tr\"\n",
    "elements = driver.find_elements(By.CSS_SELECTOR, selector)\n",
    "len(elements) # 데이터가 정상적으로 선택되었음."
   ]
  },
  {
   "cell_type": "code",
   "execution_count": 11,
   "id": "ab28d11f-a03a-46f3-9860-9c11a1223d40",
   "metadata": {},
   "outputs": [
    {
     "data": {
      "text/plain": [
       "('2021 맥북프로 레티나 엠원 m1pro m1max 프로 맥스 14인치 판매', 'topontopcom')"
      ]
     },
     "execution_count": 11,
     "metadata": {},
     "output_type": "execute_result"
    }
   ],
   "source": [
    "element = elements[0]\n",
    "title = element.find_element(By.CSS_SELECTOR, \".article\").text\n",
    "writer = element.find_element(By.CSS_SELECTOR, \".p-nick\").text\n",
    "title, writer"
   ]
  },
  {
   "cell_type": "code",
   "execution_count": 12,
   "id": "33a9be8b-6456-45a2-a722-700be1253be6",
   "metadata": {
    "tags": []
   },
   "outputs": [
    {
     "data": {
      "text/html": [
       "<div>\n",
       "<style scoped>\n",
       "    .dataframe tbody tr th:only-of-type {\n",
       "        vertical-align: middle;\n",
       "    }\n",
       "\n",
       "    .dataframe tbody tr th {\n",
       "        vertical-align: top;\n",
       "    }\n",
       "\n",
       "    .dataframe thead th {\n",
       "        text-align: right;\n",
       "    }\n",
       "</style>\n",
       "<table border=\"1\" class=\"dataframe\">\n",
       "  <thead>\n",
       "    <tr style=\"text-align: right;\">\n",
       "      <th></th>\n",
       "      <th>title</th>\n",
       "      <th>writer</th>\n",
       "    </tr>\n",
       "  </thead>\n",
       "  <tbody>\n",
       "    <tr>\n",
       "      <th>13</th>\n",
       "      <td>[매입]방송출연 전국 노트북 맥북 게이밍 아이맥 등 매입 삽니다</td>\n",
       "      <td>전자마켓</td>\n",
       "    </tr>\n",
       "    <tr>\n",
       "      <th>14</th>\n",
       "      <td>14인치 M1PRO M1MAX 엠원프로 엠원맥스 맥북프로 애플노트북</td>\n",
       "      <td>topontopcom</td>\n",
       "    </tr>\n",
       "  </tbody>\n",
       "</table>\n",
       "</div>"
      ],
      "text/plain": [
       "                                    title       writer\n",
       "13    [매입]방송출연 전국 노트북 맥북 게이밍 아이맥 등 매입 삽니다         전자마켓\n",
       "14  14인치 M1PRO M1MAX 엠원프로 엠원맥스 맥북프로 애플노트북  topontopcom"
      ]
     },
     "execution_count": 12,
     "metadata": {},
     "output_type": "execute_result"
    }
   ],
   "source": [
    "data = []\n",
    "for element in elements:\n",
    "    data.append({\n",
    "        \"title\" : element.find_element(By.CSS_SELECTOR, \".article\").text,\n",
    "        \"writer\" : element.find_element(By.CSS_SELECTOR, \".p-nick\").text,\n",
    "    })\n",
    "df = pd.DataFrame(data)\n",
    "df.tail(2)"
   ]
  },
  {
   "cell_type": "code",
   "execution_count": 13,
   "id": "d0294f42-43d9-4da9-9b90-f2b8f04b6c7c",
   "metadata": {},
   "outputs": [],
   "source": [
    "# 원래 default frame 으로 이동\n",
    "driver.switch_to.default_content()"
   ]
  },
  {
   "cell_type": "code",
   "execution_count": 14,
   "id": "61382abe-771c-4dfe-82c0-b632577ebc37",
   "metadata": {},
   "outputs": [],
   "source": [
    "# 4. 웹 브라우저 종료\n",
    "driver.quit()"
   ]
  },
  {
   "cell_type": "code",
   "execution_count": null,
   "id": "d8e0ccc3-0551-4719-b634-38d63cf4bd89",
   "metadata": {},
   "outputs": [],
   "source": []
  },
  {
   "cell_type": "code",
   "execution_count": null,
   "id": "b5da8aff-e9bc-4524-a599-5fb88dbcc201",
   "metadata": {},
   "outputs": [],
   "source": []
  },
  {
   "cell_type": "code",
   "execution_count": null,
   "id": "194f4b47-614e-45b6-a46f-ce3b07218253",
   "metadata": {},
   "outputs": [],
   "source": []
  },
  {
   "cell_type": "code",
   "execution_count": null,
   "id": "b4861da4-f61c-4594-9c11-158be892c292",
   "metadata": {},
   "outputs": [],
   "source": []
  },
  {
   "cell_type": "code",
   "execution_count": null,
   "id": "cbfb9a33-e1df-4e17-94bf-9b11731e4967",
   "metadata": {},
   "outputs": [],
   "source": []
  },
  {
   "cell_type": "code",
   "execution_count": null,
   "id": "300c80f7-671a-42f9-bc70-1f5523cdf2cc",
   "metadata": {},
   "outputs": [],
   "source": []
  },
  {
   "cell_type": "code",
   "execution_count": null,
   "id": "011b7674-17bb-447a-99b2-83a15cd36e37",
   "metadata": {},
   "outputs": [],
   "source": []
  },
  {
   "cell_type": "code",
   "execution_count": null,
   "id": "0bf28da7-6472-45d1-bc4d-5eae071f93f2",
   "metadata": {},
   "outputs": [],
   "source": []
  },
  {
   "cell_type": "code",
   "execution_count": null,
   "id": "72d81186-c0e3-4d18-ab6f-632560accd6e",
   "metadata": {},
   "outputs": [],
   "source": []
  },
  {
   "cell_type": "code",
   "execution_count": null,
   "id": "569c38c1-b4e4-491a-90c6-f9fd5c548895",
   "metadata": {},
   "outputs": [],
   "source": []
  },
  {
   "cell_type": "code",
   "execution_count": null,
   "id": "cc1410c6-885d-470c-ad4e-b8cb5b9dc0b2",
   "metadata": {},
   "outputs": [],
   "source": []
  },
  {
   "cell_type": "code",
   "execution_count": null,
   "id": "4ab79826-6b80-441f-a13e-561323ffa8e9",
   "metadata": {},
   "outputs": [],
   "source": []
  }
 ],
 "metadata": {
  "kernelspec": {
   "display_name": "Python 3 (ipykernel)",
   "language": "python",
   "name": "python3"
  },
  "language_info": {
   "codemirror_mode": {
    "name": "ipython",
    "version": 3
   },
   "file_extension": ".py",
   "mimetype": "text/x-python",
   "name": "python",
   "nbconvert_exporter": "python",
   "pygments_lexer": "ipython3",
   "version": "3.9.12"
  }
 },
 "nbformat": 4,
 "nbformat_minor": 5
}
