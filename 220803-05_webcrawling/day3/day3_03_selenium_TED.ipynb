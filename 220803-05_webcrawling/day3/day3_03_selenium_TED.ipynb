{
 "cells": [
  {
   "cell_type": "markdown",
   "id": "ada7612e-634e-401e-bcaa-4fe88b88f296",
   "metadata": {},
   "source": [
    "### 텍스터 데이터 수집\n",
    "- TED 사이트 : https://www.ted.com/talks"
   ]
  },
  {
   "cell_type": "code",
   "execution_count": 2,
   "id": "f5cdf538-b5ca-4d3e-90c2-2e387ef36012",
   "metadata": {},
   "outputs": [],
   "source": [
    "from selenium import webdriver\n",
    "from selenium.webdriver.common.by import By"
   ]
  },
  {
   "cell_type": "code",
   "execution_count": 17,
   "id": "4ab07087-72de-4047-b8c3-cdfa5515e4c5",
   "metadata": {},
   "outputs": [],
   "source": [
    "# 1. 브라우저 열기\n",
    "driver = webdriver.Chrome()"
   ]
  },
  {
   "cell_type": "code",
   "execution_count": 18,
   "id": "eedab2a8-8620-4a83-910d-6bb6c2afc7ef",
   "metadata": {},
   "outputs": [],
   "source": [
    "# 2. 페이지 이동\n",
    "driver.get(\"https://www.ted.com/talks\")"
   ]
  },
  {
   "cell_type": "code",
   "execution_count": 5,
   "id": "76170650-0c8c-4a43-b2ca-2c001e3348dc",
   "metadata": {},
   "outputs": [
    {
     "data": {
      "text/plain": [
       "'Join TED Recommends to get the best ideas, selected just for you'"
      ]
     },
     "execution_count": 5,
     "metadata": {},
     "output_type": "execute_result"
    }
   ],
   "source": [
    "# 3. 제목 데이터 텍스트 수집\n",
    "sub_title = driver.find_element(By.CSS_SELECTOR, '#banner-secondary').text\n",
    "sub_title"
   ]
  },
  {
   "cell_type": "code",
   "execution_count": 6,
   "id": "8901c731-9e0f-4b3e-8b54-9e3a5cd2c192",
   "metadata": {},
   "outputs": [],
   "source": [
    "# 4. select box에서 '한국어' 메뉴 선택\n",
    "#languages > optgroup > [lang=\"ko\"] or #languages [lang=\"ko\"]\n",
    "driver.find_element(By.CSS_SELECTOR, '#languages [lang=\"ko\"]').click()"
   ]
  },
  {
   "cell_type": "code",
   "execution_count": 8,
   "id": "d2b1b657-ad89-42cc-8a10-c7e3468af1db",
   "metadata": {},
   "outputs": [],
   "source": [
    "# 5. 전체 데이터의 제목과 링크 데이터 수집\n",
    "elements = driver.find_elements(By.CSS_SELECTOR, '#browse-results > .row > div')"
   ]
  },
  {
   "cell_type": "code",
   "execution_count": 12,
   "id": "acc846f7-7d0e-4c55-b2c2-ff233f56611c",
   "metadata": {},
   "outputs": [
    {
     "data": {
      "text/plain": [
       "('스페인어의 역사 - 일란 스타반스(Ilan Stavans)',\n",
       " 'https://www.ted.com/talks/ilan_stavans_a_brief_history_of_spanish?language=ko')"
      ]
     },
     "execution_count": 12,
     "metadata": {},
     "output_type": "execute_result"
    }
   ],
   "source": [
    "element = elements[0]\n",
    "title = element.find_element(By.CSS_SELECTOR, \"h4 > .ga-link\").text\n",
    "link = element.find_element(By.CSS_SELECTOR, \"h4 > .ga-link\").get_attribute(\"href\") # BeautifulSoup 에서는 get(\"href\")\n",
    "title, link"
   ]
  },
  {
   "cell_type": "code",
   "execution_count": 13,
   "id": "f7c3c67f-0309-4709-8d47-67557fa378b0",
   "metadata": {},
   "outputs": [
    {
     "data": {
      "text/html": [
       "<div>\n",
       "<style scoped>\n",
       "    .dataframe tbody tr th:only-of-type {\n",
       "        vertical-align: middle;\n",
       "    }\n",
       "\n",
       "    .dataframe tbody tr th {\n",
       "        vertical-align: top;\n",
       "    }\n",
       "\n",
       "    .dataframe thead th {\n",
       "        text-align: right;\n",
       "    }\n",
       "</style>\n",
       "<table border=\"1\" class=\"dataframe\">\n",
       "  <thead>\n",
       "    <tr style=\"text-align: right;\">\n",
       "      <th></th>\n",
       "      <th>title</th>\n",
       "      <th>link</th>\n",
       "    </tr>\n",
       "  </thead>\n",
       "  <tbody>\n",
       "    <tr>\n",
       "      <th>34</th>\n",
       "      <td>두려움을 극복하기 위한 올림픽 챔피언의 사고방식</td>\n",
       "      <td>https://www.ted.com/talks/allyson_felix_an_oly...</td>\n",
       "    </tr>\n",
       "    <tr>\n",
       "      <th>35</th>\n",
       "      <td>바퀴벌레를 없애는 것은 왜 이렇게 어려울까요? - 아메야 곤달레카르</td>\n",
       "      <td>https://www.ted.com/talks/ameya_gondhalekar_wh...</td>\n",
       "    </tr>\n",
       "  </tbody>\n",
       "</table>\n",
       "</div>"
      ],
      "text/plain": [
       "                                    title  \\\n",
       "34             두려움을 극복하기 위한 올림픽 챔피언의 사고방식   \n",
       "35  바퀴벌레를 없애는 것은 왜 이렇게 어려울까요? - 아메야 곤달레카르   \n",
       "\n",
       "                                                 link  \n",
       "34  https://www.ted.com/talks/allyson_felix_an_oly...  \n",
       "35  https://www.ted.com/talks/ameya_gondhalekar_wh...  "
      ]
     },
     "execution_count": 13,
     "metadata": {},
     "output_type": "execute_result"
    }
   ],
   "source": [
    "# 6. 데이터 프레임으로 만들기\n",
    "data = []\n",
    "for element in elements:\n",
    "    data.append({\n",
    "        \"title\" : element.find_element(By.CSS_SELECTOR, \"h4 > .ga-link\").text,\n",
    "        \"link\" : element.find_element(By.CSS_SELECTOR, \"h4 > .ga-link\").get_attribute(\"href\"),\n",
    "    })\n",
    "df = pd.DataFrame(data)\n",
    "df.tail(2)"
   ]
  },
  {
   "cell_type": "code",
   "execution_count": 19,
   "id": "efc95d8f-6623-4ec9-a9c9-5e5a0dc05107",
   "metadata": {},
   "outputs": [],
   "source": [
    "driver.quit()"
   ]
  },
  {
   "cell_type": "markdown",
   "id": "56fb1f8b-3ce1-4e76-9569-6ab3be3e2f9f",
   "metadata": {},
   "source": [
    "#### Headless\n",
    "- 브라우저를 화면에 띄우지 않고 메모리 상에서만 브라우저를 실행하여 크롤링하는 방법\n",
    "- window가 지원되지 않는 환경에서 selenium 사용 가능\n",
    "- 크롬 버전 : 60 이상부터 지원"
   ]
  },
  {
   "cell_type": "code",
   "execution_count": 16,
   "id": "14fcc782-e734-4ffe-b135-bf2398115284",
   "metadata": {},
   "outputs": [
    {
     "data": {
      "text/plain": [
       "'104.0.5112.81'"
      ]
     },
     "execution_count": 16,
     "metadata": {},
     "output_type": "execute_result"
    }
   ],
   "source": [
    "# 크롬 버전 확인\n",
    "driver = webdriver.Chrome()\n",
    "version = driver.capabilities[\"browserVersion\"]\n",
    "driver.quit()\n",
    "version"
   ]
  },
  {
   "cell_type": "code",
   "execution_count": 22,
   "id": "9f8ad733-8bcd-4eac-b65e-7099e4a5022b",
   "metadata": {},
   "outputs": [
    {
     "data": {
      "text/plain": [
       "'Join TED Recommends to get the best ideas, selected just for you'"
      ]
     },
     "execution_count": 22,
     "metadata": {},
     "output_type": "execute_result"
    }
   ],
   "source": [
    "driver = webdriver.Chrome() # 서버 컴퓨터의 경우 윈도우같은 os가 없기 때문에 여기에서 오류가 발생함.\n",
    "driver.get(\"https://www.ted.com/talks\")\n",
    "sub_title = driver.find_element(By.CSS_SELECTOR, '#banner-secondary').text\n",
    "driver.quit()\n",
    "sub_title"
   ]
  },
  {
   "cell_type": "code",
   "execution_count": 24,
   "id": "f603a41f-359a-41e0-b11a-2ec3409f4733",
   "metadata": {},
   "outputs": [
    {
     "data": {
      "text/plain": [
       "'Join TED Recommends to get the best ideas, selected just for you'"
      ]
     },
     "execution_count": 24,
     "metadata": {},
     "output_type": "execute_result"
    }
   ],
   "source": [
    "options = webdriver.ChromeOptions()\n",
    "options.add_argument(\"headless\")\n",
    "\n",
    "driver = webdriver.Chrome(options=options)\n",
    "# headless를 사용하여도 속도나 메모리의 이득은 없음.\n",
    "\n",
    "driver.get(\"https://www.ted.com/talks\")\n",
    "sub_title = driver.find_element(By.CSS_SELECTOR, '#banner-secondary').text\n",
    "driver.quit()\n",
    "\n",
    "sub_title"
   ]
  },
  {
   "cell_type": "code",
   "execution_count": null,
   "id": "46665794-7ff2-4fa8-8f28-3848f7dad6d2",
   "metadata": {},
   "outputs": [],
   "source": []
  },
  {
   "cell_type": "code",
   "execution_count": null,
   "id": "cd437b18-8646-4d56-8b1a-4ac15186e593",
   "metadata": {},
   "outputs": [],
   "source": []
  },
  {
   "cell_type": "code",
   "execution_count": null,
   "id": "f8214d3d-d2e2-4cf2-9dce-b69507aeea42",
   "metadata": {},
   "outputs": [],
   "source": []
  },
  {
   "cell_type": "code",
   "execution_count": null,
   "id": "7a8bb5a8-3946-4107-8529-91bfcbd509c9",
   "metadata": {},
   "outputs": [],
   "source": []
  },
  {
   "cell_type": "code",
   "execution_count": null,
   "id": "94976cca-cfef-4c1d-9d4b-8330c3eccee8",
   "metadata": {},
   "outputs": [],
   "source": []
  },
  {
   "cell_type": "code",
   "execution_count": null,
   "id": "be55eb58-8f05-457e-b1aa-79dca68220b3",
   "metadata": {},
   "outputs": [],
   "source": []
  },
  {
   "cell_type": "code",
   "execution_count": null,
   "id": "31df9bba-415f-477b-8ebe-0cadc93da492",
   "metadata": {},
   "outputs": [],
   "source": []
  },
  {
   "cell_type": "code",
   "execution_count": null,
   "id": "983b079b-8bfc-4f4f-9489-c333d081c57b",
   "metadata": {},
   "outputs": [],
   "source": []
  },
  {
   "cell_type": "code",
   "execution_count": null,
   "id": "c513c78b-2ec4-434f-a677-0e37b83cfac5",
   "metadata": {},
   "outputs": [],
   "source": []
  }
 ],
 "metadata": {
  "kernelspec": {
   "display_name": "Python 3 (ipykernel)",
   "language": "python",
   "name": "python3"
  },
  "language_info": {
   "codemirror_mode": {
    "name": "ipython",
    "version": 3
   },
   "file_extension": ".py",
   "mimetype": "text/x-python",
   "name": "python",
   "nbconvert_exporter": "python",
   "pygments_lexer": "ipython3",
   "version": "3.9.12"
  }
 },
 "nbformat": 4,
 "nbformat_minor": 5
}
