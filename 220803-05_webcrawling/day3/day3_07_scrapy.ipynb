{
 "cells": [
  {
   "cell_type": "markdown",
   "id": "d84fd391-55b9-46fa-93e5-2846ba9b2eb7",
   "metadata": {},
   "source": [
    "### scrapy\n",
    "- 비동기 방식으로 데이터를 수집 > 데이터 수집 속도가 빠름"
   ]
  },
  {
   "cell_type": "code",
   "execution_count": 2,
   "id": "68171e8d-094e-4014-8f6a-fea76fcbd3fd",
   "metadata": {},
   "outputs": [],
   "source": [
    "import scrapy, requests\n",
    "from scrapy.http import TextResponse"
   ]
  },
  {
   "cell_type": "code",
   "execution_count": 3,
   "id": "031c3cad-5728-492a-a012-4c79bc92906a",
   "metadata": {},
   "outputs": [],
   "source": [
    "# Gmarket 베스트 200 상품 데이터 수집"
   ]
  },
  {
   "cell_type": "code",
   "execution_count": null,
   "id": "3f95f17a-12b1-475f-abdd-06b1bfe6cbb5",
   "metadata": {},
   "outputs": [],
   "source": [
    "# 1. scrapy project 생성"
   ]
  },
  {
   "cell_type": "code",
   "execution_count": 4,
   "id": "f75504bc-bf2c-4bbb-8232-30d0fcf2385a",
   "metadata": {},
   "outputs": [
    {
     "name": "stdout",
     "output_type": "stream",
     "text": [
      "New Scrapy project 'gmarket', using template directory 'D:\\Anaconda\\lib\\site-packages\\scrapy\\templates\\project', created in:\n",
      "    C:\\Users\\ferro\\Jupyters\\0803-05_webcrawling\\day3\\gmarket\n",
      "\n",
      "You can start your first spider with:\n",
      "    cd gmarket\n",
      "    scrapy genspider example example.com\n"
     ]
    }
   ],
   "source": [
    "!scrapy startproject gmarket\n",
    "# !scrapy startproject (프로젝트 이름)"
   ]
  },
  {
   "cell_type": "code",
   "execution_count": 5,
   "id": "c0b232e4-00dd-47ea-8534-15b211805b0b",
   "metadata": {},
   "outputs": [
    {
     "name": "stdout",
     "output_type": "stream",
     "text": [
      "폴더 PATH의 목록입니다.\n",
      "볼륨 일련 번호가 0000003D B4CB:64AF입니다.\n",
      "C:\\USERS\\FERRO\\JUPYTERS\\0803-05_WEBCRAWLING\\DAY3\\GMARKET\n",
      "│  scrapy.cfg\n",
      "│  \n",
      "└─gmarket\n",
      "    │  items.py\n",
      "    │  middlewares.py\n",
      "    │  pipelines.py\n",
      "    │  settings.py\n",
      "    │  __init__.py\n",
      "    │  \n",
      "    └─spiders\n",
      "            __init__.py\n",
      "            \n"
     ]
    }
   ],
   "source": [
    "!tree gmarket /f"
   ]
  },
  {
   "cell_type": "code",
   "execution_count": null,
   "id": "ab79e9b4-6819-4123-a1e0-bfd3a69fa2ce",
   "metadata": {},
   "outputs": [],
   "source": [
    "# items.py : 수집할 데이터의 구조 정의\n",
    "# middlewares.py : 데이터를 수집할 때 headers 정보와 같은 내용을 설정.\n",
    "# pipelines.py : 데이터를 수집한 후에 코드 실행 정의\n",
    "# settings.py : 크롤링 설정 : 크롤링 시간 텀, robots.txt 규칙\n",
    "# spiders : 디렉토리 : 크롤링 절차 정의"
   ]
  },
  {
   "cell_type": "code",
   "execution_count": null,
   "id": "891bf3b5-7484-431a-a326-48e4a93d6054",
   "metadata": {},
   "outputs": [],
   "source": [
    "# 2. xpath 찾기 : 링크, 상세 페이지의 데이터"
   ]
  },
  {
   "cell_type": "code",
   "execution_count": null,
   "id": "2f703d91-7d1c-453e-a013-dacff85e8dcf",
   "metadata": {},
   "outputs": [],
   "source": [
    "# 링크 데이터 수집"
   ]
  },
  {
   "cell_type": "code",
   "execution_count": 10,
   "id": "01426128-1469-41dc-ba23-db801795ce47",
   "metadata": {},
   "outputs": [],
   "source": [
    "request = requests.get('http://corners.gmarket.co.kr/Bestsellers')\n",
    "response = TextResponse(request.url, body=request.text, encoding=\"utf-8\")"
   ]
  },
  {
   "cell_type": "code",
   "execution_count": 15,
   "id": "f19c4e34-f8b3-4ce8-9cfa-9c70cac38294",
   "metadata": {},
   "outputs": [
    {
     "data": {
      "text/plain": [
       "[<Selector xpath='//*[@id=\"gBestWrap\"]/div/div[3]/div/ul/li/a/@href' data='http://item.gmarket.co.kr/Item?goodsc...'>,\n",
       " <Selector xpath='//*[@id=\"gBestWrap\"]/div/div[3]/div/ul/li/a/@href' data='http://item.gmarket.co.kr/Item?goodsc...'>]"
      ]
     },
     "execution_count": 15,
     "metadata": {},
     "output_type": "execute_result"
    }
   ],
   "source": [
    "response.xpath('//*[@id=\"gBestWrap\"]/div/div[3]/div/ul/li/a/@href')[:2]"
   ]
  },
  {
   "cell_type": "code",
   "execution_count": 16,
   "id": "a1c8e325-8b63-45e2-9904-1ea9fb0b0b18",
   "metadata": {},
   "outputs": [
    {
     "data": {
      "text/plain": [
       "['http://item.gmarket.co.kr/Item?goodscode=2519604129&ver=637953126826223412',\n",
       " 'http://item.gmarket.co.kr/Item?goodscode=2520466046&ver=637953126826223412']"
      ]
     },
     "execution_count": 16,
     "metadata": {},
     "output_type": "execute_result"
    }
   ],
   "source": [
    "links = response.xpath('//*[@id=\"gBestWrap\"]/div/div[3]/div/ul/li/a/@href').extract()\n",
    "links[:2]"
   ]
  },
  {
   "cell_type": "code",
   "execution_count": null,
   "id": "6e9a7d98-e22e-4811-b138-ac968e132bf0",
   "metadata": {},
   "outputs": [],
   "source": [
    "# 상세 페이지 데이터 수집"
   ]
  },
  {
   "cell_type": "code",
   "execution_count": 22,
   "id": "63d08ebb-08ee-455d-8f76-58085436632b",
   "metadata": {},
   "outputs": [],
   "source": [
    "link = links[0]\n",
    "request = requests.get(link)\n",
    "response = TextResponse(request.url, body=request.text, encoding=\"utf-8\")"
   ]
  },
  {
   "cell_type": "code",
   "execution_count": 24,
   "id": "c1cae69f-d689-41b9-9c83-ec1ce9032246",
   "metadata": {},
   "outputs": [
    {
     "data": {
      "text/plain": [
       "('브라운 면도기 세정액 CCR5+1 ', '25,030')"
      ]
     },
     "execution_count": 24,
     "metadata": {},
     "output_type": "execute_result"
    }
   ],
   "source": [
    "title = response.xpath('//*[@id=\"itemcase_basic\"]/div/h1/text()')[0].extract()\n",
    "price = response.xpath('//*[@id=\"itemcase_basic\"]/div/p/span/strong/text()')[0].extract()\n",
    "title, price"
   ]
  },
  {
   "cell_type": "code",
   "execution_count": null,
   "id": "8a1b1e48-a8ce-4571-bcc7-8306feea2b7d",
   "metadata": {},
   "outputs": [],
   "source": [
    "# 3. items.py : 코드 작성 : model(데이터의 구조: 수집할 데이터의 컬럼을 정의)"
   ]
  },
  {
   "cell_type": "code",
   "execution_count": 27,
   "id": "ebb83401-f7d4-4b1b-b627-7b390a3ed2db",
   "metadata": {},
   "outputs": [
    {
     "name": "stdout",
     "output_type": "stream",
     "text": [
      "Overwriting gmarket/gmarket/items.py\n"
     ]
    }
   ],
   "source": [
    "%%writefile gmarket/gmarket/items.py\n",
    "import scrapy\n",
    "\n",
    "class GmarketItem(scrapy.Item):\n",
    "    title = scrapy.Field()\n",
    "    price = scrapy.Field()\n",
    "    link = scrapy.Field()"
   ]
  },
  {
   "cell_type": "code",
   "execution_count": null,
   "id": "2d90c8a6-d86d-4d2d-a94a-fd785e5cff7f",
   "metadata": {},
   "outputs": [],
   "source": [
    "# 4. spider.py : 코드 작성 : 크롤링 절차 정의"
   ]
  },
  {
   "cell_type": "code",
   "execution_count": 28,
   "id": "42f6bd23-48b2-4c67-8d1a-a71f022c3193",
   "metadata": {},
   "outputs": [
    {
     "name": "stdout",
     "output_type": "stream",
     "text": [
      "Writing gmarket/gmarket/spiders/spider.py\n"
     ]
    }
   ],
   "source": [
    "%%writefile gmarket/gmarket/spiders/spider.py\n",
    "import scrapy\n",
    "from gmarket.items import GmarketItem\n",
    "\n",
    "class GMSpider(scrapy.Spider):\n",
    "    name = \"GMB\"\n",
    "    allow_domain = [\"gmarket.co.kr\"] # 수집할 웹 데이터의 도메인.\n",
    "    start_urls = [\"http://corners.gmarket.co.kr/Bestsellers\"] # 최초의 request url\n",
    "    # request를 알아서 실행시켜준다.\n",
    "    def parse(self, response): # 비동기 방법으로 실행됨.\n",
    "        links = response.xpath('//*[@id=\"gBestWrap\"]/div/div[3]/div/ul/li/a/@href').extract()\n",
    "        for link in links[:20]:\n",
    "            yield scrapy.Request(link, callback=self.parse_content)\n",
    "    \n",
    "    def parse_content(self, response):\n",
    "        item = GmarketItem()\n",
    "        item[\"title\"] = response.xpath('//*[@id=\"itemcase_basic\"]/div[1]/h1/text()')[0].extract()\n",
    "        item[\"price\"] = response.xpath('//*[@id=\"itemcase_basic\"]/div[1]/p/span/strong/text()')[0].extract()\n",
    "        item[\"link\"] = response.url\n",
    "        yield item"
   ]
  },
  {
   "cell_type": "code",
   "execution_count": null,
   "id": "a76473da-7141-4d40-a222-bf10f987a048",
   "metadata": {},
   "outputs": [],
   "source": [
    "# 5. scrapy project 실행\n",
    "# gmarket\n",
    "# scrapy crawl GMB -o items.csv"
   ]
  },
  {
   "cell_type": "code",
   "execution_count": 29,
   "id": "4215cb1d-11ec-4944-8aef-7fe7f48ca664",
   "metadata": {},
   "outputs": [
    {
     "data": {
      "text/plain": [
       "'C:\\\\Users\\\\ferro\\\\Jupyters\\\\0803-05_webcrawling\\\\day3'"
      ]
     },
     "execution_count": 29,
     "metadata": {},
     "output_type": "execute_result"
    }
   ],
   "source": [
    "%pwd"
   ]
  },
  {
   "cell_type": "code",
   "execution_count": null,
   "id": "86f24c3d-fcf5-4740-8d1f-287f587701c1",
   "metadata": {},
   "outputs": [],
   "source": [
    "# terminal에서 실행시키고 다시 오기.\n",
    "# 결과는 times.csv에 저장되어 있을 것이다."
   ]
  },
  {
   "cell_type": "code",
   "execution_count": 30,
   "id": "2f3242b7-d606-4a04-907a-b28c09c0865c",
   "metadata": {},
   "outputs": [
    {
     "data": {
      "text/html": [
       "<div>\n",
       "<style scoped>\n",
       "    .dataframe tbody tr th:only-of-type {\n",
       "        vertical-align: middle;\n",
       "    }\n",
       "\n",
       "    .dataframe tbody tr th {\n",
       "        vertical-align: top;\n",
       "    }\n",
       "\n",
       "    .dataframe thead th {\n",
       "        text-align: right;\n",
       "    }\n",
       "</style>\n",
       "<table border=\"1\" class=\"dataframe\">\n",
       "  <thead>\n",
       "    <tr style=\"text-align: right;\">\n",
       "      <th></th>\n",
       "      <th>link</th>\n",
       "      <th>price</th>\n",
       "      <th>title</th>\n",
       "    </tr>\n",
       "  </thead>\n",
       "  <tbody>\n",
       "    <tr>\n",
       "      <th>18</th>\n",
       "      <td>http://item.gmarket.co.kr/Item?goodscode=25204...</td>\n",
       "      <td>28,800</td>\n",
       "      <td>(롯데백화점)남여공용 디스럽터 테이피 테잎 _ FS1HTB1091X</td>\n",
       "    </tr>\n",
       "    <tr>\n",
       "      <th>19</th>\n",
       "      <td>http://item.gmarket.co.kr/Item?goodscode=23495...</td>\n",
       "      <td>71,000</td>\n",
       "      <td>별똥별_NEW 야물야물 그림책 (전20권)</td>\n",
       "    </tr>\n",
       "  </tbody>\n",
       "</table>\n",
       "</div>"
      ],
      "text/plain": [
       "                                                 link   price  \\\n",
       "18  http://item.gmarket.co.kr/Item?goodscode=25204...  28,800   \n",
       "19  http://item.gmarket.co.kr/Item?goodscode=23495...  71,000   \n",
       "\n",
       "                                     title  \n",
       "18  (롯데백화점)남여공용 디스럽터 테이피 테잎 _ FS1HTB1091X   \n",
       "19                별똥별_NEW 야물야물 그림책 (전20권)   "
      ]
     },
     "execution_count": 30,
     "metadata": {},
     "output_type": "execute_result"
    }
   ],
   "source": [
    "pd.read_csv(\"gmarket/items.csv\").tail(2)"
   ]
  }
 ],
 "metadata": {
  "kernelspec": {
   "display_name": "Python 3 (ipykernel)",
   "language": "python",
   "name": "python3"
  },
  "language_info": {
   "codemirror_mode": {
    "name": "ipython",
    "version": 3
   },
   "file_extension": ".py",
   "mimetype": "text/x-python",
   "name": "python",
   "nbconvert_exporter": "python",
   "pygments_lexer": "ipython3",
   "version": "3.9.12"
  }
 },
 "nbformat": 4,
 "nbformat_minor": 5
}
