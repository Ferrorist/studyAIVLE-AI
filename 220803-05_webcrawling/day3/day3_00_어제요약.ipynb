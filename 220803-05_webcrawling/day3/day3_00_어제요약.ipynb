{
 "cells": [
  {
   "cell_type": "markdown",
   "id": "aff26c64-1aed-4a34-8fa6-002de79457b8",
   "metadata": {},
   "source": [
    "### summary\n",
    "- 웹 서비스의 구조\n",
    "- 웹 페이지의 종류\n",
    "    - 동적 페이지\n",
    "        - URL 변경 없이 데이터를 수정\n",
    "        - 서버에서 json방식의 데이터를 받음.\n",
    "        - API를 사용하여 json 데이터를 받아올 수 있다.\n",
    "    - 정적 페이지\n",
    "        - URL을 변경하여 데이터를 수정\n",
    "        - 서버에서 html방식의 데이터를 받음.\n",
    "        - BeautifulSoup, css selector를 활용하여 데이터를 수집할 수 있다.\n",
    "    - BeautifulSoup\n",
    "        - select()\n",
    "        - select_one()\n",
    "    - html\n",
    "        - 웹페이지에서 레이아웃, 텍스트 등의 데이터를 작성하는 언어\n",
    "        - 구성 요소 : Document, element, tag, attr, text\n",
    "        - element 계층적 구조\n",
    "        - tag 종류\n",
    "            - p\n",
    "            - span\n",
    "            - ul, li\n",
    "            - table\n",
    "            - a\n",
    "            - img\n",
    "            - iframe\n",
    "            - div\n",
    "    - css selector\n",
    "        - html의 element에 style을 적용시킬 때  element를 선택하는 방법\n",
    "        - element를 선택하는 방법.\n",
    "            - tag 이름(span)\n",
    "            - class(.)\n",
    "            - id(#)\n",
    "            - attr([value=\"no1\"])\n",
    "        - n번째 element 선택.\n",
    "            - .py:nth-child(2) : 2번째 선택.\n",
    "                - nth-child(2) > .py으로 생각해야 한다. : 2번째 element중에 클래스가 py인 엘리먼트\n",
    "        - 계층적 element 선택.\n",
    "            - 모든 하위 엘리먼트 선택(.wrap p)\n",
    "            - 한 단계 하위 엘리먼트 선택(.wrap > p)\n",
    "            - 여러 개 선택(.no1, .no2)"
   ]
  }
 ],
 "metadata": {
  "kernelspec": {
   "display_name": "Python 3 (ipykernel)",
   "language": "python",
   "name": "python3"
  },
  "language_info": {
   "codemirror_mode": {
    "name": "ipython",
    "version": 3
   },
   "file_extension": ".py",
   "mimetype": "text/x-python",
   "name": "python",
   "nbconvert_exporter": "python",
   "pygments_lexer": "ipython3",
   "version": "3.9.12"
  }
 },
 "nbformat": 4,
 "nbformat_minor": 5
}
