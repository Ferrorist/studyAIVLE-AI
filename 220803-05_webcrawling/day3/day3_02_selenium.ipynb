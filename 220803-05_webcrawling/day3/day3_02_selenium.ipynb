{
 "cells": [
  {
   "cell_type": "markdown",
   "id": "6b392300-b0c6-4b92-bf90-587a29e0951a",
   "metadata": {},
   "source": [
    "### selenium\n",
    "- 브라우저의 자동화 목적으로 만들어진 다양한 브라우저와 언어를 지원하는 라이브러리\n",
    "- 브라우저를 파이썬 코드로 컨트롤해서 브라우저에 있는 데이터를 수집\n",
    "- 단점 : 직접 부르는 것보다 속도가 느림\n",
    "- 실제 브라우저를 사용하기 때문에 브라우저가 아닌 환경에서 막힌 경우를 해결할 수 있다."
   ]
  },
  {
   "cell_type": "markdown",
   "id": "3862aa05-25da-4383-ad05-a18473e1f376",
   "metadata": {},
   "source": [
    "### 크롤링 방법\n",
    "- 1. requests: json : 웹페이지의 API 트래픽을 분석해서 데이터 수집 : naver stock\n",
    "- 2. requests : json : 공식적으로 제공하는 API를 application key 받아서 데이터 수집 : naver api(papago, naveer trend)\n",
    "- 3. requests : html : BeautifulSoup(css selector) : 웹 페이지의 html 코드를 받아서 데이터를 수집 : gmarket\n",
    "- 4. selenium : browser - python : 브라우저를 파이썬 코드로 컨트롤 해서 데이터 수집 : ted\n",
    "- 크롤링할 때 좋은 순서 : 2 > 1 > 3 > 4"
   ]
  },
  {
   "cell_type": "markdown",
   "id": "67768095-0592-42bb-b171-57021bdbb2d3",
   "metadata": {},
   "source": [
    "### 환경설정\n",
    "- 크롬(chrome) 브라우저 설치\n",
    "- 크롬 브라우저 드라이버 다운로드(chrome driver) : 크롬 브라우저와 같은 버전 : 크롬 브라우저와 파이썬 코드 연결\n",
    "- selenium 패키지 설치\n",
    "- opt. : 크롬 브라우저의 드라이버 파일을 환경변수로 등록하면 조금 쉽게 사용"
   ]
  },
  {
   "cell_type": "code",
   "execution_count": 5,
   "id": "19d658ec-5e72-46c3-b2fb-dbaafcbaf971",
   "metadata": {},
   "outputs": [
    {
     "name": "stdout",
     "output_type": "stream",
     "text": [
      "Requirement already satisfied: selenium in d:\\anaconda\\lib\\site-packages (4.3.0)\n",
      "Requirement already satisfied: trio~=0.17 in d:\\anaconda\\lib\\site-packages (from selenium) (0.21.0)\n",
      "Requirement already satisfied: urllib3[secure,socks]~=1.26 in d:\\anaconda\\lib\\site-packages (from selenium) (1.26.9)\n",
      "Requirement already satisfied: trio-websocket~=0.9 in d:\\anaconda\\lib\\site-packages (from selenium) (0.9.2)\n",
      "Requirement already satisfied: idna in d:\\anaconda\\lib\\site-packages (from trio~=0.17->selenium) (3.3)\n",
      "Requirement already satisfied: attrs>=19.2.0 in d:\\anaconda\\lib\\site-packages (from trio~=0.17->selenium) (21.4.0)\n",
      "Requirement already satisfied: sortedcontainers in d:\\anaconda\\lib\\site-packages (from trio~=0.17->selenium) (2.4.0)\n",
      "Requirement already satisfied: sniffio in d:\\anaconda\\lib\\site-packages (from trio~=0.17->selenium) (1.2.0)\n",
      "Requirement already satisfied: async-generator>=1.9 in d:\\anaconda\\lib\\site-packages (from trio~=0.17->selenium) (1.10)\n",
      "Requirement already satisfied: outcome in d:\\anaconda\\lib\\site-packages (from trio~=0.17->selenium) (1.2.0)\n",
      "Requirement already satisfied: cffi>=1.14 in d:\\anaconda\\lib\\site-packages (from trio~=0.17->selenium) (1.15.0)\n",
      "Requirement already satisfied: pycparser in d:\\anaconda\\lib\\site-packages (from cffi>=1.14->trio~=0.17->selenium) (2.21)\n",
      "Requirement already satisfied: wsproto>=0.14 in d:\\anaconda\\lib\\site-packages (from trio-websocket~=0.9->selenium) (1.1.0)\n",
      "Requirement already satisfied: PySocks!=1.5.7,<2.0,>=1.5.6 in d:\\anaconda\\lib\\site-packages (from urllib3[secure,socks]~=1.26->selenium) (1.7.1)\n",
      "Requirement already satisfied: pyOpenSSL>=0.14 in d:\\anaconda\\lib\\site-packages (from urllib3[secure,socks]~=1.26->selenium) (21.0.0)\n",
      "Requirement already satisfied: cryptography>=1.3.4 in d:\\anaconda\\lib\\site-packages (from urllib3[secure,socks]~=1.26->selenium) (3.4.8)\n",
      "Requirement already satisfied: certifi in d:\\anaconda\\lib\\site-packages (from urllib3[secure,socks]~=1.26->selenium) (2021.10.8)\n",
      "Requirement already satisfied: six>=1.5.2 in d:\\anaconda\\lib\\site-packages (from pyOpenSSL>=0.14->urllib3[secure,socks]~=1.26->selenium) (1.16.0)\n",
      "Requirement already satisfied: h11<1,>=0.9.0 in d:\\anaconda\\lib\\site-packages (from wsproto>=0.14->trio-websocket~=0.9->selenium) (0.13.0)\n"
     ]
    }
   ],
   "source": [
    "# !pip install selenium\n",
    "# ! : os에서 실행되는 시스템 명령어"
   ]
  },
  {
   "cell_type": "code",
   "execution_count": 6,
   "id": "5a490797-9171-445a-8428-83f73910d802",
   "metadata": {},
   "outputs": [],
   "source": [
    "from selenium import webdriver\n",
    "from selenium.webdriver.common.by import By"
   ]
  },
  {
   "cell_type": "code",
   "execution_count": 25,
   "id": "b4ec0a42-61f2-40c3-8751-586e174f13a1",
   "metadata": {},
   "outputs": [],
   "source": [
    "# 1. 브라우저 띄우기\n",
    "driver = webdriver.Chrome()"
   ]
  },
  {
   "cell_type": "code",
   "execution_count": 26,
   "id": "52fed42f-8d6b-4a9f-942c-ca49d886c7fb",
   "metadata": {},
   "outputs": [],
   "source": [
    "# 2. 페이지 이동\n",
    "driver.get(\"https://daum.net\")"
   ]
  },
  {
   "cell_type": "code",
   "execution_count": 14,
   "id": "a15e7478-0ad8-4e93-845d-508899c781f7",
   "metadata": {},
   "outputs": [],
   "source": [
    "# 3. 브라우저 사이즈 조정\n",
    "driver.set_window_size(1280,720)\n",
    "# 참고 : 해당 브라우저는 우리가 조정하지 않는 것이 좋다."
   ]
  },
  {
   "cell_type": "code",
   "execution_count": 16,
   "id": "269c4fd9-2ca4-4080-88a6-396c732b693c",
   "metadata": {},
   "outputs": [],
   "source": [
    "# 4. 브라우저 스크롤 조절(자바스크립트 코드 실행)\n",
    "driver.execute_script(\"window.scrollTo(200,300);\")"
   ]
  },
  {
   "cell_type": "code",
   "execution_count": 18,
   "id": "79c276b6-2d97-468f-9f8a-e33cddb71b34",
   "metadata": {},
   "outputs": [],
   "source": [
    "# 5. alert 다루기\n",
    "driver.execute_script(\"alert('hello selenium!');\") # alert 생성"
   ]
  },
  {
   "cell_type": "code",
   "execution_count": 19,
   "id": "72eb2865-cf0a-4cdd-8a9b-4ec3b598a31e",
   "metadata": {},
   "outputs": [],
   "source": [
    "alert = driver.switch_to.alert\n",
    "alert.accept() # alert 제거"
   ]
  },
  {
   "cell_type": "code",
   "execution_count": 20,
   "id": "db0f2815-6a32-4494-907c-28ac7747e0d2",
   "metadata": {},
   "outputs": [],
   "source": [
    "driver.execute_script(\"window.scrollTo(0,0);\")"
   ]
  },
  {
   "cell_type": "code",
   "execution_count": 27,
   "id": "405509f9-fb06-4d5a-9204-c69e47a39aca",
   "metadata": {},
   "outputs": [],
   "source": [
    "# 6. input 창에 문자열 입력\n",
    "driver.find_element(By.CSS_SELECTOR, \"#q\").send_keys(\"파이썬\")\n",
    "# '#q' 의 경우, 다른 브라우저를 열어서 css selector로 찾은 것임."
   ]
  },
  {
   "cell_type": "code",
   "execution_count": 28,
   "id": "b55cf450-662b-4a43-beb2-508765f62e24",
   "metadata": {
    "tags": []
   },
   "outputs": [],
   "source": [
    "# 7. 검색 버튼 클릭\n",
    "driver.find_element(By.CSS_SELECTOR, \".inner_search > .ico_pctop.btn_search\").click()\n",
    "# .ico_pctop.btn_search >> ico_pctop와 btn_search 모두 갖고 있는 element를 선택.\n",
    "# .inner_search > .ico_pctop.btn_search : 계층적 구조로 찾기."
   ]
  },
  {
   "cell_type": "code",
   "execution_count": 29,
   "id": "b7f01fce-bb63-4d94-b8a8-ab99ffe0cfc9",
   "metadata": {},
   "outputs": [],
   "source": [
    "# 8. 브라우저 종료\n",
    "driver.quit()"
   ]
  },
  {
   "cell_type": "code",
   "execution_count": 30,
   "id": "264756d8-0793-43a4-8c77-f945ddd8aa0a",
   "metadata": {},
   "outputs": [],
   "source": [
    "# 브라우저 자동화\n",
    "driver = webdriver.Chrome()\n",
    "driver.get(\"https://daum.net\")\n",
    "driver.set_window_size(1280,720)\n",
    "driver.execute_script(\"window.scrollTo(200,300);\")\n",
    "driver.execute_script(\"alert('hello selenium!');\")\n",
    "alert = driver.switch_to.alert\n",
    "alert.accept()\n",
    "driver.execute_script(\"window.scrollTo(0,0);\")\n",
    "driver.find_element(By.CSS_SELECTOR, \"#q\").send_keys(\"파이썬\")\n",
    "driver.find_element(By.CSS_SELECTOR, \".inner_search > .ico_pctop.btn_search\").click()\n",
    "driver.quit()"
   ]
  },
  {
   "cell_type": "code",
   "execution_count": null,
   "id": "db4b7c66-df34-46b6-a691-554679bd13c9",
   "metadata": {},
   "outputs": [],
   "source": []
  },
  {
   "cell_type": "code",
   "execution_count": null,
   "id": "596e5460-615b-4010-892b-2bf88a76f3ea",
   "metadata": {},
   "outputs": [],
   "source": []
  },
  {
   "cell_type": "code",
   "execution_count": null,
   "id": "7dd25788-051c-4ada-b239-22439e6c7168",
   "metadata": {},
   "outputs": [],
   "source": []
  },
  {
   "cell_type": "code",
   "execution_count": null,
   "id": "8055944a-6972-4b5c-a488-4f88a42092c3",
   "metadata": {},
   "outputs": [],
   "source": []
  },
  {
   "cell_type": "code",
   "execution_count": null,
   "id": "36f9dfe9-2796-4cdf-a389-8be0e0f82024",
   "metadata": {},
   "outputs": [],
   "source": []
  },
  {
   "cell_type": "code",
   "execution_count": null,
   "id": "d5e92586-69ce-4b22-aceb-125f55f1575c",
   "metadata": {},
   "outputs": [],
   "source": []
  },
  {
   "cell_type": "code",
   "execution_count": null,
   "id": "9df01876-b0ac-4afa-bf19-3fb67e8fe57d",
   "metadata": {},
   "outputs": [],
   "source": []
  },
  {
   "cell_type": "code",
   "execution_count": null,
   "id": "b4bbcb92-7b58-4dee-b226-29a90b861be3",
   "metadata": {},
   "outputs": [],
   "source": []
  },
  {
   "cell_type": "code",
   "execution_count": null,
   "id": "29a64e30-e062-4fa2-ad91-1e10a54d7bd0",
   "metadata": {},
   "outputs": [],
   "source": []
  }
 ],
 "metadata": {
  "kernelspec": {
   "display_name": "Python 3 (ipykernel)",
   "language": "python",
   "name": "python3"
  },
  "language_info": {
   "codemirror_mode": {
    "name": "ipython",
    "version": 3
   },
   "file_extension": ".py",
   "mimetype": "text/x-python",
   "name": "python",
   "nbconvert_exporter": "python",
   "pygments_lexer": "ipython3",
   "version": "3.9.12"
  }
 },
 "nbformat": 4,
 "nbformat_minor": 5
}
