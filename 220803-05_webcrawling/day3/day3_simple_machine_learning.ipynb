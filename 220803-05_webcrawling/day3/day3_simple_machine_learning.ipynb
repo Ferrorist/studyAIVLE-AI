{
 "cells": [
  {
   "cell_type": "code",
   "execution_count": 1,
   "id": "b6b97686-3915-4881-9a16-5a25fd09377e",
   "metadata": {},
   "outputs": [],
   "source": [
    "# 간단하게 머신러닝 사용"
   ]
  },
  {
   "cell_type": "code",
   "execution_count": 8,
   "id": "eb76b50d-4287-4d68-bac0-d86989335c76",
   "metadata": {},
   "outputs": [
    {
     "data": {
      "text/html": [
       "<div>\n",
       "<style scoped>\n",
       "    .dataframe tbody tr th:only-of-type {\n",
       "        vertical-align: middle;\n",
       "    }\n",
       "\n",
       "    .dataframe tbody tr th {\n",
       "        vertical-align: top;\n",
       "    }\n",
       "\n",
       "    .dataframe thead th {\n",
       "        text-align: right;\n",
       "    }\n",
       "</style>\n",
       "<table border=\"1\" class=\"dataframe\">\n",
       "  <thead>\n",
       "    <tr style=\"text-align: right;\">\n",
       "      <th></th>\n",
       "      <th>name</th>\n",
       "      <th>gf</th>\n",
       "      <th>ga</th>\n",
       "      <th>points</th>\n",
       "    </tr>\n",
       "  </thead>\n",
       "  <tbody>\n",
       "    <tr>\n",
       "      <th>0</th>\n",
       "      <td>Manchester City</td>\n",
       "      <td>106</td>\n",
       "      <td>27</td>\n",
       "      <td>100</td>\n",
       "    </tr>\n",
       "    <tr>\n",
       "      <th>1</th>\n",
       "      <td>Manchester United</td>\n",
       "      <td>68</td>\n",
       "      <td>28</td>\n",
       "      <td>81</td>\n",
       "    </tr>\n",
       "    <tr>\n",
       "      <th>2</th>\n",
       "      <td>Tottenham Hotspur</td>\n",
       "      <td>74</td>\n",
       "      <td>36</td>\n",
       "      <td>77</td>\n",
       "    </tr>\n",
       "    <tr>\n",
       "      <th>3</th>\n",
       "      <td>Liverpool</td>\n",
       "      <td>84</td>\n",
       "      <td>38</td>\n",
       "      <td>75</td>\n",
       "    </tr>\n",
       "    <tr>\n",
       "      <th>4</th>\n",
       "      <td>Chelsea</td>\n",
       "      <td>62</td>\n",
       "      <td>38</td>\n",
       "      <td>70</td>\n",
       "    </tr>\n",
       "  </tbody>\n",
       "</table>\n",
       "</div>"
      ],
      "text/plain": [
       "                name   gf  ga  points\n",
       "0    Manchester City  106  27     100\n",
       "1  Manchester United   68  28      81\n",
       "2  Tottenham Hotspur   74  36      77\n",
       "3          Liverpool   84  38      75\n",
       "4            Chelsea   62  38      70"
      ]
     },
     "execution_count": 8,
     "metadata": {},
     "output_type": "execute_result"
    }
   ],
   "source": [
    "df = pd.read_csv(\"premierleague.csv\")\n",
    "df.head(5)"
   ]
  },
  {
   "cell_type": "code",
   "execution_count": 5,
   "id": "5da71822-71b1-46f2-976f-1311c7f88ffc",
   "metadata": {},
   "outputs": [],
   "source": [
    "feature = df[[\"gf\", \"ga\"]]\n",
    "target = df[[\"points\"]]"
   ]
  },
  {
   "cell_type": "code",
   "execution_count": 7,
   "id": "242f7c27-bf53-42a4-9df4-d8426426e039",
   "metadata": {},
   "outputs": [],
   "source": [
    "from sklearn.linear_model import LinearRegression\n",
    "model = LinearRegression().fit(feature, target)"
   ]
  },
  {
   "cell_type": "code",
   "execution_count": 14,
   "id": "c83164f8-99b3-471f-9cfb-42af11b76662",
   "metadata": {},
   "outputs": [
    {
     "data": {
      "text/plain": [
       "array([[79.]])"
      ]
     },
     "execution_count": 14,
     "metadata": {},
     "output_type": "execute_result"
    }
   ],
   "source": [
    "# 데이터 예측 : 득접 80, 승점 36\n",
    "np.round(model.predict([[80, 36]]))"
   ]
  },
  {
   "cell_type": "code",
   "execution_count": 13,
   "id": "4aff0139-01a8-4063-aa61-fbe0bbd948df",
   "metadata": {},
   "outputs": [],
   "source": [
    "import warnings\n",
    "warnings.filterwarnings('ignore') # warning 메시지 출력 중단."
   ]
  },
  {
   "cell_type": "code",
   "execution_count": null,
   "id": "4b73b328-bf88-4e00-b9fa-dda0b8b82d03",
   "metadata": {},
   "outputs": [],
   "source": [
    "# 모델 객체를 하드 디스크에 저장하여 사용한다.\n",
    "# 시나리오\n",
    "# data > train(8h) > model(ram) > computer off > model 사라짐.\n",
    "# model > ssd(or hdd)에 저장."
   ]
  },
  {
   "cell_type": "code",
   "execution_count": 15,
   "id": "370b63c5-b735-42a4-bf1b-560c359c2ec0",
   "metadata": {},
   "outputs": [],
   "source": [
    "import pickle # 파이썬"
   ]
  },
  {
   "cell_type": "code",
   "execution_count": 16,
   "id": "a5dc9d44-50b5-4f2c-a228-315ca65a36ae",
   "metadata": {},
   "outputs": [],
   "source": [
    "# ram > ssd\n",
    "with open(\"model.pkl\", \"wb\") as file:\n",
    "    pickle.dump(model, file)"
   ]
  },
  {
   "cell_type": "code",
   "execution_count": null,
   "id": "690edba0-c348-4add-b929-4c60de918ca2",
   "metadata": {},
   "outputs": [],
   "source": [
    "# ssd > ram"
   ]
  },
  {
   "cell_type": "code",
   "execution_count": 18,
   "id": "de1d265a-744c-48ea-b100-9cc2de9f5f69",
   "metadata": {},
   "outputs": [],
   "source": [
    "with open(\"model.pkl\", \"rb\") as file:\n",
    "    load_model = pickle.load(file)"
   ]
  },
  {
   "cell_type": "code",
   "execution_count": 19,
   "id": "d83ae1ed-f205-4c97-8e47-86c232da4f6b",
   "metadata": {},
   "outputs": [
    {
     "data": {
      "text/plain": [
       "array([[79.]])"
      ]
     },
     "execution_count": 19,
     "metadata": {},
     "output_type": "execute_result"
    }
   ],
   "source": [
    "np.round(load_model.predict([[80, 36]]))"
   ]
  },
  {
   "cell_type": "code",
   "execution_count": null,
   "id": "089fc4f0-2aeb-44f6-9a76-5226d03c43fb",
   "metadata": {},
   "outputs": [],
   "source": []
  },
  {
   "cell_type": "code",
   "execution_count": null,
   "id": "8469bf3c-3327-4198-a401-8f0d2e8392e3",
   "metadata": {},
   "outputs": [],
   "source": []
  }
 ],
 "metadata": {
  "kernelspec": {
   "display_name": "Python 3 (ipykernel)",
   "language": "python",
   "name": "python3"
  },
  "language_info": {
   "codemirror_mode": {
    "name": "ipython",
    "version": 3
   },
   "file_extension": ".py",
   "mimetype": "text/x-python",
   "name": "python",
   "nbconvert_exporter": "python",
   "pygments_lexer": "ipython3",
   "version": "3.9.12"
  }
 },
 "nbformat": 4,
 "nbformat_minor": 5
}
