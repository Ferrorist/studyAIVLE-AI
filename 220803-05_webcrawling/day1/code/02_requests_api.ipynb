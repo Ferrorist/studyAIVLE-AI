{
 "cells": [
  {
   "cell_type": "markdown",
   "id": "4820a6ed-c4d7-4960-bd12-4dd93b3eb730",
   "metadata": {},
   "source": [
    "### API\n",
    "- application programing interface\n",
    "- api를 사용해서 데이터를 수집하는 것은 서비스에 데이터를 제공하는 공식적인 방법으로 데이터 수집\n",
    "- naver api : papago api : 번역 서비스"
   ]
  },
  {
   "cell_type": "code",
   "execution_count": 12,
   "id": "fde55a9c-32d5-4726-a614-95abeb731364",
   "metadata": {},
   "outputs": [],
   "source": [
    "import pandas as pd\n",
    "import requests, json"
   ]
  },
  {
   "cell_type": "code",
   "execution_count": 2,
   "id": "ae94c971-3afe-4d0e-ad33-aea43ef86def",
   "metadata": {},
   "outputs": [],
   "source": [
    "# 1. APP 등록 >  app_key(request_token)"
   ]
  },
  {
   "cell_type": "code",
   "execution_count": 4,
   "id": "9be8d4d1-e8b5-4e1d-8907-327a2e495eec",
   "metadata": {},
   "outputs": [],
   "source": [
    "CLIENT_ID, CLIENT_SECRET = \"5teTA2j1YfP9QfmivfIz\", \"ocm8OZYTaY\""
   ]
  },
  {
   "cell_type": "code",
   "execution_count": null,
   "id": "8bd2dedf-b4b0-49d7-abc3-7ffc7e8ddc78",
   "metadata": {},
   "outputs": [],
   "source": [
    "# 2. Naver API Document 확인 > URL"
   ]
  },
  {
   "cell_type": "code",
   "execution_count": 5,
   "id": "d881aa96-31a5-4398-a9f1-5e960c13e8af",
   "metadata": {},
   "outputs": [],
   "source": [
    "txt = \"파이썬은 재미있습니다.\" \n",
    "url = \"https://openapi.naver.com/v1/papago/n2mt\" \n",
    "params = {\"source\": \"ko\", \"target\": \"en\", \"text\": txt}\n",
    "header = {\n",
    "    \"Content-Type\" : \"application/json\",\n",
    "    \"X-Naver-Client-Id\" : CLIENT_ID,\n",
    "    \"X-Naver-Client-Secret\" : CLIENT_SECRET,\n",
    "}"
   ]
  },
  {
   "cell_type": "code",
   "execution_count": 6,
   "id": "e0d7af6e-5aa1-40ed-ae8f-71eff5bae018",
   "metadata": {},
   "outputs": [],
   "source": [
    "# 3. request(url, app_key) > response(json) : JSON(str)"
   ]
  },
  {
   "cell_type": "code",
   "execution_count": 10,
   "id": "87486ee9-e621-4d41-bad8-bff07ad1a10f",
   "metadata": {},
   "outputs": [],
   "source": [
    "# json.dumps()\n",
    "# 인터넷 트래픽에서는 영문, 숫자, 특수문자만 사용가능\n",
    "# 한글과 같은 문자를 인코딩(영문, 숫자, 특수문자)"
   ]
  },
  {
   "cell_type": "code",
   "execution_count": 14,
   "id": "8cf22c2c-b0d1-492f-935d-c42baa4b4163",
   "metadata": {},
   "outputs": [
    {
     "data": {
      "text/plain": [
       "<Response [200]>"
      ]
     },
     "execution_count": 14,
     "metadata": {},
     "output_type": "execute_result"
    }
   ],
   "source": [
    "response = requests.post(url, json.dumps(params), headers=header)\n",
    "response"
   ]
  },
  {
   "cell_type": "code",
   "execution_count": null,
   "id": "d411011d-c38a-4326-b24f-a1ec5a0a01ca",
   "metadata": {},
   "outputs": [],
   "source": [
    "# 4. JSON(str) > list, dict > DataFrame"
   ]
  },
  {
   "cell_type": "code",
   "execution_count": 23,
   "id": "068020f7-af00-46fd-9bd1-f91fb6024a82",
   "metadata": {},
   "outputs": [
    {
     "data": {
      "text/plain": [
       "'Python is fun.'"
      ]
     },
     "execution_count": 23,
     "metadata": {},
     "output_type": "execute_result"
    }
   ],
   "source": [
    "response.json()[\"message\"][\"result\"][\"translatedText\"]"
   ]
  },
  {
   "cell_type": "code",
   "execution_count": 18,
   "id": "d8ca458b-914b-4044-91f5-4e604b29c20c",
   "metadata": {},
   "outputs": [],
   "source": [
    "# 5. 함수로 작성"
   ]
  },
  {
   "cell_type": "code",
   "execution_count": 24,
   "id": "e9228c79-5a67-45a1-93b5-77fe18eb937b",
   "metadata": {},
   "outputs": [],
   "source": [
    "def translate(txt):\n",
    "    CLIENT_ID, CLIENT_SECRET = \"5teTA2j1YfP9QfmivfIz\", \"ocm8OZYTaY\"\n",
    "    url = \"https://openapi.naver.com/v1/papago/n2mt\" \n",
    "    params = {\"source\": \"ko\", \"target\": \"en\", \"text\": txt}\n",
    "    header = {\n",
    "        \"Content-Type\" : \"application/json\",\n",
    "        \"X-Naver-Client-Id\" : CLIENT_ID,\n",
    "        \"X-Naver-Client-Secret\" : CLIENT_SECRET,\n",
    "    }\n",
    "    response = requests.post(url, json.dumps(params), headers=header)\n",
    "    return response.json()[\"message\"][\"result\"][\"translatedText\"]"
   ]
  },
  {
   "cell_type": "code",
   "execution_count": 25,
   "id": "01f70ad7-b9fe-4adf-8fd8-b1f8d2e011d4",
   "metadata": {},
   "outputs": [
    {
     "data": {
      "text/plain": [
       "'Web crawling is fun.'"
      ]
     },
     "execution_count": 25,
     "metadata": {},
     "output_type": "execute_result"
    }
   ],
   "source": [
    "txt = \"웹크롤링은 재미있습니다.\"\n",
    "txt_en = translate(txt)\n",
    "txt_en"
   ]
  },
  {
   "cell_type": "code",
   "execution_count": 26,
   "id": "10348489-4cf9-411a-a5c4-ba03bc4baff8",
   "metadata": {},
   "outputs": [],
   "source": [
    "# 한글 excel 파일을 영문 excel 파일로 변경하기"
   ]
  },
  {
   "cell_type": "code",
   "execution_count": 27,
   "id": "c06ba38f-e7d7-4c63-9f1f-fc329f6d66d5",
   "metadata": {},
   "outputs": [
    {
     "name": "stdout",
     "output_type": "stream",
     "text": [
      " C 드라이브의 볼륨에는 이름이 없습니다.\n",
      " 볼륨 일련 번호: B4CB-64AF\n",
      "\n",
      " C:\\Users\\ferro\\day1\\code 디렉터리\n",
      "\n",
      "2022-08-03  오후 04:46    <DIR>          .\n",
      "2022-08-03  오후 04:46    <DIR>          ..\n",
      "2022-08-03  오후 03:41    <DIR>          .ipynb_checkpoints\n",
      "2022-08-03  오후 01:45            52,351 01_requests_naver_stock.ipynb\n",
      "2022-08-03  오후 04:44             7,185 02_requests_api.ipynb\n",
      "2022-08-03  오후 04:45            10,060 covid.xlsx\n",
      "2022-08-03  오후 03:35            28,937 Untitled.ipynb\n",
      "               4개 파일              98,533 바이트\n",
      "               3개 디렉터리   8,902,795,264 바이트 남음\n"
     ]
    }
   ],
   "source": [
    "%ls"
   ]
  },
  {
   "cell_type": "code",
   "execution_count": 30,
   "id": "501dfd74-12eb-4141-8878-1acbb1f2e09b",
   "metadata": {},
   "outputs": [
    {
     "data": {
      "text/html": [
       "<div>\n",
       "<style scoped>\n",
       "    .dataframe tbody tr th:only-of-type {\n",
       "        vertical-align: middle;\n",
       "    }\n",
       "\n",
       "    .dataframe tbody tr th {\n",
       "        vertical-align: top;\n",
       "    }\n",
       "\n",
       "    .dataframe thead th {\n",
       "        text-align: right;\n",
       "    }\n",
       "</style>\n",
       "<table border=\"1\" class=\"dataframe\">\n",
       "  <thead>\n",
       "    <tr style=\"text-align: right;\">\n",
       "      <th></th>\n",
       "      <th>category</th>\n",
       "      <th>title</th>\n",
       "    </tr>\n",
       "  </thead>\n",
       "  <tbody>\n",
       "    <tr>\n",
       "      <th>4</th>\n",
       "      <td>104</td>\n",
       "      <td>\"코로나 확진자 '0명'인 날은 절대 오지 않는다\" 美전문가</td>\n",
       "    </tr>\n",
       "    <tr>\n",
       "      <th>5</th>\n",
       "      <td>104</td>\n",
       "      <td>올림픽 다가오는데 도쿄 코로나 확산 빨라져...일주일새 25％↑</td>\n",
       "    </tr>\n",
       "  </tbody>\n",
       "</table>\n",
       "</div>"
      ],
      "text/plain": [
       "   category                                title\n",
       "4       104    \"코로나 확진자 '0명'인 날은 절대 오지 않는다\" 美전문가\n",
       "5       104  올림픽 다가오는데 도쿄 코로나 확산 빨라져...일주일새 25％↑"
      ]
     },
     "execution_count": 30,
     "metadata": {},
     "output_type": "execute_result"
    }
   ],
   "source": [
    "covid = pd.read_excel(\"covid.xlsx\")[['category','title']]\n",
    "covid.tail(2)"
   ]
  },
  {
   "cell_type": "code",
   "execution_count": 33,
   "id": "7996b6d1-b41d-418b-9d3a-9b6588de2fee",
   "metadata": {},
   "outputs": [],
   "source": [
    "covid_en = covid['title'].apply(translate)"
   ]
  },
  {
   "cell_type": "code",
   "execution_count": 34,
   "id": "64c75457-0e81-4465-ab67-d221b0793f7d",
   "metadata": {},
   "outputs": [
    {
     "data": {
      "text/plain": [
       "0    SK Bioscience Submits Phase III Clinical Trial...\n",
       "1    41 cumulative COVID-19 confirmed patients at G...\n",
       "2    New COVID-19 infections, 542 people by 9 p.m. ...\n",
       "3    Covid-19 confirmed cases in professional baseb...\n",
       "4    \"The day when there are zero confirmed cases o...\n",
       "5    As the Olympics are approaching, the spread of...\n",
       "Name: title, dtype: object"
      ]
     },
     "execution_count": 34,
     "metadata": {},
     "output_type": "execute_result"
    }
   ],
   "source": [
    "covid_en"
   ]
  },
  {
   "cell_type": "code",
   "execution_count": 35,
   "id": "a721befe-e6fa-4ea1-9544-c4d57f1f5fe3",
   "metadata": {},
   "outputs": [
    {
     "data": {
      "text/html": [
       "<div>\n",
       "<style scoped>\n",
       "    .dataframe tbody tr th:only-of-type {\n",
       "        vertical-align: middle;\n",
       "    }\n",
       "\n",
       "    .dataframe tbody tr th {\n",
       "        vertical-align: top;\n",
       "    }\n",
       "\n",
       "    .dataframe thead th {\n",
       "        text-align: right;\n",
       "    }\n",
       "</style>\n",
       "<table border=\"1\" class=\"dataframe\">\n",
       "  <thead>\n",
       "    <tr style=\"text-align: right;\">\n",
       "      <th></th>\n",
       "      <th>category</th>\n",
       "      <th>title</th>\n",
       "      <th>title_en</th>\n",
       "    </tr>\n",
       "  </thead>\n",
       "  <tbody>\n",
       "    <tr>\n",
       "      <th>0</th>\n",
       "      <td>101</td>\n",
       "      <td>SK바이오사이언스, 코로나19 백신 임상 3상 시험계획 제출</td>\n",
       "      <td>SK Bioscience Submits Phase III Clinical Trial...</td>\n",
       "    </tr>\n",
       "    <tr>\n",
       "      <th>1</th>\n",
       "      <td>102</td>\n",
       "      <td>고양시 노래연습장 코로나19 누적확진 41명</td>\n",
       "      <td>41 cumulative COVID-19 confirmed patients at G...</td>\n",
       "    </tr>\n",
       "    <tr>\n",
       "      <th>2</th>\n",
       "      <td>103</td>\n",
       "      <td>코로나19 신규 감염, 28일 오후 9시까지 542명</td>\n",
       "      <td>New COVID-19 infections, 542 people by 9 p.m. ...</td>\n",
       "    </tr>\n",
       "    <tr>\n",
       "      <th>3</th>\n",
       "      <td>103</td>\n",
       "      <td>프로야구 수도권 구단서 코로나19 확진자 발생</td>\n",
       "      <td>Covid-19 confirmed cases in professional baseb...</td>\n",
       "    </tr>\n",
       "    <tr>\n",
       "      <th>4</th>\n",
       "      <td>104</td>\n",
       "      <td>\"코로나 확진자 '0명'인 날은 절대 오지 않는다\" 美전문가</td>\n",
       "      <td>\"The day when there are zero confirmed cases o...</td>\n",
       "    </tr>\n",
       "    <tr>\n",
       "      <th>5</th>\n",
       "      <td>104</td>\n",
       "      <td>올림픽 다가오는데 도쿄 코로나 확산 빨라져...일주일새 25％↑</td>\n",
       "      <td>As the Olympics are approaching, the spread of...</td>\n",
       "    </tr>\n",
       "  </tbody>\n",
       "</table>\n",
       "</div>"
      ],
      "text/plain": [
       "   category                                title  \\\n",
       "0       101    SK바이오사이언스, 코로나19 백신 임상 3상 시험계획 제출   \n",
       "1       102             고양시 노래연습장 코로나19 누적확진 41명   \n",
       "2       103        코로나19 신규 감염, 28일 오후 9시까지 542명   \n",
       "3       103            프로야구 수도권 구단서 코로나19 확진자 발생   \n",
       "4       104    \"코로나 확진자 '0명'인 날은 절대 오지 않는다\" 美전문가   \n",
       "5       104  올림픽 다가오는데 도쿄 코로나 확산 빨라져...일주일새 25％↑   \n",
       "\n",
       "                                            title_en  \n",
       "0  SK Bioscience Submits Phase III Clinical Trial...  \n",
       "1  41 cumulative COVID-19 confirmed patients at G...  \n",
       "2  New COVID-19 infections, 542 people by 9 p.m. ...  \n",
       "3  Covid-19 confirmed cases in professional baseb...  \n",
       "4  \"The day when there are zero confirmed cases o...  \n",
       "5  As the Olympics are approaching, the spread of...  "
      ]
     },
     "execution_count": 35,
     "metadata": {},
     "output_type": "execute_result"
    }
   ],
   "source": [
    "covid[\"title_en\"] = covid_en\n",
    "covid"
   ]
  },
  {
   "cell_type": "code",
   "execution_count": 38,
   "id": "4181e3e1-352a-4cb8-949d-39c4a2c78109",
   "metadata": {},
   "outputs": [],
   "source": [
    "# utf-8-sig : excel 에서 사용하는 인코딩 방식과 호환이 되는 utf-8 인코딩 방식.\n",
    "covid.to_excel(\"covid_en.xlsx\", index=False, encoding=\"utf-8-sig\")"
   ]
  },
  {
   "cell_type": "code",
   "execution_count": 37,
   "id": "230b0e15-9be4-446e-ba0b-a5cfb65ac7af",
   "metadata": {},
   "outputs": [
    {
     "name": "stdout",
     "output_type": "stream",
     "text": [
      " C 드라이브의 볼륨에는 이름이 없습니다.\n",
      " 볼륨 일련 번호: B4CB-64AF\n",
      "\n",
      " C:\\Users\\ferro\\day1\\code 디렉터리\n",
      "\n",
      "2022-08-03  오후 04:52    <DIR>          .\n",
      "2022-08-03  오후 04:52    <DIR>          ..\n",
      "2022-08-03  오후 03:41    <DIR>          .ipynb_checkpoints\n",
      "2022-08-03  오후 01:45            52,351 01_requests_naver_stock.ipynb\n",
      "2022-08-03  오후 04:50            10,485 02_requests_api.ipynb\n",
      "2022-08-03  오후 04:45            10,060 covid.xlsx\n",
      "2022-08-03  오후 04:52             6,161 covid_en.xlsx\n",
      "2022-08-03  오후 03:35            28,937 Untitled.ipynb\n",
      "               5개 파일             107,994 바이트\n",
      "               3개 디렉터리   8,896,315,392 바이트 남음\n"
     ]
    }
   ],
   "source": [
    "%ls"
   ]
  },
  {
   "cell_type": "code",
   "execution_count": 43,
   "id": "89fe4632-fe6f-4cc9-9a9e-b535370563b8",
   "metadata": {},
   "outputs": [
    {
     "name": "stdout",
     "output_type": "stream",
     "text": [
      "20\n"
     ]
    }
   ],
   "source": [
    "a = 10\n",
    "\n",
    "def change():\n",
    "    global a # 전역 변수 a를 불러옴.\n",
    "    a = 20\n",
    "\n",
    "change()\n",
    "print(a)"
   ]
  },
  {
   "cell_type": "code",
   "execution_count": null,
   "id": "0d3598c1-4299-4778-b4c1-64bf5cec2d37",
   "metadata": {},
   "outputs": [],
   "source": []
  },
  {
   "cell_type": "code",
   "execution_count": null,
   "id": "381a0e42-5a3a-488c-8738-41d1e344d243",
   "metadata": {},
   "outputs": [],
   "source": []
  },
  {
   "cell_type": "code",
   "execution_count": null,
   "id": "e93a95bc-2dcd-41e7-9e23-a2b15040bcd8",
   "metadata": {},
   "outputs": [],
   "source": []
  },
  {
   "cell_type": "code",
   "execution_count": null,
   "id": "957e533e-59ec-475e-b4b4-b329cc74e55f",
   "metadata": {},
   "outputs": [],
   "source": []
  },
  {
   "cell_type": "code",
   "execution_count": null,
   "id": "a3830658-bab1-462d-9004-8863b1c8b330",
   "metadata": {},
   "outputs": [],
   "source": []
  },
  {
   "cell_type": "code",
   "execution_count": null,
   "id": "0f7e4902-2f23-4c8b-b01b-ef23c86b772f",
   "metadata": {},
   "outputs": [],
   "source": []
  },
  {
   "cell_type": "code",
   "execution_count": null,
   "id": "07661539-7b6f-432b-80d8-00d95f120cf1",
   "metadata": {},
   "outputs": [],
   "source": []
  },
  {
   "cell_type": "code",
   "execution_count": null,
   "id": "042e38ba-3acd-4c00-b3e1-c001a0e2d5a3",
   "metadata": {},
   "outputs": [],
   "source": []
  }
 ],
 "metadata": {
  "kernelspec": {
   "display_name": "Python 3 (ipykernel)",
   "language": "python",
   "name": "python3"
  },
  "language_info": {
   "codemirror_mode": {
    "name": "ipython",
    "version": 3
   },
   "file_extension": ".py",
   "mimetype": "text/x-python",
   "name": "python",
   "nbconvert_exporter": "python",
   "pygments_lexer": "ipython3",
   "version": "3.9.12"
  }
 },
 "nbformat": 4,
 "nbformat_minor": 5
}
