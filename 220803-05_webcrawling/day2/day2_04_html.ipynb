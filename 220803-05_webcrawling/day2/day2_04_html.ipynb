{
 "cells": [
  {
   "cell_type": "markdown",
   "id": "83d0a1bd-430a-4efb-84fb-2627cf539577",
   "metadata": {},
   "source": [
    "### html\n",
    "- 웹 문서를 작성하는 언어\n",
    "- 구성요소\n",
    "    - Document : 한 페이지를 나타내는 코드\n",
    "    - Element : 하나의 레이아웃 : Element가 모여서 Document를 만듦.\n",
    "    - Tag : Element의 종류를 정의 : 시작태그 + 끝태그 = Element\n",
    "    - Attribute : 속성값 : 시작태그에서 태그의 기능을 정의.\n",
    "        - id : element를 지정하는 페이지 내에서 유일한 값\n",
    "        - class : element를 지정하는 값으로 페이지 내에서 여러 개 사용 가능\n",
    "        - attr : id, class를 제외한 나머지 속성 값\n",
    "    - Text : 시작태그와 끝태그 사이의 문자열\n",
    "    - 엘리먼트는 계층적 구조를 갖는다."
   ]
  },
  {
   "cell_type": "code",
   "execution_count": 5,
   "id": "58ed7e8f-6b3a-4e83-a8e1-cd4d8ceb5a81",
   "metadata": {},
   "outputs": [
    {
     "data": {
      "text/html": [
       "<div class=\"wrapper\">\n",
       "    <button id=\"b1\", class=\"btn no1\", value=\"1\">HTML 1</button> <!-- <button></button> : 시작태그, 끝태그 -->\n",
       "    <button id=\"b2\", class=\"btn no2\", value=\"2\">HTML 2</button>\n",
       "    <p>HTML 3</p> <!-- <p> : 문자열 -->\n",
       "</div>\n"
      ],
      "text/plain": [
       "<IPython.core.display.HTML object>"
      ]
     },
     "metadata": {},
     "output_type": "display_data"
    }
   ],
   "source": [
    "%%html\n",
    "<div class=\"wrapper\">\n",
    "    <button id=\"b1\", class=\"btn no1\", value=\"1\">HTML 1</button> <!-- <button></button> : 시작태그, 끝태그 id=\"b1\" 등과 같은 것을 Attribute. -->\n",
    "    <button id=\"b2\", class=\"btn no2\", value=\"2\">HTML 2</button>\n",
    "    <p>HTML 3</p> <!-- <p> : 문자열 -->\n",
    "</div>"
   ]
  },
  {
   "cell_type": "markdown",
   "id": "486c91dc-77b6-4aa7-bf9b-7cf4acc1071c",
   "metadata": {},
   "source": [
    "#### HTML 태그 종류"
   ]
  },
  {
   "cell_type": "code",
   "execution_count": 7,
   "id": "005f6b5c-fe03-4f73-96d0-fe8bf7cdea47",
   "metadata": {},
   "outputs": [],
   "source": [
    "# p : 한 줄의 문자열 출력"
   ]
  },
  {
   "cell_type": "code",
   "execution_count": 8,
   "id": "726c137d-b849-4f95-a28b-7f1b306c230d",
   "metadata": {},
   "outputs": [
    {
     "data": {
      "text/html": [
       "<p>python 1</p>\n",
       "<p>python 2</p>\n"
      ],
      "text/plain": [
       "<IPython.core.display.HTML object>"
      ]
     },
     "metadata": {},
     "output_type": "display_data"
    }
   ],
   "source": [
    "%%html\n",
    "<p>python 1</p>\n",
    "<p>python 2</p>"
   ]
  },
  {
   "cell_type": "code",
   "execution_count": 9,
   "id": "89f5990e-cf0a-4522-872a-d2e8cb12ba45",
   "metadata": {},
   "outputs": [],
   "source": [
    "# span : 한 블럭의 문자열 출력"
   ]
  },
  {
   "cell_type": "code",
   "execution_count": 10,
   "id": "26d1d14f-3aa3-4934-8d3d-78e5005b2c52",
   "metadata": {},
   "outputs": [
    {
     "data": {
      "text/html": [
       "<span>python 1</span>\n",
       "<span>python 2</span>\n"
      ],
      "text/plain": [
       "<IPython.core.display.HTML object>"
      ]
     },
     "metadata": {},
     "output_type": "display_data"
    }
   ],
   "source": [
    "%%html\n",
    "<span>python 1</span>\n",
    "<span>python 2</span>"
   ]
  },
  {
   "cell_type": "code",
   "execution_count": null,
   "id": "e6b76578-7970-4bea-bc1f-1f56aff1d11b",
   "metadata": {},
   "outputs": [],
   "source": [
    "# ul, li : 리스트 문자열 출력"
   ]
  },
  {
   "cell_type": "code",
   "execution_count": 11,
   "id": "81bcab5e-3a08-4658-945a-28040b290efa",
   "metadata": {},
   "outputs": [
    {
     "data": {
      "text/html": [
       "<ul>\n",
       "    <li>python 1</li>\n",
       "    <li>python 2</li>\n",
       "</ul>\n"
      ],
      "text/plain": [
       "<IPython.core.display.HTML object>"
      ]
     },
     "metadata": {},
     "output_type": "display_data"
    }
   ],
   "source": [
    "%%html\n",
    "<ul>\n",
    "    <li>python 1</li>\n",
    "    <li>python 2</li>\n",
    "</ul>"
   ]
  },
  {
   "cell_type": "code",
   "execution_count": null,
   "id": "a87e73c2-2a96-404a-971e-ef65135cb9d7",
   "metadata": {},
   "outputs": [],
   "source": [
    "# a : 링크를 나타내는 태그"
   ]
  },
  {
   "cell_type": "code",
   "execution_count": 13,
   "id": "6441b3be-d3fc-4563-ab0b-6b26d064d7ca",
   "metadata": {},
   "outputs": [
    {
     "data": {
      "text/html": [
       "<a href=\"https://kt.com\" targer=\"_blink\">Click</a>\n"
      ],
      "text/plain": [
       "<IPython.core.display.HTML object>"
      ]
     },
     "metadata": {},
     "output_type": "display_data"
    }
   ],
   "source": [
    "%%html\n",
    "<a href=\"https://kt.com\" target=\"_blink\">Click</a> <!-- target=\"_blink\" : 현재 페이지 유지하면서 다른 페이지에서 링크 페이지를 생성.-->"
   ]
  },
  {
   "cell_type": "code",
   "execution_count": null,
   "id": "3cf874a0-9d32-420f-ab61-fe265318adb5",
   "metadata": {},
   "outputs": [],
   "source": [
    "# img : 이미지를 출력하는 태그"
   ]
  },
  {
   "cell_type": "code",
   "execution_count": 14,
   "id": "24779f1a-866d-44db-969d-440fa17bd206",
   "metadata": {},
   "outputs": [
    {
     "data": {
      "text/html": [
       "<img src=\"https://cfm.kt.com/images/v2/layout/gnb-ktlogo.png\"> <!-- src : 이미지 소스-->\n"
      ],
      "text/plain": [
       "<IPython.core.display.HTML object>"
      ]
     },
     "metadata": {},
     "output_type": "display_data"
    }
   ],
   "source": [
    "%%html\n",
    "<img src=\"https://cfm.kt.com/images/v2/layout/gnb-ktlogo.png\"> <!-- src : 이미지 소스-->"
   ]
  },
  {
   "cell_type": "code",
   "execution_count": null,
   "id": "318321bb-e682-404e-8587-aebfba18274c",
   "metadata": {},
   "outputs": [],
   "source": [
    "# iframe : 외부 URL 링크에 해당하는 웹 페이지를 출력"
   ]
  },
  {
   "cell_type": "code",
   "execution_count": 17,
   "id": "4f2179ae-7150-4b73-b04d-241fc37bac67",
   "metadata": {},
   "outputs": [
    {
     "data": {
      "text/html": [
       "<iframe src=\"https://kt.com\" width=\"100%\" height=\"400px\">\n"
      ],
      "text/plain": [
       "<IPython.core.display.HTML object>"
      ]
     },
     "metadata": {},
     "output_type": "display_data"
    }
   ],
   "source": [
    "%%html\n",
    "<iframe src=\"https://kt.com\" width=\"100%\" height=\"400px\">"
   ]
  },
  {
   "cell_type": "code",
   "execution_count": null,
   "id": "c115cf51-9215-46c9-98e6-3e3421203dca",
   "metadata": {},
   "outputs": [],
   "source": [
    "# div : 레이아웃을 나타내는 태그"
   ]
  },
  {
   "cell_type": "code",
   "execution_count": 18,
   "id": "e6d8a8fe-9db4-46e6-bd7c-343df76ed36d",
   "metadata": {},
   "outputs": [
    {
     "data": {
      "text/html": [
       "<div>\n",
       "    <p>python 1</p>\n",
       "    <p>python 2</p>\n",
       "</div>\n",
       "<div>\n",
       "    <p>python 3</p>\n",
       "</div>\n"
      ],
      "text/plain": [
       "<IPython.core.display.HTML object>"
      ]
     },
     "metadata": {},
     "output_type": "display_data"
    }
   ],
   "source": [
    "%%html\n",
    "<div>\n",
    "    <p>python 1</p>\n",
    "    <p>python 2</p>\n",
    "</div>\n",
    "<div>\n",
    "    <p>python 3</p>\n",
    "</div>"
   ]
  },
  {
   "cell_type": "code",
   "execution_count": null,
   "id": "e2529e57-1b12-4d23-ab83-70a2e034a824",
   "metadata": {},
   "outputs": [],
   "source": [
    "# table : 행열 데이터를 출력"
   ]
  },
  {
   "cell_type": "code",
   "execution_count": 20,
   "id": "1ed5cd18-11fc-481b-b712-6e24665edad9",
   "metadata": {},
   "outputs": [
    {
     "data": {
      "text/html": [
       "<table>\n",
       "    <caption>제목</caption>\n",
       "    <thead>\n",
       "        <tr>\n",
       "            <th>column 1</th>\n",
       "            <th>column 2</th>\n",
       "        </tr>\n",
       "    </thead>\n",
       "    <tbody>\n",
       "        <tr>\n",
       "            <td>data 1</td>\n",
       "            <td>data 2</td>\n",
       "        </tr>\n",
       "        <tr>\n",
       "            <td>data 3</td>\n",
       "            <td>data 4</td>\n",
       "        </tr>\n",
       "    </tbody>\n",
       "</table>\n"
      ],
      "text/plain": [
       "<IPython.core.display.HTML object>"
      ]
     },
     "metadata": {},
     "output_type": "display_data"
    }
   ],
   "source": [
    "%%html\n",
    "<table>\n",
    "    <caption>제목</caption>\n",
    "    <thead>\n",
    "        <tr>\n",
    "            <th>column 1</th> <!-- th : table header -->\n",
    "            <th>column 2</th>\n",
    "        </tr>\n",
    "    </thead>\n",
    "    <tbody>\n",
    "        <tr>\n",
    "            <td>data 1</td> <!- td : table data -->\n",
    "            <td>data 2</td>\n",
    "        </tr>\n",
    "        <tr>\n",
    "            <td>data 3</td>\n",
    "            <td>data 4</td>\n",
    "        </tr>\n",
    "    </tbody>\n",
    "</table>"
   ]
  },
  {
   "cell_type": "code",
   "execution_count": null,
   "id": "c572bd95-0e53-4dbc-ba5d-d1b5e6a6332b",
   "metadata": {},
   "outputs": [],
   "source": [
    "# 부동소수점 에러"
   ]
  },
  {
   "cell_type": "code",
   "execution_count": 25,
   "id": "ddaa99e5-8569-4f72-802f-5d536a5c6d9d",
   "metadata": {},
   "outputs": [
    {
     "name": "stdout",
     "output_type": "stream",
     "text": [
      "0.1 0.2\n",
      "False\n",
      "0.30000000000000004\n"
     ]
    }
   ],
   "source": [
    "data1, data2 = 0.1, 0.2\n",
    "print(data1, data2)\n",
    "print(data1+data2 == 0.3) # 소수점을 2진수로 변환하여 연산하여서 나타나는 에러\n",
    "print(data1+data2)"
   ]
  },
  {
   "cell_type": "code",
   "execution_count": 32,
   "id": "2cdd6be5-91b0-4ebe-9b96-4c65f8bfcef1",
   "metadata": {},
   "outputs": [
    {
     "data": {
      "text/plain": [
       "(0.3, True)"
      ]
     },
     "execution_count": 32,
     "metadata": {},
     "output_type": "execute_result"
    }
   ],
   "source": [
    "# 해결방법 1. 반올림 사용 : round (2번째 방식보다 더 많이 쓰임)\n",
    "round(data1 + data2, 1), round(data1 + data2, 1) == 0.3\n",
    "# round의 단점 : 소수점 몇 번째까지 사용할 것인지 인지하여야 한다."
   ]
  },
  {
   "cell_type": "code",
   "execution_count": 31,
   "id": "4f312302-3937-43ec-bc29-e3a9e30937ae",
   "metadata": {},
   "outputs": [
    {
     "data": {
      "text/plain": [
       "(Decimal('0.3'), True)"
      ]
     },
     "execution_count": 31,
     "metadata": {},
     "output_type": "execute_result"
    }
   ],
   "source": [
    "# 해결방법 2. 고정소수점 방식으로 연산.\n",
    "from decimal import Decimal\n",
    "Decimal(str(data1)) + Decimal(str(data2)), float(Decimal(str(data1)) + Decimal(str(data2))) == 0.3"
   ]
  },
  {
   "cell_type": "code",
   "execution_count": null,
   "id": "c31ed716-07d1-4847-8d89-a9e092ce3c17",
   "metadata": {},
   "outputs": [],
   "source": [
    "# 짧은 팁: pow(2,2) 보다 2**2 방식이 더 빠르다."
   ]
  },
  {
   "cell_type": "code",
   "execution_count": 36,
   "id": "6892532a-c123-4c22-bf61-45b0b265ba64",
   "metadata": {},
   "outputs": [
    {
     "name": "stdout",
     "output_type": "stream",
     "text": [
      "CPU times: total: 312 ms\n",
      "Wall time: 299 ms\n"
     ]
    }
   ],
   "source": [
    "%%time\n",
    "for _ in range(int(1E6)): pow(2, 2)"
   ]
  },
  {
   "cell_type": "code",
   "execution_count": 37,
   "id": "2c6a29f2-15f2-452f-952e-f148e5c1da04",
   "metadata": {},
   "outputs": [
    {
     "name": "stdout",
     "output_type": "stream",
     "text": [
      "CPU times: total: 46.9 ms\n",
      "Wall time: 41 ms\n"
     ]
    }
   ],
   "source": [
    "%%time\n",
    "for _ in range(int(1E6)): 2**2"
   ]
  },
  {
   "cell_type": "code",
   "execution_count": null,
   "id": "3e6916ac-03ad-4098-8dc6-0b135b8a74ec",
   "metadata": {},
   "outputs": [],
   "source": []
  },
  {
   "cell_type": "code",
   "execution_count": null,
   "id": "d4bf6b51-5808-4387-9278-459981b15a2b",
   "metadata": {},
   "outputs": [],
   "source": []
  },
  {
   "cell_type": "code",
   "execution_count": null,
   "id": "ddac0598-8c2c-4c46-8d88-7c24c269a77b",
   "metadata": {},
   "outputs": [],
   "source": []
  }
 ],
 "metadata": {
  "kernelspec": {
   "display_name": "Python 3 (ipykernel)",
   "language": "python",
   "name": "python3"
  },
  "language_info": {
   "codemirror_mode": {
    "name": "ipython",
    "version": 3
   },
   "file_extension": ".py",
   "mimetype": "text/x-python",
   "name": "python",
   "nbconvert_exporter": "python",
   "pygments_lexer": "ipython3",
   "version": "3.9.12"
  }
 },
 "nbformat": 4,
 "nbformat_minor": 5
}
