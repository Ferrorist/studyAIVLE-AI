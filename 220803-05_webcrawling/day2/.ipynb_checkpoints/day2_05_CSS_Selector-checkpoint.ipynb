{
 "cells": [
  {
   "cell_type": "markdown",
   "id": "b76dfd31-3cd8-4efb-9f77-8a6727f001c5",
   "metadata": {},
   "source": [
    "### CSS Selector\n",
    "- CSS 스타일을 적용시킬 HTML Element를 선택하는 방법"
   ]
  },
  {
   "cell_type": "code",
   "execution_count": 2,
   "id": "28ae121c-532b-4a3a-ba62-0b308edc6b45",
   "metadata": {
    "tags": []
   },
   "outputs": [],
   "source": [
    "# 1. Element Tag 이름으로 선택\n",
    "# css selector : span -> python 3가 선택됨."
   ]
  },
  {
   "cell_type": "code",
   "execution_count": 10,
   "id": "af98df7a-2447-4f9c-a3db-50200fb6fb54",
   "metadata": {
    "tags": []
   },
   "outputs": [
    {
     "data": {
      "text/html": [
       "<div id=\"kt\">\n",
       "    <div>python 1</div>\n",
       "    <p>python 2</p>\n",
       "    <span>python 3</span>\n",
       "</div>\n",
       "<!-- #kt > span {color : red;} -->\n"
      ],
      "text/plain": [
       "<IPython.core.display.HTML object>"
      ]
     },
     "metadata": {},
     "output_type": "display_data"
    }
   ],
   "source": [
    "%%html\n",
    "<div id=\"kt\">\n",
    "    <div>python 1</div>\n",
    "    <p>python 2</p>\n",
    "    <span>python 3</span>\n",
    "</div>\n",
    "<!-- #kt > span {color : red;} -->"
   ]
  },
  {
   "cell_type": "code",
   "execution_count": null,
   "id": "11b40fe2-a258-4a37-b5c9-433a741ecfcb",
   "metadata": {},
   "outputs": [],
   "source": [
    "# 2. Tag의 id 값으로 선택\n",
    "# css selector : #kt2 { color: blue; } >> python 2가 blue 색으로 바뀜."
   ]
  },
  {
   "cell_type": "code",
   "execution_count": 17,
   "id": "02d9363d-1ad8-4a0b-b9a2-a70eb74b80d2",
   "metadata": {},
   "outputs": [
    {
     "data": {
      "text/html": [
       "<div id=\"kt\">\n",
       "    <p id=\"kt1\">python 1</p>\n",
       "    <p id=\"kt2\">python 2</p>\n",
       "    <p id=\"kt3\">python 3</p>\n",
       "</div>\n",
       "<!-- #kt2{color : blue;} -->\n"
      ],
      "text/plain": [
       "<IPython.core.display.HTML object>"
      ]
     },
     "metadata": {},
     "output_type": "display_data"
    }
   ],
   "source": [
    "%%html\n",
    "<div id=\"kt\">\n",
    "    <p id=\"kt1\">python 1</p>\n",
    "    <p id=\"kt2\">python 2</p>\n",
    "    <p id=\"kt3\">python 3</p>\n",
    "</div>\n",
    "<!-- #kt2{color : blue;} -->"
   ]
  },
  {
   "cell_type": "code",
   "execution_count": 18,
   "id": "9b5bd436-be2e-4114-a58e-b736ceae15fa",
   "metadata": {
    "tags": []
   },
   "outputs": [],
   "source": [
    "# 3. Tag의 class 값으로 선택\n",
    "# css selector : .kt2 >> python2 선택 (class를 선택할 시 #이 아닌 .을 사용)\n",
    "# css selector : .kt >> python1, python2, python3 선택"
   ]
  },
  {
   "cell_type": "code",
   "execution_count": 15,
   "id": "9898e901-2781-4b0f-aa68-f667256ce788",
   "metadata": {},
   "outputs": [
    {
     "data": {
      "text/html": [
       "\n",
       "<p class=\"kt kt1\">python 1</p>\n",
       "<p class=\"kt kt2\">python 2</p>\n",
       "<p class=\"kt kt3\">python 3</p>\n",
       "\n"
      ],
      "text/plain": [
       "<IPython.core.display.HTML object>"
      ]
     },
     "metadata": {},
     "output_type": "display_data"
    }
   ],
   "source": [
    "%%html\n",
    "\n",
    "<p class=\"kt kt1\">python 1</p>\n",
    "<p class=\"kt kt2\">python 2</p>\n",
    "<p class=\"kt kt3\">python 3</p>\n",
    "\n"
   ]
  },
  {
   "cell_type": "code",
   "execution_count": null,
   "id": "8bf3ee60-ffb5-4f5d-b898-ef6e57beb440",
   "metadata": {},
   "outputs": [],
   "source": [
    "# 4. Tag의 attr 값으로 선택\n",
    "# css selector : [value=\"no1\"] : python 1이 선택됨."
   ]
  },
  {
   "cell_type": "code",
   "execution_count": 19,
   "id": "fa5b914e-03ef-4f98-bafe-2233e1c94dda",
   "metadata": {},
   "outputs": [
    {
     "data": {
      "text/html": [
       "<p value=\"no1\">python 1</p>\n",
       "<p value=\"no2\">python 2</p>\n",
       "<p value=\"no3\">python 3</p>\n"
      ],
      "text/plain": [
       "<IPython.core.display.HTML object>"
      ]
     },
     "metadata": {},
     "output_type": "display_data"
    }
   ],
   "source": [
    "%%html\n",
    "<p value=\"no1\">python 1</p>\n",
    "<p value=\"no2\">python 2</p>\n",
    "<p value=\"no3\">python 3</p>"
   ]
  },
  {
   "cell_type": "code",
   "execution_count": null,
   "id": "3faa4c13-9b56-4545-a139-e5048f761ca3",
   "metadata": {},
   "outputs": [],
   "source": [
    "# tag 이름 : span\n",
    "# id : #kt\n",
    "# class : .kt\n",
    "# attr : [value=\"kt\"]"
   ]
  },
  {
   "cell_type": "code",
   "execution_count": null,
   "id": "2517519a-1010-4194-96fb-8dc66dac042b",
   "metadata": {},
   "outputs": [],
   "source": [
    "# 5. 여러 개의 엘리먼트 선택"
   ]
  },
  {
   "cell_type": "code",
   "execution_count": null,
   "id": "ac72fd83-ad37-41cc-b9cb-93da0a5c1635",
   "metadata": {},
   "outputs": [],
   "source": [
    "# not selector\n",
    "# class no 엘리먼트를 모두 선택하고,\n",
    "# no2 클래스를 갖는 엘리먼트만 제외\n",
    "# css selector : .no:not(.no2) -> python1, python3 선택. python2는 선택하지 않음."
   ]
  },
  {
   "cell_type": "code",
   "execution_count": 21,
   "id": "f6d09b51-b31e-4ed3-aae4-4bf819cd22fa",
   "metadata": {},
   "outputs": [
    {
     "data": {
      "text/html": [
       "<p class=\"no no1\">python 1</p>\n",
       "<p class=\"no no2\">python 2</p>\n",
       "<p class=\"no no3\">python 3</p>\n"
      ],
      "text/plain": [
       "<IPython.core.display.HTML object>"
      ]
     },
     "metadata": {},
     "output_type": "display_data"
    }
   ],
   "source": [
    "%%html\n",
    "<p class=\"no no1\">python 1</p>\n",
    "<p class=\"no no2\">python 2</p>\n",
    "<p class=\"no no3\">python 3</p>"
   ]
  },
  {
   "cell_type": "code",
   "execution_count": 23,
   "id": "c6720360-ef81-4ff4-88c8-6ffecd612184",
   "metadata": {},
   "outputs": [],
   "source": [
    "# n 번째 엘리먼트 선택\n",
    "# css selector : .py:nth-child(2) : python2 선택.\n",
    "# .py 엘리먼트 중에서 2번째 : X\n",
    "# 2번째 엘리먼트 중에서 .py 클래스를 갖는 : O"
   ]
  },
  {
   "cell_type": "code",
   "execution_count": 24,
   "id": "670178fe-446d-44a7-b6bb-6134b3fe207f",
   "metadata": {},
   "outputs": [
    {
     "data": {
      "text/html": [
       "<div>\n",
       "    <p class=\"py\">python 1</p>\n",
       "    <span>python 0</span>\n",
       "    <p class=\"py\">python 2</p>\n",
       "    <p class=\"py\">python 3</p>\n",
       "</div>\n"
      ],
      "text/plain": [
       "<IPython.core.display.HTML object>"
      ]
     },
     "metadata": {},
     "output_type": "display_data"
    }
   ],
   "source": [
    "%%html\n",
    "<div>\n",
    "    <p class=\"py\">python 1</p>\n",
    "    <span>python 0</span>\n",
    "    <p class=\"py\">python 2</p>\n",
    "    <p class=\"py\">python 3</p>\n",
    "</div>"
   ]
  },
  {
   "cell_type": "code",
   "execution_count": null,
   "id": "cf63a440-366f-4a58-a6a2-63aab4fffe8e",
   "metadata": {},
   "outputs": [],
   "source": [
    "# 6. 계층적으로 엘리먼트 선택\n",
    "# .wrap > p : inner 1 선택\n",
    "# .wrap p : inner 1, inner 2 선택"
   ]
  },
  {
   "cell_type": "code",
   "execution_count": 25,
   "id": "d34badc2-6b3f-46dd-b68c-12ede21227bb",
   "metadata": {},
   "outputs": [
    {
     "data": {
      "text/html": [
       "<div class=\"wrap>\n"
      ],
      "text/plain": [
       "<IPython.core.display.HTML object>"
      ]
     },
     "metadata": {},
     "output_type": "display_data"
    }
   ],
   "source": [
    "%%html\n",
    "<div class=\"wrap>\n",
    "    <p>inner 1</p>\n",
    "    <div>\n",
    "        <p>inner 2</p>\n",
    "    </div>\n",
    "</div>"
   ]
  },
  {
   "cell_type": "code",
   "execution_count": null,
   "id": "f46dea4f-8006-4598-a67c-a13dd9653916",
   "metadata": {},
   "outputs": [],
   "source": [
    "# 여러 개의 엘리먼트 선택\n",
    "# .py1, .py3 : python1, python 3 선택"
   ]
  },
  {
   "cell_type": "code",
   "execution_count": null,
   "id": "72f3a912-066e-4bd9-859b-23536138e938",
   "metadata": {},
   "outputs": [],
   "source": [
    "%%html\n",
    "<p class=\"py1\">python 1</p>\n",
    "<p class=\"py2\">python 2</p>\n",
    "<p class=\"py3\">python 3</p>"
   ]
  },
  {
   "cell_type": "code",
   "execution_count": null,
   "id": "c0d9bf94-7321-4474-8902-8f25a2fc3701",
   "metadata": {},
   "outputs": [],
   "source": [
    "# 엘리먼트 하나 선택\n",
    "# tag 이름 : span\n",
    "# id : #kt\n",
    "# class : .kt\n",
    "# attr : [value=\"kt\"]\n",
    "\n",
    "# 여러 개의 엘리먼트 선택\n",
    "# :not(.kt1)\n",
    "# :nth-child(n) (중요. 크롤링에서 많이 나옴.)\n",
    "# .wrap > p : 한 단계 하위 엘리먼트에서 선택\n",
    "# .wrap p : 모든 하위 엘리먼트에서 선택\n",
    "# .kt1, .kt3 : 선택하는 모든 엘리먼트 선택"
   ]
  },
  {
   "cell_type": "code",
   "execution_count": null,
   "id": "25652f1b-5cd5-4b81-bda5-d296a184940c",
   "metadata": {},
   "outputs": [],
   "source": []
  }
 ],
 "metadata": {
  "kernelspec": {
   "display_name": "Python 3 (ipykernel)",
   "language": "python",
   "name": "python3"
  },
  "language_info": {
   "codemirror_mode": {
    "name": "ipython",
    "version": 3
   },
   "file_extension": ".py",
   "mimetype": "text/x-python",
   "name": "python",
   "nbconvert_exporter": "python",
   "pygments_lexer": "ipython3",
   "version": "3.9.12"
  }
 },
 "nbformat": 4,
 "nbformat_minor": 5
}
