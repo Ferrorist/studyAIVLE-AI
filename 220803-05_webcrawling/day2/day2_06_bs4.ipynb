{
 "cells": [
  {
   "cell_type": "markdown",
   "id": "3d2f867b-8259-48df-857b-46d8af5bcdef",
   "metadata": {},
   "source": [
    "### 정적 페이지 데이터 수집\n",
    "- 네이버 연관 검색어 수집\n",
    "- bs4 : BeautifulSoup : HTML(str) > CSS Selector 를 이용하여 엘리먼트 선택"
   ]
  },
  {
   "cell_type": "code",
   "execution_count": 1,
   "id": "6f9ffd45-970e-4459-b26c-74525ef67c75",
   "metadata": {},
   "outputs": [],
   "source": [
    "import pandas as pd\n",
    "import requests\n",
    "from bs4 import BeautifulSoup"
   ]
  },
  {
   "cell_type": "code",
   "execution_count": null,
   "id": "db12b4e4-71c2-441a-82ba-abc0521b1fad",
   "metadata": {},
   "outputs": [],
   "source": [
    "# 1. 웹 서비스 분석 : URL"
   ]
  },
  {
   "cell_type": "code",
   "execution_count": 2,
   "id": "7f019bcd-9f50-4a15-af3a-4dce54f06b6c",
   "metadata": {},
   "outputs": [
    {
     "data": {
      "text/plain": [
       "'https://search.naver.com/search.naver?query=kt'"
      ]
     },
     "execution_count": 2,
     "metadata": {},
     "output_type": "execute_result"
    }
   ],
   "source": [
    "#url = 'https://search.naver.com/search.naver?where=nexearch&sm=top_hty&fbm=1&ie=utf8&query=kt'\n",
    "keyword = 'kt'\n",
    "url = f'https://search.naver.com/search.naver?query={keyword}'\n",
    "url"
   ]
  },
  {
   "cell_type": "code",
   "execution_count": null,
   "id": "760f0844-43d3-416e-8af3-3f8a36644c16",
   "metadata": {},
   "outputs": [],
   "source": [
    "# 2. request(url) > response(html) : HTML(str)"
   ]
  },
  {
   "cell_type": "code",
   "execution_count": 3,
   "id": "86b9e468-8275-4954-bea6-587ac776ac2a",
   "metadata": {},
   "outputs": [
    {
     "data": {
      "text/plain": [
       "<Response [200]>"
      ]
     },
     "execution_count": 3,
     "metadata": {},
     "output_type": "execute_result"
    }
   ],
   "source": [
    "response = requests.get(url)\n",
    "response"
   ]
  },
  {
   "cell_type": "code",
   "execution_count": 4,
   "id": "1b629de1-600c-492a-8c65-6692d022d9fc",
   "metadata": {},
   "outputs": [
    {
     "data": {
      "text/plain": [
       "'<!doctype html> <html lang=\"ko\"> <head> <meta charset=\"utf-8\"> <meta name=\"referrer\" content=\"always\">  <meta name=\"format-detection\" content=\"telephone=no,address=no,email=no\"> <meta name=\"viewport\" content=\"width=devic'"
      ]
     },
     "execution_count": 4,
     "metadata": {},
     "output_type": "execute_result"
    }
   ],
   "source": [
    "response.text[:220]"
   ]
  },
  {
   "cell_type": "code",
   "execution_count": null,
   "id": "1673d8e8-6cb6-4855-a2de-3713cf7808af",
   "metadata": {},
   "outputs": [],
   "source": [
    "# 3. HTML(str) > BeautifulSoup Object > BS(CSS Selector) > Data"
   ]
  },
  {
   "cell_type": "code",
   "execution_count": 5,
   "id": "72bfcd72-3928-4339-9162-c05df9f656e4",
   "metadata": {},
   "outputs": [
    {
     "data": {
      "text/plain": [
       "bs4.BeautifulSoup"
      ]
     },
     "execution_count": 5,
     "metadata": {},
     "output_type": "execute_result"
    }
   ],
   "source": [
    "dom = BeautifulSoup(response.text, \"html.parser\")\n",
    "type(dom)"
   ]
  },
  {
   "cell_type": "code",
   "execution_count": 10,
   "id": "ac407db7-ad52-4fe8-9ee3-04606d9cf474",
   "metadata": {},
   "outputs": [
    {
     "data": {
      "text/plain": [
       "10"
      ]
     },
     "execution_count": 10,
     "metadata": {},
     "output_type": "execute_result"
    }
   ],
   "source": [
    "# select() : 엘리먼트 여러개 선택\n",
    "# select_one() : 엘리먼트 한개 선택\n",
    "elements = dom.select(\".lst_related_srch > .item\")\n",
    "len(elements)"
   ]
  },
  {
   "cell_type": "code",
   "execution_count": 8,
   "id": "6afe1ca1-197f-43a7-9e86-7a553504ac22",
   "metadata": {},
   "outputs": [
    {
     "data": {
      "text/plain": [
       "<li class=\"item\"> <a class=\"keyword\" href=\"?where=nexearch&amp;query=%EC%82%BC%EC%84%B1%EC%A0%84%EC%9E%90&amp;ie=utf8&amp;sm=tab_she&amp;qdt=0\" onclick=\"return goOtherCR(this, 'a=rsk_btm*q.list1&amp;r=1&amp;u=' + urlencode(this.href))\"> <div class=\"tit\">삼성전자</div> </a> </li>"
      ]
     },
     "execution_count": 8,
     "metadata": {},
     "output_type": "execute_result"
    }
   ],
   "source": [
    "elements[0]"
   ]
  },
  {
   "cell_type": "code",
   "execution_count": 12,
   "id": "a9cca307-093a-4c58-8595-f710e0d6e71b",
   "metadata": {},
   "outputs": [
    {
     "name": "stdout",
     "output_type": "stream",
     "text": [
      "['삼성전자', 'kt 고객센터', 'kt 인터넷', 'ky', '환율', 'kr', '날씨', 'kt 대리점', 'SKT', 'kt 고객센터 전화번호']\n"
     ]
    }
   ],
   "source": [
    "keywords = []\n",
    "for element in elements:\n",
    "    keyword = element.select_one(\".tit\").text\n",
    "    keywords.append(keyword)\n",
    "print(keywords)"
   ]
  },
  {
   "cell_type": "code",
   "execution_count": 13,
   "id": "90eb995c-7611-45ea-a593-fe571fb59483",
   "metadata": {},
   "outputs": [
    {
     "name": "stdout",
     "output_type": "stream",
     "text": [
      "['삼성전자', 'kt 고객센터', 'kt 인터넷', 'ky', '환율', 'kr', '날씨', 'kt 대리점', 'SKT', 'kt 고객센터 전화번호']\n"
     ]
    }
   ],
   "source": [
    "keywords = [element.select_one(\".tit\").text for element in elements]\n",
    "print(keywords)"
   ]
  },
  {
   "cell_type": "code",
   "execution_count": null,
   "id": "c4519a19-81cb-43c1-ba38-f8f01a11b4ea",
   "metadata": {},
   "outputs": [],
   "source": [
    "# 4. Data > DataFrame"
   ]
  },
  {
   "cell_type": "code",
   "execution_count": null,
   "id": "f8fc935b-d389-4653-9e4a-085275a7d624",
   "metadata": {},
   "outputs": [],
   "source": []
  },
  {
   "cell_type": "code",
   "execution_count": null,
   "id": "185da272-6067-47d4-9ecb-836c6f229cce",
   "metadata": {},
   "outputs": [],
   "source": []
  },
  {
   "cell_type": "code",
   "execution_count": null,
   "id": "c1106223-81be-4679-8819-58efe6015f53",
   "metadata": {},
   "outputs": [],
   "source": []
  },
  {
   "cell_type": "code",
   "execution_count": null,
   "id": "2a55b378-7215-4144-b2e1-38c3a9ba55dd",
   "metadata": {},
   "outputs": [],
   "source": []
  },
  {
   "cell_type": "code",
   "execution_count": null,
   "id": "fae27e05-b3ac-4c74-986e-251d8b164fac",
   "metadata": {},
   "outputs": [],
   "source": []
  },
  {
   "cell_type": "code",
   "execution_count": null,
   "id": "86bff971-cf46-49ba-aed7-cd8db91524b4",
   "metadata": {},
   "outputs": [],
   "source": []
  },
  {
   "cell_type": "code",
   "execution_count": null,
   "id": "55b3e317-e033-4e44-9686-ad12c17c2b15",
   "metadata": {},
   "outputs": [],
   "source": []
  }
 ],
 "metadata": {
  "kernelspec": {
   "display_name": "Python 3 (ipykernel)",
   "language": "python",
   "name": "python3"
  },
  "language_info": {
   "codemirror_mode": {
    "name": "ipython",
    "version": 3
   },
   "file_extension": ".py",
   "mimetype": "text/x-python",
   "name": "python",
   "nbconvert_exporter": "python",
   "pygments_lexer": "ipython3",
   "version": "3.9.12"
  }
 },
 "nbformat": 4,
 "nbformat_minor": 5
}
