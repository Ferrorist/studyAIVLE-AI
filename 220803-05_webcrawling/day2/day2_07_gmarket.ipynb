{
 "cells": [
  {
   "cell_type": "markdown",
   "id": "ae2cc74b-943b-46e8-81ed-13254e627bd9",
   "metadata": {},
   "source": [
    "### gmarket \n",
    "- 베스트 상품 200개 수집"
   ]
  },
  {
   "cell_type": "code",
   "execution_count": 1,
   "id": "f1b68d08-c8ce-480b-9db2-fa85d1f096a0",
   "metadata": {},
   "outputs": [],
   "source": [
    "import pandas as pd\n",
    "import requests\n",
    "from bs4 import BeautifulSoup"
   ]
  },
  {
   "cell_type": "code",
   "execution_count": null,
   "id": "1c5dddac-1e89-4359-bda3-bf6a8d5d1201",
   "metadata": {},
   "outputs": [],
   "source": [
    "# 1. URL"
   ]
  },
  {
   "cell_type": "code",
   "execution_count": 4,
   "id": "9eb09515-9f8d-4bc0-b099-bd14c86a5438",
   "metadata": {},
   "outputs": [],
   "source": [
    "url = 'http://corners.gmarket.co.kr/Bestsellers'"
   ]
  },
  {
   "cell_type": "code",
   "execution_count": null,
   "id": "6d5e1fd5-8b47-40ed-9cf4-1b8f242f78fc",
   "metadata": {},
   "outputs": [],
   "source": [
    "# 2. request > response : URL"
   ]
  },
  {
   "cell_type": "code",
   "execution_count": 5,
   "id": "4a9b2851-1b66-4122-aa77-2804a8b36394",
   "metadata": {},
   "outputs": [
    {
     "data": {
      "text/plain": [
       "<Response [200]>"
      ]
     },
     "execution_count": 5,
     "metadata": {},
     "output_type": "execute_result"
    }
   ],
   "source": [
    "response = requests.get(url)\n",
    "response"
   ]
  },
  {
   "cell_type": "code",
   "execution_count": 7,
   "id": "57ddca2d-d4ad-4f58-a1e0-367a176f2ddf",
   "metadata": {},
   "outputs": [
    {
     "data": {
      "text/plain": [
       "'<!DOCTYPE HTML PUBLIC \"-//W3C//DTD HTML 4.01 Transitional//EN\" \"http://www.w3.org/TR/html4/loose.dtd\">\\r\\n<html lang=\"ko\">\\r\\n<head>\\r\\n\\t<title>G마켓 - G마켓 베스트</title>\\r\\n\\t<meta http-equiv=\"X-UA-Compatible\" content=\"IE=edge\" />\\r\\n\\t<meta http-equiv=\"content-type\" content=\"text/html; charset=utf-8\" />\\r\\n\\t<meta ht'"
      ]
     },
     "execution_count": 7,
     "metadata": {},
     "output_type": "execute_result"
    }
   ],
   "source": [
    "response.text[:300] # html인 것을 확인"
   ]
  },
  {
   "cell_type": "code",
   "execution_count": null,
   "id": "f7d9c643-10ef-4700-849f-617ed60969f8",
   "metadata": {},
   "outputs": [],
   "source": [
    "# 3. HTML(str) > BeautifulSoup Object"
   ]
  },
  {
   "cell_type": "code",
   "execution_count": 8,
   "id": "53eeb59b-17f1-48cf-9445-2723acfc2093",
   "metadata": {},
   "outputs": [
    {
     "data": {
      "text/plain": [
       "bs4.BeautifulSoup"
      ]
     },
     "execution_count": 8,
     "metadata": {},
     "output_type": "execute_result"
    }
   ],
   "source": [
    "dom = BeautifulSoup(response.text, \"html.parser\")\n",
    "type(dom)"
   ]
  },
  {
   "cell_type": "code",
   "execution_count": 2,
   "id": "d2f2aa43-1e1a-4886-8294-2c9fb0905fdd",
   "metadata": {},
   "outputs": [],
   "source": [
    "# 4. css-selector > DataFrame"
   ]
  },
  {
   "cell_type": "code",
   "execution_count": 10,
   "id": "af6f714c-de1f-4114-8dbd-7531d8dc3880",
   "metadata": {},
   "outputs": [
    {
     "data": {
      "text/plain": [
       "200"
      ]
     },
     "execution_count": 10,
     "metadata": {},
     "output_type": "execute_result"
    }
   ],
   "source": [
    "# 200개 상품 엘리먼트 선택\n",
    "elements = dom.select(\"#gBestWrap > div > div:nth-child(5) > div > ul > li\") # 개발자 도구에서 마우스 우클릭 후 Copy > Copy selector로 복사가 가능.\n",
    "len(elements)"
   ]
  },
  {
   "cell_type": "code",
   "execution_count": 19,
   "id": "863ef7e6-0c0d-44ec-a8a3-bd8597ca060d",
   "metadata": {},
   "outputs": [
    {
     "data": {
      "text/plain": [
       "<li class=\"first\">\n",
       "<p class=\"no1\" id=\"no1\">1</p>\n",
       "<div class=\"thumb\">\n",
       "<a href=\"http://item.gmarket.co.kr/Item?goodscode=1798110680&amp;ver=637952285167968851\" onclick=\"pdsClickLog('200000680', 'Item', {'ASN': 1, 'goodsCode': '1798110680'});\"><img alt=\"[한상궁김치]한상궁김치 국산 겉절이 2kg 출고당일생산\" class=\"lazy\" data-original=\"//gdimg.gmarket.co.kr/1798110680/still/300?ver=2022080416\" height=\"210\" src=\"//image.gmarket.co.kr/challenge/neo_image/no_image.gif\" width=\"210\"/></a>\n",
       "</div>\n",
       "<!--div class=\"goods-view\">\n",
       "\t\t\t\t\t\t\t\t\t<a href=\"http://minishop.gmarket.co.kr/hansanggungfood\"><span class=\"view\">판매자 다른상품 보기</span>맛있는한상궁</a>\n",
       "\t\t\t\t\t\t\t\t</div-->\n",
       "<a class=\"itemname\" href=\"http://item.gmarket.co.kr/Item?goodscode=1798110680&amp;ver=637952285167968851\" onclick=\"pdsClickLog('200000680', 'Item', {'ASN': 1, 'goodsCode': '1798110680'});\">[한상궁김치]한상궁김치 국산 겉절이 2kg 출고당일생산</a>\n",
       "<div class=\"item_price\">\n",
       "<div class=\"o-price\"><span><span>23,400원</span></span></div>\n",
       "<div class=\"s-price\">\n",
       "<strong><span><span>11,000원</span></span></strong>\n",
       "<span><span class=\"sale\"></span><em>52%</em></span>\n",
       "</div>\n",
       "<div class=\"icon\">\n",
       "<img alt=\"무료배송\" src=\"//pics.gmkt.kr/pc/ko/corner/gbest/ic_freeshipping.gif\"/>\n",
       "</div>\n",
       "</div>\n",
       "</li>"
      ]
     },
     "execution_count": 19,
     "metadata": {},
     "output_type": "execute_result"
    }
   ],
   "source": [
    "element = elements[0]\n",
    "element"
   ]
  },
  {
   "cell_type": "code",
   "execution_count": 21,
   "id": "5435bb0a-a470-4cac-b701-eb00cb13f707",
   "metadata": {},
   "outputs": [
    {
     "data": {
      "text/plain": [
       "{'title': '[한상궁김치]한상궁김치 국산 겉절이 2kg 출고당일생산',\n",
       " 'o_price': '23,400원',\n",
       " 's_price': '11,000원',\n",
       " 'img': 'http://gdimg.gmarket.co.kr/1798110680/still/300?ver=2022080416'}"
      ]
     },
     "execution_count": 21,
     "metadata": {},
     "output_type": "execute_result"
    }
   ],
   "source": [
    "data = {\n",
    "    \"title\": element.select_one(\".itemname\").text,\n",
    "    \"o_price\" : element.select_one(\".o-price\").text,\n",
    "    \"s_price\" : element.select_one(\".s-price > strong\").text,\n",
    "    \"img\" : \"http:\" + element.select_one(\"img\").get(\"data-original\"),\n",
    "}\n",
    "data"
   ]
  },
  {
   "cell_type": "code",
   "execution_count": 23,
   "id": "3513fba9-0e62-43bb-93d6-49d1e33e31e4",
   "metadata": {},
   "outputs": [
    {
     "data": {
      "text/plain": [
       "[{'title': '[한상궁김치]한상궁김치 국산 겉절이 2kg 출고당일생산',\n",
       "  'o_price': '23,400원',\n",
       "  's_price': '11,000원',\n",
       "  'img': 'http://gdimg.gmarket.co.kr/1798110680/still/300?ver=2022080416'},\n",
       " {'title': '[광동]아이스웨일 레몬라임 탄산수 500ml 40pet/음료/음료수',\n",
       "  'o_price': '17,300원',\n",
       "  's_price': '13,900원',\n",
       "  'img': 'http://gdimg.gmarket.co.kr/2355814801/still/300?ver=2022080416'}]"
      ]
     },
     "execution_count": 23,
     "metadata": {},
     "output_type": "execute_result"
    }
   ],
   "source": [
    "items = []\n",
    "for element in elements:\n",
    "    data = {\n",
    "    \"title\": element.select_one(\".itemname\").text,\n",
    "    \"o_price\" : element.select_one(\".o-price\").text,\n",
    "    \"s_price\" : element.select_one(\".s-price > strong\").text,\n",
    "    \"img\" : \"http:\" + element.select_one(\"img\").get(\"data-original\"),\n",
    "    }\n",
    "    items.append(data)\n",
    "items[:2]"
   ]
  },
  {
   "cell_type": "code",
   "execution_count": 24,
   "id": "14e0361a-397d-4bb5-a0da-7f77fa7bfbd4",
   "metadata": {},
   "outputs": [
    {
     "data": {
      "text/html": [
       "<div>\n",
       "<style scoped>\n",
       "    .dataframe tbody tr th:only-of-type {\n",
       "        vertical-align: middle;\n",
       "    }\n",
       "\n",
       "    .dataframe tbody tr th {\n",
       "        vertical-align: top;\n",
       "    }\n",
       "\n",
       "    .dataframe thead th {\n",
       "        text-align: right;\n",
       "    }\n",
       "</style>\n",
       "<table border=\"1\" class=\"dataframe\">\n",
       "  <thead>\n",
       "    <tr style=\"text-align: right;\">\n",
       "      <th></th>\n",
       "      <th>title</th>\n",
       "      <th>o_price</th>\n",
       "      <th>s_price</th>\n",
       "      <th>img</th>\n",
       "    </tr>\n",
       "  </thead>\n",
       "  <tbody>\n",
       "    <tr>\n",
       "      <th>198</th>\n",
       "      <td>주니어김영사 놓지 마 어휘 한자어 1 2 3 4 번 전4권 세트</td>\n",
       "      <td>81,000원</td>\n",
       "      <td>55,200원</td>\n",
       "      <td>http://gdimg.gmarket.co.kr/2298871614/still/30...</td>\n",
       "    </tr>\n",
       "    <tr>\n",
       "      <th>199</th>\n",
       "      <td>김치메밀전병900gx2봉1.8kg/만두 간식 메밀 2봉/HACCP/</td>\n",
       "      <td>19,900원</td>\n",
       "      <td>12,500원</td>\n",
       "      <td>http://gdimg.gmarket.co.kr/1521852173/still/30...</td>\n",
       "    </tr>\n",
       "  </tbody>\n",
       "</table>\n",
       "</div>"
      ],
      "text/plain": [
       "                                     title  o_price  s_price  \\\n",
       "198    주니어김영사 놓지 마 어휘 한자어 1 2 3 4 번 전4권 세트  81,000원  55,200원   \n",
       "199  김치메밀전병900gx2봉1.8kg/만두 간식 메밀 2봉/HACCP/  19,900원  12,500원   \n",
       "\n",
       "                                                   img  \n",
       "198  http://gdimg.gmarket.co.kr/2298871614/still/30...  \n",
       "199  http://gdimg.gmarket.co.kr/1521852173/still/30...  "
      ]
     },
     "execution_count": 24,
     "metadata": {},
     "output_type": "execute_result"
    }
   ],
   "source": [
    "df = pd.DataFrame(items)\n",
    "df.tail(2)"
   ]
  },
  {
   "cell_type": "code",
   "execution_count": null,
   "id": "829c3637-a88e-40f3-9cf2-408085cfcc0b",
   "metadata": {},
   "outputs": [],
   "source": [
    "# SUMMARY\n",
    "# 웹 페이지의 종류 : 동적 페이지 & 정적 페이지\n",
    "# 동적 페이지 : URL 변경 없이 웹 페이지 데이터 변경 : json : API\n",
    "# 정적 페이지 : URL 변경하여 웹 페이지 데이터 변경 : html : BeautifulSoup(css selector)"
   ]
  },
  {
   "cell_type": "code",
   "execution_count": null,
   "id": "e62e893b-09b8-4703-bf83-b8db41dd3e96",
   "metadata": {},
   "outputs": [],
   "source": [
    "# 실습\n",
    "# naver api : 검색어 트렌드\n",
    "# zigbang(직방) : 원룸 데이터 수집\n",
    "# daum exchange : headers 설정하여 데이터 수집 (user-agent, referer)\n",
    "# html, css-selector\n",
    "# naver relational keyword\n",
    "# gmarket items"
   ]
  },
  {
   "cell_type": "code",
   "execution_count": 25,
   "id": "799f7176-970a-4886-a199-0406e11c8d59",
   "metadata": {},
   "outputs": [],
   "source": [
    "# 내일 배울 것.\n",
    "# crawling images\n",
    "# crawling selenium\n",
    "# xpath (css selector보다 좋음)\n",
    "# python web crawling framework : scrapy"
   ]
  },
  {
   "cell_type": "code",
   "execution_count": null,
   "id": "18d46ab4-7ce0-40c5-9b92-06e64230bb1d",
   "metadata": {},
   "outputs": [],
   "source": []
  }
 ],
 "metadata": {
  "kernelspec": {
   "display_name": "Python 3 (ipykernel)",
   "language": "python",
   "name": "python3"
  },
  "language_info": {
   "codemirror_mode": {
    "name": "ipython",
    "version": 3
   },
   "file_extension": ".py",
   "mimetype": "text/x-python",
   "name": "python",
   "nbconvert_exporter": "python",
   "pygments_lexer": "ipython3",
   "version": "3.9.12"
  }
 },
 "nbformat": 4,
 "nbformat_minor": 5
}
