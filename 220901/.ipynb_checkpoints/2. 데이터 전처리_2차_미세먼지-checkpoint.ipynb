{
 "cells": [
  {
   "cell_type": "markdown",
   "id": "55add5c1",
   "metadata": {},
   "source": [
    "# 안녕하세요^^ \n",
    "# AIVLE 미니 프로젝트에 오신 여러분을 환영합니다.\n",
    "* 본 과정에서는 실제 사례와 데이터를 기반으로 문제를 해결하는 전체 과정을 자기 주도형 실습으로 진행해볼 예정입니다.\n",
    "* 앞선 교육과정을 정리하는 마음과 지금까지 배운 내용을 바탕으로 문제 해결을 해볼게요!\n",
    "* 미니 프로젝트를 통한 문제 해결 과정 'A에서 Z까지', 지금부터 시작합니다!"
   ]
  },
  {
   "cell_type": "markdown",
   "id": "84008ade",
   "metadata": {},
   "source": [
    "---"
   ]
  },
  {
   "cell_type": "code",
   "execution_count": null,
   "id": "1cc7de55",
   "metadata": {},
   "outputs": [],
   "source": [
    "# 필요 라이브러리부터 설치할께요.\n",
    "#!pip install pandas seaborn"
   ]
  },
  {
   "cell_type": "markdown",
   "id": "74c09d16",
   "metadata": {},
   "source": [
    "---"
   ]
  },
  {
   "cell_type": "markdown",
   "id": "bright-evolution",
   "metadata": {},
   "source": [
    "# (실습준비) 데이터 불러오기부터"
   ]
  },
  {
   "cell_type": "code",
   "execution_count": 2,
   "id": "innocent-token",
   "metadata": {},
   "outputs": [],
   "source": [
    "import pandas as pd\n",
    "from datetime import datetime, timedelta\n",
    "\n",
    "# 학습 데이터 로딩\n",
    "air_21 = pd.read_csv(\"air_2021.csv\", sep=',', index_col = 0, encoding = 'utf-8' )\n",
    "air_22 = pd.read_csv(\"air_2022.csv\", sep=',', index_col = 0, encoding = 'utf-8' )\n",
    "weather_21 = pd.read_csv(\"weather_2021.csv\", sep = ',', encoding='cp949')\n",
    "weather_22 = pd.read_csv(\"weather_2022.csv\", sep = ',', encoding='cp949')"
   ]
  },
  {
   "cell_type": "code",
   "execution_count": 34,
   "id": "d6d1ce61",
   "metadata": {},
   "outputs": [],
   "source": [
    "weather_21 = pd.read_csv(\"weather_2021.csv\", sep = ',', encoding='cp949')"
   ]
  },
  {
   "cell_type": "code",
   "execution_count": 18,
   "id": "00f7c57e",
   "metadata": {},
   "outputs": [],
   "source": [
    "pd.set_option('display.max_columns', 100)"
   ]
  },
  {
   "cell_type": "markdown",
   "id": "polished-myrtle",
   "metadata": {},
   "source": [
    "---"
   ]
  },
  {
   "cell_type": "markdown",
   "id": "palestinian-catalog",
   "metadata": {},
   "source": [
    "# 1. 이상치/결측치 처리"
   ]
  },
  {
   "cell_type": "markdown",
   "id": "sublime-extreme",
   "metadata": {},
   "source": [
    "#### [실습문제1] 미세먼지 데이터 결측치 처리\n",
    "* 미세먼지 데이터의 결측치를 확인하고 결측치가 존재한다면 처리해주세요.\n",
    "\n",
    "\n",
    "* 앞서 데이터 불러오기 및 분석 단계에서 확인한 불필요한 변수에 대해 제거 해 주세요. "
   ]
  },
  {
   "cell_type": "code",
   "execution_count": 3,
   "id": "banner-nitrogen",
   "metadata": {},
   "outputs": [],
   "source": [
    "# 아래에 실습코드를 작성하고 결과를 확인합니다."
   ]
  },
  {
   "cell_type": "code",
   "execution_count": 6,
   "id": "5b3684fc",
   "metadata": {},
   "outputs": [],
   "source": [
    "air_dropcols = ['지역', '망', '측정소코드', '측정소명', '주소']\n",
    "air_21.drop(air_dropcols, axis=1, inplace=True)\n",
    "air_22.drop(air_dropcols, axis=1, inplace=True)"
   ]
  },
  {
   "cell_type": "code",
   "execution_count": 15,
   "id": "a5c65260",
   "metadata": {},
   "outputs": [],
   "source": [
    "air_21.rename(columns={'일시':'측정일시'}, inplace=True)\n",
    "air_22.rename(columns={'일시':'측정일시'}, inplace=True)"
   ]
  },
  {
   "cell_type": "code",
   "execution_count": 16,
   "id": "e1bff851",
   "metadata": {},
   "outputs": [
    {
     "data": {
      "text/html": [
       "<div>\n",
       "<style scoped>\n",
       "    .dataframe tbody tr th:only-of-type {\n",
       "        vertical-align: middle;\n",
       "    }\n",
       "\n",
       "    .dataframe tbody tr th {\n",
       "        vertical-align: top;\n",
       "    }\n",
       "\n",
       "    .dataframe thead th {\n",
       "        text-align: right;\n",
       "    }\n",
       "</style>\n",
       "<table border=\"1\" class=\"dataframe\">\n",
       "  <thead>\n",
       "    <tr style=\"text-align: right;\">\n",
       "      <th></th>\n",
       "      <th>측정일시</th>\n",
       "      <th>SO2</th>\n",
       "      <th>CO</th>\n",
       "      <th>O3</th>\n",
       "      <th>NO2</th>\n",
       "      <th>PM10</th>\n",
       "      <th>PM25</th>\n",
       "      <th>hour</th>\n",
       "    </tr>\n",
       "  </thead>\n",
       "  <tbody>\n",
       "    <tr>\n",
       "      <th>0</th>\n",
       "      <td>2021-10-01</td>\n",
       "      <td>0.003</td>\n",
       "      <td>0.6</td>\n",
       "      <td>0.002</td>\n",
       "      <td>0.039</td>\n",
       "      <td>31.0</td>\n",
       "      <td>18.0</td>\n",
       "      <td>1</td>\n",
       "    </tr>\n",
       "    <tr>\n",
       "      <th>1</th>\n",
       "      <td>2021-10-01</td>\n",
       "      <td>0.003</td>\n",
       "      <td>0.6</td>\n",
       "      <td>0.002</td>\n",
       "      <td>0.035</td>\n",
       "      <td>27.0</td>\n",
       "      <td>16.0</td>\n",
       "      <td>2</td>\n",
       "    </tr>\n",
       "    <tr>\n",
       "      <th>2</th>\n",
       "      <td>2021-10-01</td>\n",
       "      <td>0.003</td>\n",
       "      <td>0.6</td>\n",
       "      <td>0.002</td>\n",
       "      <td>0.033</td>\n",
       "      <td>28.0</td>\n",
       "      <td>18.0</td>\n",
       "      <td>3</td>\n",
       "    </tr>\n",
       "    <tr>\n",
       "      <th>3</th>\n",
       "      <td>2021-10-01</td>\n",
       "      <td>0.003</td>\n",
       "      <td>0.6</td>\n",
       "      <td>0.002</td>\n",
       "      <td>0.030</td>\n",
       "      <td>26.0</td>\n",
       "      <td>16.0</td>\n",
       "      <td>4</td>\n",
       "    </tr>\n",
       "    <tr>\n",
       "      <th>4</th>\n",
       "      <td>2021-10-01</td>\n",
       "      <td>0.003</td>\n",
       "      <td>0.5</td>\n",
       "      <td>0.003</td>\n",
       "      <td>0.026</td>\n",
       "      <td>26.0</td>\n",
       "      <td>16.0</td>\n",
       "      <td>5</td>\n",
       "    </tr>\n",
       "  </tbody>\n",
       "</table>\n",
       "</div>"
      ],
      "text/plain": [
       "         측정일시    SO2   CO     O3    NO2  PM10  PM25  hour\n",
       "0  2021-10-01  0.003  0.6  0.002  0.039  31.0  18.0     1\n",
       "1  2021-10-01  0.003  0.6  0.002  0.035  27.0  16.0     2\n",
       "2  2021-10-01  0.003  0.6  0.002  0.033  28.0  18.0     3\n",
       "3  2021-10-01  0.003  0.6  0.002  0.030  26.0  16.0     4\n",
       "4  2021-10-01  0.003  0.5  0.003  0.026  26.0  16.0     5"
      ]
     },
     "execution_count": 16,
     "metadata": {},
     "output_type": "execute_result"
    }
   ],
   "source": [
    "air_21.head()"
   ]
  },
  {
   "cell_type": "code",
   "execution_count": null,
   "id": "f85891aa",
   "metadata": {},
   "outputs": [],
   "source": [
    "# 아래에 실습코드를 작성하고 결과를 확인합니다.\n"
   ]
  },
  {
   "cell_type": "markdown",
   "id": "89892756",
   "metadata": {},
   "source": [
    "#### [실습문제2] 날씨 데이터 결측치 처리\n",
    "* 날씨 데이터의 결측치를 확인하고 결측치가 존재한다면 처리해주세요.\n",
    "\n",
    "* '강우량'을 어떻게 해야할까요?"
   ]
  },
  {
   "cell_type": "code",
   "execution_count": 39,
   "id": "59d60600",
   "metadata": {},
   "outputs": [
    {
     "data": {
      "text/html": [
       "<div>\n",
       "<style scoped>\n",
       "    .dataframe tbody tr th:only-of-type {\n",
       "        vertical-align: middle;\n",
       "    }\n",
       "\n",
       "    .dataframe tbody tr th {\n",
       "        vertical-align: top;\n",
       "    }\n",
       "\n",
       "    .dataframe thead th {\n",
       "        text-align: right;\n",
       "    }\n",
       "</style>\n",
       "<table border=\"1\" class=\"dataframe\">\n",
       "  <thead>\n",
       "    <tr style=\"text-align: right;\">\n",
       "      <th></th>\n",
       "      <th>측정일시</th>\n",
       "      <th>기온(°C)</th>\n",
       "      <th>강수량(mm)</th>\n",
       "      <th>풍속(m/s)</th>\n",
       "      <th>풍향(16방위)</th>\n",
       "      <th>습도(%)</th>\n",
       "      <th>증기압(hPa)</th>\n",
       "      <th>이슬점온도(°C)</th>\n",
       "      <th>현지기압(hPa)</th>\n",
       "      <th>해면기압(hPa)</th>\n",
       "      <th>일조(hr)</th>\n",
       "      <th>일사(MJ/m2)</th>\n",
       "      <th>적설(cm)</th>\n",
       "      <th>전운량(10분위)</th>\n",
       "      <th>중하층운량(10분위)</th>\n",
       "      <th>최저운고(100m )</th>\n",
       "      <th>시정(10m)</th>\n",
       "      <th>지면온도(°C)</th>\n",
       "      <th>5cm 지중온도(°C)</th>\n",
       "      <th>10cm 지중온도(°C)</th>\n",
       "      <th>20cm 지중온도(°C)</th>\n",
       "      <th>30cm 지중온도(°C)</th>\n",
       "      <th>hour</th>\n",
       "    </tr>\n",
       "  </thead>\n",
       "  <tbody>\n",
       "    <tr>\n",
       "      <th>0</th>\n",
       "      <td>2021-01-01</td>\n",
       "      <td>-8.7</td>\n",
       "      <td>NaN</td>\n",
       "      <td>2.4</td>\n",
       "      <td>270.0</td>\n",
       "      <td>68</td>\n",
       "      <td>2.2</td>\n",
       "      <td>-13.5</td>\n",
       "      <td>1016.4</td>\n",
       "      <td>1027.7</td>\n",
       "      <td>NaN</td>\n",
       "      <td>NaN</td>\n",
       "      <td>NaN</td>\n",
       "      <td>0.0</td>\n",
       "      <td>0</td>\n",
       "      <td>NaN</td>\n",
       "      <td>2000</td>\n",
       "      <td>-6.9</td>\n",
       "      <td>-1.0</td>\n",
       "      <td>-0.8</td>\n",
       "      <td>0.3</td>\n",
       "      <td>1.6</td>\n",
       "      <td>1</td>\n",
       "    </tr>\n",
       "    <tr>\n",
       "      <th>1</th>\n",
       "      <td>2021-01-01</td>\n",
       "      <td>-9.1</td>\n",
       "      <td>NaN</td>\n",
       "      <td>1.6</td>\n",
       "      <td>270.0</td>\n",
       "      <td>69</td>\n",
       "      <td>2.1</td>\n",
       "      <td>-13.7</td>\n",
       "      <td>1016.2</td>\n",
       "      <td>1027.5</td>\n",
       "      <td>NaN</td>\n",
       "      <td>NaN</td>\n",
       "      <td>NaN</td>\n",
       "      <td>0.0</td>\n",
       "      <td>0</td>\n",
       "      <td>NaN</td>\n",
       "      <td>2000</td>\n",
       "      <td>-7.1</td>\n",
       "      <td>-1.1</td>\n",
       "      <td>-0.8</td>\n",
       "      <td>0.3</td>\n",
       "      <td>1.6</td>\n",
       "      <td>2</td>\n",
       "    </tr>\n",
       "    <tr>\n",
       "      <th>2</th>\n",
       "      <td>2021-01-01</td>\n",
       "      <td>-9.3</td>\n",
       "      <td>NaN</td>\n",
       "      <td>1.1</td>\n",
       "      <td>250.0</td>\n",
       "      <td>70</td>\n",
       "      <td>2.1</td>\n",
       "      <td>-13.7</td>\n",
       "      <td>1016.8</td>\n",
       "      <td>1028.1</td>\n",
       "      <td>NaN</td>\n",
       "      <td>NaN</td>\n",
       "      <td>NaN</td>\n",
       "      <td>0.0</td>\n",
       "      <td>0</td>\n",
       "      <td>NaN</td>\n",
       "      <td>2000</td>\n",
       "      <td>-7.3</td>\n",
       "      <td>-1.2</td>\n",
       "      <td>-0.9</td>\n",
       "      <td>0.3</td>\n",
       "      <td>1.6</td>\n",
       "      <td>3</td>\n",
       "    </tr>\n",
       "    <tr>\n",
       "      <th>3</th>\n",
       "      <td>2021-01-01</td>\n",
       "      <td>-9.3</td>\n",
       "      <td>NaN</td>\n",
       "      <td>0.3</td>\n",
       "      <td>0.0</td>\n",
       "      <td>71</td>\n",
       "      <td>2.2</td>\n",
       "      <td>-13.5</td>\n",
       "      <td>1016.2</td>\n",
       "      <td>1027.5</td>\n",
       "      <td>NaN</td>\n",
       "      <td>NaN</td>\n",
       "      <td>NaN</td>\n",
       "      <td>0.0</td>\n",
       "      <td>0</td>\n",
       "      <td>NaN</td>\n",
       "      <td>2000</td>\n",
       "      <td>-7.5</td>\n",
       "      <td>-1.3</td>\n",
       "      <td>-1.0</td>\n",
       "      <td>0.2</td>\n",
       "      <td>1.5</td>\n",
       "      <td>4</td>\n",
       "    </tr>\n",
       "    <tr>\n",
       "      <th>4</th>\n",
       "      <td>2021-01-01</td>\n",
       "      <td>-9.7</td>\n",
       "      <td>NaN</td>\n",
       "      <td>1.9</td>\n",
       "      <td>20.0</td>\n",
       "      <td>72</td>\n",
       "      <td>2.1</td>\n",
       "      <td>-13.8</td>\n",
       "      <td>1015.6</td>\n",
       "      <td>1026.9</td>\n",
       "      <td>NaN</td>\n",
       "      <td>NaN</td>\n",
       "      <td>NaN</td>\n",
       "      <td>0.0</td>\n",
       "      <td>0</td>\n",
       "      <td>NaN</td>\n",
       "      <td>2000</td>\n",
       "      <td>-7.6</td>\n",
       "      <td>-1.3</td>\n",
       "      <td>-1.0</td>\n",
       "      <td>0.2</td>\n",
       "      <td>1.5</td>\n",
       "      <td>5</td>\n",
       "    </tr>\n",
       "  </tbody>\n",
       "</table>\n",
       "</div>"
      ],
      "text/plain": [
       "         측정일시  기온(°C)  강수량(mm)  풍속(m/s)  풍향(16방위)  습도(%)  증기압(hPa)  이슬점온도(°C)  \\\n",
       "0  2021-01-01    -8.7      NaN      2.4     270.0     68       2.2      -13.5   \n",
       "1  2021-01-01    -9.1      NaN      1.6     270.0     69       2.1      -13.7   \n",
       "2  2021-01-01    -9.3      NaN      1.1     250.0     70       2.1      -13.7   \n",
       "3  2021-01-01    -9.3      NaN      0.3       0.0     71       2.2      -13.5   \n",
       "4  2021-01-01    -9.7      NaN      1.9      20.0     72       2.1      -13.8   \n",
       "\n",
       "   현지기압(hPa)  해면기압(hPa)  일조(hr)  일사(MJ/m2)  적설(cm)  전운량(10분위)  중하층운량(10분위)  \\\n",
       "0     1016.4     1027.7     NaN        NaN     NaN        0.0            0   \n",
       "1     1016.2     1027.5     NaN        NaN     NaN        0.0            0   \n",
       "2     1016.8     1028.1     NaN        NaN     NaN        0.0            0   \n",
       "3     1016.2     1027.5     NaN        NaN     NaN        0.0            0   \n",
       "4     1015.6     1026.9     NaN        NaN     NaN        0.0            0   \n",
       "\n",
       "   최저운고(100m )  시정(10m)  지면온도(°C)  5cm 지중온도(°C)  10cm 지중온도(°C)  20cm 지중온도(°C)  \\\n",
       "0          NaN     2000      -6.9          -1.0           -0.8            0.3   \n",
       "1          NaN     2000      -7.1          -1.1           -0.8            0.3   \n",
       "2          NaN     2000      -7.3          -1.2           -0.9            0.3   \n",
       "3          NaN     2000      -7.5          -1.3           -1.0            0.2   \n",
       "4          NaN     2000      -7.6          -1.3           -1.0            0.2   \n",
       "\n",
       "   30cm 지중온도(°C)  hour  \n",
       "0            1.6     1  \n",
       "1            1.6     2  \n",
       "2            1.6     3  \n",
       "3            1.5     4  \n",
       "4            1.5     5  "
      ]
     },
     "execution_count": 39,
     "metadata": {},
     "output_type": "execute_result"
    }
   ],
   "source": [
    "weather_21.head()"
   ]
  },
  {
   "cell_type": "code",
   "execution_count": 38,
   "id": "de29796c",
   "metadata": {
    "scrolled": true
   },
   "outputs": [
    {
     "ename": "KeyError",
     "evalue": "\"['지점', '지점명', '지면상태(지면상태코드)', '현상번호(국내식)', '3시간신적설(cm)', '운형(운형약어)', '지면상태(지면상태코드)', '기온 QC플래그', '강수량 QC플래그', '풍속 QC플래그', '풍향 QC플래그', '습도 QC플래그', '현지기압 QC플래그', '해면기압 QC플래그', '일조 QC플래그', '일사 QC플래그', '지면온도 QC플래그'] not found in axis\"",
     "output_type": "error",
     "traceback": [
      "\u001b[1;31m---------------------------------------------------------------------------\u001b[0m",
      "\u001b[1;31mKeyError\u001b[0m                                  Traceback (most recent call last)",
      "Input \u001b[1;32mIn [38]\u001b[0m, in \u001b[0;36m<cell line: 5>\u001b[1;34m()\u001b[0m\n\u001b[0;32m      1\u001b[0m drop_col \u001b[38;5;241m=\u001b[39m [\u001b[38;5;124m'\u001b[39m\u001b[38;5;124m지점\u001b[39m\u001b[38;5;124m'\u001b[39m,\u001b[38;5;124m'\u001b[39m\u001b[38;5;124m지점명\u001b[39m\u001b[38;5;124m'\u001b[39m, \u001b[38;5;124m'\u001b[39m\u001b[38;5;124m지면상태(지면상태코드)\u001b[39m\u001b[38;5;124m'\u001b[39m, \u001b[38;5;124m'\u001b[39m\u001b[38;5;124m현상번호(국내식)\u001b[39m\u001b[38;5;124m'\u001b[39m,\u001b[38;5;124m'\u001b[39m\u001b[38;5;124m3시간신적설(cm)\u001b[39m\u001b[38;5;124m'\u001b[39m,\u001b[38;5;124m'\u001b[39m\u001b[38;5;124m운형(운형약어)\u001b[39m\u001b[38;5;124m'\u001b[39m,\u001b[38;5;124m'\u001b[39m\u001b[38;5;124m지면상태(지면상태코드)\u001b[39m\u001b[38;5;124m'\u001b[39m,\n\u001b[0;32m      2\u001b[0m            \u001b[38;5;124m'\u001b[39m\u001b[38;5;124m기온 QC플래그\u001b[39m\u001b[38;5;124m'\u001b[39m, \u001b[38;5;124m'\u001b[39m\u001b[38;5;124m강수량 QC플래그\u001b[39m\u001b[38;5;124m'\u001b[39m, \u001b[38;5;124m'\u001b[39m\u001b[38;5;124m풍속 QC플래그\u001b[39m\u001b[38;5;124m'\u001b[39m, \u001b[38;5;124m'\u001b[39m\u001b[38;5;124m풍향 QC플래그\u001b[39m\u001b[38;5;124m'\u001b[39m,\n\u001b[0;32m      3\u001b[0m           \u001b[38;5;124m'\u001b[39m\u001b[38;5;124m습도 QC플래그\u001b[39m\u001b[38;5;124m'\u001b[39m, \u001b[38;5;124m'\u001b[39m\u001b[38;5;124m현지기압 QC플래그\u001b[39m\u001b[38;5;124m'\u001b[39m, \u001b[38;5;124m'\u001b[39m\u001b[38;5;124m해면기압 QC플래그\u001b[39m\u001b[38;5;124m'\u001b[39m, \u001b[38;5;124m'\u001b[39m\u001b[38;5;124m일조 QC플래그\u001b[39m\u001b[38;5;124m'\u001b[39m, \u001b[38;5;124m'\u001b[39m\u001b[38;5;124m일사 QC플래그\u001b[39m\u001b[38;5;124m'\u001b[39m,\n\u001b[0;32m      4\u001b[0m           \u001b[38;5;124m'\u001b[39m\u001b[38;5;124m지면온도 QC플래그\u001b[39m\u001b[38;5;124m'\u001b[39m]\n\u001b[1;32m----> 5\u001b[0m \u001b[43mweather_21\u001b[49m\u001b[38;5;241;43m.\u001b[39;49m\u001b[43mdrop\u001b[49m\u001b[43m(\u001b[49m\u001b[43mdrop_col\u001b[49m\u001b[43m,\u001b[49m\u001b[43m \u001b[49m\u001b[43maxis\u001b[49m\u001b[38;5;241;43m=\u001b[39;49m\u001b[38;5;241;43m1\u001b[39;49m\u001b[43m,\u001b[49m\u001b[43m \u001b[49m\u001b[43minplace\u001b[49m\u001b[38;5;241;43m=\u001b[39;49m\u001b[38;5;28;43;01mTrue\u001b[39;49;00m\u001b[43m)\u001b[49m\n",
      "File \u001b[1;32mD:\\Anaconda\\lib\\site-packages\\pandas\\util\\_decorators.py:311\u001b[0m, in \u001b[0;36mdeprecate_nonkeyword_arguments.<locals>.decorate.<locals>.wrapper\u001b[1;34m(*args, **kwargs)\u001b[0m\n\u001b[0;32m    305\u001b[0m \u001b[38;5;28;01mif\u001b[39;00m \u001b[38;5;28mlen\u001b[39m(args) \u001b[38;5;241m>\u001b[39m num_allow_args:\n\u001b[0;32m    306\u001b[0m     warnings\u001b[38;5;241m.\u001b[39mwarn(\n\u001b[0;32m    307\u001b[0m         msg\u001b[38;5;241m.\u001b[39mformat(arguments\u001b[38;5;241m=\u001b[39marguments),\n\u001b[0;32m    308\u001b[0m         \u001b[38;5;167;01mFutureWarning\u001b[39;00m,\n\u001b[0;32m    309\u001b[0m         stacklevel\u001b[38;5;241m=\u001b[39mstacklevel,\n\u001b[0;32m    310\u001b[0m     )\n\u001b[1;32m--> 311\u001b[0m \u001b[38;5;28;01mreturn\u001b[39;00m func(\u001b[38;5;241m*\u001b[39margs, \u001b[38;5;241m*\u001b[39m\u001b[38;5;241m*\u001b[39mkwargs)\n",
      "File \u001b[1;32mD:\\Anaconda\\lib\\site-packages\\pandas\\core\\frame.py:4954\u001b[0m, in \u001b[0;36mDataFrame.drop\u001b[1;34m(self, labels, axis, index, columns, level, inplace, errors)\u001b[0m\n\u001b[0;32m   4806\u001b[0m \u001b[38;5;129m@deprecate_nonkeyword_arguments\u001b[39m(version\u001b[38;5;241m=\u001b[39m\u001b[38;5;28;01mNone\u001b[39;00m, allowed_args\u001b[38;5;241m=\u001b[39m[\u001b[38;5;124m\"\u001b[39m\u001b[38;5;124mself\u001b[39m\u001b[38;5;124m\"\u001b[39m, \u001b[38;5;124m\"\u001b[39m\u001b[38;5;124mlabels\u001b[39m\u001b[38;5;124m\"\u001b[39m])\n\u001b[0;32m   4807\u001b[0m \u001b[38;5;28;01mdef\u001b[39;00m \u001b[38;5;21mdrop\u001b[39m(\n\u001b[0;32m   4808\u001b[0m     \u001b[38;5;28mself\u001b[39m,\n\u001b[1;32m   (...)\u001b[0m\n\u001b[0;32m   4815\u001b[0m     errors: \u001b[38;5;28mstr\u001b[39m \u001b[38;5;241m=\u001b[39m \u001b[38;5;124m\"\u001b[39m\u001b[38;5;124mraise\u001b[39m\u001b[38;5;124m\"\u001b[39m,\n\u001b[0;32m   4816\u001b[0m ):\n\u001b[0;32m   4817\u001b[0m     \u001b[38;5;124;03m\"\"\"\u001b[39;00m\n\u001b[0;32m   4818\u001b[0m \u001b[38;5;124;03m    Drop specified labels from rows or columns.\u001b[39;00m\n\u001b[0;32m   4819\u001b[0m \n\u001b[1;32m   (...)\u001b[0m\n\u001b[0;32m   4952\u001b[0m \u001b[38;5;124;03m            weight  1.0     0.8\u001b[39;00m\n\u001b[0;32m   4953\u001b[0m \u001b[38;5;124;03m    \"\"\"\u001b[39;00m\n\u001b[1;32m-> 4954\u001b[0m     \u001b[38;5;28;01mreturn\u001b[39;00m \u001b[38;5;28;43msuper\u001b[39;49m\u001b[43m(\u001b[49m\u001b[43m)\u001b[49m\u001b[38;5;241;43m.\u001b[39;49m\u001b[43mdrop\u001b[49m\u001b[43m(\u001b[49m\n\u001b[0;32m   4955\u001b[0m \u001b[43m        \u001b[49m\u001b[43mlabels\u001b[49m\u001b[38;5;241;43m=\u001b[39;49m\u001b[43mlabels\u001b[49m\u001b[43m,\u001b[49m\n\u001b[0;32m   4956\u001b[0m \u001b[43m        \u001b[49m\u001b[43maxis\u001b[49m\u001b[38;5;241;43m=\u001b[39;49m\u001b[43maxis\u001b[49m\u001b[43m,\u001b[49m\n\u001b[0;32m   4957\u001b[0m \u001b[43m        \u001b[49m\u001b[43mindex\u001b[49m\u001b[38;5;241;43m=\u001b[39;49m\u001b[43mindex\u001b[49m\u001b[43m,\u001b[49m\n\u001b[0;32m   4958\u001b[0m \u001b[43m        \u001b[49m\u001b[43mcolumns\u001b[49m\u001b[38;5;241;43m=\u001b[39;49m\u001b[43mcolumns\u001b[49m\u001b[43m,\u001b[49m\n\u001b[0;32m   4959\u001b[0m \u001b[43m        \u001b[49m\u001b[43mlevel\u001b[49m\u001b[38;5;241;43m=\u001b[39;49m\u001b[43mlevel\u001b[49m\u001b[43m,\u001b[49m\n\u001b[0;32m   4960\u001b[0m \u001b[43m        \u001b[49m\u001b[43minplace\u001b[49m\u001b[38;5;241;43m=\u001b[39;49m\u001b[43minplace\u001b[49m\u001b[43m,\u001b[49m\n\u001b[0;32m   4961\u001b[0m \u001b[43m        \u001b[49m\u001b[43merrors\u001b[49m\u001b[38;5;241;43m=\u001b[39;49m\u001b[43merrors\u001b[49m\u001b[43m,\u001b[49m\n\u001b[0;32m   4962\u001b[0m \u001b[43m    \u001b[49m\u001b[43m)\u001b[49m\n",
      "File \u001b[1;32mD:\\Anaconda\\lib\\site-packages\\pandas\\core\\generic.py:4267\u001b[0m, in \u001b[0;36mNDFrame.drop\u001b[1;34m(self, labels, axis, index, columns, level, inplace, errors)\u001b[0m\n\u001b[0;32m   4265\u001b[0m \u001b[38;5;28;01mfor\u001b[39;00m axis, labels \u001b[38;5;129;01min\u001b[39;00m axes\u001b[38;5;241m.\u001b[39mitems():\n\u001b[0;32m   4266\u001b[0m     \u001b[38;5;28;01mif\u001b[39;00m labels \u001b[38;5;129;01mis\u001b[39;00m \u001b[38;5;129;01mnot\u001b[39;00m \u001b[38;5;28;01mNone\u001b[39;00m:\n\u001b[1;32m-> 4267\u001b[0m         obj \u001b[38;5;241m=\u001b[39m \u001b[43mobj\u001b[49m\u001b[38;5;241;43m.\u001b[39;49m\u001b[43m_drop_axis\u001b[49m\u001b[43m(\u001b[49m\u001b[43mlabels\u001b[49m\u001b[43m,\u001b[49m\u001b[43m \u001b[49m\u001b[43maxis\u001b[49m\u001b[43m,\u001b[49m\u001b[43m \u001b[49m\u001b[43mlevel\u001b[49m\u001b[38;5;241;43m=\u001b[39;49m\u001b[43mlevel\u001b[49m\u001b[43m,\u001b[49m\u001b[43m \u001b[49m\u001b[43merrors\u001b[49m\u001b[38;5;241;43m=\u001b[39;49m\u001b[43merrors\u001b[49m\u001b[43m)\u001b[49m\n\u001b[0;32m   4269\u001b[0m \u001b[38;5;28;01mif\u001b[39;00m inplace:\n\u001b[0;32m   4270\u001b[0m     \u001b[38;5;28mself\u001b[39m\u001b[38;5;241m.\u001b[39m_update_inplace(obj)\n",
      "File \u001b[1;32mD:\\Anaconda\\lib\\site-packages\\pandas\\core\\generic.py:4311\u001b[0m, in \u001b[0;36mNDFrame._drop_axis\u001b[1;34m(self, labels, axis, level, errors, consolidate, only_slice)\u001b[0m\n\u001b[0;32m   4309\u001b[0m         new_axis \u001b[38;5;241m=\u001b[39m axis\u001b[38;5;241m.\u001b[39mdrop(labels, level\u001b[38;5;241m=\u001b[39mlevel, errors\u001b[38;5;241m=\u001b[39merrors)\n\u001b[0;32m   4310\u001b[0m     \u001b[38;5;28;01melse\u001b[39;00m:\n\u001b[1;32m-> 4311\u001b[0m         new_axis \u001b[38;5;241m=\u001b[39m \u001b[43maxis\u001b[49m\u001b[38;5;241;43m.\u001b[39;49m\u001b[43mdrop\u001b[49m\u001b[43m(\u001b[49m\u001b[43mlabels\u001b[49m\u001b[43m,\u001b[49m\u001b[43m \u001b[49m\u001b[43merrors\u001b[49m\u001b[38;5;241;43m=\u001b[39;49m\u001b[43merrors\u001b[49m\u001b[43m)\u001b[49m\n\u001b[0;32m   4312\u001b[0m     indexer \u001b[38;5;241m=\u001b[39m axis\u001b[38;5;241m.\u001b[39mget_indexer(new_axis)\n\u001b[0;32m   4314\u001b[0m \u001b[38;5;66;03m# Case for non-unique axis\u001b[39;00m\n\u001b[0;32m   4315\u001b[0m \u001b[38;5;28;01melse\u001b[39;00m:\n",
      "File \u001b[1;32mD:\\Anaconda\\lib\\site-packages\\pandas\\core\\indexes\\base.py:6644\u001b[0m, in \u001b[0;36mIndex.drop\u001b[1;34m(self, labels, errors)\u001b[0m\n\u001b[0;32m   6642\u001b[0m \u001b[38;5;28;01mif\u001b[39;00m mask\u001b[38;5;241m.\u001b[39many():\n\u001b[0;32m   6643\u001b[0m     \u001b[38;5;28;01mif\u001b[39;00m errors \u001b[38;5;241m!=\u001b[39m \u001b[38;5;124m\"\u001b[39m\u001b[38;5;124mignore\u001b[39m\u001b[38;5;124m\"\u001b[39m:\n\u001b[1;32m-> 6644\u001b[0m         \u001b[38;5;28;01mraise\u001b[39;00m \u001b[38;5;167;01mKeyError\u001b[39;00m(\u001b[38;5;124mf\u001b[39m\u001b[38;5;124m\"\u001b[39m\u001b[38;5;132;01m{\u001b[39;00m\u001b[38;5;28mlist\u001b[39m(labels[mask])\u001b[38;5;132;01m}\u001b[39;00m\u001b[38;5;124m not found in axis\u001b[39m\u001b[38;5;124m\"\u001b[39m)\n\u001b[0;32m   6645\u001b[0m     indexer \u001b[38;5;241m=\u001b[39m indexer[\u001b[38;5;241m~\u001b[39mmask]\n\u001b[0;32m   6646\u001b[0m \u001b[38;5;28;01mreturn\u001b[39;00m \u001b[38;5;28mself\u001b[39m\u001b[38;5;241m.\u001b[39mdelete(indexer)\n",
      "\u001b[1;31mKeyError\u001b[0m: \"['지점', '지점명', '지면상태(지면상태코드)', '현상번호(국내식)', '3시간신적설(cm)', '운형(운형약어)', '지면상태(지면상태코드)', '기온 QC플래그', '강수량 QC플래그', '풍속 QC플래그', '풍향 QC플래그', '습도 QC플래그', '현지기압 QC플래그', '해면기압 QC플래그', '일조 QC플래그', '일사 QC플래그', '지면온도 QC플래그'] not found in axis\""
     ]
    }
   ],
   "source": [
    "drop_col = ['지점','지점명', '지면상태(지면상태코드)', '현상번호(국내식)','3시간신적설(cm)','운형(운형약어)','지면상태(지면상태코드)',\n",
    "           '기온 QC플래그', '강수량 QC플래그', '풍속 QC플래그', '풍향 QC플래그',\n",
    "          '습도 QC플래그', '현지기압 QC플래그', '해면기압 QC플래그', '일조 QC플래그', '일사 QC플래그',\n",
    "          '지면온도 QC플래그']\n",
    "weather_21.drop(drop_col, axis=1, inplace=True)"
   ]
  },
  {
   "cell_type": "code",
   "execution_count": null,
   "id": "49229811",
   "metadata": {},
   "outputs": [],
   "source": [
    "weather_22.drop(drop_col, axis=1, inplace=True)"
   ]
  },
  {
   "cell_type": "code",
   "execution_count": 61,
   "id": "f6b0ed6d",
   "metadata": {},
   "outputs": [
    {
     "data": {
      "text/plain": [
       "측정일시                0\n",
       "기온(°C)              0\n",
       "강수량(mm)             0\n",
       "풍속(m/s)             0\n",
       "풍향(16방위)            0\n",
       "습도(%)               0\n",
       "증기압(hPa)            0\n",
       "이슬점온도(°C)           0\n",
       "현지기압(hPa)           0\n",
       "해면기압(hPa)           0\n",
       "일조(hr)              0\n",
       "일사(MJ/m2)           0\n",
       "적설(cm)              0\n",
       "전운량(10분위)           0\n",
       "중하층운량(10분위)         0\n",
       "최저운고(100m )      1417\n",
       "시정(10m)             0\n",
       "지면온도(°C)            0\n",
       "5cm 지중온도(°C)        0\n",
       "10cm 지중온도(°C)       0\n",
       "20cm 지중온도(°C)       0\n",
       "30cm 지중온도(°C)       0\n",
       "hour                0\n",
       "dtype: int64"
      ]
     },
     "execution_count": 61,
     "metadata": {},
     "output_type": "execute_result"
    }
   ],
   "source": [
    "weather_22.isna().sum()"
   ]
  },
  {
   "cell_type": "code",
   "execution_count": 63,
   "id": "7616245d",
   "metadata": {
    "scrolled": false
   },
   "outputs": [
    {
     "data": {
      "text/plain": [
       "측정일시                0\n",
       "기온(°C)              0\n",
       "강수량(mm)             0\n",
       "풍속(m/s)             0\n",
       "풍향(16방위)            0\n",
       "습도(%)               0\n",
       "증기압(hPa)            0\n",
       "이슬점온도(°C)           0\n",
       "현지기압(hPa)           0\n",
       "해면기압(hPa)           0\n",
       "일조(hr)              0\n",
       "일사(MJ/m2)           0\n",
       "적설(cm)              0\n",
       "전운량(10분위)           0\n",
       "중하층운량(10분위)         0\n",
       "최저운고(100m )      4212\n",
       "시정(10m)             0\n",
       "지면온도(°C)            0\n",
       "5cm 지중온도(°C)        0\n",
       "10cm 지중온도(°C)       0\n",
       "20cm 지중온도(°C)       0\n",
       "30cm 지중온도(°C)       0\n",
       "hour                0\n",
       "dtype: int64"
      ]
     },
     "execution_count": 63,
     "metadata": {},
     "output_type": "execute_result"
    }
   ],
   "source": [
    "weather_21.isna().sum()"
   ]
  },
  {
   "cell_type": "code",
   "execution_count": 45,
   "id": "08dba510",
   "metadata": {},
   "outputs": [],
   "source": [
    "# 2021-01-07 11:00~13:00 제외한 값은 nan이므로 밤일때는 일조, 일사량을 0으로 채운다.\n",
    "weather_21.loc[((weather_21['hour']>18) | (weather_21['hour']<8)) &  (weather_21['일조(hr)'].isnull()), '일조(hr)'] = 0\n",
    "weather_21.loc[((weather_21['hour']>18) | (weather_21['hour']<8)) &  (weather_21['일사(MJ/m2)'].isnull()), '일사(MJ/m2)'] = 0"
   ]
  },
  {
   "cell_type": "code",
   "execution_count": 51,
   "id": "b44a0e29",
   "metadata": {},
   "outputs": [],
   "source": [
    "weather_22['일조(hr)'].fillna(0, inplace=True)\n",
    "weather_22['일사(MJ/m2)'].fillna(0, inplace=True)"
   ]
  },
  {
   "cell_type": "code",
   "execution_count": 52,
   "id": "5961afba",
   "metadata": {},
   "outputs": [],
   "source": [
    "weather_21['강수량(mm)'].fillna(0, inplace=True)\n",
    "weather_22['강수량(mm)'].fillna(0, inplace=True)\n",
    "weather_21['적설(cm)'].fillna(0, inplace=True)\n",
    "weather_22['적설(cm)'].fillna(0, inplace=True)"
   ]
  },
  {
   "cell_type": "code",
   "execution_count": 57,
   "id": "3c798cad",
   "metadata": {},
   "outputs": [],
   "source": [
    "weather_21['풍속(m/s)'] = weather_21['풍속(m/s)'].interpolate()"
   ]
  },
  {
   "cell_type": "code",
   "execution_count": 58,
   "id": "7552ff66",
   "metadata": {},
   "outputs": [],
   "source": [
    "weather_21['풍향(16방위)'] = weather_21['풍향(16방위)'].fillna(method='ffill')"
   ]
  },
  {
   "cell_type": "code",
   "execution_count": 62,
   "id": "007f369e",
   "metadata": {},
   "outputs": [],
   "source": [
    "cols3 = ['일조(hr)', '일사(MJ/m2)', '전운량(10분위)', '지면온도(°C)', '5cm 지중온도(°C)', '10cm 지중온도(°C)', '20cm 지중온도(°C)', '30cm 지중온도(°C)']\n",
    "for column in cols3:\n",
    "    weather_21[column] = weather_21[column].interpolate()"
   ]
  },
  {
   "cell_type": "code",
   "execution_count": 64,
   "id": "7ef5197e",
   "metadata": {},
   "outputs": [],
   "source": [
    "weather_21.to_csv('pre_weather_2021.csv', index=False)\n",
    "weather_22.to_csv('pre_weather_2022.csv', index=False)"
   ]
  },
  {
   "cell_type": "code",
   "execution_count": 12,
   "id": "3553fb5f",
   "metadata": {},
   "outputs": [
    {
     "data": {
      "text/html": [
       "<div>\n",
       "<style scoped>\n",
       "    .dataframe tbody tr th:only-of-type {\n",
       "        vertical-align: middle;\n",
       "    }\n",
       "\n",
       "    .dataframe tbody tr th {\n",
       "        vertical-align: top;\n",
       "    }\n",
       "\n",
       "    .dataframe thead th {\n",
       "        text-align: right;\n",
       "    }\n",
       "</style>\n",
       "<table border=\"1\" class=\"dataframe\">\n",
       "  <thead>\n",
       "    <tr style=\"text-align: right;\">\n",
       "      <th></th>\n",
       "      <th>일시</th>\n",
       "      <th>기온(°C)</th>\n",
       "      <th>강수량(mm)</th>\n",
       "      <th>풍속(m/s)</th>\n",
       "      <th>풍향(16방위)</th>\n",
       "      <th>습도(%)</th>\n",
       "      <th>증기압(hPa)</th>\n",
       "      <th>이슬점온도(°C)</th>\n",
       "      <th>현지기압(hPa)</th>\n",
       "      <th>해면기압(hPa)</th>\n",
       "      <th>...</th>\n",
       "      <th>전운량(10분위)</th>\n",
       "      <th>중하층운량(10분위)</th>\n",
       "      <th>최저운고(100m )</th>\n",
       "      <th>시정(10m)</th>\n",
       "      <th>지면온도(°C)</th>\n",
       "      <th>5cm 지중온도(°C)</th>\n",
       "      <th>10cm 지중온도(°C)</th>\n",
       "      <th>20cm 지중온도(°C)</th>\n",
       "      <th>30cm 지중온도(°C)</th>\n",
       "      <th>hour</th>\n",
       "    </tr>\n",
       "  </thead>\n",
       "  <tbody>\n",
       "    <tr>\n",
       "      <th>0</th>\n",
       "      <td>2021-01-01</td>\n",
       "      <td>-8.7</td>\n",
       "      <td>NaN</td>\n",
       "      <td>2.4</td>\n",
       "      <td>270.0</td>\n",
       "      <td>68</td>\n",
       "      <td>2.2</td>\n",
       "      <td>-13.5</td>\n",
       "      <td>1016.4</td>\n",
       "      <td>1027.7</td>\n",
       "      <td>...</td>\n",
       "      <td>0.0</td>\n",
       "      <td>0</td>\n",
       "      <td>NaN</td>\n",
       "      <td>2000</td>\n",
       "      <td>-6.9</td>\n",
       "      <td>-1.0</td>\n",
       "      <td>-0.8</td>\n",
       "      <td>0.3</td>\n",
       "      <td>1.6</td>\n",
       "      <td>1</td>\n",
       "    </tr>\n",
       "    <tr>\n",
       "      <th>1</th>\n",
       "      <td>2021-01-01</td>\n",
       "      <td>-9.1</td>\n",
       "      <td>NaN</td>\n",
       "      <td>1.6</td>\n",
       "      <td>270.0</td>\n",
       "      <td>69</td>\n",
       "      <td>2.1</td>\n",
       "      <td>-13.7</td>\n",
       "      <td>1016.2</td>\n",
       "      <td>1027.5</td>\n",
       "      <td>...</td>\n",
       "      <td>0.0</td>\n",
       "      <td>0</td>\n",
       "      <td>NaN</td>\n",
       "      <td>2000</td>\n",
       "      <td>-7.1</td>\n",
       "      <td>-1.1</td>\n",
       "      <td>-0.8</td>\n",
       "      <td>0.3</td>\n",
       "      <td>1.6</td>\n",
       "      <td>2</td>\n",
       "    </tr>\n",
       "    <tr>\n",
       "      <th>2</th>\n",
       "      <td>2021-01-01</td>\n",
       "      <td>-9.3</td>\n",
       "      <td>NaN</td>\n",
       "      <td>1.1</td>\n",
       "      <td>250.0</td>\n",
       "      <td>70</td>\n",
       "      <td>2.1</td>\n",
       "      <td>-13.7</td>\n",
       "      <td>1016.8</td>\n",
       "      <td>1028.1</td>\n",
       "      <td>...</td>\n",
       "      <td>0.0</td>\n",
       "      <td>0</td>\n",
       "      <td>NaN</td>\n",
       "      <td>2000</td>\n",
       "      <td>-7.3</td>\n",
       "      <td>-1.2</td>\n",
       "      <td>-0.9</td>\n",
       "      <td>0.3</td>\n",
       "      <td>1.6</td>\n",
       "      <td>3</td>\n",
       "    </tr>\n",
       "    <tr>\n",
       "      <th>3</th>\n",
       "      <td>2021-01-01</td>\n",
       "      <td>-9.3</td>\n",
       "      <td>NaN</td>\n",
       "      <td>0.3</td>\n",
       "      <td>0.0</td>\n",
       "      <td>71</td>\n",
       "      <td>2.2</td>\n",
       "      <td>-13.5</td>\n",
       "      <td>1016.2</td>\n",
       "      <td>1027.5</td>\n",
       "      <td>...</td>\n",
       "      <td>0.0</td>\n",
       "      <td>0</td>\n",
       "      <td>NaN</td>\n",
       "      <td>2000</td>\n",
       "      <td>-7.5</td>\n",
       "      <td>-1.3</td>\n",
       "      <td>-1.0</td>\n",
       "      <td>0.2</td>\n",
       "      <td>1.5</td>\n",
       "      <td>4</td>\n",
       "    </tr>\n",
       "    <tr>\n",
       "      <th>4</th>\n",
       "      <td>2021-01-01</td>\n",
       "      <td>-9.7</td>\n",
       "      <td>NaN</td>\n",
       "      <td>1.9</td>\n",
       "      <td>20.0</td>\n",
       "      <td>72</td>\n",
       "      <td>2.1</td>\n",
       "      <td>-13.8</td>\n",
       "      <td>1015.6</td>\n",
       "      <td>1026.9</td>\n",
       "      <td>...</td>\n",
       "      <td>0.0</td>\n",
       "      <td>0</td>\n",
       "      <td>NaN</td>\n",
       "      <td>2000</td>\n",
       "      <td>-7.6</td>\n",
       "      <td>-1.3</td>\n",
       "      <td>-1.0</td>\n",
       "      <td>0.2</td>\n",
       "      <td>1.5</td>\n",
       "      <td>5</td>\n",
       "    </tr>\n",
       "  </tbody>\n",
       "</table>\n",
       "<p>5 rows × 23 columns</p>\n",
       "</div>"
      ],
      "text/plain": [
       "           일시  기온(°C)  강수량(mm)  풍속(m/s)  풍향(16방위)  습도(%)  증기압(hPa)  이슬점온도(°C)  \\\n",
       "0  2021-01-01    -8.7      NaN      2.4     270.0     68       2.2      -13.5   \n",
       "1  2021-01-01    -9.1      NaN      1.6     270.0     69       2.1      -13.7   \n",
       "2  2021-01-01    -9.3      NaN      1.1     250.0     70       2.1      -13.7   \n",
       "3  2021-01-01    -9.3      NaN      0.3       0.0     71       2.2      -13.5   \n",
       "4  2021-01-01    -9.7      NaN      1.9      20.0     72       2.1      -13.8   \n",
       "\n",
       "   현지기압(hPa)  해면기압(hPa)  ...  전운량(10분위)  중하층운량(10분위)  최저운고(100m )  시정(10m)  \\\n",
       "0     1016.4     1027.7  ...        0.0            0          NaN     2000   \n",
       "1     1016.2     1027.5  ...        0.0            0          NaN     2000   \n",
       "2     1016.8     1028.1  ...        0.0            0          NaN     2000   \n",
       "3     1016.2     1027.5  ...        0.0            0          NaN     2000   \n",
       "4     1015.6     1026.9  ...        0.0            0          NaN     2000   \n",
       "\n",
       "   지면온도(°C)  5cm 지중온도(°C)  10cm 지중온도(°C)  20cm 지중온도(°C)  30cm 지중온도(°C)  hour  \n",
       "0      -6.9          -1.0           -0.8            0.3            1.6     1  \n",
       "1      -7.1          -1.1           -0.8            0.3            1.6     2  \n",
       "2      -7.3          -1.2           -0.9            0.3            1.6     3  \n",
       "3      -7.5          -1.3           -1.0            0.2            1.5     4  \n",
       "4      -7.6          -1.3           -1.0            0.2            1.5     5  \n",
       "\n",
       "[5 rows x 23 columns]"
      ]
     },
     "execution_count": 12,
     "metadata": {},
     "output_type": "execute_result"
    }
   ],
   "source": [
    "# 아래에 실습코드를 작성하고 결과를 확인합니다.\n"
   ]
  },
  {
   "cell_type": "markdown",
   "id": "c260e7e5",
   "metadata": {},
   "source": [
    "#### [실습문제3] air_21, air_22 의 '측정일시'를 활용하여 'time'변수 생성하기\n",
    "\n",
    "\n",
    "* air_21, air_22 의 '측정일시'를 활용하여 'time'변수 생성\n",
    "\n",
    "\n",
    "* time 변수를 datatime으로 데이터 타입 변경하기"
   ]
  },
  {
   "cell_type": "code",
   "execution_count": null,
   "id": "50e65571",
   "metadata": {},
   "outputs": [],
   "source": [
    "# 아래에 실습코드를 작성하고 결과를 확인합니다.\n",
    "def air_date(air_21):\n",
    "    List = list(air_21['측정일시'])\n",
    "    for i in range(len(List)):\n",
    "        string = str(List[i])\n",
    "        date = string[:8]\n",
    "        hour = string[-2:]\n",
    "        formatted = datetime.strptime(date,'%Y%m%d')\n",
    "        formatted = formatted + timedelta(hours=int(hour))\n",
    "        air_21['측정일시'][i] = formatted\n",
    "\n",
    "    air_21['측정일시'] = pd.to_datetime(air_21['측정일시'])\n",
    "    air_21['hour'] = air_21['측정일시'].dt.hour\n",
    "    air_21['측정일시'] = air_21['측정일시'].dt.date\n",
    "    return air_21\n",
    "air_21 = air_date(air_21)\n",
    "air_22 = air_date(air_22)\n",
    "\n"
   ]
  },
  {
   "cell_type": "markdown",
   "id": "romantic-johnson",
   "metadata": {},
   "source": [
    "#### [실습문제4] weather_21, weather_22 의 '일시'를 활용하여 'time'변수 생성하기\n",
    "\n",
    "\n",
    "* weather_21, weather_22 의 '측정일시'를 활용하여 'time'변수 생성\n",
    "\n",
    "\n",
    "* time 변수를 datatime으로 데이터 타입 변경하기"
   ]
  },
  {
   "cell_type": "code",
   "execution_count": null,
   "id": "8ee1bae8",
   "metadata": {},
   "outputs": [],
   "source": [
    "# 아래에 실습코드를 작성하고 결과를 확인합니다.\n",
    "weather_22['일시'] = pd.to_datetime(weather_22['일시'])\n",
    "weather_22['hour'] = weather_22['일시'].dt.hour\n",
    "weather_22['일시'] = weather_22['일시'].dt.date"
   ]
  },
  {
   "cell_type": "code",
   "execution_count": 36,
   "id": "2f8be28f",
   "metadata": {},
   "outputs": [],
   "source": [
    "weather_21['일시'] = pd.to_datetime(weather_21['일시'])\n",
    "weather_21['hour'] = weather_21['일시'].dt.hour\n",
    "weather_21['일시'] = weather_21['일시'].dt.date"
   ]
  },
  {
   "cell_type": "code",
   "execution_count": 37,
   "id": "a80a3ac3",
   "metadata": {},
   "outputs": [],
   "source": [
    "weather_21.rename(columns={'일시':'측정일시'}, inplace=True)"
   ]
  },
  {
   "cell_type": "code",
   "execution_count": 17,
   "id": "726996c4",
   "metadata": {},
   "outputs": [],
   "source": [
    "weather_22.rename(columns={'일시':'측정일시'}, inplace=True)"
   ]
  },
  {
   "cell_type": "markdown",
   "id": "ef9eb7b0",
   "metadata": {},
   "source": [
    "---"
   ]
  },
  {
   "cell_type": "markdown",
   "id": "lyric-response",
   "metadata": {},
   "source": [
    "# 2. 데이터 합치기\n",
    "* 미세먼지 데이터와 날씨 데이터를 'time' 기준으로 합쳐보겠습니다"
   ]
  },
  {
   "cell_type": "markdown",
   "id": "coated-framework",
   "metadata": {},
   "source": [
    "#### [실습문제5] 데이터 합치기\n",
    "* 'df_21','df_22'에 21년도와 22년도의 미세먼지, 날씨 데이터를 합쳐 넣도록 하겠습니다."
   ]
  },
  {
   "cell_type": "code",
   "execution_count": null,
   "id": "8e77f9fa",
   "metadata": {},
   "outputs": [],
   "source": [
    "# 아래에 실습코드를 작성하고 결과를 확인합니다\n",
    "\n",
    "\n"
   ]
  },
  {
   "cell_type": "markdown",
   "id": "8a3e52e4",
   "metadata": {},
   "source": [
    "#### [실습문제6] 각종 인자 추가 및 사용하지 않을 변수 제거\n",
    "\n",
    "* 새로운 인자를 추가 하세요.\n",
    "\n",
    "\n",
    "* 머신러닝에 사용하지 않을 변수들을 제거해줍니다."
   ]
  },
  {
   "cell_type": "code",
   "execution_count": null,
   "id": "4efb9060",
   "metadata": {},
   "outputs": [],
   "source": [
    "# 아래에 실습코드를 작성하고 결과를 확인합니다\n",
    "\n",
    "\n"
   ]
  },
  {
   "cell_type": "code",
   "execution_count": null,
   "id": "d5ceccfc",
   "metadata": {},
   "outputs": [],
   "source": [
    "# 아래에 실습코드를 작성하고 결과를 확인합니다\n",
    "\n"
   ]
  },
  {
   "cell_type": "code",
   "execution_count": null,
   "id": "e3bd1706",
   "metadata": {},
   "outputs": [],
   "source": [
    "\n"
   ]
  },
  {
   "cell_type": "code",
   "execution_count": null,
   "id": "33ac1fdb",
   "metadata": {},
   "outputs": [],
   "source": [
    "\n"
   ]
  },
  {
   "cell_type": "markdown",
   "id": "109896eb",
   "metadata": {},
   "source": [
    "#### [실습문제7] 미세먼지 농도 다음시점 데이터 생성\n",
    "\n",
    "* t+1 시점 데이터 생성"
   ]
  },
  {
   "cell_type": "code",
   "execution_count": null,
   "id": "b5003c89",
   "metadata": {},
   "outputs": [],
   "source": [
    "# 아래에 실습코드를 작성하고 결과를 확인합니다\n",
    "\n"
   ]
  },
  {
   "cell_type": "markdown",
   "id": "27c6c592",
   "metadata": {},
   "source": [
    "---"
   ]
  },
  {
   "cell_type": "markdown",
   "id": "accepting-creativity",
   "metadata": {},
   "source": [
    "# 3. train / test split"
   ]
  },
  {
   "cell_type": "markdown",
   "id": "dependent-motion",
   "metadata": {},
   "source": [
    "#### [실습문제7] 데이터셋 나누기 \n",
    "\n",
    "* 데이터셋을 train(21년도 데이터), test(22년도 데이터)로 나눠 csv로 저장하도록 하겠습니다.\n",
    "\n",
    "\n",
    "* train_x / train_y / test_x / test_y 로 나누세요.\n",
    "\n",
    "\n",
    "* train_x.csv / train_y.csv / test_x.csv / test_y.csv 로 저장하세요."
   ]
  },
  {
   "cell_type": "code",
   "execution_count": null,
   "id": "92652b6b",
   "metadata": {},
   "outputs": [],
   "source": [
    "# 아래에 실습코드를 작성하고 결과를 확인합니다.\n",
    "\n"
   ]
  },
  {
   "cell_type": "code",
   "execution_count": null,
   "id": "db809b0e",
   "metadata": {},
   "outputs": [],
   "source": [
    "# 아래에 실습코드를 작성하고 결과를 확인합니다.\n",
    "\n"
   ]
  },
  {
   "cell_type": "markdown",
   "id": "dramatic-meditation",
   "metadata": {},
   "source": [
    "---"
   ]
  }
 ],
 "metadata": {
  "kernelspec": {
   "display_name": "Python 3 (ipykernel)",
   "language": "python",
   "name": "python3"
  },
  "language_info": {
   "codemirror_mode": {
    "name": "ipython",
    "version": 3
   },
   "file_extension": ".py",
   "mimetype": "text/x-python",
   "name": "python",
   "nbconvert_exporter": "python",
   "pygments_lexer": "ipython3",
   "version": "3.9.12"
  },
  "vscode": {
   "interpreter": {
    "hash": "f08154012ddadd8e950e6e9e035c7a7b32c136e7647e9b7c77e02eb723a8bedb"
   }
  }
 },
 "nbformat": 4,
 "nbformat_minor": 5
}
