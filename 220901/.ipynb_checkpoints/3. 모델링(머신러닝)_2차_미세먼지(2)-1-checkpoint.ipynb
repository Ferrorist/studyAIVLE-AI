{
 "cells": [
  {
   "cell_type": "markdown",
   "id": "22f7625f",
   "metadata": {},
   "source": [
    "# 안녕하세요^^ \n",
    "# AIVLE 미니 프로젝트에 오신 여러분을 환영합니다.\n",
    "* 본 과정에서는 실제 사례와 데이터를 기반으로 문제를 해결하는 전체 과정을 자기 주도형 실습으로 진행해볼 예정입니다.\n",
    "* 앞선 교육과정을 정리하는 마음과 지금까지 배운 내용을 바탕으로 문제 해결을 해볼게요!\n",
    "* 미니 프로젝트를 통한 문제 해결 과정 'A에서 Z까지', 지금부터 시작합니다!"
   ]
  },
  {
   "cell_type": "markdown",
   "id": "04b1edbb",
   "metadata": {},
   "source": [
    "---"
   ]
  },
  {
   "cell_type": "code",
   "execution_count": null,
   "id": "3c1789e6",
   "metadata": {},
   "outputs": [],
   "source": [
    "# 필요 라이브러리부터 설치할께요.\n",
    "!pip install pandas seaborn sklearn"
   ]
  },
  {
   "cell_type": "markdown",
   "id": "69d11f7f",
   "metadata": {},
   "source": [
    "---"
   ]
  },
  {
   "cell_type": "markdown",
   "id": "b5cf42a0",
   "metadata": {},
   "source": [
    "---"
   ]
  },
  {
   "cell_type": "markdown",
   "id": "skilled-burden",
   "metadata": {},
   "source": [
    "# 1. 라이브러리 Import 및 데이터 불러오기\n",
    "\n",
    "* sklearn 을 설치 하세요. \n",
    "\n",
    "* 관련 라이브러리들을 불러오세요"
   ]
  },
  {
   "cell_type": "code",
   "execution_count": 3,
   "id": "efficient-minutes",
   "metadata": {},
   "outputs": [],
   "source": [
    "import pandas as pd\n",
    "\n",
    "# 학습/평가 데이터 로딩\n",
    "df_21 = pd.read_csv(\"train2.csv\")\n",
    "df_22 = pd.read_csv(\"test2.csv\")"
   ]
  },
  {
   "cell_type": "markdown",
   "id": "forbidden-course",
   "metadata": {},
   "source": [
    "#### [실습문제1] 라이브러리 불러오기\n",
    "\n"
   ]
  },
  {
   "cell_type": "code",
   "execution_count": 1,
   "id": "changed-arrangement",
   "metadata": {
    "scrolled": true
   },
   "outputs": [],
   "source": [
    "import numpy as np\n",
    "import pandas as pd\n",
    "import matplotlib.pyplot as plt\n",
    "import seaborn as sns\n",
    "\n",
    "from sklearn.model_selection import train_test_split\n",
    "from sklearn.preprocessing import * # scaler\n",
    "import joblib\n",
    "\n",
    "from sklearn.linear_model import LinearRegression\n",
    "from sklearn.neighbors import KNeighborsRegressor\n",
    "from sklearn.tree import plot_tree, DecisionTreeRegressor\n",
    "from sklearn.svm import SVC\n",
    "from sklearn.metrics import * \n",
    "from sklearn.model_selection import RandomizedSearchCV, GridSearchCV\n",
    "from sklearn.tree import plot_tree\n",
    "from sklearn.ensemble import *\n",
    "from xgboost import plot_tree, XGBRegressor\n",
    "\n",
    "import statsmodels.api as sm\n",
    "from statsmodels.graphics.tsaplots import plot_acf, plot_pacf\n",
    "\n",
    "import warnings    # 경고메시지 제외\n",
    "warnings.filterwarnings(action='ignore')"
   ]
  },
  {
   "cell_type": "code",
   "execution_count": 2,
   "id": "dea1c07c",
   "metadata": {},
   "outputs": [],
   "source": [
    "# 시각화 한글폰트 설정\n",
    "plt.rc('font', family='Malgun Gothic')\n",
    "sns.set(font=\"Malgun Gothic\",#\"NanumGothicCoding\", \n",
    "        rc={\"axes.unicode_minus\":False}, # 마이너스 부호 깨짐 현상 해결\n",
    "        style='darkgrid')"
   ]
  },
  {
   "cell_type": "code",
   "execution_count": 107,
   "id": "23e321ef",
   "metadata": {
    "scrolled": true
   },
   "outputs": [
    {
     "data": {
      "text/html": [
       "<div>\n",
       "<style scoped>\n",
       "    .dataframe tbody tr th:only-of-type {\n",
       "        vertical-align: middle;\n",
       "    }\n",
       "\n",
       "    .dataframe tbody tr th {\n",
       "        vertical-align: top;\n",
       "    }\n",
       "\n",
       "    .dataframe thead th {\n",
       "        text-align: right;\n",
       "    }\n",
       "</style>\n",
       "<table border=\"1\" class=\"dataframe\">\n",
       "  <thead>\n",
       "    <tr style=\"text-align: right;\">\n",
       "      <th></th>\n",
       "      <th>측정일시</th>\n",
       "      <th>SO2</th>\n",
       "      <th>CO</th>\n",
       "      <th>O3</th>\n",
       "      <th>NO2</th>\n",
       "      <th>PM10</th>\n",
       "      <th>PM25</th>\n",
       "      <th>hour</th>\n",
       "      <th>기온(°C)</th>\n",
       "      <th>강수량(mm)</th>\n",
       "      <th>...</th>\n",
       "      <th>현지기압(hPa)</th>\n",
       "      <th>해면기압(hPa)</th>\n",
       "      <th>일조(hr)</th>\n",
       "      <th>일사(MJ/m2)</th>\n",
       "      <th>전운량(10분위)</th>\n",
       "      <th>중하층운량(10분위)</th>\n",
       "      <th>최저운고(100m )</th>\n",
       "      <th>시정(10m)</th>\n",
       "      <th>지면온도(°C)</th>\n",
       "      <th>PM10_t1</th>\n",
       "    </tr>\n",
       "  </thead>\n",
       "  <tbody>\n",
       "    <tr>\n",
       "      <th>0</th>\n",
       "      <td>2021-01-01</td>\n",
       "      <td>0.002</td>\n",
       "      <td>0.5</td>\n",
       "      <td>0.022</td>\n",
       "      <td>0.016</td>\n",
       "      <td>24.0</td>\n",
       "      <td>14.0</td>\n",
       "      <td>1</td>\n",
       "      <td>-8.7</td>\n",
       "      <td>0.0</td>\n",
       "      <td>...</td>\n",
       "      <td>1016.4</td>\n",
       "      <td>1027.7</td>\n",
       "      <td>0.0</td>\n",
       "      <td>0.0</td>\n",
       "      <td>0.0</td>\n",
       "      <td>0</td>\n",
       "      <td>12.0</td>\n",
       "      <td>2000</td>\n",
       "      <td>-6.9</td>\n",
       "      <td>25.0</td>\n",
       "    </tr>\n",
       "    <tr>\n",
       "      <th>1</th>\n",
       "      <td>2021-01-01</td>\n",
       "      <td>0.002</td>\n",
       "      <td>0.6</td>\n",
       "      <td>0.018</td>\n",
       "      <td>0.020</td>\n",
       "      <td>25.0</td>\n",
       "      <td>14.0</td>\n",
       "      <td>2</td>\n",
       "      <td>-9.1</td>\n",
       "      <td>0.0</td>\n",
       "      <td>...</td>\n",
       "      <td>1016.2</td>\n",
       "      <td>1027.5</td>\n",
       "      <td>0.0</td>\n",
       "      <td>0.0</td>\n",
       "      <td>0.0</td>\n",
       "      <td>0</td>\n",
       "      <td>12.0</td>\n",
       "      <td>2000</td>\n",
       "      <td>-7.1</td>\n",
       "      <td>27.0</td>\n",
       "    </tr>\n",
       "    <tr>\n",
       "      <th>2</th>\n",
       "      <td>2021-01-01</td>\n",
       "      <td>0.002</td>\n",
       "      <td>0.6</td>\n",
       "      <td>0.013</td>\n",
       "      <td>0.025</td>\n",
       "      <td>27.0</td>\n",
       "      <td>16.0</td>\n",
       "      <td>3</td>\n",
       "      <td>-9.3</td>\n",
       "      <td>0.0</td>\n",
       "      <td>...</td>\n",
       "      <td>1016.8</td>\n",
       "      <td>1028.1</td>\n",
       "      <td>0.0</td>\n",
       "      <td>0.0</td>\n",
       "      <td>0.0</td>\n",
       "      <td>0</td>\n",
       "      <td>12.0</td>\n",
       "      <td>2000</td>\n",
       "      <td>-7.3</td>\n",
       "      <td>23.0</td>\n",
       "    </tr>\n",
       "    <tr>\n",
       "      <th>3</th>\n",
       "      <td>2021-01-01</td>\n",
       "      <td>0.003</td>\n",
       "      <td>0.6</td>\n",
       "      <td>0.011</td>\n",
       "      <td>0.027</td>\n",
       "      <td>23.0</td>\n",
       "      <td>13.0</td>\n",
       "      <td>4</td>\n",
       "      <td>-9.3</td>\n",
       "      <td>0.0</td>\n",
       "      <td>...</td>\n",
       "      <td>1016.2</td>\n",
       "      <td>1027.5</td>\n",
       "      <td>0.0</td>\n",
       "      <td>0.0</td>\n",
       "      <td>0.0</td>\n",
       "      <td>0</td>\n",
       "      <td>12.0</td>\n",
       "      <td>2000</td>\n",
       "      <td>-7.5</td>\n",
       "      <td>24.0</td>\n",
       "    </tr>\n",
       "    <tr>\n",
       "      <th>4</th>\n",
       "      <td>2021-01-01</td>\n",
       "      <td>0.003</td>\n",
       "      <td>0.6</td>\n",
       "      <td>0.008</td>\n",
       "      <td>0.032</td>\n",
       "      <td>24.0</td>\n",
       "      <td>14.0</td>\n",
       "      <td>5</td>\n",
       "      <td>-9.7</td>\n",
       "      <td>0.0</td>\n",
       "      <td>...</td>\n",
       "      <td>1015.6</td>\n",
       "      <td>1026.9</td>\n",
       "      <td>0.0</td>\n",
       "      <td>0.0</td>\n",
       "      <td>0.0</td>\n",
       "      <td>0</td>\n",
       "      <td>12.0</td>\n",
       "      <td>2000</td>\n",
       "      <td>-7.6</td>\n",
       "      <td>26.0</td>\n",
       "    </tr>\n",
       "  </tbody>\n",
       "</table>\n",
       "<p>5 rows × 25 columns</p>\n",
       "</div>"
      ],
      "text/plain": [
       "         측정일시    SO2   CO     O3    NO2  PM10  PM25  hour  기온(°C)  강수량(mm)  \\\n",
       "0  2021-01-01  0.002  0.5  0.022  0.016  24.0  14.0     1    -8.7      0.0   \n",
       "1  2021-01-01  0.002  0.6  0.018  0.020  25.0  14.0     2    -9.1      0.0   \n",
       "2  2021-01-01  0.002  0.6  0.013  0.025  27.0  16.0     3    -9.3      0.0   \n",
       "3  2021-01-01  0.003  0.6  0.011  0.027  23.0  13.0     4    -9.3      0.0   \n",
       "4  2021-01-01  0.003  0.6  0.008  0.032  24.0  14.0     5    -9.7      0.0   \n",
       "\n",
       "   ...  현지기압(hPa)  해면기압(hPa)  일조(hr)  일사(MJ/m2)  전운량(10분위)  중하층운량(10분위)  \\\n",
       "0  ...     1016.4     1027.7     0.0        0.0        0.0            0   \n",
       "1  ...     1016.2     1027.5     0.0        0.0        0.0            0   \n",
       "2  ...     1016.8     1028.1     0.0        0.0        0.0            0   \n",
       "3  ...     1016.2     1027.5     0.0        0.0        0.0            0   \n",
       "4  ...     1015.6     1026.9     0.0        0.0        0.0            0   \n",
       "\n",
       "   최저운고(100m )  시정(10m)  지면온도(°C)  PM10_t1  \n",
       "0         12.0     2000      -6.9     25.0  \n",
       "1         12.0     2000      -7.1     27.0  \n",
       "2         12.0     2000      -7.3     23.0  \n",
       "3         12.0     2000      -7.5     24.0  \n",
       "4         12.0     2000      -7.6     26.0  \n",
       "\n",
       "[5 rows x 25 columns]"
      ]
     },
     "execution_count": 107,
     "metadata": {},
     "output_type": "execute_result"
    }
   ],
   "source": [
    "df_21.head()"
   ]
  },
  {
   "cell_type": "code",
   "execution_count": 4,
   "id": "4f102ad8",
   "metadata": {},
   "outputs": [],
   "source": [
    "drop_cols = ['PM10','측정일시']\n",
    "train_data = df_21.drop(drop_cols, axis=1)\n",
    "test_data = df_22.drop(drop_cols, axis=1)"
   ]
  },
  {
   "cell_type": "code",
   "execution_count": 6,
   "id": "b1391582",
   "metadata": {},
   "outputs": [],
   "source": []
  },
  {
   "cell_type": "code",
   "execution_count": 55,
   "id": "7f7e15f3",
   "metadata": {
    "scrolled": true
   },
   "outputs": [
    {
     "data": {
      "text/html": [
       "<div>\n",
       "<style scoped>\n",
       "    .dataframe tbody tr th:only-of-type {\n",
       "        vertical-align: middle;\n",
       "    }\n",
       "\n",
       "    .dataframe tbody tr th {\n",
       "        vertical-align: top;\n",
       "    }\n",
       "\n",
       "    .dataframe thead th {\n",
       "        text-align: right;\n",
       "    }\n",
       "</style>\n",
       "<table border=\"1\" class=\"dataframe\">\n",
       "  <thead>\n",
       "    <tr style=\"text-align: right;\">\n",
       "      <th></th>\n",
       "      <th>SO2</th>\n",
       "      <th>CO</th>\n",
       "      <th>O3</th>\n",
       "      <th>NO2</th>\n",
       "      <th>hour</th>\n",
       "      <th>기온(°C)</th>\n",
       "      <th>강수량(mm)</th>\n",
       "      <th>풍속(m/s)</th>\n",
       "      <th>풍향(16방위)</th>\n",
       "      <th>습도(%)</th>\n",
       "      <th>...</th>\n",
       "      <th>현지기압(hPa)</th>\n",
       "      <th>해면기압(hPa)</th>\n",
       "      <th>일조(hr)</th>\n",
       "      <th>일사(MJ/m2)</th>\n",
       "      <th>전운량(10분위)</th>\n",
       "      <th>중하층운량(10분위)</th>\n",
       "      <th>최저운고(100m )</th>\n",
       "      <th>시정(10m)</th>\n",
       "      <th>지면온도(°C)</th>\n",
       "      <th>PM10_t1</th>\n",
       "    </tr>\n",
       "  </thead>\n",
       "  <tbody>\n",
       "    <tr>\n",
       "      <th>0</th>\n",
       "      <td>0.002</td>\n",
       "      <td>0.5</td>\n",
       "      <td>0.022</td>\n",
       "      <td>0.016</td>\n",
       "      <td>1</td>\n",
       "      <td>-8.7</td>\n",
       "      <td>0.0</td>\n",
       "      <td>2.4</td>\n",
       "      <td>270.0</td>\n",
       "      <td>68</td>\n",
       "      <td>...</td>\n",
       "      <td>1016.4</td>\n",
       "      <td>1027.7</td>\n",
       "      <td>0.0</td>\n",
       "      <td>0.0</td>\n",
       "      <td>0.0</td>\n",
       "      <td>0</td>\n",
       "      <td>12.0</td>\n",
       "      <td>2000</td>\n",
       "      <td>-6.9</td>\n",
       "      <td>25.0</td>\n",
       "    </tr>\n",
       "    <tr>\n",
       "      <th>1</th>\n",
       "      <td>0.002</td>\n",
       "      <td>0.6</td>\n",
       "      <td>0.018</td>\n",
       "      <td>0.020</td>\n",
       "      <td>2</td>\n",
       "      <td>-9.1</td>\n",
       "      <td>0.0</td>\n",
       "      <td>1.6</td>\n",
       "      <td>270.0</td>\n",
       "      <td>69</td>\n",
       "      <td>...</td>\n",
       "      <td>1016.2</td>\n",
       "      <td>1027.5</td>\n",
       "      <td>0.0</td>\n",
       "      <td>0.0</td>\n",
       "      <td>0.0</td>\n",
       "      <td>0</td>\n",
       "      <td>12.0</td>\n",
       "      <td>2000</td>\n",
       "      <td>-7.1</td>\n",
       "      <td>27.0</td>\n",
       "    </tr>\n",
       "    <tr>\n",
       "      <th>2</th>\n",
       "      <td>0.002</td>\n",
       "      <td>0.6</td>\n",
       "      <td>0.013</td>\n",
       "      <td>0.025</td>\n",
       "      <td>3</td>\n",
       "      <td>-9.3</td>\n",
       "      <td>0.0</td>\n",
       "      <td>1.1</td>\n",
       "      <td>250.0</td>\n",
       "      <td>70</td>\n",
       "      <td>...</td>\n",
       "      <td>1016.8</td>\n",
       "      <td>1028.1</td>\n",
       "      <td>0.0</td>\n",
       "      <td>0.0</td>\n",
       "      <td>0.0</td>\n",
       "      <td>0</td>\n",
       "      <td>12.0</td>\n",
       "      <td>2000</td>\n",
       "      <td>-7.3</td>\n",
       "      <td>23.0</td>\n",
       "    </tr>\n",
       "    <tr>\n",
       "      <th>3</th>\n",
       "      <td>0.003</td>\n",
       "      <td>0.6</td>\n",
       "      <td>0.011</td>\n",
       "      <td>0.027</td>\n",
       "      <td>4</td>\n",
       "      <td>-9.3</td>\n",
       "      <td>0.0</td>\n",
       "      <td>0.3</td>\n",
       "      <td>0.0</td>\n",
       "      <td>71</td>\n",
       "      <td>...</td>\n",
       "      <td>1016.2</td>\n",
       "      <td>1027.5</td>\n",
       "      <td>0.0</td>\n",
       "      <td>0.0</td>\n",
       "      <td>0.0</td>\n",
       "      <td>0</td>\n",
       "      <td>12.0</td>\n",
       "      <td>2000</td>\n",
       "      <td>-7.5</td>\n",
       "      <td>24.0</td>\n",
       "    </tr>\n",
       "    <tr>\n",
       "      <th>4</th>\n",
       "      <td>0.003</td>\n",
       "      <td>0.6</td>\n",
       "      <td>0.008</td>\n",
       "      <td>0.032</td>\n",
       "      <td>5</td>\n",
       "      <td>-9.7</td>\n",
       "      <td>0.0</td>\n",
       "      <td>1.9</td>\n",
       "      <td>20.0</td>\n",
       "      <td>72</td>\n",
       "      <td>...</td>\n",
       "      <td>1015.6</td>\n",
       "      <td>1026.9</td>\n",
       "      <td>0.0</td>\n",
       "      <td>0.0</td>\n",
       "      <td>0.0</td>\n",
       "      <td>0</td>\n",
       "      <td>12.0</td>\n",
       "      <td>2000</td>\n",
       "      <td>-7.6</td>\n",
       "      <td>26.0</td>\n",
       "    </tr>\n",
       "  </tbody>\n",
       "</table>\n",
       "<p>5 rows × 22 columns</p>\n",
       "</div>"
      ],
      "text/plain": [
       "     SO2   CO     O3    NO2  hour  기온(°C)  강수량(mm)  풍속(m/s)  풍향(16방위)  습도(%)  \\\n",
       "0  0.002  0.5  0.022  0.016     1    -8.7      0.0      2.4     270.0     68   \n",
       "1  0.002  0.6  0.018  0.020     2    -9.1      0.0      1.6     270.0     69   \n",
       "2  0.002  0.6  0.013  0.025     3    -9.3      0.0      1.1     250.0     70   \n",
       "3  0.003  0.6  0.011  0.027     4    -9.3      0.0      0.3       0.0     71   \n",
       "4  0.003  0.6  0.008  0.032     5    -9.7      0.0      1.9      20.0     72   \n",
       "\n",
       "   ...  현지기압(hPa)  해면기압(hPa)  일조(hr)  일사(MJ/m2)  전운량(10분위)  중하층운량(10분위)  \\\n",
       "0  ...     1016.4     1027.7     0.0        0.0        0.0            0   \n",
       "1  ...     1016.2     1027.5     0.0        0.0        0.0            0   \n",
       "2  ...     1016.8     1028.1     0.0        0.0        0.0            0   \n",
       "3  ...     1016.2     1027.5     0.0        0.0        0.0            0   \n",
       "4  ...     1015.6     1026.9     0.0        0.0        0.0            0   \n",
       "\n",
       "   최저운고(100m )  시정(10m)  지면온도(°C)  PM10_t1  \n",
       "0         12.0     2000      -6.9     25.0  \n",
       "1         12.0     2000      -7.1     27.0  \n",
       "2         12.0     2000      -7.3     23.0  \n",
       "3         12.0     2000      -7.5     24.0  \n",
       "4         12.0     2000      -7.6     26.0  \n",
       "\n",
       "[5 rows x 22 columns]"
      ]
     },
     "execution_count": 55,
     "metadata": {},
     "output_type": "execute_result"
    }
   ],
   "source": [
    "train_data.head()"
   ]
  },
  {
   "cell_type": "code",
   "execution_count": 5,
   "id": "7bd45810",
   "metadata": {},
   "outputs": [],
   "source": [
    "target = 'PM10_t1'\n",
    "tx = train_data.drop(target, axis=1)\n",
    "ty = train_data.loc[:, target]"
   ]
  },
  {
   "cell_type": "code",
   "execution_count": 62,
   "id": "cbf02aa2",
   "metadata": {},
   "outputs": [
    {
     "data": {
      "text/html": [
       "<div>\n",
       "<style scoped>\n",
       "    .dataframe tbody tr th:only-of-type {\n",
       "        vertical-align: middle;\n",
       "    }\n",
       "\n",
       "    .dataframe tbody tr th {\n",
       "        vertical-align: top;\n",
       "    }\n",
       "\n",
       "    .dataframe thead th {\n",
       "        text-align: right;\n",
       "    }\n",
       "</style>\n",
       "<table border=\"1\" class=\"dataframe\">\n",
       "  <thead>\n",
       "    <tr style=\"text-align: right;\">\n",
       "      <th></th>\n",
       "      <th>SO2</th>\n",
       "      <th>CO</th>\n",
       "      <th>O3</th>\n",
       "      <th>NO2</th>\n",
       "      <th>hour</th>\n",
       "      <th>기온(°C)</th>\n",
       "      <th>강수량(mm)</th>\n",
       "      <th>풍속(m/s)</th>\n",
       "      <th>풍향(16방위)</th>\n",
       "      <th>습도(%)</th>\n",
       "      <th>...</th>\n",
       "      <th>이슬점온도(°C)</th>\n",
       "      <th>현지기압(hPa)</th>\n",
       "      <th>해면기압(hPa)</th>\n",
       "      <th>일조(hr)</th>\n",
       "      <th>일사(MJ/m2)</th>\n",
       "      <th>전운량(10분위)</th>\n",
       "      <th>중하층운량(10분위)</th>\n",
       "      <th>최저운고(100m )</th>\n",
       "      <th>시정(10m)</th>\n",
       "      <th>지면온도(°C)</th>\n",
       "    </tr>\n",
       "  </thead>\n",
       "  <tbody>\n",
       "    <tr>\n",
       "      <th>0</th>\n",
       "      <td>0.002</td>\n",
       "      <td>0.5</td>\n",
       "      <td>0.022</td>\n",
       "      <td>0.016</td>\n",
       "      <td>1</td>\n",
       "      <td>-8.7</td>\n",
       "      <td>0.0</td>\n",
       "      <td>2.4</td>\n",
       "      <td>270.0</td>\n",
       "      <td>68</td>\n",
       "      <td>...</td>\n",
       "      <td>-13.5</td>\n",
       "      <td>1016.4</td>\n",
       "      <td>1027.7</td>\n",
       "      <td>0.0</td>\n",
       "      <td>0.0</td>\n",
       "      <td>0.0</td>\n",
       "      <td>0</td>\n",
       "      <td>12.0</td>\n",
       "      <td>2000</td>\n",
       "      <td>-6.9</td>\n",
       "    </tr>\n",
       "    <tr>\n",
       "      <th>1</th>\n",
       "      <td>0.002</td>\n",
       "      <td>0.6</td>\n",
       "      <td>0.018</td>\n",
       "      <td>0.020</td>\n",
       "      <td>2</td>\n",
       "      <td>-9.1</td>\n",
       "      <td>0.0</td>\n",
       "      <td>1.6</td>\n",
       "      <td>270.0</td>\n",
       "      <td>69</td>\n",
       "      <td>...</td>\n",
       "      <td>-13.7</td>\n",
       "      <td>1016.2</td>\n",
       "      <td>1027.5</td>\n",
       "      <td>0.0</td>\n",
       "      <td>0.0</td>\n",
       "      <td>0.0</td>\n",
       "      <td>0</td>\n",
       "      <td>12.0</td>\n",
       "      <td>2000</td>\n",
       "      <td>-7.1</td>\n",
       "    </tr>\n",
       "    <tr>\n",
       "      <th>2</th>\n",
       "      <td>0.002</td>\n",
       "      <td>0.6</td>\n",
       "      <td>0.013</td>\n",
       "      <td>0.025</td>\n",
       "      <td>3</td>\n",
       "      <td>-9.3</td>\n",
       "      <td>0.0</td>\n",
       "      <td>1.1</td>\n",
       "      <td>250.0</td>\n",
       "      <td>70</td>\n",
       "      <td>...</td>\n",
       "      <td>-13.7</td>\n",
       "      <td>1016.8</td>\n",
       "      <td>1028.1</td>\n",
       "      <td>0.0</td>\n",
       "      <td>0.0</td>\n",
       "      <td>0.0</td>\n",
       "      <td>0</td>\n",
       "      <td>12.0</td>\n",
       "      <td>2000</td>\n",
       "      <td>-7.3</td>\n",
       "    </tr>\n",
       "    <tr>\n",
       "      <th>3</th>\n",
       "      <td>0.003</td>\n",
       "      <td>0.6</td>\n",
       "      <td>0.011</td>\n",
       "      <td>0.027</td>\n",
       "      <td>4</td>\n",
       "      <td>-9.3</td>\n",
       "      <td>0.0</td>\n",
       "      <td>0.3</td>\n",
       "      <td>0.0</td>\n",
       "      <td>71</td>\n",
       "      <td>...</td>\n",
       "      <td>-13.5</td>\n",
       "      <td>1016.2</td>\n",
       "      <td>1027.5</td>\n",
       "      <td>0.0</td>\n",
       "      <td>0.0</td>\n",
       "      <td>0.0</td>\n",
       "      <td>0</td>\n",
       "      <td>12.0</td>\n",
       "      <td>2000</td>\n",
       "      <td>-7.5</td>\n",
       "    </tr>\n",
       "    <tr>\n",
       "      <th>4</th>\n",
       "      <td>0.003</td>\n",
       "      <td>0.6</td>\n",
       "      <td>0.008</td>\n",
       "      <td>0.032</td>\n",
       "      <td>5</td>\n",
       "      <td>-9.7</td>\n",
       "      <td>0.0</td>\n",
       "      <td>1.9</td>\n",
       "      <td>20.0</td>\n",
       "      <td>72</td>\n",
       "      <td>...</td>\n",
       "      <td>-13.8</td>\n",
       "      <td>1015.6</td>\n",
       "      <td>1026.9</td>\n",
       "      <td>0.0</td>\n",
       "      <td>0.0</td>\n",
       "      <td>0.0</td>\n",
       "      <td>0</td>\n",
       "      <td>12.0</td>\n",
       "      <td>2000</td>\n",
       "      <td>-7.6</td>\n",
       "    </tr>\n",
       "  </tbody>\n",
       "</table>\n",
       "<p>5 rows × 21 columns</p>\n",
       "</div>"
      ],
      "text/plain": [
       "     SO2   CO     O3    NO2  hour  기온(°C)  강수량(mm)  풍속(m/s)  풍향(16방위)  습도(%)  \\\n",
       "0  0.002  0.5  0.022  0.016     1    -8.7      0.0      2.4     270.0     68   \n",
       "1  0.002  0.6  0.018  0.020     2    -9.1      0.0      1.6     270.0     69   \n",
       "2  0.002  0.6  0.013  0.025     3    -9.3      0.0      1.1     250.0     70   \n",
       "3  0.003  0.6  0.011  0.027     4    -9.3      0.0      0.3       0.0     71   \n",
       "4  0.003  0.6  0.008  0.032     5    -9.7      0.0      1.9      20.0     72   \n",
       "\n",
       "   ...  이슬점온도(°C)  현지기압(hPa)  해면기압(hPa)  일조(hr)  일사(MJ/m2)  전운량(10분위)  \\\n",
       "0  ...      -13.5     1016.4     1027.7     0.0        0.0        0.0   \n",
       "1  ...      -13.7     1016.2     1027.5     0.0        0.0        0.0   \n",
       "2  ...      -13.7     1016.8     1028.1     0.0        0.0        0.0   \n",
       "3  ...      -13.5     1016.2     1027.5     0.0        0.0        0.0   \n",
       "4  ...      -13.8     1015.6     1026.9     0.0        0.0        0.0   \n",
       "\n",
       "   중하층운량(10분위)  최저운고(100m )  시정(10m)  지면온도(°C)  \n",
       "0            0         12.0     2000      -6.9  \n",
       "1            0         12.0     2000      -7.1  \n",
       "2            0         12.0     2000      -7.3  \n",
       "3            0         12.0     2000      -7.5  \n",
       "4            0         12.0     2000      -7.6  \n",
       "\n",
       "[5 rows x 21 columns]"
      ]
     },
     "execution_count": 62,
     "metadata": {},
     "output_type": "execute_result"
    }
   ],
   "source": [
    "tx.head()"
   ]
  },
  {
   "cell_type": "code",
   "execution_count": 63,
   "id": "78397bdf",
   "metadata": {},
   "outputs": [
    {
     "data": {
      "text/plain": [
       "0    25.0\n",
       "1    27.0\n",
       "2    23.0\n",
       "3    24.0\n",
       "4    26.0\n",
       "Name: PM10_t1, dtype: float64"
      ]
     },
     "execution_count": 63,
     "metadata": {},
     "output_type": "execute_result"
    }
   ],
   "source": [
    "ty.head()"
   ]
  },
  {
   "cell_type": "code",
   "execution_count": 6,
   "id": "1950b1e1",
   "metadata": {},
   "outputs": [],
   "source": [
    "test_x = test_data.drop(target, axis=1)\n",
    "test_y = test_data.loc[:, target]"
   ]
  },
  {
   "cell_type": "markdown",
   "id": "2084ca1a",
   "metadata": {},
   "source": [
    "---"
   ]
  },
  {
   "cell_type": "markdown",
   "id": "native-expansion",
   "metadata": {},
   "source": [
    "# 2. Modeling\n",
    "## 이제 모델링을 해봅시다!\n",
    "+ KeyPoint : 머신러닝 라이브러리를 토대로 모델링을 할 수 있다."
   ]
  },
  {
   "cell_type": "code",
   "execution_count": 7,
   "id": "e6a1325c",
   "metadata": {},
   "outputs": [],
   "source": [
    "x_train_t, x_val_t, y_train_t, y_val_t = train_test_split(tx, ty, test_size = 1300, shuffle = False)"
   ]
  },
  {
   "cell_type": "code",
   "execution_count": 8,
   "id": "d8ed94a9",
   "metadata": {},
   "outputs": [],
   "source": [
    "x_train, x_val, y_train, y_val = train_test_split(tx, ty, test_size = .25, random_state=0)"
   ]
  },
  {
   "cell_type": "code",
   "execution_count": 9,
   "id": "25f6a1d1",
   "metadata": {},
   "outputs": [],
   "source": [
    "def printPerform1(y_val, pred):\n",
    "    print('r2 score : ', round(r2_score(y_val, pred),5))\n",
    "    print('RMSE : ', round(mean_squared_error(y_val, pred, squared=False),5))\n",
    "    print('MAE : ', round(mean_absolute_error(y_val, pred),5))\n",
    "    print('MAPE : ', round(mean_absolute_percentage_error(y_val,pred),5))\n",
    "    print('정확도 : ',round((1-mean_absolute_percentage_error(y_val,pred))*100,5))"
   ]
  },
  {
   "cell_type": "code",
   "execution_count": 10,
   "id": "d211ecac",
   "metadata": {},
   "outputs": [],
   "source": [
    "def plot_feature_importance(importance, names):\n",
    "    feature_importance = np.array(importance)\n",
    "    feature_names = np.array(names)\n",
    "\n",
    "    data={'feature_names':feature_names,'feature_importance':feature_importance}\n",
    "    fi_df = pd.DataFrame(data)\n",
    "\n",
    "    fi_df.sort_values(by=['feature_importance'], ascending=False,inplace=True)\n",
    "    fi_df.reset_index(drop=True, inplace = True)\n",
    "\n",
    "    plt.figure(figsize=(10,8))\n",
    "    sns.barplot(x='feature_importance', y='feature_names', data = fi_df)\n",
    "\n",
    "    plt.xlabel('FEATURE IMPORTANCE')\n",
    "    plt.ylabel('FEATURE NAMES')\n",
    "    plt.grid()\n",
    "\n",
    "    return fi_df"
   ]
  },
  {
   "cell_type": "markdown",
   "id": "persistent-brighton",
   "metadata": {},
   "source": [
    "### 가. LinearRegression 부터 시작해봅시다."
   ]
  },
  {
   "cell_type": "markdown",
   "id": "joined-client",
   "metadata": {},
   "source": [
    "#### [실습문제2] 머신러닝_1\n",
    "* Train과 Test로 나눈 데이터를 기준으로 LinearRegression 모델링을 진행하고 평가를 해주세요.\n",
    "* 그리고 모델 파일을 pkl로 저장해주세요.\n",
    "* 성능지표 : RMSE, R-squared Score(소수점 5째자리까지, 반올림)"
   ]
  },
  {
   "cell_type": "code",
   "execution_count": 11,
   "id": "e36560f4",
   "metadata": {},
   "outputs": [],
   "source": [
    "from statsmodels.regression.linear_model import OLS\n",
    "from statsmodels.tools import add_constant\n",
    "\n",
    "def forward_stepwise_linear(x_train, y_train):\n",
    "\n",
    "    # 변수목록, 선택된 변수 목록, 단계별 모델과 AIC 저장소 정의\n",
    "    features = list(x_train)\n",
    "    selected = []\n",
    "    step_df = pd.DataFrame({ 'step':[], 'feature':[],'aic':[]})\n",
    "\n",
    "    # \n",
    "    for s in range(0, len(features)) :\n",
    "        result =  { 'step':[], 'feature':[],'aic':[]}\n",
    "\n",
    "        # 변수 목록에서 변수 한개씩 뽑아서 모델에 추가\n",
    "        for f in features :\n",
    "            vars = selected + [f]\n",
    "            x_tr = x_train[vars]\n",
    "            model = OLS(y_train, add_constant(x_tr)).fit()\n",
    "            result['step'].append(s+1)\n",
    "            result['feature'].append(vars)\n",
    "            result['aic'].append(model.aic)\n",
    "        \n",
    "        # 모델별 aic 집계\n",
    "        temp = pd.DataFrame(result).sort_values('aic').reset_index(drop = True)\n",
    "\n",
    "        # 만약 이전 aic보다 새로운 aic 가 크다면 멈추기\n",
    "        if step_df['aic'].min() < temp['aic'].min() :\n",
    "            break\n",
    "        step_df = pd.concat([step_df, temp], axis = 0).reset_index(drop = True)\n",
    "\n",
    "        # 선택된 변수 제거\n",
    "        v = temp.loc[0,'feature'][s]\n",
    "        features.remove(v)\n",
    "\n",
    "        selected.append(v)\n",
    "    \n",
    "    # 선택된 변수와 step_df 결과 반환\n",
    "    return selected, step_df"
   ]
  },
  {
   "cell_type": "code",
   "execution_count": 12,
   "id": "be91ca60",
   "metadata": {},
   "outputs": [],
   "source": [
    "vars, result = forward_stepwise_linear(x_train, y_train)"
   ]
  },
  {
   "cell_type": "code",
   "execution_count": 13,
   "id": "6a1c5ce9",
   "metadata": {},
   "outputs": [
    {
     "data": {
      "text/plain": [
       "['PM25',\n",
       " 'CO',\n",
       " '증기압(hPa)',\n",
       " '해면기압(hPa)',\n",
       " 'O3',\n",
       " '전운량(10분위)',\n",
       " '지면온도(°C)',\n",
       " '현지기압(hPa)',\n",
       " '최저운고(100m )',\n",
       " '풍속(m/s)',\n",
       " '일조(hr)',\n",
       " '일사(MJ/m2)',\n",
       " '강수량(mm)',\n",
       " '시정(10m)',\n",
       " '습도(%)',\n",
       " '이슬점온도(°C)',\n",
       " '기온(°C)',\n",
       " 'NO2']"
      ]
     },
     "execution_count": 13,
     "metadata": {},
     "output_type": "execute_result"
    }
   ],
   "source": [
    "vars"
   ]
  },
  {
   "cell_type": "code",
   "execution_count": 14,
   "id": "f9f8a362",
   "metadata": {
    "scrolled": true
   },
   "outputs": [
    {
     "name": "stdout",
     "output_type": "stream",
     "text": [
      "r2 score :  0.50989\n",
      "RMSE :  33.28966\n",
      "MAE :  15.40504\n",
      "MAPE :  0.52803\n",
      "정확도 :  47.19738\n"
     ]
    }
   ],
   "source": [
    "model1 = LinearRegression()\n",
    "model1.fit(x_train[vars], y_train)\n",
    "pred1 = model1.predict(x_val[vars])\n",
    "printPerform1(y_val, pred1)"
   ]
  },
  {
   "cell_type": "code",
   "execution_count": 15,
   "id": "willing-disclaimer",
   "metadata": {
    "scrolled": false
   },
   "outputs": [
    {
     "name": "stdout",
     "output_type": "stream",
     "text": [
      "r2 score :  0.51058\n",
      "RMSE :  33.26624\n",
      "MAE :  15.3869\n",
      "MAPE :  0.5274\n",
      "정확도 :  47.25995\n"
     ]
    }
   ],
   "source": [
    "# 아래에 실습코드를 작성하세요.\n",
    "model1_1 = LinearRegression()\n",
    "model1_1.fit(x_train, y_train)\n",
    "pred1_1 = model1_1.predict(x_val)\n",
    "printPerform1(y_val, pred1_1)"
   ]
  },
  {
   "cell_type": "code",
   "execution_count": 37,
   "id": "0a21d60f",
   "metadata": {},
   "outputs": [
    {
     "name": "stdout",
     "output_type": "stream",
     "text": [
      "r2 score :  0.45809\n",
      "RMSE :  17.30352\n",
      "MAE :  11.88272\n",
      "MAPE :  0.62002\n",
      "정확도 :  37.99819\n"
     ]
    }
   ],
   "source": [
    "# Test 데이터로 성능을 평가해보세요.\n",
    "# tpred1 = model1_1.predict(test_x)\n",
    "# printPerform1(test_y, tpred1)"
   ]
  },
  {
   "cell_type": "code",
   "execution_count": null,
   "id": "fe2096b7",
   "metadata": {},
   "outputs": [],
   "source": [
    "# 학습한 모델을 파일로 저장해보세요.\n",
    "\n",
    "\n",
    "\n"
   ]
  },
  {
   "cell_type": "code",
   "execution_count": 16,
   "id": "de8fdffa",
   "metadata": {},
   "outputs": [
    {
     "name": "stdout",
     "output_type": "stream",
     "text": [
      "-6.248508065008786\n"
     ]
    },
    {
     "data": {
      "image/png": "[encoded data removed]",
      "text/plain": [
       "<Figure size 720x576 with 1 Axes>"
      ]
     },
     "metadata": {},
     "output_type": "display_data"
    }
   ],
   "source": [
    "scaler = MinMaxScaler()\n",
    "x_train_s = scaler.fit_transform(x_train)\n",
    "\n",
    "# 다시 모델링\n",
    "model7 = LinearRegression()\n",
    "model7.fit(x_train_s, y_train)\n",
    "\n",
    "print(model7.coef_[0])\n",
    "r = plot_feature_importance(model7.coef_[0], list(x_train))"
   ]
  },
  {
   "cell_type": "markdown",
   "id": "lesser-universe",
   "metadata": {},
   "source": [
    "### 나. 다음은 앙상블 기법을 토대로 랜덤포레스트와 그라디언브스팅을 활용해봅시다."
   ]
  },
  {
   "cell_type": "markdown",
   "id": "crazy-escape",
   "metadata": {},
   "source": [
    "#### 1) 렌덤포레스트\n",
    "##### 배깅의 일종으로 의사결정나무(Decision Tree) 여러 개를 모아서 숲을 랜덤으로 구성하고 이를 종합해서 최종 모델을 산출하는 기법이라고 할 수 있다."
   ]
  },
  {
   "cell_type": "markdown",
   "id": "dense-eleven",
   "metadata": {},
   "source": [
    "#### [실습문제3] 머신러닝_2\n",
    "* Train과 Test로 나눈 데이터를 기준으로 렌덤포레스트로 모델을 학습을 진행하고 평가를 해주세요.\n",
    "* 그리고 모델 파일을 pkl로 저장해주세요.\n",
    "* 성능지표 : RMSE, R-squared Score(소수점 5째자리까지, 반올림)"
   ]
  },
  {
   "cell_type": "code",
   "execution_count": null,
   "id": "guilty-score",
   "metadata": {
    "scrolled": true
   },
   "outputs": [],
   "source": [
    "# 아래에 실습코드를 작성하세요.\n",
    "params2 = {'n_estimators' : range(10,101,10)}\n",
    "model2 = GridSearchCV(RandomForestRegressor(), params2, cv=10)\n",
    "model2.fit(x_train, y_train)\n",
    "pred2 = model2.predict(x_val)\n",
    "printPerform1(y_val, pred2)"
   ]
  },
  {
   "cell_type": "code",
   "execution_count": null,
   "id": "bc29b555",
   "metadata": {
    "scrolled": true
   },
   "outputs": [],
   "source": [
    "print(model2.best_params_)\n",
    "print(model2.best_score_)"
   ]
  },
  {
   "cell_type": "code",
   "execution_count": 87,
   "id": "4fc87bbb",
   "metadata": {},
   "outputs": [
    {
     "name": "stdout",
     "output_type": "stream",
     "text": [
      "r2 score :  0.87599\n",
      "RMSE :  16.74515\n",
      "MAE :  8.14273\n",
      "MAPE :  0.28855\n",
      "정확도 :  71.14479\n"
     ]
    }
   ],
   "source": [
    "model2_1 = RandomForestRegressor(n_estimators = 80)\n",
    "model2_1.fit(x_train, y_train)\n",
    "pred2_1 = model2_1.predict(x_val)\n",
    "printPerform1(y_val, pred2_1)"
   ]
  },
  {
   "cell_type": "code",
   "execution_count": 103,
   "id": "10b33a11",
   "metadata": {},
   "outputs": [
    {
     "name": "stdout",
     "output_type": "stream",
     "text": [
      "r2 score :  0.53213\n",
      "RMSE :  16.07802\n",
      "MAE :  10.52573\n",
      "MAPE :  0.46764\n",
      "정확도 :  53.23596\n"
     ]
    }
   ],
   "source": [
    "# Test 데이터로 성능을 평가해보세요.\n",
    "models = joblib.load('./RFmodel2.pkl')\n",
    "pred = models.predict(test_x)\n",
    "printPerform1(test_y, pred)"
   ]
  },
  {
   "cell_type": "code",
   "execution_count": 102,
   "id": "41971ff8",
   "metadata": {},
   "outputs": [
    {
     "data": {
      "text/plain": [
       "['./RFmodel2.pkl']"
      ]
     },
     "execution_count": 102,
     "metadata": {},
     "output_type": "execute_result"
    }
   ],
   "source": [
    "# 학습한 모델을 파일로 저장해보세요.\n",
    "joblib.dump(model2_1, './RFmodel2.pkl')"
   ]
  },
  {
   "cell_type": "markdown",
   "id": "788be2bb",
   "metadata": {},
   "source": [
    "#### [실습문제4] 머신러닝_3\n",
    "* 렌덤포레스트로 학습한 모델의 feature_importances 또는 Shap value를 구해보세요.\n",
    "* 확인할 수 있는 내용으로 우리 모델에서의 인사이트를 정리해보세요."
   ]
  },
  {
   "cell_type": "code",
   "execution_count": 88,
   "id": "e19f84b0",
   "metadata": {},
   "outputs": [
    {
     "data": {
      "text/html": [
       "<div>\n",
       "<style scoped>\n",
       "    .dataframe tbody tr th:only-of-type {\n",
       "        vertical-align: middle;\n",
       "    }\n",
       "\n",
       "    .dataframe tbody tr th {\n",
       "        vertical-align: top;\n",
       "    }\n",
       "\n",
       "    .dataframe thead th {\n",
       "        text-align: right;\n",
       "    }\n",
       "</style>\n",
       "<table border=\"1\" class=\"dataframe\">\n",
       "  <thead>\n",
       "    <tr style=\"text-align: right;\">\n",
       "      <th></th>\n",
       "      <th>feature_names</th>\n",
       "      <th>feature_importance</th>\n",
       "    </tr>\n",
       "  </thead>\n",
       "  <tbody>\n",
       "    <tr>\n",
       "      <th>0</th>\n",
       "      <td>시정(10m)</td>\n",
       "      <td>0.263475</td>\n",
       "    </tr>\n",
       "    <tr>\n",
       "      <th>1</th>\n",
       "      <td>현지기압(hPa)</td>\n",
       "      <td>0.111498</td>\n",
       "    </tr>\n",
       "    <tr>\n",
       "      <th>2</th>\n",
       "      <td>전운량(10분위)</td>\n",
       "      <td>0.106126</td>\n",
       "    </tr>\n",
       "    <tr>\n",
       "      <th>3</th>\n",
       "      <td>습도(%)</td>\n",
       "      <td>0.101045</td>\n",
       "    </tr>\n",
       "    <tr>\n",
       "      <th>4</th>\n",
       "      <td>CO</td>\n",
       "      <td>0.081767</td>\n",
       "    </tr>\n",
       "    <tr>\n",
       "      <th>5</th>\n",
       "      <td>해면기압(hPa)</td>\n",
       "      <td>0.078642</td>\n",
       "    </tr>\n",
       "    <tr>\n",
       "      <th>6</th>\n",
       "      <td>이슬점온도(°C)</td>\n",
       "      <td>0.043034</td>\n",
       "    </tr>\n",
       "    <tr>\n",
       "      <th>7</th>\n",
       "      <td>최저운고(100m )</td>\n",
       "      <td>0.032544</td>\n",
       "    </tr>\n",
       "    <tr>\n",
       "      <th>8</th>\n",
       "      <td>O3</td>\n",
       "      <td>0.030301</td>\n",
       "    </tr>\n",
       "    <tr>\n",
       "      <th>9</th>\n",
       "      <td>증기압(hPa)</td>\n",
       "      <td>0.029985</td>\n",
       "    </tr>\n",
       "    <tr>\n",
       "      <th>10</th>\n",
       "      <td>중하층운량(10분위)</td>\n",
       "      <td>0.020927</td>\n",
       "    </tr>\n",
       "    <tr>\n",
       "      <th>11</th>\n",
       "      <td>풍속(m/s)</td>\n",
       "      <td>0.017687</td>\n",
       "    </tr>\n",
       "    <tr>\n",
       "      <th>12</th>\n",
       "      <td>NO2</td>\n",
       "      <td>0.016747</td>\n",
       "    </tr>\n",
       "    <tr>\n",
       "      <th>13</th>\n",
       "      <td>지면온도(°C)</td>\n",
       "      <td>0.014602</td>\n",
       "    </tr>\n",
       "    <tr>\n",
       "      <th>14</th>\n",
       "      <td>기온(°C)</td>\n",
       "      <td>0.013582</td>\n",
       "    </tr>\n",
       "    <tr>\n",
       "      <th>15</th>\n",
       "      <td>일사(MJ/m2)</td>\n",
       "      <td>0.009185</td>\n",
       "    </tr>\n",
       "    <tr>\n",
       "      <th>16</th>\n",
       "      <td>SO2</td>\n",
       "      <td>0.008136</td>\n",
       "    </tr>\n",
       "    <tr>\n",
       "      <th>17</th>\n",
       "      <td>풍향(16방위)</td>\n",
       "      <td>0.007839</td>\n",
       "    </tr>\n",
       "    <tr>\n",
       "      <th>18</th>\n",
       "      <td>hour</td>\n",
       "      <td>0.006867</td>\n",
       "    </tr>\n",
       "    <tr>\n",
       "      <th>19</th>\n",
       "      <td>일조(hr)</td>\n",
       "      <td>0.004308</td>\n",
       "    </tr>\n",
       "    <tr>\n",
       "      <th>20</th>\n",
       "      <td>강수량(mm)</td>\n",
       "      <td>0.001702</td>\n",
       "    </tr>\n",
       "  </tbody>\n",
       "</table>\n",
       "</div>"
      ],
      "text/plain": [
       "   feature_names  feature_importance\n",
       "0        시정(10m)            0.263475\n",
       "1      현지기압(hPa)            0.111498\n",
       "2      전운량(10분위)            0.106126\n",
       "3          습도(%)            0.101045\n",
       "4             CO            0.081767\n",
       "5      해면기압(hPa)            0.078642\n",
       "6      이슬점온도(°C)            0.043034\n",
       "7    최저운고(100m )            0.032544\n",
       "8             O3            0.030301\n",
       "9       증기압(hPa)            0.029985\n",
       "10   중하층운량(10분위)            0.020927\n",
       "11       풍속(m/s)            0.017687\n",
       "12           NO2            0.016747\n",
       "13      지면온도(°C)            0.014602\n",
       "14        기온(°C)            0.013582\n",
       "15     일사(MJ/m2)            0.009185\n",
       "16           SO2            0.008136\n",
       "17      풍향(16방위)            0.007839\n",
       "18          hour            0.006867\n",
       "19        일조(hr)            0.004308\n",
       "20       강수량(mm)            0.001702"
      ]
     },
     "execution_count": 88,
     "metadata": {},
     "output_type": "execute_result"
    },
    {
     "data": {
      "image/png": "[encoded data removed]",
      "text/plain": [
       "<Figure size 720x576 with 1 Axes>"
      ]
     },
     "metadata": {},
     "output_type": "display_data"
    }
   ],
   "source": [
    "# Feature의 중요도 확인\n",
    "plot_feature_importance(model2_1.feature_importances_, list(x_train))"
   ]
  },
  {
   "cell_type": "code",
   "execution_count": null,
   "id": "af7989f3",
   "metadata": {},
   "outputs": [],
   "source": [
    "# 확인할 수 있는 인사이트\n",
    "# 1.\n",
    "# 2.\n",
    "# 3."
   ]
  },
  {
   "cell_type": "markdown",
   "id": "convinced-vocabulary",
   "metadata": {},
   "source": [
    "#### 2) GradientBoosting\n",
    "##### 앞선 모델의 에러를 다음 모델의 예측 값으로 활용하면서 가중치 업데이트 하는데 경사하강법(Gradient Descent)를 활용해서 최적 모델을 만드는 기법"
   ]
  },
  {
   "cell_type": "markdown",
   "id": "needed-google",
   "metadata": {},
   "source": [
    "#### [실습문제5] 머신러닝_4\n",
    "* Train과 Test로 나눈 데이터를 기준으로 그라디언트부스팅으로 모델을 학습을 진행하고 평가를 해주세요.\n",
    "* 그리고 모델 파일을 pkl로 저장해주세요.\n",
    "* 성능지표 : RMSE, R-squared Score(소수점 5째자리까지, 반올림)"
   ]
  },
  {
   "cell_type": "code",
   "execution_count": 89,
   "id": "continent-olympus",
   "metadata": {
    "scrolled": true
   },
   "outputs": [
    {
     "name": "stdout",
     "output_type": "stream",
     "text": [
      "r2 score :  0.79902\n",
      "RMSE :  21.3176\n",
      "MAE :  11.04107\n",
      "MAPE :  0.39054\n",
      "정확도 :  60.94626\n"
     ]
    }
   ],
   "source": [
    "# 아래에 실습코드를 작성하세요.\n",
    "params3 = {'learning_rate': list(np.arange(0.1, 1, 0.1)), 'n_estimators': list(range(101, 211, 10))}\n",
    "model3 = GridSearchCV(GradientBoostingRegressor(), params3, cv=10)\n",
    "model3.fit(x_train, y_train)\n",
    "pred3 = model3.predict(x_val)\n",
    "printPerform1(y_val, pred3)"
   ]
  },
  {
   "cell_type": "code",
   "execution_count": 90,
   "id": "63c50882",
   "metadata": {
    "scrolled": true
   },
   "outputs": [
    {
     "name": "stdout",
     "output_type": "stream",
     "text": [
      "{'learning_rate': 0.2, 'n_estimators': 191}\n",
      "0.7762464896598916\n"
     ]
    }
   ],
   "source": [
    "print(model3.best_params_)\n",
    "print(model3.best_score_)"
   ]
  },
  {
   "cell_type": "code",
   "execution_count": 91,
   "id": "282de991",
   "metadata": {},
   "outputs": [
    {
     "name": "stdout",
     "output_type": "stream",
     "text": [
      "r2 score :  0.79863\n",
      "RMSE :  21.33809\n",
      "MAE :  11.03661\n",
      "MAPE :  0.39126\n",
      "정확도 :  60.8745\n"
     ]
    }
   ],
   "source": [
    "model3_1 = GradientBoostingRegressor(learning_rate = 0.2, n_estimators=191)\n",
    "model3_1.fit(x_train, y_train)\n",
    "pred3_1 = model3_1.predict(x_val)\n",
    "printPerform1(y_val, pred3_1)"
   ]
  },
  {
   "cell_type": "code",
   "execution_count": null,
   "id": "4fc32c63",
   "metadata": {},
   "outputs": [],
   "source": []
  },
  {
   "cell_type": "code",
   "execution_count": 106,
   "id": "241dbcdc",
   "metadata": {},
   "outputs": [
    {
     "name": "stdout",
     "output_type": "stream",
     "text": [
      "r2 score :  0.27177\n",
      "RMSE :  20.05877\n",
      "MAE :  11.39412\n",
      "MAPE :  0.49819\n",
      "정확도 :  50.18078\n"
     ]
    }
   ],
   "source": [
    "# Test 데이터로 성능을 평가해보세요.\n",
    "models = joblib.load('./GBmodel2.pkl')\n",
    "pred = models.predict(test_x)\n",
    "printPerform1(test_y, pred)"
   ]
  },
  {
   "cell_type": "code",
   "execution_count": 105,
   "id": "9bdccb80",
   "metadata": {},
   "outputs": [
    {
     "data": {
      "text/plain": [
       "['./GBmodel2.pkl']"
      ]
     },
     "execution_count": 105,
     "metadata": {},
     "output_type": "execute_result"
    }
   ],
   "source": [
    "# 학습한 모델을 파일로 저장해보세요.\n",
    "joblib.dump(model3_1, './GBmodel2.pkl')"
   ]
  },
  {
   "cell_type": "markdown",
   "id": "04925b45",
   "metadata": {},
   "source": [
    "#### [실습문제6] 머신러닝_5\n",
    "* 그라디언트부스팅으로 학습한 모델의 feature_importances 또는 Shap value를 구해보세요.\n",
    "* 확인할 수 있는 내용으로 우리 모델에서의 인사이트를 정리해보세요."
   ]
  },
  {
   "cell_type": "code",
   "execution_count": 92,
   "id": "8deba58d",
   "metadata": {},
   "outputs": [
    {
     "data": {
      "text/html": [
       "<div>\n",
       "<style scoped>\n",
       "    .dataframe tbody tr th:only-of-type {\n",
       "        vertical-align: middle;\n",
       "    }\n",
       "\n",
       "    .dataframe tbody tr th {\n",
       "        vertical-align: top;\n",
       "    }\n",
       "\n",
       "    .dataframe thead th {\n",
       "        text-align: right;\n",
       "    }\n",
       "</style>\n",
       "<table border=\"1\" class=\"dataframe\">\n",
       "  <thead>\n",
       "    <tr style=\"text-align: right;\">\n",
       "      <th></th>\n",
       "      <th>feature_names</th>\n",
       "      <th>feature_importance</th>\n",
       "    </tr>\n",
       "  </thead>\n",
       "  <tbody>\n",
       "    <tr>\n",
       "      <th>0</th>\n",
       "      <td>시정(10m)</td>\n",
       "      <td>0.270863</td>\n",
       "    </tr>\n",
       "    <tr>\n",
       "      <th>1</th>\n",
       "      <td>전운량(10분위)</td>\n",
       "      <td>0.134861</td>\n",
       "    </tr>\n",
       "    <tr>\n",
       "      <th>2</th>\n",
       "      <td>최저운고(100m )</td>\n",
       "      <td>0.113085</td>\n",
       "    </tr>\n",
       "    <tr>\n",
       "      <th>3</th>\n",
       "      <td>해면기압(hPa)</td>\n",
       "      <td>0.111743</td>\n",
       "    </tr>\n",
       "    <tr>\n",
       "      <th>4</th>\n",
       "      <td>습도(%)</td>\n",
       "      <td>0.093632</td>\n",
       "    </tr>\n",
       "    <tr>\n",
       "      <th>5</th>\n",
       "      <td>현지기압(hPa)</td>\n",
       "      <td>0.085575</td>\n",
       "    </tr>\n",
       "    <tr>\n",
       "      <th>6</th>\n",
       "      <td>CO</td>\n",
       "      <td>0.071815</td>\n",
       "    </tr>\n",
       "    <tr>\n",
       "      <th>7</th>\n",
       "      <td>이슬점온도(°C)</td>\n",
       "      <td>0.045000</td>\n",
       "    </tr>\n",
       "    <tr>\n",
       "      <th>8</th>\n",
       "      <td>증기압(hPa)</td>\n",
       "      <td>0.011431</td>\n",
       "    </tr>\n",
       "    <tr>\n",
       "      <th>9</th>\n",
       "      <td>SO2</td>\n",
       "      <td>0.010049</td>\n",
       "    </tr>\n",
       "    <tr>\n",
       "      <th>10</th>\n",
       "      <td>기온(°C)</td>\n",
       "      <td>0.008450</td>\n",
       "    </tr>\n",
       "    <tr>\n",
       "      <th>11</th>\n",
       "      <td>풍속(m/s)</td>\n",
       "      <td>0.008223</td>\n",
       "    </tr>\n",
       "    <tr>\n",
       "      <th>12</th>\n",
       "      <td>NO2</td>\n",
       "      <td>0.007094</td>\n",
       "    </tr>\n",
       "    <tr>\n",
       "      <th>13</th>\n",
       "      <td>O3</td>\n",
       "      <td>0.006917</td>\n",
       "    </tr>\n",
       "    <tr>\n",
       "      <th>14</th>\n",
       "      <td>풍향(16방위)</td>\n",
       "      <td>0.006513</td>\n",
       "    </tr>\n",
       "    <tr>\n",
       "      <th>15</th>\n",
       "      <td>지면온도(°C)</td>\n",
       "      <td>0.005520</td>\n",
       "    </tr>\n",
       "    <tr>\n",
       "      <th>16</th>\n",
       "      <td>일사(MJ/m2)</td>\n",
       "      <td>0.002999</td>\n",
       "    </tr>\n",
       "    <tr>\n",
       "      <th>17</th>\n",
       "      <td>중하층운량(10분위)</td>\n",
       "      <td>0.002867</td>\n",
       "    </tr>\n",
       "    <tr>\n",
       "      <th>18</th>\n",
       "      <td>강수량(mm)</td>\n",
       "      <td>0.001707</td>\n",
       "    </tr>\n",
       "    <tr>\n",
       "      <th>19</th>\n",
       "      <td>hour</td>\n",
       "      <td>0.001373</td>\n",
       "    </tr>\n",
       "    <tr>\n",
       "      <th>20</th>\n",
       "      <td>일조(hr)</td>\n",
       "      <td>0.000282</td>\n",
       "    </tr>\n",
       "  </tbody>\n",
       "</table>\n",
       "</div>"
      ],
      "text/plain": [
       "   feature_names  feature_importance\n",
       "0        시정(10m)            0.270863\n",
       "1      전운량(10분위)            0.134861\n",
       "2    최저운고(100m )            0.113085\n",
       "3      해면기압(hPa)            0.111743\n",
       "4          습도(%)            0.093632\n",
       "5      현지기압(hPa)            0.085575\n",
       "6             CO            0.071815\n",
       "7      이슬점온도(°C)            0.045000\n",
       "8       증기압(hPa)            0.011431\n",
       "9            SO2            0.010049\n",
       "10        기온(°C)            0.008450\n",
       "11       풍속(m/s)            0.008223\n",
       "12           NO2            0.007094\n",
       "13            O3            0.006917\n",
       "14      풍향(16방위)            0.006513\n",
       "15      지면온도(°C)            0.005520\n",
       "16     일사(MJ/m2)            0.002999\n",
       "17   중하층운량(10분위)            0.002867\n",
       "18       강수량(mm)            0.001707\n",
       "19          hour            0.001373\n",
       "20        일조(hr)            0.000282"
      ]
     },
     "execution_count": 92,
     "metadata": {},
     "output_type": "execute_result"
    },
    {
     "data": {
      "image/png": "[encoded data removed]",
      "text/plain": [
       "<Figure size 720x576 with 1 Axes>"
      ]
     },
     "metadata": {},
     "output_type": "display_data"
    }
   ],
   "source": [
    "# Feature의 중요도 확인\n",
    "plot_feature_importance(model3_1.feature_importances_, list(x_train))"
   ]
  },
  {
   "cell_type": "code",
   "execution_count": null,
   "id": "9d1bfe7d",
   "metadata": {},
   "outputs": [],
   "source": [
    "# 확인할 수 있는 인사이트\n",
    "# 1.\n",
    "# 2.\n",
    "# 3."
   ]
  },
  {
   "cell_type": "markdown",
   "id": "305bbd5b",
   "metadata": {},
   "source": [
    "#### 3) Self Choice Model\n",
    "##### 앞선 교육과정에서 배운 머신러닝 모델 중 어떤 것이든 좋습니다. 원하는 모델을 선택해서 학습을 시켜보세요."
   ]
  },
  {
   "cell_type": "markdown",
   "id": "fbef7589",
   "metadata": {},
   "source": [
    "#### [실습문제7] 머신러닝_6\n",
    "* Train과 Test로 나눈 데이터를 기준으로 Self Choice Model로 모델을 학습을 진행하고 평가를 해주세요.\n",
    "* 그리고 모델 파일을 pkl로 저장해주세요.\n",
    "* 성능지표 : RMSE, R-squared Score(소수점 5째자리까지, 반올림)"
   ]
  },
  {
   "cell_type": "code",
   "execution_count": 93,
   "id": "563e6f8f",
   "metadata": {},
   "outputs": [
    {
     "data": {
      "text/plain": [
       "((7458,), (1300,))"
      ]
     },
     "execution_count": 93,
     "metadata": {},
     "output_type": "execute_result"
    }
   ],
   "source": [
    "y_train_t.shape, y_val_t.shape"
   ]
  },
  {
   "cell_type": "code",
   "execution_count": 96,
   "id": "a2c66605",
   "metadata": {},
   "outputs": [
    {
     "name": "stdout",
     "output_type": "stream",
     "text": [
      "(1, 1, 1)\n",
      "(1, 1, 2)\n",
      "(1, 1, 3)\n",
      "(1, 1, 4)\n",
      "(2, 1, 1)\n",
      "(2, 1, 2)\n",
      "(2, 1, 3)\n",
      "(2, 1, 4)\n",
      "(3, 1, 1)\n",
      "(3, 1, 2)\n",
      "(3, 1, 3)\n",
      "(3, 1, 4)\n",
      "(4, 1, 1)\n",
      "(4, 1, 2)\n",
      "(4, 1, 3)\n",
      "(4, 1, 4)\n"
     ]
    }
   ],
   "source": [
    "# 아래에 실습코드를 작성하세요.\n",
    "from itertools import product\n",
    "p = [1,2,3,4]\n",
    "q = [1,2,3,4]\n",
    "d = [1]\n",
    "iter = list(product(p,d,q))\n",
    "iter\n",
    "mae, aic = [],[]\n",
    "for i in iter :\n",
    "    model_fit = sm.tsa.SARIMAX(y_train_t, order=(i[0],i[1],i[2])).fit()\n",
    "    pred = model_fit.forecast(1300)\n",
    "    mae.append( mean_absolute_error(y_val_t, pred))\n",
    "    aic.append(model_fit.aic)\n",
    "    print(i)"
   ]
  },
  {
   "cell_type": "code",
   "execution_count": 97,
   "id": "ff7fedce",
   "metadata": {},
   "outputs": [
    {
     "data": {
      "text/html": [
       "<div>\n",
       "<style scoped>\n",
       "    .dataframe tbody tr th:only-of-type {\n",
       "        vertical-align: middle;\n",
       "    }\n",
       "\n",
       "    .dataframe tbody tr th {\n",
       "        vertical-align: top;\n",
       "    }\n",
       "\n",
       "    .dataframe thead th {\n",
       "        text-align: right;\n",
       "    }\n",
       "</style>\n",
       "<table border=\"1\" class=\"dataframe\">\n",
       "  <thead>\n",
       "    <tr style=\"text-align: right;\">\n",
       "      <th></th>\n",
       "      <th>params(p,d,q)</th>\n",
       "      <th>mae</th>\n",
       "      <th>aic</th>\n",
       "    </tr>\n",
       "  </thead>\n",
       "  <tbody>\n",
       "    <tr>\n",
       "      <th>10</th>\n",
       "      <td>(3, 1, 3)</td>\n",
       "      <td>21.048077</td>\n",
       "      <td>52174.888168</td>\n",
       "    </tr>\n",
       "  </tbody>\n",
       "</table>\n",
       "</div>"
      ],
      "text/plain": [
       "   params(p,d,q)        mae           aic\n",
       "10     (3, 1, 3)  21.048077  52174.888168"
      ]
     },
     "metadata": {},
     "output_type": "display_data"
    },
    {
     "data": {
      "text/html": [
       "<div>\n",
       "<style scoped>\n",
       "    .dataframe tbody tr th:only-of-type {\n",
       "        vertical-align: middle;\n",
       "    }\n",
       "\n",
       "    .dataframe tbody tr th {\n",
       "        vertical-align: top;\n",
       "    }\n",
       "\n",
       "    .dataframe thead th {\n",
       "        text-align: right;\n",
       "    }\n",
       "</style>\n",
       "<table border=\"1\" class=\"dataframe\">\n",
       "  <thead>\n",
       "    <tr style=\"text-align: right;\">\n",
       "      <th></th>\n",
       "      <th>params(p,d,q)</th>\n",
       "      <th>mae</th>\n",
       "      <th>aic</th>\n",
       "    </tr>\n",
       "  </thead>\n",
       "  <tbody>\n",
       "    <tr>\n",
       "      <th>7</th>\n",
       "      <td>(2, 1, 4)</td>\n",
       "      <td>21.127</td>\n",
       "      <td>52168.55962</td>\n",
       "    </tr>\n",
       "  </tbody>\n",
       "</table>\n",
       "</div>"
      ],
      "text/plain": [
       "  params(p,d,q)     mae          aic\n",
       "7     (2, 1, 4)  21.127  52168.55962"
      ]
     },
     "metadata": {},
     "output_type": "display_data"
    }
   ],
   "source": [
    "result = pd.DataFrame({'params(p,d,q)' : iter, 'mae' : mae, 'aic':aic})\n",
    "\n",
    "display(result.loc[result['mae'] == result.mae.min()])\n",
    "display(result.loc[result['aic'] == result.aic.min()])"
   ]
  },
  {
   "cell_type": "code",
   "execution_count": 98,
   "id": "3103d7c9",
   "metadata": {},
   "outputs": [
    {
     "name": "stdout",
     "output_type": "stream",
     "text": [
      "(1, 1, 1)\n",
      "(1, 1, 2)\n",
      "(1, 1, 3)\n",
      "(1, 1, 4)\n",
      "(1, 1, 5)\n",
      "(2, 1, 1)\n",
      "(2, 1, 2)\n",
      "(2, 1, 3)\n",
      "(2, 1, 4)\n",
      "(2, 1, 5)\n",
      "(3, 1, 1)\n",
      "(3, 1, 2)\n",
      "(3, 1, 3)\n",
      "(3, 1, 4)\n",
      "(3, 1, 5)\n",
      "(4, 1, 1)\n",
      "(4, 1, 2)\n",
      "(4, 1, 3)\n",
      "(4, 1, 4)\n",
      "(4, 1, 5)\n",
      "(5, 1, 1)\n"
     ]
    },
    {
     "name": "stderr",
     "output_type": "stream",
     "text": [
      "\n",
      "KeyboardInterrupt\n",
      "\n"
     ]
    }
   ],
   "source": [
    "# mae가 작은 것을 선택\n",
    "P = [1,2,3,4,5]\n",
    "Q = [1,2,3,4,5]\n",
    "D = [1]\n",
    "mae, aic = [],[]\n",
    "iter = list(product(P,D,Q))\n",
    "\n",
    "for i in iter :\n",
    "    model_fit = sm.tsa.SARIMAX(y_train_t, order=(3,1,3), seasonal_order=(i[0],i[1],i[2],7)).fit()\n",
    "    pred = model_fit.forecast(1300)\n",
    "    mae.append(mean_absolute_error(y_val_t, pred))\n",
    "    aic.append(model_fit.aic)\n",
    "    print(i)"
   ]
  },
  {
   "cell_type": "code",
   "execution_count": 100,
   "id": "613a3dcd",
   "metadata": {
    "scrolled": false
   },
   "outputs": [
    {
     "name": "stdout",
     "output_type": "stream",
     "text": [
      "[28.1546161943079, 28.181694688219263, 27.655129194846836, 25.3068947542719, 28.259078514642326, 24.310994934654353, 25.346033466191336, 20.74929174174232, 19.96283884096268, 20.250428114601856, 20.005893225568038, 21.146944292393666, 21.285216618160575, 22.71387204806675, 22.21217750336367, 20.12283359751953, 20.317501942894165, 26.37331083715768, 22.536978746071608, 20.014338282422617, 26.210229703505142]\n"
     ]
    }
   ],
   "source": [
    "print(mae)"
   ]
  },
  {
   "cell_type": "code",
   "execution_count": 101,
   "id": "19081f1b",
   "metadata": {},
   "outputs": [
    {
     "name": "stdout",
     "output_type": "stream",
     "text": [
      "r2 score :  -0.01378\n",
      "RMSE :  30.08544\n",
      "MAE :  19.96284\n",
      "MAPE :  0.61936\n",
      "정확도 :  38.06431\n"
     ]
    }
   ],
   "source": [
    "model_fit = sm.tsa.SARIMAX(y_train_t, order=(3,1,3), seasonal_order=(2,1,4,7)).fit()\n",
    "pred = model_fit.forecast(1300)\n",
    "printPerform1(y_val_t, pred)"
   ]
  },
  {
   "cell_type": "code",
   "execution_count": 99,
   "id": "e849a666",
   "metadata": {
    "collapsed": true
   },
   "outputs": [
    {
     "ename": "ValueError",
     "evalue": "All arrays must be of the same length",
     "output_type": "error",
     "traceback": [
      "\u001b[1;31m---------------------------------------------------------------------------\u001b[0m",
      "\u001b[1;31mValueError\u001b[0m                                Traceback (most recent call last)",
      "Input \u001b[1;32mIn [99]\u001b[0m, in \u001b[0;36m<cell line: 1>\u001b[1;34m()\u001b[0m\n\u001b[1;32m----> 1\u001b[0m result \u001b[38;5;241m=\u001b[39m \u001b[43mpd\u001b[49m\u001b[38;5;241;43m.\u001b[39;49m\u001b[43mDataFrame\u001b[49m\u001b[43m(\u001b[49m\u001b[43m{\u001b[49m\u001b[38;5;124;43m'\u001b[39;49m\u001b[38;5;124;43mparams(P,D,Q)\u001b[39;49m\u001b[38;5;124;43m'\u001b[39;49m\u001b[43m \u001b[49m\u001b[43m:\u001b[49m\u001b[43m \u001b[49m\u001b[38;5;28;43miter\u001b[39;49m\u001b[43m,\u001b[49m\u001b[43m \u001b[49m\u001b[38;5;124;43m'\u001b[39;49m\u001b[38;5;124;43mmae\u001b[39;49m\u001b[38;5;124;43m'\u001b[39;49m\u001b[43m \u001b[49m\u001b[43m:\u001b[49m\u001b[43m \u001b[49m\u001b[43mmae\u001b[49m\u001b[43m,\u001b[49m\u001b[43m \u001b[49m\u001b[38;5;124;43m'\u001b[39;49m\u001b[38;5;124;43maic\u001b[39;49m\u001b[38;5;124;43m'\u001b[39;49m\u001b[43m:\u001b[49m\u001b[43maic\u001b[49m\u001b[43m}\u001b[49m\u001b[43m)\u001b[49m\n\u001b[0;32m      3\u001b[0m display(result\u001b[38;5;241m.\u001b[39mloc[result[\u001b[38;5;124m'\u001b[39m\u001b[38;5;124mmae\u001b[39m\u001b[38;5;124m'\u001b[39m] \u001b[38;5;241m==\u001b[39m result\u001b[38;5;241m.\u001b[39mmae\u001b[38;5;241m.\u001b[39mmin()])\n\u001b[0;32m      4\u001b[0m display(result\u001b[38;5;241m.\u001b[39mloc[result[\u001b[38;5;124m'\u001b[39m\u001b[38;5;124maic\u001b[39m\u001b[38;5;124m'\u001b[39m] \u001b[38;5;241m==\u001b[39m result\u001b[38;5;241m.\u001b[39maic\u001b[38;5;241m.\u001b[39mmin()])\n",
      "File \u001b[1;32mD:\\Anaconda\\lib\\site-packages\\pandas\\core\\frame.py:636\u001b[0m, in \u001b[0;36mDataFrame.__init__\u001b[1;34m(self, data, index, columns, dtype, copy)\u001b[0m\n\u001b[0;32m    630\u001b[0m     mgr \u001b[38;5;241m=\u001b[39m \u001b[38;5;28mself\u001b[39m\u001b[38;5;241m.\u001b[39m_init_mgr(\n\u001b[0;32m    631\u001b[0m         data, axes\u001b[38;5;241m=\u001b[39m{\u001b[38;5;124m\"\u001b[39m\u001b[38;5;124mindex\u001b[39m\u001b[38;5;124m\"\u001b[39m: index, \u001b[38;5;124m\"\u001b[39m\u001b[38;5;124mcolumns\u001b[39m\u001b[38;5;124m\"\u001b[39m: columns}, dtype\u001b[38;5;241m=\u001b[39mdtype, copy\u001b[38;5;241m=\u001b[39mcopy\n\u001b[0;32m    632\u001b[0m     )\n\u001b[0;32m    634\u001b[0m \u001b[38;5;28;01melif\u001b[39;00m \u001b[38;5;28misinstance\u001b[39m(data, \u001b[38;5;28mdict\u001b[39m):\n\u001b[0;32m    635\u001b[0m     \u001b[38;5;66;03m# GH#38939 de facto copy defaults to False only in non-dict cases\u001b[39;00m\n\u001b[1;32m--> 636\u001b[0m     mgr \u001b[38;5;241m=\u001b[39m \u001b[43mdict_to_mgr\u001b[49m\u001b[43m(\u001b[49m\u001b[43mdata\u001b[49m\u001b[43m,\u001b[49m\u001b[43m \u001b[49m\u001b[43mindex\u001b[49m\u001b[43m,\u001b[49m\u001b[43m \u001b[49m\u001b[43mcolumns\u001b[49m\u001b[43m,\u001b[49m\u001b[43m \u001b[49m\u001b[43mdtype\u001b[49m\u001b[38;5;241;43m=\u001b[39;49m\u001b[43mdtype\u001b[49m\u001b[43m,\u001b[49m\u001b[43m \u001b[49m\u001b[43mcopy\u001b[49m\u001b[38;5;241;43m=\u001b[39;49m\u001b[43mcopy\u001b[49m\u001b[43m,\u001b[49m\u001b[43m \u001b[49m\u001b[43mtyp\u001b[49m\u001b[38;5;241;43m=\u001b[39;49m\u001b[43mmanager\u001b[49m\u001b[43m)\u001b[49m\n\u001b[0;32m    637\u001b[0m \u001b[38;5;28;01melif\u001b[39;00m \u001b[38;5;28misinstance\u001b[39m(data, ma\u001b[38;5;241m.\u001b[39mMaskedArray):\n\u001b[0;32m    638\u001b[0m     \u001b[38;5;28;01mimport\u001b[39;00m \u001b[38;5;21;01mnumpy\u001b[39;00m\u001b[38;5;21;01m.\u001b[39;00m\u001b[38;5;21;01mma\u001b[39;00m\u001b[38;5;21;01m.\u001b[39;00m\u001b[38;5;21;01mmrecords\u001b[39;00m \u001b[38;5;28;01mas\u001b[39;00m \u001b[38;5;21;01mmrecords\u001b[39;00m\n",
      "File \u001b[1;32mD:\\Anaconda\\lib\\site-packages\\pandas\\core\\internals\\construction.py:502\u001b[0m, in \u001b[0;36mdict_to_mgr\u001b[1;34m(data, index, columns, dtype, typ, copy)\u001b[0m\n\u001b[0;32m    494\u001b[0m     arrays \u001b[38;5;241m=\u001b[39m [\n\u001b[0;32m    495\u001b[0m         x\n\u001b[0;32m    496\u001b[0m         \u001b[38;5;28;01mif\u001b[39;00m \u001b[38;5;129;01mnot\u001b[39;00m \u001b[38;5;28mhasattr\u001b[39m(x, \u001b[38;5;124m\"\u001b[39m\u001b[38;5;124mdtype\u001b[39m\u001b[38;5;124m\"\u001b[39m) \u001b[38;5;129;01mor\u001b[39;00m \u001b[38;5;129;01mnot\u001b[39;00m \u001b[38;5;28misinstance\u001b[39m(x\u001b[38;5;241m.\u001b[39mdtype, ExtensionDtype)\n\u001b[0;32m    497\u001b[0m         \u001b[38;5;28;01melse\u001b[39;00m x\u001b[38;5;241m.\u001b[39mcopy()\n\u001b[0;32m    498\u001b[0m         \u001b[38;5;28;01mfor\u001b[39;00m x \u001b[38;5;129;01min\u001b[39;00m arrays\n\u001b[0;32m    499\u001b[0m     ]\n\u001b[0;32m    500\u001b[0m     \u001b[38;5;66;03m# TODO: can we get rid of the dt64tz special case above?\u001b[39;00m\n\u001b[1;32m--> 502\u001b[0m \u001b[38;5;28;01mreturn\u001b[39;00m \u001b[43marrays_to_mgr\u001b[49m\u001b[43m(\u001b[49m\u001b[43marrays\u001b[49m\u001b[43m,\u001b[49m\u001b[43m \u001b[49m\u001b[43mcolumns\u001b[49m\u001b[43m,\u001b[49m\u001b[43m \u001b[49m\u001b[43mindex\u001b[49m\u001b[43m,\u001b[49m\u001b[43m \u001b[49m\u001b[43mdtype\u001b[49m\u001b[38;5;241;43m=\u001b[39;49m\u001b[43mdtype\u001b[49m\u001b[43m,\u001b[49m\u001b[43m \u001b[49m\u001b[43mtyp\u001b[49m\u001b[38;5;241;43m=\u001b[39;49m\u001b[43mtyp\u001b[49m\u001b[43m,\u001b[49m\u001b[43m \u001b[49m\u001b[43mconsolidate\u001b[49m\u001b[38;5;241;43m=\u001b[39;49m\u001b[43mcopy\u001b[49m\u001b[43m)\u001b[49m\n",
      "File \u001b[1;32mD:\\Anaconda\\lib\\site-packages\\pandas\\core\\internals\\construction.py:120\u001b[0m, in \u001b[0;36marrays_to_mgr\u001b[1;34m(arrays, columns, index, dtype, verify_integrity, typ, consolidate)\u001b[0m\n\u001b[0;32m    117\u001b[0m \u001b[38;5;28;01mif\u001b[39;00m verify_integrity:\n\u001b[0;32m    118\u001b[0m     \u001b[38;5;66;03m# figure out the index, if necessary\u001b[39;00m\n\u001b[0;32m    119\u001b[0m     \u001b[38;5;28;01mif\u001b[39;00m index \u001b[38;5;129;01mis\u001b[39;00m \u001b[38;5;28;01mNone\u001b[39;00m:\n\u001b[1;32m--> 120\u001b[0m         index \u001b[38;5;241m=\u001b[39m \u001b[43m_extract_index\u001b[49m\u001b[43m(\u001b[49m\u001b[43marrays\u001b[49m\u001b[43m)\u001b[49m\n\u001b[0;32m    121\u001b[0m     \u001b[38;5;28;01melse\u001b[39;00m:\n\u001b[0;32m    122\u001b[0m         index \u001b[38;5;241m=\u001b[39m ensure_index(index)\n",
      "File \u001b[1;32mD:\\Anaconda\\lib\\site-packages\\pandas\\core\\internals\\construction.py:674\u001b[0m, in \u001b[0;36m_extract_index\u001b[1;34m(data)\u001b[0m\n\u001b[0;32m    672\u001b[0m lengths \u001b[38;5;241m=\u001b[39m \u001b[38;5;28mlist\u001b[39m(\u001b[38;5;28mset\u001b[39m(raw_lengths))\n\u001b[0;32m    673\u001b[0m \u001b[38;5;28;01mif\u001b[39;00m \u001b[38;5;28mlen\u001b[39m(lengths) \u001b[38;5;241m>\u001b[39m \u001b[38;5;241m1\u001b[39m:\n\u001b[1;32m--> 674\u001b[0m     \u001b[38;5;28;01mraise\u001b[39;00m \u001b[38;5;167;01mValueError\u001b[39;00m(\u001b[38;5;124m\"\u001b[39m\u001b[38;5;124mAll arrays must be of the same length\u001b[39m\u001b[38;5;124m\"\u001b[39m)\n\u001b[0;32m    676\u001b[0m \u001b[38;5;28;01mif\u001b[39;00m have_dicts:\n\u001b[0;32m    677\u001b[0m     \u001b[38;5;28;01mraise\u001b[39;00m \u001b[38;5;167;01mValueError\u001b[39;00m(\n\u001b[0;32m    678\u001b[0m         \u001b[38;5;124m\"\u001b[39m\u001b[38;5;124mMixing dicts with non-Series may lead to ambiguous ordering.\u001b[39m\u001b[38;5;124m\"\u001b[39m\n\u001b[0;32m    679\u001b[0m     )\n",
      "\u001b[1;31mValueError\u001b[0m: All arrays must be of the same length"
     ]
    }
   ],
   "source": [
    "result = pd.DataFrame({'params(P,D,Q)' : iter, 'mae' : mae, 'aic':aic})\n",
    "\n",
    "display(result.loc[result['mae'] == result.mae.min()])\n",
    "display(result.loc[result['aic'] == result.aic.min()])"
   ]
  },
  {
   "cell_type": "code",
   "execution_count": null,
   "id": "718bd4f1",
   "metadata": {},
   "outputs": [],
   "source": [
    "# aic가 작은 것을 선택\n",
    "P = [1,2,3,4,5]\n",
    "Q = [1,2,3,4,5]\n",
    "D = [1]\n",
    "mae, aic = [],[]\n",
    "iter = list(product(P,D,Q))\n",
    "\n",
    "for i in iter :\n",
    "    model_fit = sm.tsa.SARIMAX(y_train_t, order=(2,1,4), seasonal_order=(i[0],i[1],i[2],7)).fit()\n",
    "    pred = model_fit.forecast(1300)\n",
    "    mae.append(mean_absolute_error(y_val_t, pred))\n",
    "    aic.append(model_fit.aic)\n",
    "    print(i)"
   ]
  },
  {
   "cell_type": "code",
   "execution_count": null,
   "id": "bcb633d3",
   "metadata": {},
   "outputs": [],
   "source": [
    "result = pd.DataFrame({'params(P,D,Q)' : iter, 'mae' : mae, 'aic':aic})\n",
    "\n",
    "display(result.loc[result['mae'] == result.mae.min()])\n",
    "display(result.loc[result['aic'] == result.aic.min()])"
   ]
  },
  {
   "cell_type": "code",
   "execution_count": null,
   "id": "546ac8bf",
   "metadata": {},
   "outputs": [],
   "source": [
    "# Test 데이터로 성능을 평가해보세요.\n",
    "\n",
    "\n",
    "\n"
   ]
  },
  {
   "cell_type": "code",
   "execution_count": null,
   "id": "e69d0d7c",
   "metadata": {},
   "outputs": [],
   "source": [
    "# 학습한 모델을 파일로 저장해보세요.\n",
    "\n",
    "\n",
    "\n"
   ]
  },
  {
   "cell_type": "markdown",
   "id": "94cfdb09",
   "metadata": {},
   "source": [
    "#### [실습문제8] 머신러닝_7\n",
    "* Self Choice Model로 학습한 모델의 feature_importances 또는 Shap value를 구해보세요.\n",
    "* 확인할 수 있는 내용으로 우리 모델에서의 인사이트를 정리해보세요."
   ]
  },
  {
   "cell_type": "code",
   "execution_count": null,
   "id": "67e6d924",
   "metadata": {},
   "outputs": [],
   "source": [
    "# Feature의 중요도 확인\n",
    "\n",
    "\n",
    "\n"
   ]
  },
  {
   "cell_type": "code",
   "execution_count": null,
   "id": "a8ac782c",
   "metadata": {},
   "outputs": [],
   "source": [
    "# 확인할 수 있는 인사이트\n",
    "# 1.\n",
    "# 2.\n",
    "# 3."
   ]
  }
 ],
 "metadata": {
  "kernelspec": {
   "display_name": "Python 3 (ipykernel)",
   "language": "python",
   "name": "python3"
  },
  "language_info": {
   "codemirror_mode": {
    "name": "ipython",
    "version": 3
   },
   "file_extension": ".py",
   "mimetype": "text/x-python",
   "name": "python",
   "nbconvert_exporter": "python",
   "pygments_lexer": "ipython3",
   "version": "3.9.12"
  },
  "vscode": {
   "interpreter": {
    "hash": "f08154012ddadd8e950e6e9e035c7a7b32c136e7647e9b7c77e02eb723a8bedb"
   }
  }
 },
 "nbformat": 4,
 "nbformat_minor": 5
}
