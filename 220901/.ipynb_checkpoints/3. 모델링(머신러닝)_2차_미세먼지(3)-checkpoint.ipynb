{
 "cells": [
  {
   "cell_type": "markdown",
   "id": "22f7625f",
   "metadata": {},
   "source": [
    "# 안녕하세요^^ \n",
    "# AIVLE 미니 프로젝트에 오신 여러분을 환영합니다.\n",
    "* 본 과정에서는 실제 사례와 데이터를 기반으로 문제를 해결하는 전체 과정을 자기 주도형 실습으로 진행해볼 예정입니다.\n",
    "* 앞선 교육과정을 정리하는 마음과 지금까지 배운 내용을 바탕으로 문제 해결을 해볼게요!\n",
    "* 미니 프로젝트를 통한 문제 해결 과정 'A에서 Z까지', 지금부터 시작합니다!"
   ]
  },
  {
   "cell_type": "markdown",
   "id": "04b1edbb",
   "metadata": {},
   "source": [
    "---"
   ]
  },
  {
   "cell_type": "code",
   "execution_count": null,
   "id": "3c1789e6",
   "metadata": {},
   "outputs": [],
   "source": [
    "# 필요 라이브러리부터 설치할께요.\n",
    "!pip install pandas seaborn sklearn"
   ]
  },
  {
   "cell_type": "markdown",
   "id": "69d11f7f",
   "metadata": {},
   "source": [
    "---"
   ]
  },
  {
   "cell_type": "markdown",
   "id": "b5cf42a0",
   "metadata": {},
   "source": [
    "---"
   ]
  },
  {
   "cell_type": "markdown",
   "id": "skilled-burden",
   "metadata": {},
   "source": [
    "# 1. 라이브러리 Import 및 데이터 불러오기\n",
    "\n",
    "* sklearn 을 설치 하세요. \n",
    "\n",
    "* 관련 라이브러리들을 불러오세요"
   ]
  },
  {
   "cell_type": "code",
   "execution_count": 1,
   "id": "efficient-minutes",
   "metadata": {},
   "outputs": [],
   "source": [
    "import pandas as pd\n",
    "\n",
    "# 학습/평가 데이터 로딩\n",
    "df_21 = pd.read_csv(\"train3.csv\")\n",
    "df_22 = pd.read_csv(\"test3.csv\")"
   ]
  },
  {
   "cell_type": "markdown",
   "id": "forbidden-course",
   "metadata": {},
   "source": [
    "#### [실습문제1] 라이브러리 불러오기\n",
    "\n"
   ]
  },
  {
   "cell_type": "code",
   "execution_count": 2,
   "id": "changed-arrangement",
   "metadata": {
    "scrolled": true
   },
   "outputs": [],
   "source": [
    "import numpy as np\n",
    "import pandas as pd\n",
    "import matplotlib.pyplot as plt\n",
    "import seaborn as sns\n",
    "\n",
    "from sklearn.model_selection import train_test_split\n",
    "from sklearn.preprocessing import * # scaler\n",
    "import joblib\n",
    "\n",
    "from sklearn.linear_model import LinearRegression\n",
    "from sklearn.neighbors import KNeighborsRegressor\n",
    "from sklearn.tree import plot_tree, DecisionTreeRegressor\n",
    "from sklearn.svm import SVC\n",
    "from sklearn.metrics import * \n",
    "from sklearn.model_selection import RandomizedSearchCV, GridSearchCV\n",
    "from sklearn.tree import plot_tree\n",
    "from sklearn.ensemble import *\n",
    "from xgboost import plot_tree, XGBRegressor\n",
    "\n",
    "import statsmodels.api as sm\n",
    "from statsmodels.graphics.tsaplots import plot_acf, plot_pacf\n",
    "\n",
    "import warnings    # 경고메시지 제외\n",
    "warnings.filterwarnings(action='ignore')"
   ]
  },
  {
   "cell_type": "code",
   "execution_count": 3,
   "id": "dc53482e",
   "metadata": {},
   "outputs": [],
   "source": [
    "# 시각화 한글폰트 설정\n",
    "plt.rc('font', family='Malgun Gothic')\n",
    "sns.set(font=\"Malgun Gothic\",#\"NanumGothicCoding\", \n",
    "        rc={\"axes.unicode_minus\":False}, # 마이너스 부호 깨짐 현상 해결\n",
    "        style='darkgrid')"
   ]
  },
  {
   "cell_type": "code",
   "execution_count": 4,
   "id": "0f2687bd",
   "metadata": {},
   "outputs": [
    {
     "data": {
      "text/html": [
       "<div>\n",
       "<style scoped>\n",
       "    .dataframe tbody tr th:only-of-type {\n",
       "        vertical-align: middle;\n",
       "    }\n",
       "\n",
       "    .dataframe tbody tr th {\n",
       "        vertical-align: top;\n",
       "    }\n",
       "\n",
       "    .dataframe thead th {\n",
       "        text-align: right;\n",
       "    }\n",
       "</style>\n",
       "<table border=\"1\" class=\"dataframe\">\n",
       "  <thead>\n",
       "    <tr style=\"text-align: right;\">\n",
       "      <th></th>\n",
       "      <th>측정일시</th>\n",
       "      <th>SO2</th>\n",
       "      <th>CO</th>\n",
       "      <th>O3</th>\n",
       "      <th>NO2</th>\n",
       "      <th>PM10</th>\n",
       "      <th>PM25</th>\n",
       "      <th>hour</th>\n",
       "      <th>기온(°C)</th>\n",
       "      <th>강수량(mm)</th>\n",
       "      <th>...</th>\n",
       "      <th>현지기압(hPa)</th>\n",
       "      <th>해면기압(hPa)</th>\n",
       "      <th>일조(hr)</th>\n",
       "      <th>일사(MJ/m2)</th>\n",
       "      <th>전운량(10분위)</th>\n",
       "      <th>중하층운량(10분위)</th>\n",
       "      <th>최저운고(100m )</th>\n",
       "      <th>시정(10m)</th>\n",
       "      <th>지면온도(°C)</th>\n",
       "      <th>PM10_t1</th>\n",
       "    </tr>\n",
       "  </thead>\n",
       "  <tbody>\n",
       "    <tr>\n",
       "      <th>0</th>\n",
       "      <td>2021-10-01</td>\n",
       "      <td>0.003</td>\n",
       "      <td>0.6</td>\n",
       "      <td>0.002</td>\n",
       "      <td>0.039</td>\n",
       "      <td>31.0</td>\n",
       "      <td>18.0</td>\n",
       "      <td>1</td>\n",
       "      <td>18.7</td>\n",
       "      <td>0.0</td>\n",
       "      <td>...</td>\n",
       "      <td>998.8</td>\n",
       "      <td>1008.7</td>\n",
       "      <td>0.0</td>\n",
       "      <td>0.0</td>\n",
       "      <td>0.0</td>\n",
       "      <td>0</td>\n",
       "      <td>33.947368</td>\n",
       "      <td>2000</td>\n",
       "      <td>17.4</td>\n",
       "      <td>27.0</td>\n",
       "    </tr>\n",
       "    <tr>\n",
       "      <th>1</th>\n",
       "      <td>2021-10-01</td>\n",
       "      <td>0.003</td>\n",
       "      <td>0.6</td>\n",
       "      <td>0.002</td>\n",
       "      <td>0.035</td>\n",
       "      <td>27.0</td>\n",
       "      <td>16.0</td>\n",
       "      <td>2</td>\n",
       "      <td>18.3</td>\n",
       "      <td>0.0</td>\n",
       "      <td>...</td>\n",
       "      <td>998.9</td>\n",
       "      <td>1008.8</td>\n",
       "      <td>0.0</td>\n",
       "      <td>0.0</td>\n",
       "      <td>0.0</td>\n",
       "      <td>0</td>\n",
       "      <td>35.789474</td>\n",
       "      <td>2000</td>\n",
       "      <td>17.2</td>\n",
       "      <td>28.0</td>\n",
       "    </tr>\n",
       "    <tr>\n",
       "      <th>2</th>\n",
       "      <td>2021-10-01</td>\n",
       "      <td>0.003</td>\n",
       "      <td>0.6</td>\n",
       "      <td>0.002</td>\n",
       "      <td>0.033</td>\n",
       "      <td>28.0</td>\n",
       "      <td>18.0</td>\n",
       "      <td>3</td>\n",
       "      <td>17.7</td>\n",
       "      <td>0.0</td>\n",
       "      <td>...</td>\n",
       "      <td>998.1</td>\n",
       "      <td>1008.1</td>\n",
       "      <td>0.0</td>\n",
       "      <td>0.0</td>\n",
       "      <td>0.0</td>\n",
       "      <td>0</td>\n",
       "      <td>37.631579</td>\n",
       "      <td>2000</td>\n",
       "      <td>17.0</td>\n",
       "      <td>26.0</td>\n",
       "    </tr>\n",
       "    <tr>\n",
       "      <th>3</th>\n",
       "      <td>2021-10-01</td>\n",
       "      <td>0.003</td>\n",
       "      <td>0.6</td>\n",
       "      <td>0.002</td>\n",
       "      <td>0.030</td>\n",
       "      <td>26.0</td>\n",
       "      <td>16.0</td>\n",
       "      <td>4</td>\n",
       "      <td>17.4</td>\n",
       "      <td>0.0</td>\n",
       "      <td>...</td>\n",
       "      <td>997.9</td>\n",
       "      <td>1007.9</td>\n",
       "      <td>0.0</td>\n",
       "      <td>0.0</td>\n",
       "      <td>0.0</td>\n",
       "      <td>0</td>\n",
       "      <td>39.473684</td>\n",
       "      <td>2000</td>\n",
       "      <td>16.5</td>\n",
       "      <td>26.0</td>\n",
       "    </tr>\n",
       "    <tr>\n",
       "      <th>4</th>\n",
       "      <td>2021-10-01</td>\n",
       "      <td>0.003</td>\n",
       "      <td>0.5</td>\n",
       "      <td>0.003</td>\n",
       "      <td>0.026</td>\n",
       "      <td>26.0</td>\n",
       "      <td>16.0</td>\n",
       "      <td>5</td>\n",
       "      <td>17.2</td>\n",
       "      <td>0.0</td>\n",
       "      <td>...</td>\n",
       "      <td>998.4</td>\n",
       "      <td>1008.4</td>\n",
       "      <td>0.0</td>\n",
       "      <td>0.0</td>\n",
       "      <td>4.0</td>\n",
       "      <td>0</td>\n",
       "      <td>41.315789</td>\n",
       "      <td>1995</td>\n",
       "      <td>16.6</td>\n",
       "      <td>22.0</td>\n",
       "    </tr>\n",
       "  </tbody>\n",
       "</table>\n",
       "<p>5 rows × 25 columns</p>\n",
       "</div>"
      ],
      "text/plain": [
       "         측정일시    SO2   CO     O3    NO2  PM10  PM25  hour  기온(°C)  강수량(mm)  \\\n",
       "0  2021-10-01  0.003  0.6  0.002  0.039  31.0  18.0     1    18.7      0.0   \n",
       "1  2021-10-01  0.003  0.6  0.002  0.035  27.0  16.0     2    18.3      0.0   \n",
       "2  2021-10-01  0.003  0.6  0.002  0.033  28.0  18.0     3    17.7      0.0   \n",
       "3  2021-10-01  0.003  0.6  0.002  0.030  26.0  16.0     4    17.4      0.0   \n",
       "4  2021-10-01  0.003  0.5  0.003  0.026  26.0  16.0     5    17.2      0.0   \n",
       "\n",
       "   ...  현지기압(hPa)  해면기압(hPa)  일조(hr)  일사(MJ/m2)  전운량(10분위)  중하층운량(10분위)  \\\n",
       "0  ...      998.8     1008.7     0.0        0.0        0.0            0   \n",
       "1  ...      998.9     1008.8     0.0        0.0        0.0            0   \n",
       "2  ...      998.1     1008.1     0.0        0.0        0.0            0   \n",
       "3  ...      997.9     1007.9     0.0        0.0        0.0            0   \n",
       "4  ...      998.4     1008.4     0.0        0.0        4.0            0   \n",
       "\n",
       "   최저운고(100m )  시정(10m)  지면온도(°C)  PM10_t1  \n",
       "0    33.947368     2000      17.4     27.0  \n",
       "1    35.789474     2000      17.2     28.0  \n",
       "2    37.631579     2000      17.0     26.0  \n",
       "3    39.473684     2000      16.5     26.0  \n",
       "4    41.315789     1995      16.6     22.0  \n",
       "\n",
       "[5 rows x 25 columns]"
      ]
     },
     "execution_count": 4,
     "metadata": {},
     "output_type": "execute_result"
    }
   ],
   "source": [
    "df_21.head()"
   ]
  },
  {
   "cell_type": "code",
   "execution_count": 5,
   "id": "81750e34",
   "metadata": {},
   "outputs": [],
   "source": [
    "drop_cols = ['PM10', 'PM25', '측정일시']\n",
    "train_data = df_21.drop(drop_cols, axis=1)\n",
    "test_data = df_22.drop(drop_cols, axis=1)"
   ]
  },
  {
   "cell_type": "code",
   "execution_count": 8,
   "id": "9fc68b7a",
   "metadata": {},
   "outputs": [
    {
     "data": {
      "text/html": [
       "<div>\n",
       "<style scoped>\n",
       "    .dataframe tbody tr th:only-of-type {\n",
       "        vertical-align: middle;\n",
       "    }\n",
       "\n",
       "    .dataframe tbody tr th {\n",
       "        vertical-align: top;\n",
       "    }\n",
       "\n",
       "    .dataframe thead th {\n",
       "        text-align: right;\n",
       "    }\n",
       "</style>\n",
       "<table border=\"1\" class=\"dataframe\">\n",
       "  <thead>\n",
       "    <tr style=\"text-align: right;\">\n",
       "      <th></th>\n",
       "      <th>SO2</th>\n",
       "      <th>CO</th>\n",
       "      <th>O3</th>\n",
       "      <th>NO2</th>\n",
       "      <th>hour</th>\n",
       "      <th>기온(°C)</th>\n",
       "      <th>강수량(mm)</th>\n",
       "      <th>풍속(m/s)</th>\n",
       "      <th>풍향(16방위)</th>\n",
       "      <th>습도(%)</th>\n",
       "      <th>...</th>\n",
       "      <th>현지기압(hPa)</th>\n",
       "      <th>해면기압(hPa)</th>\n",
       "      <th>일조(hr)</th>\n",
       "      <th>일사(MJ/m2)</th>\n",
       "      <th>전운량(10분위)</th>\n",
       "      <th>중하층운량(10분위)</th>\n",
       "      <th>최저운고(100m )</th>\n",
       "      <th>시정(10m)</th>\n",
       "      <th>지면온도(°C)</th>\n",
       "      <th>PM10_t1</th>\n",
       "    </tr>\n",
       "  </thead>\n",
       "  <tbody>\n",
       "    <tr>\n",
       "      <th>0</th>\n",
       "      <td>0.003</td>\n",
       "      <td>0.6</td>\n",
       "      <td>0.002</td>\n",
       "      <td>0.039</td>\n",
       "      <td>1</td>\n",
       "      <td>18.7</td>\n",
       "      <td>0.0</td>\n",
       "      <td>1.0</td>\n",
       "      <td>20.0</td>\n",
       "      <td>85</td>\n",
       "      <td>...</td>\n",
       "      <td>998.8</td>\n",
       "      <td>1008.7</td>\n",
       "      <td>0.0</td>\n",
       "      <td>0.0</td>\n",
       "      <td>0.0</td>\n",
       "      <td>0</td>\n",
       "      <td>33.947368</td>\n",
       "      <td>2000</td>\n",
       "      <td>17.4</td>\n",
       "      <td>27.0</td>\n",
       "    </tr>\n",
       "    <tr>\n",
       "      <th>1</th>\n",
       "      <td>0.003</td>\n",
       "      <td>0.6</td>\n",
       "      <td>0.002</td>\n",
       "      <td>0.035</td>\n",
       "      <td>2</td>\n",
       "      <td>18.3</td>\n",
       "      <td>0.0</td>\n",
       "      <td>0.3</td>\n",
       "      <td>0.0</td>\n",
       "      <td>89</td>\n",
       "      <td>...</td>\n",
       "      <td>998.9</td>\n",
       "      <td>1008.8</td>\n",
       "      <td>0.0</td>\n",
       "      <td>0.0</td>\n",
       "      <td>0.0</td>\n",
       "      <td>0</td>\n",
       "      <td>35.789474</td>\n",
       "      <td>2000</td>\n",
       "      <td>17.2</td>\n",
       "      <td>28.0</td>\n",
       "    </tr>\n",
       "    <tr>\n",
       "      <th>2</th>\n",
       "      <td>0.003</td>\n",
       "      <td>0.6</td>\n",
       "      <td>0.002</td>\n",
       "      <td>0.033</td>\n",
       "      <td>3</td>\n",
       "      <td>17.7</td>\n",
       "      <td>0.0</td>\n",
       "      <td>2.0</td>\n",
       "      <td>20.0</td>\n",
       "      <td>92</td>\n",
       "      <td>...</td>\n",
       "      <td>998.1</td>\n",
       "      <td>1008.1</td>\n",
       "      <td>0.0</td>\n",
       "      <td>0.0</td>\n",
       "      <td>0.0</td>\n",
       "      <td>0</td>\n",
       "      <td>37.631579</td>\n",
       "      <td>2000</td>\n",
       "      <td>17.0</td>\n",
       "      <td>26.0</td>\n",
       "    </tr>\n",
       "    <tr>\n",
       "      <th>3</th>\n",
       "      <td>0.003</td>\n",
       "      <td>0.6</td>\n",
       "      <td>0.002</td>\n",
       "      <td>0.030</td>\n",
       "      <td>4</td>\n",
       "      <td>17.4</td>\n",
       "      <td>0.0</td>\n",
       "      <td>1.0</td>\n",
       "      <td>50.0</td>\n",
       "      <td>91</td>\n",
       "      <td>...</td>\n",
       "      <td>997.9</td>\n",
       "      <td>1007.9</td>\n",
       "      <td>0.0</td>\n",
       "      <td>0.0</td>\n",
       "      <td>0.0</td>\n",
       "      <td>0</td>\n",
       "      <td>39.473684</td>\n",
       "      <td>2000</td>\n",
       "      <td>16.5</td>\n",
       "      <td>26.0</td>\n",
       "    </tr>\n",
       "    <tr>\n",
       "      <th>4</th>\n",
       "      <td>0.003</td>\n",
       "      <td>0.5</td>\n",
       "      <td>0.003</td>\n",
       "      <td>0.026</td>\n",
       "      <td>5</td>\n",
       "      <td>17.2</td>\n",
       "      <td>0.0</td>\n",
       "      <td>1.3</td>\n",
       "      <td>270.0</td>\n",
       "      <td>94</td>\n",
       "      <td>...</td>\n",
       "      <td>998.4</td>\n",
       "      <td>1008.4</td>\n",
       "      <td>0.0</td>\n",
       "      <td>0.0</td>\n",
       "      <td>4.0</td>\n",
       "      <td>0</td>\n",
       "      <td>41.315789</td>\n",
       "      <td>1995</td>\n",
       "      <td>16.6</td>\n",
       "      <td>22.0</td>\n",
       "    </tr>\n",
       "  </tbody>\n",
       "</table>\n",
       "<p>5 rows × 22 columns</p>\n",
       "</div>"
      ],
      "text/plain": [
       "     SO2   CO     O3    NO2  hour  기온(°C)  강수량(mm)  풍속(m/s)  풍향(16방위)  습도(%)  \\\n",
       "0  0.003  0.6  0.002  0.039     1    18.7      0.0      1.0      20.0     85   \n",
       "1  0.003  0.6  0.002  0.035     2    18.3      0.0      0.3       0.0     89   \n",
       "2  0.003  0.6  0.002  0.033     3    17.7      0.0      2.0      20.0     92   \n",
       "3  0.003  0.6  0.002  0.030     4    17.4      0.0      1.0      50.0     91   \n",
       "4  0.003  0.5  0.003  0.026     5    17.2      0.0      1.3     270.0     94   \n",
       "\n",
       "   ...  현지기압(hPa)  해면기압(hPa)  일조(hr)  일사(MJ/m2)  전운량(10분위)  중하층운량(10분위)  \\\n",
       "0  ...      998.8     1008.7     0.0        0.0        0.0            0   \n",
       "1  ...      998.9     1008.8     0.0        0.0        0.0            0   \n",
       "2  ...      998.1     1008.1     0.0        0.0        0.0            0   \n",
       "3  ...      997.9     1007.9     0.0        0.0        0.0            0   \n",
       "4  ...      998.4     1008.4     0.0        0.0        4.0            0   \n",
       "\n",
       "   최저운고(100m )  시정(10m)  지면온도(°C)  PM10_t1  \n",
       "0    33.947368     2000      17.4     27.0  \n",
       "1    35.789474     2000      17.2     28.0  \n",
       "2    37.631579     2000      17.0     26.0  \n",
       "3    39.473684     2000      16.5     26.0  \n",
       "4    41.315789     1995      16.6     22.0  \n",
       "\n",
       "[5 rows x 22 columns]"
      ]
     },
     "execution_count": 8,
     "metadata": {},
     "output_type": "execute_result"
    }
   ],
   "source": [
    "train_data.head()"
   ]
  },
  {
   "cell_type": "code",
   "execution_count": 6,
   "id": "4637b634",
   "metadata": {},
   "outputs": [],
   "source": [
    "target = 'PM10_t1'\n",
    "tx = train_data.drop(target, axis=1)\n",
    "ty = train_data.loc[:, target]"
   ]
  },
  {
   "cell_type": "code",
   "execution_count": 7,
   "id": "dff83800",
   "metadata": {},
   "outputs": [],
   "source": [
    "test_x = test_data.drop(target, axis=1)\n",
    "test_y = test_data.loc[:, target]"
   ]
  },
  {
   "cell_type": "markdown",
   "id": "2084ca1a",
   "metadata": {},
   "source": [
    "---"
   ]
  },
  {
   "cell_type": "markdown",
   "id": "native-expansion",
   "metadata": {},
   "source": [
    "# 2. Modeling\n",
    "## 이제 모델링을 해봅시다!\n",
    "+ KeyPoint : 머신러닝 라이브러리를 토대로 모델링을 할 수 있다."
   ]
  },
  {
   "cell_type": "code",
   "execution_count": 9,
   "id": "c249bf11",
   "metadata": {},
   "outputs": [],
   "source": [
    "x_train, x_val, y_train, y_val = train_test_split(tx, ty, test_size = .25, random_state=0)"
   ]
  },
  {
   "cell_type": "code",
   "execution_count": 10,
   "id": "3fd0bab3",
   "metadata": {},
   "outputs": [],
   "source": [
    "x_train_t1, x_val_t1, y_train_t1, y_val_t1 = train_test_split(tx, ty, test_size = 300, shuffle = False)"
   ]
  },
  {
   "cell_type": "code",
   "execution_count": 11,
   "id": "16a23bbd",
   "metadata": {},
   "outputs": [],
   "source": [
    "x_train, x_test, y_train, y_val = train_test_split(tx, ty, test_size = .25, random_state=0)"
   ]
  },
  {
   "cell_type": "code",
   "execution_count": 12,
   "id": "3e4f0268",
   "metadata": {},
   "outputs": [],
   "source": [
    "def printPerform1(y_val, pred):\n",
    "    print('r2 score : ', round(r2_score(y_val, pred),5))\n",
    "    print('RMSE : ', round(mean_squared_error(y_val, pred, squared=False),5))\n",
    "    print('MAE : ', round(mean_absolute_error(y_val, pred),5))\n",
    "    print('MAPE : ', round(mean_absolute_percentage_error(y_val,pred),5))\n",
    "    print('정확도 : ',round((1-mean_absolute_percentage_error(y_val,pred))*100,5))"
   ]
  },
  {
   "cell_type": "code",
   "execution_count": 13,
   "id": "82ab6d61",
   "metadata": {},
   "outputs": [],
   "source": [
    "def plot_feature_importance(importance, names):\n",
    "    feature_importance = np.array(importance)\n",
    "    feature_names = np.array(names)\n",
    "\n",
    "    data={'feature_names':feature_names,'feature_importance':feature_importance}\n",
    "    fi_df = pd.DataFrame(data)\n",
    "\n",
    "    fi_df.sort_values(by=['feature_importance'], ascending=False,inplace=True)\n",
    "    fi_df.reset_index(drop=True, inplace = True)\n",
    "\n",
    "    plt.figure(figsize=(10,8))\n",
    "    sns.barplot(x='feature_importance', y='feature_names', data = fi_df)\n",
    "\n",
    "    plt.xlabel('FEATURE IMPORTANCE')\n",
    "    plt.ylabel('FEATURE NAMES')\n",
    "    plt.grid()\n",
    "\n",
    "    return fi_df"
   ]
  },
  {
   "cell_type": "markdown",
   "id": "persistent-brighton",
   "metadata": {},
   "source": [
    "### 가. LinearRegression 부터 시작해봅시다."
   ]
  },
  {
   "cell_type": "markdown",
   "id": "joined-client",
   "metadata": {},
   "source": [
    "#### [실습문제2] 머신러닝_1\n",
    "* Train과 Test로 나눈 데이터를 기준으로 LinearRegression 모델링을 진행하고 평가를 해주세요.\n",
    "* 그리고 모델 파일을 pkl로 저장해주세요.\n",
    "* 성능지표 : RMSE, R-squared Score(소수점 5째자리까지, 반올림)"
   ]
  },
  {
   "cell_type": "code",
   "execution_count": 14,
   "id": "a8663f62",
   "metadata": {},
   "outputs": [],
   "source": [
    "from statsmodels.regression.linear_model import OLS\n",
    "from statsmodels.tools import add_constant\n",
    "\n",
    "def forward_stepwise_linear(x_train, y_train):\n",
    "\n",
    "    # 변수목록, 선택된 변수 목록, 단계별 모델과 AIC 저장소 정의\n",
    "    features = list(x_train)\n",
    "    selected = []\n",
    "    step_df = pd.DataFrame({ 'step':[], 'feature':[],'aic':[]})\n",
    "\n",
    "    # \n",
    "    for s in range(0, len(features)) :\n",
    "        result =  { 'step':[], 'feature':[],'aic':[]}\n",
    "\n",
    "        # 변수 목록에서 변수 한개씩 뽑아서 모델에 추가\n",
    "        for f in features :\n",
    "            vars = selected + [f]\n",
    "            x_tr = x_train[vars]\n",
    "            model = OLS(y_train, add_constant(x_tr)).fit()\n",
    "            result['step'].append(s+1)\n",
    "            result['feature'].append(vars)\n",
    "            result['aic'].append(model.aic)\n",
    "        \n",
    "        # 모델별 aic 집계\n",
    "        temp = pd.DataFrame(result).sort_values('aic').reset_index(drop = True)\n",
    "\n",
    "        # 만약 이전 aic보다 새로운 aic 가 크다면 멈추기\n",
    "        if step_df['aic'].min() < temp['aic'].min() :\n",
    "            break\n",
    "        step_df = pd.concat([step_df, temp], axis = 0).reset_index(drop = True)\n",
    "\n",
    "        # 선택된 변수 제거\n",
    "        v = temp.loc[0,'feature'][s]\n",
    "        features.remove(v)\n",
    "\n",
    "        selected.append(v)\n",
    "    \n",
    "    # 선택된 변수와 step_df 결과 반환\n",
    "    return selected, step_df"
   ]
  },
  {
   "cell_type": "code",
   "execution_count": 15,
   "id": "faa692b5",
   "metadata": {},
   "outputs": [],
   "source": [
    "vars, result = forward_stepwise_linear(x_train, y_train)"
   ]
  },
  {
   "cell_type": "code",
   "execution_count": 16,
   "id": "2965cd78",
   "metadata": {},
   "outputs": [
    {
     "data": {
      "text/plain": [
       "['시정(10m)',\n",
       " '습도(%)',\n",
       " 'CO',\n",
       " '강수량(mm)',\n",
       " '현지기압(hPa)',\n",
       " '전운량(10분위)',\n",
       " '증기압(hPa)',\n",
       " '이슬점온도(°C)',\n",
       " '기온(°C)',\n",
       " '풍향(16방위)',\n",
       " 'SO2',\n",
       " '중하층운량(10분위)',\n",
       " 'NO2',\n",
       " '풍속(m/s)',\n",
       " '일조(hr)',\n",
       " '일사(MJ/m2)',\n",
       " 'hour']"
      ]
     },
     "execution_count": 16,
     "metadata": {},
     "output_type": "execute_result"
    }
   ],
   "source": [
    "vars"
   ]
  },
  {
   "cell_type": "code",
   "execution_count": 17,
   "id": "9677ebf1",
   "metadata": {},
   "outputs": [
    {
     "name": "stdout",
     "output_type": "stream",
     "text": [
      "r2 score :  0.28786\n",
      "RMSE :  43.19378\n",
      "MAE :  18.15796\n",
      "MAPE :  0.82399\n",
      "정확도 :  17.6006\n"
     ]
    }
   ],
   "source": [
    "model1 = LinearRegression()\n",
    "model1.fit(x_train[vars], y_train)\n",
    "pred1 = model1.predict(x_val[vars])\n",
    "printPerform1(y_val, pred1)"
   ]
  },
  {
   "cell_type": "code",
   "execution_count": 18,
   "id": "willing-disclaimer",
   "metadata": {
    "scrolled": false
   },
   "outputs": [
    {
     "name": "stdout",
     "output_type": "stream",
     "text": [
      "r2 score :  0.28792\n",
      "RMSE :  43.19202\n",
      "MAE :  18.17631\n",
      "MAPE :  0.82366\n",
      "정확도 :  17.63425\n"
     ]
    }
   ],
   "source": [
    "# 아래에 실습코드를 작성하세요.\n",
    "model1_1 = LinearRegression()\n",
    "model1_1.fit(x_train, y_train)\n",
    "pred1_1 = model1_1.predict(x_val)\n",
    "printPerform1(y_val, pred1_1)"
   ]
  },
  {
   "cell_type": "code",
   "execution_count": 37,
   "id": "0a21d60f",
   "metadata": {},
   "outputs": [
    {
     "name": "stdout",
     "output_type": "stream",
     "text": [
      "r2 score :  0.45809\n",
      "RMSE :  17.30352\n",
      "MAE :  11.88272\n",
      "MAPE :  0.62002\n",
      "정확도 :  37.99819\n"
     ]
    }
   ],
   "source": [
    "# Test 데이터로 성능을 평가해보세요.\n",
    "tpred1 = model1_1.predict(test_x)\n",
    "printPerform1(test_y, tpred1)"
   ]
  },
  {
   "cell_type": "code",
   "execution_count": null,
   "id": "fe2096b7",
   "metadata": {},
   "outputs": [],
   "source": [
    "# 학습한 모델을 파일로 저장해보세요.\n",
    "\n",
    "\n",
    "\n"
   ]
  },
  {
   "cell_type": "code",
   "execution_count": 19,
   "id": "32c11a43",
   "metadata": {},
   "outputs": [
    {
     "name": "stdout",
     "output_type": "stream",
     "text": [
      "22.888806128670286\n"
     ]
    },
    {
     "data": {
      "image/png": "[encoded data removed]",
      "text/plain": [
       "<Figure size 720x576 with 1 Axes>"
      ]
     },
     "metadata": {},
     "output_type": "display_data"
    }
   ],
   "source": [
    "scaler = MinMaxScaler()\n",
    "x_train_s = scaler.fit_transform(x_train)\n",
    "\n",
    "# 다시 모델링\n",
    "model7 = LinearRegression()\n",
    "model7.fit(x_train_s, y_train)\n",
    "\n",
    "print(model7.coef_[0])\n",
    "r = plot_feature_importance(model7.coef_[0], list(x_train))"
   ]
  },
  {
   "cell_type": "markdown",
   "id": "lesser-universe",
   "metadata": {},
   "source": [
    "### 나. 다음은 앙상블 기법을 토대로 랜덤포레스트와 그라디언브스팅을 활용해봅시다."
   ]
  },
  {
   "cell_type": "markdown",
   "id": "crazy-escape",
   "metadata": {},
   "source": [
    "#### 1) 렌덤포레스트\n",
    "##### 배깅의 일종으로 의사결정나무(Decision Tree) 여러 개를 모아서 숲을 랜덤으로 구성하고 이를 종합해서 최종 모델을 산출하는 기법이라고 할 수 있다."
   ]
  },
  {
   "cell_type": "markdown",
   "id": "dense-eleven",
   "metadata": {},
   "source": [
    "#### [실습문제3] 머신러닝_2\n",
    "* Train과 Test로 나눈 데이터를 기준으로 렌덤포레스트로 모델을 학습을 진행하고 평가를 해주세요.\n",
    "* 그리고 모델 파일을 pkl로 저장해주세요.\n",
    "* 성능지표 : RMSE, R-squared Score(소수점 5째자리까지, 반올림)"
   ]
  },
  {
   "cell_type": "code",
   "execution_count": null,
   "id": "guilty-score",
   "metadata": {
    "scrolled": true
   },
   "outputs": [],
   "source": [
    "# 아래에 실습코드를 작성하세요.\n",
    "params2 = {'n_estimators' : range(10,101,10)}\n",
    "model2 = GridSearchCV(RandomForestRegressor(), params2, cv=10)\n",
    "model2.fit(x_train, y_train)\n",
    "pred2 = model2.predict(x_val)\n",
    "printPerform1(y_val, pred2)"
   ]
  },
  {
   "cell_type": "code",
   "execution_count": null,
   "id": "992e4f05",
   "metadata": {
    "scrolled": true
   },
   "outputs": [],
   "source": [
    "print(model2.best_params_)\n",
    "print(model2.best_score_)"
   ]
  },
  {
   "cell_type": "code",
   "execution_count": null,
   "id": "820e2081",
   "metadata": {},
   "outputs": [],
   "source": [
    "model2_1 = RandomForestRegressor(n_estimators = 20)\n",
    "model2_1.fit(x_train, y_train)\n",
    "pred2_1 = model2_1.predict(x_val)\n",
    "printPerform1(y_val, pred2_1)"
   ]
  },
  {
   "cell_type": "code",
   "execution_count": null,
   "id": "10b33a11",
   "metadata": {},
   "outputs": [],
   "source": [
    "# Test 데이터로 성능을 평가해보세요.\n",
    "\n",
    "\n",
    "\n"
   ]
  },
  {
   "cell_type": "code",
   "execution_count": null,
   "id": "41971ff8",
   "metadata": {},
   "outputs": [],
   "source": [
    "# 학습한 모델을 파일로 저장해보세요.\n",
    "\n",
    "\n",
    "\n"
   ]
  },
  {
   "cell_type": "markdown",
   "id": "788be2bb",
   "metadata": {},
   "source": [
    "#### [실습문제4] 머신러닝_3\n",
    "* 렌덤포레스트로 학습한 모델의 feature_importances 또는 Shap value를 구해보세요.\n",
    "* 확인할 수 있는 내용으로 우리 모델에서의 인사이트를 정리해보세요."
   ]
  },
  {
   "cell_type": "code",
   "execution_count": 49,
   "id": "e19f84b0",
   "metadata": {},
   "outputs": [
    {
     "data": {
      "text/html": [
       "<div>\n",
       "<style scoped>\n",
       "    .dataframe tbody tr th:only-of-type {\n",
       "        vertical-align: middle;\n",
       "    }\n",
       "\n",
       "    .dataframe tbody tr th {\n",
       "        vertical-align: top;\n",
       "    }\n",
       "\n",
       "    .dataframe thead th {\n",
       "        text-align: right;\n",
       "    }\n",
       "</style>\n",
       "<table border=\"1\" class=\"dataframe\">\n",
       "  <thead>\n",
       "    <tr style=\"text-align: right;\">\n",
       "      <th></th>\n",
       "      <th>feature_names</th>\n",
       "      <th>feature_importance</th>\n",
       "    </tr>\n",
       "  </thead>\n",
       "  <tbody>\n",
       "    <tr>\n",
       "      <th>0</th>\n",
       "      <td>시정(10m)</td>\n",
       "      <td>0.277468</td>\n",
       "    </tr>\n",
       "    <tr>\n",
       "      <th>1</th>\n",
       "      <td>현지기압(hPa)</td>\n",
       "      <td>0.147315</td>\n",
       "    </tr>\n",
       "    <tr>\n",
       "      <th>2</th>\n",
       "      <td>습도(%)</td>\n",
       "      <td>0.140642</td>\n",
       "    </tr>\n",
       "    <tr>\n",
       "      <th>3</th>\n",
       "      <td>해면기압(hPa)</td>\n",
       "      <td>0.084124</td>\n",
       "    </tr>\n",
       "    <tr>\n",
       "      <th>4</th>\n",
       "      <td>CO</td>\n",
       "      <td>0.080043</td>\n",
       "    </tr>\n",
       "    <tr>\n",
       "      <th>5</th>\n",
       "      <td>이슬점온도(°C)</td>\n",
       "      <td>0.049304</td>\n",
       "    </tr>\n",
       "    <tr>\n",
       "      <th>6</th>\n",
       "      <td>증기압(hPa)</td>\n",
       "      <td>0.044372</td>\n",
       "    </tr>\n",
       "    <tr>\n",
       "      <th>7</th>\n",
       "      <td>O3</td>\n",
       "      <td>0.040771</td>\n",
       "    </tr>\n",
       "    <tr>\n",
       "      <th>8</th>\n",
       "      <td>풍속(m/s)</td>\n",
       "      <td>0.026411</td>\n",
       "    </tr>\n",
       "    <tr>\n",
       "      <th>9</th>\n",
       "      <td>기온(°C)</td>\n",
       "      <td>0.022389</td>\n",
       "    </tr>\n",
       "    <tr>\n",
       "      <th>10</th>\n",
       "      <td>NO2</td>\n",
       "      <td>0.022010</td>\n",
       "    </tr>\n",
       "    <tr>\n",
       "      <th>11</th>\n",
       "      <td>일사(MJ/m2)</td>\n",
       "      <td>0.015198</td>\n",
       "    </tr>\n",
       "    <tr>\n",
       "      <th>12</th>\n",
       "      <td>hour</td>\n",
       "      <td>0.013167</td>\n",
       "    </tr>\n",
       "    <tr>\n",
       "      <th>13</th>\n",
       "      <td>지면온도(°C)</td>\n",
       "      <td>0.012343</td>\n",
       "    </tr>\n",
       "    <tr>\n",
       "      <th>14</th>\n",
       "      <td>풍향(16방위)</td>\n",
       "      <td>0.012143</td>\n",
       "    </tr>\n",
       "    <tr>\n",
       "      <th>15</th>\n",
       "      <td>SO2</td>\n",
       "      <td>0.010310</td>\n",
       "    </tr>\n",
       "    <tr>\n",
       "      <th>16</th>\n",
       "      <td>일조(hr)</td>\n",
       "      <td>0.001234</td>\n",
       "    </tr>\n",
       "    <tr>\n",
       "      <th>17</th>\n",
       "      <td>강수량(mm)</td>\n",
       "      <td>0.000755</td>\n",
       "    </tr>\n",
       "  </tbody>\n",
       "</table>\n",
       "</div>"
      ],
      "text/plain": [
       "   feature_names  feature_importance\n",
       "0        시정(10m)            0.277468\n",
       "1      현지기압(hPa)            0.147315\n",
       "2          습도(%)            0.140642\n",
       "3      해면기압(hPa)            0.084124\n",
       "4             CO            0.080043\n",
       "5      이슬점온도(°C)            0.049304\n",
       "6       증기압(hPa)            0.044372\n",
       "7             O3            0.040771\n",
       "8        풍속(m/s)            0.026411\n",
       "9         기온(°C)            0.022389\n",
       "10           NO2            0.022010\n",
       "11     일사(MJ/m2)            0.015198\n",
       "12          hour            0.013167\n",
       "13      지면온도(°C)            0.012343\n",
       "14      풍향(16방위)            0.012143\n",
       "15           SO2            0.010310\n",
       "16        일조(hr)            0.001234\n",
       "17       강수량(mm)            0.000755"
      ]
     },
     "execution_count": 49,
     "metadata": {},
     "output_type": "execute_result"
    },
    {
     "data": {
      "image/png": "[encoded data removed]",
      "text/plain": [
       "<Figure size 720x576 with 1 Axes>"
      ]
     },
     "metadata": {},
     "output_type": "display_data"
    }
   ],
   "source": [
    "# Feature의 중요도 확인\n",
    "plot_feature_importance(model2_1.feature_importances_, list(x_train))"
   ]
  },
  {
   "cell_type": "code",
   "execution_count": null,
   "id": "af7989f3",
   "metadata": {},
   "outputs": [],
   "source": [
    "# 확인할 수 있는 인사이트\n",
    "# 1.\n",
    "# 2.\n",
    "# 3."
   ]
  },
  {
   "cell_type": "markdown",
   "id": "convinced-vocabulary",
   "metadata": {},
   "source": [
    "#### 2) GradientBoosting\n",
    "##### 앞선 모델의 에러를 다음 모델의 예측 값으로 활용하면서 가중치 업데이트 하는데 경사하강법(Gradient Descent)를 활용해서 최적 모델을 만드는 기법"
   ]
  },
  {
   "cell_type": "markdown",
   "id": "needed-google",
   "metadata": {},
   "source": [
    "#### [실습문제5] 머신러닝_4\n",
    "* Train과 Test로 나눈 데이터를 기준으로 그라디언트부스팅으로 모델을 학습을 진행하고 평가를 해주세요.\n",
    "* 그리고 모델 파일을 pkl로 저장해주세요.\n",
    "* 성능지표 : RMSE, R-squared Score(소수점 5째자리까지, 반올림)"
   ]
  },
  {
   "cell_type": "code",
   "execution_count": 44,
   "id": "continent-olympus",
   "metadata": {
    "scrolled": true
   },
   "outputs": [
    {
     "name": "stdout",
     "output_type": "stream",
     "text": [
      "r2 score :  0.73852\n",
      "RMSE :  26.17335\n",
      "MAE :  11.14327\n",
      "MAPE :  0.40723\n",
      "정확도 :  59.27732\n"
     ]
    }
   ],
   "source": [
    "# 아래에 실습코드를 작성하세요.\n",
    "params3 = {'learning_rate': list(np.arange(0.01, 1, 0.1)), 'n_estimators': list(range(51, 211, 10))}\n",
    "model3 = GridSearchCV(GradientBoostingRegressor(), params3, cv=10)\n",
    "model3.fit(x_train, y_train)\n",
    "pred3 = model3.predict(x_val)\n",
    "printPerform1(y_val, pred3)"
   ]
  },
  {
   "cell_type": "code",
   "execution_count": 47,
   "id": "e996e924",
   "metadata": {
    "scrolled": true
   },
   "outputs": [
    {
     "name": "stdout",
     "output_type": "stream",
     "text": [
      "{'learning_rate': 0.11, 'n_estimators': 201}\n",
      "0.7013327433029536\n"
     ]
    }
   ],
   "source": [
    "print(model3.best_params_)\n",
    "print(model3.best_score_)"
   ]
  },
  {
   "cell_type": "code",
   "execution_count": 50,
   "id": "d60d7bfe",
   "metadata": {},
   "outputs": [
    {
     "name": "stdout",
     "output_type": "stream",
     "text": [
      "r2 score :  0.73358\n",
      "RMSE :  26.41952\n",
      "MAE :  11.16626\n",
      "MAPE :  0.40747\n",
      "정확도 :  59.25317\n"
     ]
    }
   ],
   "source": [
    "model3_1 = GradientBoostingRegressor(learning_rate = 0.11, n_estimators=201)\n",
    "model3_1.fit(x_train, y_train)\n",
    "pred3_1 = model3_1.predict(x_val)\n",
    "printPerform1(y_val, pred3_1)"
   ]
  },
  {
   "cell_type": "code",
   "execution_count": null,
   "id": "241dbcdc",
   "metadata": {},
   "outputs": [],
   "source": [
    "# Test 데이터로 성능을 평가해보세요.\n",
    "\n",
    "\n",
    "\n"
   ]
  },
  {
   "cell_type": "code",
   "execution_count": null,
   "id": "9bdccb80",
   "metadata": {},
   "outputs": [],
   "source": [
    "# 학습한 모델을 파일로 저장해보세요.\n",
    "\n",
    "\n",
    "\n"
   ]
  },
  {
   "cell_type": "markdown",
   "id": "04925b45",
   "metadata": {},
   "source": [
    "#### [실습문제6] 머신러닝_5\n",
    "* 그라디언트부스팅으로 학습한 모델의 feature_importances 또는 Shap value를 구해보세요.\n",
    "* 확인할 수 있는 내용으로 우리 모델에서의 인사이트를 정리해보세요."
   ]
  },
  {
   "cell_type": "code",
   "execution_count": 51,
   "id": "8deba58d",
   "metadata": {},
   "outputs": [
    {
     "data": {
      "text/html": [
       "<div>\n",
       "<style scoped>\n",
       "    .dataframe tbody tr th:only-of-type {\n",
       "        vertical-align: middle;\n",
       "    }\n",
       "\n",
       "    .dataframe tbody tr th {\n",
       "        vertical-align: top;\n",
       "    }\n",
       "\n",
       "    .dataframe thead th {\n",
       "        text-align: right;\n",
       "    }\n",
       "</style>\n",
       "<table border=\"1\" class=\"dataframe\">\n",
       "  <thead>\n",
       "    <tr style=\"text-align: right;\">\n",
       "      <th></th>\n",
       "      <th>feature_names</th>\n",
       "      <th>feature_importance</th>\n",
       "    </tr>\n",
       "  </thead>\n",
       "  <tbody>\n",
       "    <tr>\n",
       "      <th>0</th>\n",
       "      <td>시정(10m)</td>\n",
       "      <td>0.292767</td>\n",
       "    </tr>\n",
       "    <tr>\n",
       "      <th>1</th>\n",
       "      <td>현지기압(hPa)</td>\n",
       "      <td>0.199915</td>\n",
       "    </tr>\n",
       "    <tr>\n",
       "      <th>2</th>\n",
       "      <td>습도(%)</td>\n",
       "      <td>0.188044</td>\n",
       "    </tr>\n",
       "    <tr>\n",
       "      <th>3</th>\n",
       "      <td>해면기압(hPa)</td>\n",
       "      <td>0.086264</td>\n",
       "    </tr>\n",
       "    <tr>\n",
       "      <th>4</th>\n",
       "      <td>CO</td>\n",
       "      <td>0.081963</td>\n",
       "    </tr>\n",
       "    <tr>\n",
       "      <th>5</th>\n",
       "      <td>증기압(hPa)</td>\n",
       "      <td>0.029437</td>\n",
       "    </tr>\n",
       "    <tr>\n",
       "      <th>6</th>\n",
       "      <td>이슬점온도(°C)</td>\n",
       "      <td>0.026268</td>\n",
       "    </tr>\n",
       "    <tr>\n",
       "      <th>7</th>\n",
       "      <td>기온(°C)</td>\n",
       "      <td>0.021551</td>\n",
       "    </tr>\n",
       "    <tr>\n",
       "      <th>8</th>\n",
       "      <td>O3</td>\n",
       "      <td>0.015458</td>\n",
       "    </tr>\n",
       "    <tr>\n",
       "      <th>9</th>\n",
       "      <td>일사(MJ/m2)</td>\n",
       "      <td>0.010894</td>\n",
       "    </tr>\n",
       "    <tr>\n",
       "      <th>10</th>\n",
       "      <td>SO2</td>\n",
       "      <td>0.009402</td>\n",
       "    </tr>\n",
       "    <tr>\n",
       "      <th>11</th>\n",
       "      <td>NO2</td>\n",
       "      <td>0.009199</td>\n",
       "    </tr>\n",
       "    <tr>\n",
       "      <th>12</th>\n",
       "      <td>풍속(m/s)</td>\n",
       "      <td>0.008662</td>\n",
       "    </tr>\n",
       "    <tr>\n",
       "      <th>13</th>\n",
       "      <td>강수량(mm)</td>\n",
       "      <td>0.007642</td>\n",
       "    </tr>\n",
       "    <tr>\n",
       "      <th>14</th>\n",
       "      <td>풍향(16방위)</td>\n",
       "      <td>0.004085</td>\n",
       "    </tr>\n",
       "    <tr>\n",
       "      <th>15</th>\n",
       "      <td>지면온도(°C)</td>\n",
       "      <td>0.003736</td>\n",
       "    </tr>\n",
       "    <tr>\n",
       "      <th>16</th>\n",
       "      <td>hour</td>\n",
       "      <td>0.002955</td>\n",
       "    </tr>\n",
       "    <tr>\n",
       "      <th>17</th>\n",
       "      <td>일조(hr)</td>\n",
       "      <td>0.001757</td>\n",
       "    </tr>\n",
       "  </tbody>\n",
       "</table>\n",
       "</div>"
      ],
      "text/plain": [
       "   feature_names  feature_importance\n",
       "0        시정(10m)            0.292767\n",
       "1      현지기압(hPa)            0.199915\n",
       "2          습도(%)            0.188044\n",
       "3      해면기압(hPa)            0.086264\n",
       "4             CO            0.081963\n",
       "5       증기압(hPa)            0.029437\n",
       "6      이슬점온도(°C)            0.026268\n",
       "7         기온(°C)            0.021551\n",
       "8             O3            0.015458\n",
       "9      일사(MJ/m2)            0.010894\n",
       "10           SO2            0.009402\n",
       "11           NO2            0.009199\n",
       "12       풍속(m/s)            0.008662\n",
       "13       강수량(mm)            0.007642\n",
       "14      풍향(16방위)            0.004085\n",
       "15      지면온도(°C)            0.003736\n",
       "16          hour            0.002955\n",
       "17        일조(hr)            0.001757"
      ]
     },
     "execution_count": 51,
     "metadata": {},
     "output_type": "execute_result"
    },
    {
     "data": {
      "image/png": "[encoded data removed]",
      "text/plain": [
       "<Figure size 720x576 with 1 Axes>"
      ]
     },
     "metadata": {},
     "output_type": "display_data"
    }
   ],
   "source": [
    "# Feature의 중요도 확인\n",
    "plot_feature_importance(model3_1.feature_importances_, list(x_train))"
   ]
  },
  {
   "cell_type": "code",
   "execution_count": null,
   "id": "9d1bfe7d",
   "metadata": {},
   "outputs": [],
   "source": [
    "# 확인할 수 있는 인사이트\n",
    "# 1.\n",
    "# 2.\n",
    "# 3."
   ]
  },
  {
   "cell_type": "markdown",
   "id": "305bbd5b",
   "metadata": {},
   "source": [
    "#### 3) Self Choice Model\n",
    "##### 앞선 교육과정에서 배운 머신러닝 모델 중 어떤 것이든 좋습니다. 원하는 모델을 선택해서 학습을 시켜보세요."
   ]
  },
  {
   "cell_type": "markdown",
   "id": "fbef7589",
   "metadata": {},
   "source": [
    "#### [실습문제7] 머신러닝_6\n",
    "* Train과 Test로 나눈 데이터를 기준으로 Self Choice Model로 모델을 학습을 진행하고 평가를 해주세요.\n",
    "* 그리고 모델 파일을 pkl로 저장해주세요.\n",
    "* 성능지표 : RMSE, R-squared Score(소수점 5째자리까지, 반올림)"
   ]
  },
  {
   "cell_type": "code",
   "execution_count": 64,
   "id": "6a2792d1",
   "metadata": {},
   "outputs": [],
   "source": [
    "x_train_t2, x_val_t2, y_train_t2, y_val_t2 = train_test_split(tx, ty, test_size = 500, shuffle = False)"
   ]
  },
  {
   "cell_type": "code",
   "execution_count": 56,
   "id": "f1083253",
   "metadata": {},
   "outputs": [
    {
     "data": {
      "text/plain": [
       "((6568,), (2190,))"
      ]
     },
     "execution_count": 56,
     "metadata": {},
     "output_type": "execute_result"
    }
   ],
   "source": [
    "y_train.shape, y_val.shape"
   ]
  },
  {
   "cell_type": "code",
   "execution_count": 66,
   "id": "a2c66605",
   "metadata": {},
   "outputs": [
    {
     "name": "stdout",
     "output_type": "stream",
     "text": [
      "(1, 1, 1)\n",
      "(1, 1, 2)\n",
      "(1, 1, 3)\n",
      "(1, 1, 4)\n",
      "(2, 1, 1)\n",
      "(2, 1, 2)\n",
      "(2, 1, 3)\n",
      "(2, 1, 4)\n",
      "(3, 1, 1)\n",
      "(3, 1, 2)\n",
      "(3, 1, 3)\n",
      "(3, 1, 4)\n",
      "(4, 1, 1)\n",
      "(4, 1, 2)\n",
      "(4, 1, 3)\n",
      "(4, 1, 4)\n"
     ]
    }
   ],
   "source": [
    "# 아래에 실습코드를 작성하세요.\n",
    "from itertools import product\n",
    "p = [1,2,3,4]\n",
    "q = [1,2,3,4]\n",
    "d = [1]\n",
    "iter = list(product(p,d,q))\n",
    "iter\n",
    "mae, aic = [],[]\n",
    "for i in iter :\n",
    "    model_fit = sm.tsa.SARIMAX(y_train_t2, order=(i[0],i[1],i[2])).fit()\n",
    "    pred = model_fit.forecast(500)\n",
    "    mae.append( mean_absolute_error(y_val_t2, pred))\n",
    "    aic.append(model_fit.aic)\n",
    "    print(i)"
   ]
  },
  {
   "cell_type": "code",
   "execution_count": 67,
   "id": "59a2c6ce",
   "metadata": {},
   "outputs": [
    {
     "data": {
      "text/html": [
       "<div>\n",
       "<style scoped>\n",
       "    .dataframe tbody tr th:only-of-type {\n",
       "        vertical-align: middle;\n",
       "    }\n",
       "\n",
       "    .dataframe tbody tr th {\n",
       "        vertical-align: top;\n",
       "    }\n",
       "\n",
       "    .dataframe thead th {\n",
       "        text-align: right;\n",
       "    }\n",
       "</style>\n",
       "<table border=\"1\" class=\"dataframe\">\n",
       "  <thead>\n",
       "    <tr style=\"text-align: right;\">\n",
       "      <th></th>\n",
       "      <th>params(p,d,q)</th>\n",
       "      <th>mae</th>\n",
       "      <th>aic</th>\n",
       "    </tr>\n",
       "  </thead>\n",
       "  <tbody>\n",
       "    <tr>\n",
       "      <th>10</th>\n",
       "      <td>(3, 1, 3)</td>\n",
       "      <td>10.190655</td>\n",
       "      <td>57550.881196</td>\n",
       "    </tr>\n",
       "  </tbody>\n",
       "</table>\n",
       "</div>"
      ],
      "text/plain": [
       "   params(p,d,q)        mae           aic\n",
       "10     (3, 1, 3)  10.190655  57550.881196"
      ]
     },
     "metadata": {},
     "output_type": "display_data"
    },
    {
     "data": {
      "text/html": [
       "<div>\n",
       "<style scoped>\n",
       "    .dataframe tbody tr th:only-of-type {\n",
       "        vertical-align: middle;\n",
       "    }\n",
       "\n",
       "    .dataframe tbody tr th {\n",
       "        vertical-align: top;\n",
       "    }\n",
       "\n",
       "    .dataframe thead th {\n",
       "        text-align: right;\n",
       "    }\n",
       "</style>\n",
       "<table border=\"1\" class=\"dataframe\">\n",
       "  <thead>\n",
       "    <tr style=\"text-align: right;\">\n",
       "      <th></th>\n",
       "      <th>params(p,d,q)</th>\n",
       "      <th>mae</th>\n",
       "      <th>aic</th>\n",
       "    </tr>\n",
       "  </thead>\n",
       "  <tbody>\n",
       "    <tr>\n",
       "      <th>7</th>\n",
       "      <td>(2, 1, 4)</td>\n",
       "      <td>10.958612</td>\n",
       "      <td>57537.838224</td>\n",
       "    </tr>\n",
       "  </tbody>\n",
       "</table>\n",
       "</div>"
      ],
      "text/plain": [
       "  params(p,d,q)        mae           aic\n",
       "7     (2, 1, 4)  10.958612  57537.838224"
      ]
     },
     "metadata": {},
     "output_type": "display_data"
    }
   ],
   "source": [
    "result = pd.DataFrame({'params(p,d,q)' : iter, 'mae' : mae, 'aic':aic})\n",
    "\n",
    "display(result.loc[result['mae'] == result.mae.min()])\n",
    "display(result.loc[result['aic'] == result.aic.min()])"
   ]
  },
  {
   "cell_type": "code",
   "execution_count": null,
   "id": "d4d8f633",
   "metadata": {},
   "outputs": [
    {
     "name": "stdout",
     "output_type": "stream",
     "text": [
      "(1, 1, 1)\n",
      "(1, 1, 2)\n",
      "(1, 1, 3)\n",
      "(1, 1, 4)\n",
      "(1, 1, 5)\n",
      "(2, 1, 1)\n",
      "(2, 1, 2)\n",
      "(2, 1, 3)\n"
     ]
    }
   ],
   "source": [
    "# mae가 작은 것을 선택\n",
    "P = [1,2,3,4,5]\n",
    "Q = [1,2,3,4,5]\n",
    "D = [1]\n",
    "mae, aic = [],[]\n",
    "iter = list(product(P,D,Q))\n",
    "\n",
    "for i in iter :\n",
    "    model_fit = sm.tsa.SARIMAX(y_train_t2, order=(3,1,3), seasonal_order=(i[0],i[1],i[2],7)).fit()\n",
    "    pred = model_fit.forecast(500)\n",
    "    mae.append(mean_absolute_error(y_val_t2, pred))\n",
    "    aic.append(model_fit.aic)\n",
    "    print(i)"
   ]
  },
  {
   "cell_type": "code",
   "execution_count": null,
   "id": "2fdfb53f",
   "metadata": {},
   "outputs": [],
   "source": [
    "result = pd.DataFrame({'params(P,D,Q)' : iter, 'mae' : mae, 'aic':aic})\n",
    "\n",
    "display(result.loc[result['mae'] == result.mae.min()])\n",
    "display(result.loc[result['aic'] == result.aic.min()])"
   ]
  },
  {
   "cell_type": "code",
   "execution_count": null,
   "id": "20b40c62",
   "metadata": {},
   "outputs": [],
   "source": [
    "# aic가 작은 것을 선택\n",
    "P = [1,2,3,4,5]\n",
    "Q = [1,2,3,4,5]\n",
    "D = [1]\n",
    "mae, aic = [],[]\n",
    "iter = list(product(P,D,Q))\n",
    "\n",
    "for i in iter :\n",
    "    model_fit = sm.tsa.SARIMAX(y_train_t2, order=(2,1,4), seasonal_order=(i[0],i[1],i[2],7)).fit()\n",
    "    pred = model_fit.forecast(500)\n",
    "    mae.append(mean_absolute_error(y_val_t2, pred))\n",
    "    aic.append(model_fit.aic)\n",
    "    print(i)"
   ]
  },
  {
   "cell_type": "code",
   "execution_count": null,
   "id": "40bfd82f",
   "metadata": {},
   "outputs": [],
   "source": [
    "result = pd.DataFrame({'params(P,D,Q)' : iter, 'mae' : mae, 'aic':aic})\n",
    "\n",
    "display(result.loc[result['mae'] == result.mae.min()])\n",
    "display(result.loc[result['aic'] == result.aic.min()])"
   ]
  },
  {
   "cell_type": "code",
   "execution_count": null,
   "id": "546ac8bf",
   "metadata": {},
   "outputs": [],
   "source": [
    "# Test 데이터로 성능을 평가해보세요.\n",
    "\n",
    "\n",
    "\n"
   ]
  },
  {
   "cell_type": "code",
   "execution_count": null,
   "id": "e69d0d7c",
   "metadata": {},
   "outputs": [],
   "source": [
    "# 학습한 모델을 파일로 저장해보세요.\n",
    "\n",
    "\n",
    "\n"
   ]
  },
  {
   "cell_type": "markdown",
   "id": "94cfdb09",
   "metadata": {},
   "source": [
    "#### [실습문제8] 머신러닝_7\n",
    "* Self Choice Model로 학습한 모델의 feature_importances 또는 Shap value를 구해보세요.\n",
    "* 확인할 수 있는 내용으로 우리 모델에서의 인사이트를 정리해보세요."
   ]
  },
  {
   "cell_type": "code",
   "execution_count": null,
   "id": "67e6d924",
   "metadata": {},
   "outputs": [],
   "source": [
    "# Feature의 중요도 확인\n",
    "\n",
    "\n",
    "\n"
   ]
  },
  {
   "cell_type": "code",
   "execution_count": null,
   "id": "a8ac782c",
   "metadata": {},
   "outputs": [],
   "source": [
    "# 확인할 수 있는 인사이트\n",
    "# 1.\n",
    "# 2.\n",
    "# 3."
   ]
  }
 ],
 "metadata": {
  "kernelspec": {
   "display_name": "Python 3 (ipykernel)",
   "language": "python",
   "name": "python3"
  },
  "language_info": {
   "codemirror_mode": {
    "name": "ipython",
    "version": 3
   },
   "file_extension": ".py",
   "mimetype": "text/x-python",
   "name": "python",
   "nbconvert_exporter": "python",
   "pygments_lexer": "ipython3",
   "version": "3.9.12"
  },
  "vscode": {
   "interpreter": {
    "hash": "f08154012ddadd8e950e6e9e035c7a7b32c136e7647e9b7c77e02eb723a8bedb"
   }
  }
 },
 "nbformat": 4,
 "nbformat_minor": 5
}
