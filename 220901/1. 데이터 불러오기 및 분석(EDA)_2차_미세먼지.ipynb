{
 "cells": [
  {
   "cell_type": "markdown",
   "id": "boxed-jamaica",
   "metadata": {},
   "source": [
    "# 안녕하세요^^ \n",
    "# AIVLE 2차 미니 프로젝트에 오신 여러분을 환영합니다.\n",
    "* 본 과정에서는 실제 사례와 데이터를 기반으로 문제를 해결하는 전체 과정을 자기 주도형 실습으로 진행해볼 예정입니다.\n",
    "* 앞선 교육과정을 정리하는 마음과 지금까지 배운 내용을 바탕으로 문제 해결을 해볼게요!\n",
    "* 미니 프로젝트를 통한 문제 해결 과정 'A에서 Z까지', 지금부터 시작합니다!"
   ]
  },
  {
   "cell_type": "markdown",
   "id": "ef575059",
   "metadata": {},
   "source": [
    "---"
   ]
  },
  {
   "cell_type": "markdown",
   "id": "f2bc4fa5",
   "metadata": {},
   "source": [
    "# 데이터 분석부터 먼저 시작해보겠습니다.\n",
    "\n",
    "* \"1. 데이터 불러오기 및 분석\" 단계에서는 제공되는 데이터를 불러와 feature들을 확인 해보는 작업을 진행 합니다."
   ]
  },
  {
   "cell_type": "markdown",
   "id": "ff0fd855",
   "metadata": {},
   "source": [
    "---"
   ]
  },
  {
   "cell_type": "code",
   "execution_count": null,
   "id": "4c6ced42",
   "metadata": {},
   "outputs": [],
   "source": [
    "# 필요 라이브러리부터 설치할께요.\n",
    "# %pip install pandas seaborn"
   ]
  },
  {
   "cell_type": "markdown",
   "id": "d7d7725c",
   "metadata": {},
   "source": [
    "---"
   ]
  },
  {
   "cell_type": "markdown",
   "id": "revolutionary-farmer",
   "metadata": {},
   "source": [
    "## 기본 데이터 \n",
    "\n",
    "* 21년도 데이터 train 데이터\n",
    "* 22년도 데이터 test 데이터\n",
    "\n",
    "[미세먼지 데이터]\n",
    "* 21년도 미세먼지 데이터 : air_2021.csv\n",
    "* 22년도 미세먼지 데이터 : air_2022.csv\n",
    "\n",
    "[날씨 데이터]\n",
    "* 21년도 날씨 데이터 : weather_2021.csv\n",
    "* 22년도 날씨 데이터 : weather_2022.csv"
   ]
  },
  {
   "cell_type": "markdown",
   "id": "matched-broad",
   "metadata": {},
   "source": [
    "---"
   ]
  },
  {
   "cell_type": "markdown",
   "id": "warming-gentleman",
   "metadata": {},
   "source": [
    "# 1. 데이터 불러오기\n",
    "## 서울시 미세먼지 데이터와 기상 데이터를 불러오도록 하겠습니다."
   ]
  },
  {
   "cell_type": "markdown",
   "id": "vocational-animal",
   "metadata": {},
   "source": [
    "#### [실습문제1] 미세먼지 데이터 로딩\n",
    "* Pandas 라이브러리를 활용해서 'air_2021.csv'파일을 'air_21' 변수에, 'air_2022.csv'파일을 'air_22' 변수에 저장하고 그 데이터를 확인하세요.\n",
    "* 아래에 'Pandas'를 Import하고 두 개의 파일을 불러오고 Shape을 확인하는 소스코드를 작성하고 실행해보세요.\n",
    "* 구분자(sep) : ','\n",
    "* encoder = 'UTF-8'\n",
    "* index_col = 0"
   ]
  },
  {
   "cell_type": "code",
   "execution_count": null,
   "id": "a348f05f",
   "metadata": {},
   "outputs": [],
   "source": [
    "#기본 라이브러리들\n",
    "import numpy as np   # 수치연산\n",
    "import pandas as pd  # 데이터프레임(2차원) \n",
    "import matplotlib.pyplot as plt  # 그래프\n",
    "import seaborn as sns\n",
    "\n",
    "import warnings    # 경고메시지 제외\n",
    "warnings.filterwarnings(action='ignore')\n",
    "\n",
    "from datetime import datetime, timedelta"
   ]
  },
  {
   "cell_type": "code",
   "execution_count": null,
   "id": "b0c82373",
   "metadata": {},
   "outputs": [],
   "source": [
    "pd.set_option('display.max_rows', 10000)\n",
    "pd.set_option('display.max_columns', 100)"
   ]
  },
  {
   "cell_type": "code",
   "execution_count": null,
   "id": "saving-slope",
   "metadata": {},
   "outputs": [],
   "source": [
    "# 아래에 실습코드를 작성하고 결과를 확인합니다.\n",
    "air_21 = pd.read_csv('air_2021.csv', sep=',',encoding='UTF-8', index_col=0)\n",
    "air_22 = pd.read_csv('air_2022.csv', sep=',',encoding='UTF-8', index_col=0)"
   ]
  },
  {
   "cell_type": "code",
   "execution_count": null,
   "id": "6d77b925",
   "metadata": {},
   "outputs": [],
   "source": [
    "# 데이터 프레임의 Shape을 확인합니다.\n",
    "air_21.shape, air_22.shape\n"
   ]
  },
  {
   "cell_type": "code",
   "execution_count": null,
   "id": "8b7b20a4",
   "metadata": {},
   "outputs": [],
   "source": [
    "len(list(np.arange(0.01, 1, 0.1)))"
   ]
  },
  {
   "cell_type": "code",
   "execution_count": null,
   "id": "aaf759db",
   "metadata": {},
   "outputs": [],
   "source": [
    "len(list(range(51, 211, 10)))"
   ]
  },
  {
   "cell_type": "code",
   "execution_count": null,
   "id": "07664b4a",
   "metadata": {},
   "outputs": [],
   "source": [
    "10*10*16"
   ]
  },
  {
   "cell_type": "markdown",
   "id": "d7958fe9",
   "metadata": {},
   "source": [
    "#### [실습문제2] 날씨 데이터 로딩\n",
    "* Pandas 라이브러리를 활용해서 'weather_2021.csv'파일을 'weather_21' 변수에, 'weather_2022.csv'파일을 'weather_22' 변수에 저장하고 그 데이터를 확인하세요.\n",
    "* 아래에 'Pandas'를 Import하고 두 개의 파일을 불러오고 Shape을 확인하는 소스코드를 작성하고 실행해보세요.\n",
    "* 구분자(sep) : ','\n",
    "* encoder = 'cp949'"
   ]
  },
  {
   "cell_type": "code",
   "execution_count": null,
   "id": "25c17195",
   "metadata": {},
   "outputs": [],
   "source": [
    "# 아래에 실습코드를 작성하고 결과를 확인합니다.\n",
    "weather_21 = pd.read_csv('weather_2021.csv', sep=',', encoding='cp949', index_col=0)\n",
    "weather_22 = pd.read_csv('weather_2022.csv', sep=',', encoding='cp949', index_col=0)"
   ]
  },
  {
   "cell_type": "code",
   "execution_count": null,
   "id": "3b77003b",
   "metadata": {},
   "outputs": [],
   "source": [
    "# 데이터 프레임의 Shape을 확인합니다.\n",
    "weather_21.shape, weather_22.shape"
   ]
  },
  {
   "cell_type": "markdown",
   "id": "73396b42",
   "metadata": {},
   "source": [
    "---"
   ]
  },
  {
   "cell_type": "markdown",
   "id": "annoying-trout",
   "metadata": {},
   "source": [
    "# 2. 다양한 변수 확인"
   ]
  },
  {
   "cell_type": "markdown",
   "id": "romantic-johnson",
   "metadata": {},
   "source": [
    "#### [실습문제3] 미세먼지 데이터와 날씨 데이터의 다양한 변수를 확인해 보도록 하겠습니다\n",
    "\n",
    "* 미세먼지 데이터 : https://www.airkorea.or.kr/web/last_amb_hour_data?pMENU_NO=123\n",
    "\n",
    "\n",
    "* 날씨 데이터 : https://data.kma.go.kr/data/grnd/selectAsosRltmList.do?pgmNo=36\n",
    "\n",
    "* 도메인 지식 습득과 함께 변수에 대한 정보를 직접 파악해 보세요."
   ]
  },
  {
   "cell_type": "code",
   "execution_count": null,
   "id": "044e3374",
   "metadata": {},
   "outputs": [],
   "source": []
  },
  {
   "cell_type": "code",
   "execution_count": null,
   "id": "demographic-battery",
   "metadata": {},
   "outputs": [],
   "source": [
    "# 아래에 실습코드를 작성하고 결과를 확인합니다.\n",
    "air_21.head()"
   ]
  },
  {
   "cell_type": "code",
   "execution_count": null,
   "id": "fcd26119",
   "metadata": {},
   "outputs": [],
   "source": [
    "air_22.head()"
   ]
  },
  {
   "cell_type": "code",
   "execution_count": null,
   "id": "940a114a",
   "metadata": {},
   "outputs": [],
   "source": [
    "# 아래에 실습코드를 작성하고 결과를 확인합니다.\n",
    "weather_21.head()"
   ]
  },
  {
   "cell_type": "code",
   "execution_count": null,
   "id": "76019dd9",
   "metadata": {
    "scrolled": true
   },
   "outputs": [],
   "source": [
    "# 아래에 실습코드를 작성하고 결과를 확인합니다.\n",
    "weather_22.head()"
   ]
  },
  {
   "cell_type": "markdown",
   "id": "602b8bae",
   "metadata": {},
   "source": [
    "---"
   ]
  },
  {
   "cell_type": "code",
   "execution_count": null,
   "id": "dee487a8",
   "metadata": {
    "scrolled": true
   },
   "outputs": [],
   "source": [
    "weather_21.isna().sum()"
   ]
  },
  {
   "cell_type": "markdown",
   "id": "southeast-integration",
   "metadata": {},
   "source": [
    "# 3. 데이터 분석하기\n",
    "+ KeyPoint : 데이터의 형태를 살펴보고 다양한 분석기법을 통해 모델링에 적합하도록 정제요소를 선별할 수 있다.\n",
    "  * 관측치들의 패턴 탐색\n",
    "  * 잘못된 자료들을 탐색\n",
    "  * 변수들간의 관계 파악"
   ]
  },
  {
   "cell_type": "code",
   "execution_count": null,
   "id": "194ae01d",
   "metadata": {},
   "outputs": [],
   "source": [
    "# 시각화 한글폰트 설정\n",
    "plt.rc('font', family='Malgun Gothic')\n",
    "sns.set(font=\"Malgun Gothic\",#\"NanumGothicCoding\", \n",
    "        rc={\"axes.unicode_minus\":False}, # 마이너스 부호 깨짐 현상 해결\n",
    "        style='darkgrid')"
   ]
  },
  {
   "cell_type": "markdown",
   "id": "material-complex",
   "metadata": {},
   "source": [
    "#### [실습문제4] 미세먼지 데이터 알아보기\n",
    "* air_21,air_22 의 다양한 변수에 대하여 여러 그래프를 그려보고 인사이트를 도출해보세요."
   ]
  },
  {
   "cell_type": "code",
   "execution_count": null,
   "id": "2a610ade",
   "metadata": {
    "scrolled": false
   },
   "outputs": [],
   "source": [
    "# 아래에 실습코드를 작성하고 결과를 확인합니다.\n",
    "air_21.columns"
   ]
  },
  {
   "cell_type": "code",
   "execution_count": null,
   "id": "8c7cc861",
   "metadata": {},
   "outputs": [],
   "source": [
    "weather_21.columns"
   ]
  },
  {
   "cell_type": "code",
   "execution_count": null,
   "id": "c801040f",
   "metadata": {
    "scrolled": false
   },
   "outputs": [],
   "source": [
    "cols = ['SO2', 'CO', 'O3', 'NO2', 'PM10', 'PM25']\n",
    "good = [0.02, 2, 0.03, 0.03, 30]\n",
    "normal = [0.05, 9, 0.09, 0.06, 80]\n",
    "bad = [0.15,  15, 0.15, 0.2, 150] # 에어코리아 - 통합대기환경지수 기준\n",
    "# PM10 - 논문 '시계열 분석을 활용한 서울시 미세먼지' 예측 2페이지\n",
    "for i in range(len(cols)):\n",
    "    sns.kdeplot(air_21[cols[i]])\n",
    "    if(i < len(good)):\n",
    "        plt.axvline(x=good[i], color = 'skyblue')\n",
    "        plt.axvline(x=normal[i], color = 'green')\n",
    "        plt.axvline(x=bad[i], color = 'purple')\n",
    "    plt.show()"
   ]
  },
  {
   "cell_type": "code",
   "execution_count": null,
   "id": "19d87c98",
   "metadata": {},
   "outputs": [],
   "source": [
    "air_21.describe()"
   ]
  },
  {
   "cell_type": "code",
   "execution_count": null,
   "id": "702e2073",
   "metadata": {},
   "outputs": [],
   "source": [
    "air_21.loc[air_21['SO2'] > good[0]].describe()"
   ]
  },
  {
   "cell_type": "code",
   "execution_count": null,
   "id": "129447e3",
   "metadata": {},
   "outputs": [],
   "source": [
    "air_21.loc[air_21['O3'] > normal[2]].describe()"
   ]
  },
  {
   "cell_type": "code",
   "execution_count": null,
   "id": "d75d92a8",
   "metadata": {},
   "outputs": [],
   "source": [
    "air_21.corr()"
   ]
  },
  {
   "cell_type": "code",
   "execution_count": null,
   "id": "c15f7b32",
   "metadata": {},
   "outputs": [],
   "source": [
    "weather_21['일시'] = pd.to_datetime(weather_21['일시'])\n",
    "weather_22['일시'] = pd.to_datetime(weather_22['일시'])\n",
    "weather_21['hour'] = weather_21['일시'].dt.hour\n",
    "weather_21['일시'] = weather_21['일시'].dt.date\n",
    "weather_22['hour'] = weather_22['일시'].dt.hour\n",
    "weather_22['일시'] = weather_22['일시'].dt.date"
   ]
  },
  {
   "cell_type": "code",
   "execution_count": null,
   "id": "8395fdac",
   "metadata": {},
   "outputs": [],
   "source": []
  },
  {
   "cell_type": "code",
   "execution_count": null,
   "id": "8684af1f",
   "metadata": {},
   "outputs": [],
   "source": []
  },
  {
   "cell_type": "code",
   "execution_count": null,
   "id": "06bef760",
   "metadata": {},
   "outputs": [],
   "source": []
  },
  {
   "cell_type": "code",
   "execution_count": null,
   "id": "3fa311a7",
   "metadata": {},
   "outputs": [],
   "source": [
    "List = list(air_21['측정일시'])\n",
    "for i in range(len(List)):\n",
    "    string = str(List[i])\n",
    "    date = string[:8]\n",
    "    hour = string[-2:]\n",
    "    formatted = datetime.strptime(date,'%Y%m%d')\n",
    "    formatted = formatted + timedelta(hours=int(hour))\n",
    "    air_21['측정일시'][i] = formatted\n",
    "\n",
    "air_21['측정일시'] = pd.to_datetime(air_21['측정일시'])\n",
    "air_21['hour'] = air_21['측정일시'].dt.hour\n",
    "air_21['측정일시'] = air_21['측정일시'].dt.date"
   ]
  },
  {
   "cell_type": "code",
   "execution_count": null,
   "id": "f0e831de",
   "metadata": {
    "scrolled": false
   },
   "outputs": [],
   "source": [
    "# 아래에 실습코드를 작성하고 결과를 확인합니다.\n",
    "air_21.isna().sum()\n",
    "\n",
    "\n"
   ]
  },
  {
   "cell_type": "code",
   "execution_count": null,
   "id": "a4d5c4f7",
   "metadata": {},
   "outputs": [],
   "source": [
    "air_drop = ['지역', '망', '측정소코드', '측정소명', '주소']\n",
    "temporary2 = air_21.loc[air_21['SO2'].isnull()].drop(air_drop, axis=1)\n",
    "temporary2.to_excel('temporary2.xlsx', index=False)"
   ]
  },
  {
   "cell_type": "code",
   "execution_count": null,
   "id": "fddaa36f",
   "metadata": {},
   "outputs": [],
   "source": [
    "air_21.drop(air_drop, axis=1).corr()"
   ]
  },
  {
   "cell_type": "code",
   "execution_count": null,
   "id": "86892a60",
   "metadata": {},
   "outputs": [],
   "source": [
    "# 위 차트를 통해 알게된 사실을 정리해봅시다.\n",
    "# 1. 일단 ['지역', '망', '측정소코드', '측정소명', '주소']은 제거하는 걸로..\n",
    "# 2. PM25는 PM10보다 SO2, CO, O3, NO2에 더 영향을 받는다. 그 중, CO와 NO2에는 영향을 많이 받는 편이다.\n",
    "# 3. PM10과 PM25는 O3와는 상관이 없는 수준이다.\n",
    "# 4. 결측치가 일부 존재하므로, 이를 어떻게 보간할 지 생각해보아야 한다.\n",
    "# 5. CO와 NO2는 서로 강한 상관 관계를 가진다.\n",
    "# 6. SO2는 모두 좋음 수치이다.\n",
    "# 7. 약 42.7%의 O3 수치가 보통 이상의 수치를 지닌다."
   ]
  },
  {
   "cell_type": "markdown",
   "id": "bb6af03a",
   "metadata": {},
   "source": [
    "#### [실습문제5] 날씨 데이터 알아보기\n",
    "* weather_21, weather_22 의 다양한 변수에 대하여 여러 그래프를 그려보고 인사이트를 도출해보세요."
   ]
  },
  {
   "cell_type": "code",
   "execution_count": null,
   "id": "0fc18ee3",
   "metadata": {},
   "outputs": [],
   "source": [
    "weather_21.info()"
   ]
  },
  {
   "cell_type": "code",
   "execution_count": null,
   "id": "d0d68440",
   "metadata": {},
   "outputs": [],
   "source": [
    "weather_21.isna().sum()"
   ]
  },
  {
   "cell_type": "code",
   "execution_count": null,
   "id": "eb26af58",
   "metadata": {},
   "outputs": [],
   "source": [
    "# 아래에 실습코드를 작성하고 결과를 확인합니다.\n",
    "cols = ['기온(°C)','습도(%)', '이슬점온도(°C)',\n",
    "       '강수량(mm)', '풍속(m/s)', '풍향(16방위)', '증기압(hPa)',\n",
    "       '현지기압(hPa)', '해면기압(hPa)', '일조(hr)', '일사(MJ/m2)', '적설(cm)', '전운량(10분위)',\n",
    "       '중하층운량(10분위)', '최저운고(100m )', '시정(10m)', '지면온도(°C)', '5cm 지중온도(°C)',\n",
    "       '10cm 지중온도(°C)', '20cm 지중온도(°C)', '30cm 지중온도(°C)']\n",
    "for column in cols:\n",
    "    plt.hist(weather_21[column], bins = 15, edgecolor = 'gray')\n",
    "    plt.xlabel(column)\n",
    "    plt.ylabel('Frequency')\n",
    "    plt.show()"
   ]
  },
  {
   "cell_type": "code",
   "execution_count": null,
   "id": "ede3eb85",
   "metadata": {
    "scrolled": false
   },
   "outputs": [],
   "source": [
    "# 아래에 실습코드를 작성하고 결과를 확인합니다.\n",
    "drop_col = ['지점명', '지면상태(지면상태코드)', '현상번호(국내식)','3시간신적설(cm)','운형(운형약어)','지면상태(지면상태코드)',\n",
    "           '기온 QC플래그', '강수량 QC플래그', '풍속 QC플래그', '풍향 QC플래그',\n",
    "          '습도 QC플래그', '현지기압 QC플래그', '해면기압 QC플래그', '일조 QC플래그', '일사 QC플래그',\n",
    "          '지면온도 QC플래그']\n",
    "weather_21_1 = weather_21.drop(drop_col, axis=1)\n",
    "temporary = weather_21.loc[weather_21['일조(hr)'].isnull()].drop(drop_col, axis=1)\n",
    "temporary.to_excel('temporary.xlsx', index=False)"
   ]
  },
  {
   "cell_type": "code",
   "execution_count": null,
   "id": "42a5accf",
   "metadata": {},
   "outputs": [],
   "source": [
    "temporary3 = weather_21.loc[(weather_21['일사(MJ/m2)'].isnull() | weather_21['일사 QC플래그'].isnull())\n",
    "                           & ((weather_21['일사(MJ/m2)'].isnull() & weather_21['일사 QC플래그'].isnull()) == False)].drop(drop_col, axis=1)\n",
    "temporary3.to_excel('temporary3.xlsx', index=False)"
   ]
  },
  {
   "cell_type": "code",
   "execution_count": null,
   "id": "bc864b7e",
   "metadata": {},
   "outputs": [],
   "source": [
    "temporary4 = weather_21.loc[(weather_21['일조(hr)'].isnull() | weather_21['일조 QC플래그'].isnull())\n",
    "                           & ((weather_21['일조(hr)'].isnull() & weather_21['일조 QC플래그'].isnull()) == False)].drop(drop_col, axis=1)\n",
    "temporary4.to_excel('temporary4.xlsx', index=False)"
   ]
  },
  {
   "cell_type": "code",
   "execution_count": null,
   "id": "bdb0d580",
   "metadata": {},
   "outputs": [],
   "source": [
    "temporary = weather_21.loc[weather_21['적설(cm)'].notnull()].drop(drop_col, axis=1)\n",
    "temporary.to_excel('temporary.xlsx', index=False)"
   ]
  },
  {
   "cell_type": "code",
   "execution_count": null,
   "id": "5c9c0818",
   "metadata": {},
   "outputs": [],
   "source": [
    "weather_21['일사 QC플래그'].unique()"
   ]
  },
  {
   "cell_type": "code",
   "execution_count": null,
   "id": "fbbd62c5",
   "metadata": {
    "scrolled": true
   },
   "outputs": [],
   "source": [
    "weather_21['일조 QC플래그'].unique()"
   ]
  },
  {
   "cell_type": "code",
   "execution_count": null,
   "id": "d2450110",
   "metadata": {},
   "outputs": [],
   "source": [
    "QC_cols = ['기온 QC플래그', '강수량 QC플래그', '풍속 QC플래그', '풍향 QC플래그',\n",
    "          '습도 QC플래그', '현지기압 QC플래그', '해면기압 QC플래그', '일조 QC플래그', '일사 QC플래그',\n",
    "          '지면온도 QC플래그']\n",
    "\n",
    "for column in QC_cols:\n",
    "    print(f'{column} : ', weather_21[column].unique())\n",
    "print('-'*30)\n",
    "for column in QC_cols:\n",
    "    print(f'{column} : ', weather_22[column].unique())"
   ]
  },
  {
   "cell_type": "code",
   "execution_count": null,
   "id": "0540526f",
   "metadata": {},
   "outputs": [],
   "source": [
    "weather_21['지면온도 QC플래그'].loc[weather_21['지면온도 QC플래그'] == 0.].count()"
   ]
  },
  {
   "cell_type": "code",
   "execution_count": null,
   "id": "830facbc",
   "metadata": {},
   "outputs": [],
   "source": [
    "weather_21['일시'] = pd.to_datetime(weather_21['일시'])\n",
    "weather_22['일시'] = pd.to_datetime(weather_22['일시'])\n",
    "weather_21['hour'] = weather_21['일시'].dt.hour\n",
    "weather_21['일시'] = weather_21['일시'].dt.date\n",
    "weather_22['hour'] = weather_22['일시'].dt.hour\n",
    "weather_22['일시'] = weather_22['일시'].dt.date"
   ]
  },
  {
   "cell_type": "code",
   "execution_count": null,
   "id": "39beac0b",
   "metadata": {},
   "outputs": [],
   "source": [
    "# temporary = weather_22.loc[weather_22['일조(hr)'].isnull()].drop(drop_col, axis=1)\n",
    "# temporary.to_excel('temporary.xlsx', index=False)\n",
    "temporary2 = weather_22.loc[weather_22['일사(MJ/m2)'].isnull()].drop(drop_col, axis=1)\n",
    "temporary2.to_excel('temporary2.xlsx', index=False)"
   ]
  },
  {
   "cell_type": "code",
   "execution_count": null,
   "id": "ade8331a",
   "metadata": {},
   "outputs": [],
   "source": [
    "temporary3 = weather_21.loc[weather_21['강수량(mm)'].isnull() & weather_21['강수량 QC플래그'].notnull()].drop(drop_col, axis=1)\n",
    "temporary3.to_excel('temporary3.xlsx', index=False)"
   ]
  },
  {
   "cell_type": "code",
   "execution_count": null,
   "id": "acee0fdc",
   "metadata": {},
   "outputs": [],
   "source": [
    "weather_21.isna().sum()"
   ]
  },
  {
   "cell_type": "code",
   "execution_count": null,
   "id": "b3a32b0e",
   "metadata": {
    "scrolled": true
   },
   "outputs": [],
   "source": [
    "cols2 = ['시정(10m)', '지면온도(°C)', '5cm 지중온도(°C)', '10cm 지중온도(°C)', '20cm 지중온도(°C)', '30cm 지중온도(°C)', 'hour']\n",
    "temp = weather_21.drop(drop_col, axis=1)\n",
    "temp.drop(cols2, axis=1).corr()"
   ]
  },
  {
   "cell_type": "code",
   "execution_count": null,
   "id": "8bb71e77",
   "metadata": {
    "scrolled": true
   },
   "outputs": [],
   "source": [
    "temporary4 = weather_21.loc[weather_21['최저운고(100m )'].isnull()].drop(drop_col, axis=1) # 4212개\n",
    "# 그 중에서 전운량과 중하층운량이 둘 중 하나가 null인 것은 1개\n",
    "temporary4.to_excel('temporary4.xlsx', index=False)"
   ]
  },
  {
   "cell_type": "code",
   "execution_count": null,
   "id": "9b523c87",
   "metadata": {
    "scrolled": true
   },
   "outputs": [],
   "source": [
    "# temporary5 = weather_21.loc[weather_21['최저운고(100m )'].notnull()].drop(drop_col, axis=1) 4547개\n",
    "# temporary5.to_excel('temporary5.xlsx', index=False)\n",
    "weather_21.loc[weather_21['최저운고(100m )'].notnull()].drop(drop_col, axis=1).info()"
   ]
  },
  {
   "cell_type": "code",
   "execution_count": null,
   "id": "190ca292",
   "metadata": {},
   "outputs": [],
   "source": [
    "weather_21.describe()"
   ]
  },
  {
   "cell_type": "code",
   "execution_count": null,
   "id": "14e30e3e",
   "metadata": {},
   "outputs": [],
   "source": [
    "temporary6 = weather_21.loc[(weather_21['최저운고(100m )'].isnull()) &\n",
    "              ((weather_21['전운량(10분위)'] == 0) | (weather_21['중하층운량(10분위)'] == 0))].drop(drop_col, axis=1)\n",
    "temporary6.shape"
   ]
  },
  {
   "cell_type": "code",
   "execution_count": null,
   "id": "812613fe",
   "metadata": {},
   "outputs": [],
   "source": [
    "temporary7 = weather_21.loc[(weather_21['최저운고(100m )'].notnull()) &\n",
    "              ((weather_21['전운량(10분위)'] == 0) | (weather_21['중하층운량(10분위)'] == 0))].drop(drop_col, axis=1)\n",
    "temporary7.head()"
   ]
  },
  {
   "cell_type": "code",
   "execution_count": null,
   "id": "d46a477a",
   "metadata": {},
   "outputs": [],
   "source": []
  },
  {
   "cell_type": "code",
   "execution_count": null,
   "id": "7311008b",
   "metadata": {},
   "outputs": [],
   "source": [
    "temporary8 = weather_21.loc[weather_21['최저운고(100m )'].notnull()].drop(drop_col, axis=1)\n",
    "temporary8.to_excel('temporary8.xlsx', index=False)"
   ]
  },
  {
   "cell_type": "code",
   "execution_count": null,
   "id": "ef6352db",
   "metadata": {},
   "outputs": [],
   "source": [
    "temporary9 = weather_21.loc[weather_21['최저운고(100m )'] == 0].drop(drop_col, axis=1)\n",
    "temporary9.to_excel('temporary9.xlsx', index=False)"
   ]
  },
  {
   "cell_type": "code",
   "execution_count": null,
   "id": "70846abd",
   "metadata": {
    "scrolled": true
   },
   "outputs": [],
   "source": [
    "temp = weather_21.loc[(weather_21['최저운고(100m )'].isnull()) &\n",
    "              (weather_21['전운량(10분위)'].notnull() | weather_21['중하층운량(10분위)'].notnull())].drop(drop_col, axis=1)\n",
    "temp.head()"
   ]
  },
  {
   "cell_type": "code",
   "execution_count": null,
   "id": "9c02758e",
   "metadata": {},
   "outputs": [],
   "source": [
    "weather_21.loc[(weather_21['최저운고(100m )'].isnull()) &\n",
    "              (weather_21['전운량(10분위)'].isnull() & weather_21['중하층운량(10분위)'].isnull())].drop(drop_col, axis=1).info()\n"
   ]
  },
  {
   "cell_type": "code",
   "execution_count": null,
   "id": "1a101510",
   "metadata": {
    "scrolled": false
   },
   "outputs": [],
   "source": [
    "# 아래에 실습코드를 작성하고 결과를 확인합니다.\n",
    "\n",
    "\n",
    "\n"
   ]
  },
  {
   "cell_type": "code",
   "execution_count": null,
   "id": "88c96dab",
   "metadata": {},
   "outputs": [],
   "source": [
    "# 위 차트를 통해 알게된 사실을 정리해봅시다.(집중! 데이터 분포의 모양을 잘 살펴봐주세요.)\n",
    "# 1. 온도, 습도, 이슬점 온도는 서로 비슷한 형태를 지님.\n",
    "# 2. 현지기압과 해면기압은 유사한 그래프 모양을 지님.\n",
    "# 3. 일조, 일사가 결측치 인 경우 2021-01-07 11:00~13:00 제외하고 모두 밤이다. (weather_22는 밤일때 모두 결측치를 가짐. 낮일때는 결측치를 갖지 않음.)\n",
    "# 4. 일조, 일사 QC플래그는 모두 9 or nan 값을 지님. 9일때는 모두 일조, 일사 결측치인 날과 같다.\n",
    "# 5. 일조 + 일조 QC 플래그, 일사 + 일사 QC 플래그 = 전체 데이터. 일조값이 있을 때는 일조 QC 플래그가 없고,\n",
    "# QC 플래그가 있으면 일조값이 없음. -> 결측치 유무만 알려주고 정상인지 오류인지는 알려주지 않음.\n",
    "# 결측치를 처리한다면 QC 그래프는 사용하지 않을듯.\n",
    "# QC 플래그 : (0. 정상, 1. 오류, 9. 결측) \n",
    "# 6. QC 플래그들의 unique를 확인한 결과 모두 9 or nan 값을 지님.\n",
    "# 지면온도 QC 플래그는 0인 값을 지닌 row가 있지만 19개 정도로, 이 또한 정상을 의미하므로 특별한 의미를 가지지 않는 것 같다.\n",
    "# 눈이 올 때가 과연 미세먼지의 영향을 끼칠까? 전운량과 중하층운량은?\n",
    "# 최저운고 : 운량 5/8 관측값이 있을 경우 이들 값중 최저 운고값 (항공에서 측정함)"
   ]
  }
 ],
 "metadata": {
  "kernelspec": {
   "display_name": "Python 3 (ipykernel)",
   "language": "python",
   "name": "python3"
  },
  "language_info": {
   "codemirror_mode": {
    "name": "ipython",
    "version": 3
   },
   "file_extension": ".py",
   "mimetype": "text/x-python",
   "name": "python",
   "nbconvert_exporter": "python",
   "pygments_lexer": "ipython3",
   "version": "3.9.12"
  },
  "vscode": {
   "interpreter": {
    "hash": "f08154012ddadd8e950e6e9e035c7a7b32c136e7647e9b7c77e02eb723a8bedb"
   }
  }
 },
 "nbformat": 4,
 "nbformat_minor": 5
}
