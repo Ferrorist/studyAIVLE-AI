{
 "cells": [
  {
   "cell_type": "code",
   "execution_count": 20,
   "id": "0759ff4f",
   "metadata": {},
   "outputs": [],
   "source": [
    "#라이브러리들을 불러오자.\n",
    "import numpy as np\n",
    "import pandas as pd\n",
    "import matplotlib.pyplot as plt\n",
    "import seaborn as sns\n",
    "\n",
    "from sklearn.model_selection import train_test_split\n",
    "from sklearn.preprocessing import * # scaler\n",
    "import joblib\n",
    "\n",
    "from sklearn.linear_model import LinearRegression\n",
    "from sklearn.neighbors import KNeighborsRegressor\n",
    "from sklearn.linear_model import LogisticRegression\n",
    "from sklearn.tree import DecisionTreeClassifier, plot_tree, DecisionTreeRegressor\n",
    "from sklearn.neighbors import KNeighborsClassifier\n",
    "from sklearn.svm import SVC\n",
    "from sklearn.metrics import * \n",
    "from sklearn.model_selection import RandomizedSearchCV, GridSearchCV\n",
    "from sklearn.tree import plot_tree\n",
    "from sklearn.ensemble import *\n",
    "from xgboost import XGBClassifier, plot_tree\n",
    "\n",
    "import warnings    # 경고메시지 제외\n",
    "warnings.filterwarnings(action='ignore')"
   ]
  },
  {
   "cell_type": "code",
   "execution_count": 21,
   "id": "4695b436",
   "metadata": {},
   "outputs": [],
   "source": [
    "train_data = pd.read_csv('pre_weather_2021.csv')\n",
    "test_data = pd.read_csv('pre_weather_2022.csv')"
   ]
  },
  {
   "cell_type": "code",
   "execution_count": 22,
   "id": "2dfc04c6",
   "metadata": {},
   "outputs": [
    {
     "data": {
      "text/plain": [
       "(8759, 23)"
      ]
     },
     "execution_count": 22,
     "metadata": {},
     "output_type": "execute_result"
    }
   ],
   "source": [
    "train_data.shape"
   ]
  },
  {
   "cell_type": "code",
   "execution_count": 23,
   "id": "3702df02",
   "metadata": {},
   "outputs": [],
   "source": [
    "train_data.dropna(axis=0, inplace=True)"
   ]
  },
  {
   "cell_type": "code",
   "execution_count": 24,
   "id": "dc3e8c92",
   "metadata": {},
   "outputs": [
    {
     "data": {
      "text/plain": [
       "(6951, 23)"
      ]
     },
     "execution_count": 24,
     "metadata": {},
     "output_type": "execute_result"
    }
   ],
   "source": [
    "train_data.shape"
   ]
  },
  {
   "cell_type": "code",
   "execution_count": 25,
   "id": "9a47e002",
   "metadata": {},
   "outputs": [],
   "source": [
    "def printPerform1(y_val, pred):\n",
    "    print('r2 score : ', round(r2_score(y_val, pred),5))\n",
    "    print('RMSE : ', round(mean_squared_error(y_val, pred, squared=False),5))\n",
    "    print('MAE : ', round(mean_absolute_error(y_val, pred),5))\n",
    "    print('MAPE : ', round(mean_absolute_percentage_error(y_val,pred),5))\n",
    "    print('정확도 : ',round((1-mean_absolute_percentage_error(y_val,pred))*100,5))"
   ]
  },
  {
   "cell_type": "code",
   "execution_count": 26,
   "id": "ad25c15f",
   "metadata": {},
   "outputs": [],
   "source": [
    "target = '최저운고(100m )'\n",
    "x = train_data.drop(target, axis=1)\n",
    "y = train_data.loc[:, target]"
   ]
  },
  {
   "cell_type": "code",
   "execution_count": 33,
   "id": "91b2147e",
   "metadata": {},
   "outputs": [
    {
     "data": {
      "text/html": [
       "<div>\n",
       "<style scoped>\n",
       "    .dataframe tbody tr th:only-of-type {\n",
       "        vertical-align: middle;\n",
       "    }\n",
       "\n",
       "    .dataframe tbody tr th {\n",
       "        vertical-align: top;\n",
       "    }\n",
       "\n",
       "    .dataframe thead th {\n",
       "        text-align: right;\n",
       "    }\n",
       "</style>\n",
       "<table border=\"1\" class=\"dataframe\">\n",
       "  <thead>\n",
       "    <tr style=\"text-align: right;\">\n",
       "      <th></th>\n",
       "      <th>기온(°C)</th>\n",
       "      <th>강수량(mm)</th>\n",
       "      <th>풍속(m/s)</th>\n",
       "      <th>풍향(16방위)</th>\n",
       "      <th>습도(%)</th>\n",
       "      <th>증기압(hPa)</th>\n",
       "      <th>이슬점온도(°C)</th>\n",
       "      <th>현지기압(hPa)</th>\n",
       "      <th>해면기압(hPa)</th>\n",
       "      <th>일조(hr)</th>\n",
       "      <th>...</th>\n",
       "      <th>적설(cm)</th>\n",
       "      <th>전운량(10분위)</th>\n",
       "      <th>중하층운량(10분위)</th>\n",
       "      <th>시정(10m)</th>\n",
       "      <th>지면온도(°C)</th>\n",
       "      <th>5cm 지중온도(°C)</th>\n",
       "      <th>10cm 지중온도(°C)</th>\n",
       "      <th>20cm 지중온도(°C)</th>\n",
       "      <th>30cm 지중온도(°C)</th>\n",
       "      <th>hour</th>\n",
       "    </tr>\n",
       "  </thead>\n",
       "  <tbody>\n",
       "    <tr>\n",
       "      <th>0</th>\n",
       "      <td>-8.7</td>\n",
       "      <td>0.0</td>\n",
       "      <td>2.4</td>\n",
       "      <td>270.0</td>\n",
       "      <td>68</td>\n",
       "      <td>2.2</td>\n",
       "      <td>-13.5</td>\n",
       "      <td>1016.4</td>\n",
       "      <td>1027.7</td>\n",
       "      <td>0.0</td>\n",
       "      <td>...</td>\n",
       "      <td>0.0</td>\n",
       "      <td>0.0</td>\n",
       "      <td>0</td>\n",
       "      <td>2000</td>\n",
       "      <td>-6.9</td>\n",
       "      <td>-1.0</td>\n",
       "      <td>-0.8</td>\n",
       "      <td>0.3</td>\n",
       "      <td>1.6</td>\n",
       "      <td>1</td>\n",
       "    </tr>\n",
       "    <tr>\n",
       "      <th>1</th>\n",
       "      <td>-9.1</td>\n",
       "      <td>0.0</td>\n",
       "      <td>1.6</td>\n",
       "      <td>270.0</td>\n",
       "      <td>69</td>\n",
       "      <td>2.1</td>\n",
       "      <td>-13.7</td>\n",
       "      <td>1016.2</td>\n",
       "      <td>1027.5</td>\n",
       "      <td>0.0</td>\n",
       "      <td>...</td>\n",
       "      <td>0.0</td>\n",
       "      <td>0.0</td>\n",
       "      <td>0</td>\n",
       "      <td>2000</td>\n",
       "      <td>-7.1</td>\n",
       "      <td>-1.1</td>\n",
       "      <td>-0.8</td>\n",
       "      <td>0.3</td>\n",
       "      <td>1.6</td>\n",
       "      <td>2</td>\n",
       "    </tr>\n",
       "    <tr>\n",
       "      <th>2</th>\n",
       "      <td>-9.3</td>\n",
       "      <td>0.0</td>\n",
       "      <td>1.1</td>\n",
       "      <td>250.0</td>\n",
       "      <td>70</td>\n",
       "      <td>2.1</td>\n",
       "      <td>-13.7</td>\n",
       "      <td>1016.8</td>\n",
       "      <td>1028.1</td>\n",
       "      <td>0.0</td>\n",
       "      <td>...</td>\n",
       "      <td>0.0</td>\n",
       "      <td>0.0</td>\n",
       "      <td>0</td>\n",
       "      <td>2000</td>\n",
       "      <td>-7.3</td>\n",
       "      <td>-1.2</td>\n",
       "      <td>-0.9</td>\n",
       "      <td>0.3</td>\n",
       "      <td>1.6</td>\n",
       "      <td>3</td>\n",
       "    </tr>\n",
       "    <tr>\n",
       "      <th>3</th>\n",
       "      <td>-9.3</td>\n",
       "      <td>0.0</td>\n",
       "      <td>0.3</td>\n",
       "      <td>0.0</td>\n",
       "      <td>71</td>\n",
       "      <td>2.2</td>\n",
       "      <td>-13.5</td>\n",
       "      <td>1016.2</td>\n",
       "      <td>1027.5</td>\n",
       "      <td>0.0</td>\n",
       "      <td>...</td>\n",
       "      <td>0.0</td>\n",
       "      <td>0.0</td>\n",
       "      <td>0</td>\n",
       "      <td>2000</td>\n",
       "      <td>-7.5</td>\n",
       "      <td>-1.3</td>\n",
       "      <td>-1.0</td>\n",
       "      <td>0.2</td>\n",
       "      <td>1.5</td>\n",
       "      <td>4</td>\n",
       "    </tr>\n",
       "    <tr>\n",
       "      <th>4</th>\n",
       "      <td>-9.7</td>\n",
       "      <td>0.0</td>\n",
       "      <td>1.9</td>\n",
       "      <td>20.0</td>\n",
       "      <td>72</td>\n",
       "      <td>2.1</td>\n",
       "      <td>-13.8</td>\n",
       "      <td>1015.6</td>\n",
       "      <td>1026.9</td>\n",
       "      <td>0.0</td>\n",
       "      <td>...</td>\n",
       "      <td>0.0</td>\n",
       "      <td>0.0</td>\n",
       "      <td>0</td>\n",
       "      <td>2000</td>\n",
       "      <td>-7.6</td>\n",
       "      <td>-1.3</td>\n",
       "      <td>-1.0</td>\n",
       "      <td>0.2</td>\n",
       "      <td>1.5</td>\n",
       "      <td>5</td>\n",
       "    </tr>\n",
       "  </tbody>\n",
       "</table>\n",
       "<p>5 rows × 21 columns</p>\n",
       "</div>"
      ],
      "text/plain": [
       "   기온(°C)  강수량(mm)  풍속(m/s)  풍향(16방위)  습도(%)  증기압(hPa)  이슬점온도(°C)  현지기압(hPa)  \\\n",
       "0    -8.7      0.0      2.4     270.0     68       2.2      -13.5     1016.4   \n",
       "1    -9.1      0.0      1.6     270.0     69       2.1      -13.7     1016.2   \n",
       "2    -9.3      0.0      1.1     250.0     70       2.1      -13.7     1016.8   \n",
       "3    -9.3      0.0      0.3       0.0     71       2.2      -13.5     1016.2   \n",
       "4    -9.7      0.0      1.9      20.0     72       2.1      -13.8     1015.6   \n",
       "\n",
       "   해면기압(hPa)  일조(hr)  ...  적설(cm)  전운량(10분위)  중하층운량(10분위)  시정(10m)  지면온도(°C)  \\\n",
       "0     1027.7     0.0  ...     0.0        0.0            0     2000      -6.9   \n",
       "1     1027.5     0.0  ...     0.0        0.0            0     2000      -7.1   \n",
       "2     1028.1     0.0  ...     0.0        0.0            0     2000      -7.3   \n",
       "3     1027.5     0.0  ...     0.0        0.0            0     2000      -7.5   \n",
       "4     1026.9     0.0  ...     0.0        0.0            0     2000      -7.6   \n",
       "\n",
       "   5cm 지중온도(°C)  10cm 지중온도(°C)  20cm 지중온도(°C)  30cm 지중온도(°C)  hour  \n",
       "0          -1.0           -0.8            0.3            1.6     1  \n",
       "1          -1.1           -0.8            0.3            1.6     2  \n",
       "2          -1.2           -0.9            0.3            1.6     3  \n",
       "3          -1.3           -1.0            0.2            1.5     4  \n",
       "4          -1.3           -1.0            0.2            1.5     5  \n",
       "\n",
       "[5 rows x 21 columns]"
      ]
     },
     "execution_count": 33,
     "metadata": {},
     "output_type": "execute_result"
    }
   ],
   "source": [
    "x.head()"
   ]
  },
  {
   "cell_type": "code",
   "execution_count": 28,
   "id": "05663fc4",
   "metadata": {},
   "outputs": [],
   "source": [
    "x.drop('측정일시', axis=1, inplace=True)"
   ]
  },
  {
   "cell_type": "code",
   "execution_count": 29,
   "id": "8559a933",
   "metadata": {},
   "outputs": [],
   "source": [
    "x_train, x_val, y_train, y_val = train_test_split(x, y, test_size=0.2)"
   ]
  },
  {
   "cell_type": "code",
   "execution_count": 30,
   "id": "31a6cd2d",
   "metadata": {},
   "outputs": [
    {
     "name": "stdout",
     "output_type": "stream",
     "text": [
      "r2 score :  0.37149\n",
      "RMSE :  10.69828\n",
      "MAE :  7.2598\n",
      "MAPE :  6822040544419847.0\n",
      "정확도 :  -6.822040544419845e+17\n"
     ]
    }
   ],
   "source": [
    "model1 = LinearRegression()\n",
    "model1.fit(x_train, y_train)\n",
    "pred1 = model1.predict(x_val)\n",
    "printPerform1(y_val, pred1)"
   ]
  },
  {
   "cell_type": "code",
   "execution_count": 31,
   "id": "2ae96df9",
   "metadata": {
    "scrolled": true
   },
   "outputs": [
    {
     "name": "stdout",
     "output_type": "stream",
     "text": [
      "r2 score :  0.48942\n",
      "RMSE :  9.64253\n",
      "MAE :  5.07592\n",
      "MAPE :  0.40932\n",
      "정확도 :  59.0679\n"
     ]
    }
   ],
   "source": [
    "params2 = {'max_depth' : range(1,6), 'min_samples_leaf' : range(1, 101, 10)}\n",
    "model2 = GridSearchCV(DecisionTreeRegressor(), params2, cv=10)\n",
    "model2.fit(x_train, y_train)\n",
    "pred2 = model2.predict(x_val)\n",
    "printPerform1(y_val, pred2)"
   ]
  },
  {
   "cell_type": "code",
   "execution_count": null,
   "id": "27cc2944",
   "metadata": {},
   "outputs": [],
   "source": [
    "params3 = {'n_estimators' : range(10,201,10)}\n",
    "model3 = GridSearchCV(RandomForestRegressor(), params3, cv=10)\n",
    "model3.fit(x_train, y_train)\n",
    "pred3 = model3.predict(x_val)\n",
    "printPerform1(y_val, pred3)"
   ]
  },
  {
   "cell_type": "code",
   "execution_count": null,
   "id": "fa3a683e",
   "metadata": {},
   "outputs": [],
   "source": []
  },
  {
   "cell_type": "code",
   "execution_count": null,
   "id": "76fc207e",
   "metadata": {},
   "outputs": [],
   "source": []
  }
 ],
 "metadata": {
  "kernelspec": {
   "display_name": "Python 3 (ipykernel)",
   "language": "python",
   "name": "python3"
  },
  "language_info": {
   "codemirror_mode": {
    "name": "ipython",
    "version": 3
   },
   "file_extension": ".py",
   "mimetype": "text/x-python",
   "name": "python",
   "nbconvert_exporter": "python",
   "pygments_lexer": "ipython3",
   "version": "3.9.12"
  }
 },
 "nbformat": 4,
 "nbformat_minor": 5
}
